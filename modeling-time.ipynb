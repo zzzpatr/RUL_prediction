{
 "cells": [
  {
   "cell_type": "code",
   "execution_count": 1,
   "metadata": {},
   "outputs": [],
   "source": [
    "import numpy as np"
   ]
  },
  {
   "cell_type": "code",
   "execution_count": 2,
   "metadata": {},
   "outputs": [],
   "source": [
    "import matplotlib.pyplot as plt"
   ]
  },
  {
   "cell_type": "code",
   "execution_count": 3,
   "metadata": {},
   "outputs": [],
   "source": [
    "%matplotlib inline\n",
    "import matplotlib.pyplot as plt\n",
    "import numpy as np\n",
    "import pandas as pd\n",
    "import seaborn as sns\n",
    "from sklearn.ensemble import RandomForestRegressor\n",
    "from sklearn.ensemble import  RandomForestClassifier\n",
    "from sklearn import metrics"
   ]
  },
  {
   "cell_type": "code",
   "execution_count": 4,
   "metadata": {},
   "outputs": [],
   "source": [
    "import numpy as np"
   ]
  },
  {
   "cell_type": "code",
   "execution_count": 5,
   "metadata": {},
   "outputs": [],
   "source": [
    "import pandas as pd\n",
    "import os\n",
    "import glob"
   ]
  },
  {
   "cell_type": "code",
   "execution_count": 10,
   "metadata": {},
   "outputs": [],
   "source": [
    "dir_list = [\"1_1\",\"1_2\",\"2_1\",\"2_2\",\"3_1\",\"3_2\"]"
   ]
  },
  {
   "cell_type": "code",
   "execution_count": 11,
   "metadata": {},
   "outputs": [],
   "source": [
    "test_dir_list = [\"1_3\",\"1_4\",\"1_5\",\"1_6\",\"1_7\",\"2_3\",\"2_4\",\"2_5\",\"2_6\",\"2_7\",\"3_3\"]"
   ]
  },
  {
   "cell_type": "markdown",
   "metadata": {},
   "source": [
    "### setting 1"
   ]
  },
  {
   "cell_type": "code",
   "execution_count": 9,
   "metadata": {},
   "outputs": [
    {
     "ename": "NameError",
     "evalue": "name 'dir_list' is not defined",
     "output_type": "error",
     "traceback": [
      "\u001b[1;31m---------------------------------------------------------------------------\u001b[0m",
      "\u001b[1;31mNameError\u001b[0m                                 Traceback (most recent call last)",
      "\u001b[1;32m<ipython-input-9-ff7f66f8d2bb>\u001b[0m in \u001b[0;36m<module>\u001b[1;34m\u001b[0m\n\u001b[0;32m      1\u001b[0m \u001b[0mindex\u001b[0m \u001b[1;33m=\u001b[0m \u001b[1;36m1\u001b[0m\u001b[1;33m\u001b[0m\u001b[1;33m\u001b[0m\u001b[0m\n\u001b[0;32m      2\u001b[0m \u001b[0mall_df\u001b[0m \u001b[1;33m=\u001b[0m \u001b[0mpd\u001b[0m\u001b[1;33m.\u001b[0m\u001b[0mDataFrame\u001b[0m\u001b[1;33m(\u001b[0m\u001b[1;33m)\u001b[0m\u001b[1;33m\u001b[0m\u001b[1;33m\u001b[0m\u001b[0m\n\u001b[1;32m----> 3\u001b[1;33m \u001b[1;32mfor\u001b[0m \u001b[0mi\u001b[0m \u001b[1;32min\u001b[0m \u001b[0mdir_list\u001b[0m\u001b[1;33m:\u001b[0m\u001b[1;33m\u001b[0m\u001b[1;33m\u001b[0m\u001b[0m\n\u001b[0m\u001b[0;32m      4\u001b[0m     \u001b[1;32mif\u001b[0m \u001b[1;34m\"2_\"\u001b[0m \u001b[1;32min\u001b[0m \u001b[0mi\u001b[0m\u001b[1;33m:\u001b[0m\u001b[1;33m\u001b[0m\u001b[1;33m\u001b[0m\u001b[0m\n\u001b[0;32m      5\u001b[0m         \u001b[0macc_one\u001b[0m \u001b[1;33m=\u001b[0m \u001b[0mpd\u001b[0m\u001b[1;33m.\u001b[0m\u001b[0mread_csv\u001b[0m\u001b[1;33m(\u001b[0m\u001b[1;34m\"wavs  (rul)fe_\"\u001b[0m\u001b[1;33m+\u001b[0m\u001b[0mi\u001b[0m\u001b[1;33m+\u001b[0m\u001b[1;34m\"_acc.csv\"\u001b[0m\u001b[1;33m)\u001b[0m\u001b[1;33m\u001b[0m\u001b[1;33m\u001b[0m\u001b[0m\n",
      "\u001b[1;31mNameError\u001b[0m: name 'dir_list' is not defined"
     ]
    }
   ],
   "source": [
    "index = 1\n",
    "all_df = pd.DataFrame()\n",
    "for i in dir_list:\n",
    "    if \"1_\" in i:\n",
    "        acc_one = pd.read_csv(\"wavs  (rul)fe_\"+i+\"_acc.csv\")\n",
    "        acc_one[\"id\"] = index\n",
    "        index += 1\n",
    "        all_df = pd.concat([all_df, acc_one],axis=0)"
   ]
  },
  {
   "cell_type": "code",
   "execution_count": 7,
   "metadata": {},
   "outputs": [],
   "source": [
    "one_train = all_df.copy()"
   ]
  },
  {
   "cell_type": "code",
   "execution_count": 9,
   "metadata": {},
   "outputs": [],
   "source": [
    "index = 1\n",
    "all_df = pd.DataFrame()\n",
    "for i in test_dir_list:\n",
    "    if \"1_\" in i:\n",
    "        acc_one = pd.read_csv(\"wavs  (rul)fe_\"+i+\"_acc.csv\")\n",
    "        acc_one[\"id\"] = index\n",
    "        index += 1\n",
    "        all_df = pd.concat([all_df, acc_one],axis=0)"
   ]
  },
  {
   "cell_type": "code",
   "execution_count": 10,
   "metadata": {},
   "outputs": [],
   "source": [
    "one_test = all_df.copy()"
   ]
  },
  {
   "cell_type": "code",
   "execution_count": 17,
   "metadata": {},
   "outputs": [],
   "source": [
    "one_train = clean_dataset(one_train)"
   ]
  },
  {
   "cell_type": "code",
   "execution_count": 18,
   "metadata": {},
   "outputs": [],
   "source": [
    "one_test = clean_dataset(one_test)"
   ]
  },
  {
   "cell_type": "code",
   "execution_count": 11,
   "metadata": {},
   "outputs": [],
   "source": [
    "one_train.to_csv(\"one_train.csv\",index=None)"
   ]
  },
  {
   "cell_type": "code",
   "execution_count": 12,
   "metadata": {},
   "outputs": [],
   "source": [
    "one_test.to_csv(\"one_test.csv\",index=None)"
   ]
  },
  {
   "cell_type": "code",
   "execution_count": 13,
   "metadata": {},
   "outputs": [],
   "source": [
    "one_train = one_train.reset_index()\n",
    "one_test = one_test.reset_index()"
   ]
  },
  {
   "cell_type": "code",
   "execution_count": 14,
   "metadata": {},
   "outputs": [
    {
     "data": {
      "text/plain": [
       "(940544, 141)"
      ]
     },
     "execution_count": 14,
     "metadata": {},
     "output_type": "execute_result"
    }
   ],
   "source": [
    "one_train.shape"
   ]
  },
  {
   "cell_type": "code",
   "execution_count": 15,
   "metadata": {},
   "outputs": [
    {
     "data": {
      "text/plain": [
       "(2759424, 141)"
      ]
     },
     "execution_count": 15,
     "metadata": {},
     "output_type": "execute_result"
    }
   ],
   "source": [
    "one_test.shape"
   ]
  },
  {
   "cell_type": "code",
   "execution_count": 28,
   "metadata": {},
   "outputs": [
    {
     "data": {
      "text/html": [
       "<div>\n",
       "<style scoped>\n",
       "    .dataframe tbody tr th:only-of-type {\n",
       "        vertical-align: middle;\n",
       "    }\n",
       "\n",
       "    .dataframe tbody tr th {\n",
       "        vertical-align: top;\n",
       "    }\n",
       "\n",
       "    .dataframe thead th {\n",
       "        text-align: right;\n",
       "    }\n",
       "</style>\n",
       "<table border=\"1\" class=\"dataframe\">\n",
       "  <thead>\n",
       "    <tr style=\"text-align: right;\">\n",
       "      <th></th>\n",
       "      <th>Unnamed: 0</th>\n",
       "      <th>Horiz_acc</th>\n",
       "      <th>id</th>\n",
       "      <th>av_horiz</th>\n",
       "      <th>sd_horiz</th>\n",
       "      <th>peak_horiz</th>\n",
       "      <th>rms_horiz</th>\n",
       "      <th>skew_horiz</th>\n",
       "      <th>kurt_horiz</th>\n",
       "      <th>crest_horiz</th>\n",
       "      <th>...</th>\n",
       "      <th>f184_sum</th>\n",
       "      <th>f192_sum</th>\n",
       "      <th>f200_sum</th>\n",
       "      <th>f208_sum</th>\n",
       "      <th>f216_sum</th>\n",
       "      <th>f224_sum</th>\n",
       "      <th>f232_sum</th>\n",
       "      <th>f240_sum</th>\n",
       "      <th>f248_sum</th>\n",
       "      <th>f256_sum</th>\n",
       "    </tr>\n",
       "  </thead>\n",
       "  <tbody>\n",
       "    <tr>\n",
       "      <th>0</th>\n",
       "      <td>9</td>\n",
       "      <td>0.257</td>\n",
       "      <td>1</td>\n",
       "      <td>0.257000</td>\n",
       "      <td>0.000000</td>\n",
       "      <td>0.257</td>\n",
       "      <td>0.257000</td>\n",
       "      <td>0.000000</td>\n",
       "      <td>-3.000000</td>\n",
       "      <td>1.000000</td>\n",
       "      <td>...</td>\n",
       "      <td>0.0</td>\n",
       "      <td>0.0</td>\n",
       "      <td>0.0</td>\n",
       "      <td>0.0</td>\n",
       "      <td>0.0</td>\n",
       "      <td>0.0</td>\n",
       "      <td>0.0</td>\n",
       "      <td>0.0</td>\n",
       "      <td>0.0</td>\n",
       "      <td>0.0</td>\n",
       "    </tr>\n",
       "    <tr>\n",
       "      <th>1</th>\n",
       "      <td>19</td>\n",
       "      <td>0.173</td>\n",
       "      <td>1</td>\n",
       "      <td>0.215000</td>\n",
       "      <td>0.059397</td>\n",
       "      <td>0.257</td>\n",
       "      <td>0.219064</td>\n",
       "      <td>0.000000</td>\n",
       "      <td>-2.000000</td>\n",
       "      <td>1.173174</td>\n",
       "      <td>...</td>\n",
       "      <td>0.0</td>\n",
       "      <td>0.0</td>\n",
       "      <td>0.0</td>\n",
       "      <td>0.0</td>\n",
       "      <td>0.0</td>\n",
       "      <td>0.0</td>\n",
       "      <td>0.0</td>\n",
       "      <td>0.0</td>\n",
       "      <td>0.0</td>\n",
       "      <td>0.0</td>\n",
       "    </tr>\n",
       "    <tr>\n",
       "      <th>2</th>\n",
       "      <td>29</td>\n",
       "      <td>-0.426</td>\n",
       "      <td>1</td>\n",
       "      <td>0.001333</td>\n",
       "      <td>0.372457</td>\n",
       "      <td>0.257</td>\n",
       "      <td>0.304113</td>\n",
       "      <td>-1.633467</td>\n",
       "      <td>-1.500000</td>\n",
       "      <td>0.845081</td>\n",
       "      <td>...</td>\n",
       "      <td>0.0</td>\n",
       "      <td>0.0</td>\n",
       "      <td>0.0</td>\n",
       "      <td>0.0</td>\n",
       "      <td>0.0</td>\n",
       "      <td>0.0</td>\n",
       "      <td>0.0</td>\n",
       "      <td>0.0</td>\n",
       "      <td>0.0</td>\n",
       "      <td>0.0</td>\n",
       "    </tr>\n",
       "    <tr>\n",
       "      <th>3</th>\n",
       "      <td>39</td>\n",
       "      <td>0.231</td>\n",
       "      <td>1</td>\n",
       "      <td>0.058750</td>\n",
       "      <td>0.325069</td>\n",
       "      <td>0.257</td>\n",
       "      <td>0.287583</td>\n",
       "      <td>-1.931381</td>\n",
       "      <td>-0.698891</td>\n",
       "      <td>0.893656</td>\n",
       "      <td>...</td>\n",
       "      <td>0.0</td>\n",
       "      <td>0.0</td>\n",
       "      <td>0.0</td>\n",
       "      <td>0.0</td>\n",
       "      <td>0.0</td>\n",
       "      <td>0.0</td>\n",
       "      <td>0.0</td>\n",
       "      <td>0.0</td>\n",
       "      <td>0.0</td>\n",
       "      <td>0.0</td>\n",
       "    </tr>\n",
       "    <tr>\n",
       "      <th>4</th>\n",
       "      <td>49</td>\n",
       "      <td>-0.157</td>\n",
       "      <td>1</td>\n",
       "      <td>0.015600</td>\n",
       "      <td>0.297593</td>\n",
       "      <td>0.257</td>\n",
       "      <td>0.266632</td>\n",
       "      <td>-1.000708</td>\n",
       "      <td>-1.203898</td>\n",
       "      <td>0.963874</td>\n",
       "      <td>...</td>\n",
       "      <td>0.0</td>\n",
       "      <td>0.0</td>\n",
       "      <td>0.0</td>\n",
       "      <td>0.0</td>\n",
       "      <td>0.0</td>\n",
       "      <td>0.0</td>\n",
       "      <td>0.0</td>\n",
       "      <td>0.0</td>\n",
       "      <td>0.0</td>\n",
       "      <td>0.0</td>\n",
       "    </tr>\n",
       "    <tr>\n",
       "      <th>...</th>\n",
       "      <td>...</td>\n",
       "      <td>...</td>\n",
       "      <td>...</td>\n",
       "      <td>...</td>\n",
       "      <td>...</td>\n",
       "      <td>...</td>\n",
       "      <td>...</td>\n",
       "      <td>...</td>\n",
       "      <td>...</td>\n",
       "      <td>...</td>\n",
       "      <td>...</td>\n",
       "      <td>...</td>\n",
       "      <td>...</td>\n",
       "      <td>...</td>\n",
       "      <td>...</td>\n",
       "      <td>...</td>\n",
       "      <td>...</td>\n",
       "      <td>...</td>\n",
       "      <td>...</td>\n",
       "      <td>...</td>\n",
       "      <td>...</td>\n",
       "    </tr>\n",
       "    <tr>\n",
       "      <th>940539</th>\n",
       "      <td>2229719</td>\n",
       "      <td>0.328</td>\n",
       "      <td>2</td>\n",
       "      <td>-0.078654</td>\n",
       "      <td>1.730453</td>\n",
       "      <td>3.344</td>\n",
       "      <td>1.698671</td>\n",
       "      <td>-0.596130</td>\n",
       "      <td>1.036508</td>\n",
       "      <td>1.968598</td>\n",
       "      <td>...</td>\n",
       "      <td>0.0</td>\n",
       "      <td>0.0</td>\n",
       "      <td>0.0</td>\n",
       "      <td>0.0</td>\n",
       "      <td>0.0</td>\n",
       "      <td>0.0</td>\n",
       "      <td>0.0</td>\n",
       "      <td>0.0</td>\n",
       "      <td>0.0</td>\n",
       "      <td>0.0</td>\n",
       "    </tr>\n",
       "    <tr>\n",
       "      <th>940540</th>\n",
       "      <td>2229729</td>\n",
       "      <td>-0.657</td>\n",
       "      <td>2</td>\n",
       "      <td>-0.060808</td>\n",
       "      <td>1.721644</td>\n",
       "      <td>3.344</td>\n",
       "      <td>1.689305</td>\n",
       "      <td>-0.631044</td>\n",
       "      <td>1.139150</td>\n",
       "      <td>1.979512</td>\n",
       "      <td>...</td>\n",
       "      <td>0.0</td>\n",
       "      <td>0.0</td>\n",
       "      <td>0.0</td>\n",
       "      <td>0.0</td>\n",
       "      <td>0.0</td>\n",
       "      <td>0.0</td>\n",
       "      <td>0.0</td>\n",
       "      <td>0.0</td>\n",
       "      <td>0.0</td>\n",
       "      <td>0.0</td>\n",
       "    </tr>\n",
       "    <tr>\n",
       "      <th>940541</th>\n",
       "      <td>2229739</td>\n",
       "      <td>-3.108</td>\n",
       "      <td>2</td>\n",
       "      <td>-0.210308</td>\n",
       "      <td>1.812186</td>\n",
       "      <td>3.344</td>\n",
       "      <td>1.789396</td>\n",
       "      <td>-0.482692</td>\n",
       "      <td>0.507112</td>\n",
       "      <td>1.868787</td>\n",
       "      <td>...</td>\n",
       "      <td>0.0</td>\n",
       "      <td>0.0</td>\n",
       "      <td>0.0</td>\n",
       "      <td>0.0</td>\n",
       "      <td>0.0</td>\n",
       "      <td>0.0</td>\n",
       "      <td>0.0</td>\n",
       "      <td>0.0</td>\n",
       "      <td>0.0</td>\n",
       "      <td>0.0</td>\n",
       "    </tr>\n",
       "    <tr>\n",
       "      <th>940542</th>\n",
       "      <td>2229749</td>\n",
       "      <td>-1.077</td>\n",
       "      <td>2</td>\n",
       "      <td>-0.178885</td>\n",
       "      <td>1.788755</td>\n",
       "      <td>3.344</td>\n",
       "      <td>1.763117</td>\n",
       "      <td>-0.527800</td>\n",
       "      <td>0.697830</td>\n",
       "      <td>1.896641</td>\n",
       "      <td>...</td>\n",
       "      <td>0.0</td>\n",
       "      <td>0.0</td>\n",
       "      <td>0.0</td>\n",
       "      <td>0.0</td>\n",
       "      <td>0.0</td>\n",
       "      <td>0.0</td>\n",
       "      <td>0.0</td>\n",
       "      <td>0.0</td>\n",
       "      <td>0.0</td>\n",
       "      <td>0.0</td>\n",
       "    </tr>\n",
       "    <tr>\n",
       "      <th>940543</th>\n",
       "      <td>2229759</td>\n",
       "      <td>-4.701</td>\n",
       "      <td>2</td>\n",
       "      <td>-0.401192</td>\n",
       "      <td>1.975585</td>\n",
       "      <td>3.344</td>\n",
       "      <td>1.978327</td>\n",
       "      <td>-0.555347</td>\n",
       "      <td>0.301269</td>\n",
       "      <td>1.690317</td>\n",
       "      <td>...</td>\n",
       "      <td>0.0</td>\n",
       "      <td>0.0</td>\n",
       "      <td>0.0</td>\n",
       "      <td>0.0</td>\n",
       "      <td>0.0</td>\n",
       "      <td>0.0</td>\n",
       "      <td>0.0</td>\n",
       "      <td>0.0</td>\n",
       "      <td>0.0</td>\n",
       "      <td>0.0</td>\n",
       "    </tr>\n",
       "  </tbody>\n",
       "</table>\n",
       "<p>940544 rows × 140 columns</p>\n",
       "</div>"
      ],
      "text/plain": [
       "        Unnamed: 0  Horiz_acc  id  av_horiz  sd_horiz  peak_horiz  rms_horiz  \\\n",
       "0                9      0.257   1  0.257000  0.000000       0.257   0.257000   \n",
       "1               19      0.173   1  0.215000  0.059397       0.257   0.219064   \n",
       "2               29     -0.426   1  0.001333  0.372457       0.257   0.304113   \n",
       "3               39      0.231   1  0.058750  0.325069       0.257   0.287583   \n",
       "4               49     -0.157   1  0.015600  0.297593       0.257   0.266632   \n",
       "...            ...        ...  ..       ...       ...         ...        ...   \n",
       "940539     2229719      0.328   2 -0.078654  1.730453       3.344   1.698671   \n",
       "940540     2229729     -0.657   2 -0.060808  1.721644       3.344   1.689305   \n",
       "940541     2229739     -3.108   2 -0.210308  1.812186       3.344   1.789396   \n",
       "940542     2229749     -1.077   2 -0.178885  1.788755       3.344   1.763117   \n",
       "940543     2229759     -4.701   2 -0.401192  1.975585       3.344   1.978327   \n",
       "\n",
       "        skew_horiz  kurt_horiz  crest_horiz  ...  f184_sum  f192_sum  \\\n",
       "0         0.000000   -3.000000     1.000000  ...       0.0       0.0   \n",
       "1         0.000000   -2.000000     1.173174  ...       0.0       0.0   \n",
       "2        -1.633467   -1.500000     0.845081  ...       0.0       0.0   \n",
       "3        -1.931381   -0.698891     0.893656  ...       0.0       0.0   \n",
       "4        -1.000708   -1.203898     0.963874  ...       0.0       0.0   \n",
       "...            ...         ...          ...  ...       ...       ...   \n",
       "940539   -0.596130    1.036508     1.968598  ...       0.0       0.0   \n",
       "940540   -0.631044    1.139150     1.979512  ...       0.0       0.0   \n",
       "940541   -0.482692    0.507112     1.868787  ...       0.0       0.0   \n",
       "940542   -0.527800    0.697830     1.896641  ...       0.0       0.0   \n",
       "940543   -0.555347    0.301269     1.690317  ...       0.0       0.0   \n",
       "\n",
       "        f200_sum  f208_sum  f216_sum  f224_sum  f232_sum  f240_sum  f248_sum  \\\n",
       "0            0.0       0.0       0.0       0.0       0.0       0.0       0.0   \n",
       "1            0.0       0.0       0.0       0.0       0.0       0.0       0.0   \n",
       "2            0.0       0.0       0.0       0.0       0.0       0.0       0.0   \n",
       "3            0.0       0.0       0.0       0.0       0.0       0.0       0.0   \n",
       "4            0.0       0.0       0.0       0.0       0.0       0.0       0.0   \n",
       "...          ...       ...       ...       ...       ...       ...       ...   \n",
       "940539       0.0       0.0       0.0       0.0       0.0       0.0       0.0   \n",
       "940540       0.0       0.0       0.0       0.0       0.0       0.0       0.0   \n",
       "940541       0.0       0.0       0.0       0.0       0.0       0.0       0.0   \n",
       "940542       0.0       0.0       0.0       0.0       0.0       0.0       0.0   \n",
       "940543       0.0       0.0       0.0       0.0       0.0       0.0       0.0   \n",
       "\n",
       "        f256_sum  \n",
       "0            0.0  \n",
       "1            0.0  \n",
       "2            0.0  \n",
       "3            0.0  \n",
       "4            0.0  \n",
       "...          ...  \n",
       "940539       0.0  \n",
       "940540       0.0  \n",
       "940541       0.0  \n",
       "940542       0.0  \n",
       "940543       0.0  \n",
       "\n",
       "[940544 rows x 140 columns]"
      ]
     },
     "execution_count": 28,
     "metadata": {},
     "output_type": "execute_result"
    }
   ],
   "source": [
    "one_train"
   ]
  },
  {
   "cell_type": "code",
   "execution_count": 51,
   "metadata": {},
   "outputs": [
    {
     "data": {
      "text/plain": [
       "0         28020.099605\n",
       "1         28020.099214\n",
       "2         28020.098824\n",
       "3         28020.098433\n",
       "4         28020.098042\n",
       "              ...     \n",
       "940539        0.001560\n",
       "940540        0.001170\n",
       "940541        0.000780\n",
       "940542        0.000390\n",
       "940543        0.000000\n",
       "Name: RUL, Length: 940544, dtype: float64"
      ]
     },
     "execution_count": 51,
     "metadata": {},
     "output_type": "execute_result"
    }
   ],
   "source": [
    "one_train[\"RUL\"]"
   ]
  },
  {
   "cell_type": "code",
   "execution_count": 50,
   "metadata": {},
   "outputs": [
    {
     "data": {
      "text/html": [
       "<div>\n",
       "<style scoped>\n",
       "    .dataframe tbody tr th:only-of-type {\n",
       "        vertical-align: middle;\n",
       "    }\n",
       "\n",
       "    .dataframe tbody tr th {\n",
       "        vertical-align: top;\n",
       "    }\n",
       "\n",
       "    .dataframe thead th {\n",
       "        text-align: right;\n",
       "    }\n",
       "</style>\n",
       "<table border=\"1\" class=\"dataframe\">\n",
       "  <thead>\n",
       "    <tr style=\"text-align: right;\">\n",
       "      <th></th>\n",
       "      <th>Unnamed: 0</th>\n",
       "      <th>Hour</th>\n",
       "      <th>Minute</th>\n",
       "      <th>Second</th>\n",
       "      <th>0.x_Second</th>\n",
       "      <th>Rtd sensor</th>\n",
       "      <th>id</th>\n",
       "      <th>sum_0.x_second</th>\n",
       "      <th>RUL</th>\n",
       "    </tr>\n",
       "  </thead>\n",
       "  <tbody>\n",
       "    <tr>\n",
       "      <th>0</th>\n",
       "      <td>0</td>\n",
       "      <td>9</td>\n",
       "      <td>40</td>\n",
       "      <td>47</td>\n",
       "      <td>5</td>\n",
       "      <td>70.378</td>\n",
       "      <td>1</td>\n",
       "      <td>348475</td>\n",
       "      <td>27951.6</td>\n",
       "    </tr>\n",
       "    <tr>\n",
       "      <th>1</th>\n",
       "      <td>1</td>\n",
       "      <td>9</td>\n",
       "      <td>40</td>\n",
       "      <td>47</td>\n",
       "      <td>6</td>\n",
       "      <td>70.378</td>\n",
       "      <td>1</td>\n",
       "      <td>348476</td>\n",
       "      <td>27951.5</td>\n",
       "    </tr>\n",
       "    <tr>\n",
       "      <th>2</th>\n",
       "      <td>2</td>\n",
       "      <td>9</td>\n",
       "      <td>40</td>\n",
       "      <td>47</td>\n",
       "      <td>7</td>\n",
       "      <td>70.397</td>\n",
       "      <td>1</td>\n",
       "      <td>348477</td>\n",
       "      <td>27951.4</td>\n",
       "    </tr>\n",
       "    <tr>\n",
       "      <th>3</th>\n",
       "      <td>3</td>\n",
       "      <td>9</td>\n",
       "      <td>40</td>\n",
       "      <td>47</td>\n",
       "      <td>8</td>\n",
       "      <td>70.397</td>\n",
       "      <td>1</td>\n",
       "      <td>348478</td>\n",
       "      <td>27951.3</td>\n",
       "    </tr>\n",
       "    <tr>\n",
       "      <th>4</th>\n",
       "      <td>4</td>\n",
       "      <td>9</td>\n",
       "      <td>40</td>\n",
       "      <td>47</td>\n",
       "      <td>9</td>\n",
       "      <td>70.418</td>\n",
       "      <td>1</td>\n",
       "      <td>348479</td>\n",
       "      <td>27951.2</td>\n",
       "    </tr>\n",
       "    <tr>\n",
       "      <th>...</th>\n",
       "      <td>...</td>\n",
       "      <td>...</td>\n",
       "      <td>...</td>\n",
       "      <td>...</td>\n",
       "      <td>...</td>\n",
       "      <td>...</td>\n",
       "      <td>...</td>\n",
       "      <td>...</td>\n",
       "      <td>...</td>\n",
       "    </tr>\n",
       "    <tr>\n",
       "      <th>279512</th>\n",
       "      <td>279512</td>\n",
       "      <td>17</td>\n",
       "      <td>26</td>\n",
       "      <td>38</td>\n",
       "      <td>7</td>\n",
       "      <td>164.340</td>\n",
       "      <td>466</td>\n",
       "      <td>627987</td>\n",
       "      <td>0.4</td>\n",
       "    </tr>\n",
       "    <tr>\n",
       "      <th>279513</th>\n",
       "      <td>279513</td>\n",
       "      <td>17</td>\n",
       "      <td>26</td>\n",
       "      <td>38</td>\n",
       "      <td>8</td>\n",
       "      <td>164.340</td>\n",
       "      <td>466</td>\n",
       "      <td>627988</td>\n",
       "      <td>0.3</td>\n",
       "    </tr>\n",
       "    <tr>\n",
       "      <th>279514</th>\n",
       "      <td>279514</td>\n",
       "      <td>17</td>\n",
       "      <td>26</td>\n",
       "      <td>38</td>\n",
       "      <td>9</td>\n",
       "      <td>164.360</td>\n",
       "      <td>466</td>\n",
       "      <td>627989</td>\n",
       "      <td>0.2</td>\n",
       "    </tr>\n",
       "    <tr>\n",
       "      <th>279515</th>\n",
       "      <td>279515</td>\n",
       "      <td>17</td>\n",
       "      <td>26</td>\n",
       "      <td>39</td>\n",
       "      <td>0</td>\n",
       "      <td>164.360</td>\n",
       "      <td>466</td>\n",
       "      <td>627990</td>\n",
       "      <td>0.1</td>\n",
       "    </tr>\n",
       "    <tr>\n",
       "      <th>279516</th>\n",
       "      <td>279516</td>\n",
       "      <td>17</td>\n",
       "      <td>26</td>\n",
       "      <td>39</td>\n",
       "      <td>1</td>\n",
       "      <td>164.370</td>\n",
       "      <td>466</td>\n",
       "      <td>627991</td>\n",
       "      <td>0.0</td>\n",
       "    </tr>\n",
       "  </tbody>\n",
       "</table>\n",
       "<p>279517 rows × 9 columns</p>\n",
       "</div>"
      ],
      "text/plain": [
       "        Unnamed: 0  Hour  Minute  Second  0.x_Second  Rtd sensor   id  \\\n",
       "0                0     9      40      47           5      70.378    1   \n",
       "1                1     9      40      47           6      70.378    1   \n",
       "2                2     9      40      47           7      70.397    1   \n",
       "3                3     9      40      47           8      70.397    1   \n",
       "4                4     9      40      47           9      70.418    1   \n",
       "...            ...   ...     ...     ...         ...         ...  ...   \n",
       "279512      279512    17      26      38           7     164.340  466   \n",
       "279513      279513    17      26      38           8     164.340  466   \n",
       "279514      279514    17      26      38           9     164.360  466   \n",
       "279515      279515    17      26      39           0     164.360  466   \n",
       "279516      279516    17      26      39           1     164.370  466   \n",
       "\n",
       "        sum_0.x_second      RUL  \n",
       "0               348475  27951.6  \n",
       "1               348476  27951.5  \n",
       "2               348477  27951.4  \n",
       "3               348478  27951.3  \n",
       "4               348479  27951.2  \n",
       "...                ...      ...  \n",
       "279512          627987      0.4  \n",
       "279513          627988      0.3  \n",
       "279514          627989      0.2  \n",
       "279515          627990      0.1  \n",
       "279516          627991      0.0  \n",
       "\n",
       "[279517 rows x 9 columns]"
      ]
     },
     "execution_count": 50,
     "metadata": {},
     "output_type": "execute_result"
    }
   ],
   "source": [
    "pd.read_csv(\"1_1_temp_df.csv\")"
   ]
  },
  {
   "cell_type": "code",
   "execution_count": 53,
   "metadata": {
    "scrolled": true
   },
   "outputs": [
    {
     "data": {
      "text/html": [
       "<div>\n",
       "<style scoped>\n",
       "    .dataframe tbody tr th:only-of-type {\n",
       "        vertical-align: middle;\n",
       "    }\n",
       "\n",
       "    .dataframe tbody tr th {\n",
       "        vertical-align: top;\n",
       "    }\n",
       "\n",
       "    .dataframe thead th {\n",
       "        text-align: right;\n",
       "    }\n",
       "</style>\n",
       "<table border=\"1\" class=\"dataframe\">\n",
       "  <thead>\n",
       "    <tr style=\"text-align: right;\">\n",
       "      <th></th>\n",
       "      <th>Unnamed: 0</th>\n",
       "      <th>Rtd sensor</th>\n",
       "      <th>id</th>\n",
       "      <th>av_temp</th>\n",
       "      <th>sd_temp</th>\n",
       "      <th>peak_temp</th>\n",
       "      <th>rms_temp</th>\n",
       "      <th>skew_temp</th>\n",
       "      <th>kurt_temp</th>\n",
       "      <th>crest_temp</th>\n",
       "      <th>clear_temp</th>\n",
       "      <th>shape_temp</th>\n",
       "      <th>imp_temp</th>\n",
       "    </tr>\n",
       "  </thead>\n",
       "  <tbody>\n",
       "    <tr>\n",
       "      <th>0</th>\n",
       "      <td>0</td>\n",
       "      <td>57.181</td>\n",
       "      <td>1</td>\n",
       "      <td>57.181000</td>\n",
       "      <td>0.000000</td>\n",
       "      <td>57.181</td>\n",
       "      <td>57.181000</td>\n",
       "      <td>0.000000</td>\n",
       "      <td>-3.000000</td>\n",
       "      <td>1.000000</td>\n",
       "      <td>1.000000</td>\n",
       "      <td>1.0</td>\n",
       "      <td>1.000000</td>\n",
       "    </tr>\n",
       "    <tr>\n",
       "      <th>1</th>\n",
       "      <td>1</td>\n",
       "      <td>57.181</td>\n",
       "      <td>1</td>\n",
       "      <td>57.181000</td>\n",
       "      <td>0.000000</td>\n",
       "      <td>57.181</td>\n",
       "      <td>57.181000</td>\n",
       "      <td>0.000000</td>\n",
       "      <td>-3.000000</td>\n",
       "      <td>1.000000</td>\n",
       "      <td>1.000000</td>\n",
       "      <td>1.0</td>\n",
       "      <td>1.000000</td>\n",
       "    </tr>\n",
       "    <tr>\n",
       "      <th>2</th>\n",
       "      <td>2</td>\n",
       "      <td>57.208</td>\n",
       "      <td>1</td>\n",
       "      <td>57.190000</td>\n",
       "      <td>0.015588</td>\n",
       "      <td>57.208</td>\n",
       "      <td>57.190001</td>\n",
       "      <td>1.732087</td>\n",
       "      <td>-1.500000</td>\n",
       "      <td>1.000315</td>\n",
       "      <td>1.000315</td>\n",
       "      <td>1.0</td>\n",
       "      <td>1.000315</td>\n",
       "    </tr>\n",
       "    <tr>\n",
       "      <th>3</th>\n",
       "      <td>3</td>\n",
       "      <td>57.208</td>\n",
       "      <td>1</td>\n",
       "      <td>57.194500</td>\n",
       "      <td>0.015588</td>\n",
       "      <td>57.208</td>\n",
       "      <td>57.194502</td>\n",
       "      <td>0.000025</td>\n",
       "      <td>-2.000000</td>\n",
       "      <td>1.000236</td>\n",
       "      <td>1.000236</td>\n",
       "      <td>1.0</td>\n",
       "      <td>1.000236</td>\n",
       "    </tr>\n",
       "    <tr>\n",
       "      <th>4</th>\n",
       "      <td>4</td>\n",
       "      <td>57.235</td>\n",
       "      <td>1</td>\n",
       "      <td>57.202600</td>\n",
       "      <td>0.022590</td>\n",
       "      <td>57.235</td>\n",
       "      <td>57.202604</td>\n",
       "      <td>0.512243</td>\n",
       "      <td>-1.153061</td>\n",
       "      <td>1.000566</td>\n",
       "      <td>1.000566</td>\n",
       "      <td>1.0</td>\n",
       "      <td>1.000566</td>\n",
       "    </tr>\n",
       "    <tr>\n",
       "      <th>...</th>\n",
       "      <td>...</td>\n",
       "      <td>...</td>\n",
       "      <td>...</td>\n",
       "      <td>...</td>\n",
       "      <td>...</td>\n",
       "      <td>...</td>\n",
       "      <td>...</td>\n",
       "      <td>...</td>\n",
       "      <td>...</td>\n",
       "      <td>...</td>\n",
       "      <td>...</td>\n",
       "      <td>...</td>\n",
       "      <td>...</td>\n",
       "    </tr>\n",
       "    <tr>\n",
       "      <th>86391</th>\n",
       "      <td>86391</td>\n",
       "      <td>103.916</td>\n",
       "      <td>1</td>\n",
       "      <td>103.915000</td>\n",
       "      <td>0.005049</td>\n",
       "      <td>103.922</td>\n",
       "      <td>103.915000</td>\n",
       "      <td>-0.150302</td>\n",
       "      <td>-1.098051</td>\n",
       "      <td>1.000067</td>\n",
       "      <td>1.000067</td>\n",
       "      <td>1.0</td>\n",
       "      <td>1.000067</td>\n",
       "    </tr>\n",
       "    <tr>\n",
       "      <th>86392</th>\n",
       "      <td>86392</td>\n",
       "      <td>103.919</td>\n",
       "      <td>1</td>\n",
       "      <td>103.915033</td>\n",
       "      <td>0.005069</td>\n",
       "      <td>103.922</td>\n",
       "      <td>103.915033</td>\n",
       "      <td>-0.165733</td>\n",
       "      <td>-1.113479</td>\n",
       "      <td>1.000067</td>\n",
       "      <td>1.000067</td>\n",
       "      <td>1.0</td>\n",
       "      <td>1.000067</td>\n",
       "    </tr>\n",
       "    <tr>\n",
       "      <th>86393</th>\n",
       "      <td>86393</td>\n",
       "      <td>103.919</td>\n",
       "      <td>1</td>\n",
       "      <td>103.915067</td>\n",
       "      <td>0.005089</td>\n",
       "      <td>103.922</td>\n",
       "      <td>103.915067</td>\n",
       "      <td>-0.178111</td>\n",
       "      <td>-1.128189</td>\n",
       "      <td>1.000067</td>\n",
       "      <td>1.000067</td>\n",
       "      <td>1.0</td>\n",
       "      <td>1.000067</td>\n",
       "    </tr>\n",
       "    <tr>\n",
       "      <th>86394</th>\n",
       "      <td>86394</td>\n",
       "      <td>103.919</td>\n",
       "      <td>1</td>\n",
       "      <td>103.915100</td>\n",
       "      <td>0.005108</td>\n",
       "      <td>103.922</td>\n",
       "      <td>103.915100</td>\n",
       "      <td>-0.192816</td>\n",
       "      <td>-1.142196</td>\n",
       "      <td>1.000066</td>\n",
       "      <td>1.000066</td>\n",
       "      <td>1.0</td>\n",
       "      <td>1.000066</td>\n",
       "    </tr>\n",
       "    <tr>\n",
       "      <th>86395</th>\n",
       "      <td>86395</td>\n",
       "      <td>103.919</td>\n",
       "      <td>1</td>\n",
       "      <td>103.915133</td>\n",
       "      <td>0.005127</td>\n",
       "      <td>103.922</td>\n",
       "      <td>103.915133</td>\n",
       "      <td>-0.207950</td>\n",
       "      <td>-1.155515</td>\n",
       "      <td>1.000066</td>\n",
       "      <td>1.000066</td>\n",
       "      <td>1.0</td>\n",
       "      <td>1.000066</td>\n",
       "    </tr>\n",
       "  </tbody>\n",
       "</table>\n",
       "<p>86396 rows × 13 columns</p>\n",
       "</div>"
      ],
      "text/plain": [
       "       Unnamed: 0  Rtd sensor  id     av_temp   sd_temp  peak_temp  \\\n",
       "0               0      57.181   1   57.181000  0.000000     57.181   \n",
       "1               1      57.181   1   57.181000  0.000000     57.181   \n",
       "2               2      57.208   1   57.190000  0.015588     57.208   \n",
       "3               3      57.208   1   57.194500  0.015588     57.208   \n",
       "4               4      57.235   1   57.202600  0.022590     57.235   \n",
       "...           ...         ...  ..         ...       ...        ...   \n",
       "86391       86391     103.916   1  103.915000  0.005049    103.922   \n",
       "86392       86392     103.919   1  103.915033  0.005069    103.922   \n",
       "86393       86393     103.919   1  103.915067  0.005089    103.922   \n",
       "86394       86394     103.919   1  103.915100  0.005108    103.922   \n",
       "86395       86395     103.919   1  103.915133  0.005127    103.922   \n",
       "\n",
       "         rms_temp  skew_temp  kurt_temp  crest_temp  clear_temp  shape_temp  \\\n",
       "0       57.181000   0.000000  -3.000000    1.000000    1.000000         1.0   \n",
       "1       57.181000   0.000000  -3.000000    1.000000    1.000000         1.0   \n",
       "2       57.190001   1.732087  -1.500000    1.000315    1.000315         1.0   \n",
       "3       57.194502   0.000025  -2.000000    1.000236    1.000236         1.0   \n",
       "4       57.202604   0.512243  -1.153061    1.000566    1.000566         1.0   \n",
       "...           ...        ...        ...         ...         ...         ...   \n",
       "86391  103.915000  -0.150302  -1.098051    1.000067    1.000067         1.0   \n",
       "86392  103.915033  -0.165733  -1.113479    1.000067    1.000067         1.0   \n",
       "86393  103.915067  -0.178111  -1.128189    1.000067    1.000067         1.0   \n",
       "86394  103.915100  -0.192816  -1.142196    1.000066    1.000066         1.0   \n",
       "86395  103.915133  -0.207950  -1.155515    1.000066    1.000066         1.0   \n",
       "\n",
       "       imp_temp  \n",
       "0      1.000000  \n",
       "1      1.000000  \n",
       "2      1.000315  \n",
       "3      1.000236  \n",
       "4      1.000566  \n",
       "...         ...  \n",
       "86391  1.000067  \n",
       "86392  1.000067  \n",
       "86393  1.000067  \n",
       "86394  1.000066  \n",
       "86395  1.000066  \n",
       "\n",
       "[86396 rows x 13 columns]"
      ]
     },
     "execution_count": 53,
     "metadata": {},
     "output_type": "execute_result"
    }
   ],
   "source": [
    "pd.read_csv(\"fe_1_2_temp.csv\")"
   ]
  },
  {
   "cell_type": "code",
   "execution_count": 6,
   "metadata": {},
   "outputs": [],
   "source": [
    "both_train = [\"1_1\",\"1_2\",\"2_1\",\"3_1\"]"
   ]
  },
  {
   "cell_type": "code",
   "execution_count": 7,
   "metadata": {},
   "outputs": [],
   "source": [
    "both_test = [\"1_4\",\"1_5\",\"1_6\",\"1_7\",\"2_4\",\"2_5\",\"3_3\"]"
   ]
  },
  {
   "cell_type": "code",
   "execution_count": 71,
   "metadata": {},
   "outputs": [],
   "source": [
    "index = 1\n",
    "all_df = pd.DataFrame()\n",
    "for i in both_train:\n",
    "    if \"3_\" in i:\n",
    "        temp_one = pd.read_csv(\"fe_\"+i+\"_temp.csv\")\n",
    "        temp_one[\"RUL\"] = (temp_one[\"Unnamed: 0\"].max() - temp_one[\"Unnamed: 0\"])/10\n",
    "        acc_one = pd.read_csv(\"wavs  (rul)fe_\"+i+\"_acc.csv\")\n",
    "        acc_one[\"round_RUL\"] = np.round(acc_one[\"RUL\"],1)\n",
    "        combine_one = acc_one.merge(temp_one,left_on=\"round_RUL\",right_on=\"RUL\",how=\"left\")\n",
    "        combine_one = combine_one.dropna()\n",
    "        combine_one[\"id\"] = index\n",
    "        index += 1\n",
    "        all_df = pd.concat([all_df, combine_one],axis=0)"
   ]
  },
  {
   "cell_type": "code",
   "execution_count": 72,
   "metadata": {},
   "outputs": [],
   "source": [
    "one_train_combine = all_df\n",
    "one_train_combine = clean_dataset(one_train_combine)"
   ]
  },
  {
   "cell_type": "code",
   "execution_count": 73,
   "metadata": {},
   "outputs": [],
   "source": [
    "one_train_combine.to_csv(\"three_test_combine.csv\",index=None)"
   ]
  },
  {
   "cell_type": "code",
   "execution_count": 8,
   "metadata": {},
   "outputs": [],
   "source": [
    "index = 1\n",
    "all_df = pd.DataFrame()\n",
    "for i in both_test:\n",
    "    if \"3_\" in i:\n",
    "        temp_one = pd.read_csv(\"fe_\"+i+\"_temp.csv\")\n",
    "        temp_one[\"RUL\"] = (temp_one[\"Unnamed: 0\"].max() - temp_one[\"Unnamed: 0\"])/10\n",
    "        acc_one = pd.read_csv(\"wavs  (rul)fe_\"+i+\"_acc.csv\")\n",
    "        acc_one[\"round_RUL\"] = np.round(acc_one[\"RUL\"],1)\n",
    "        combine_one = acc_one.merge(temp_one,left_on=\"round_RUL\",right_on=\"RUL\",how=\"left\")\n",
    "        combine_one = combine_one.dropna()\n",
    "        combine_one[\"id\"] = index\n",
    "        index += 1\n",
    "        all_df = pd.concat([all_df, combine_one],axis=0)"
   ]
  },
  {
   "cell_type": "code",
   "execution_count": 10,
   "metadata": {},
   "outputs": [],
   "source": [
    "one_test_combine = all_df\n",
    "one_test_combine = clean_dataset(one_test_combine)\n"
   ]
  },
  {
   "cell_type": "code",
   "execution_count": 11,
   "metadata": {},
   "outputs": [],
   "source": [
    "one_test_combine.to_csv(\"three_train_combine.csv\",index=None)"
   ]
  },
  {
   "cell_type": "code",
   "execution_count": null,
   "metadata": {},
   "outputs": [],
   "source": [
    "one_train"
   ]
  },
  {
   "cell_type": "markdown",
   "metadata": {},
   "source": [
    "### setting 2"
   ]
  },
  {
   "cell_type": "code",
   "execution_count": 13,
   "metadata": {},
   "outputs": [],
   "source": [
    "index = 1\n",
    "all_df = pd.DataFrame()\n",
    "for i in dir_list:\n",
    "    if \"2_\" in i:\n",
    "        acc_one = pd.read_csv(\"wavs  (rul)fe_\"+i+\"_acc.csv\")\n",
    "        acc_one[\"id\"] = index\n",
    "        index += 1\n",
    "        all_df = pd.concat([all_df, acc_one],axis=0)"
   ]
  },
  {
   "cell_type": "code",
   "execution_count": 14,
   "metadata": {},
   "outputs": [],
   "source": [
    "two_train = all_df.copy()"
   ]
  },
  {
   "cell_type": "code",
   "execution_count": 15,
   "metadata": {},
   "outputs": [],
   "source": [
    "index = 1\n",
    "all_df = pd.DataFrame()\n",
    "for i in test_dir_list:\n",
    "    if \"2_\" in i:\n",
    "        acc_one = pd.read_csv(\"wavs  (rul)fe_\"+i+\"_acc.csv\")\n",
    "        acc_one[\"id\"] = index\n",
    "        index += 1\n",
    "        all_df = pd.concat([all_df, acc_one],axis=0)"
   ]
  },
  {
   "cell_type": "code",
   "execution_count": 16,
   "metadata": {},
   "outputs": [],
   "source": [
    "two_test = all_df.copy()"
   ]
  },
  {
   "cell_type": "code",
   "execution_count": 9,
   "metadata": {},
   "outputs": [],
   "source": [
    "def clean_dataset(df):\n",
    "    assert isinstance(df, pd.DataFrame), \"df needs to be a pd.DataFrame\"\n",
    "    df.dropna(inplace=True)\n",
    "    indices_to_keep = ~df.isin([np.nan, np.inf, -np.inf]).any(1)\n",
    "    return df[indices_to_keep].astype(np.float64)"
   ]
  },
  {
   "cell_type": "code",
   "execution_count": 18,
   "metadata": {},
   "outputs": [],
   "source": [
    "two_train = clean_dataset(two_train)\n",
    "two_test = clean_dataset(two_test)"
   ]
  },
  {
   "cell_type": "code",
   "execution_count": 20,
   "metadata": {},
   "outputs": [],
   "source": [
    "two_train = two_train.reset_index()\n",
    "two_test = two_test.reset_index()"
   ]
  },
  {
   "cell_type": "code",
   "execution_count": 21,
   "metadata": {},
   "outputs": [],
   "source": [
    "two_train.to_csv(\"two_train.csv\",index=None)\n",
    "two_test.to_csv(\"two_test.csv\",index=None)"
   ]
  },
  {
   "cell_type": "code",
   "execution_count": 29,
   "metadata": {},
   "outputs": [
    {
     "data": {
      "text/html": [
       "<div>\n",
       "<style scoped>\n",
       "    .dataframe tbody tr th:only-of-type {\n",
       "        vertical-align: middle;\n",
       "    }\n",
       "\n",
       "    .dataframe tbody tr th {\n",
       "        vertical-align: top;\n",
       "    }\n",
       "\n",
       "    .dataframe thead th {\n",
       "        text-align: right;\n",
       "    }\n",
       "</style>\n",
       "<table border=\"1\" class=\"dataframe\">\n",
       "  <thead>\n",
       "    <tr style=\"text-align: right;\">\n",
       "      <th></th>\n",
       "      <th>index</th>\n",
       "      <th>Unnamed: 0</th>\n",
       "      <th>Horiz_acc</th>\n",
       "      <th>id</th>\n",
       "      <th>av_horiz</th>\n",
       "      <th>sd_horiz</th>\n",
       "      <th>peak_horiz</th>\n",
       "      <th>rms_horiz</th>\n",
       "      <th>skew_horiz</th>\n",
       "      <th>kurt_horiz</th>\n",
       "      <th>...</th>\n",
       "      <th>f184_sum</th>\n",
       "      <th>f192_sum</th>\n",
       "      <th>f200_sum</th>\n",
       "      <th>f208_sum</th>\n",
       "      <th>f216_sum</th>\n",
       "      <th>f224_sum</th>\n",
       "      <th>f232_sum</th>\n",
       "      <th>f240_sum</th>\n",
       "      <th>f248_sum</th>\n",
       "      <th>f256_sum</th>\n",
       "    </tr>\n",
       "  </thead>\n",
       "  <tbody>\n",
       "    <tr>\n",
       "      <th>0</th>\n",
       "      <td>3</td>\n",
       "      <td>39.0</td>\n",
       "      <td>0.427</td>\n",
       "      <td>1.0</td>\n",
       "      <td>-0.196000</td>\n",
       "      <td>0.461206</td>\n",
       "      <td>0.427</td>\n",
       "      <td>0.444915</td>\n",
       "      <td>1.059143</td>\n",
       "      <td>-1.218528</td>\n",
       "      <td>...</td>\n",
       "      <td>0.0</td>\n",
       "      <td>0.0</td>\n",
       "      <td>0.000000</td>\n",
       "      <td>0.00000</td>\n",
       "      <td>0.00000</td>\n",
       "      <td>0.000000</td>\n",
       "      <td>0.000000</td>\n",
       "      <td>0.000000</td>\n",
       "      <td>0.000000</td>\n",
       "      <td>0.000000</td>\n",
       "    </tr>\n",
       "    <tr>\n",
       "      <th>1</th>\n",
       "      <td>4</td>\n",
       "      <td>49.0</td>\n",
       "      <td>-0.341</td>\n",
       "      <td>1.0</td>\n",
       "      <td>-0.225000</td>\n",
       "      <td>0.404646</td>\n",
       "      <td>0.427</td>\n",
       "      <td>0.426164</td>\n",
       "      <td>1.320087</td>\n",
       "      <td>-0.635656</td>\n",
       "      <td>...</td>\n",
       "      <td>0.0</td>\n",
       "      <td>0.0</td>\n",
       "      <td>0.000000</td>\n",
       "      <td>0.00000</td>\n",
       "      <td>0.00000</td>\n",
       "      <td>0.000000</td>\n",
       "      <td>0.000000</td>\n",
       "      <td>0.000000</td>\n",
       "      <td>0.000000</td>\n",
       "      <td>0.000000</td>\n",
       "    </tr>\n",
       "    <tr>\n",
       "      <th>2</th>\n",
       "      <td>5</td>\n",
       "      <td>59.0</td>\n",
       "      <td>0.635</td>\n",
       "      <td>1.0</td>\n",
       "      <td>-0.081667</td>\n",
       "      <td>0.504239</td>\n",
       "      <td>0.635</td>\n",
       "      <td>0.467494</td>\n",
       "      <td>0.659047</td>\n",
       "      <td>-1.406848</td>\n",
       "      <td>...</td>\n",
       "      <td>0.0</td>\n",
       "      <td>0.0</td>\n",
       "      <td>0.000000</td>\n",
       "      <td>0.00000</td>\n",
       "      <td>0.00000</td>\n",
       "      <td>0.000000</td>\n",
       "      <td>0.000000</td>\n",
       "      <td>0.000000</td>\n",
       "      <td>0.000000</td>\n",
       "      <td>0.000000</td>\n",
       "    </tr>\n",
       "    <tr>\n",
       "      <th>3</th>\n",
       "      <td>6</td>\n",
       "      <td>69.0</td>\n",
       "      <td>-0.121</td>\n",
       "      <td>1.0</td>\n",
       "      <td>-0.087286</td>\n",
       "      <td>0.460546</td>\n",
       "      <td>0.635</td>\n",
       "      <td>0.435225</td>\n",
       "      <td>0.723868</td>\n",
       "      <td>-1.116786</td>\n",
       "      <td>...</td>\n",
       "      <td>0.0</td>\n",
       "      <td>0.0</td>\n",
       "      <td>0.000000</td>\n",
       "      <td>0.00000</td>\n",
       "      <td>0.00000</td>\n",
       "      <td>0.167382</td>\n",
       "      <td>0.167382</td>\n",
       "      <td>0.229148</td>\n",
       "      <td>0.229148</td>\n",
       "      <td>0.229148</td>\n",
       "    </tr>\n",
       "    <tr>\n",
       "      <th>4</th>\n",
       "      <td>7</td>\n",
       "      <td>79.0</td>\n",
       "      <td>0.488</td>\n",
       "      <td>1.0</td>\n",
       "      <td>-0.015375</td>\n",
       "      <td>0.472410</td>\n",
       "      <td>0.635</td>\n",
       "      <td>0.442166</td>\n",
       "      <td>0.277223</td>\n",
       "      <td>-1.516947</td>\n",
       "      <td>...</td>\n",
       "      <td>0.0</td>\n",
       "      <td>0.0</td>\n",
       "      <td>0.048721</td>\n",
       "      <td>0.09834</td>\n",
       "      <td>0.09834</td>\n",
       "      <td>0.035861</td>\n",
       "      <td>0.035861</td>\n",
       "      <td>0.102535</td>\n",
       "      <td>0.102535</td>\n",
       "      <td>0.102535</td>\n",
       "    </tr>\n",
       "    <tr>\n",
       "      <th>...</th>\n",
       "      <td>...</td>\n",
       "      <td>...</td>\n",
       "      <td>...</td>\n",
       "      <td>...</td>\n",
       "      <td>...</td>\n",
       "      <td>...</td>\n",
       "      <td>...</td>\n",
       "      <td>...</td>\n",
       "      <td>...</td>\n",
       "      <td>...</td>\n",
       "      <td>...</td>\n",
       "      <td>...</td>\n",
       "      <td>...</td>\n",
       "      <td>...</td>\n",
       "      <td>...</td>\n",
       "      <td>...</td>\n",
       "      <td>...</td>\n",
       "      <td>...</td>\n",
       "      <td>...</td>\n",
       "      <td>...</td>\n",
       "      <td>...</td>\n",
       "    </tr>\n",
       "    <tr>\n",
       "      <th>437239</th>\n",
       "      <td>204027</td>\n",
       "      <td>2040279.0</td>\n",
       "      <td>0.397</td>\n",
       "      <td>2.0</td>\n",
       "      <td>0.086308</td>\n",
       "      <td>1.224550</td>\n",
       "      <td>2.277</td>\n",
       "      <td>1.203868</td>\n",
       "      <td>-0.653156</td>\n",
       "      <td>0.326459</td>\n",
       "      <td>...</td>\n",
       "      <td>0.0</td>\n",
       "      <td>0.0</td>\n",
       "      <td>0.000000</td>\n",
       "      <td>0.00000</td>\n",
       "      <td>0.00000</td>\n",
       "      <td>0.000000</td>\n",
       "      <td>0.000000</td>\n",
       "      <td>0.000000</td>\n",
       "      <td>0.000000</td>\n",
       "      <td>0.000000</td>\n",
       "    </tr>\n",
       "    <tr>\n",
       "      <th>437240</th>\n",
       "      <td>204028</td>\n",
       "      <td>2040289.0</td>\n",
       "      <td>1.474</td>\n",
       "      <td>2.0</td>\n",
       "      <td>0.154077</td>\n",
       "      <td>1.251467</td>\n",
       "      <td>2.277</td>\n",
       "      <td>1.236799</td>\n",
       "      <td>-0.727844</td>\n",
       "      <td>0.244974</td>\n",
       "      <td>...</td>\n",
       "      <td>0.0</td>\n",
       "      <td>0.0</td>\n",
       "      <td>0.000000</td>\n",
       "      <td>0.00000</td>\n",
       "      <td>0.00000</td>\n",
       "      <td>0.000000</td>\n",
       "      <td>0.000000</td>\n",
       "      <td>0.000000</td>\n",
       "      <td>0.000000</td>\n",
       "      <td>0.000000</td>\n",
       "    </tr>\n",
       "    <tr>\n",
       "      <th>437241</th>\n",
       "      <td>204029</td>\n",
       "      <td>2040299.0</td>\n",
       "      <td>-0.173</td>\n",
       "      <td>2.0</td>\n",
       "      <td>0.128731</td>\n",
       "      <td>1.251149</td>\n",
       "      <td>2.277</td>\n",
       "      <td>1.233588</td>\n",
       "      <td>-0.664134</td>\n",
       "      <td>0.194037</td>\n",
       "      <td>...</td>\n",
       "      <td>0.0</td>\n",
       "      <td>0.0</td>\n",
       "      <td>0.000000</td>\n",
       "      <td>0.00000</td>\n",
       "      <td>0.00000</td>\n",
       "      <td>0.000000</td>\n",
       "      <td>0.000000</td>\n",
       "      <td>0.000000</td>\n",
       "      <td>0.000000</td>\n",
       "      <td>0.000000</td>\n",
       "    </tr>\n",
       "    <tr>\n",
       "      <th>437242</th>\n",
       "      <td>204030</td>\n",
       "      <td>2040309.0</td>\n",
       "      <td>0.689</td>\n",
       "      <td>2.0</td>\n",
       "      <td>0.153731</td>\n",
       "      <td>1.255770</td>\n",
       "      <td>2.277</td>\n",
       "      <td>1.240943</td>\n",
       "      <td>-0.717675</td>\n",
       "      <td>0.201322</td>\n",
       "      <td>...</td>\n",
       "      <td>0.0</td>\n",
       "      <td>0.0</td>\n",
       "      <td>0.000000</td>\n",
       "      <td>0.00000</td>\n",
       "      <td>0.00000</td>\n",
       "      <td>0.000000</td>\n",
       "      <td>0.000000</td>\n",
       "      <td>0.000000</td>\n",
       "      <td>0.000000</td>\n",
       "      <td>0.000000</td>\n",
       "    </tr>\n",
       "    <tr>\n",
       "      <th>437243</th>\n",
       "      <td>204031</td>\n",
       "      <td>2040319.0</td>\n",
       "      <td>-1.678</td>\n",
       "      <td>2.0</td>\n",
       "      <td>0.023923</td>\n",
       "      <td>1.264269</td>\n",
       "      <td>2.277</td>\n",
       "      <td>1.239949</td>\n",
       "      <td>-0.578998</td>\n",
       "      <td>-0.087137</td>\n",
       "      <td>...</td>\n",
       "      <td>0.0</td>\n",
       "      <td>0.0</td>\n",
       "      <td>0.000000</td>\n",
       "      <td>0.00000</td>\n",
       "      <td>0.00000</td>\n",
       "      <td>0.000000</td>\n",
       "      <td>0.000000</td>\n",
       "      <td>0.000000</td>\n",
       "      <td>0.000000</td>\n",
       "      <td>0.000000</td>\n",
       "    </tr>\n",
       "  </tbody>\n",
       "</table>\n",
       "<p>437244 rows × 141 columns</p>\n",
       "</div>"
      ],
      "text/plain": [
       "         index  Unnamed: 0  Horiz_acc   id  av_horiz  sd_horiz  peak_horiz  \\\n",
       "0            3        39.0      0.427  1.0 -0.196000  0.461206       0.427   \n",
       "1            4        49.0     -0.341  1.0 -0.225000  0.404646       0.427   \n",
       "2            5        59.0      0.635  1.0 -0.081667  0.504239       0.635   \n",
       "3            6        69.0     -0.121  1.0 -0.087286  0.460546       0.635   \n",
       "4            7        79.0      0.488  1.0 -0.015375  0.472410       0.635   \n",
       "...        ...         ...        ...  ...       ...       ...         ...   \n",
       "437239  204027   2040279.0      0.397  2.0  0.086308  1.224550       2.277   \n",
       "437240  204028   2040289.0      1.474  2.0  0.154077  1.251467       2.277   \n",
       "437241  204029   2040299.0     -0.173  2.0  0.128731  1.251149       2.277   \n",
       "437242  204030   2040309.0      0.689  2.0  0.153731  1.255770       2.277   \n",
       "437243  204031   2040319.0     -1.678  2.0  0.023923  1.264269       2.277   \n",
       "\n",
       "        rms_horiz  skew_horiz  kurt_horiz  ...  f184_sum  f192_sum  f200_sum  \\\n",
       "0        0.444915    1.059143   -1.218528  ...       0.0       0.0  0.000000   \n",
       "1        0.426164    1.320087   -0.635656  ...       0.0       0.0  0.000000   \n",
       "2        0.467494    0.659047   -1.406848  ...       0.0       0.0  0.000000   \n",
       "3        0.435225    0.723868   -1.116786  ...       0.0       0.0  0.000000   \n",
       "4        0.442166    0.277223   -1.516947  ...       0.0       0.0  0.048721   \n",
       "...           ...         ...         ...  ...       ...       ...       ...   \n",
       "437239   1.203868   -0.653156    0.326459  ...       0.0       0.0  0.000000   \n",
       "437240   1.236799   -0.727844    0.244974  ...       0.0       0.0  0.000000   \n",
       "437241   1.233588   -0.664134    0.194037  ...       0.0       0.0  0.000000   \n",
       "437242   1.240943   -0.717675    0.201322  ...       0.0       0.0  0.000000   \n",
       "437243   1.239949   -0.578998   -0.087137  ...       0.0       0.0  0.000000   \n",
       "\n",
       "        f208_sum  f216_sum  f224_sum  f232_sum  f240_sum  f248_sum  f256_sum  \n",
       "0        0.00000   0.00000  0.000000  0.000000  0.000000  0.000000  0.000000  \n",
       "1        0.00000   0.00000  0.000000  0.000000  0.000000  0.000000  0.000000  \n",
       "2        0.00000   0.00000  0.000000  0.000000  0.000000  0.000000  0.000000  \n",
       "3        0.00000   0.00000  0.167382  0.167382  0.229148  0.229148  0.229148  \n",
       "4        0.09834   0.09834  0.035861  0.035861  0.102535  0.102535  0.102535  \n",
       "...          ...       ...       ...       ...       ...       ...       ...  \n",
       "437239   0.00000   0.00000  0.000000  0.000000  0.000000  0.000000  0.000000  \n",
       "437240   0.00000   0.00000  0.000000  0.000000  0.000000  0.000000  0.000000  \n",
       "437241   0.00000   0.00000  0.000000  0.000000  0.000000  0.000000  0.000000  \n",
       "437242   0.00000   0.00000  0.000000  0.000000  0.000000  0.000000  0.000000  \n",
       "437243   0.00000   0.00000  0.000000  0.000000  0.000000  0.000000  0.000000  \n",
       "\n",
       "[437244 rows x 141 columns]"
      ]
     },
     "execution_count": 29,
     "metadata": {},
     "output_type": "execute_result"
    }
   ],
   "source": [
    "two_train"
   ]
  },
  {
   "cell_type": "code",
   "execution_count": 11,
   "metadata": {},
   "outputs": [],
   "source": [
    "one_train = pd.read_csv(\"one_train_combine.csv\")\n",
    "one_test = pd.read_csv(\"one_test_combine.csv\")"
   ]
  },
  {
   "cell_type": "code",
   "execution_count": 12,
   "metadata": {},
   "outputs": [
    {
     "data": {
      "text/html": [
       "<div>\n",
       "<style scoped>\n",
       "    .dataframe tbody tr th:only-of-type {\n",
       "        vertical-align: middle;\n",
       "    }\n",
       "\n",
       "    .dataframe tbody tr th {\n",
       "        vertical-align: top;\n",
       "    }\n",
       "\n",
       "    .dataframe thead th {\n",
       "        text-align: right;\n",
       "    }\n",
       "</style>\n",
       "<table border=\"1\" class=\"dataframe\">\n",
       "  <thead>\n",
       "    <tr style=\"text-align: right;\">\n",
       "      <th></th>\n",
       "      <th>Unnamed: 0_x</th>\n",
       "      <th>Horiz_acc</th>\n",
       "      <th>id_x</th>\n",
       "      <th>av_horiz</th>\n",
       "      <th>sd_horiz</th>\n",
       "      <th>peak_horiz</th>\n",
       "      <th>rms_horiz</th>\n",
       "      <th>skew_horiz</th>\n",
       "      <th>kurt_horiz</th>\n",
       "      <th>crest_horiz</th>\n",
       "      <th>...</th>\n",
       "      <th>peak_temp</th>\n",
       "      <th>rms_temp</th>\n",
       "      <th>skew_temp</th>\n",
       "      <th>kurt_temp</th>\n",
       "      <th>crest_temp</th>\n",
       "      <th>clear_temp</th>\n",
       "      <th>shape_temp</th>\n",
       "      <th>imp_temp</th>\n",
       "      <th>RUL_y</th>\n",
       "      <th>id</th>\n",
       "    </tr>\n",
       "  </thead>\n",
       "  <tbody>\n",
       "    <tr>\n",
       "      <th>0</th>\n",
       "      <td>17929.0</td>\n",
       "      <td>0.204</td>\n",
       "      <td>1.0</td>\n",
       "      <td>-0.000808</td>\n",
       "      <td>0.522451</td>\n",
       "      <td>1.185</td>\n",
       "      <td>0.512306</td>\n",
       "      <td>0.452596</td>\n",
       "      <td>-0.062617</td>\n",
       "      <td>2.313069</td>\n",
       "      <td>...</td>\n",
       "      <td>70.516</td>\n",
       "      <td>70.447515</td>\n",
       "      <td>-0.027677</td>\n",
       "      <td>-1.256711</td>\n",
       "      <td>1.000972</td>\n",
       "      <td>1.000972</td>\n",
       "      <td>1.0</td>\n",
       "      <td>1.000972</td>\n",
       "      <td>27950.1</td>\n",
       "      <td>1.0</td>\n",
       "    </tr>\n",
       "    <tr>\n",
       "      <th>1</th>\n",
       "      <td>17939.0</td>\n",
       "      <td>0.273</td>\n",
       "      <td>1.0</td>\n",
       "      <td>-0.002846</td>\n",
       "      <td>0.521227</td>\n",
       "      <td>1.185</td>\n",
       "      <td>0.511113</td>\n",
       "      <td>0.464104</td>\n",
       "      <td>-0.031312</td>\n",
       "      <td>2.318469</td>\n",
       "      <td>...</td>\n",
       "      <td>70.516</td>\n",
       "      <td>70.447515</td>\n",
       "      <td>-0.027677</td>\n",
       "      <td>-1.256711</td>\n",
       "      <td>1.000972</td>\n",
       "      <td>1.000972</td>\n",
       "      <td>1.0</td>\n",
       "      <td>1.000972</td>\n",
       "      <td>27950.1</td>\n",
       "      <td>1.0</td>\n",
       "    </tr>\n",
       "    <tr>\n",
       "      <th>2</th>\n",
       "      <td>17949.0</td>\n",
       "      <td>0.857</td>\n",
       "      <td>1.0</td>\n",
       "      <td>0.049308</td>\n",
       "      <td>0.537192</td>\n",
       "      <td>1.185</td>\n",
       "      <td>0.529063</td>\n",
       "      <td>0.319226</td>\n",
       "      <td>-0.303938</td>\n",
       "      <td>2.239808</td>\n",
       "      <td>...</td>\n",
       "      <td>70.516</td>\n",
       "      <td>70.447515</td>\n",
       "      <td>-0.027677</td>\n",
       "      <td>-1.256711</td>\n",
       "      <td>1.000972</td>\n",
       "      <td>1.000972</td>\n",
       "      <td>1.0</td>\n",
       "      <td>1.000972</td>\n",
       "      <td>27950.1</td>\n",
       "      <td>1.0</td>\n",
       "    </tr>\n",
       "    <tr>\n",
       "      <th>3</th>\n",
       "      <td>17959.0</td>\n",
       "      <td>-0.116</td>\n",
       "      <td>1.0</td>\n",
       "      <td>0.034231</td>\n",
       "      <td>0.536075</td>\n",
       "      <td>1.185</td>\n",
       "      <td>0.526778</td>\n",
       "      <td>0.408109</td>\n",
       "      <td>-0.243211</td>\n",
       "      <td>2.249523</td>\n",
       "      <td>...</td>\n",
       "      <td>70.516</td>\n",
       "      <td>70.447515</td>\n",
       "      <td>-0.027677</td>\n",
       "      <td>-1.256711</td>\n",
       "      <td>1.000972</td>\n",
       "      <td>1.000972</td>\n",
       "      <td>1.0</td>\n",
       "      <td>1.000972</td>\n",
       "      <td>27950.1</td>\n",
       "      <td>1.0</td>\n",
       "    </tr>\n",
       "    <tr>\n",
       "      <th>4</th>\n",
       "      <td>17969.0</td>\n",
       "      <td>0.627</td>\n",
       "      <td>1.0</td>\n",
       "      <td>0.012769</td>\n",
       "      <td>0.497978</td>\n",
       "      <td>1.043</td>\n",
       "      <td>0.488474</td>\n",
       "      <td>0.187612</td>\n",
       "      <td>-0.381098</td>\n",
       "      <td>2.135220</td>\n",
       "      <td>...</td>\n",
       "      <td>70.516</td>\n",
       "      <td>70.447515</td>\n",
       "      <td>-0.027677</td>\n",
       "      <td>-1.256711</td>\n",
       "      <td>1.000972</td>\n",
       "      <td>1.000972</td>\n",
       "      <td>1.0</td>\n",
       "      <td>1.000972</td>\n",
       "      <td>27950.1</td>\n",
       "      <td>1.0</td>\n",
       "    </tr>\n",
       "    <tr>\n",
       "      <th>...</th>\n",
       "      <td>...</td>\n",
       "      <td>...</td>\n",
       "      <td>...</td>\n",
       "      <td>...</td>\n",
       "      <td>...</td>\n",
       "      <td>...</td>\n",
       "      <td>...</td>\n",
       "      <td>...</td>\n",
       "      <td>...</td>\n",
       "      <td>...</td>\n",
       "      <td>...</td>\n",
       "      <td>...</td>\n",
       "      <td>...</td>\n",
       "      <td>...</td>\n",
       "      <td>...</td>\n",
       "      <td>...</td>\n",
       "      <td>...</td>\n",
       "      <td>...</td>\n",
       "      <td>...</td>\n",
       "      <td>...</td>\n",
       "      <td>...</td>\n",
       "    </tr>\n",
       "    <tr>\n",
       "      <th>936442</th>\n",
       "      <td>2229719.0</td>\n",
       "      <td>0.328</td>\n",
       "      <td>1.0</td>\n",
       "      <td>-0.078654</td>\n",
       "      <td>1.730453</td>\n",
       "      <td>3.344</td>\n",
       "      <td>1.698671</td>\n",
       "      <td>-0.596130</td>\n",
       "      <td>1.036508</td>\n",
       "      <td>1.968598</td>\n",
       "      <td>...</td>\n",
       "      <td>103.922</td>\n",
       "      <td>103.915133</td>\n",
       "      <td>-0.207950</td>\n",
       "      <td>-1.155515</td>\n",
       "      <td>1.000066</td>\n",
       "      <td>1.000066</td>\n",
       "      <td>1.0</td>\n",
       "      <td>1.000066</td>\n",
       "      <td>0.0</td>\n",
       "      <td>2.0</td>\n",
       "    </tr>\n",
       "    <tr>\n",
       "      <th>936443</th>\n",
       "      <td>2229729.0</td>\n",
       "      <td>-0.657</td>\n",
       "      <td>1.0</td>\n",
       "      <td>-0.060808</td>\n",
       "      <td>1.721644</td>\n",
       "      <td>3.344</td>\n",
       "      <td>1.689305</td>\n",
       "      <td>-0.631044</td>\n",
       "      <td>1.139150</td>\n",
       "      <td>1.979512</td>\n",
       "      <td>...</td>\n",
       "      <td>103.922</td>\n",
       "      <td>103.915133</td>\n",
       "      <td>-0.207950</td>\n",
       "      <td>-1.155515</td>\n",
       "      <td>1.000066</td>\n",
       "      <td>1.000066</td>\n",
       "      <td>1.0</td>\n",
       "      <td>1.000066</td>\n",
       "      <td>0.0</td>\n",
       "      <td>2.0</td>\n",
       "    </tr>\n",
       "    <tr>\n",
       "      <th>936444</th>\n",
       "      <td>2229739.0</td>\n",
       "      <td>-3.108</td>\n",
       "      <td>1.0</td>\n",
       "      <td>-0.210308</td>\n",
       "      <td>1.812186</td>\n",
       "      <td>3.344</td>\n",
       "      <td>1.789396</td>\n",
       "      <td>-0.482692</td>\n",
       "      <td>0.507112</td>\n",
       "      <td>1.868787</td>\n",
       "      <td>...</td>\n",
       "      <td>103.922</td>\n",
       "      <td>103.915133</td>\n",
       "      <td>-0.207950</td>\n",
       "      <td>-1.155515</td>\n",
       "      <td>1.000066</td>\n",
       "      <td>1.000066</td>\n",
       "      <td>1.0</td>\n",
       "      <td>1.000066</td>\n",
       "      <td>0.0</td>\n",
       "      <td>2.0</td>\n",
       "    </tr>\n",
       "    <tr>\n",
       "      <th>936445</th>\n",
       "      <td>2229749.0</td>\n",
       "      <td>-1.077</td>\n",
       "      <td>1.0</td>\n",
       "      <td>-0.178885</td>\n",
       "      <td>1.788755</td>\n",
       "      <td>3.344</td>\n",
       "      <td>1.763117</td>\n",
       "      <td>-0.527800</td>\n",
       "      <td>0.697830</td>\n",
       "      <td>1.896641</td>\n",
       "      <td>...</td>\n",
       "      <td>103.922</td>\n",
       "      <td>103.915133</td>\n",
       "      <td>-0.207950</td>\n",
       "      <td>-1.155515</td>\n",
       "      <td>1.000066</td>\n",
       "      <td>1.000066</td>\n",
       "      <td>1.0</td>\n",
       "      <td>1.000066</td>\n",
       "      <td>0.0</td>\n",
       "      <td>2.0</td>\n",
       "    </tr>\n",
       "    <tr>\n",
       "      <th>936446</th>\n",
       "      <td>2229759.0</td>\n",
       "      <td>-4.701</td>\n",
       "      <td>1.0</td>\n",
       "      <td>-0.401192</td>\n",
       "      <td>1.975585</td>\n",
       "      <td>3.344</td>\n",
       "      <td>1.978327</td>\n",
       "      <td>-0.555347</td>\n",
       "      <td>0.301269</td>\n",
       "      <td>1.690317</td>\n",
       "      <td>...</td>\n",
       "      <td>103.922</td>\n",
       "      <td>103.915133</td>\n",
       "      <td>-0.207950</td>\n",
       "      <td>-1.155515</td>\n",
       "      <td>1.000066</td>\n",
       "      <td>1.000066</td>\n",
       "      <td>1.0</td>\n",
       "      <td>1.000066</td>\n",
       "      <td>0.0</td>\n",
       "      <td>2.0</td>\n",
       "    </tr>\n",
       "  </tbody>\n",
       "</table>\n",
       "<p>936447 rows × 156 columns</p>\n",
       "</div>"
      ],
      "text/plain": [
       "        Unnamed: 0_x  Horiz_acc  id_x  av_horiz  sd_horiz  peak_horiz  \\\n",
       "0            17929.0      0.204   1.0 -0.000808  0.522451       1.185   \n",
       "1            17939.0      0.273   1.0 -0.002846  0.521227       1.185   \n",
       "2            17949.0      0.857   1.0  0.049308  0.537192       1.185   \n",
       "3            17959.0     -0.116   1.0  0.034231  0.536075       1.185   \n",
       "4            17969.0      0.627   1.0  0.012769  0.497978       1.043   \n",
       "...              ...        ...   ...       ...       ...         ...   \n",
       "936442     2229719.0      0.328   1.0 -0.078654  1.730453       3.344   \n",
       "936443     2229729.0     -0.657   1.0 -0.060808  1.721644       3.344   \n",
       "936444     2229739.0     -3.108   1.0 -0.210308  1.812186       3.344   \n",
       "936445     2229749.0     -1.077   1.0 -0.178885  1.788755       3.344   \n",
       "936446     2229759.0     -4.701   1.0 -0.401192  1.975585       3.344   \n",
       "\n",
       "        rms_horiz  skew_horiz  kurt_horiz  crest_horiz  ...  peak_temp  \\\n",
       "0        0.512306    0.452596   -0.062617     2.313069  ...     70.516   \n",
       "1        0.511113    0.464104   -0.031312     2.318469  ...     70.516   \n",
       "2        0.529063    0.319226   -0.303938     2.239808  ...     70.516   \n",
       "3        0.526778    0.408109   -0.243211     2.249523  ...     70.516   \n",
       "4        0.488474    0.187612   -0.381098     2.135220  ...     70.516   \n",
       "...           ...         ...         ...          ...  ...        ...   \n",
       "936442   1.698671   -0.596130    1.036508     1.968598  ...    103.922   \n",
       "936443   1.689305   -0.631044    1.139150     1.979512  ...    103.922   \n",
       "936444   1.789396   -0.482692    0.507112     1.868787  ...    103.922   \n",
       "936445   1.763117   -0.527800    0.697830     1.896641  ...    103.922   \n",
       "936446   1.978327   -0.555347    0.301269     1.690317  ...    103.922   \n",
       "\n",
       "          rms_temp  skew_temp  kurt_temp  crest_temp  clear_temp  shape_temp  \\\n",
       "0        70.447515  -0.027677  -1.256711    1.000972    1.000972         1.0   \n",
       "1        70.447515  -0.027677  -1.256711    1.000972    1.000972         1.0   \n",
       "2        70.447515  -0.027677  -1.256711    1.000972    1.000972         1.0   \n",
       "3        70.447515  -0.027677  -1.256711    1.000972    1.000972         1.0   \n",
       "4        70.447515  -0.027677  -1.256711    1.000972    1.000972         1.0   \n",
       "...            ...        ...        ...         ...         ...         ...   \n",
       "936442  103.915133  -0.207950  -1.155515    1.000066    1.000066         1.0   \n",
       "936443  103.915133  -0.207950  -1.155515    1.000066    1.000066         1.0   \n",
       "936444  103.915133  -0.207950  -1.155515    1.000066    1.000066         1.0   \n",
       "936445  103.915133  -0.207950  -1.155515    1.000066    1.000066         1.0   \n",
       "936446  103.915133  -0.207950  -1.155515    1.000066    1.000066         1.0   \n",
       "\n",
       "        imp_temp    RUL_y   id  \n",
       "0       1.000972  27950.1  1.0  \n",
       "1       1.000972  27950.1  1.0  \n",
       "2       1.000972  27950.1  1.0  \n",
       "3       1.000972  27950.1  1.0  \n",
       "4       1.000972  27950.1  1.0  \n",
       "...          ...      ...  ...  \n",
       "936442  1.000066      0.0  2.0  \n",
       "936443  1.000066      0.0  2.0  \n",
       "936444  1.000066      0.0  2.0  \n",
       "936445  1.000066      0.0  2.0  \n",
       "936446  1.000066      0.0  2.0  \n",
       "\n",
       "[936447 rows x 156 columns]"
      ]
     },
     "execution_count": 12,
     "metadata": {},
     "output_type": "execute_result"
    }
   ],
   "source": [
    "one_train"
   ]
  },
  {
   "cell_type": "code",
   "execution_count": 137,
   "metadata": {},
   "outputs": [],
   "source": [
    "for i in one_train_combine.columns:\n",
    "    if \"index\" in i :\n",
    "        print(i)"
   ]
  },
  {
   "cell_type": "code",
   "execution_count": 13,
   "metadata": {},
   "outputs": [],
   "source": [
    "one_train_combine = one_train.reset_index()\n",
    "one_test_combine = one_test.reset_index()"
   ]
  },
  {
   "cell_type": "code",
   "execution_count": 35,
   "metadata": {},
   "outputs": [],
   "source": [
    "X_train = one_train_combine.drop([\"index\",\"Unnamed: 0_x\",\"Unnamed: 0_y\",\"RUL_x\",\"RUL_y\",\"round_RUL\",\"id_x\",\"id.1\",\"id.2\"], axis=1)\n",
    "X_test = one_test_combine.drop([\"index\",\"Unnamed: 0_x\",\"Unnamed: 0_y\",\"RUL_x\",\"RUL_y\",\"round_RUL\",\"id_x\",\"id.1\",\"id.2\"], axis=1)\n",
    "y_train = one_train_combine[\"RUL_x\"]\n",
    "y_test = one_test_combine[\"RUL_x\"]"
   ]
  },
  {
   "cell_type": "code",
   "execution_count": 15,
   "metadata": {},
   "outputs": [],
   "source": [
    "from sklearn.ensemble import RandomForestRegressor"
   ]
  },
  {
   "cell_type": "code",
   "execution_count": 16,
   "metadata": {},
   "outputs": [],
   "source": [
    "from sklearn.linear_model import LinearRegression"
   ]
  },
  {
   "cell_type": "code",
   "execution_count": 33,
   "metadata": {},
   "outputs": [
    {
     "data": {
      "text/plain": [
       "LinearRegression(copy_X=True, fit_intercept=True, n_jobs=None, normalize=False)"
      ]
     },
     "execution_count": 33,
     "metadata": {},
     "output_type": "execute_result"
    }
   ],
   "source": [
    "lr = LinearRegression()\n",
    "lr.fit(X_train, y_train)"
   ]
  },
  {
   "cell_type": "code",
   "execution_count": 18,
   "metadata": {},
   "outputs": [],
   "source": [
    "from sklearn.metrics import mean_squared_error"
   ]
  },
  {
   "cell_type": "code",
   "execution_count": 36,
   "metadata": {},
   "outputs": [
    {
     "name": "stdout",
     "output_type": "stream",
     "text": [
      "MSE training: 9591360.440, MSE testing: 1017204145.191\n",
      "RMSE training: 3096.992, RMSE testing: 31893.638\n"
     ]
    }
   ],
   "source": [
    "y_test_predict = lr.predict(X_test)\n",
    "y_train_predict = lr.predict(X_train)\n",
    "\n",
    "train_mse = mean_squared_error(y_train, y_train_predict)\n",
    "test_mse = mean_squared_error(y_test, y_test_predict)\n",
    "print('MSE training: %.3f, MSE testing: %.3f' % (\n",
    "      (train_mse), (test_mse)))\n",
    "print('RMSE training: %.3f, RMSE testing: %.3f' % (\n",
    "      (train_mse**0.5), (test_mse**0.5)))"
   ]
  },
  {
   "cell_type": "code",
   "execution_count": 21,
   "metadata": {},
   "outputs": [],
   "source": [
    "def plot_features_weights(model, weights, feature_names):\n",
    "    \n",
    "\n",
    "    (px, py) = (8, 10) if len(weights) > 30 else (8, 5)\n",
    "    W = pd.DataFrame({'Weights':weights}, feature_names)\n",
    "    W_df = W.sort_values(by='Weights', ascending=True)\n",
    "    W_df.tail(10).plot(kind='barh', color='r', figsize=(px,py))\n",
    "    plt.xlabel(model)\n",
    "    plt.gca().legend_ = None"
   ]
  },
  {
   "cell_type": "code",
   "execution_count": 22,
   "metadata": {},
   "outputs": [],
   "source": [
    "def plot_residual(model, y_train, y_train_pred, y_test, y_test_pred):\n",
    "    plt.figure(figsize=(20,10))\n",
    "    plt.scatter(y_train_pred, y_train_pred - y_train, c='blue', marker='o', label='Training data')\n",
    "    plt.scatter(y_test_pred, y_test_pred - y_test, c='lightgreen', marker='s', label='Test data')\n",
    "    plt.xlabel('Predicted Values')\n",
    "    plt.ylabel('Residuals')\n",
    "    plt.legend(loc='upper left')\n",
    "    plt.hlines(y=0, xmin=-50, xmax=y_train.max()+50, color='red', lw=2)\n",
    "    plt.title(model + ' Residuals')\n",
    "    plt.show()"
   ]
  },
  {
   "cell_type": "code",
   "execution_count": 38,
   "metadata": {},
   "outputs": [
    {
     "data": {
      "image/png": "[encoded data removed]",
      "text/plain": [
       "<Figure size 576x720 with 1 Axes>"
      ]
     },
     "metadata": {
      "needs_background": "light"
     },
     "output_type": "display_data"
    }
   ],
   "source": [
    "plot_features_weights('linear regression',lr.coef_, X_train.columns)"
   ]
  },
  {
   "cell_type": "code",
   "execution_count": 39,
   "metadata": {},
   "outputs": [
    {
     "data": {
      "image/png": "[encoded data removed]",
      "text/plain": [
       "<Figure size 1440x720 with 1 Axes>"
      ]
     },
     "metadata": {
      "needs_background": "light"
     },
     "output_type": "display_data"
    }
   ],
   "source": [
    "plot_residual('linear regression',y_train, y_train_predict, y_test, y_test_predict)"
   ]
  },
  {
   "cell_type": "code",
   "execution_count": 40,
   "metadata": {},
   "outputs": [
    {
     "data": {
      "text/plain": [
       "array([35263.66904458, 35464.92521497, 35138.16808002, ...,\n",
       "        6481.5423209 ,  7185.1699429 ,  5991.71113734])"
      ]
     },
     "execution_count": 40,
     "metadata": {},
     "output_type": "execute_result"
    }
   ],
   "source": [
    "y_train_predict"
   ]
  },
  {
   "cell_type": "code",
   "execution_count": 50,
   "metadata": {},
   "outputs": [],
   "source": [
    "from sklearn.tree import DecisionTreeRegressor"
   ]
  },
  {
   "cell_type": "code",
   "execution_count": 56,
   "metadata": {},
   "outputs": [
    {
     "data": {
      "text/plain": [
       "DecisionTreeRegressor(ccp_alpha=0.0, criterion='mse', max_depth=5,\n",
       "                      max_features=None, max_leaf_nodes=None,\n",
       "                      min_impurity_decrease=0.0, min_impurity_split=None,\n",
       "                      min_samples_leaf=1, min_samples_split=2,\n",
       "                      min_weight_fraction_leaf=0.0, presort='deprecated',\n",
       "                      random_state=0, splitter='best')"
      ]
     },
     "execution_count": 56,
     "metadata": {},
     "output_type": "execute_result"
    }
   ],
   "source": [
    "dt = DecisionTreeRegressor(random_state=0,max_depth=5)\n",
    "dt.fit(X_test, y_test)"
   ]
  },
  {
   "cell_type": "code",
   "execution_count": 57,
   "metadata": {},
   "outputs": [
    {
     "name": "stdout",
     "output_type": "stream",
     "text": [
      "MSE training: 61419444.061, MSE testing: 14280794.121\n",
      "RMSE training: 7837.056, RMSE testing: 3778.994\n",
      "MAE training: 5996.962, MAE testing: 2690.264\n"
     ]
    }
   ],
   "source": [
    "y_test_predict = dt.predict(X_test)\n",
    "y_train_predict = dt.predict(X_train)\n",
    "\n",
    "train_mse = mean_squared_error(y_train, y_train_predict)\n",
    "test_mse = mean_squared_error(y_test, y_test_predict)\n",
    "print('MSE training: %.3f, MSE testing: %.3f' % (\n",
    "      (train_mse), (test_mse)))\n",
    "print('RMSE training: %.3f, RMSE testing: %.3f' % (\n",
    "      (train_mse**0.5), (test_mse**0.5)))\n",
    "train_mape = mean_absolute_error(y_train, y_train_predict)\n",
    "test_mape = mean_absolute_error(y_test, y_test_predict)\n",
    "print('MAE training: %.3f, MAE testing: %.3f' % (\n",
    "      (train_mape), (test_mape)))"
   ]
  },
  {
   "cell_type": "code",
   "execution_count": 48,
   "metadata": {},
   "outputs": [
    {
     "data": {
      "text/plain": [
       "RandomForestRegressor(bootstrap=True, ccp_alpha=0.0, criterion='mse',\n",
       "                      max_depth=6, max_features='auto', max_leaf_nodes=None,\n",
       "                      max_samples=None, min_impurity_decrease=0.0,\n",
       "                      min_impurity_split=None, min_samples_leaf=1,\n",
       "                      min_samples_split=1000, min_weight_fraction_leaf=0.0,\n",
       "                      n_estimators=200, n_jobs=-1, oob_score=False,\n",
       "                      random_state=0, verbose=0, warm_start=False)"
      ]
     },
     "execution_count": 48,
     "metadata": {},
     "output_type": "execute_result"
    }
   ],
   "source": [
    "rf = RandomForestRegressor(random_state=0,max_depth=6,n_estimators=200,min_samples_split=1000,n_jobs=-1)\n",
    "rf.fit(X_train, y_train)"
   ]
  },
  {
   "cell_type": "code",
   "execution_count": 46,
   "metadata": {},
   "outputs": [],
   "source": [
    "from sklearn.metrics import r2_score\n",
    "from sklearn.metrics import mean_squared_error"
   ]
  },
  {
   "cell_type": "code",
   "execution_count": 49,
   "metadata": {},
   "outputs": [
    {
     "name": "stdout",
     "output_type": "stream",
     "text": [
      "MSE training: 1086804.949, MSE testing: 73077680.658\n",
      "RMSE training: 1042.499, RMSE testing: 8548.548\n",
      "MAE training: 645.092, MAE testing: 6971.695\n"
     ]
    }
   ],
   "source": [
    "y_test_predict = rf.predict(X_test)\n",
    "y_train_predict = rf.predict(X_train)\n",
    "\n",
    "train_mse = mean_squared_error(y_train, y_train_predict)\n",
    "test_mse = mean_squared_error(y_test, y_test_predict)\n",
    "print('MSE training: %.3f, MSE testing: %.3f' % (\n",
    "      (train_mse), (test_mse)))\n",
    "print('RMSE training: %.3f, RMSE testing: %.3f' % (\n",
    "      (train_mse**0.5), (test_mse**0.5)))\n",
    "train_mape = mean_absolute_error(y_train, y_train_predict)\n",
    "test_mape = mean_absolute_error(y_test, y_test_predict)\n",
    "print('MAE training: %.3f, MAE testing: %.3f' % (\n",
    "      (train_mape), (test_mape)))"
   ]
  },
  {
   "cell_type": "code",
   "execution_count": 43,
   "metadata": {},
   "outputs": [],
   "source": [
    "from sklearn.metrics import mean_absolute_error"
   ]
  },
  {
   "cell_type": "code",
   "execution_count": 49,
   "metadata": {},
   "outputs": [
    {
     "name": "stdout",
     "output_type": "stream",
     "text": [
      "MAE training: 1335.164, MAE testing: 5496.720\n"
     ]
    }
   ],
   "source": [
    "train_mape = mean_absolute_error(y_train, y_train_predict)\n",
    "test_mape = mean_absolute_error(y_test, y_test_predict)\n",
    "print('MAE training: %.3f, MAE testing: %.3f' % (\n",
    "      (train_mape), (test_mape)))"
   ]
  },
  {
   "cell_type": "code",
   "execution_count": 44,
   "metadata": {},
   "outputs": [
    {
     "name": "stdout",
     "output_type": "stream",
     "text": [
      "MSE training: 1081646.806, MSE testing: 73065622.374\n",
      "RMSE training: 1040.023, RMSE testing: 8547.843\n",
      "MAE training: 642.423, MAE testing: 6972.003\n"
     ]
    }
   ],
   "source": [
    "y_test_predict = rf.predict(X_test)\n",
    "y_train_predict = rf.predict(X_train)\n",
    "\n",
    "train_mse = mean_squared_error(y_train, y_train_predict)\n",
    "test_mse = mean_squared_error(y_test, y_test_predict)\n",
    "print('MSE training: %.3f, MSE testing: %.3f' % (\n",
    "      (train_mse), (test_mse)))\n",
    "print('RMSE training: %.3f, RMSE testing: %.3f' % (\n",
    "      (train_mse**0.5), (test_mse**0.5)))\n",
    "train_mape = mean_absolute_error(y_train, y_train_predict)\n",
    "test_mape = mean_absolute_error(y_test, y_test_predict)\n",
    "print('MAE training: %.3f, MAE testing: %.3f' % (\n",
    "      (train_mape), (test_mape)))"
   ]
  },
  {
   "cell_type": "code",
   "execution_count": 49,
   "metadata": {},
   "outputs": [],
   "source": [
    "ans_df = pd.DataFrame(y_train)"
   ]
  },
  {
   "cell_type": "code",
   "execution_count": 50,
   "metadata": {},
   "outputs": [],
   "source": [
    "ans_df[\"rf_predict\"] = y_train_predict"
   ]
  },
  {
   "cell_type": "code",
   "execution_count": 67,
   "metadata": {},
   "outputs": [
    {
     "name": "stdout",
     "output_type": "stream",
     "text": [
      "MAE training: 4385.278, MAE testing: 5756.707\n"
     ]
    }
   ],
   "source": [
    "\n",
    "train_mape = mean_absolute_error(y_train, y_train_predict)\n",
    "test_mape = mean_absolute_error(y_test, y_test_predict)\n",
    "print('MAE training: %.3f, MAE testing: %.3f' % (\n",
    "      (train_mape), (test_mape)))"
   ]
  },
  {
   "cell_type": "code",
   "execution_count": 73,
   "metadata": {},
   "outputs": [
    {
     "name": "stdout",
     "output_type": "stream",
     "text": [
      "MAE training: 1040.631, MAE testing: 5756.707\n"
     ]
    }
   ],
   "source": [
    "y_train = ans_df[ans_df[\"RUL\"]<500][\"RUL\"]\n",
    "y_train_predict = ans_df[ans_df[\"RUL\"]<500][\"rf_predict\"]\n",
    "train_mape = mean_absolute_error(y_train, y_train_predict)\n",
    "test_mape = mean_absolute_error(y_test, y_test_predict)\n",
    "print('MAE training: %.3f, MAE testing: %.3f' % (\n",
    "      (train_mape), (test_mape)))"
   ]
  },
  {
   "cell_type": "code",
   "execution_count": 63,
   "metadata": {},
   "outputs": [
    {
     "name": "stdout",
     "output_type": "stream",
     "text": [
      "MAE training: 3904.573, MAE testing: 5756.707\n"
     ]
    }
   ],
   "source": [
    "y_train = ans_df[ans_df[\"RUL\"]<10000][\"RUL\"]\n",
    "y_train_predict = ans_df[ans_df[\"RUL\"]<10000][\"rf_predict\"]\n",
    "train_mape = mean_absolute_error(y_train, y_train_predict)\n",
    "test_mape = mean_absolute_error(y_test, y_test_predict)\n",
    "print('MAE training: %.3f, MAE testing: %.3f' % (\n",
    "      (train_mape), (test_mape)))"
   ]
  },
  {
   "cell_type": "code",
   "execution_count": 68,
   "metadata": {},
   "outputs": [
    {
     "name": "stdout",
     "output_type": "stream",
     "text": [
      "MAE training: 4883.032, MAE testing: 5756.707\n"
     ]
    }
   ],
   "source": [
    "y_train = ans_df[ans_df[\"RUL\"]>10000][\"RUL\"]\n",
    "y_train_predict = ans_df[ans_df[\"RUL\"]>10000][\"rf_predict\"]\n",
    "train_mape = mean_absolute_error(y_train, y_train_predict)\n",
    "test_mape = mean_absolute_error(y_test, y_test_predict)\n",
    "print('MAE training: %.3f, MAE testing: %.3f' % (\n",
    "      (train_mape), (test_mape)))"
   ]
  },
  {
   "cell_type": "code",
   "execution_count": 61,
   "metadata": {},
   "outputs": [
    {
     "data": {
      "text/html": [
       "<div>\n",
       "<style scoped>\n",
       "    .dataframe tbody tr th:only-of-type {\n",
       "        vertical-align: middle;\n",
       "    }\n",
       "\n",
       "    .dataframe tbody tr th {\n",
       "        vertical-align: top;\n",
       "    }\n",
       "\n",
       "    .dataframe thead th {\n",
       "        text-align: right;\n",
       "    }\n",
       "</style>\n",
       "<table border=\"1\" class=\"dataframe\">\n",
       "  <thead>\n",
       "    <tr style=\"text-align: right;\">\n",
       "      <th></th>\n",
       "      <th>RUL</th>\n",
       "      <th>rf_predict</th>\n",
       "    </tr>\n",
       "  </thead>\n",
       "  <tbody>\n",
       "    <tr>\n",
       "      <th>0</th>\n",
       "      <td>28020.099605</td>\n",
       "      <td>15356.027831</td>\n",
       "    </tr>\n",
       "    <tr>\n",
       "      <th>1</th>\n",
       "      <td>28020.099214</td>\n",
       "      <td>15176.099507</td>\n",
       "    </tr>\n",
       "    <tr>\n",
       "      <th>2</th>\n",
       "      <td>28020.098824</td>\n",
       "      <td>16848.654019</td>\n",
       "    </tr>\n",
       "    <tr>\n",
       "      <th>3</th>\n",
       "      <td>28020.098433</td>\n",
       "      <td>16848.654019</td>\n",
       "    </tr>\n",
       "    <tr>\n",
       "      <th>4</th>\n",
       "      <td>28020.098042</td>\n",
       "      <td>15657.801022</td>\n",
       "    </tr>\n",
       "    <tr>\n",
       "      <th>...</th>\n",
       "      <td>...</td>\n",
       "      <td>...</td>\n",
       "    </tr>\n",
       "    <tr>\n",
       "      <th>543227</th>\n",
       "      <td>28072.201560</td>\n",
       "      <td>7309.972206</td>\n",
       "    </tr>\n",
       "    <tr>\n",
       "      <th>543228</th>\n",
       "      <td>28072.201170</td>\n",
       "      <td>7266.249676</td>\n",
       "    </tr>\n",
       "    <tr>\n",
       "      <th>543229</th>\n",
       "      <td>28072.200780</td>\n",
       "      <td>6636.463772</td>\n",
       "    </tr>\n",
       "    <tr>\n",
       "      <th>543230</th>\n",
       "      <td>28072.200390</td>\n",
       "      <td>6423.953280</td>\n",
       "    </tr>\n",
       "    <tr>\n",
       "      <th>543231</th>\n",
       "      <td>28072.200000</td>\n",
       "      <td>6423.953280</td>\n",
       "    </tr>\n",
       "  </tbody>\n",
       "</table>\n",
       "<p>462078 rows × 2 columns</p>\n",
       "</div>"
      ],
      "text/plain": [
       "                 RUL    rf_predict\n",
       "0       28020.099605  15356.027831\n",
       "1       28020.099214  15176.099507\n",
       "2       28020.098824  16848.654019\n",
       "3       28020.098433  16848.654019\n",
       "4       28020.098042  15657.801022\n",
       "...              ...           ...\n",
       "543227  28072.201560   7309.972206\n",
       "543228  28072.201170   7266.249676\n",
       "543229  28072.200780   6636.463772\n",
       "543230  28072.200390   6423.953280\n",
       "543231  28072.200000   6423.953280\n",
       "\n",
       "[462078 rows x 2 columns]"
      ]
     },
     "execution_count": 61,
     "metadata": {},
     "output_type": "execute_result"
    }
   ],
   "source": [
    "ans_df[ans_df[\"RUL\"]>10000]"
   ]
  },
  {
   "cell_type": "code",
   "execution_count": 60,
   "metadata": {},
   "outputs": [
    {
     "data": {
      "text/plain": [
       "<matplotlib.collections.PathCollection at 0x28d87eb20b8>"
      ]
     },
     "execution_count": 60,
     "metadata": {},
     "output_type": "execute_result"
    },
    {
     "data": {
      "image/png": "[encoded data removed]",
      "text/plain": [
       "<Figure size 432x288 with 1 Axes>"
      ]
     },
     "metadata": {
      "needs_background": "light"
     },
     "output_type": "display_data"
    }
   ],
   "source": [
    "plt.scatter(ans_df.index,ans_df[\"RUL\"])"
   ]
  },
  {
   "cell_type": "code",
   "execution_count": 58,
   "metadata": {},
   "outputs": [
    {
     "data": {
      "image/png": "[encoded data removed]",
      "text/plain": [
       "<Figure size 576x720 with 1 Axes>"
      ]
     },
     "metadata": {
      "needs_background": "light"
     },
     "output_type": "display_data"
    }
   ],
   "source": [
    "plot_features_weights('Random Forest Regressor', rf.feature_importances_, X_train.columns)"
   ]
  },
  {
   "cell_type": "code",
   "execution_count": 46,
   "metadata": {},
   "outputs": [
    {
     "data": {
      "image/png": "[encoded data removed]",
      "text/plain": [
       "<Figure size 1440x720 with 1 Axes>"
      ]
     },
     "metadata": {
      "needs_background": "light"
     },
     "output_type": "display_data"
    }
   ],
   "source": [
    "plot_residual('Random Forest Regressor',y_train, y_train_predict, y_test, y_test_predict)"
   ]
  },
  {
   "cell_type": "code",
   "execution_count": 150,
   "metadata": {},
   "outputs": [
    {
     "data": {
      "text/plain": [
       "0         28020.099605\n",
       "1         28020.099214\n",
       "2         28020.098824\n",
       "3         28020.098433\n",
       "4         28020.098042\n",
       "              ...     \n",
       "940538        0.001560\n",
       "940539        0.001170\n",
       "940540        0.000780\n",
       "940541        0.000390\n",
       "940542        0.000000\n",
       "Name: RUL, Length: 940543, dtype: float64"
      ]
     },
     "execution_count": 150,
     "metadata": {},
     "output_type": "execute_result"
    }
   ],
   "source": [
    "y_train"
   ]
  },
  {
   "cell_type": "code",
   "execution_count": 149,
   "metadata": {},
   "outputs": [
    {
     "data": {
      "text/plain": [
       "array([15090.69924777, 14191.4132257 , 16939.07715585, ...,\n",
       "         183.10801738,   183.10801738,   183.10801738])"
      ]
     },
     "execution_count": 149,
     "metadata": {},
     "output_type": "execute_result"
    }
   ],
   "source": [
    "y_train_predict "
   ]
  },
  {
   "cell_type": "code",
   "execution_count": null,
   "metadata": {},
   "outputs": [],
   "source": [
    "mean_absolute_percentage_error"
   ]
  },
  {
   "cell_type": "code",
   "execution_count": 36,
   "metadata": {},
   "outputs": [
    {
     "data": {
      "text/plain": [
       "False"
      ]
     },
     "execution_count": 36,
     "metadata": {},
     "output_type": "execute_result"
    }
   ],
   "source": [
    "X_train.isnull().values.any()"
   ]
  },
  {
   "cell_type": "code",
   "execution_count": 75,
   "metadata": {},
   "outputs": [
    {
     "data": {
      "text/plain": [
       "<matplotlib.axes._subplots.AxesSubplot at 0x259a354bcf8>"
      ]
     },
     "execution_count": 75,
     "metadata": {},
     "output_type": "execute_result"
    },
    {
     "data": {
      "image/png": "[encoded data removed]",
      "text/plain": [
       "<Figure size 792x648 with 2 Axes>"
      ]
     },
     "metadata": {
      "needs_background": "light"
     },
     "output_type": "display_data"
    }
   ],
   "source": [
    "# 計算相關係數\n",
    "corr = one_train.corr()\n",
    "mask = np.triu(np.ones_like(corr, dtype=np.bool))\n",
    "f, ax = plt.subplots(figsize=(11, 9))\n",
    "cmap = sns.diverging_palette(220, 10, as_cmap=True)\n",
    "sns.heatmap(corr, mask=mask, cmap=cmap, vmax=.3, center=0,\n",
    "            square=True, linewidths=.5, cbar_kws={\"shrink\": .5})"
   ]
  },
  {
   "cell_type": "code",
   "execution_count": 90,
   "metadata": {},
   "outputs": [
    {
     "data": {
      "text/plain": [
       "<matplotlib.axes._subplots.AxesSubplot at 0x259a2f02eb8>"
      ]
     },
     "execution_count": 90,
     "metadata": {},
     "output_type": "execute_result"
    },
    {
     "data": {
      "image/png": "[encoded data removed]",
      "text/plain": [
       "<Figure size 720x2880 with 2 Axes>"
      ]
     },
     "metadata": {
      "needs_background": "light"
     },
     "output_type": "display_data"
    }
   ],
   "source": [
    "plt.figure(figsize=(10,40))\n",
    "cmap = sns.diverging_palette(220, 10, as_cmap=True)\n",
    "sns.heatmap(pd.DataFrame(corr[\"RUL\"].sort_values(ascending=False)), cmap=cmap, vmax=.3, center=0,\n",
    "            square=True, linewidths=.5, cbar_kws={\"shrink\": .5})"
   ]
  },
  {
   "cell_type": "code",
   "execution_count": 93,
   "metadata": {},
   "outputs": [
    {
     "data": {
      "text/plain": [
       "<matplotlib.collections.PathCollection at 0x259a3062b00>"
      ]
     },
     "execution_count": 93,
     "metadata": {},
     "output_type": "execute_result"
    },
    {
     "data": {
      "image/png": "[encoded data removed]",
      "text/plain": [
       "<Figure size 432x288 with 1 Axes>"
      ]
     },
     "metadata": {
      "needs_background": "light"
     },
     "output_type": "display_data"
    }
   ],
   "source": [
    "plt.scatter(one_train[\"RUL\"],one_train[\"p2ph_vert\"])"
   ]
  },
  {
   "cell_type": "code",
   "execution_count": 94,
   "metadata": {},
   "outputs": [
    {
     "data": {
      "text/plain": [
       "<matplotlib.collections.PathCollection at 0x259a6ec5400>"
      ]
     },
     "execution_count": 94,
     "metadata": {},
     "output_type": "execute_result"
    },
    {
     "data": {
      "image/png": "[encoded data removed]",
      "text/plain": [
       "<Figure size 432x288 with 1 Axes>"
      ]
     },
     "metadata": {
      "needs_background": "light"
     },
     "output_type": "display_data"
    }
   ],
   "source": [
    "plt.scatter(one_train[\"RUL\"],one_train[\"av_sum\"])"
   ]
  }
 ],
 "metadata": {
  "kernelspec": {
   "display_name": "Python 3",
   "language": "python",
   "name": "python3"
  },
  "language_info": {
   "codemirror_mode": {
    "name": "ipython",
    "version": 3
   },
   "file_extension": ".py",
   "mimetype": "text/x-python",
   "name": "python",
   "nbconvert_exporter": "python",
   "pygments_lexer": "ipython3",
   "version": "3.6.10"
  }
 },
 "nbformat": 4,
 "nbformat_minor": 4
}
