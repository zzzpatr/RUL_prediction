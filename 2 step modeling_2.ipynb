{
 "cells": [
  {
   "cell_type": "code",
   "execution_count": 111,
   "metadata": {},
   "outputs": [],
   "source": [
    "import numpy as np"
   ]
  },
  {
   "cell_type": "code",
   "execution_count": 112,
   "metadata": {},
   "outputs": [],
   "source": [
    "import matplotlib.pyplot as plt"
   ]
  },
  {
   "cell_type": "code",
   "execution_count": 113,
   "metadata": {},
   "outputs": [],
   "source": [
    "%matplotlib inline\n",
    "import matplotlib.pyplot as plt\n",
    "import numpy as np\n",
    "import pandas as pd\n",
    "import seaborn as sns\n",
    "from sklearn.ensemble import RandomForestRegressor\n",
    "from sklearn.ensemble import  RandomForestClassifier\n",
    "from sklearn import metrics"
   ]
  },
  {
   "cell_type": "code",
   "execution_count": 114,
   "metadata": {},
   "outputs": [],
   "source": [
    "import numpy as np"
   ]
  },
  {
   "cell_type": "code",
   "execution_count": 115,
   "metadata": {},
   "outputs": [],
   "source": [
    "import pandas as pd\n",
    "import os\n",
    "import glob"
   ]
  },
  {
   "cell_type": "code",
   "execution_count": 258,
   "metadata": {},
   "outputs": [],
   "source": [
    "one_train = pd.read_csv(\"two_train_combine.csv\")\n",
    "one_test = pd.read_csv(\"two_test_combine.csv\")"
   ]
  },
  {
   "cell_type": "code",
   "execution_count": 261,
   "metadata": {},
   "outputs": [
    {
     "data": {
      "text/html": [
       "<div>\n",
       "<style scoped>\n",
       "    .dataframe tbody tr th:only-of-type {\n",
       "        vertical-align: middle;\n",
       "    }\n",
       "\n",
       "    .dataframe tbody tr th {\n",
       "        vertical-align: top;\n",
       "    }\n",
       "\n",
       "    .dataframe thead th {\n",
       "        text-align: right;\n",
       "    }\n",
       "</style>\n",
       "<table border=\"1\" class=\"dataframe\">\n",
       "  <thead>\n",
       "    <tr style=\"text-align: right;\">\n",
       "      <th></th>\n",
       "      <th>Unnamed: 0_x</th>\n",
       "      <th>Horiz_acc</th>\n",
       "      <th>id_x</th>\n",
       "      <th>av_horiz</th>\n",
       "      <th>sd_horiz</th>\n",
       "      <th>peak_horiz</th>\n",
       "      <th>rms_horiz</th>\n",
       "      <th>skew_horiz</th>\n",
       "      <th>kurt_horiz</th>\n",
       "      <th>crest_horiz</th>\n",
       "      <th>...</th>\n",
       "      <th>peak_temp</th>\n",
       "      <th>rms_temp</th>\n",
       "      <th>skew_temp</th>\n",
       "      <th>kurt_temp</th>\n",
       "      <th>crest_temp</th>\n",
       "      <th>clear_temp</th>\n",
       "      <th>shape_temp</th>\n",
       "      <th>imp_temp</th>\n",
       "      <th>RUL_y</th>\n",
       "      <th>id</th>\n",
       "    </tr>\n",
       "  </thead>\n",
       "  <tbody>\n",
       "    <tr>\n",
       "      <th>0</th>\n",
       "      <td>15369.0</td>\n",
       "      <td>0.238</td>\n",
       "      <td>1.0</td>\n",
       "      <td>0.026962</td>\n",
       "      <td>0.260338</td>\n",
       "      <td>0.509</td>\n",
       "      <td>0.256702</td>\n",
       "      <td>0.211157</td>\n",
       "      <td>-0.798134</td>\n",
       "      <td>1.982841</td>\n",
       "      <td>...</td>\n",
       "      <td>59.930</td>\n",
       "      <td>59.488550</td>\n",
       "      <td>0.098539</td>\n",
       "      <td>-1.351611</td>\n",
       "      <td>1.007421</td>\n",
       "      <td>1.007439</td>\n",
       "      <td>1.000012</td>\n",
       "      <td>1.007433</td>\n",
       "      <td>7440.1</td>\n",
       "      <td>1.0</td>\n",
       "    </tr>\n",
       "    <tr>\n",
       "      <th>1</th>\n",
       "      <td>15379.0</td>\n",
       "      <td>-0.303</td>\n",
       "      <td>1.0</td>\n",
       "      <td>0.014577</td>\n",
       "      <td>0.268270</td>\n",
       "      <td>0.509</td>\n",
       "      <td>0.263464</td>\n",
       "      <td>0.262493</td>\n",
       "      <td>-0.918790</td>\n",
       "      <td>1.931952</td>\n",
       "      <td>...</td>\n",
       "      <td>59.930</td>\n",
       "      <td>59.488550</td>\n",
       "      <td>0.098539</td>\n",
       "      <td>-1.351611</td>\n",
       "      <td>1.007421</td>\n",
       "      <td>1.007439</td>\n",
       "      <td>1.000012</td>\n",
       "      <td>1.007433</td>\n",
       "      <td>7440.1</td>\n",
       "      <td>1.0</td>\n",
       "    </tr>\n",
       "    <tr>\n",
       "      <th>2</th>\n",
       "      <td>15389.0</td>\n",
       "      <td>0.531</td>\n",
       "      <td>1.0</td>\n",
       "      <td>0.028538</td>\n",
       "      <td>0.285469</td>\n",
       "      <td>0.531</td>\n",
       "      <td>0.281376</td>\n",
       "      <td>0.308589</td>\n",
       "      <td>-1.007622</td>\n",
       "      <td>1.887154</td>\n",
       "      <td>...</td>\n",
       "      <td>59.930</td>\n",
       "      <td>59.488550</td>\n",
       "      <td>0.098539</td>\n",
       "      <td>-1.351611</td>\n",
       "      <td>1.007421</td>\n",
       "      <td>1.007439</td>\n",
       "      <td>1.000012</td>\n",
       "      <td>1.007433</td>\n",
       "      <td>7440.1</td>\n",
       "      <td>1.0</td>\n",
       "    </tr>\n",
       "    <tr>\n",
       "      <th>3</th>\n",
       "      <td>15399.0</td>\n",
       "      <td>-0.298</td>\n",
       "      <td>1.0</td>\n",
       "      <td>0.013115</td>\n",
       "      <td>0.292042</td>\n",
       "      <td>0.531</td>\n",
       "      <td>0.286670</td>\n",
       "      <td>0.398728</td>\n",
       "      <td>-1.052732</td>\n",
       "      <td>1.852301</td>\n",
       "      <td>...</td>\n",
       "      <td>59.930</td>\n",
       "      <td>59.488550</td>\n",
       "      <td>0.098539</td>\n",
       "      <td>-1.351611</td>\n",
       "      <td>1.007421</td>\n",
       "      <td>1.007439</td>\n",
       "      <td>1.000012</td>\n",
       "      <td>1.007433</td>\n",
       "      <td>7440.1</td>\n",
       "      <td>1.0</td>\n",
       "    </tr>\n",
       "    <tr>\n",
       "      <th>4</th>\n",
       "      <td>15409.0</td>\n",
       "      <td>-0.095</td>\n",
       "      <td>1.0</td>\n",
       "      <td>0.009231</td>\n",
       "      <td>0.292811</td>\n",
       "      <td>0.531</td>\n",
       "      <td>0.287273</td>\n",
       "      <td>0.436532</td>\n",
       "      <td>-1.051198</td>\n",
       "      <td>1.848417</td>\n",
       "      <td>...</td>\n",
       "      <td>59.930</td>\n",
       "      <td>59.488550</td>\n",
       "      <td>0.098539</td>\n",
       "      <td>-1.351611</td>\n",
       "      <td>1.007421</td>\n",
       "      <td>1.007439</td>\n",
       "      <td>1.000012</td>\n",
       "      <td>1.007433</td>\n",
       "      <td>7440.1</td>\n",
       "      <td>1.0</td>\n",
       "    </tr>\n",
       "    <tr>\n",
       "      <th>...</th>\n",
       "      <td>...</td>\n",
       "      <td>...</td>\n",
       "      <td>...</td>\n",
       "      <td>...</td>\n",
       "      <td>...</td>\n",
       "      <td>...</td>\n",
       "      <td>...</td>\n",
       "      <td>...</td>\n",
       "      <td>...</td>\n",
       "      <td>...</td>\n",
       "      <td>...</td>\n",
       "      <td>...</td>\n",
       "      <td>...</td>\n",
       "      <td>...</td>\n",
       "      <td>...</td>\n",
       "      <td>...</td>\n",
       "      <td>...</td>\n",
       "      <td>...</td>\n",
       "      <td>...</td>\n",
       "      <td>...</td>\n",
       "      <td>...</td>\n",
       "    </tr>\n",
       "    <tr>\n",
       "      <th>782331</th>\n",
       "      <td>5916119.0</td>\n",
       "      <td>-0.128</td>\n",
       "      <td>1.0</td>\n",
       "      <td>-0.004577</td>\n",
       "      <td>0.232897</td>\n",
       "      <td>0.346</td>\n",
       "      <td>0.228421</td>\n",
       "      <td>-0.008840</td>\n",
       "      <td>-1.529796</td>\n",
       "      <td>1.514750</td>\n",
       "      <td>...</td>\n",
       "      <td>112.374</td>\n",
       "      <td>112.351017</td>\n",
       "      <td>-0.262185</td>\n",
       "      <td>-0.579971</td>\n",
       "      <td>1.000205</td>\n",
       "      <td>1.000205</td>\n",
       "      <td>1.000000</td>\n",
       "      <td>1.000205</td>\n",
       "      <td>0.0</td>\n",
       "      <td>2.0</td>\n",
       "    </tr>\n",
       "    <tr>\n",
       "      <th>782332</th>\n",
       "      <td>5916129.0</td>\n",
       "      <td>0.066</td>\n",
       "      <td>1.0</td>\n",
       "      <td>0.002385</td>\n",
       "      <td>0.232169</td>\n",
       "      <td>0.346</td>\n",
       "      <td>0.227673</td>\n",
       "      <td>-0.100525</td>\n",
       "      <td>-1.507062</td>\n",
       "      <td>1.519726</td>\n",
       "      <td>...</td>\n",
       "      <td>112.374</td>\n",
       "      <td>112.351017</td>\n",
       "      <td>-0.262185</td>\n",
       "      <td>-0.579971</td>\n",
       "      <td>1.000205</td>\n",
       "      <td>1.000205</td>\n",
       "      <td>1.000000</td>\n",
       "      <td>1.000205</td>\n",
       "      <td>0.0</td>\n",
       "      <td>2.0</td>\n",
       "    </tr>\n",
       "    <tr>\n",
       "      <th>782333</th>\n",
       "      <td>5916139.0</td>\n",
       "      <td>0.028</td>\n",
       "      <td>1.0</td>\n",
       "      <td>0.015038</td>\n",
       "      <td>0.223786</td>\n",
       "      <td>0.346</td>\n",
       "      <td>0.219955</td>\n",
       "      <td>-0.188188</td>\n",
       "      <td>-1.390106</td>\n",
       "      <td>1.573047</td>\n",
       "      <td>...</td>\n",
       "      <td>112.374</td>\n",
       "      <td>112.351017</td>\n",
       "      <td>-0.262185</td>\n",
       "      <td>-0.579971</td>\n",
       "      <td>1.000205</td>\n",
       "      <td>1.000205</td>\n",
       "      <td>1.000000</td>\n",
       "      <td>1.000205</td>\n",
       "      <td>0.0</td>\n",
       "      <td>2.0</td>\n",
       "    </tr>\n",
       "    <tr>\n",
       "      <th>782334</th>\n",
       "      <td>5916149.0</td>\n",
       "      <td>-0.189</td>\n",
       "      <td>1.0</td>\n",
       "      <td>0.018308</td>\n",
       "      <td>0.219984</td>\n",
       "      <td>0.346</td>\n",
       "      <td>0.216487</td>\n",
       "      <td>-0.182705</td>\n",
       "      <td>-1.360011</td>\n",
       "      <td>1.598247</td>\n",
       "      <td>...</td>\n",
       "      <td>112.374</td>\n",
       "      <td>112.351017</td>\n",
       "      <td>-0.262185</td>\n",
       "      <td>-0.579971</td>\n",
       "      <td>1.000205</td>\n",
       "      <td>1.000205</td>\n",
       "      <td>1.000000</td>\n",
       "      <td>1.000205</td>\n",
       "      <td>0.0</td>\n",
       "      <td>2.0</td>\n",
       "    </tr>\n",
       "    <tr>\n",
       "      <th>782335</th>\n",
       "      <td>5916159.0</td>\n",
       "      <td>0.008</td>\n",
       "      <td>1.0</td>\n",
       "      <td>0.006962</td>\n",
       "      <td>0.212182</td>\n",
       "      <td>0.346</td>\n",
       "      <td>0.208178</td>\n",
       "      <td>-0.134322</td>\n",
       "      <td>-1.285432</td>\n",
       "      <td>1.662040</td>\n",
       "      <td>...</td>\n",
       "      <td>112.374</td>\n",
       "      <td>112.351017</td>\n",
       "      <td>-0.262185</td>\n",
       "      <td>-0.579971</td>\n",
       "      <td>1.000205</td>\n",
       "      <td>1.000205</td>\n",
       "      <td>1.000000</td>\n",
       "      <td>1.000205</td>\n",
       "      <td>0.0</td>\n",
       "      <td>2.0</td>\n",
       "    </tr>\n",
       "  </tbody>\n",
       "</table>\n",
       "<p>782331 rows × 156 columns</p>\n",
       "</div>"
      ],
      "text/plain": [
       "        Unnamed: 0_x  Horiz_acc  id_x  av_horiz  sd_horiz  peak_horiz  \\\n",
       "0            15369.0      0.238   1.0  0.026962  0.260338       0.509   \n",
       "1            15379.0     -0.303   1.0  0.014577  0.268270       0.509   \n",
       "2            15389.0      0.531   1.0  0.028538  0.285469       0.531   \n",
       "3            15399.0     -0.298   1.0  0.013115  0.292042       0.531   \n",
       "4            15409.0     -0.095   1.0  0.009231  0.292811       0.531   \n",
       "...              ...        ...   ...       ...       ...         ...   \n",
       "782331     5916119.0     -0.128   1.0 -0.004577  0.232897       0.346   \n",
       "782332     5916129.0      0.066   1.0  0.002385  0.232169       0.346   \n",
       "782333     5916139.0      0.028   1.0  0.015038  0.223786       0.346   \n",
       "782334     5916149.0     -0.189   1.0  0.018308  0.219984       0.346   \n",
       "782335     5916159.0      0.008   1.0  0.006962  0.212182       0.346   \n",
       "\n",
       "        rms_horiz  skew_horiz  kurt_horiz  crest_horiz  ...  peak_temp  \\\n",
       "0        0.256702    0.211157   -0.798134     1.982841  ...     59.930   \n",
       "1        0.263464    0.262493   -0.918790     1.931952  ...     59.930   \n",
       "2        0.281376    0.308589   -1.007622     1.887154  ...     59.930   \n",
       "3        0.286670    0.398728   -1.052732     1.852301  ...     59.930   \n",
       "4        0.287273    0.436532   -1.051198     1.848417  ...     59.930   \n",
       "...           ...         ...         ...          ...  ...        ...   \n",
       "782331   0.228421   -0.008840   -1.529796     1.514750  ...    112.374   \n",
       "782332   0.227673   -0.100525   -1.507062     1.519726  ...    112.374   \n",
       "782333   0.219955   -0.188188   -1.390106     1.573047  ...    112.374   \n",
       "782334   0.216487   -0.182705   -1.360011     1.598247  ...    112.374   \n",
       "782335   0.208178   -0.134322   -1.285432     1.662040  ...    112.374   \n",
       "\n",
       "          rms_temp  skew_temp  kurt_temp  crest_temp  clear_temp  shape_temp  \\\n",
       "0        59.488550   0.098539  -1.351611    1.007421    1.007439    1.000012   \n",
       "1        59.488550   0.098539  -1.351611    1.007421    1.007439    1.000012   \n",
       "2        59.488550   0.098539  -1.351611    1.007421    1.007439    1.000012   \n",
       "3        59.488550   0.098539  -1.351611    1.007421    1.007439    1.000012   \n",
       "4        59.488550   0.098539  -1.351611    1.007421    1.007439    1.000012   \n",
       "...            ...        ...        ...         ...         ...         ...   \n",
       "782331  112.351017  -0.262185  -0.579971    1.000205    1.000205    1.000000   \n",
       "782332  112.351017  -0.262185  -0.579971    1.000205    1.000205    1.000000   \n",
       "782333  112.351017  -0.262185  -0.579971    1.000205    1.000205    1.000000   \n",
       "782334  112.351017  -0.262185  -0.579971    1.000205    1.000205    1.000000   \n",
       "782335  112.351017  -0.262185  -0.579971    1.000205    1.000205    1.000000   \n",
       "\n",
       "        imp_temp   RUL_y   id  \n",
       "0       1.007433  7440.1  1.0  \n",
       "1       1.007433  7440.1  1.0  \n",
       "2       1.007433  7440.1  1.0  \n",
       "3       1.007433  7440.1  1.0  \n",
       "4       1.007433  7440.1  1.0  \n",
       "...          ...     ...  ...  \n",
       "782331  1.000205     0.0  2.0  \n",
       "782332  1.000205     0.0  2.0  \n",
       "782333  1.000205     0.0  2.0  \n",
       "782334  1.000205     0.0  2.0  \n",
       "782335  1.000205     0.0  2.0  \n",
       "\n",
       "[782331 rows x 156 columns]"
      ]
     },
     "execution_count": 261,
     "metadata": {},
     "output_type": "execute_result"
    }
   ],
   "source": [
    "one_train"
   ]
  },
  {
   "cell_type": "code",
   "execution_count": 262,
   "metadata": {},
   "outputs": [],
   "source": [
    "def clean_dataset(df):\n",
    "    assert isinstance(df, pd.DataFrame), \"df needs to be a pd.DataFrame\"\n",
    "    df.dropna(inplace=True)\n",
    "    indices_to_keep = ~df.isin([np.nan, np.inf, -np.inf]).any(1)\n",
    "    return df[indices_to_keep].astype(np.float64)\n",
    "\n",
    "one_train = clean_dataset(one_train)\n",
    "one_test = clean_dataset(one_test)"
   ]
  },
  {
   "cell_type": "code",
   "execution_count": 263,
   "metadata": {},
   "outputs": [],
   "source": [
    "one_train = one_train.reset_index()\n",
    "one_test = one_test.reset_index()"
   ]
  },
  {
   "cell_type": "markdown",
   "metadata": {},
   "source": [
    "### step 1 classification"
   ]
  },
  {
   "cell_type": "code",
   "execution_count": 264,
   "metadata": {},
   "outputs": [],
   "source": [
    "imp_df = pd.read_csv(\"feature_selection_2.csv\")"
   ]
  },
  {
   "cell_type": "code",
   "execution_count": 265,
   "metadata": {},
   "outputs": [],
   "source": [
    "def two_time_group(one_train):\n",
    "    time_group_list = []\n",
    "    for i in range(1,int(one_train[\"id\"].max())+1,1):\n",
    "        one_id = one_train[one_train[\"id\"]==i][[\"id\",\"RUL_x\"]]\n",
    "        one_id = one_id.reset_index()\n",
    "        one_id.loc[one_id[\"RUL_x\"]>one_id.loc[0,\"RUL_x\"]/2,\"time_group\"] = 0\n",
    "        one_id.loc[one_id[\"RUL_x\"]<one_id.loc[0,\"RUL_x\"]/2,\"time_group\"] = 1\n",
    "        time_group_list = time_group_list + list(one_id[\"time_group\"].values)\n",
    "    one_train[\"time_group\"] = time_group_list\n",
    "    return one_train"
   ]
  },
  {
   "cell_type": "code",
   "execution_count": 266,
   "metadata": {},
   "outputs": [],
   "source": [
    "def three_time_group(one_train):\n",
    "    time_group_list = []\n",
    "    for i in range(1,int(one_train[\"id\"].max())+1,1):\n",
    "        one_id = one_train[one_train[\"id\"]==i][[\"id\",\"RUL_x\"]]\n",
    "        one_id = one_id.reset_index()\n",
    "        one_id.loc[one_id[\"RUL_x\"]>one_id.loc[0,\"RUL_x\"]/2,\"time_group\"] = 0\n",
    "        one_id.loc[(one_id[\"RUL_x\"]<one_id.loc[0,\"RUL_x\"]/2) & (one_id[\"RUL_x\"]>one_id.loc[0,\"RUL_x\"]*0.25),\"time_group\"] = 1\n",
    "        one_id.loc[one_id[\"RUL_x\"]<one_id.loc[0,\"RUL_x\"]*0.25,\"time_group\"] = 2\n",
    "        time_group_list = time_group_list + list(one_id[\"time_group\"].values)\n",
    "    one_train[\"time_group\"] = time_group_list\n",
    "    return one_train"
   ]
  },
  {
   "cell_type": "code",
   "execution_count": 267,
   "metadata": {},
   "outputs": [],
   "source": [
    "def four_time_group(one_train):\n",
    "    time_group_list = []\n",
    "    for i in range(1,int(one_train[\"id\"].max())+1,1):\n",
    "        one_id = one_train[one_train[\"id\"]==i][[\"id\",\"RUL_x\"]]\n",
    "        one_id = one_id.reset_index()\n",
    "        one_id.loc[one_id[\"RUL_x\"]>one_id.loc[0,\"RUL_x\"]/2,\"time_group\"] = 0\n",
    "        one_id.loc[(one_id[\"RUL_x\"]<one_id.loc[0,\"RUL_x\"]*0.5) & (one_id[\"RUL_x\"]>one_id.loc[0,\"RUL_x\"]*0.25),\"time_group\"] = 1\n",
    "        one_id.loc[(one_id[\"RUL_x\"]<one_id.loc[0,\"RUL_x\"]*0.25) & (one_id[\"RUL_x\"]>one_id.loc[0,\"RUL_x\"]*0.125),\"time_group\"] = 2 \n",
    "        one_id.loc[one_id[\"RUL_x\"]<one_id.loc[0,\"RUL_x\"]*0.125,\"time_group\"] = 3\n",
    "        time_group_list = time_group_list + list(one_id[\"time_group\"].values)\n",
    "    one_train[\"time_group\"] = time_group_list\n",
    "    return one_train"
   ]
  },
  {
   "cell_type": "code",
   "execution_count": 268,
   "metadata": {},
   "outputs": [],
   "source": [
    "max_list = []\n",
    "for i in range(1,int(one_train[\"id\"].max())+1,1):\n",
    "    one_id = one_train[one_train[\"id\"]==i][[\"id\",\"RUL_x\"]]\n",
    "    one_id = one_id.reset_index()\n",
    "    max_list.append(one_id.loc[0,\"RUL_x\"])"
   ]
  },
  {
   "cell_type": "code",
   "execution_count": 269,
   "metadata": {},
   "outputs": [
    {
     "data": {
      "text/html": [
       "<div>\n",
       "<style scoped>\n",
       "    .dataframe tbody tr th:only-of-type {\n",
       "        vertical-align: middle;\n",
       "    }\n",
       "\n",
       "    .dataframe tbody tr th {\n",
       "        vertical-align: top;\n",
       "    }\n",
       "\n",
       "    .dataframe thead th {\n",
       "        text-align: right;\n",
       "    }\n",
       "</style>\n",
       "<table border=\"1\" class=\"dataframe\">\n",
       "  <thead>\n",
       "    <tr style=\"text-align: right;\">\n",
       "      <th></th>\n",
       "      <th>index</th>\n",
       "      <th>Unnamed: 0_x</th>\n",
       "      <th>Horiz_acc</th>\n",
       "      <th>id_x</th>\n",
       "      <th>av_horiz</th>\n",
       "      <th>sd_horiz</th>\n",
       "      <th>peak_horiz</th>\n",
       "      <th>rms_horiz</th>\n",
       "      <th>skew_horiz</th>\n",
       "      <th>kurt_horiz</th>\n",
       "      <th>...</th>\n",
       "      <th>peak_temp</th>\n",
       "      <th>rms_temp</th>\n",
       "      <th>skew_temp</th>\n",
       "      <th>kurt_temp</th>\n",
       "      <th>crest_temp</th>\n",
       "      <th>clear_temp</th>\n",
       "      <th>shape_temp</th>\n",
       "      <th>imp_temp</th>\n",
       "      <th>RUL_y</th>\n",
       "      <th>id</th>\n",
       "    </tr>\n",
       "  </thead>\n",
       "  <tbody>\n",
       "    <tr>\n",
       "      <th>0</th>\n",
       "      <td>0</td>\n",
       "      <td>25609.0</td>\n",
       "      <td>0.445</td>\n",
       "      <td>1.0</td>\n",
       "      <td>0.080846</td>\n",
       "      <td>0.505284</td>\n",
       "      <td>1.161</td>\n",
       "      <td>0.502024</td>\n",
       "      <td>0.030814</td>\n",
       "      <td>-0.597111</td>\n",
       "      <td>...</td>\n",
       "      <td>69.185</td>\n",
       "      <td>69.120956</td>\n",
       "      <td>-0.049059</td>\n",
       "      <td>-1.171330</td>\n",
       "      <td>1.000927</td>\n",
       "      <td>1.000927</td>\n",
       "      <td>1.0</td>\n",
       "      <td>1.000927</td>\n",
       "      <td>9000.1</td>\n",
       "      <td>1.0</td>\n",
       "    </tr>\n",
       "    <tr>\n",
       "      <th>1</th>\n",
       "      <td>1</td>\n",
       "      <td>25619.0</td>\n",
       "      <td>0.272</td>\n",
       "      <td>1.0</td>\n",
       "      <td>0.096462</td>\n",
       "      <td>0.504652</td>\n",
       "      <td>1.161</td>\n",
       "      <td>0.504166</td>\n",
       "      <td>-0.063969</td>\n",
       "      <td>-0.583935</td>\n",
       "      <td>...</td>\n",
       "      <td>69.185</td>\n",
       "      <td>69.120956</td>\n",
       "      <td>-0.049059</td>\n",
       "      <td>-1.171330</td>\n",
       "      <td>1.000927</td>\n",
       "      <td>1.000927</td>\n",
       "      <td>1.0</td>\n",
       "      <td>1.000927</td>\n",
       "      <td>9000.1</td>\n",
       "      <td>1.0</td>\n",
       "    </tr>\n",
       "    <tr>\n",
       "      <th>2</th>\n",
       "      <td>2</td>\n",
       "      <td>25629.0</td>\n",
       "      <td>0.597</td>\n",
       "      <td>1.0</td>\n",
       "      <td>0.132385</td>\n",
       "      <td>0.505804</td>\n",
       "      <td>1.161</td>\n",
       "      <td>0.513345</td>\n",
       "      <td>-0.225490</td>\n",
       "      <td>-0.558417</td>\n",
       "      <td>...</td>\n",
       "      <td>69.185</td>\n",
       "      <td>69.120956</td>\n",
       "      <td>-0.049059</td>\n",
       "      <td>-1.171330</td>\n",
       "      <td>1.000927</td>\n",
       "      <td>1.000927</td>\n",
       "      <td>1.0</td>\n",
       "      <td>1.000927</td>\n",
       "      <td>9000.1</td>\n",
       "      <td>1.0</td>\n",
       "    </tr>\n",
       "    <tr>\n",
       "      <th>3</th>\n",
       "      <td>3</td>\n",
       "      <td>25639.0</td>\n",
       "      <td>-1.381</td>\n",
       "      <td>1.0</td>\n",
       "      <td>0.052500</td>\n",
       "      <td>0.572807</td>\n",
       "      <td>1.161</td>\n",
       "      <td>0.564131</td>\n",
       "      <td>-0.539413</td>\n",
       "      <td>0.061838</td>\n",
       "      <td>...</td>\n",
       "      <td>69.185</td>\n",
       "      <td>69.120956</td>\n",
       "      <td>-0.049059</td>\n",
       "      <td>-1.171330</td>\n",
       "      <td>1.000927</td>\n",
       "      <td>1.000927</td>\n",
       "      <td>1.0</td>\n",
       "      <td>1.000927</td>\n",
       "      <td>9000.1</td>\n",
       "      <td>1.0</td>\n",
       "    </tr>\n",
       "    <tr>\n",
       "      <th>4</th>\n",
       "      <td>4</td>\n",
       "      <td>25649.0</td>\n",
       "      <td>1.514</td>\n",
       "      <td>1.0</td>\n",
       "      <td>0.116500</td>\n",
       "      <td>0.638472</td>\n",
       "      <td>1.514</td>\n",
       "      <td>0.636820</td>\n",
       "      <td>-0.195293</td>\n",
       "      <td>0.137653</td>\n",
       "      <td>...</td>\n",
       "      <td>69.185</td>\n",
       "      <td>69.120956</td>\n",
       "      <td>-0.049059</td>\n",
       "      <td>-1.171330</td>\n",
       "      <td>1.000927</td>\n",
       "      <td>1.000927</td>\n",
       "      <td>1.0</td>\n",
       "      <td>1.000927</td>\n",
       "      <td>9000.1</td>\n",
       "      <td>1.0</td>\n",
       "    </tr>\n",
       "    <tr>\n",
       "      <th>...</th>\n",
       "      <td>...</td>\n",
       "      <td>...</td>\n",
       "      <td>...</td>\n",
       "      <td>...</td>\n",
       "      <td>...</td>\n",
       "      <td>...</td>\n",
       "      <td>...</td>\n",
       "      <td>...</td>\n",
       "      <td>...</td>\n",
       "      <td>...</td>\n",
       "      <td>...</td>\n",
       "      <td>...</td>\n",
       "      <td>...</td>\n",
       "      <td>...</td>\n",
       "      <td>...</td>\n",
       "      <td>...</td>\n",
       "      <td>...</td>\n",
       "      <td>...</td>\n",
       "      <td>...</td>\n",
       "      <td>...</td>\n",
       "      <td>...</td>\n",
       "    </tr>\n",
       "    <tr>\n",
       "      <th>230651</th>\n",
       "      <td>230651</td>\n",
       "      <td>2332119.0</td>\n",
       "      <td>-1.361</td>\n",
       "      <td>1.0</td>\n",
       "      <td>-0.201885</td>\n",
       "      <td>3.416126</td>\n",
       "      <td>8.724</td>\n",
       "      <td>3.355865</td>\n",
       "      <td>-1.205327</td>\n",
       "      <td>5.886948</td>\n",
       "      <td>...</td>\n",
       "      <td>103.208</td>\n",
       "      <td>103.176735</td>\n",
       "      <td>0.016580</td>\n",
       "      <td>-1.132239</td>\n",
       "      <td>1.000303</td>\n",
       "      <td>1.000303</td>\n",
       "      <td>1.0</td>\n",
       "      <td>1.000303</td>\n",
       "      <td>0.0</td>\n",
       "      <td>1.0</td>\n",
       "    </tr>\n",
       "    <tr>\n",
       "      <th>230652</th>\n",
       "      <td>230652</td>\n",
       "      <td>2332129.0</td>\n",
       "      <td>0.400</td>\n",
       "      <td>1.0</td>\n",
       "      <td>-0.185769</td>\n",
       "      <td>3.418011</td>\n",
       "      <td>8.724</td>\n",
       "      <td>3.356780</td>\n",
       "      <td>-1.218428</td>\n",
       "      <td>5.889320</td>\n",
       "      <td>...</td>\n",
       "      <td>103.208</td>\n",
       "      <td>103.176735</td>\n",
       "      <td>0.016580</td>\n",
       "      <td>-1.132239</td>\n",
       "      <td>1.000303</td>\n",
       "      <td>1.000303</td>\n",
       "      <td>1.0</td>\n",
       "      <td>1.000303</td>\n",
       "      <td>0.0</td>\n",
       "      <td>1.0</td>\n",
       "    </tr>\n",
       "    <tr>\n",
       "      <th>230653</th>\n",
       "      <td>230653</td>\n",
       "      <td>2332139.0</td>\n",
       "      <td>-0.472</td>\n",
       "      <td>1.0</td>\n",
       "      <td>-0.307769</td>\n",
       "      <td>3.367119</td>\n",
       "      <td>8.724</td>\n",
       "      <td>3.316045</td>\n",
       "      <td>-1.184010</td>\n",
       "      <td>6.243683</td>\n",
       "      <td>...</td>\n",
       "      <td>103.208</td>\n",
       "      <td>103.176735</td>\n",
       "      <td>0.016580</td>\n",
       "      <td>-1.132239</td>\n",
       "      <td>1.000303</td>\n",
       "      <td>1.000303</td>\n",
       "      <td>1.0</td>\n",
       "      <td>1.000303</td>\n",
       "      <td>0.0</td>\n",
       "      <td>1.0</td>\n",
       "    </tr>\n",
       "    <tr>\n",
       "      <th>230654</th>\n",
       "      <td>230654</td>\n",
       "      <td>2332149.0</td>\n",
       "      <td>1.158</td>\n",
       "      <td>1.0</td>\n",
       "      <td>-0.094000</td>\n",
       "      <td>3.272010</td>\n",
       "      <td>8.724</td>\n",
       "      <td>3.209846</td>\n",
       "      <td>-1.414265</td>\n",
       "      <td>7.594264</td>\n",
       "      <td>...</td>\n",
       "      <td>103.208</td>\n",
       "      <td>103.176735</td>\n",
       "      <td>0.016580</td>\n",
       "      <td>-1.132239</td>\n",
       "      <td>1.000303</td>\n",
       "      <td>1.000303</td>\n",
       "      <td>1.0</td>\n",
       "      <td>1.000303</td>\n",
       "      <td>0.0</td>\n",
       "      <td>1.0</td>\n",
       "    </tr>\n",
       "    <tr>\n",
       "      <th>230655</th>\n",
       "      <td>230655</td>\n",
       "      <td>2332159.0</td>\n",
       "      <td>0.026</td>\n",
       "      <td>1.0</td>\n",
       "      <td>-0.139615</td>\n",
       "      <td>3.261324</td>\n",
       "      <td>8.724</td>\n",
       "      <td>3.201038</td>\n",
       "      <td>-1.385533</td>\n",
       "      <td>7.657090</td>\n",
       "      <td>...</td>\n",
       "      <td>103.208</td>\n",
       "      <td>103.176735</td>\n",
       "      <td>0.016580</td>\n",
       "      <td>-1.132239</td>\n",
       "      <td>1.000303</td>\n",
       "      <td>1.000303</td>\n",
       "      <td>1.0</td>\n",
       "      <td>1.000303</td>\n",
       "      <td>0.0</td>\n",
       "      <td>1.0</td>\n",
       "    </tr>\n",
       "  </tbody>\n",
       "</table>\n",
       "<p>230656 rows × 157 columns</p>\n",
       "</div>"
      ],
      "text/plain": [
       "         index  Unnamed: 0_x  Horiz_acc  id_x  av_horiz  sd_horiz  peak_horiz  \\\n",
       "0            0       25609.0      0.445   1.0  0.080846  0.505284       1.161   \n",
       "1            1       25619.0      0.272   1.0  0.096462  0.504652       1.161   \n",
       "2            2       25629.0      0.597   1.0  0.132385  0.505804       1.161   \n",
       "3            3       25639.0     -1.381   1.0  0.052500  0.572807       1.161   \n",
       "4            4       25649.0      1.514   1.0  0.116500  0.638472       1.514   \n",
       "...        ...           ...        ...   ...       ...       ...         ...   \n",
       "230651  230651     2332119.0     -1.361   1.0 -0.201885  3.416126       8.724   \n",
       "230652  230652     2332129.0      0.400   1.0 -0.185769  3.418011       8.724   \n",
       "230653  230653     2332139.0     -0.472   1.0 -0.307769  3.367119       8.724   \n",
       "230654  230654     2332149.0      1.158   1.0 -0.094000  3.272010       8.724   \n",
       "230655  230655     2332159.0      0.026   1.0 -0.139615  3.261324       8.724   \n",
       "\n",
       "        rms_horiz  skew_horiz  kurt_horiz  ...  peak_temp    rms_temp  \\\n",
       "0        0.502024    0.030814   -0.597111  ...     69.185   69.120956   \n",
       "1        0.504166   -0.063969   -0.583935  ...     69.185   69.120956   \n",
       "2        0.513345   -0.225490   -0.558417  ...     69.185   69.120956   \n",
       "3        0.564131   -0.539413    0.061838  ...     69.185   69.120956   \n",
       "4        0.636820   -0.195293    0.137653  ...     69.185   69.120956   \n",
       "...           ...         ...         ...  ...        ...         ...   \n",
       "230651   3.355865   -1.205327    5.886948  ...    103.208  103.176735   \n",
       "230652   3.356780   -1.218428    5.889320  ...    103.208  103.176735   \n",
       "230653   3.316045   -1.184010    6.243683  ...    103.208  103.176735   \n",
       "230654   3.209846   -1.414265    7.594264  ...    103.208  103.176735   \n",
       "230655   3.201038   -1.385533    7.657090  ...    103.208  103.176735   \n",
       "\n",
       "        skew_temp  kurt_temp  crest_temp  clear_temp  shape_temp  imp_temp  \\\n",
       "0       -0.049059  -1.171330    1.000927    1.000927         1.0  1.000927   \n",
       "1       -0.049059  -1.171330    1.000927    1.000927         1.0  1.000927   \n",
       "2       -0.049059  -1.171330    1.000927    1.000927         1.0  1.000927   \n",
       "3       -0.049059  -1.171330    1.000927    1.000927         1.0  1.000927   \n",
       "4       -0.049059  -1.171330    1.000927    1.000927         1.0  1.000927   \n",
       "...           ...        ...         ...         ...         ...       ...   \n",
       "230651   0.016580  -1.132239    1.000303    1.000303         1.0  1.000303   \n",
       "230652   0.016580  -1.132239    1.000303    1.000303         1.0  1.000303   \n",
       "230653   0.016580  -1.132239    1.000303    1.000303         1.0  1.000303   \n",
       "230654   0.016580  -1.132239    1.000303    1.000303         1.0  1.000303   \n",
       "230655   0.016580  -1.132239    1.000303    1.000303         1.0  1.000303   \n",
       "\n",
       "         RUL_y   id  \n",
       "0       9000.1  1.0  \n",
       "1       9000.1  1.0  \n",
       "2       9000.1  1.0  \n",
       "3       9000.1  1.0  \n",
       "4       9000.1  1.0  \n",
       "...        ...  ...  \n",
       "230651     0.0  1.0  \n",
       "230652     0.0  1.0  \n",
       "230653     0.0  1.0  \n",
       "230654     0.0  1.0  \n",
       "230655     0.0  1.0  \n",
       "\n",
       "[230656 rows x 157 columns]"
      ]
     },
     "execution_count": 269,
     "metadata": {},
     "output_type": "execute_result"
    }
   ],
   "source": [
    "one_test"
   ]
  },
  {
   "cell_type": "code",
   "execution_count": 270,
   "metadata": {},
   "outputs": [
    {
     "name": "stdout",
     "output_type": "stream",
     "text": [
      "7440.0996099999975\n",
      "23100.09922\n"
     ]
    }
   ],
   "source": [
    "time_list = []\n",
    "for i in range(1,int(one_train[\"id\"].max())+1,1):\n",
    "    one_id = one_train[one_train[\"id\"]==i][[\"id\",\"RUL_x\"]]\n",
    "    one_id = one_id.reset_index()\n",
    "    print(one_id.loc[0,\"RUL_x\"])"
   ]
  },
  {
   "cell_type": "code",
   "execution_count": 271,
   "metadata": {},
   "outputs": [
    {
     "name": "stdout",
     "output_type": "stream",
     "text": [
      "9000.09961\n"
     ]
    }
   ],
   "source": [
    "time_list = []\n",
    "for i in range(1,int(one_test[\"id\"].max())+1,1):\n",
    "    one_id = one_test[one_test[\"id\"]==i][[\"id\",\"RUL_x\"]]\n",
    "    one_id = one_id.reset_index()\n",
    "    print(one_id.loc[0,\"RUL_x\"])"
   ]
  },
  {
   "cell_type": "code",
   "execution_count": 272,
   "metadata": {},
   "outputs": [],
   "source": [
    "def add_time(one_train):\n",
    "    time_list = []\n",
    "    for i in range(1,int(one_train[\"id\"].max())+1,1):\n",
    "        one_id = one_train[one_train[\"id\"]==i][[\"id\",\"RUL_x\"]]\n",
    "        one_id = one_id.reset_index()\n",
    "        one_id[\"time\"] = one_id.loc[0,\"RUL_x\"] - one_id[\"RUL_x\"] \n",
    "        time_list = time_list + list(one_id[\"time\"].values)\n",
    "    one_train[\"time\"] = time_list\n",
    "    return one_train"
   ]
  },
  {
   "cell_type": "code",
   "execution_count": 273,
   "metadata": {},
   "outputs": [],
   "source": [
    "one_train = add_time(one_train)\n",
    "one_test = add_time(one_test)"
   ]
  },
  {
   "cell_type": "code",
   "execution_count": 274,
   "metadata": {},
   "outputs": [],
   "source": [
    "one_train = three_time_group(one_train)\n",
    "one_test = three_time_group(one_test)"
   ]
  },
  {
   "cell_type": "code",
   "execution_count": 285,
   "metadata": {},
   "outputs": [],
   "source": [
    "def clean_dataset(df):\n",
    "    assert isinstance(df, pd.DataFrame), \"df needs to be a pd.DataFrame\"\n",
    "    df.dropna(inplace=True)\n",
    "    indices_to_keep = ~df.isin([np.nan, np.inf, -np.inf]).any(1)\n",
    "    return df[indices_to_keep].astype(np.float64)\n",
    "\n",
    "one_train = clean_dataset(one_train)\n",
    "one_test = clean_dataset(one_test)"
   ]
  },
  {
   "cell_type": "code",
   "execution_count": 289,
   "metadata": {},
   "outputs": [],
   "source": [
    "X_train = one_train.drop([\"index\",\"Unnamed: 0_x\",\"Unnamed: 0_y\",\"RUL_x\",\"RUL_y\",\"round_RUL\",\"id\",\"id_x\",\"id.1\",\"id.2\",\"time_group\"], axis=1)\n",
    "X_test = one_test.drop([\"index\",\"Unnamed: 0_x\",\"Unnamed: 0_y\",\"RUL_x\",\"RUL_y\",\"round_RUL\",\"id\",\"id_x\",\"id.1\",\"id.2\",\"time_group\"], axis=1)\n",
    "y_train = one_train[\"time_group\"]\n",
    "y_test = one_test[\"time_group\"]"
   ]
  },
  {
   "cell_type": "code",
   "execution_count": 290,
   "metadata": {},
   "outputs": [],
   "source": [
    "X_train = X_train[list(imp_df[imp_df[\"Total\"]>=2][\"Feature\"].values)]\n",
    "X_test = X_test[list(imp_df[imp_df[\"Total\"]>=2][\"Feature\"].values)]"
   ]
  },
  {
   "cell_type": "code",
   "execution_count": 286,
   "metadata": {},
   "outputs": [
    {
     "data": {
      "text/html": [
       "<div>\n",
       "<style scoped>\n",
       "    .dataframe tbody tr th:only-of-type {\n",
       "        vertical-align: middle;\n",
       "    }\n",
       "\n",
       "    .dataframe tbody tr th {\n",
       "        vertical-align: top;\n",
       "    }\n",
       "\n",
       "    .dataframe thead th {\n",
       "        text-align: right;\n",
       "    }\n",
       "</style>\n",
       "<table border=\"1\" class=\"dataframe\">\n",
       "  <thead>\n",
       "    <tr style=\"text-align: right;\">\n",
       "      <th></th>\n",
       "      <th>sd_vert</th>\n",
       "      <th>rms_horiz</th>\n",
       "      <th>f16</th>\n",
       "      <th>av_sum</th>\n",
       "      <th>sd_temp</th>\n",
       "      <th>sd_sum</th>\n",
       "      <th>sd_horiz</th>\n",
       "      <th>rms_vert</th>\n",
       "      <th>rms_sum</th>\n",
       "      <th>peak_temp</th>\n",
       "      <th>...</th>\n",
       "      <th>f160</th>\n",
       "      <th>f136_vert</th>\n",
       "      <th>f136_sum</th>\n",
       "      <th>f136</th>\n",
       "      <th>f120_vert</th>\n",
       "      <th>f120_sum</th>\n",
       "      <th>f112_sum</th>\n",
       "      <th>crest_temp</th>\n",
       "      <th>clear_temp</th>\n",
       "      <th>clear_sum</th>\n",
       "    </tr>\n",
       "  </thead>\n",
       "  <tbody>\n",
       "    <tr>\n",
       "      <th>0</th>\n",
       "      <td>0.241837</td>\n",
       "      <td>0.256702</td>\n",
       "      <td>0.014733</td>\n",
       "      <td>0.309214</td>\n",
       "      <td>0.296811</td>\n",
       "      <td>0.167898</td>\n",
       "      <td>0.260338</td>\n",
       "      <td>0.238375</td>\n",
       "      <td>0.350313</td>\n",
       "      <td>59.930</td>\n",
       "      <td>...</td>\n",
       "      <td>0.105713</td>\n",
       "      <td>0.246370</td>\n",
       "      <td>0.246370</td>\n",
       "      <td>0.157777</td>\n",
       "      <td>0.177672</td>\n",
       "      <td>0.177672</td>\n",
       "      <td>0.182799</td>\n",
       "      <td>1.007421</td>\n",
       "      <td>1.007439</td>\n",
       "      <td>2.151020</td>\n",
       "    </tr>\n",
       "    <tr>\n",
       "      <th>1</th>\n",
       "      <td>0.234619</td>\n",
       "      <td>0.263464</td>\n",
       "      <td>0.016846</td>\n",
       "      <td>0.311088</td>\n",
       "      <td>0.296811</td>\n",
       "      <td>0.167722</td>\n",
       "      <td>0.268270</td>\n",
       "      <td>0.233262</td>\n",
       "      <td>0.351887</td>\n",
       "      <td>59.930</td>\n",
       "      <td>...</td>\n",
       "      <td>0.161555</td>\n",
       "      <td>0.182634</td>\n",
       "      <td>0.182634</td>\n",
       "      <td>0.218409</td>\n",
       "      <td>0.069795</td>\n",
       "      <td>0.069795</td>\n",
       "      <td>0.115048</td>\n",
       "      <td>1.007421</td>\n",
       "      <td>1.007439</td>\n",
       "      <td>2.137133</td>\n",
       "    </tr>\n",
       "    <tr>\n",
       "      <th>2</th>\n",
       "      <td>0.235153</td>\n",
       "      <td>0.281376</td>\n",
       "      <td>0.019149</td>\n",
       "      <td>0.324364</td>\n",
       "      <td>0.296811</td>\n",
       "      <td>0.178976</td>\n",
       "      <td>0.285469</td>\n",
       "      <td>0.238411</td>\n",
       "      <td>0.368798</td>\n",
       "      <td>59.930</td>\n",
       "      <td>...</td>\n",
       "      <td>0.188653</td>\n",
       "      <td>0.131297</td>\n",
       "      <td>0.131297</td>\n",
       "      <td>0.252626</td>\n",
       "      <td>0.033610</td>\n",
       "      <td>0.033610</td>\n",
       "      <td>0.085650</td>\n",
       "      <td>1.007421</td>\n",
       "      <td>1.007439</td>\n",
       "      <td>2.134635</td>\n",
       "    </tr>\n",
       "    <tr>\n",
       "      <th>3</th>\n",
       "      <td>0.237228</td>\n",
       "      <td>0.286670</td>\n",
       "      <td>0.021542</td>\n",
       "      <td>0.331876</td>\n",
       "      <td>0.296811</td>\n",
       "      <td>0.174029</td>\n",
       "      <td>0.292042</td>\n",
       "      <td>0.238920</td>\n",
       "      <td>0.373179</td>\n",
       "      <td>59.930</td>\n",
       "      <td>...</td>\n",
       "      <td>0.124923</td>\n",
       "      <td>0.130716</td>\n",
       "      <td>0.130716</td>\n",
       "      <td>0.237030</td>\n",
       "      <td>0.099921</td>\n",
       "      <td>0.099921</td>\n",
       "      <td>0.103595</td>\n",
       "      <td>1.007421</td>\n",
       "      <td>1.007439</td>\n",
       "      <td>2.070941</td>\n",
       "    </tr>\n",
       "    <tr>\n",
       "      <th>4</th>\n",
       "      <td>0.240850</td>\n",
       "      <td>0.287273</td>\n",
       "      <td>0.023964</td>\n",
       "      <td>0.336122</td>\n",
       "      <td>0.296811</td>\n",
       "      <td>0.172814</td>\n",
       "      <td>0.292811</td>\n",
       "      <td>0.243246</td>\n",
       "      <td>0.376423</td>\n",
       "      <td>59.930</td>\n",
       "      <td>...</td>\n",
       "      <td>0.014569</td>\n",
       "      <td>0.127396</td>\n",
       "      <td>0.127396</td>\n",
       "      <td>0.195018</td>\n",
       "      <td>0.124821</td>\n",
       "      <td>0.124821</td>\n",
       "      <td>0.114733</td>\n",
       "      <td>1.007421</td>\n",
       "      <td>1.007439</td>\n",
       "      <td>2.041361</td>\n",
       "    </tr>\n",
       "    <tr>\n",
       "      <th>...</th>\n",
       "      <td>...</td>\n",
       "      <td>...</td>\n",
       "      <td>...</td>\n",
       "      <td>...</td>\n",
       "      <td>...</td>\n",
       "      <td>...</td>\n",
       "      <td>...</td>\n",
       "      <td>...</td>\n",
       "      <td>...</td>\n",
       "      <td>...</td>\n",
       "      <td>...</td>\n",
       "      <td>...</td>\n",
       "      <td>...</td>\n",
       "      <td>...</td>\n",
       "      <td>...</td>\n",
       "      <td>...</td>\n",
       "      <td>...</td>\n",
       "      <td>...</td>\n",
       "      <td>...</td>\n",
       "      <td>...</td>\n",
       "      <td>...</td>\n",
       "    </tr>\n",
       "    <tr>\n",
       "      <th>782326</th>\n",
       "      <td>0.288051</td>\n",
       "      <td>0.228421</td>\n",
       "      <td>0.000000</td>\n",
       "      <td>0.335262</td>\n",
       "      <td>0.012546</td>\n",
       "      <td>0.142650</td>\n",
       "      <td>0.232897</td>\n",
       "      <td>0.282473</td>\n",
       "      <td>0.363272</td>\n",
       "      <td>112.374</td>\n",
       "      <td>...</td>\n",
       "      <td>0.000000</td>\n",
       "      <td>0.000000</td>\n",
       "      <td>0.000000</td>\n",
       "      <td>0.000000</td>\n",
       "      <td>0.000000</td>\n",
       "      <td>0.000000</td>\n",
       "      <td>0.000000</td>\n",
       "      <td>1.000205</td>\n",
       "      <td>1.000205</td>\n",
       "      <td>2.035088</td>\n",
       "    </tr>\n",
       "    <tr>\n",
       "      <th>782327</th>\n",
       "      <td>0.290182</td>\n",
       "      <td>0.227673</td>\n",
       "      <td>0.000000</td>\n",
       "      <td>0.338132</td>\n",
       "      <td>0.012546</td>\n",
       "      <td>0.139353</td>\n",
       "      <td>0.232169</td>\n",
       "      <td>0.284904</td>\n",
       "      <td>0.364699</td>\n",
       "      <td>112.374</td>\n",
       "      <td>...</td>\n",
       "      <td>0.000000</td>\n",
       "      <td>0.000000</td>\n",
       "      <td>0.000000</td>\n",
       "      <td>0.000000</td>\n",
       "      <td>0.000000</td>\n",
       "      <td>0.000000</td>\n",
       "      <td>0.000000</td>\n",
       "      <td>1.000205</td>\n",
       "      <td>1.000205</td>\n",
       "      <td>2.010859</td>\n",
       "    </tr>\n",
       "    <tr>\n",
       "      <th>782328</th>\n",
       "      <td>0.272650</td>\n",
       "      <td>0.219955</td>\n",
       "      <td>0.000000</td>\n",
       "      <td>0.319435</td>\n",
       "      <td>0.012546</td>\n",
       "      <td>0.140788</td>\n",
       "      <td>0.223786</td>\n",
       "      <td>0.269662</td>\n",
       "      <td>0.347991</td>\n",
       "      <td>112.374</td>\n",
       "      <td>...</td>\n",
       "      <td>0.000000</td>\n",
       "      <td>0.000000</td>\n",
       "      <td>0.000000</td>\n",
       "      <td>0.000000</td>\n",
       "      <td>0.000000</td>\n",
       "      <td>0.000000</td>\n",
       "      <td>0.000000</td>\n",
       "      <td>1.000205</td>\n",
       "      <td>1.000205</td>\n",
       "      <td>2.146626</td>\n",
       "    </tr>\n",
       "    <tr>\n",
       "      <th>782329</th>\n",
       "      <td>0.271910</td>\n",
       "      <td>0.216487</td>\n",
       "      <td>0.000000</td>\n",
       "      <td>0.315372</td>\n",
       "      <td>0.012546</td>\n",
       "      <td>0.142625</td>\n",
       "      <td>0.219984</td>\n",
       "      <td>0.268612</td>\n",
       "      <td>0.344992</td>\n",
       "      <td>112.374</td>\n",
       "      <td>...</td>\n",
       "      <td>0.000000</td>\n",
       "      <td>0.000000</td>\n",
       "      <td>0.000000</td>\n",
       "      <td>0.000000</td>\n",
       "      <td>0.000000</td>\n",
       "      <td>0.000000</td>\n",
       "      <td>0.000000</td>\n",
       "      <td>1.000205</td>\n",
       "      <td>1.000205</td>\n",
       "      <td>2.178509</td>\n",
       "    </tr>\n",
       "    <tr>\n",
       "      <th>782330</th>\n",
       "      <td>0.250423</td>\n",
       "      <td>0.208178</td>\n",
       "      <td>0.000000</td>\n",
       "      <td>0.296109</td>\n",
       "      <td>0.012546</td>\n",
       "      <td>0.128917</td>\n",
       "      <td>0.212182</td>\n",
       "      <td>0.245607</td>\n",
       "      <td>0.321964</td>\n",
       "      <td>112.374</td>\n",
       "      <td>...</td>\n",
       "      <td>0.000000</td>\n",
       "      <td>0.000000</td>\n",
       "      <td>0.000000</td>\n",
       "      <td>0.000000</td>\n",
       "      <td>0.000000</td>\n",
       "      <td>0.000000</td>\n",
       "      <td>0.000000</td>\n",
       "      <td>1.000205</td>\n",
       "      <td>1.000205</td>\n",
       "      <td>1.884683</td>\n",
       "    </tr>\n",
       "  </tbody>\n",
       "</table>\n",
       "<p>782331 rows × 54 columns</p>\n",
       "</div>"
      ],
      "text/plain": [
       "         sd_vert  rms_horiz       f16    av_sum   sd_temp    sd_sum  sd_horiz  \\\n",
       "0       0.241837   0.256702  0.014733  0.309214  0.296811  0.167898  0.260338   \n",
       "1       0.234619   0.263464  0.016846  0.311088  0.296811  0.167722  0.268270   \n",
       "2       0.235153   0.281376  0.019149  0.324364  0.296811  0.178976  0.285469   \n",
       "3       0.237228   0.286670  0.021542  0.331876  0.296811  0.174029  0.292042   \n",
       "4       0.240850   0.287273  0.023964  0.336122  0.296811  0.172814  0.292811   \n",
       "...          ...        ...       ...       ...       ...       ...       ...   \n",
       "782326  0.288051   0.228421  0.000000  0.335262  0.012546  0.142650  0.232897   \n",
       "782327  0.290182   0.227673  0.000000  0.338132  0.012546  0.139353  0.232169   \n",
       "782328  0.272650   0.219955  0.000000  0.319435  0.012546  0.140788  0.223786   \n",
       "782329  0.271910   0.216487  0.000000  0.315372  0.012546  0.142625  0.219984   \n",
       "782330  0.250423   0.208178  0.000000  0.296109  0.012546  0.128917  0.212182   \n",
       "\n",
       "        rms_vert   rms_sum  peak_temp  ...      f160  f136_vert  f136_sum  \\\n",
       "0       0.238375  0.350313     59.930  ...  0.105713   0.246370  0.246370   \n",
       "1       0.233262  0.351887     59.930  ...  0.161555   0.182634  0.182634   \n",
       "2       0.238411  0.368798     59.930  ...  0.188653   0.131297  0.131297   \n",
       "3       0.238920  0.373179     59.930  ...  0.124923   0.130716  0.130716   \n",
       "4       0.243246  0.376423     59.930  ...  0.014569   0.127396  0.127396   \n",
       "...          ...       ...        ...  ...       ...        ...       ...   \n",
       "782326  0.282473  0.363272    112.374  ...  0.000000   0.000000  0.000000   \n",
       "782327  0.284904  0.364699    112.374  ...  0.000000   0.000000  0.000000   \n",
       "782328  0.269662  0.347991    112.374  ...  0.000000   0.000000  0.000000   \n",
       "782329  0.268612  0.344992    112.374  ...  0.000000   0.000000  0.000000   \n",
       "782330  0.245607  0.321964    112.374  ...  0.000000   0.000000  0.000000   \n",
       "\n",
       "            f136  f120_vert  f120_sum  f112_sum  crest_temp  clear_temp  \\\n",
       "0       0.157777   0.177672  0.177672  0.182799    1.007421    1.007439   \n",
       "1       0.218409   0.069795  0.069795  0.115048    1.007421    1.007439   \n",
       "2       0.252626   0.033610  0.033610  0.085650    1.007421    1.007439   \n",
       "3       0.237030   0.099921  0.099921  0.103595    1.007421    1.007439   \n",
       "4       0.195018   0.124821  0.124821  0.114733    1.007421    1.007439   \n",
       "...          ...        ...       ...       ...         ...         ...   \n",
       "782326  0.000000   0.000000  0.000000  0.000000    1.000205    1.000205   \n",
       "782327  0.000000   0.000000  0.000000  0.000000    1.000205    1.000205   \n",
       "782328  0.000000   0.000000  0.000000  0.000000    1.000205    1.000205   \n",
       "782329  0.000000   0.000000  0.000000  0.000000    1.000205    1.000205   \n",
       "782330  0.000000   0.000000  0.000000  0.000000    1.000205    1.000205   \n",
       "\n",
       "        clear_sum  \n",
       "0        2.151020  \n",
       "1        2.137133  \n",
       "2        2.134635  \n",
       "3        2.070941  \n",
       "4        2.041361  \n",
       "...           ...  \n",
       "782326   2.035088  \n",
       "782327   2.010859  \n",
       "782328   2.146626  \n",
       "782329   2.178509  \n",
       "782330   1.884683  \n",
       "\n",
       "[782331 rows x 54 columns]"
      ]
     },
     "execution_count": 286,
     "metadata": {},
     "output_type": "execute_result"
    }
   ],
   "source": [
    "X_train"
   ]
  },
  {
   "cell_type": "code",
   "execution_count": 287,
   "metadata": {},
   "outputs": [],
   "source": [
    "from sklearn.ensemble import RandomForestRegressor\n",
    "from sklearn.ensemble import RandomForestClassifier"
   ]
  },
  {
   "cell_type": "code",
   "execution_count": 279,
   "metadata": {},
   "outputs": [],
   "source": [
    "from sklearn.metrics import mean_squared_error"
   ]
  },
  {
   "cell_type": "code",
   "execution_count": 280,
   "metadata": {},
   "outputs": [],
   "source": [
    "def plot_features_weights(model, weights, feature_names):\n",
    "    \n",
    "\n",
    "    (px, py) = (8, 10) if len(weights) > 30 else (8, 5)\n",
    "    W = pd.DataFrame({'Weights':weights}, feature_names)\n",
    "    W_df = W.sort_values(by='Weights', ascending=True)\n",
    "    W_df.tail(10).plot(kind='barh', color='r', figsize=(px,py))\n",
    "    plt.xlabel(model)\n",
    "    plt.gca().legend_ = None"
   ]
  },
  {
   "cell_type": "code",
   "execution_count": 281,
   "metadata": {},
   "outputs": [],
   "source": [
    "def plot_residual(model, y_train, y_train_pred, y_test, y_test_pred):\n",
    "    plt.figure(figsize=(20,10))\n",
    "    plt.scatter(y_train_pred, y_train_pred - y_train, c='blue', marker='o', label='Training data')\n",
    "    plt.scatter(y_test_pred, y_test_pred - y_test, c='lightgreen', marker='s', label='Test data')\n",
    "    plt.xlabel('Predicted Values')\n",
    "    plt.ylabel('Residuals')\n",
    "    plt.legend(loc='upper left')\n",
    "    plt.hlines(y=0, xmin=-50, xmax=y_train.max()+50, color='red', lw=2)\n",
    "    plt.title(model + ' Residuals')\n",
    "    plt.show()"
   ]
  },
  {
   "cell_type": "code",
   "execution_count": 282,
   "metadata": {},
   "outputs": [],
   "source": [
    "from sklearn.metrics import accuracy_score\n",
    "from sklearn.metrics import f1_score"
   ]
  },
  {
   "cell_type": "code",
   "execution_count": 283,
   "metadata": {},
   "outputs": [],
   "source": [
    "from lightgbm import LGBMClassifier"
   ]
  },
  {
   "cell_type": "code",
   "execution_count": 291,
   "metadata": {},
   "outputs": [
    {
     "data": {
      "text/plain": [
       "LGBMClassifier(boosting_type='gbdt', class_weight=None, colsample_bytree=1.0,\n",
       "               importance_type='split', learning_rate=0.1, max_depth=-1,\n",
       "               min_child_samples=20, min_child_weight=0.001, min_split_gain=0.0,\n",
       "               n_estimators=20, n_jobs=-1, num_leaves=31, objective=None,\n",
       "               random_state=None, reg_alpha=5, reg_lambda=0.0, silent=True,\n",
       "               subsample=1.0, subsample_for_bin=200000, subsample_freq=0)"
      ]
     },
     "execution_count": 291,
     "metadata": {},
     "output_type": "execute_result"
    }
   ],
   "source": [
    "rf = LGBMClassifier(n_estimators=20,reg_alpha=5)\n",
    "rf.fit(X_train, y_train)"
   ]
  },
  {
   "cell_type": "code",
   "execution_count": 292,
   "metadata": {},
   "outputs": [
    {
     "name": "stdout",
     "output_type": "stream",
     "text": [
      "accuracy training: 0.807, accuracy testing: 0.500\n",
      "F1 training: 0.803, F1 testing: 0.333\n"
     ]
    }
   ],
   "source": [
    "y_test_predict = rf.predict(X_test)\n",
    "y_train_predict = rf.predict(X_train)\n",
    "\n",
    "train_score = accuracy_score(y_train, y_train_predict)\n",
    "test_score = accuracy_score(y_test, y_test_predict)\n",
    "train_f1 = f1_score(y_train, y_train_predict,average=\"weighted\")\n",
    "test_f1 = f1_score(y_test, y_test_predict,average=\"weighted\")\n",
    "print('accuracy training: %.3f, accuracy testing: %.3f' % (\n",
    "      (train_score), (test_score)))\n",
    "print('F1 training: %.3f, F1 testing: %.3f' % (\n",
    "      (train_f1), (test_f1)))"
   ]
  },
  {
   "cell_type": "code",
   "execution_count": 293,
   "metadata": {},
   "outputs": [
    {
     "data": {
      "image/png": "[encoded data removed]",
      "text/plain": [
       "<Figure size 576x720 with 1 Axes>"
      ]
     },
     "metadata": {
      "needs_background": "light"
     },
     "output_type": "display_data"
    }
   ],
   "source": [
    "plot_features_weights('Random forest',rf.feature_importances_, X_train.columns)"
   ]
  },
  {
   "cell_type": "code",
   "execution_count": 294,
   "metadata": {},
   "outputs": [],
   "source": [
    "ans_train = pd.DataFrame(y_train.values,columns=[\"real group\"])\n",
    "ans_train[\"pre_group(no time)\"] = y_train_predict\n",
    "ans_train[\"real_rul\"] = one_train[\"RUL_x\"]"
   ]
  },
  {
   "cell_type": "code",
   "execution_count": 295,
   "metadata": {},
   "outputs": [],
   "source": [
    "ans_test = pd.DataFrame(y_test.values,columns=[\"real group\"])\n",
    "ans_test[\"pre_group(no time)\"] = y_test_predict\n",
    "ans_test[\"real_rul\"] = one_test[\"RUL_x\"]"
   ]
  },
  {
   "cell_type": "code",
   "execution_count": 296,
   "metadata": {},
   "outputs": [],
   "source": [
    "ans_train[\"time\"] = one_train[\"time\"]\n",
    "ans_test[\"time\"] = one_test[\"time\"]"
   ]
  },
  {
   "cell_type": "code",
   "execution_count": 190,
   "metadata": {},
   "outputs": [
    {
     "data": {
      "text/html": [
       "<div>\n",
       "<style scoped>\n",
       "    .dataframe tbody tr th:only-of-type {\n",
       "        vertical-align: middle;\n",
       "    }\n",
       "\n",
       "    .dataframe tbody tr th {\n",
       "        vertical-align: top;\n",
       "    }\n",
       "\n",
       "    .dataframe thead th {\n",
       "        text-align: right;\n",
       "    }\n",
       "</style>\n",
       "<table border=\"1\" class=\"dataframe\">\n",
       "  <thead>\n",
       "    <tr style=\"text-align: right;\">\n",
       "      <th></th>\n",
       "      <th>real group</th>\n",
       "      <th>pre_group(no time)</th>\n",
       "      <th>real_rul</th>\n",
       "      <th>time</th>\n",
       "    </tr>\n",
       "  </thead>\n",
       "  <tbody>\n",
       "    <tr>\n",
       "      <th>0</th>\n",
       "      <td>0.0</td>\n",
       "      <td>0.0</td>\n",
       "      <td>7440.09961</td>\n",
       "      <td>0.00000</td>\n",
       "    </tr>\n",
       "    <tr>\n",
       "      <th>1</th>\n",
       "      <td>0.0</td>\n",
       "      <td>0.0</td>\n",
       "      <td>7440.09922</td>\n",
       "      <td>0.00039</td>\n",
       "    </tr>\n",
       "    <tr>\n",
       "      <th>2</th>\n",
       "      <td>0.0</td>\n",
       "      <td>0.0</td>\n",
       "      <td>7440.09883</td>\n",
       "      <td>0.00078</td>\n",
       "    </tr>\n",
       "    <tr>\n",
       "      <th>3</th>\n",
       "      <td>0.0</td>\n",
       "      <td>0.0</td>\n",
       "      <td>7440.09844</td>\n",
       "      <td>0.00117</td>\n",
       "    </tr>\n",
       "    <tr>\n",
       "      <th>4</th>\n",
       "      <td>0.0</td>\n",
       "      <td>0.0</td>\n",
       "      <td>7440.09805</td>\n",
       "      <td>0.00156</td>\n",
       "    </tr>\n",
       "    <tr>\n",
       "      <th>...</th>\n",
       "      <td>...</td>\n",
       "      <td>...</td>\n",
       "      <td>...</td>\n",
       "      <td>...</td>\n",
       "    </tr>\n",
       "    <tr>\n",
       "      <th>782331</th>\n",
       "      <td>2.0</td>\n",
       "      <td>2.0</td>\n",
       "      <td>0.00156</td>\n",
       "      <td>23100.09805</td>\n",
       "    </tr>\n",
       "    <tr>\n",
       "      <th>782332</th>\n",
       "      <td>2.0</td>\n",
       "      <td>2.0</td>\n",
       "      <td>0.00117</td>\n",
       "      <td>23100.09844</td>\n",
       "    </tr>\n",
       "    <tr>\n",
       "      <th>782333</th>\n",
       "      <td>2.0</td>\n",
       "      <td>2.0</td>\n",
       "      <td>0.00078</td>\n",
       "      <td>23100.09883</td>\n",
       "    </tr>\n",
       "    <tr>\n",
       "      <th>782334</th>\n",
       "      <td>2.0</td>\n",
       "      <td>2.0</td>\n",
       "      <td>0.00039</td>\n",
       "      <td>23100.09922</td>\n",
       "    </tr>\n",
       "    <tr>\n",
       "      <th>782335</th>\n",
       "      <td>2.0</td>\n",
       "      <td>2.0</td>\n",
       "      <td>0.00000</td>\n",
       "      <td>23100.09961</td>\n",
       "    </tr>\n",
       "  </tbody>\n",
       "</table>\n",
       "<p>782336 rows × 4 columns</p>\n",
       "</div>"
      ],
      "text/plain": [
       "        real group  pre_group(no time)    real_rul         time\n",
       "0              0.0                 0.0  7440.09961      0.00000\n",
       "1              0.0                 0.0  7440.09922      0.00039\n",
       "2              0.0                 0.0  7440.09883      0.00078\n",
       "3              0.0                 0.0  7440.09844      0.00117\n",
       "4              0.0                 0.0  7440.09805      0.00156\n",
       "...            ...                 ...         ...          ...\n",
       "782331         2.0                 2.0     0.00156  23100.09805\n",
       "782332         2.0                 2.0     0.00117  23100.09844\n",
       "782333         2.0                 2.0     0.00078  23100.09883\n",
       "782334         2.0                 2.0     0.00039  23100.09922\n",
       "782335         2.0                 2.0     0.00000  23100.09961\n",
       "\n",
       "[782336 rows x 4 columns]"
      ]
     },
     "execution_count": 190,
     "metadata": {},
     "output_type": "execute_result"
    }
   ],
   "source": [
    "ans_train"
   ]
  },
  {
   "cell_type": "markdown",
   "metadata": {},
   "source": [
    "### 加入時間因素考量time group"
   ]
  },
  {
   "cell_type": "code",
   "execution_count": 232,
   "metadata": {},
   "outputs": [],
   "source": [
    "X_train = ans_train[[\"time\"]]\n",
    "y_train = ans_train[\"real group\"]\n",
    "X_test = ans_test[[\"time\"]]\n",
    "y_test = ans_test[\"real group\"]"
   ]
  },
  {
   "cell_type": "code",
   "execution_count": 233,
   "metadata": {},
   "outputs": [],
   "source": [
    "from sklearn.linear_model import LogisticRegression"
   ]
  },
  {
   "cell_type": "code",
   "execution_count": 234,
   "metadata": {},
   "outputs": [
    {
     "data": {
      "text/plain": [
       "LogisticRegression(C=1.0, class_weight=None, dual=False, fit_intercept=True,\n",
       "                   intercept_scaling=1, l1_ratio=None, max_iter=100,\n",
       "                   multi_class='auto', n_jobs=None, penalty='l2',\n",
       "                   random_state=None, solver='lbfgs', tol=0.0001, verbose=0,\n",
       "                   warm_start=False)"
      ]
     },
     "execution_count": 234,
     "metadata": {},
     "output_type": "execute_result"
    }
   ],
   "source": [
    "lr = LogisticRegression(max_iter=100)\n",
    "lr.fit(X_train, y_train)"
   ]
  },
  {
   "cell_type": "code",
   "execution_count": 235,
   "metadata": {},
   "outputs": [
    {
     "name": "stdout",
     "output_type": "stream",
     "text": [
      "accuracy training: 0.692, accuracy testing: 0.500\n",
      "F1 training: 0.641, F1 testing: 0.333\n"
     ]
    }
   ],
   "source": [
    "y_test_predict = lr.predict(X_test)\n",
    "y_train_predict = lr.predict(X_train)\n",
    "\n",
    "train_score = accuracy_score(y_train, y_train_predict)\n",
    "test_score = accuracy_score(y_test, y_test_predict)\n",
    "train_f1 = f1_score(y_train, y_train_predict,average=\"weighted\")\n",
    "test_f1 = f1_score(y_test, y_test_predict,average=\"weighted\")\n",
    "print('accuracy training: %.3f, accuracy testing: %.3f' % (\n",
    "      (train_score), (test_score)))\n",
    "print('F1 training: %.3f, F1 testing: %.3f' % (\n",
    "      (train_f1), (test_f1)))"
   ]
  },
  {
   "cell_type": "code",
   "execution_count": 236,
   "metadata": {},
   "outputs": [
    {
     "data": {
      "text/plain": [
       "DecisionTreeClassifier(ccp_alpha=0.0, class_weight=None, criterion='gini',\n",
       "                       max_depth=3, max_features=None, max_leaf_nodes=None,\n",
       "                       min_impurity_decrease=0.0, min_impurity_split=None,\n",
       "                       min_samples_leaf=1, min_samples_split=2,\n",
       "                       min_weight_fraction_leaf=0.0, presort='deprecated',\n",
       "                       random_state=None, splitter='best')"
      ]
     },
     "execution_count": 236,
     "metadata": {},
     "output_type": "execute_result"
    }
   ],
   "source": [
    "dt = DecisionTreeClassifier(max_depth=3)\n",
    "dt.fit(X_train, y_train)"
   ]
  },
  {
   "cell_type": "code",
   "execution_count": 237,
   "metadata": {},
   "outputs": [
    {
     "name": "stdout",
     "output_type": "stream",
     "text": [
      "accuracy training: 0.878, accuracy testing: 0.500\n",
      "F1 training: 0.876, F1 testing: 0.333\n"
     ]
    }
   ],
   "source": [
    "y_test_predict = dt.predict(X_test)\n",
    "y_train_predict = dt.predict(X_train)\n",
    "\n",
    "train_score = accuracy_score(y_train, y_train_predict)\n",
    "test_score = accuracy_score(y_test, y_test_predict)\n",
    "train_f1 = f1_score(y_train, y_train_predict,average=\"weighted\")\n",
    "test_f1 = f1_score(y_test, y_test_predict,average=\"weighted\")\n",
    "print('accuracy training: %.3f, accuracy testing: %.3f' % (\n",
    "      (train_score), (test_score)))\n",
    "print('F1 training: %.3f, F1 testing: %.3f' % (\n",
    "      (train_f1), (test_f1)))"
   ]
  },
  {
   "cell_type": "code",
   "execution_count": 192,
   "metadata": {},
   "outputs": [],
   "source": [
    "X_train = ans_train[[\"pre_group(no time)\",\"time\"]]\n",
    "y_train = ans_train[\"real group\"]\n",
    "X_test = ans_test[[\"pre_group(no time)\",\"time\"]]\n",
    "y_test = ans_test[\"real group\"]"
   ]
  },
  {
   "cell_type": "code",
   "execution_count": 193,
   "metadata": {},
   "outputs": [
    {
     "data": {
      "text/plain": [
       "0.0    415124\n",
       "2.0    210366\n",
       "1.0    156846\n",
       "Name: pre_group(no time), dtype: int64"
      ]
     },
     "execution_count": 193,
     "metadata": {},
     "output_type": "execute_result"
    }
   ],
   "source": [
    "X_train[\"pre_group(no time)\"].value_counts()"
   ]
  },
  {
   "cell_type": "code",
   "execution_count": 195,
   "metadata": {},
   "outputs": [
    {
     "data": {
      "text/plain": [
       "0.0    230655\n",
       "1.0         1\n",
       "Name: pre_group(no time), dtype: int64"
      ]
     },
     "execution_count": 195,
     "metadata": {},
     "output_type": "execute_result"
    }
   ],
   "source": [
    "X_test[\"pre_group(no time)\"].value_counts()"
   ]
  },
  {
   "cell_type": "code",
   "execution_count": 196,
   "metadata": {},
   "outputs": [
    {
     "data": {
      "text/html": [
       "<div>\n",
       "<style scoped>\n",
       "    .dataframe tbody tr th:only-of-type {\n",
       "        vertical-align: middle;\n",
       "    }\n",
       "\n",
       "    .dataframe tbody tr th {\n",
       "        vertical-align: top;\n",
       "    }\n",
       "\n",
       "    .dataframe thead th {\n",
       "        text-align: right;\n",
       "    }\n",
       "</style>\n",
       "<table border=\"1\" class=\"dataframe\">\n",
       "  <thead>\n",
       "    <tr style=\"text-align: right;\">\n",
       "      <th></th>\n",
       "      <th>real group</th>\n",
       "    </tr>\n",
       "  </thead>\n",
       "  <tbody>\n",
       "    <tr>\n",
       "      <th>0</th>\n",
       "      <td>0.0</td>\n",
       "    </tr>\n",
       "    <tr>\n",
       "      <th>1</th>\n",
       "      <td>0.0</td>\n",
       "    </tr>\n",
       "    <tr>\n",
       "      <th>2</th>\n",
       "      <td>0.0</td>\n",
       "    </tr>\n",
       "    <tr>\n",
       "      <th>3</th>\n",
       "      <td>0.0</td>\n",
       "    </tr>\n",
       "    <tr>\n",
       "      <th>4</th>\n",
       "      <td>0.0</td>\n",
       "    </tr>\n",
       "    <tr>\n",
       "      <th>...</th>\n",
       "      <td>...</td>\n",
       "    </tr>\n",
       "    <tr>\n",
       "      <th>782331</th>\n",
       "      <td>2.0</td>\n",
       "    </tr>\n",
       "    <tr>\n",
       "      <th>782332</th>\n",
       "      <td>2.0</td>\n",
       "    </tr>\n",
       "    <tr>\n",
       "      <th>782333</th>\n",
       "      <td>2.0</td>\n",
       "    </tr>\n",
       "    <tr>\n",
       "      <th>782334</th>\n",
       "      <td>2.0</td>\n",
       "    </tr>\n",
       "    <tr>\n",
       "      <th>782335</th>\n",
       "      <td>2.0</td>\n",
       "    </tr>\n",
       "  </tbody>\n",
       "</table>\n",
       "<p>782336 rows × 1 columns</p>\n",
       "</div>"
      ],
      "text/plain": [
       "        real group\n",
       "0              0.0\n",
       "1              0.0\n",
       "2              0.0\n",
       "3              0.0\n",
       "4              0.0\n",
       "...            ...\n",
       "782331         2.0\n",
       "782332         2.0\n",
       "782333         2.0\n",
       "782334         2.0\n",
       "782335         2.0\n",
       "\n",
       "[782336 rows x 1 columns]"
      ]
     },
     "execution_count": 196,
     "metadata": {},
     "output_type": "execute_result"
    }
   ],
   "source": [
    "pd.DataFrame(y_train)"
   ]
  },
  {
   "cell_type": "code",
   "execution_count": 197,
   "metadata": {},
   "outputs": [
    {
     "data": {
      "text/plain": [
       "LogisticRegression(C=1.0, class_weight=None, dual=False, fit_intercept=True,\n",
       "                   intercept_scaling=1, l1_ratio=None, max_iter=200,\n",
       "                   multi_class='auto', n_jobs=None, penalty='l2',\n",
       "                   random_state=None, solver='lbfgs', tol=0.0001, verbose=0,\n",
       "                   warm_start=False)"
      ]
     },
     "execution_count": 197,
     "metadata": {},
     "output_type": "execute_result"
    }
   ],
   "source": [
    "lr = LogisticRegression(max_iter=200)\n",
    "lr.fit(X_train, y_train)"
   ]
  },
  {
   "cell_type": "code",
   "execution_count": 198,
   "metadata": {},
   "outputs": [
    {
     "name": "stdout",
     "output_type": "stream",
     "text": [
      "accuracy training: 0.799, accuracy testing: 0.500\n",
      "F1 training: 0.789, F1 testing: 0.333\n"
     ]
    }
   ],
   "source": [
    "y_test_predict = lr.predict(X_test)\n",
    "y_train_predict = lr.predict(X_train)\n",
    "\n",
    "train_score = accuracy_score(y_train, y_train_predict)\n",
    "test_score = accuracy_score(y_test, y_test_predict)\n",
    "train_f1 = f1_score(y_train, y_train_predict,average=\"weighted\")\n",
    "test_f1 = f1_score(y_test, y_test_predict,average=\"weighted\")\n",
    "print('accuracy training: %.3f, accuracy testing: %.3f' % (\n",
    "      (train_score), (test_score)))\n",
    "print('F1 training: %.3f, F1 testing: %.3f' % (\n",
    "      (train_f1), (test_f1)))"
   ]
  },
  {
   "cell_type": "code",
   "execution_count": 199,
   "metadata": {},
   "outputs": [],
   "source": [
    "from sklearn.tree import DecisionTreeClassifier"
   ]
  },
  {
   "cell_type": "code",
   "execution_count": 200,
   "metadata": {},
   "outputs": [
    {
     "data": {
      "text/plain": [
       "DecisionTreeClassifier(ccp_alpha=0.0, class_weight=None, criterion='gini',\n",
       "                       max_depth=3, max_features=None, max_leaf_nodes=None,\n",
       "                       min_impurity_decrease=0.0, min_impurity_split=None,\n",
       "                       min_samples_leaf=1, min_samples_split=2,\n",
       "                       min_weight_fraction_leaf=0.0, presort='deprecated',\n",
       "                       random_state=None, splitter='best')"
      ]
     },
     "execution_count": 200,
     "metadata": {},
     "output_type": "execute_result"
    }
   ],
   "source": [
    "dt = DecisionTreeClassifier(max_depth=3)\n",
    "dt.fit(X_train, y_train)"
   ]
  },
  {
   "cell_type": "code",
   "execution_count": 201,
   "metadata": {},
   "outputs": [
    {
     "name": "stdout",
     "output_type": "stream",
     "text": [
      "accuracy training: 0.941, accuracy testing: 0.500\n",
      "F1 training: 0.942, F1 testing: 0.333\n"
     ]
    }
   ],
   "source": [
    "y_test_predict = dt.predict(X_test)\n",
    "y_train_predict = dt.predict(X_train)\n",
    "\n",
    "train_score = accuracy_score(y_train, y_train_predict)\n",
    "test_score = accuracy_score(y_test, y_test_predict)\n",
    "train_f1 = f1_score(y_train, y_train_predict,average=\"weighted\")\n",
    "test_f1 = f1_score(y_test, y_test_predict,average=\"weighted\")\n",
    "print('accuracy training: %.3f, accuracy testing: %.3f' % (\n",
    "      (train_score), (test_score)))\n",
    "print('F1 training: %.3f, F1 testing: %.3f' % (\n",
    "      (train_f1), (test_f1)))"
   ]
  },
  {
   "cell_type": "code",
   "execution_count": 203,
   "metadata": {},
   "outputs": [],
   "source": [
    "from sklearn import tree"
   ]
  },
  {
   "cell_type": "code",
   "execution_count": 204,
   "metadata": {},
   "outputs": [
    {
     "data": {
      "image/png": "[encoded data removed]",
      "text/plain": [
       "<Figure size 1800x1440 with 1 Axes>"
      ]
     },
     "metadata": {
      "needs_background": "light"
     },
     "output_type": "display_data"
    }
   ],
   "source": [
    "fig = plt.figure(figsize=(25,20))\n",
    "_ = tree.plot_tree(dt, \n",
    "                   feature_names=X_train.columns,\n",
    "                   fontsize=13,\n",
    "                   filled=True)"
   ]
  },
  {
   "cell_type": "code",
   "execution_count": 205,
   "metadata": {},
   "outputs": [],
   "source": [
    "ans_train[\"pre_group(time)\"] = y_train_predict\n",
    "ans_test[\"pre_group(time)\"] = y_test_predict"
   ]
  },
  {
   "cell_type": "markdown",
   "metadata": {},
   "source": [
    "### step 2 train each class"
   ]
  },
  {
   "cell_type": "markdown",
   "metadata": {},
   "source": [
    "#### 1. class 0"
   ]
  },
  {
   "cell_type": "code",
   "execution_count": 207,
   "metadata": {},
   "outputs": [],
   "source": [
    "X_train = one_train[one_train[\"time_group\"]==0].drop([\"index\",\"Unnamed: 0_x\",\"Unnamed: 0_y\",\"RUL_x\",\"RUL_y\",\"round_RUL\",\"id\",\"id_x\",\"id.1\",\"id.2\",\"time_group\"], axis=1)\n",
    "X_test = one_test[one_test[\"time_group\"]==0].drop([\"index\",\"Unnamed: 0_x\",\"Unnamed: 0_y\",\"RUL_x\",\"RUL_y\",\"round_RUL\",\"id\",\"id_x\",\"id.1\",\"id.2\",\"time_group\"], axis=1)\n",
    "y_train = one_train[one_train[\"time_group\"]==0][\"RUL_x\"]\n",
    "y_test = one_test[one_test[\"time_group\"]==0][\"RUL_x\"]"
   ]
  },
  {
   "cell_type": "code",
   "execution_count": 208,
   "metadata": {},
   "outputs": [],
   "source": [
    "X_train = X_train[list(imp_df[imp_df[\"Total\"]>=2][\"Feature\"].values)]\n",
    "X_test = X_test[list(imp_df[imp_df[\"Total\"]>=2][\"Feature\"].values)]"
   ]
  },
  {
   "cell_type": "code",
   "execution_count": 209,
   "metadata": {},
   "outputs": [
    {
     "data": {
      "text/plain": [
       "Index(['sd_vert', 'rms_horiz', 'f16', 'av_sum', 'sd_temp', 'sd_sum',\n",
       "       'sd_horiz', 'rms_vert', 'rms_sum', 'peak_temp', 'peak_sum', 'f80', 'f8',\n",
       "       'f48', 'f40', 'f24', 'av_temp', 'shape_sum', 'rms_temp', 'f96',\n",
       "       'f88_vert', 'f72', 'f56', 'f32', 'f184', 'f168', 'f120', 'f112_vert',\n",
       "       'f112', 'f104', 'crest_sum', 'Rtd sensor', 'skew_temp', 'kurt_temp',\n",
       "       'imp_temp', 'imp_sum', 'f88_sum', 'f88', 'f80_vert', 'f24_vert', 'f240',\n",
       "       'f216', 'f208', 'f16_vert', 'f160', 'f136_vert', 'f136_sum', 'f136',\n",
       "       'f120_vert', 'f120_sum', 'f112_sum', 'crest_temp', 'clear_temp',\n",
       "       'clear_sum'],\n",
       "      dtype='object')"
      ]
     },
     "execution_count": 209,
     "metadata": {},
     "output_type": "execute_result"
    }
   ],
   "source": [
    "X_train.columns"
   ]
  },
  {
   "cell_type": "code",
   "execution_count": 210,
   "metadata": {},
   "outputs": [],
   "source": [
    "from lightgbm import LGBMRegressor"
   ]
  },
  {
   "cell_type": "code",
   "execution_count": 211,
   "metadata": {},
   "outputs": [
    {
     "data": {
      "text/plain": [
       "LGBMRegressor(boosting_type='gbdt', class_weight=None, colsample_bytree=1.0,\n",
       "              importance_type='split', learning_rate=0.1, max_depth=-1,\n",
       "              min_child_samples=20, min_child_weight=0.001, min_split_gain=0.0,\n",
       "              n_estimators=20, n_jobs=-1, num_leaves=31, objective=None,\n",
       "              random_state=None, reg_alpha=0.0, reg_lambda=0.5, silent=True,\n",
       "              subsample=1.0, subsample_for_bin=200000, subsample_freq=0)"
      ]
     },
     "execution_count": 211,
     "metadata": {},
     "output_type": "execute_result"
    }
   ],
   "source": [
    "lgb = LGBMRegressor(n_estimators=20,n_jobs=- 1,reg_lambda=0.5)\n",
    "lgb.fit(X_train, y_train)"
   ]
  },
  {
   "cell_type": "code",
   "execution_count": 213,
   "metadata": {},
   "outputs": [],
   "source": [
    "from sklearn.metrics import mean_absolute_error"
   ]
  },
  {
   "cell_type": "code",
   "execution_count": 214,
   "metadata": {},
   "outputs": [
    {
     "name": "stdout",
     "output_type": "stream",
     "text": [
      "MSE training: 3591088.898, MSE testing: 120614196.034\n",
      "RMSE training: 1895.017, RMSE testing: 10982.449\n",
      "MAE training: 1409.255, MAE testing: 9648.837\n"
     ]
    }
   ],
   "source": [
    "y_test_predict = lgb.predict(X_test)\n",
    "y_train_predict = lgb.predict(X_train)\n",
    "\n",
    "train_mse = mean_squared_error(y_train, y_train_predict)\n",
    "test_mse = mean_squared_error(y_test, y_test_predict)\n",
    "print('MSE training: %.3f, MSE testing: %.3f' % (\n",
    "      (train_mse), (test_mse)))\n",
    "print('RMSE training: %.3f, RMSE testing: %.3f' % (\n",
    "      (train_mse**0.5), (test_mse**0.5)))\n",
    "train_mape = mean_absolute_error(y_train, y_train_predict)\n",
    "test_mape = mean_absolute_error(y_test, y_test_predict)\n",
    "print('MAE training: %.3f, MAE testing: %.3f' % (\n",
    "      (train_mape), (test_mape)))"
   ]
  },
  {
   "cell_type": "code",
   "execution_count": 215,
   "metadata": {},
   "outputs": [
    {
     "data": {
      "image/png": "[encoded data removed]",
      "text/plain": [
       "<Figure size 576x720 with 1 Axes>"
      ]
     },
     "metadata": {
      "needs_background": "light"
     },
     "output_type": "display_data"
    }
   ],
   "source": [
    "plot_features_weights('LGBMRegressor',rf.feature_importances_, X_train.columns)"
   ]
  },
  {
   "cell_type": "code",
   "execution_count": 216,
   "metadata": {},
   "outputs": [],
   "source": [
    "X_real_train = one_train.drop([\"index\",\"Unnamed: 0_x\",\"Unnamed: 0_y\",\"RUL_x\",\"RUL_y\",\"round_RUL\",\"id\",\"id_x\",\"id.1\",\"id.2\",\"time\",\"time_group\"], axis=1)\n",
    "X_real_test = one_test.drop([\"index\",\"Unnamed: 0_x\",\"Unnamed: 0_y\",\"RUL_x\",\"RUL_y\",\"round_RUL\",\"id\",\"id_x\",\"id.1\",\"id.2\",\"time\",\"time_group\"], axis=1)"
   ]
  },
  {
   "cell_type": "code",
   "execution_count": 217,
   "metadata": {},
   "outputs": [],
   "source": [
    "X_real_train = X_real_train[list(imp_df[imp_df[\"Total\"]>=2][\"Feature\"].values)]\n",
    "X_real_test = X_real_test[list(imp_df[imp_df[\"Total\"]>=2][\"Feature\"].values)]"
   ]
  },
  {
   "cell_type": "code",
   "execution_count": 218,
   "metadata": {},
   "outputs": [],
   "source": [
    "y_test_predict_all = lgb.predict(X_real_test)\n",
    "y_train_predict_all = lgb.predict(X_real_train)"
   ]
  },
  {
   "cell_type": "code",
   "execution_count": 219,
   "metadata": {},
   "outputs": [],
   "source": [
    "ans_train[\"class 0 predict\"] = y_train_predict_all\n",
    "ans_test[\"class 0 predict\"] = y_test_predict_all"
   ]
  },
  {
   "cell_type": "markdown",
   "metadata": {},
   "source": [
    "#### 2. class 1"
   ]
  },
  {
   "cell_type": "code",
   "execution_count": 220,
   "metadata": {},
   "outputs": [],
   "source": [
    "X_train = one_train[one_train[\"time_group\"]==1].drop([\"index\",\"Unnamed: 0_x\",\"Unnamed: 0_y\",\"RUL_x\",\"RUL_y\",\"round_RUL\",\"id\",\"id_x\",\"id.1\",\"id.2\",\"time_group\"], axis=1)\n",
    "X_test = one_test[one_test[\"time_group\"]==1].drop([\"index\",\"Unnamed: 0_x\",\"Unnamed: 0_y\",\"RUL_x\",\"RUL_y\",\"round_RUL\",\"id\",\"id_x\",\"id.1\",\"id.2\",\"time_group\"], axis=1)\n",
    "y_train = one_train[one_train[\"time_group\"]==1][\"RUL_x\"]\n",
    "y_test = one_test[one_test[\"time_group\"]==1][\"RUL_x\"]"
   ]
  },
  {
   "cell_type": "code",
   "execution_count": 221,
   "metadata": {},
   "outputs": [],
   "source": [
    "X_train = X_train[list(imp_df[imp_df[\"Total\"]>=2][\"Feature\"].values)]\n",
    "X_test = X_test[list(imp_df[imp_df[\"Total\"]>=2][\"Feature\"].values)]"
   ]
  },
  {
   "cell_type": "code",
   "execution_count": 222,
   "metadata": {},
   "outputs": [
    {
     "data": {
      "text/plain": [
       "Index(['sd_vert', 'rms_horiz', 'f16', 'av_sum', 'sd_temp', 'sd_sum',\n",
       "       'sd_horiz', 'rms_vert', 'rms_sum', 'peak_temp', 'peak_sum', 'f80', 'f8',\n",
       "       'f48', 'f40', 'f24', 'av_temp', 'shape_sum', 'rms_temp', 'f96',\n",
       "       'f88_vert', 'f72', 'f56', 'f32', 'f184', 'f168', 'f120', 'f112_vert',\n",
       "       'f112', 'f104', 'crest_sum', 'Rtd sensor', 'skew_temp', 'kurt_temp',\n",
       "       'imp_temp', 'imp_sum', 'f88_sum', 'f88', 'f80_vert', 'f24_vert', 'f240',\n",
       "       'f216', 'f208', 'f16_vert', 'f160', 'f136_vert', 'f136_sum', 'f136',\n",
       "       'f120_vert', 'f120_sum', 'f112_sum', 'crest_temp', 'clear_temp',\n",
       "       'clear_sum'],\n",
       "      dtype='object')"
      ]
     },
     "execution_count": 222,
     "metadata": {},
     "output_type": "execute_result"
    }
   ],
   "source": [
    "X_train.columns"
   ]
  },
  {
   "cell_type": "code",
   "execution_count": 223,
   "metadata": {},
   "outputs": [
    {
     "data": {
      "text/plain": [
       "LGBMRegressor(boosting_type='gbdt', class_weight=None, colsample_bytree=1.0,\n",
       "              importance_type='split', learning_rate=0.1, max_depth=-1,\n",
       "              min_child_samples=20, min_child_weight=0.001, min_split_gain=0.0,\n",
       "              n_estimators=20, n_jobs=-1, num_leaves=31, objective=None,\n",
       "              random_state=None, reg_alpha=0.0, reg_lambda=0.5, silent=True,\n",
       "              subsample=1.0, subsample_for_bin=200000, subsample_freq=0)"
      ]
     },
     "execution_count": 223,
     "metadata": {},
     "output_type": "execute_result"
    }
   ],
   "source": [
    "lgb = LGBMRegressor(n_estimators=20,n_jobs=- 1,reg_lambda=0.5)\n",
    "lgb.fit(X_train, y_train)"
   ]
  },
  {
   "cell_type": "code",
   "execution_count": 224,
   "metadata": {},
   "outputs": [
    {
     "name": "stdout",
     "output_type": "stream",
     "text": [
      "MSE training: 554687.837, MSE testing: 526751.893\n",
      "RMSE training: 744.774, RMSE testing: 725.777\n",
      "MAE training: 628.202, MAE testing: 643.530\n"
     ]
    }
   ],
   "source": [
    "y_test_predict = lgb.predict(X_test)\n",
    "y_train_predict = lgb.predict(X_train)\n",
    "\n",
    "train_mse = mean_squared_error(y_train, y_train_predict)\n",
    "test_mse = mean_squared_error(y_test, y_test_predict)\n",
    "print('MSE training: %.3f, MSE testing: %.3f' % (\n",
    "      (train_mse), (test_mse)))\n",
    "print('RMSE training: %.3f, RMSE testing: %.3f' % (\n",
    "      (train_mse**0.5), (test_mse**0.5)))\n",
    "train_mape = mean_absolute_error(y_train, y_train_predict)\n",
    "test_mape = mean_absolute_error(y_test, y_test_predict)\n",
    "print('MAE training: %.3f, MAE testing: %.3f' % (\n",
    "      (train_mape), (test_mape)))"
   ]
  },
  {
   "cell_type": "code",
   "execution_count": 225,
   "metadata": {
    "scrolled": false
   },
   "outputs": [
    {
     "data": {
      "image/png": "[encoded data removed]",
      "text/plain": [
       "<Figure size 576x720 with 1 Axes>"
      ]
     },
     "metadata": {
      "needs_background": "light"
     },
     "output_type": "display_data"
    }
   ],
   "source": [
    "plot_features_weights('LGBMRegressor',rf.feature_importances_, X_train.columns)"
   ]
  },
  {
   "cell_type": "code",
   "execution_count": 226,
   "metadata": {},
   "outputs": [],
   "source": [
    "X_real_train = one_train.drop([\"index\",\"Unnamed: 0_x\",\"Unnamed: 0_y\",\"RUL_x\",\"RUL_y\",\"round_RUL\",\"id\",\"id_x\",\"id.1\",\"id.2\",\"time\",\"time_group\"], axis=1)\n",
    "X_real_test = one_test.drop([\"index\",\"Unnamed: 0_x\",\"Unnamed: 0_y\",\"RUL_x\",\"RUL_y\",\"round_RUL\",\"id\",\"id_x\",\"id.1\",\"id.2\",\"time\",\"time_group\"], axis=1)\n",
    "\n",
    "X_real_train = X_real_train[list(imp_df[imp_df[\"Total\"]>=2][\"Feature\"].values)]\n",
    "X_real_test = X_real_test[list(imp_df[imp_df[\"Total\"]>=2][\"Feature\"].values)]\n",
    "\n",
    "y_test_predict_all = lgb.predict(X_real_test)\n",
    "y_train_predict_all = lgb.predict(X_real_train)\n",
    "\n",
    "ans_train[\"class 1 predict\"] = y_train_predict_all\n",
    "ans_test[\"class 1 predict\"] = y_test_predict_all"
   ]
  },
  {
   "cell_type": "markdown",
   "metadata": {},
   "source": [
    "#### 3. class 2"
   ]
  },
  {
   "cell_type": "code",
   "execution_count": 239,
   "metadata": {},
   "outputs": [],
   "source": [
    "X_train = one_train[one_train[\"time_group\"]==2].drop([\"index\",\"Unnamed: 0_x\",\"Unnamed: 0_y\",\"RUL_x\",\"RUL_y\",\"round_RUL\",\"id\",\"id_x\",\"id.1\",\"id.2\",\"time_group\"], axis=1)\n",
    "X_test = one_test[one_test[\"time_group\"]==2].drop([\"index\",\"Unnamed: 0_x\",\"Unnamed: 0_y\",\"RUL_x\",\"RUL_y\",\"round_RUL\",\"id\",\"id_x\",\"id.1\",\"id.2\",\"time_group\"], axis=1)\n",
    "y_train = one_train[one_train[\"time_group\"]==2][\"RUL_x\"]\n",
    "y_test = one_test[one_test[\"time_group\"]==2][\"RUL_x\"]"
   ]
  },
  {
   "cell_type": "code",
   "execution_count": 240,
   "metadata": {},
   "outputs": [
    {
     "data": {
      "text/plain": [
       "Index(['sd_vert', 'rms_horiz', 'f16', 'av_sum', 'sd_temp', 'sd_sum',\n",
       "       'sd_horiz', 'rms_vert', 'rms_sum', 'peak_temp', 'peak_sum', 'f80', 'f8',\n",
       "       'f48', 'f40', 'f24', 'av_temp', 'shape_sum', 'rms_temp', 'f96',\n",
       "       'f88_vert', 'f72', 'f56', 'f32', 'f184', 'f168', 'f120', 'f112_vert',\n",
       "       'f112', 'f104', 'crest_sum', 'Rtd sensor', 'skew_temp', 'kurt_temp',\n",
       "       'imp_temp', 'imp_sum', 'f88_sum', 'f88', 'f80_vert', 'f24_vert', 'f240',\n",
       "       'f216', 'f208', 'f16_vert', 'f160', 'f136_vert', 'f136_sum', 'f136',\n",
       "       'f120_vert', 'f120_sum', 'f112_sum', 'crest_temp', 'clear_temp',\n",
       "       'clear_sum'],\n",
       "      dtype='object')"
      ]
     },
     "execution_count": 240,
     "metadata": {},
     "output_type": "execute_result"
    }
   ],
   "source": [
    "X_train = X_train[list(imp_df[imp_df[\"Total\"]>=2][\"Feature\"].values)]\n",
    "X_test = X_test[list(imp_df[imp_df[\"Total\"]>=2][\"Feature\"].values)]\n",
    "X_train.columns"
   ]
  },
  {
   "cell_type": "code",
   "execution_count": 241,
   "metadata": {},
   "outputs": [],
   "source": [
    "lgb = LGBMRegressor(n_estimators=20,n_jobs=- 1,reg_lambda=0.5)\n",
    "lgb.fit(X_train, y_train)\n",
    "y_test_predict = lgb.predict(X_test)\n",
    "y_train_predict = lgb.predict(X_train)"
   ]
  },
  {
   "cell_type": "code",
   "execution_count": 242,
   "metadata": {},
   "outputs": [
    {
     "name": "stdout",
     "output_type": "stream",
     "text": [
      "MSE training: 1177898.972, MSE testing: 416031.996\n",
      "RMSE training: 1085.311, RMSE testing: 645.005\n",
      "MAE training: 844.279, MAE testing: 557.316\n"
     ]
    }
   ],
   "source": [
    "train_mse = mean_squared_error(y_train, y_train_predict)\n",
    "test_mse = mean_squared_error(y_test, y_test_predict)\n",
    "print('MSE training: %.3f, MSE testing: %.3f' % (\n",
    "      (train_mse), (test_mse)))\n",
    "print('RMSE training: %.3f, RMSE testing: %.3f' % (\n",
    "      (train_mse**0.5), (test_mse**0.5)))\n",
    "train_mape = mean_absolute_error(y_train, y_train_predict)\n",
    "test_mape = mean_absolute_error(y_test, y_test_predict)\n",
    "print('MAE training: %.3f, MAE testing: %.3f' % (\n",
    "      (train_mape), (test_mape)))"
   ]
  },
  {
   "cell_type": "code",
   "execution_count": 243,
   "metadata": {},
   "outputs": [
    {
     "data": {
      "image/png": "[encoded data removed]",
      "text/plain": [
       "<Figure size 576x720 with 1 Axes>"
      ]
     },
     "metadata": {
      "needs_background": "light"
     },
     "output_type": "display_data"
    }
   ],
   "source": [
    "plot_features_weights('LGBMRegressor',rf.feature_importances_, X_train.columns)"
   ]
  },
  {
   "cell_type": "code",
   "execution_count": 244,
   "metadata": {},
   "outputs": [],
   "source": [
    "X_real_train = one_train.drop([\"index\",\"Unnamed: 0_x\",\"Unnamed: 0_y\",\"RUL_x\",\"RUL_y\",\"round_RUL\",\"id\",\"id_x\",\"id.1\",\"id.2\",\"time\",\"time_group\"], axis=1)\n",
    "X_real_test = one_test.drop([\"index\",\"Unnamed: 0_x\",\"Unnamed: 0_y\",\"RUL_x\",\"RUL_y\",\"round_RUL\",\"id\",\"id_x\",\"id.1\",\"id.2\",\"time\",\"time_group\"], axis=1)\n",
    "\n",
    "X_real_train = X_real_train[list(imp_df[imp_df[\"Total\"]>=2][\"Feature\"].values)]\n",
    "X_real_test = X_real_test[list(imp_df[imp_df[\"Total\"]>=2][\"Feature\"].values)]\n",
    "\n",
    "y_test_predict_all = lgb.predict(X_real_test)\n",
    "y_train_predict_all = lgb.predict(X_real_train)\n",
    "\n",
    "ans_train[\"class 2 predict\"] = y_train_predict_all\n",
    "ans_test[\"class 2 predict\"] = y_test_predict_all"
   ]
  },
  {
   "cell_type": "code",
   "execution_count": 245,
   "metadata": {},
   "outputs": [
    {
     "data": {
      "text/html": [
       "<div>\n",
       "<style scoped>\n",
       "    .dataframe tbody tr th:only-of-type {\n",
       "        vertical-align: middle;\n",
       "    }\n",
       "\n",
       "    .dataframe tbody tr th {\n",
       "        vertical-align: top;\n",
       "    }\n",
       "\n",
       "    .dataframe thead th {\n",
       "        text-align: right;\n",
       "    }\n",
       "</style>\n",
       "<table border=\"1\" class=\"dataframe\">\n",
       "  <thead>\n",
       "    <tr style=\"text-align: right;\">\n",
       "      <th></th>\n",
       "      <th>real group</th>\n",
       "      <th>pre_group(no time)</th>\n",
       "      <th>real_rul</th>\n",
       "      <th>time</th>\n",
       "      <th>pre_group(time)</th>\n",
       "      <th>class 0 predict</th>\n",
       "      <th>class 1 predict</th>\n",
       "      <th>class 2 predict</th>\n",
       "    </tr>\n",
       "  </thead>\n",
       "  <tbody>\n",
       "    <tr>\n",
       "      <th>0</th>\n",
       "      <td>0.0</td>\n",
       "      <td>0.0</td>\n",
       "      <td>7440.09961</td>\n",
       "      <td>0.00000</td>\n",
       "      <td>0.0</td>\n",
       "      <td>8232.840129</td>\n",
       "      <td>3144.222064</td>\n",
       "      <td>1578.865671</td>\n",
       "    </tr>\n",
       "    <tr>\n",
       "      <th>1</th>\n",
       "      <td>0.0</td>\n",
       "      <td>0.0</td>\n",
       "      <td>7440.09922</td>\n",
       "      <td>0.00039</td>\n",
       "      <td>0.0</td>\n",
       "      <td>8232.840129</td>\n",
       "      <td>3144.222064</td>\n",
       "      <td>1578.865671</td>\n",
       "    </tr>\n",
       "    <tr>\n",
       "      <th>2</th>\n",
       "      <td>0.0</td>\n",
       "      <td>0.0</td>\n",
       "      <td>7440.09883</td>\n",
       "      <td>0.00078</td>\n",
       "      <td>0.0</td>\n",
       "      <td>8232.840129</td>\n",
       "      <td>3144.222064</td>\n",
       "      <td>1578.865671</td>\n",
       "    </tr>\n",
       "    <tr>\n",
       "      <th>3</th>\n",
       "      <td>0.0</td>\n",
       "      <td>0.0</td>\n",
       "      <td>7440.09844</td>\n",
       "      <td>0.00117</td>\n",
       "      <td>0.0</td>\n",
       "      <td>8232.840129</td>\n",
       "      <td>3144.222064</td>\n",
       "      <td>1578.865671</td>\n",
       "    </tr>\n",
       "    <tr>\n",
       "      <th>4</th>\n",
       "      <td>0.0</td>\n",
       "      <td>0.0</td>\n",
       "      <td>7440.09805</td>\n",
       "      <td>0.00156</td>\n",
       "      <td>0.0</td>\n",
       "      <td>8232.840129</td>\n",
       "      <td>3144.222064</td>\n",
       "      <td>1578.865671</td>\n",
       "    </tr>\n",
       "    <tr>\n",
       "      <th>...</th>\n",
       "      <td>...</td>\n",
       "      <td>...</td>\n",
       "      <td>...</td>\n",
       "      <td>...</td>\n",
       "      <td>...</td>\n",
       "      <td>...</td>\n",
       "      <td>...</td>\n",
       "      <td>...</td>\n",
       "    </tr>\n",
       "    <tr>\n",
       "      <th>782331</th>\n",
       "      <td>2.0</td>\n",
       "      <td>2.0</td>\n",
       "      <td>0.00156</td>\n",
       "      <td>23100.09805</td>\n",
       "      <td>2.0</td>\n",
       "      <td>16608.066927</td>\n",
       "      <td>6358.232971</td>\n",
       "      <td>1478.569388</td>\n",
       "    </tr>\n",
       "    <tr>\n",
       "      <th>782332</th>\n",
       "      <td>2.0</td>\n",
       "      <td>2.0</td>\n",
       "      <td>0.00117</td>\n",
       "      <td>23100.09844</td>\n",
       "      <td>2.0</td>\n",
       "      <td>16608.066927</td>\n",
       "      <td>6358.232971</td>\n",
       "      <td>1478.569388</td>\n",
       "    </tr>\n",
       "    <tr>\n",
       "      <th>782333</th>\n",
       "      <td>2.0</td>\n",
       "      <td>2.0</td>\n",
       "      <td>0.00078</td>\n",
       "      <td>23100.09883</td>\n",
       "      <td>2.0</td>\n",
       "      <td>16608.066927</td>\n",
       "      <td>6358.232971</td>\n",
       "      <td>1367.860056</td>\n",
       "    </tr>\n",
       "    <tr>\n",
       "      <th>782334</th>\n",
       "      <td>2.0</td>\n",
       "      <td>2.0</td>\n",
       "      <td>0.00039</td>\n",
       "      <td>23100.09922</td>\n",
       "      <td>2.0</td>\n",
       "      <td>16608.066927</td>\n",
       "      <td>6358.232971</td>\n",
       "      <td>1335.106109</td>\n",
       "    </tr>\n",
       "    <tr>\n",
       "      <th>782335</th>\n",
       "      <td>2.0</td>\n",
       "      <td>2.0</td>\n",
       "      <td>0.00000</td>\n",
       "      <td>23100.09961</td>\n",
       "      <td>2.0</td>\n",
       "      <td>16608.066927</td>\n",
       "      <td>6358.232971</td>\n",
       "      <td>1302.956530</td>\n",
       "    </tr>\n",
       "  </tbody>\n",
       "</table>\n",
       "<p>782336 rows × 8 columns</p>\n",
       "</div>"
      ],
      "text/plain": [
       "        real group  pre_group(no time)    real_rul         time  \\\n",
       "0              0.0                 0.0  7440.09961      0.00000   \n",
       "1              0.0                 0.0  7440.09922      0.00039   \n",
       "2              0.0                 0.0  7440.09883      0.00078   \n",
       "3              0.0                 0.0  7440.09844      0.00117   \n",
       "4              0.0                 0.0  7440.09805      0.00156   \n",
       "...            ...                 ...         ...          ...   \n",
       "782331         2.0                 2.0     0.00156  23100.09805   \n",
       "782332         2.0                 2.0     0.00117  23100.09844   \n",
       "782333         2.0                 2.0     0.00078  23100.09883   \n",
       "782334         2.0                 2.0     0.00039  23100.09922   \n",
       "782335         2.0                 2.0     0.00000  23100.09961   \n",
       "\n",
       "        pre_group(time)  class 0 predict  class 1 predict  class 2 predict  \n",
       "0                   0.0      8232.840129      3144.222064      1578.865671  \n",
       "1                   0.0      8232.840129      3144.222064      1578.865671  \n",
       "2                   0.0      8232.840129      3144.222064      1578.865671  \n",
       "3                   0.0      8232.840129      3144.222064      1578.865671  \n",
       "4                   0.0      8232.840129      3144.222064      1578.865671  \n",
       "...                 ...              ...              ...              ...  \n",
       "782331              2.0     16608.066927      6358.232971      1478.569388  \n",
       "782332              2.0     16608.066927      6358.232971      1478.569388  \n",
       "782333              2.0     16608.066927      6358.232971      1367.860056  \n",
       "782334              2.0     16608.066927      6358.232971      1335.106109  \n",
       "782335              2.0     16608.066927      6358.232971      1302.956530  \n",
       "\n",
       "[782336 rows x 8 columns]"
      ]
     },
     "execution_count": 245,
     "metadata": {},
     "output_type": "execute_result"
    }
   ],
   "source": [
    "ans_train"
   ]
  },
  {
   "cell_type": "code",
   "execution_count": 246,
   "metadata": {},
   "outputs": [],
   "source": [
    "ans_train = ans_train.reset_index()\n",
    "ans_test = ans_test.reset_index()"
   ]
  },
  {
   "cell_type": "code",
   "execution_count": 247,
   "metadata": {},
   "outputs": [],
   "source": [
    "ans_train.loc[ans_train[\"pre_group(no time)\"]==0,\"final predict\"] = ans_train.loc[ans_train[\"pre_group(no time)\"]==0,\"class 0 predict\"]\n",
    "ans_train.loc[ans_train[\"pre_group(no time)\"]==1,\"final predict\"] = ans_train.loc[ans_train[\"pre_group(no time)\"]==1,\"class 1 predict\"]\n",
    "ans_train.loc[ans_train[\"pre_group(no time)\"]==2,\"final predict\"] = ans_train.loc[ans_train[\"pre_group(no time)\"]==2,\"class 2 predict\"]"
   ]
  },
  {
   "cell_type": "code",
   "execution_count": 248,
   "metadata": {},
   "outputs": [],
   "source": [
    "ans_test.loc[ans_test[\"pre_group(no time)\"]==0,\"final predict\"] = ans_test.loc[ans_test[\"pre_group(no time)\"]==0,\"class 0 predict\"]\n",
    "ans_test.loc[ans_test[\"pre_group(no time)\"]==1,\"final predict\"] = ans_test.loc[ans_test[\"pre_group(no time)\"]==1,\"class 1 predict\"]\n",
    "ans_test.loc[ans_test[\"pre_group(no time)\"]==2,\"final predict\"] = ans_test.loc[ans_test[\"pre_group(no time)\"]==2,\"class 2 predict\"]"
   ]
  },
  {
   "cell_type": "code",
   "execution_count": 249,
   "metadata": {},
   "outputs": [
    {
     "data": {
      "text/html": [
       "<div>\n",
       "<style scoped>\n",
       "    .dataframe tbody tr th:only-of-type {\n",
       "        vertical-align: middle;\n",
       "    }\n",
       "\n",
       "    .dataframe tbody tr th {\n",
       "        vertical-align: top;\n",
       "    }\n",
       "\n",
       "    .dataframe thead th {\n",
       "        text-align: right;\n",
       "    }\n",
       "</style>\n",
       "<table border=\"1\" class=\"dataframe\">\n",
       "  <thead>\n",
       "    <tr style=\"text-align: right;\">\n",
       "      <th></th>\n",
       "      <th>index</th>\n",
       "      <th>real group</th>\n",
       "      <th>pre_group(no time)</th>\n",
       "      <th>real_rul</th>\n",
       "      <th>time</th>\n",
       "      <th>pre_group(time)</th>\n",
       "      <th>class 0 predict</th>\n",
       "      <th>class 1 predict</th>\n",
       "      <th>class 2 predict</th>\n",
       "      <th>final predict</th>\n",
       "    </tr>\n",
       "  </thead>\n",
       "  <tbody>\n",
       "    <tr>\n",
       "      <th>0</th>\n",
       "      <td>0</td>\n",
       "      <td>0.0</td>\n",
       "      <td>0.0</td>\n",
       "      <td>7440.09961</td>\n",
       "      <td>0.00000</td>\n",
       "      <td>0.0</td>\n",
       "      <td>8232.840129</td>\n",
       "      <td>3144.222064</td>\n",
       "      <td>1578.865671</td>\n",
       "      <td>8232.840129</td>\n",
       "    </tr>\n",
       "    <tr>\n",
       "      <th>1</th>\n",
       "      <td>1</td>\n",
       "      <td>0.0</td>\n",
       "      <td>0.0</td>\n",
       "      <td>7440.09922</td>\n",
       "      <td>0.00039</td>\n",
       "      <td>0.0</td>\n",
       "      <td>8232.840129</td>\n",
       "      <td>3144.222064</td>\n",
       "      <td>1578.865671</td>\n",
       "      <td>8232.840129</td>\n",
       "    </tr>\n",
       "    <tr>\n",
       "      <th>2</th>\n",
       "      <td>2</td>\n",
       "      <td>0.0</td>\n",
       "      <td>0.0</td>\n",
       "      <td>7440.09883</td>\n",
       "      <td>0.00078</td>\n",
       "      <td>0.0</td>\n",
       "      <td>8232.840129</td>\n",
       "      <td>3144.222064</td>\n",
       "      <td>1578.865671</td>\n",
       "      <td>8232.840129</td>\n",
       "    </tr>\n",
       "    <tr>\n",
       "      <th>3</th>\n",
       "      <td>3</td>\n",
       "      <td>0.0</td>\n",
       "      <td>0.0</td>\n",
       "      <td>7440.09844</td>\n",
       "      <td>0.00117</td>\n",
       "      <td>0.0</td>\n",
       "      <td>8232.840129</td>\n",
       "      <td>3144.222064</td>\n",
       "      <td>1578.865671</td>\n",
       "      <td>8232.840129</td>\n",
       "    </tr>\n",
       "    <tr>\n",
       "      <th>4</th>\n",
       "      <td>4</td>\n",
       "      <td>0.0</td>\n",
       "      <td>0.0</td>\n",
       "      <td>7440.09805</td>\n",
       "      <td>0.00156</td>\n",
       "      <td>0.0</td>\n",
       "      <td>8232.840129</td>\n",
       "      <td>3144.222064</td>\n",
       "      <td>1578.865671</td>\n",
       "      <td>8232.840129</td>\n",
       "    </tr>\n",
       "    <tr>\n",
       "      <th>...</th>\n",
       "      <td>...</td>\n",
       "      <td>...</td>\n",
       "      <td>...</td>\n",
       "      <td>...</td>\n",
       "      <td>...</td>\n",
       "      <td>...</td>\n",
       "      <td>...</td>\n",
       "      <td>...</td>\n",
       "      <td>...</td>\n",
       "      <td>...</td>\n",
       "    </tr>\n",
       "    <tr>\n",
       "      <th>782331</th>\n",
       "      <td>782331</td>\n",
       "      <td>2.0</td>\n",
       "      <td>2.0</td>\n",
       "      <td>0.00156</td>\n",
       "      <td>23100.09805</td>\n",
       "      <td>2.0</td>\n",
       "      <td>16608.066927</td>\n",
       "      <td>6358.232971</td>\n",
       "      <td>1478.569388</td>\n",
       "      <td>1478.569388</td>\n",
       "    </tr>\n",
       "    <tr>\n",
       "      <th>782332</th>\n",
       "      <td>782332</td>\n",
       "      <td>2.0</td>\n",
       "      <td>2.0</td>\n",
       "      <td>0.00117</td>\n",
       "      <td>23100.09844</td>\n",
       "      <td>2.0</td>\n",
       "      <td>16608.066927</td>\n",
       "      <td>6358.232971</td>\n",
       "      <td>1478.569388</td>\n",
       "      <td>1478.569388</td>\n",
       "    </tr>\n",
       "    <tr>\n",
       "      <th>782333</th>\n",
       "      <td>782333</td>\n",
       "      <td>2.0</td>\n",
       "      <td>2.0</td>\n",
       "      <td>0.00078</td>\n",
       "      <td>23100.09883</td>\n",
       "      <td>2.0</td>\n",
       "      <td>16608.066927</td>\n",
       "      <td>6358.232971</td>\n",
       "      <td>1367.860056</td>\n",
       "      <td>1367.860056</td>\n",
       "    </tr>\n",
       "    <tr>\n",
       "      <th>782334</th>\n",
       "      <td>782334</td>\n",
       "      <td>2.0</td>\n",
       "      <td>2.0</td>\n",
       "      <td>0.00039</td>\n",
       "      <td>23100.09922</td>\n",
       "      <td>2.0</td>\n",
       "      <td>16608.066927</td>\n",
       "      <td>6358.232971</td>\n",
       "      <td>1335.106109</td>\n",
       "      <td>1335.106109</td>\n",
       "    </tr>\n",
       "    <tr>\n",
       "      <th>782335</th>\n",
       "      <td>782335</td>\n",
       "      <td>2.0</td>\n",
       "      <td>2.0</td>\n",
       "      <td>0.00000</td>\n",
       "      <td>23100.09961</td>\n",
       "      <td>2.0</td>\n",
       "      <td>16608.066927</td>\n",
       "      <td>6358.232971</td>\n",
       "      <td>1302.956530</td>\n",
       "      <td>1302.956530</td>\n",
       "    </tr>\n",
       "  </tbody>\n",
       "</table>\n",
       "<p>782336 rows × 10 columns</p>\n",
       "</div>"
      ],
      "text/plain": [
       "         index  real group  pre_group(no time)    real_rul         time  \\\n",
       "0            0         0.0                 0.0  7440.09961      0.00000   \n",
       "1            1         0.0                 0.0  7440.09922      0.00039   \n",
       "2            2         0.0                 0.0  7440.09883      0.00078   \n",
       "3            3         0.0                 0.0  7440.09844      0.00117   \n",
       "4            4         0.0                 0.0  7440.09805      0.00156   \n",
       "...        ...         ...                 ...         ...          ...   \n",
       "782331  782331         2.0                 2.0     0.00156  23100.09805   \n",
       "782332  782332         2.0                 2.0     0.00117  23100.09844   \n",
       "782333  782333         2.0                 2.0     0.00078  23100.09883   \n",
       "782334  782334         2.0                 2.0     0.00039  23100.09922   \n",
       "782335  782335         2.0                 2.0     0.00000  23100.09961   \n",
       "\n",
       "        pre_group(time)  class 0 predict  class 1 predict  class 2 predict  \\\n",
       "0                   0.0      8232.840129      3144.222064      1578.865671   \n",
       "1                   0.0      8232.840129      3144.222064      1578.865671   \n",
       "2                   0.0      8232.840129      3144.222064      1578.865671   \n",
       "3                   0.0      8232.840129      3144.222064      1578.865671   \n",
       "4                   0.0      8232.840129      3144.222064      1578.865671   \n",
       "...                 ...              ...              ...              ...   \n",
       "782331              2.0     16608.066927      6358.232971      1478.569388   \n",
       "782332              2.0     16608.066927      6358.232971      1478.569388   \n",
       "782333              2.0     16608.066927      6358.232971      1367.860056   \n",
       "782334              2.0     16608.066927      6358.232971      1335.106109   \n",
       "782335              2.0     16608.066927      6358.232971      1302.956530   \n",
       "\n",
       "        final predict  \n",
       "0         8232.840129  \n",
       "1         8232.840129  \n",
       "2         8232.840129  \n",
       "3         8232.840129  \n",
       "4         8232.840129  \n",
       "...               ...  \n",
       "782331    1478.569388  \n",
       "782332    1478.569388  \n",
       "782333    1367.860056  \n",
       "782334    1335.106109  \n",
       "782335    1302.956530  \n",
       "\n",
       "[782336 rows x 10 columns]"
      ]
     },
     "execution_count": 249,
     "metadata": {},
     "output_type": "execute_result"
    }
   ],
   "source": [
    "ans_train"
   ]
  },
  {
   "cell_type": "code",
   "execution_count": 250,
   "metadata": {},
   "outputs": [],
   "source": [
    "ans_train.loc[ans_train[\"pre_group(time)\"]==0,\"final predict(time)\"] = ans_train.loc[ans_train[\"pre_group(time)\"]==0,\"class 0 predict\"]\n",
    "ans_train.loc[ans_train[\"pre_group(time)\"]==1,\"final predict(time)\"] = ans_train.loc[ans_train[\"pre_group(time)\"]==1,\"class 1 predict\"]\n",
    "ans_train.loc[ans_train[\"pre_group(time)\"]==2,\"final predict(time)\"] = ans_train.loc[ans_train[\"pre_group(time)\"]==2,\"class 2 predict\"]"
   ]
  },
  {
   "cell_type": "code",
   "execution_count": 251,
   "metadata": {},
   "outputs": [],
   "source": [
    "ans_test.loc[ans_test[\"pre_group(time)\"]==0,\"final predict(time)\"] = ans_test.loc[ans_test[\"pre_group(time)\"]==0,\"class 0 predict\"]\n",
    "ans_test.loc[ans_test[\"pre_group(time)\"]==1,\"final predict(time)\"] = ans_test.loc[ans_test[\"pre_group(time)\"]==1,\"class 1 predict\"]\n",
    "ans_test.loc[ans_test[\"pre_group(time)\"]==2,\"final predict(time)\"] = ans_test.loc[ans_test[\"pre_group(time)\"]==2,\"class 2 predict\"]"
   ]
  },
  {
   "cell_type": "code",
   "execution_count": 252,
   "metadata": {},
   "outputs": [
    {
     "name": "stdout",
     "output_type": "stream",
     "text": [
      "MSE training: 14946360.270, MSE testing: 191003343.665\n",
      "RMSE training: 3866.052, RMSE testing: 13820.396\n",
      "MAE training: 2299.707, MAE testing: 12875.238\n"
     ]
    }
   ],
   "source": [
    "train_mse = mean_squared_error(ans_train[\"real_rul\"], ans_train[\"final predict\"])\n",
    "test_mse = mean_squared_error(ans_test[\"real_rul\"], ans_test[\"final predict\"])\n",
    "print('MSE training: %.3f, MSE testing: %.3f' % (\n",
    "      (train_mse), (test_mse)))\n",
    "print('RMSE training: %.3f, RMSE testing: %.3f' % (\n",
    "      (train_mse**0.5), (test_mse**0.5)))\n",
    "train_mape = mean_absolute_error(ans_train[\"real_rul\"], ans_train[\"final predict\"])\n",
    "test_mape = mean_absolute_error(ans_test[\"real_rul\"], ans_test[\"final predict\"])\n",
    "print('MAE training: %.3f, MAE testing: %.3f' % (\n",
    "      (train_mape), (test_mape)))"
   ]
  },
  {
   "cell_type": "code",
   "execution_count": 253,
   "metadata": {},
   "outputs": [
    {
     "name": "stdout",
     "output_type": "stream",
     "text": [
      "MSE training: 11081494.729, MSE testing: 191003319.206\n",
      "RMSE training: 3328.888, RMSE testing: 13820.395\n",
      "MAE training: 1706.974, MAE testing: 12875.231\n"
     ]
    }
   ],
   "source": [
    "train_mse = mean_squared_error(ans_train[\"real_rul\"], ans_train[\"final predict(time)\"])\n",
    "test_mse = mean_squared_error(ans_test[\"real_rul\"], ans_test[\"final predict(time)\"])\n",
    "print('MSE training: %.3f, MSE testing: %.3f' % (\n",
    "      (train_mse), (test_mse)))\n",
    "print('RMSE training: %.3f, RMSE testing: %.3f' % (\n",
    "      (train_mse**0.5), (test_mse**0.5)))\n",
    "train_mape = mean_absolute_error(ans_train[\"real_rul\"], ans_train[\"final predict(time)\"])\n",
    "test_mape = mean_absolute_error(ans_test[\"real_rul\"], ans_test[\"final predict(time)\"])\n",
    "print('MAE training: %.3f, MAE testing: %.3f' % (\n",
    "      (train_mape), (test_mape)))"
   ]
  },
  {
   "cell_type": "code",
   "execution_count": 254,
   "metadata": {},
   "outputs": [
    {
     "data": {
      "text/plain": [
       "Index(['sd_vert', 'rms_horiz', 'f16', 'av_sum', 'sd_temp', 'sd_sum',\n",
       "       'sd_horiz', 'rms_vert', 'rms_sum', 'peak_temp', 'peak_sum', 'f80', 'f8',\n",
       "       'f48', 'f40', 'f24', 'av_temp', 'shape_sum', 'rms_temp', 'f96',\n",
       "       'f88_vert', 'f72', 'f56', 'f32', 'f184', 'f168', 'f120', 'f112_vert',\n",
       "       'f112', 'f104', 'crest_sum', 'Rtd sensor', 'skew_temp', 'kurt_temp',\n",
       "       'imp_temp', 'imp_sum', 'f88_sum', 'f88', 'f80_vert', 'f24_vert', 'f240',\n",
       "       'f216', 'f208', 'f16_vert', 'f160', 'f136_vert', 'f136_sum', 'f136',\n",
       "       'f120_vert', 'f120_sum', 'f112_sum', 'crest_temp', 'clear_temp',\n",
       "       'clear_sum'],\n",
       "      dtype='object')"
      ]
     },
     "execution_count": 254,
     "metadata": {},
     "output_type": "execute_result"
    }
   ],
   "source": [
    "X_train = one_train.drop([\"index\",\"Unnamed: 0_x\",\"Unnamed: 0_y\",\"RUL_x\",\"RUL_y\",\"round_RUL\",\"id\",\"id_x\",\"id.1\",\"id.2\",\"time_group\"], axis=1)\n",
    "X_test = one_test.drop([\"index\",\"Unnamed: 0_x\",\"Unnamed: 0_y\",\"RUL_x\",\"RUL_y\",\"round_RUL\",\"id\",\"id_x\",\"id.1\",\"id.2\",\"time_group\"], axis=1)\n",
    "y_train = one_train[\"RUL_x\"]\n",
    "y_test = one_test[\"RUL_x\"]\n",
    "\n",
    "X_train = X_train[list(imp_df[imp_df[\"Total\"]>=2][\"Feature\"].values)]\n",
    "X_test = X_test[list(imp_df[imp_df[\"Total\"]>=2][\"Feature\"].values)]\n",
    "\n",
    "X_train.columns"
   ]
  },
  {
   "cell_type": "code",
   "execution_count": 255,
   "metadata": {},
   "outputs": [
    {
     "name": "stdout",
     "output_type": "stream",
     "text": [
      "MSE training: 14020790.247, MSE testing: 190753735.036\n",
      "RMSE training: 3744.435, RMSE testing: 13811.363\n",
      "MAE training: 2870.178, MAE testing: 12927.630\n"
     ]
    }
   ],
   "source": [
    "lgb = LGBMRegressor(n_estimators=20,n_jobs=- 1,reg_lambda=0.5)\n",
    "lgb.fit(X_train, y_train)\n",
    "\n",
    "y_test_predict = lgb.predict(X_test)\n",
    "y_train_predict = lgb.predict(X_train)\n",
    "\n",
    "train_mse = mean_squared_error(y_train, y_train_predict)\n",
    "test_mse = mean_squared_error(y_test, y_test_predict)\n",
    "print('MSE training: %.3f, MSE testing: %.3f' % (\n",
    "      (train_mse), (test_mse)))\n",
    "print('RMSE training: %.3f, RMSE testing: %.3f' % (\n",
    "      (train_mse**0.5), (test_mse**0.5)))\n",
    "train_mape = mean_absolute_error(y_train, y_train_predict)\n",
    "test_mape = mean_absolute_error(y_test, y_test_predict)\n",
    "print('MAE training: %.3f, MAE testing: %.3f' % (\n",
    "      (train_mape), (test_mape)))"
   ]
  },
  {
   "cell_type": "code",
   "execution_count": 256,
   "metadata": {},
   "outputs": [
    {
     "data": {
      "image/png": "[encoded data removed]",
      "text/plain": [
       "<Figure size 576x720 with 1 Axes>"
      ]
     },
     "metadata": {
      "needs_background": "light"
     },
     "output_type": "display_data"
    }
   ],
   "source": [
    "plot_features_weights('LGBMRegressor',rf.feature_importances_, X_train.columns)"
   ]
  },
  {
   "cell_type": "code",
   "execution_count": null,
   "metadata": {},
   "outputs": [],
   "source": []
  },
  {
   "cell_type": "code",
   "execution_count": 49,
   "metadata": {},
   "outputs": [],
   "source": [
    "ans_df = pd.DataFrame(y_train)"
   ]
  },
  {
   "cell_type": "code",
   "execution_count": 50,
   "metadata": {},
   "outputs": [],
   "source": [
    "ans_df[\"rf_predict\"] = y_train_predict"
   ]
  },
  {
   "cell_type": "code",
   "execution_count": 67,
   "metadata": {},
   "outputs": [
    {
     "name": "stdout",
     "output_type": "stream",
     "text": [
      "MAE training: 4385.278, MAE testing: 5756.707\n"
     ]
    }
   ],
   "source": [
    "\n",
    "train_mape = mean_absolute_error(y_train, y_train_predict)\n",
    "test_mape = mean_absolute_error(y_test, y_test_predict)\n",
    "print('MAE training: %.3f, MAE testing: %.3f' % (\n",
    "      (train_mape), (test_mape)))"
   ]
  },
  {
   "cell_type": "code",
   "execution_count": 73,
   "metadata": {},
   "outputs": [
    {
     "name": "stdout",
     "output_type": "stream",
     "text": [
      "MAE training: 1040.631, MAE testing: 5756.707\n"
     ]
    }
   ],
   "source": [
    "y_train = ans_df[ans_df[\"RUL\"]<500][\"RUL\"]\n",
    "y_train_predict = ans_df[ans_df[\"RUL\"]<500][\"rf_predict\"]\n",
    "train_mape = mean_absolute_error(y_train, y_train_predict)\n",
    "test_mape = mean_absolute_error(y_test, y_test_predict)\n",
    "print('MAE training: %.3f, MAE testing: %.3f' % (\n",
    "      (train_mape), (test_mape)))"
   ]
  },
  {
   "cell_type": "code",
   "execution_count": 63,
   "metadata": {},
   "outputs": [
    {
     "name": "stdout",
     "output_type": "stream",
     "text": [
      "MAE training: 3904.573, MAE testing: 5756.707\n"
     ]
    }
   ],
   "source": [
    "y_train = ans_df[ans_df[\"RUL\"]<10000][\"RUL\"]\n",
    "y_train_predict = ans_df[ans_df[\"RUL\"]<10000][\"rf_predict\"]\n",
    "train_mape = mean_absolute_error(y_train, y_train_predict)\n",
    "test_mape = mean_absolute_error(y_test, y_test_predict)\n",
    "print('MAE training: %.3f, MAE testing: %.3f' % (\n",
    "      (train_mape), (test_mape)))"
   ]
  },
  {
   "cell_type": "code",
   "execution_count": 68,
   "metadata": {},
   "outputs": [
    {
     "name": "stdout",
     "output_type": "stream",
     "text": [
      "MAE training: 4883.032, MAE testing: 5756.707\n"
     ]
    }
   ],
   "source": [
    "y_train = ans_df[ans_df[\"RUL\"]>10000][\"RUL\"]\n",
    "y_train_predict = ans_df[ans_df[\"RUL\"]>10000][\"rf_predict\"]\n",
    "train_mape = mean_absolute_error(y_train, y_train_predict)\n",
    "test_mape = mean_absolute_error(y_test, y_test_predict)\n",
    "print('MAE training: %.3f, MAE testing: %.3f' % (\n",
    "      (train_mape), (test_mape)))"
   ]
  },
  {
   "cell_type": "code",
   "execution_count": 61,
   "metadata": {},
   "outputs": [
    {
     "data": {
      "text/html": [
       "<div>\n",
       "<style scoped>\n",
       "    .dataframe tbody tr th:only-of-type {\n",
       "        vertical-align: middle;\n",
       "    }\n",
       "\n",
       "    .dataframe tbody tr th {\n",
       "        vertical-align: top;\n",
       "    }\n",
       "\n",
       "    .dataframe thead th {\n",
       "        text-align: right;\n",
       "    }\n",
       "</style>\n",
       "<table border=\"1\" class=\"dataframe\">\n",
       "  <thead>\n",
       "    <tr style=\"text-align: right;\">\n",
       "      <th></th>\n",
       "      <th>RUL</th>\n",
       "      <th>rf_predict</th>\n",
       "    </tr>\n",
       "  </thead>\n",
       "  <tbody>\n",
       "    <tr>\n",
       "      <th>0</th>\n",
       "      <td>28020.099605</td>\n",
       "      <td>15356.027831</td>\n",
       "    </tr>\n",
       "    <tr>\n",
       "      <th>1</th>\n",
       "      <td>28020.099214</td>\n",
       "      <td>15176.099507</td>\n",
       "    </tr>\n",
       "    <tr>\n",
       "      <th>2</th>\n",
       "      <td>28020.098824</td>\n",
       "      <td>16848.654019</td>\n",
       "    </tr>\n",
       "    <tr>\n",
       "      <th>3</th>\n",
       "      <td>28020.098433</td>\n",
       "      <td>16848.654019</td>\n",
       "    </tr>\n",
       "    <tr>\n",
       "      <th>4</th>\n",
       "      <td>28020.098042</td>\n",
       "      <td>15657.801022</td>\n",
       "    </tr>\n",
       "    <tr>\n",
       "      <th>...</th>\n",
       "      <td>...</td>\n",
       "      <td>...</td>\n",
       "    </tr>\n",
       "    <tr>\n",
       "      <th>543227</th>\n",
       "      <td>28072.201560</td>\n",
       "      <td>7309.972206</td>\n",
       "    </tr>\n",
       "    <tr>\n",
       "      <th>543228</th>\n",
       "      <td>28072.201170</td>\n",
       "      <td>7266.249676</td>\n",
       "    </tr>\n",
       "    <tr>\n",
       "      <th>543229</th>\n",
       "      <td>28072.200780</td>\n",
       "      <td>6636.463772</td>\n",
       "    </tr>\n",
       "    <tr>\n",
       "      <th>543230</th>\n",
       "      <td>28072.200390</td>\n",
       "      <td>6423.953280</td>\n",
       "    </tr>\n",
       "    <tr>\n",
       "      <th>543231</th>\n",
       "      <td>28072.200000</td>\n",
       "      <td>6423.953280</td>\n",
       "    </tr>\n",
       "  </tbody>\n",
       "</table>\n",
       "<p>462078 rows × 2 columns</p>\n",
       "</div>"
      ],
      "text/plain": [
       "                 RUL    rf_predict\n",
       "0       28020.099605  15356.027831\n",
       "1       28020.099214  15176.099507\n",
       "2       28020.098824  16848.654019\n",
       "3       28020.098433  16848.654019\n",
       "4       28020.098042  15657.801022\n",
       "...              ...           ...\n",
       "543227  28072.201560   7309.972206\n",
       "543228  28072.201170   7266.249676\n",
       "543229  28072.200780   6636.463772\n",
       "543230  28072.200390   6423.953280\n",
       "543231  28072.200000   6423.953280\n",
       "\n",
       "[462078 rows x 2 columns]"
      ]
     },
     "execution_count": 61,
     "metadata": {},
     "output_type": "execute_result"
    }
   ],
   "source": [
    "ans_df[ans_df[\"RUL\"]>10000]"
   ]
  },
  {
   "cell_type": "code",
   "execution_count": 60,
   "metadata": {},
   "outputs": [
    {
     "data": {
      "text/plain": [
       "<matplotlib.collections.PathCollection at 0x28d87eb20b8>"
      ]
     },
     "execution_count": 60,
     "metadata": {},
     "output_type": "execute_result"
    },
    {
     "data": {
      "image/png": "[encoded data removed]",
      "text/plain": [
       "<Figure size 432x288 with 1 Axes>"
      ]
     },
     "metadata": {
      "needs_background": "light"
     },
     "output_type": "display_data"
    }
   ],
   "source": [
    "plt.scatter(ans_df.index,ans_df[\"RUL\"])"
   ]
  },
  {
   "cell_type": "code",
   "execution_count": 58,
   "metadata": {},
   "outputs": [
    {
     "data": {
      "image/png": "[encoded data removed]",
      "text/plain": [
       "<Figure size 576x720 with 1 Axes>"
      ]
     },
     "metadata": {
      "needs_background": "light"
     },
     "output_type": "display_data"
    }
   ],
   "source": [
    "plot_features_weights('Random Forest Regressor', rf.feature_importances_, X_train.columns)"
   ]
  },
  {
   "cell_type": "code",
   "execution_count": 46,
   "metadata": {},
   "outputs": [
    {
     "data": {
      "image/png": "[encoded data removed]",
      "text/plain": [
       "<Figure size 1440x720 with 1 Axes>"
      ]
     },
     "metadata": {
      "needs_background": "light"
     },
     "output_type": "display_data"
    }
   ],
   "source": [
    "plot_residual('Random Forest Regressor',y_train, y_train_predict, y_test, y_test_predict)"
   ]
  },
  {
   "cell_type": "code",
   "execution_count": 150,
   "metadata": {},
   "outputs": [
    {
     "data": {
      "text/plain": [
       "0         28020.099605\n",
       "1         28020.099214\n",
       "2         28020.098824\n",
       "3         28020.098433\n",
       "4         28020.098042\n",
       "              ...     \n",
       "940538        0.001560\n",
       "940539        0.001170\n",
       "940540        0.000780\n",
       "940541        0.000390\n",
       "940542        0.000000\n",
       "Name: RUL, Length: 940543, dtype: float64"
      ]
     },
     "execution_count": 150,
     "metadata": {},
     "output_type": "execute_result"
    }
   ],
   "source": [
    "y_train"
   ]
  },
  {
   "cell_type": "code",
   "execution_count": 149,
   "metadata": {},
   "outputs": [
    {
     "data": {
      "text/plain": [
       "array([15090.69924777, 14191.4132257 , 16939.07715585, ...,\n",
       "         183.10801738,   183.10801738,   183.10801738])"
      ]
     },
     "execution_count": 149,
     "metadata": {},
     "output_type": "execute_result"
    }
   ],
   "source": [
    "y_train_predict "
   ]
  },
  {
   "cell_type": "code",
   "execution_count": 36,
   "metadata": {},
   "outputs": [
    {
     "data": {
      "text/plain": [
       "False"
      ]
     },
     "execution_count": 36,
     "metadata": {},
     "output_type": "execute_result"
    }
   ],
   "source": [
    "X_train.isnull().values.any()"
   ]
  },
  {
   "cell_type": "code",
   "execution_count": 75,
   "metadata": {},
   "outputs": [
    {
     "data": {
      "text/plain": [
       "<matplotlib.axes._subplots.AxesSubplot at 0x259a354bcf8>"
      ]
     },
     "execution_count": 75,
     "metadata": {},
     "output_type": "execute_result"
    },
    {
     "data": {
      "image/png": "[encoded data removed]",
      "text/plain": [
       "<Figure size 792x648 with 2 Axes>"
      ]
     },
     "metadata": {
      "needs_background": "light"
     },
     "output_type": "display_data"
    }
   ],
   "source": [
    "# 計算相關係數\n",
    "corr = one_train.corr()\n",
    "mask = np.triu(np.ones_like(corr, dtype=np.bool))\n",
    "f, ax = plt.subplots(figsize=(11, 9))\n",
    "cmap = sns.diverging_palette(220, 10, as_cmap=True)\n",
    "sns.heatmap(corr, mask=mask, cmap=cmap, vmax=.3, center=0,\n",
    "            square=True, linewidths=.5, cbar_kws={\"shrink\": .5})"
   ]
  },
  {
   "cell_type": "code",
   "execution_count": 90,
   "metadata": {},
   "outputs": [
    {
     "data": {
      "text/plain": [
       "<matplotlib.axes._subplots.AxesSubplot at 0x259a2f02eb8>"
      ]
     },
     "execution_count": 90,
     "metadata": {},
     "output_type": "execute_result"
    },
    {
     "data": {
      "image/png": "[encoded data removed]",
      "text/plain": [
       "<Figure size 720x2880 with 2 Axes>"
      ]
     },
     "metadata": {
      "needs_background": "light"
     },
     "output_type": "display_data"
    }
   ],
   "source": [
    "plt.figure(figsize=(10,40))\n",
    "cmap = sns.diverging_palette(220, 10, as_cmap=True)\n",
    "sns.heatmap(pd.DataFrame(corr[\"RUL\"].sort_values(ascending=False)), cmap=cmap, vmax=.3, center=0,\n",
    "            square=True, linewidths=.5, cbar_kws={\"shrink\": .5})"
   ]
  },
  {
   "cell_type": "code",
   "execution_count": 93,
   "metadata": {},
   "outputs": [
    {
     "data": {
      "text/plain": [
       "<matplotlib.collections.PathCollection at 0x259a3062b00>"
      ]
     },
     "execution_count": 93,
     "metadata": {},
     "output_type": "execute_result"
    },
    {
     "data": {
      "image/png": "[encoded data removed]",
      "text/plain": [
       "<Figure size 432x288 with 1 Axes>"
      ]
     },
     "metadata": {
      "needs_background": "light"
     },
     "output_type": "display_data"
    }
   ],
   "source": [
    "plt.scatter(one_train[\"RUL\"],one_train[\"p2ph_vert\"])"
   ]
  },
  {
   "cell_type": "code",
   "execution_count": 94,
   "metadata": {},
   "outputs": [
    {
     "data": {
      "text/plain": [
       "<matplotlib.collections.PathCollection at 0x259a6ec5400>"
      ]
     },
     "execution_count": 94,
     "metadata": {},
     "output_type": "execute_result"
    },
    {
     "data": {
      "image/png": "[encoded data removed]",
      "text/plain": [
       "<Figure size 432x288 with 1 Axes>"
      ]
     },
     "metadata": {
      "needs_background": "light"
     },
     "output_type": "display_data"
    }
   ],
   "source": [
    "plt.scatter(one_train[\"RUL\"],one_train[\"av_sum\"])"
   ]
  }
 ],
 "metadata": {
  "kernelspec": {
   "display_name": "Python 3",
   "language": "python",
   "name": "python3"
  },
  "language_info": {
   "codemirror_mode": {
    "name": "ipython",
    "version": 3
   },
   "file_extension": ".py",
   "mimetype": "text/x-python",
   "name": "python",
   "nbconvert_exporter": "python",
   "pygments_lexer": "ipython3",
   "version": "3.6.10"
  }
 },
 "nbformat": 4,
 "nbformat_minor": 4
}
