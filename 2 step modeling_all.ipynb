{
 "cells": [
  {
   "cell_type": "code",
   "execution_count": 1,
   "metadata": {},
   "outputs": [],
   "source": [
    "import numpy as np"
   ]
  },
  {
   "cell_type": "code",
   "execution_count": 2,
   "metadata": {},
   "outputs": [],
   "source": [
    "import matplotlib.pyplot as plt"
   ]
  },
  {
   "cell_type": "code",
   "execution_count": 3,
   "metadata": {},
   "outputs": [],
   "source": [
    "%matplotlib inline\n",
    "import matplotlib.pyplot as plt\n",
    "import numpy as np\n",
    "import pandas as pd\n",
    "import seaborn as sns\n",
    "from sklearn.ensemble import RandomForestRegressor\n",
    "from sklearn.ensemble import  RandomForestClassifier\n",
    "from sklearn import metrics"
   ]
  },
  {
   "cell_type": "code",
   "execution_count": 4,
   "metadata": {},
   "outputs": [],
   "source": [
    "import numpy as np"
   ]
  },
  {
   "cell_type": "code",
   "execution_count": 5,
   "metadata": {},
   "outputs": [],
   "source": [
    "import pandas as pd\n",
    "import os\n",
    "import glob"
   ]
  },
  {
   "cell_type": "code",
   "execution_count": 14,
   "metadata": {},
   "outputs": [],
   "source": [
    "#one_train = pd.read_csv(\"one_train_combine.csv\")\n",
    "one_test = pd.read_csv(\"one_test_combine.csv\")"
   ]
  },
  {
   "cell_type": "code",
   "execution_count": 15,
   "metadata": {},
   "outputs": [],
   "source": [
    "#two_train = pd.read_csv(\"two_train_combine.csv\")\n",
    "two_test = pd.read_csv(\"two_test_combine.csv\")"
   ]
  },
  {
   "cell_type": "code",
   "execution_count": 16,
   "metadata": {},
   "outputs": [],
   "source": [
    "#three_train = pd.read_csv(\"three_train_combine.csv\")\n",
    "three_test = pd.read_csv(\"three_test_combine.csv\")"
   ]
  },
  {
   "cell_type": "code",
   "execution_count": 9,
   "metadata": {},
   "outputs": [
    {
     "data": {
      "text/html": [
       "<div>\n",
       "<style scoped>\n",
       "    .dataframe tbody tr th:only-of-type {\n",
       "        vertical-align: middle;\n",
       "    }\n",
       "\n",
       "    .dataframe tbody tr th {\n",
       "        vertical-align: top;\n",
       "    }\n",
       "\n",
       "    .dataframe thead th {\n",
       "        text-align: right;\n",
       "    }\n",
       "</style>\n",
       "<table border=\"1\" class=\"dataframe\">\n",
       "  <thead>\n",
       "    <tr style=\"text-align: right;\">\n",
       "      <th></th>\n",
       "      <th>Unnamed: 0_x</th>\n",
       "      <th>Horiz_acc</th>\n",
       "      <th>id_x</th>\n",
       "      <th>av_horiz</th>\n",
       "      <th>sd_horiz</th>\n",
       "      <th>peak_horiz</th>\n",
       "      <th>rms_horiz</th>\n",
       "      <th>skew_horiz</th>\n",
       "      <th>kurt_horiz</th>\n",
       "      <th>crest_horiz</th>\n",
       "      <th>...</th>\n",
       "      <th>peak_temp</th>\n",
       "      <th>rms_temp</th>\n",
       "      <th>skew_temp</th>\n",
       "      <th>kurt_temp</th>\n",
       "      <th>crest_temp</th>\n",
       "      <th>clear_temp</th>\n",
       "      <th>shape_temp</th>\n",
       "      <th>imp_temp</th>\n",
       "      <th>RUL_y</th>\n",
       "      <th>id</th>\n",
       "    </tr>\n",
       "  </thead>\n",
       "  <tbody>\n",
       "    <tr>\n",
       "      <th>0</th>\n",
       "      <td>28169.0</td>\n",
       "      <td>-0.687</td>\n",
       "      <td>1.0</td>\n",
       "      <td>0.199769</td>\n",
       "      <td>0.378617</td>\n",
       "      <td>0.917</td>\n",
       "      <td>0.421599</td>\n",
       "      <td>-0.509550</td>\n",
       "      <td>-0.252213</td>\n",
       "      <td>2.175055</td>\n",
       "      <td>...</td>\n",
       "      <td>70.303</td>\n",
       "      <td>70.168972</td>\n",
       "      <td>0.009265</td>\n",
       "      <td>-1.213437</td>\n",
       "      <td>1.00191</td>\n",
       "      <td>1.001911</td>\n",
       "      <td>1.000001</td>\n",
       "      <td>1.001911</td>\n",
       "      <td>14160.1</td>\n",
       "      <td>1.0</td>\n",
       "    </tr>\n",
       "    <tr>\n",
       "      <th>1</th>\n",
       "      <td>28179.0</td>\n",
       "      <td>0.617</td>\n",
       "      <td>1.0</td>\n",
       "      <td>0.209808</td>\n",
       "      <td>0.386307</td>\n",
       "      <td>0.917</td>\n",
       "      <td>0.433027</td>\n",
       "      <td>-0.512467</td>\n",
       "      <td>-0.362140</td>\n",
       "      <td>2.117648</td>\n",
       "      <td>...</td>\n",
       "      <td>70.303</td>\n",
       "      <td>70.168972</td>\n",
       "      <td>0.009265</td>\n",
       "      <td>-1.213437</td>\n",
       "      <td>1.00191</td>\n",
       "      <td>1.001911</td>\n",
       "      <td>1.000001</td>\n",
       "      <td>1.001911</td>\n",
       "      <td>14160.1</td>\n",
       "      <td>1.0</td>\n",
       "    </tr>\n",
       "    <tr>\n",
       "      <th>2</th>\n",
       "      <td>28189.0</td>\n",
       "      <td>0.103</td>\n",
       "      <td>1.0</td>\n",
       "      <td>0.178500</td>\n",
       "      <td>0.358700</td>\n",
       "      <td>0.727</td>\n",
       "      <td>0.394435</td>\n",
       "      <td>-0.688946</td>\n",
       "      <td>-0.358079</td>\n",
       "      <td>1.843143</td>\n",
       "      <td>...</td>\n",
       "      <td>70.303</td>\n",
       "      <td>70.168972</td>\n",
       "      <td>0.009265</td>\n",
       "      <td>-1.213437</td>\n",
       "      <td>1.00191</td>\n",
       "      <td>1.001911</td>\n",
       "      <td>1.000001</td>\n",
       "      <td>1.001911</td>\n",
       "      <td>14160.1</td>\n",
       "      <td>1.0</td>\n",
       "    </tr>\n",
       "    <tr>\n",
       "      <th>3</th>\n",
       "      <td>28199.0</td>\n",
       "      <td>0.036</td>\n",
       "      <td>1.0</td>\n",
       "      <td>0.189885</td>\n",
       "      <td>0.348786</td>\n",
       "      <td>0.727</td>\n",
       "      <td>0.391189</td>\n",
       "      <td>-0.772345</td>\n",
       "      <td>-0.057269</td>\n",
       "      <td>1.858437</td>\n",
       "      <td>...</td>\n",
       "      <td>70.303</td>\n",
       "      <td>70.168972</td>\n",
       "      <td>0.009265</td>\n",
       "      <td>-1.213437</td>\n",
       "      <td>1.00191</td>\n",
       "      <td>1.001911</td>\n",
       "      <td>1.000001</td>\n",
       "      <td>1.001911</td>\n",
       "      <td>14160.1</td>\n",
       "      <td>1.0</td>\n",
       "    </tr>\n",
       "    <tr>\n",
       "      <th>4</th>\n",
       "      <td>28209.0</td>\n",
       "      <td>-0.577</td>\n",
       "      <td>1.0</td>\n",
       "      <td>0.152615</td>\n",
       "      <td>0.376958</td>\n",
       "      <td>0.727</td>\n",
       "      <td>0.399905</td>\n",
       "      <td>-0.660933</td>\n",
       "      <td>-0.446055</td>\n",
       "      <td>1.817934</td>\n",
       "      <td>...</td>\n",
       "      <td>70.303</td>\n",
       "      <td>70.168972</td>\n",
       "      <td>0.009265</td>\n",
       "      <td>-1.213437</td>\n",
       "      <td>1.00191</td>\n",
       "      <td>1.001911</td>\n",
       "      <td>1.000001</td>\n",
       "      <td>1.001911</td>\n",
       "      <td>14160.1</td>\n",
       "      <td>1.0</td>\n",
       "    </tr>\n",
       "    <tr>\n",
       "      <th>...</th>\n",
       "      <td>...</td>\n",
       "      <td>...</td>\n",
       "      <td>...</td>\n",
       "      <td>...</td>\n",
       "      <td>...</td>\n",
       "      <td>...</td>\n",
       "      <td>...</td>\n",
       "      <td>...</td>\n",
       "      <td>...</td>\n",
       "      <td>...</td>\n",
       "      <td>...</td>\n",
       "      <td>...</td>\n",
       "      <td>...</td>\n",
       "      <td>...</td>\n",
       "      <td>...</td>\n",
       "      <td>...</td>\n",
       "      <td>...</td>\n",
       "      <td>...</td>\n",
       "      <td>...</td>\n",
       "      <td>...</td>\n",
       "      <td>...</td>\n",
       "    </tr>\n",
       "    <tr>\n",
       "      <th>2194170</th>\n",
       "      <td>5782999.0</td>\n",
       "      <td>1.251</td>\n",
       "      <td>1.0</td>\n",
       "      <td>0.438269</td>\n",
       "      <td>2.219883</td>\n",
       "      <td>8.607</td>\n",
       "      <td>2.220456</td>\n",
       "      <td>2.063591</td>\n",
       "      <td>5.276878</td>\n",
       "      <td>3.876231</td>\n",
       "      <td>...</td>\n",
       "      <td>100.253</td>\n",
       "      <td>100.232917</td>\n",
       "      <td>0.337115</td>\n",
       "      <td>-1.146364</td>\n",
       "      <td>1.00020</td>\n",
       "      <td>1.000200</td>\n",
       "      <td>1.000000</td>\n",
       "      <td>1.000200</td>\n",
       "      <td>0.0</td>\n",
       "      <td>4.0</td>\n",
       "    </tr>\n",
       "    <tr>\n",
       "      <th>2194171</th>\n",
       "      <td>5783009.0</td>\n",
       "      <td>-0.978</td>\n",
       "      <td>1.0</td>\n",
       "      <td>0.265846</td>\n",
       "      <td>2.144994</td>\n",
       "      <td>8.607</td>\n",
       "      <td>2.120073</td>\n",
       "      <td>2.410084</td>\n",
       "      <td>7.032378</td>\n",
       "      <td>4.059765</td>\n",
       "      <td>...</td>\n",
       "      <td>100.253</td>\n",
       "      <td>100.232917</td>\n",
       "      <td>0.337115</td>\n",
       "      <td>-1.146364</td>\n",
       "      <td>1.00020</td>\n",
       "      <td>1.000200</td>\n",
       "      <td>1.000000</td>\n",
       "      <td>1.000200</td>\n",
       "      <td>0.0</td>\n",
       "      <td>4.0</td>\n",
       "    </tr>\n",
       "    <tr>\n",
       "      <th>2194172</th>\n",
       "      <td>5783019.0</td>\n",
       "      <td>0.448</td>\n",
       "      <td>1.0</td>\n",
       "      <td>-0.047962</td>\n",
       "      <td>1.310312</td>\n",
       "      <td>3.293</td>\n",
       "      <td>1.285762</td>\n",
       "      <td>0.188332</td>\n",
       "      <td>0.545341</td>\n",
       "      <td>2.561128</td>\n",
       "      <td>...</td>\n",
       "      <td>100.253</td>\n",
       "      <td>100.232917</td>\n",
       "      <td>0.337115</td>\n",
       "      <td>-1.146364</td>\n",
       "      <td>1.00020</td>\n",
       "      <td>1.000200</td>\n",
       "      <td>1.000000</td>\n",
       "      <td>1.000200</td>\n",
       "      <td>0.0</td>\n",
       "      <td>4.0</td>\n",
       "    </tr>\n",
       "    <tr>\n",
       "      <th>2194173</th>\n",
       "      <td>5783029.0</td>\n",
       "      <td>0.285</td>\n",
       "      <td>1.0</td>\n",
       "      <td>-0.048385</td>\n",
       "      <td>1.310198</td>\n",
       "      <td>3.293</td>\n",
       "      <td>1.285666</td>\n",
       "      <td>0.189358</td>\n",
       "      <td>0.546782</td>\n",
       "      <td>2.561318</td>\n",
       "      <td>...</td>\n",
       "      <td>100.253</td>\n",
       "      <td>100.232917</td>\n",
       "      <td>0.337115</td>\n",
       "      <td>-1.146364</td>\n",
       "      <td>1.00020</td>\n",
       "      <td>1.000200</td>\n",
       "      <td>1.000000</td>\n",
       "      <td>1.000200</td>\n",
       "      <td>0.0</td>\n",
       "      <td>4.0</td>\n",
       "    </tr>\n",
       "    <tr>\n",
       "      <th>2194174</th>\n",
       "      <td>5783039.0</td>\n",
       "      <td>0.411</td>\n",
       "      <td>1.0</td>\n",
       "      <td>0.019231</td>\n",
       "      <td>1.285632</td>\n",
       "      <td>3.293</td>\n",
       "      <td>1.260813</td>\n",
       "      <td>0.075967</td>\n",
       "      <td>0.750504</td>\n",
       "      <td>2.611807</td>\n",
       "      <td>...</td>\n",
       "      <td>100.253</td>\n",
       "      <td>100.232917</td>\n",
       "      <td>0.337115</td>\n",
       "      <td>-1.146364</td>\n",
       "      <td>1.00020</td>\n",
       "      <td>1.000200</td>\n",
       "      <td>1.000000</td>\n",
       "      <td>1.000200</td>\n",
       "      <td>0.0</td>\n",
       "      <td>4.0</td>\n",
       "    </tr>\n",
       "  </tbody>\n",
       "</table>\n",
       "<p>2194175 rows × 156 columns</p>\n",
       "</div>"
      ],
      "text/plain": [
       "         Unnamed: 0_x  Horiz_acc  id_x  av_horiz  sd_horiz  peak_horiz  \\\n",
       "0             28169.0     -0.687   1.0  0.199769  0.378617       0.917   \n",
       "1             28179.0      0.617   1.0  0.209808  0.386307       0.917   \n",
       "2             28189.0      0.103   1.0  0.178500  0.358700       0.727   \n",
       "3             28199.0      0.036   1.0  0.189885  0.348786       0.727   \n",
       "4             28209.0     -0.577   1.0  0.152615  0.376958       0.727   \n",
       "...               ...        ...   ...       ...       ...         ...   \n",
       "2194170     5782999.0      1.251   1.0  0.438269  2.219883       8.607   \n",
       "2194171     5783009.0     -0.978   1.0  0.265846  2.144994       8.607   \n",
       "2194172     5783019.0      0.448   1.0 -0.047962  1.310312       3.293   \n",
       "2194173     5783029.0      0.285   1.0 -0.048385  1.310198       3.293   \n",
       "2194174     5783039.0      0.411   1.0  0.019231  1.285632       3.293   \n",
       "\n",
       "         rms_horiz  skew_horiz  kurt_horiz  crest_horiz  ...  peak_temp  \\\n",
       "0         0.421599   -0.509550   -0.252213     2.175055  ...     70.303   \n",
       "1         0.433027   -0.512467   -0.362140     2.117648  ...     70.303   \n",
       "2         0.394435   -0.688946   -0.358079     1.843143  ...     70.303   \n",
       "3         0.391189   -0.772345   -0.057269     1.858437  ...     70.303   \n",
       "4         0.399905   -0.660933   -0.446055     1.817934  ...     70.303   \n",
       "...            ...         ...         ...          ...  ...        ...   \n",
       "2194170   2.220456    2.063591    5.276878     3.876231  ...    100.253   \n",
       "2194171   2.120073    2.410084    7.032378     4.059765  ...    100.253   \n",
       "2194172   1.285762    0.188332    0.545341     2.561128  ...    100.253   \n",
       "2194173   1.285666    0.189358    0.546782     2.561318  ...    100.253   \n",
       "2194174   1.260813    0.075967    0.750504     2.611807  ...    100.253   \n",
       "\n",
       "           rms_temp  skew_temp  kurt_temp  crest_temp  clear_temp  shape_temp  \\\n",
       "0         70.168972   0.009265  -1.213437     1.00191    1.001911    1.000001   \n",
       "1         70.168972   0.009265  -1.213437     1.00191    1.001911    1.000001   \n",
       "2         70.168972   0.009265  -1.213437     1.00191    1.001911    1.000001   \n",
       "3         70.168972   0.009265  -1.213437     1.00191    1.001911    1.000001   \n",
       "4         70.168972   0.009265  -1.213437     1.00191    1.001911    1.000001   \n",
       "...             ...        ...        ...         ...         ...         ...   \n",
       "2194170  100.232917   0.337115  -1.146364     1.00020    1.000200    1.000000   \n",
       "2194171  100.232917   0.337115  -1.146364     1.00020    1.000200    1.000000   \n",
       "2194172  100.232917   0.337115  -1.146364     1.00020    1.000200    1.000000   \n",
       "2194173  100.232917   0.337115  -1.146364     1.00020    1.000200    1.000000   \n",
       "2194174  100.232917   0.337115  -1.146364     1.00020    1.000200    1.000000   \n",
       "\n",
       "         imp_temp    RUL_y   id  \n",
       "0        1.001911  14160.1  1.0  \n",
       "1        1.001911  14160.1  1.0  \n",
       "2        1.001911  14160.1  1.0  \n",
       "3        1.001911  14160.1  1.0  \n",
       "4        1.001911  14160.1  1.0  \n",
       "...           ...      ...  ...  \n",
       "2194170  1.000200      0.0  4.0  \n",
       "2194171  1.000200      0.0  4.0  \n",
       "2194172  1.000200      0.0  4.0  \n",
       "2194173  1.000200      0.0  4.0  \n",
       "2194174  1.000200      0.0  4.0  \n",
       "\n",
       "[2194175 rows x 156 columns]"
      ]
     },
     "execution_count": 9,
     "metadata": {},
     "output_type": "execute_result"
    }
   ],
   "source": [
    "one_train"
   ]
  },
  {
   "cell_type": "code",
   "execution_count": 17,
   "metadata": {},
   "outputs": [],
   "source": [
    "#one_train[\"setting\"] = 1\n",
    "one_test[\"setting\"] = 1\n",
    "#two_train[\"setting\"] = 2\n",
    "two_test[\"setting\"] = 2\n",
    "#three_train[\"setting\"] = 3\n",
    "three_test[\"setting\"] = 3"
   ]
  },
  {
   "cell_type": "code",
   "execution_count": 12,
   "metadata": {},
   "outputs": [],
   "source": [
    "all_train = pd.concat([one_train,two_train,three_train],axis=0)"
   ]
  },
  {
   "cell_type": "code",
   "execution_count": 14,
   "metadata": {},
   "outputs": [
    {
     "data": {
      "text/plain": [
       "(3086079, 157)"
      ]
     },
     "execution_count": 14,
     "metadata": {},
     "output_type": "execute_result"
    }
   ],
   "source": [
    "all_train.shape"
   ]
  },
  {
   "cell_type": "code",
   "execution_count": 18,
   "metadata": {},
   "outputs": [],
   "source": [
    "all_test = pd.concat([one_test,two_test,three_test],axis=0)"
   ]
  },
  {
   "cell_type": "code",
   "execution_count": 16,
   "metadata": {},
   "outputs": [
    {
     "data": {
      "text/plain": [
       "(1298942, 157)"
      ]
     },
     "execution_count": 16,
     "metadata": {},
     "output_type": "execute_result"
    }
   ],
   "source": [
    "all_test.shape"
   ]
  },
  {
   "cell_type": "code",
   "execution_count": 24,
   "metadata": {},
   "outputs": [
    {
     "name": "stdout",
     "output_type": "stream",
     "text": [
      "sum_acc\n",
      "av_sum\n",
      "sd_sum\n",
      "peak_sum\n",
      "rms_sum\n",
      "skew_sum\n",
      "kurt_sum\n",
      "crest_sum\n",
      "clear_sum\n",
      "shape_sum\n",
      "imp_sum\n",
      "p2ph_sum\n",
      "p2pf_sum\n",
      "f8_sum\n",
      "f16_sum\n",
      "f24_sum\n",
      "f32_sum\n",
      "f40_sum\n",
      "f48_sum\n",
      "f56_sum\n",
      "f64_sum\n",
      "f72_sum\n",
      "f80_sum\n",
      "f88_sum\n",
      "f96_sum\n",
      "f104_sum\n",
      "f112_sum\n",
      "f120_sum\n",
      "f128_sum\n",
      "f136_sum\n",
      "f144_sum\n",
      "f152_sum\n",
      "f160_sum\n",
      "f168_sum\n",
      "f176_sum\n",
      "f184_sum\n",
      "f192_sum\n",
      "f200_sum\n",
      "f208_sum\n",
      "f216_sum\n",
      "f224_sum\n",
      "f232_sum\n",
      "f240_sum\n",
      "f248_sum\n",
      "f256_sum\n"
     ]
    }
   ],
   "source": [
    "for i in all_train.columns:\n",
    "    if \"sum\" in i:\n",
    "        print(i)"
   ]
  },
  {
   "cell_type": "code",
   "execution_count": 160,
   "metadata": {},
   "outputs": [],
   "source": [
    "all_train = one_train"
   ]
  },
  {
   "cell_type": "code",
   "execution_count": 159,
   "metadata": {},
   "outputs": [
    {
     "data": {
      "image/png": "[encoded data removed]",
      "text/plain": [
       "<Figure size 432x288 with 1 Axes>"
      ]
     },
     "metadata": {
      "needs_background": "light"
     },
     "output_type": "display_data"
    }
   ],
   "source": [
    "plt.scatter(one_train['RUL_y'],one_train['Rtd sensor'],c=one_train['setting'])\n",
    "plt.gca().invert_xaxis()"
   ]
  },
  {
   "cell_type": "code",
   "execution_count": 167,
   "metadata": {},
   "outputs": [
    {
     "data": {
      "image/png": "[encoded data removed]",
      "text/plain": [
       "<Figure size 432x288 with 1 Axes>"
      ]
     },
     "metadata": {
      "needs_background": "light"
     },
     "output_type": "display_data"
    }
   ],
   "source": [
    "plt.scatter(all_test['RUL_y'],all_test['Rtd sensor'],c=all_test['setting'])\n",
    "plt.gca().invert_xaxis()"
   ]
  },
  {
   "cell_type": "code",
   "execution_count": 171,
   "metadata": {
    "scrolled": true
   },
   "outputs": [
    {
     "data": {
      "image/png": "[encoded data removed]",
      "text/plain": [
       "<Figure size 432x288 with 1 Axes>"
      ]
     },
     "metadata": {
      "needs_background": "light"
     },
     "output_type": "display_data"
    }
   ],
   "source": [
    "plt.scatter(all_train['RUL_y'],all_train['Horiz_acc'],c=all_train['setting'])\n",
    "plt.gca().invert_xaxis()"
   ]
  },
  {
   "cell_type": "code",
   "execution_count": 168,
   "metadata": {},
   "outputs": [
    {
     "data": {
      "image/png": "[encoded data removed]",
      "text/plain": [
       "<Figure size 432x288 with 1 Axes>"
      ]
     },
     "metadata": {
      "needs_background": "light"
     },
     "output_type": "display_data"
    }
   ],
   "source": [
    "plt.scatter(all_test['RUL_y'],all_test['Horiz_acc'],c=all_test['setting'])\n",
    "plt.gca().invert_xaxis()"
   ]
  },
  {
   "cell_type": "code",
   "execution_count": 169,
   "metadata": {},
   "outputs": [
    {
     "data": {
      "image/png": "[encoded data removed]",
      "text/plain": [
       "<Figure size 432x288 with 1 Axes>"
      ]
     },
     "metadata": {
      "needs_background": "light"
     },
     "output_type": "display_data"
    }
   ],
   "source": [
    "plt.scatter(all_test['RUL_y'],all_test['vert_accel'],c=all_test['setting'])\n",
    "plt.gca().invert_xaxis()"
   ]
  },
  {
   "cell_type": "code",
   "execution_count": 172,
   "metadata": {},
   "outputs": [
    {
     "data": {
      "image/png": "[encoded data removed]",
      "text/plain": [
       "<Figure size 432x288 with 1 Axes>"
      ]
     },
     "metadata": {
      "needs_background": "light"
     },
     "output_type": "display_data"
    }
   ],
   "source": [
    "plt.scatter(all_train['RUL_y'],all_train['vert_accel'],c=all_train['setting'])\n",
    "plt.gca().invert_xaxis()"
   ]
  },
  {
   "cell_type": "code",
   "execution_count": 170,
   "metadata": {},
   "outputs": [
    {
     "data": {
      "image/png": "[encoded data removed]",
      "text/plain": [
       "<Figure size 432x288 with 1 Axes>"
      ]
     },
     "metadata": {
      "needs_background": "light"
     },
     "output_type": "display_data"
    }
   ],
   "source": [
    "plt.scatter(all_test['RUL_y'],all_test['sum_acc'],c=all_test['setting'])\n",
    "plt.gca().invert_xaxis()"
   ]
  },
  {
   "cell_type": "code",
   "execution_count": 173,
   "metadata": {},
   "outputs": [
    {
     "data": {
      "image/png": "[encoded data removed]",
      "text/plain": [
       "<Figure size 432x288 with 1 Axes>"
      ]
     },
     "metadata": {
      "needs_background": "light"
     },
     "output_type": "display_data"
    }
   ],
   "source": [
    "plt.scatter(all_train['RUL_y'],all_train['sum_acc'],c=all_train['setting'])\n",
    "plt.gca().invert_xaxis()"
   ]
  },
  {
   "cell_type": "code",
   "execution_count": 178,
   "metadata": {},
   "outputs": [
    {
     "name": "stdout",
     "output_type": "stream",
     "text": [
      "p2pf_horiz\n",
      "p2pf_vert\n",
      "p2pf_sum\n",
      "f8\n",
      "f16\n",
      "f24\n",
      "f32\n",
      "f40\n",
      "f48\n",
      "f56\n",
      "f64\n",
      "f72\n",
      "f80\n",
      "f88\n",
      "f96\n",
      "f104\n",
      "f112\n",
      "f120\n",
      "f128\n",
      "f136\n",
      "f144\n",
      "f152\n",
      "f160\n",
      "f168\n",
      "f176\n",
      "f184\n",
      "f192\n",
      "f200\n",
      "f208\n",
      "f216\n",
      "f224\n",
      "f232\n",
      "f240\n",
      "f248\n",
      "f256\n",
      "f8_vert\n",
      "f16_vert\n",
      "f24_vert\n",
      "f32_vert\n",
      "f40_vert\n",
      "f48_vert\n",
      "f56_vert\n",
      "f64_vert\n",
      "f72_vert\n",
      "f80_vert\n",
      "f88_vert\n",
      "f96_vert\n",
      "f104_vert\n",
      "f112_vert\n",
      "f120_vert\n",
      "f128_vert\n",
      "f136_vert\n",
      "f144_vert\n",
      "f152_vert\n",
      "f160_vert\n",
      "f168_vert\n",
      "f176_vert\n",
      "f184_vert\n",
      "f192_vert\n",
      "f200_vert\n",
      "f208_vert\n",
      "f216_vert\n",
      "f224_vert\n",
      "f232_vert\n",
      "f240_vert\n",
      "f248_vert\n",
      "f256_vert\n",
      "f8_sum\n",
      "f16_sum\n",
      "f24_sum\n",
      "f32_sum\n",
      "f40_sum\n",
      "f48_sum\n",
      "f56_sum\n",
      "f64_sum\n",
      "f72_sum\n",
      "f80_sum\n",
      "f88_sum\n",
      "f96_sum\n",
      "f104_sum\n",
      "f112_sum\n",
      "f120_sum\n",
      "f128_sum\n",
      "f136_sum\n",
      "f144_sum\n",
      "f152_sum\n",
      "f160_sum\n",
      "f168_sum\n",
      "f176_sum\n",
      "f184_sum\n",
      "f192_sum\n",
      "f200_sum\n",
      "f208_sum\n",
      "f216_sum\n",
      "f224_sum\n",
      "f232_sum\n",
      "f240_sum\n",
      "f248_sum\n",
      "f256_sum\n"
     ]
    }
   ],
   "source": [
    "for i in all_train.columns:\n",
    "    if \"f\" in i:\n",
    "        print(i)"
   ]
  },
  {
   "cell_type": "code",
   "execution_count": 177,
   "metadata": {},
   "outputs": [
    {
     "data": {
      "text/plain": [
       "32.0"
      ]
     },
     "execution_count": 177,
     "metadata": {},
     "output_type": "execute_result"
    }
   ],
   "source": [
    "256/8"
   ]
  },
  {
   "cell_type": "code",
   "execution_count": 20,
   "metadata": {},
   "outputs": [],
   "source": [
    "def clean_dataset(df):\n",
    "    assert isinstance(df, pd.DataFrame), \"df needs to be a pd.DataFrame\"\n",
    "    df.dropna(inplace=True)\n",
    "    indices_to_keep = ~df.isin([np.nan, np.inf, -np.inf]).any(1)\n",
    "    return df[indices_to_keep].astype(np.float64)\n",
    "\n",
    "#one_train = clean_dataset(one_train)\n",
    "one_test = clean_dataset(one_test)\n",
    "#two_train = clean_dataset(two_train)\n",
    "two_test = clean_dataset(two_test)\n",
    "#three_train = clean_dataset(three_train)\n",
    "three_test = clean_dataset(three_test)"
   ]
  },
  {
   "cell_type": "code",
   "execution_count": 21,
   "metadata": {},
   "outputs": [],
   "source": [
    "#one_train = one_train.reset_index()\n",
    "one_test = one_test.reset_index()\n",
    "#two_train = two_train.reset_index()\n",
    "two_test = two_test.reset_index()\n",
    "#three_train = three_train.reset_index()\n",
    "three_test = three_test.reset_index()"
   ]
  },
  {
   "cell_type": "markdown",
   "metadata": {},
   "source": [
    "### step 1 classification"
   ]
  },
  {
   "cell_type": "code",
   "execution_count": 6,
   "metadata": {},
   "outputs": [],
   "source": [
    "imp_df1 = pd.read_csv(\"feature_selection_1.csv\")"
   ]
  },
  {
   "cell_type": "code",
   "execution_count": 7,
   "metadata": {},
   "outputs": [],
   "source": [
    "imp_df2 = pd.read_csv(\"feature_selection_2.csv\")"
   ]
  },
  {
   "cell_type": "code",
   "execution_count": 8,
   "metadata": {},
   "outputs": [],
   "source": [
    "imp_df3 = pd.read_csv(\"feature_selection_3.csv\")"
   ]
  },
  {
   "cell_type": "code",
   "execution_count": 200,
   "metadata": {},
   "outputs": [
    {
     "data": {
      "text/plain": [
       "(52,)"
      ]
     },
     "execution_count": 200,
     "metadata": {},
     "output_type": "execute_result"
    }
   ],
   "source": [
    "imp_df1[imp_df1[\"Total\"]>=2][\"Feature\"].values.shape"
   ]
  },
  {
   "cell_type": "code",
   "execution_count": 202,
   "metadata": {},
   "outputs": [
    {
     "data": {
      "text/plain": [
       "(54,)"
      ]
     },
     "execution_count": 202,
     "metadata": {},
     "output_type": "execute_result"
    }
   ],
   "source": [
    "imp_df2[imp_df2[\"Total\"]>=2][\"Feature\"].values.shape"
   ]
  },
  {
   "cell_type": "code",
   "execution_count": 203,
   "metadata": {},
   "outputs": [
    {
     "data": {
      "text/plain": [
       "(46,)"
      ]
     },
     "execution_count": 203,
     "metadata": {},
     "output_type": "execute_result"
    }
   ],
   "source": [
    "imp_df3[imp_df3[\"Total\"]>=2][\"Feature\"].values.shape"
   ]
  },
  {
   "cell_type": "code",
   "execution_count": 9,
   "metadata": {},
   "outputs": [],
   "source": [
    "col_list = list(imp_df1[imp_df1[\"Total\"]>=2][\"Feature\"].values)\n",
    "\n",
    "for i in list(imp_df2[imp_df2[\"Total\"]>=2][\"Feature\"].values):\n",
    "    if i not in col_list:\n",
    "        col_list.append(i)\n",
    "for i in list(imp_df3[imp_df3[\"Total\"]>=2][\"Feature\"].values):\n",
    "    if i not in col_list:\n",
    "        col_list.append(i)"
   ]
  },
  {
   "cell_type": "code",
   "execution_count": 10,
   "metadata": {},
   "outputs": [
    {
     "data": {
      "text/plain": [
       "85"
      ]
     },
     "execution_count": 10,
     "metadata": {},
     "output_type": "execute_result"
    }
   ],
   "source": [
    "len(col_list)"
   ]
  },
  {
   "cell_type": "code",
   "execution_count": 39,
   "metadata": {},
   "outputs": [],
   "source": [
    "def two_time_group(one_train):\n",
    "    time_group_list = []\n",
    "    for i in range(1,int(one_train[\"id\"].max())+1,1):\n",
    "        one_id = one_train[one_train[\"id\"]==i][[\"id\",\"RUL_x\"]]\n",
    "        one_id = one_id.reset_index()\n",
    "        one_id.loc[one_id[\"RUL_x\"]>one_id.loc[0,\"RUL_x\"]/2,\"time_group\"] = 0\n",
    "        one_id.loc[one_id[\"RUL_x\"]<one_id.loc[0,\"RUL_x\"]/2,\"time_group\"] = 1\n",
    "        time_group_list = time_group_list + list(one_id[\"time_group\"].values)\n",
    "    one_train[\"time_group\"] = time_group_list\n",
    "    return one_train"
   ]
  },
  {
   "cell_type": "code",
   "execution_count": 26,
   "metadata": {},
   "outputs": [],
   "source": [
    "def three_time_group(one_train):\n",
    "    time_group_list = []\n",
    "    for i in range(1,int(one_train[\"id\"].max())+1,1):\n",
    "        one_id = one_train[one_train[\"id\"]==i][[\"id\",\"RUL_x\"]]\n",
    "        one_id = one_id.reset_index()\n",
    "        one_id.loc[one_id[\"RUL_x\"]>one_id.loc[0,\"RUL_x\"]/2,\"time_group\"] = 0\n",
    "        one_id.loc[(one_id[\"RUL_x\"]<one_id.loc[0,\"RUL_x\"]/2) & (one_id[\"RUL_x\"]>one_id.loc[0,\"RUL_x\"]*0.25),\"time_group\"] = 1\n",
    "        one_id.loc[one_id[\"RUL_x\"]<one_id.loc[0,\"RUL_x\"]*0.25,\"time_group\"] = 2\n",
    "        time_group_list = time_group_list + list(one_id[\"time_group\"].values)\n",
    "    one_train[\"time_group\"] = time_group_list\n",
    "    return one_train"
   ]
  },
  {
   "cell_type": "code",
   "execution_count": 41,
   "metadata": {},
   "outputs": [],
   "source": [
    "def four_time_group(one_train):\n",
    "    time_group_list = []\n",
    "    for i in range(1,int(one_train[\"id\"].max())+1,1):\n",
    "        one_id = one_train[one_train[\"id\"]==i][[\"id\",\"RUL_x\"]]\n",
    "        one_id = one_id.reset_index()\n",
    "        one_id.loc[one_id[\"RUL_x\"]>one_id.loc[0,\"RUL_x\"]/2,\"time_group\"] = 0\n",
    "        one_id.loc[(one_id[\"RUL_x\"]<one_id.loc[0,\"RUL_x\"]*0.5) & (one_id[\"RUL_x\"]>one_id.loc[0,\"RUL_x\"]*0.25),\"time_group\"] = 1\n",
    "        one_id.loc[(one_id[\"RUL_x\"]<one_id.loc[0,\"RUL_x\"]*0.25) & (one_id[\"RUL_x\"]>one_id.loc[0,\"RUL_x\"]*0.125),\"time_group\"] = 2 \n",
    "        one_id.loc[one_id[\"RUL_x\"]<one_id.loc[0,\"RUL_x\"]*0.125,\"time_group\"] = 3\n",
    "        time_group_list = time_group_list + list(one_id[\"time_group\"].values)\n",
    "    one_train[\"time_group\"] = time_group_list\n",
    "    return one_train"
   ]
  },
  {
   "cell_type": "code",
   "execution_count": 268,
   "metadata": {},
   "outputs": [],
   "source": [
    "max_list = []\n",
    "for i in range(1,int(one_train[\"id\"].max())+1,1):\n",
    "    one_id = one_train[one_train[\"id\"]==i][[\"id\",\"RUL_x\"]]\n",
    "    one_id = one_id.reset_index()\n",
    "    max_list.append(one_id.loc[0,\"RUL_x\"])"
   ]
  },
  {
   "cell_type": "code",
   "execution_count": 270,
   "metadata": {},
   "outputs": [
    {
     "name": "stdout",
     "output_type": "stream",
     "text": [
      "7440.0996099999975\n",
      "23100.09922\n"
     ]
    }
   ],
   "source": [
    "time_list = []\n",
    "for i in range(1,int(one_train[\"id\"].max())+1,1):\n",
    "    one_id = one_train[one_train[\"id\"]==i][[\"id\",\"RUL_x\"]]\n",
    "    one_id = one_id.reset_index()\n",
    "    print(one_id.loc[0,\"RUL_x\"])"
   ]
  },
  {
   "cell_type": "code",
   "execution_count": 271,
   "metadata": {},
   "outputs": [
    {
     "name": "stdout",
     "output_type": "stream",
     "text": [
      "9000.09961\n"
     ]
    }
   ],
   "source": [
    "time_list = []\n",
    "for i in range(1,int(one_test[\"id\"].max())+1,1):\n",
    "    one_id = one_test[one_test[\"id\"]==i][[\"id\",\"RUL_x\"]]\n",
    "    one_id = one_id.reset_index()\n",
    "    print(one_id.loc[0,\"RUL_x\"])"
   ]
  },
  {
   "cell_type": "code",
   "execution_count": 23,
   "metadata": {},
   "outputs": [],
   "source": [
    "def add_time(one_train):\n",
    "    time_list = []\n",
    "    for i in range(1,int(one_train[\"id\"].max())+1,1):\n",
    "        one_id = one_train[one_train[\"id\"]==i][[\"id\",\"RUL_x\"]]\n",
    "        one_id = one_id.reset_index()\n",
    "        one_id[\"time\"] = one_id.loc[0,\"RUL_x\"] - one_id[\"RUL_x\"] \n",
    "        time_list = time_list + list(one_id[\"time\"].values)\n",
    "    one_train[\"time\"] = time_list\n",
    "    return one_train"
   ]
  },
  {
   "cell_type": "code",
   "execution_count": 24,
   "metadata": {},
   "outputs": [],
   "source": [
    "#one_train = add_time(one_train)\n",
    "one_test = add_time(one_test)\n",
    "#two_train = add_time(two_train)\n",
    "two_test = add_time(two_test)\n",
    "#three_train = add_time(three_train)\n",
    "three_test = add_time(three_test)"
   ]
  },
  {
   "cell_type": "code",
   "execution_count": 27,
   "metadata": {},
   "outputs": [],
   "source": [
    "#one_train = three_time_group(one_train)\n",
    "one_test = three_time_group(one_test)\n",
    "#two_train = three_time_group(two_train)\n",
    "two_test = three_time_group(two_test)\n",
    "#three_train = three_time_group(three_train)\n",
    "three_test = three_time_group(three_test)"
   ]
  },
  {
   "cell_type": "code",
   "execution_count": 28,
   "metadata": {},
   "outputs": [],
   "source": [
    "#all_train = pd.concat([one_train,two_train,three_train], axis=0)\n",
    "all_test = pd.concat([one_test,two_test,three_test], axis=0)"
   ]
  },
  {
   "cell_type": "code",
   "execution_count": 285,
   "metadata": {},
   "outputs": [],
   "source": [
    "# def clean_dataset(df):\n",
    "#     assert isinstance(df, pd.DataFrame), \"df needs to be a pd.DataFrame\"\n",
    "#     df.dropna(inplace=True)\n",
    "#     indices_to_keep = ~df.isin([np.nan, np.inf, -np.inf]).any(1)\n",
    "#     return df[indices_to_keep].astype(np.float64)\n",
    "\n",
    "# one_train = clean_dataset(one_train)\n",
    "# one_test = clean_dataset(one_test)"
   ]
  },
  {
   "cell_type": "code",
   "execution_count": 30,
   "metadata": {},
   "outputs": [],
   "source": [
    "#one_train = all_train\n",
    "one_test = all_test"
   ]
  },
  {
   "cell_type": "code",
   "execution_count": 29,
   "metadata": {},
   "outputs": [],
   "source": [
    "del two_test\n",
    "#del two_train\n",
    "#del three_train\n",
    "del three_test"
   ]
  },
  {
   "cell_type": "code",
   "execution_count": 49,
   "metadata": {},
   "outputs": [
    {
     "data": {
      "text/plain": [
       "(3086074, 160)"
      ]
     },
     "execution_count": 49,
     "metadata": {},
     "output_type": "execute_result"
    }
   ],
   "source": [
    "one_train.shape"
   ]
  },
  {
   "cell_type": "code",
   "execution_count": 34,
   "metadata": {},
   "outputs": [
    {
     "data": {
      "text/plain": [
       "(1298941, 160)"
      ]
     },
     "execution_count": 34,
     "metadata": {},
     "output_type": "execute_result"
    }
   ],
   "source": [
    "one_test.shape"
   ]
  },
  {
   "cell_type": "code",
   "execution_count": 31,
   "metadata": {},
   "outputs": [],
   "source": [
    "#one_train = clean_dataset(one_train)\n",
    "one_test = clean_dataset(one_test)"
   ]
  },
  {
   "cell_type": "code",
   "execution_count": 65,
   "metadata": {},
   "outputs": [],
   "source": [
    "del X_train\n",
    "del X_test\n",
    "del y_train\n",
    "del y_test"
   ]
  },
  {
   "cell_type": "code",
   "execution_count": 32,
   "metadata": {},
   "outputs": [],
   "source": [
    "one_test.to_csv(\"all_test.csv\",index=None)"
   ]
  },
  {
   "cell_type": "code",
   "execution_count": 11,
   "metadata": {},
   "outputs": [],
   "source": [
    "one_train = pd.read_csv(\"all_train.csv\")\n",
    "one_test = pd.read_csv(\"all_test.csv\")"
   ]
  },
  {
   "cell_type": "code",
   "execution_count": 13,
   "metadata": {},
   "outputs": [
    {
     "data": {
      "text/plain": [
       "(3086073, 160)"
      ]
     },
     "execution_count": 13,
     "metadata": {},
     "output_type": "execute_result"
    }
   ],
   "source": [
    "one_train.shape"
   ]
  },
  {
   "cell_type": "code",
   "execution_count": 33,
   "metadata": {},
   "outputs": [
    {
     "data": {
      "text/plain": [
       "(1298941, 160)"
      ]
     },
     "execution_count": 33,
     "metadata": {},
     "output_type": "execute_result"
    }
   ],
   "source": [
    "one_test.shape"
   ]
  },
  {
   "cell_type": "code",
   "execution_count": 36,
   "metadata": {},
   "outputs": [],
   "source": [
    "X_train = one_train.drop([\"index\",\"Unnamed: 0_x\",\"Unnamed: 0_y\",\"RUL_x\",\"RUL_y\",\"round_RUL\",\"id\",\"id_x\",\"id.1\",\"id.2\",\"time_group\"], axis=1)\n",
    "X_test = one_test.drop([\"index\",\"Unnamed: 0_x\",\"Unnamed: 0_y\",\"RUL_x\",\"RUL_y\",\"round_RUL\",\"id\",\"id_x\",\"id.1\",\"id.2\",\"time_group\"], axis=1)\n",
    "y_train = one_train[\"time_group\"]\n",
    "y_test = one_test[\"time_group\"]"
   ]
  },
  {
   "cell_type": "code",
   "execution_count": 37,
   "metadata": {},
   "outputs": [],
   "source": [
    "X_train = X_train[col_list]\n",
    "X_test = X_test[col_list]"
   ]
  },
  {
   "cell_type": "code",
   "execution_count": 38,
   "metadata": {},
   "outputs": [
    {
     "data": {
      "text/html": [
       "<div>\n",
       "<style scoped>\n",
       "    .dataframe tbody tr th:only-of-type {\n",
       "        vertical-align: middle;\n",
       "    }\n",
       "\n",
       "    .dataframe tbody tr th {\n",
       "        vertical-align: top;\n",
       "    }\n",
       "\n",
       "    .dataframe thead th {\n",
       "        text-align: right;\n",
       "    }\n",
       "</style>\n",
       "<table border=\"1\" class=\"dataframe\">\n",
       "  <thead>\n",
       "    <tr style=\"text-align: right;\">\n",
       "      <th></th>\n",
       "      <th>rms_vert</th>\n",
       "      <th>rms_horiz</th>\n",
       "      <th>av_sum</th>\n",
       "      <th>Rtd sensor</th>\n",
       "      <th>sd_vert</th>\n",
       "      <th>sd_temp</th>\n",
       "      <th>sd_horiz</th>\n",
       "      <th>rms_sum</th>\n",
       "      <th>peak_temp</th>\n",
       "      <th>f96_vert</th>\n",
       "      <th>...</th>\n",
       "      <th>f136</th>\n",
       "      <th>f112_sum</th>\n",
       "      <th>crest_temp</th>\n",
       "      <th>clear_sum</th>\n",
       "      <th>f8_sum</th>\n",
       "      <th>f64</th>\n",
       "      <th>f48_vert</th>\n",
       "      <th>f144</th>\n",
       "      <th>f128</th>\n",
       "      <th>av_horiz</th>\n",
       "    </tr>\n",
       "  </thead>\n",
       "  <tbody>\n",
       "    <tr>\n",
       "      <th>0</th>\n",
       "      <td>0.553983</td>\n",
       "      <td>0.421599</td>\n",
       "      <td>0.592083</td>\n",
       "      <td>70.303</td>\n",
       "      <td>0.441150</td>\n",
       "      <td>0.084747</td>\n",
       "      <td>0.378617</td>\n",
       "      <td>0.696163</td>\n",
       "      <td>70.303</td>\n",
       "      <td>0.027519</td>\n",
       "      <td>...</td>\n",
       "      <td>0.268143</td>\n",
       "      <td>0.031487</td>\n",
       "      <td>1.001910</td>\n",
       "      <td>3.343002</td>\n",
       "      <td>0.053592</td>\n",
       "      <td>0.112223</td>\n",
       "      <td>0.022340</td>\n",
       "      <td>0.282121</td>\n",
       "      <td>0.295683</td>\n",
       "      <td>0.199769</td>\n",
       "    </tr>\n",
       "    <tr>\n",
       "      <th>1</th>\n",
       "      <td>0.557548</td>\n",
       "      <td>0.433027</td>\n",
       "      <td>0.604905</td>\n",
       "      <td>70.303</td>\n",
       "      <td>0.438211</td>\n",
       "      <td>0.084747</td>\n",
       "      <td>0.386307</td>\n",
       "      <td>0.705955</td>\n",
       "      <td>70.303</td>\n",
       "      <td>0.046039</td>\n",
       "      <td>...</td>\n",
       "      <td>0.295269</td>\n",
       "      <td>0.017468</td>\n",
       "      <td>1.001910</td>\n",
       "      <td>3.264017</td>\n",
       "      <td>0.054172</td>\n",
       "      <td>0.107327</td>\n",
       "      <td>0.012640</td>\n",
       "      <td>0.268502</td>\n",
       "      <td>0.302572</td>\n",
       "      <td>0.209808</td>\n",
       "    </tr>\n",
       "    <tr>\n",
       "      <th>2</th>\n",
       "      <td>0.532109</td>\n",
       "      <td>0.394435</td>\n",
       "      <td>0.560820</td>\n",
       "      <td>70.303</td>\n",
       "      <td>0.431235</td>\n",
       "      <td>0.084747</td>\n",
       "      <td>0.358700</td>\n",
       "      <td>0.662359</td>\n",
       "      <td>70.303</td>\n",
       "      <td>0.058361</td>\n",
       "      <td>...</td>\n",
       "      <td>0.243999</td>\n",
       "      <td>0.014488</td>\n",
       "      <td>1.001910</td>\n",
       "      <td>3.549208</td>\n",
       "      <td>0.054732</td>\n",
       "      <td>0.092783</td>\n",
       "      <td>0.022467</td>\n",
       "      <td>0.178855</td>\n",
       "      <td>0.256079</td>\n",
       "      <td>0.178500</td>\n",
       "    </tr>\n",
       "    <tr>\n",
       "      <th>3</th>\n",
       "      <td>0.530817</td>\n",
       "      <td>0.391189</td>\n",
       "      <td>0.554830</td>\n",
       "      <td>70.303</td>\n",
       "      <td>0.431489</td>\n",
       "      <td>0.084747</td>\n",
       "      <td>0.348786</td>\n",
       "      <td>0.659390</td>\n",
       "      <td>70.303</td>\n",
       "      <td>0.070119</td>\n",
       "      <td>...</td>\n",
       "      <td>0.161670</td>\n",
       "      <td>0.015573</td>\n",
       "      <td>1.001910</td>\n",
       "      <td>3.602062</td>\n",
       "      <td>0.055274</td>\n",
       "      <td>0.069603</td>\n",
       "      <td>0.037993</td>\n",
       "      <td>0.110349</td>\n",
       "      <td>0.174808</td>\n",
       "      <td>0.189885</td>\n",
       "    </tr>\n",
       "    <tr>\n",
       "      <th>4</th>\n",
       "      <td>0.498792</td>\n",
       "      <td>0.399905</td>\n",
       "      <td>0.538379</td>\n",
       "      <td>70.303</td>\n",
       "      <td>0.418762</td>\n",
       "      <td>0.084747</td>\n",
       "      <td>0.376958</td>\n",
       "      <td>0.639310</td>\n",
       "      <td>70.303</td>\n",
       "      <td>0.088614</td>\n",
       "      <td>...</td>\n",
       "      <td>0.098855</td>\n",
       "      <td>0.022703</td>\n",
       "      <td>1.001910</td>\n",
       "      <td>3.698492</td>\n",
       "      <td>0.055801</td>\n",
       "      <td>0.040360</td>\n",
       "      <td>0.052224</td>\n",
       "      <td>0.085503</td>\n",
       "      <td>0.090288</td>\n",
       "      <td>0.152615</td>\n",
       "    </tr>\n",
       "    <tr>\n",
       "      <th>...</th>\n",
       "      <td>...</td>\n",
       "      <td>...</td>\n",
       "      <td>...</td>\n",
       "      <td>...</td>\n",
       "      <td>...</td>\n",
       "      <td>...</td>\n",
       "      <td>...</td>\n",
       "      <td>...</td>\n",
       "      <td>...</td>\n",
       "      <td>...</td>\n",
       "      <td>...</td>\n",
       "      <td>...</td>\n",
       "      <td>...</td>\n",
       "      <td>...</td>\n",
       "      <td>...</td>\n",
       "      <td>...</td>\n",
       "      <td>...</td>\n",
       "      <td>...</td>\n",
       "      <td>...</td>\n",
       "      <td>...</td>\n",
       "      <td>...</td>\n",
       "    </tr>\n",
       "    <tr>\n",
       "      <th>3086068</th>\n",
       "      <td>2.114661</td>\n",
       "      <td>1.087474</td>\n",
       "      <td>2.095154</td>\n",
       "      <td>117.851</td>\n",
       "      <td>2.155015</td>\n",
       "      <td>0.025609</td>\n",
       "      <td>1.105386</td>\n",
       "      <td>2.377896</td>\n",
       "      <td>117.851</td>\n",
       "      <td>0.000000</td>\n",
       "      <td>...</td>\n",
       "      <td>0.000000</td>\n",
       "      <td>0.000000</td>\n",
       "      <td>1.000395</td>\n",
       "      <td>2.411242</td>\n",
       "      <td>0.000000</td>\n",
       "      <td>0.000000</td>\n",
       "      <td>0.000000</td>\n",
       "      <td>0.000000</td>\n",
       "      <td>0.000000</td>\n",
       "      <td>0.087846</td>\n",
       "    </tr>\n",
       "    <tr>\n",
       "      <th>3086069</th>\n",
       "      <td>2.096931</td>\n",
       "      <td>1.087638</td>\n",
       "      <td>2.060982</td>\n",
       "      <td>117.851</td>\n",
       "      <td>2.135294</td>\n",
       "      <td>0.025609</td>\n",
       "      <td>1.105708</td>\n",
       "      <td>2.362218</td>\n",
       "      <td>117.851</td>\n",
       "      <td>0.000000</td>\n",
       "      <td>...</td>\n",
       "      <td>0.000000</td>\n",
       "      <td>0.000000</td>\n",
       "      <td>1.000395</td>\n",
       "      <td>2.470123</td>\n",
       "      <td>0.000000</td>\n",
       "      <td>0.000000</td>\n",
       "      <td>0.000000</td>\n",
       "      <td>0.000000</td>\n",
       "      <td>0.000000</td>\n",
       "      <td>0.085962</td>\n",
       "    </tr>\n",
       "    <tr>\n",
       "      <th>3086070</th>\n",
       "      <td>2.101884</td>\n",
       "      <td>1.052081</td>\n",
       "      <td>2.046765</td>\n",
       "      <td>117.851</td>\n",
       "      <td>2.139804</td>\n",
       "      <td>0.025609</td>\n",
       "      <td>1.051802</td>\n",
       "      <td>2.350487</td>\n",
       "      <td>117.851</td>\n",
       "      <td>0.000000</td>\n",
       "      <td>...</td>\n",
       "      <td>0.000000</td>\n",
       "      <td>0.000000</td>\n",
       "      <td>1.000395</td>\n",
       "      <td>2.488485</td>\n",
       "      <td>0.000000</td>\n",
       "      <td>0.000000</td>\n",
       "      <td>0.000000</td>\n",
       "      <td>0.000000</td>\n",
       "      <td>0.000000</td>\n",
       "      <td>0.207692</td>\n",
       "    </tr>\n",
       "    <tr>\n",
       "      <th>3086071</th>\n",
       "      <td>2.088480</td>\n",
       "      <td>1.062986</td>\n",
       "      <td>2.035136</td>\n",
       "      <td>117.851</td>\n",
       "      <td>2.123843</td>\n",
       "      <td>0.025609</td>\n",
       "      <td>1.043148</td>\n",
       "      <td>2.343435</td>\n",
       "      <td>117.851</td>\n",
       "      <td>0.000000</td>\n",
       "      <td>...</td>\n",
       "      <td>0.000000</td>\n",
       "      <td>0.000000</td>\n",
       "      <td>1.000395</td>\n",
       "      <td>2.506240</td>\n",
       "      <td>0.000000</td>\n",
       "      <td>0.000000</td>\n",
       "      <td>0.000000</td>\n",
       "      <td>0.000000</td>\n",
       "      <td>0.000000</td>\n",
       "      <td>0.289192</td>\n",
       "    </tr>\n",
       "    <tr>\n",
       "      <th>3086072</th>\n",
       "      <td>2.074328</td>\n",
       "      <td>1.074653</td>\n",
       "      <td>2.029966</td>\n",
       "      <td>117.851</td>\n",
       "      <td>2.110053</td>\n",
       "      <td>0.025609</td>\n",
       "      <td>1.044318</td>\n",
       "      <td>2.336176</td>\n",
       "      <td>117.851</td>\n",
       "      <td>0.000000</td>\n",
       "      <td>...</td>\n",
       "      <td>0.000000</td>\n",
       "      <td>0.000000</td>\n",
       "      <td>1.000395</td>\n",
       "      <td>2.511464</td>\n",
       "      <td>0.000000</td>\n",
       "      <td>0.000000</td>\n",
       "      <td>0.000000</td>\n",
       "      <td>0.000000</td>\n",
       "      <td>0.000000</td>\n",
       "      <td>0.325923</td>\n",
       "    </tr>\n",
       "  </tbody>\n",
       "</table>\n",
       "<p>3086073 rows × 85 columns</p>\n",
       "</div>"
      ],
      "text/plain": [
       "         rms_vert  rms_horiz    av_sum  Rtd sensor   sd_vert   sd_temp  \\\n",
       "0        0.553983   0.421599  0.592083      70.303  0.441150  0.084747   \n",
       "1        0.557548   0.433027  0.604905      70.303  0.438211  0.084747   \n",
       "2        0.532109   0.394435  0.560820      70.303  0.431235  0.084747   \n",
       "3        0.530817   0.391189  0.554830      70.303  0.431489  0.084747   \n",
       "4        0.498792   0.399905  0.538379      70.303  0.418762  0.084747   \n",
       "...           ...        ...       ...         ...       ...       ...   \n",
       "3086068  2.114661   1.087474  2.095154     117.851  2.155015  0.025609   \n",
       "3086069  2.096931   1.087638  2.060982     117.851  2.135294  0.025609   \n",
       "3086070  2.101884   1.052081  2.046765     117.851  2.139804  0.025609   \n",
       "3086071  2.088480   1.062986  2.035136     117.851  2.123843  0.025609   \n",
       "3086072  2.074328   1.074653  2.029966     117.851  2.110053  0.025609   \n",
       "\n",
       "         sd_horiz   rms_sum  peak_temp  f96_vert  ...      f136  f112_sum  \\\n",
       "0        0.378617  0.696163     70.303  0.027519  ...  0.268143  0.031487   \n",
       "1        0.386307  0.705955     70.303  0.046039  ...  0.295269  0.017468   \n",
       "2        0.358700  0.662359     70.303  0.058361  ...  0.243999  0.014488   \n",
       "3        0.348786  0.659390     70.303  0.070119  ...  0.161670  0.015573   \n",
       "4        0.376958  0.639310     70.303  0.088614  ...  0.098855  0.022703   \n",
       "...           ...       ...        ...       ...  ...       ...       ...   \n",
       "3086068  1.105386  2.377896    117.851  0.000000  ...  0.000000  0.000000   \n",
       "3086069  1.105708  2.362218    117.851  0.000000  ...  0.000000  0.000000   \n",
       "3086070  1.051802  2.350487    117.851  0.000000  ...  0.000000  0.000000   \n",
       "3086071  1.043148  2.343435    117.851  0.000000  ...  0.000000  0.000000   \n",
       "3086072  1.044318  2.336176    117.851  0.000000  ...  0.000000  0.000000   \n",
       "\n",
       "         crest_temp  clear_sum    f8_sum       f64  f48_vert      f144  \\\n",
       "0          1.001910   3.343002  0.053592  0.112223  0.022340  0.282121   \n",
       "1          1.001910   3.264017  0.054172  0.107327  0.012640  0.268502   \n",
       "2          1.001910   3.549208  0.054732  0.092783  0.022467  0.178855   \n",
       "3          1.001910   3.602062  0.055274  0.069603  0.037993  0.110349   \n",
       "4          1.001910   3.698492  0.055801  0.040360  0.052224  0.085503   \n",
       "...             ...        ...       ...       ...       ...       ...   \n",
       "3086068    1.000395   2.411242  0.000000  0.000000  0.000000  0.000000   \n",
       "3086069    1.000395   2.470123  0.000000  0.000000  0.000000  0.000000   \n",
       "3086070    1.000395   2.488485  0.000000  0.000000  0.000000  0.000000   \n",
       "3086071    1.000395   2.506240  0.000000  0.000000  0.000000  0.000000   \n",
       "3086072    1.000395   2.511464  0.000000  0.000000  0.000000  0.000000   \n",
       "\n",
       "             f128  av_horiz  \n",
       "0        0.295683  0.199769  \n",
       "1        0.302572  0.209808  \n",
       "2        0.256079  0.178500  \n",
       "3        0.174808  0.189885  \n",
       "4        0.090288  0.152615  \n",
       "...           ...       ...  \n",
       "3086068  0.000000  0.087846  \n",
       "3086069  0.000000  0.085962  \n",
       "3086070  0.000000  0.207692  \n",
       "3086071  0.000000  0.289192  \n",
       "3086072  0.000000  0.325923  \n",
       "\n",
       "[3086073 rows x 85 columns]"
      ]
     },
     "execution_count": 38,
     "metadata": {},
     "output_type": "execute_result"
    }
   ],
   "source": [
    "X_train"
   ]
  },
  {
   "cell_type": "code",
   "execution_count": 39,
   "metadata": {},
   "outputs": [],
   "source": [
    "from sklearn.ensemble import RandomForestRegressor\n",
    "from sklearn.ensemble import RandomForestClassifier"
   ]
  },
  {
   "cell_type": "code",
   "execution_count": 40,
   "metadata": {},
   "outputs": [],
   "source": [
    "from sklearn.metrics import mean_squared_error"
   ]
  },
  {
   "cell_type": "code",
   "execution_count": 41,
   "metadata": {},
   "outputs": [],
   "source": [
    "def plot_features_weights(model, weights, feature_names):\n",
    "    \n",
    "\n",
    "    (px, py) = (8, 10) if len(weights) > 30 else (8, 5)\n",
    "    W = pd.DataFrame({'Weights':weights}, feature_names)\n",
    "    W_df = W.sort_values(by='Weights', ascending=True)\n",
    "    W_df.tail(10).plot(kind='barh', color='r', figsize=(px,py))\n",
    "    plt.xlabel(model)\n",
    "    plt.gca().legend_ = None"
   ]
  },
  {
   "cell_type": "code",
   "execution_count": 42,
   "metadata": {},
   "outputs": [],
   "source": [
    "def plot_residual(model, y_train, y_train_pred, y_test, y_test_pred):\n",
    "    plt.figure(figsize=(20,10))\n",
    "    plt.scatter(y_train_pred, y_train_pred - y_train, c='blue', marker='o', label='Training data')\n",
    "    plt.scatter(y_test_pred, y_test_pred - y_test, c='lightgreen', marker='s', label='Test data')\n",
    "    plt.xlabel('Predicted Values')\n",
    "    plt.ylabel('Residuals')\n",
    "    plt.legend(loc='upper left')\n",
    "    plt.hlines(y=0, xmin=-50, xmax=y_train.max()+50, color='red', lw=2)\n",
    "    plt.title(model + ' Residuals')\n",
    "    plt.show()"
   ]
  },
  {
   "cell_type": "code",
   "execution_count": 43,
   "metadata": {},
   "outputs": [],
   "source": [
    "from sklearn.metrics import accuracy_score\n",
    "from sklearn.metrics import f1_score"
   ]
  },
  {
   "cell_type": "code",
   "execution_count": 44,
   "metadata": {},
   "outputs": [],
   "source": [
    "from lightgbm import LGBMClassifier"
   ]
  },
  {
   "cell_type": "code",
   "execution_count": 45,
   "metadata": {},
   "outputs": [
    {
     "data": {
      "text/plain": [
       "LGBMClassifier(boosting_type='gbdt', class_weight=None, colsample_bytree=1.0,\n",
       "               importance_type='split', learning_rate=0.1, max_depth=-1,\n",
       "               min_child_samples=20, min_child_weight=0.001, min_split_gain=0.0,\n",
       "               n_estimators=20, n_jobs=-1, num_leaves=31, objective=None,\n",
       "               random_state=None, reg_alpha=5, reg_lambda=0.0, silent=True,\n",
       "               subsample=1.0, subsample_for_bin=200000, subsample_freq=0)"
      ]
     },
     "execution_count": 45,
     "metadata": {},
     "output_type": "execute_result"
    }
   ],
   "source": [
    "rf = LGBMClassifier(n_estimators=20,reg_alpha=5)\n",
    "rf.fit(X_train, y_train)"
   ]
  },
  {
   "cell_type": "code",
   "execution_count": 46,
   "metadata": {},
   "outputs": [
    {
     "name": "stdout",
     "output_type": "stream",
     "text": [
      "accuracy training: 0.749, accuracy testing: 0.654\n",
      "F1 training: 0.741, F1 testing: 0.656\n"
     ]
    }
   ],
   "source": [
    "y_test_predict = rf.predict(X_test)\n",
    "y_train_predict = rf.predict(X_train)\n",
    "\n",
    "train_score = accuracy_score(y_train, y_train_predict)\n",
    "test_score = accuracy_score(y_test, y_test_predict)\n",
    "train_f1 = f1_score(y_train, y_train_predict,average=\"weighted\")\n",
    "test_f1 = f1_score(y_test, y_test_predict,average=\"weighted\")\n",
    "print('accuracy training: %.3f, accuracy testing: %.3f' % (\n",
    "      (train_score), (test_score)))\n",
    "print('F1 training: %.3f, F1 testing: %.3f' % (\n",
    "      (train_f1), (test_f1)))"
   ]
  },
  {
   "cell_type": "code",
   "execution_count": 213,
   "metadata": {},
   "outputs": [
    {
     "name": "stdout",
     "output_type": "stream",
     "text": [
      "p2pf_horiz\n",
      "p2pf_vert\n",
      "p2pf_sum\n",
      "f8\n",
      "f16\n",
      "f24\n",
      "f32\n",
      "f40\n",
      "f48\n",
      "f56\n",
      "f64\n",
      "f72\n",
      "f80\n",
      "f88\n",
      "f96\n",
      "f104\n",
      "f112\n",
      "f120\n",
      "f128\n",
      "f136\n",
      "f144\n",
      "f152\n",
      "f160\n",
      "f168\n",
      "f176\n",
      "f184\n",
      "f192\n",
      "f200\n",
      "f208\n",
      "f216\n",
      "f224\n",
      "f232\n",
      "f240\n",
      "f248\n",
      "f256\n",
      "f8_vert\n",
      "f16_vert\n",
      "f24_vert\n",
      "f32_vert\n",
      "f40_vert\n",
      "f48_vert\n",
      "f56_vert\n",
      "f64_vert\n",
      "f72_vert\n",
      "f80_vert\n",
      "f88_vert\n",
      "f96_vert\n",
      "f104_vert\n",
      "f112_vert\n",
      "f120_vert\n",
      "f128_vert\n",
      "f136_vert\n",
      "f144_vert\n",
      "f152_vert\n",
      "f160_vert\n",
      "f168_vert\n",
      "f176_vert\n",
      "f184_vert\n",
      "f192_vert\n",
      "f200_vert\n",
      "f208_vert\n",
      "f216_vert\n",
      "f224_vert\n",
      "f232_vert\n",
      "f240_vert\n",
      "f248_vert\n",
      "f256_vert\n",
      "f8_sum\n",
      "f16_sum\n",
      "f24_sum\n",
      "f32_sum\n",
      "f40_sum\n",
      "f48_sum\n",
      "f56_sum\n",
      "f64_sum\n",
      "f72_sum\n",
      "f80_sum\n",
      "f88_sum\n",
      "f96_sum\n",
      "f104_sum\n",
      "f112_sum\n",
      "f120_sum\n",
      "f128_sum\n",
      "f136_sum\n",
      "f144_sum\n",
      "f152_sum\n",
      "f160_sum\n",
      "f168_sum\n",
      "f176_sum\n",
      "f184_sum\n",
      "f192_sum\n",
      "f200_sum\n",
      "f208_sum\n",
      "f216_sum\n",
      "f224_sum\n",
      "f232_sum\n",
      "f240_sum\n",
      "f248_sum\n",
      "f256_sum\n"
     ]
    }
   ],
   "source": [
    "for i in one_train.columns:\n",
    "    if \"f\" in i :\n",
    "        print(i)"
   ]
  },
  {
   "cell_type": "code",
   "execution_count": 47,
   "metadata": {},
   "outputs": [
    {
     "data": {
      "image/png": "[encoded data removed]",
      "text/plain": [
       "<Figure size 576x720 with 1 Axes>"
      ]
     },
     "metadata": {
      "needs_background": "light"
     },
     "output_type": "display_data"
    }
   ],
   "source": [
    "plot_features_weights('Random forest',rf.feature_importances_, X_train.columns)"
   ]
  },
  {
   "cell_type": "code",
   "execution_count": 209,
   "metadata": {},
   "outputs": [
    {
     "data": {
      "text/plain": [
       "1.0    2194175\n",
       "2.0     782330\n",
       "3.0     109568\n",
       "Name: setting, dtype: int64"
      ]
     },
     "execution_count": 209,
     "metadata": {},
     "output_type": "execute_result"
    }
   ],
   "source": [
    "ans_train[\"setting\"].value_counts()"
   ]
  },
  {
   "cell_type": "code",
   "execution_count": 211,
   "metadata": {},
   "outputs": [
    {
     "data": {
      "text/plain": [
       "1.0    936447\n",
       "2.0    230656\n",
       "3.0    131838\n",
       "Name: setting, dtype: int64"
      ]
     },
     "execution_count": 211,
     "metadata": {},
     "output_type": "execute_result"
    }
   ],
   "source": [
    "ans_test[\"setting\"].value_counts()"
   ]
  },
  {
   "cell_type": "code",
   "execution_count": 48,
   "metadata": {},
   "outputs": [],
   "source": [
    "ans_train = pd.DataFrame(y_train.values,columns=[\"real group\"])\n",
    "ans_train[\"pre_group(no time)\"] = y_train_predict\n",
    "ans_train[\"real_rul\"] = one_train[\"RUL_x\"]"
   ]
  },
  {
   "cell_type": "code",
   "execution_count": 51,
   "metadata": {},
   "outputs": [
    {
     "data": {
      "text/html": [
       "<div>\n",
       "<style scoped>\n",
       "    .dataframe tbody tr th:only-of-type {\n",
       "        vertical-align: middle;\n",
       "    }\n",
       "\n",
       "    .dataframe tbody tr th {\n",
       "        vertical-align: top;\n",
       "    }\n",
       "\n",
       "    .dataframe thead th {\n",
       "        text-align: right;\n",
       "    }\n",
       "</style>\n",
       "<table border=\"1\" class=\"dataframe\">\n",
       "  <thead>\n",
       "    <tr style=\"text-align: right;\">\n",
       "      <th></th>\n",
       "      <th>real group</th>\n",
       "      <th>pre_group(no time)</th>\n",
       "    </tr>\n",
       "  </thead>\n",
       "  <tbody>\n",
       "    <tr>\n",
       "      <th>0</th>\n",
       "      <td>0.0</td>\n",
       "      <td>0.0</td>\n",
       "    </tr>\n",
       "    <tr>\n",
       "      <th>1</th>\n",
       "      <td>0.0</td>\n",
       "      <td>0.0</td>\n",
       "    </tr>\n",
       "    <tr>\n",
       "      <th>2</th>\n",
       "      <td>0.0</td>\n",
       "      <td>0.0</td>\n",
       "    </tr>\n",
       "    <tr>\n",
       "      <th>3</th>\n",
       "      <td>0.0</td>\n",
       "      <td>0.0</td>\n",
       "    </tr>\n",
       "    <tr>\n",
       "      <th>4</th>\n",
       "      <td>0.0</td>\n",
       "      <td>0.0</td>\n",
       "    </tr>\n",
       "    <tr>\n",
       "      <th>...</th>\n",
       "      <td>...</td>\n",
       "      <td>...</td>\n",
       "    </tr>\n",
       "    <tr>\n",
       "      <th>1298936</th>\n",
       "      <td>2.0</td>\n",
       "      <td>2.0</td>\n",
       "    </tr>\n",
       "    <tr>\n",
       "      <th>1298937</th>\n",
       "      <td>2.0</td>\n",
       "      <td>2.0</td>\n",
       "    </tr>\n",
       "    <tr>\n",
       "      <th>1298938</th>\n",
       "      <td>2.0</td>\n",
       "      <td>2.0</td>\n",
       "    </tr>\n",
       "    <tr>\n",
       "      <th>1298939</th>\n",
       "      <td>2.0</td>\n",
       "      <td>2.0</td>\n",
       "    </tr>\n",
       "    <tr>\n",
       "      <th>1298940</th>\n",
       "      <td>2.0</td>\n",
       "      <td>2.0</td>\n",
       "    </tr>\n",
       "  </tbody>\n",
       "</table>\n",
       "<p>1298941 rows × 2 columns</p>\n",
       "</div>"
      ],
      "text/plain": [
       "         real group  pre_group(no time)\n",
       "0               0.0                 0.0\n",
       "1               0.0                 0.0\n",
       "2               0.0                 0.0\n",
       "3               0.0                 0.0\n",
       "4               0.0                 0.0\n",
       "...             ...                 ...\n",
       "1298936         2.0                 2.0\n",
       "1298937         2.0                 2.0\n",
       "1298938         2.0                 2.0\n",
       "1298939         2.0                 2.0\n",
       "1298940         2.0                 2.0\n",
       "\n",
       "[1298941 rows x 2 columns]"
      ]
     },
     "execution_count": 51,
     "metadata": {},
     "output_type": "execute_result"
    }
   ],
   "source": [
    "ans_test"
   ]
  },
  {
   "cell_type": "code",
   "execution_count": 210,
   "metadata": {},
   "outputs": [
    {
     "data": {
      "text/html": [
       "<div>\n",
       "<style scoped>\n",
       "    .dataframe tbody tr th:only-of-type {\n",
       "        vertical-align: middle;\n",
       "    }\n",
       "\n",
       "    .dataframe tbody tr th {\n",
       "        vertical-align: top;\n",
       "    }\n",
       "\n",
       "    .dataframe thead th {\n",
       "        text-align: right;\n",
       "    }\n",
       "</style>\n",
       "<table border=\"1\" class=\"dataframe\">\n",
       "  <thead>\n",
       "    <tr style=\"text-align: right;\">\n",
       "      <th></th>\n",
       "      <th>Unnamed: 0</th>\n",
       "      <th>Feature</th>\n",
       "      <th>Pearson</th>\n",
       "      <th>RFE</th>\n",
       "      <th>Regression</th>\n",
       "      <th>Random Forest</th>\n",
       "      <th>LightGBM</th>\n",
       "      <th>Total</th>\n",
       "    </tr>\n",
       "  </thead>\n",
       "  <tbody>\n",
       "    <tr>\n",
       "      <th>0</th>\n",
       "      <td>1</td>\n",
       "      <td>peak_temp</td>\n",
       "      <td>True</td>\n",
       "      <td>True</td>\n",
       "      <td>True</td>\n",
       "      <td>True</td>\n",
       "      <td>True</td>\n",
       "      <td>5</td>\n",
       "    </tr>\n",
       "    <tr>\n",
       "      <th>1</th>\n",
       "      <td>2</td>\n",
       "      <td>av_sum</td>\n",
       "      <td>True</td>\n",
       "      <td>True</td>\n",
       "      <td>True</td>\n",
       "      <td>True</td>\n",
       "      <td>True</td>\n",
       "      <td>5</td>\n",
       "    </tr>\n",
       "    <tr>\n",
       "      <th>2</th>\n",
       "      <td>3</td>\n",
       "      <td>Rtd sensor</td>\n",
       "      <td>True</td>\n",
       "      <td>True</td>\n",
       "      <td>True</td>\n",
       "      <td>True</td>\n",
       "      <td>True</td>\n",
       "      <td>5</td>\n",
       "    </tr>\n",
       "    <tr>\n",
       "      <th>3</th>\n",
       "      <td>4</td>\n",
       "      <td>sd_vert</td>\n",
       "      <td>True</td>\n",
       "      <td>True</td>\n",
       "      <td>True</td>\n",
       "      <td>False</td>\n",
       "      <td>True</td>\n",
       "      <td>4</td>\n",
       "    </tr>\n",
       "    <tr>\n",
       "      <th>4</th>\n",
       "      <td>5</td>\n",
       "      <td>sd_temp</td>\n",
       "      <td>True</td>\n",
       "      <td>True</td>\n",
       "      <td>True</td>\n",
       "      <td>False</td>\n",
       "      <td>True</td>\n",
       "      <td>4</td>\n",
       "    </tr>\n",
       "    <tr>\n",
       "      <th>5</th>\n",
       "      <td>6</td>\n",
       "      <td>sd_sum</td>\n",
       "      <td>True</td>\n",
       "      <td>True</td>\n",
       "      <td>True</td>\n",
       "      <td>False</td>\n",
       "      <td>True</td>\n",
       "      <td>4</td>\n",
       "    </tr>\n",
       "    <tr>\n",
       "      <th>6</th>\n",
       "      <td>7</td>\n",
       "      <td>sd_horiz</td>\n",
       "      <td>True</td>\n",
       "      <td>True</td>\n",
       "      <td>True</td>\n",
       "      <td>False</td>\n",
       "      <td>True</td>\n",
       "      <td>4</td>\n",
       "    </tr>\n",
       "    <tr>\n",
       "      <th>7</th>\n",
       "      <td>8</td>\n",
       "      <td>rms_sum</td>\n",
       "      <td>True</td>\n",
       "      <td>True</td>\n",
       "      <td>True</td>\n",
       "      <td>False</td>\n",
       "      <td>True</td>\n",
       "      <td>4</td>\n",
       "    </tr>\n",
       "    <tr>\n",
       "      <th>8</th>\n",
       "      <td>9</td>\n",
       "      <td>rms_horiz</td>\n",
       "      <td>True</td>\n",
       "      <td>True</td>\n",
       "      <td>True</td>\n",
       "      <td>False</td>\n",
       "      <td>True</td>\n",
       "      <td>4</td>\n",
       "    </tr>\n",
       "    <tr>\n",
       "      <th>9</th>\n",
       "      <td>10</td>\n",
       "      <td>peak_sum</td>\n",
       "      <td>True</td>\n",
       "      <td>True</td>\n",
       "      <td>True</td>\n",
       "      <td>False</td>\n",
       "      <td>True</td>\n",
       "      <td>4</td>\n",
       "    </tr>\n",
       "    <tr>\n",
       "      <th>10</th>\n",
       "      <td>11</td>\n",
       "      <td>f8</td>\n",
       "      <td>True</td>\n",
       "      <td>True</td>\n",
       "      <td>True</td>\n",
       "      <td>False</td>\n",
       "      <td>True</td>\n",
       "      <td>4</td>\n",
       "    </tr>\n",
       "    <tr>\n",
       "      <th>11</th>\n",
       "      <td>12</td>\n",
       "      <td>f16_vert</td>\n",
       "      <td>True</td>\n",
       "      <td>True</td>\n",
       "      <td>True</td>\n",
       "      <td>False</td>\n",
       "      <td>True</td>\n",
       "      <td>4</td>\n",
       "    </tr>\n",
       "    <tr>\n",
       "      <th>12</th>\n",
       "      <td>13</td>\n",
       "      <td>av_temp</td>\n",
       "      <td>True</td>\n",
       "      <td>True</td>\n",
       "      <td>False</td>\n",
       "      <td>True</td>\n",
       "      <td>True</td>\n",
       "      <td>4</td>\n",
       "    </tr>\n",
       "    <tr>\n",
       "      <th>13</th>\n",
       "      <td>14</td>\n",
       "      <td>skew_temp</td>\n",
       "      <td>False</td>\n",
       "      <td>True</td>\n",
       "      <td>True</td>\n",
       "      <td>False</td>\n",
       "      <td>True</td>\n",
       "      <td>3</td>\n",
       "    </tr>\n",
       "    <tr>\n",
       "      <th>14</th>\n",
       "      <td>15</td>\n",
       "      <td>rms_vert</td>\n",
       "      <td>True</td>\n",
       "      <td>True</td>\n",
       "      <td>True</td>\n",
       "      <td>False</td>\n",
       "      <td>False</td>\n",
       "      <td>3</td>\n",
       "    </tr>\n",
       "    <tr>\n",
       "      <th>15</th>\n",
       "      <td>16</td>\n",
       "      <td>rms_temp</td>\n",
       "      <td>True</td>\n",
       "      <td>True</td>\n",
       "      <td>False</td>\n",
       "      <td>True</td>\n",
       "      <td>False</td>\n",
       "      <td>3</td>\n",
       "    </tr>\n",
       "    <tr>\n",
       "      <th>16</th>\n",
       "      <td>17</td>\n",
       "      <td>kurt_temp</td>\n",
       "      <td>False</td>\n",
       "      <td>True</td>\n",
       "      <td>True</td>\n",
       "      <td>False</td>\n",
       "      <td>True</td>\n",
       "      <td>3</td>\n",
       "    </tr>\n",
       "    <tr>\n",
       "      <th>17</th>\n",
       "      <td>18</td>\n",
       "      <td>f8_vert</td>\n",
       "      <td>True</td>\n",
       "      <td>True</td>\n",
       "      <td>True</td>\n",
       "      <td>False</td>\n",
       "      <td>False</td>\n",
       "      <td>3</td>\n",
       "    </tr>\n",
       "    <tr>\n",
       "      <th>18</th>\n",
       "      <td>19</td>\n",
       "      <td>f40_vert</td>\n",
       "      <td>True</td>\n",
       "      <td>True</td>\n",
       "      <td>True</td>\n",
       "      <td>False</td>\n",
       "      <td>False</td>\n",
       "      <td>3</td>\n",
       "    </tr>\n",
       "    <tr>\n",
       "      <th>19</th>\n",
       "      <td>20</td>\n",
       "      <td>f40_sum</td>\n",
       "      <td>True</td>\n",
       "      <td>True</td>\n",
       "      <td>True</td>\n",
       "      <td>False</td>\n",
       "      <td>False</td>\n",
       "      <td>3</td>\n",
       "    </tr>\n",
       "    <tr>\n",
       "      <th>20</th>\n",
       "      <td>21</td>\n",
       "      <td>f32</td>\n",
       "      <td>True</td>\n",
       "      <td>True</td>\n",
       "      <td>True</td>\n",
       "      <td>False</td>\n",
       "      <td>False</td>\n",
       "      <td>3</td>\n",
       "    </tr>\n",
       "    <tr>\n",
       "      <th>21</th>\n",
       "      <td>22</td>\n",
       "      <td>f24</td>\n",
       "      <td>True</td>\n",
       "      <td>True</td>\n",
       "      <td>True</td>\n",
       "      <td>False</td>\n",
       "      <td>False</td>\n",
       "      <td>3</td>\n",
       "    </tr>\n",
       "    <tr>\n",
       "      <th>22</th>\n",
       "      <td>23</td>\n",
       "      <td>f16</td>\n",
       "      <td>True</td>\n",
       "      <td>True</td>\n",
       "      <td>True</td>\n",
       "      <td>False</td>\n",
       "      <td>False</td>\n",
       "      <td>3</td>\n",
       "    </tr>\n",
       "    <tr>\n",
       "      <th>23</th>\n",
       "      <td>24</td>\n",
       "      <td>clear_temp</td>\n",
       "      <td>True</td>\n",
       "      <td>True</td>\n",
       "      <td>False</td>\n",
       "      <td>False</td>\n",
       "      <td>True</td>\n",
       "      <td>3</td>\n",
       "    </tr>\n",
       "    <tr>\n",
       "      <th>24</th>\n",
       "      <td>25</td>\n",
       "      <td>peak_vert</td>\n",
       "      <td>True</td>\n",
       "      <td>False</td>\n",
       "      <td>False</td>\n",
       "      <td>False</td>\n",
       "      <td>True</td>\n",
       "      <td>2</td>\n",
       "    </tr>\n",
       "    <tr>\n",
       "      <th>25</th>\n",
       "      <td>26</td>\n",
       "      <td>imp_temp</td>\n",
       "      <td>True</td>\n",
       "      <td>False</td>\n",
       "      <td>False</td>\n",
       "      <td>False</td>\n",
       "      <td>True</td>\n",
       "      <td>2</td>\n",
       "    </tr>\n",
       "    <tr>\n",
       "      <th>26</th>\n",
       "      <td>27</td>\n",
       "      <td>f96_vert</td>\n",
       "      <td>False</td>\n",
       "      <td>True</td>\n",
       "      <td>True</td>\n",
       "      <td>False</td>\n",
       "      <td>False</td>\n",
       "      <td>2</td>\n",
       "    </tr>\n",
       "    <tr>\n",
       "      <th>27</th>\n",
       "      <td>28</td>\n",
       "      <td>f96_sum</td>\n",
       "      <td>False</td>\n",
       "      <td>True</td>\n",
       "      <td>True</td>\n",
       "      <td>False</td>\n",
       "      <td>False</td>\n",
       "      <td>2</td>\n",
       "    </tr>\n",
       "    <tr>\n",
       "      <th>28</th>\n",
       "      <td>29</td>\n",
       "      <td>f8_sum</td>\n",
       "      <td>True</td>\n",
       "      <td>True</td>\n",
       "      <td>False</td>\n",
       "      <td>False</td>\n",
       "      <td>False</td>\n",
       "      <td>2</td>\n",
       "    </tr>\n",
       "    <tr>\n",
       "      <th>29</th>\n",
       "      <td>30</td>\n",
       "      <td>f88_vert</td>\n",
       "      <td>False</td>\n",
       "      <td>True</td>\n",
       "      <td>True</td>\n",
       "      <td>False</td>\n",
       "      <td>False</td>\n",
       "      <td>2</td>\n",
       "    </tr>\n",
       "    <tr>\n",
       "      <th>30</th>\n",
       "      <td>31</td>\n",
       "      <td>f88_sum</td>\n",
       "      <td>False</td>\n",
       "      <td>True</td>\n",
       "      <td>True</td>\n",
       "      <td>False</td>\n",
       "      <td>False</td>\n",
       "      <td>2</td>\n",
       "    </tr>\n",
       "    <tr>\n",
       "      <th>31</th>\n",
       "      <td>32</td>\n",
       "      <td>f88</td>\n",
       "      <td>False</td>\n",
       "      <td>True</td>\n",
       "      <td>True</td>\n",
       "      <td>False</td>\n",
       "      <td>False</td>\n",
       "      <td>2</td>\n",
       "    </tr>\n",
       "    <tr>\n",
       "      <th>32</th>\n",
       "      <td>33</td>\n",
       "      <td>f80_vert</td>\n",
       "      <td>False</td>\n",
       "      <td>True</td>\n",
       "      <td>True</td>\n",
       "      <td>False</td>\n",
       "      <td>False</td>\n",
       "      <td>2</td>\n",
       "    </tr>\n",
       "    <tr>\n",
       "      <th>33</th>\n",
       "      <td>34</td>\n",
       "      <td>f80</td>\n",
       "      <td>False</td>\n",
       "      <td>True</td>\n",
       "      <td>True</td>\n",
       "      <td>False</td>\n",
       "      <td>False</td>\n",
       "      <td>2</td>\n",
       "    </tr>\n",
       "    <tr>\n",
       "      <th>34</th>\n",
       "      <td>35</td>\n",
       "      <td>f64</td>\n",
       "      <td>False</td>\n",
       "      <td>True</td>\n",
       "      <td>True</td>\n",
       "      <td>False</td>\n",
       "      <td>False</td>\n",
       "      <td>2</td>\n",
       "    </tr>\n",
       "    <tr>\n",
       "      <th>35</th>\n",
       "      <td>36</td>\n",
       "      <td>f48_vert</td>\n",
       "      <td>True</td>\n",
       "      <td>False</td>\n",
       "      <td>True</td>\n",
       "      <td>False</td>\n",
       "      <td>False</td>\n",
       "      <td>2</td>\n",
       "    </tr>\n",
       "    <tr>\n",
       "      <th>36</th>\n",
       "      <td>37</td>\n",
       "      <td>f40</td>\n",
       "      <td>False</td>\n",
       "      <td>True</td>\n",
       "      <td>True</td>\n",
       "      <td>False</td>\n",
       "      <td>False</td>\n",
       "      <td>2</td>\n",
       "    </tr>\n",
       "    <tr>\n",
       "      <th>37</th>\n",
       "      <td>38</td>\n",
       "      <td>f32_vert</td>\n",
       "      <td>True</td>\n",
       "      <td>False</td>\n",
       "      <td>True</td>\n",
       "      <td>False</td>\n",
       "      <td>False</td>\n",
       "      <td>2</td>\n",
       "    </tr>\n",
       "    <tr>\n",
       "      <th>38</th>\n",
       "      <td>39</td>\n",
       "      <td>f24_vert</td>\n",
       "      <td>True</td>\n",
       "      <td>False</td>\n",
       "      <td>True</td>\n",
       "      <td>False</td>\n",
       "      <td>False</td>\n",
       "      <td>2</td>\n",
       "    </tr>\n",
       "    <tr>\n",
       "      <th>39</th>\n",
       "      <td>40</td>\n",
       "      <td>f16_sum</td>\n",
       "      <td>True</td>\n",
       "      <td>True</td>\n",
       "      <td>False</td>\n",
       "      <td>False</td>\n",
       "      <td>False</td>\n",
       "      <td>2</td>\n",
       "    </tr>\n",
       "    <tr>\n",
       "      <th>40</th>\n",
       "      <td>41</td>\n",
       "      <td>f144</td>\n",
       "      <td>False</td>\n",
       "      <td>True</td>\n",
       "      <td>True</td>\n",
       "      <td>False</td>\n",
       "      <td>False</td>\n",
       "      <td>2</td>\n",
       "    </tr>\n",
       "    <tr>\n",
       "      <th>41</th>\n",
       "      <td>42</td>\n",
       "      <td>f128</td>\n",
       "      <td>False</td>\n",
       "      <td>True</td>\n",
       "      <td>True</td>\n",
       "      <td>False</td>\n",
       "      <td>False</td>\n",
       "      <td>2</td>\n",
       "    </tr>\n",
       "    <tr>\n",
       "      <th>42</th>\n",
       "      <td>43</td>\n",
       "      <td>f112</td>\n",
       "      <td>False</td>\n",
       "      <td>True</td>\n",
       "      <td>True</td>\n",
       "      <td>False</td>\n",
       "      <td>False</td>\n",
       "      <td>2</td>\n",
       "    </tr>\n",
       "    <tr>\n",
       "      <th>43</th>\n",
       "      <td>44</td>\n",
       "      <td>crest_temp</td>\n",
       "      <td>True</td>\n",
       "      <td>False</td>\n",
       "      <td>False</td>\n",
       "      <td>False</td>\n",
       "      <td>True</td>\n",
       "      <td>2</td>\n",
       "    </tr>\n",
       "    <tr>\n",
       "      <th>44</th>\n",
       "      <td>45</td>\n",
       "      <td>crest_sum</td>\n",
       "      <td>False</td>\n",
       "      <td>True</td>\n",
       "      <td>True</td>\n",
       "      <td>False</td>\n",
       "      <td>False</td>\n",
       "      <td>2</td>\n",
       "    </tr>\n",
       "    <tr>\n",
       "      <th>45</th>\n",
       "      <td>46</td>\n",
       "      <td>av_horiz</td>\n",
       "      <td>False</td>\n",
       "      <td>True</td>\n",
       "      <td>True</td>\n",
       "      <td>False</td>\n",
       "      <td>False</td>\n",
       "      <td>2</td>\n",
       "    </tr>\n",
       "  </tbody>\n",
       "</table>\n",
       "</div>"
      ],
      "text/plain": [
       "    Unnamed: 0     Feature  Pearson    RFE  Regression  Random Forest  \\\n",
       "0            1   peak_temp     True   True        True           True   \n",
       "1            2      av_sum     True   True        True           True   \n",
       "2            3  Rtd sensor     True   True        True           True   \n",
       "3            4     sd_vert     True   True        True          False   \n",
       "4            5     sd_temp     True   True        True          False   \n",
       "5            6      sd_sum     True   True        True          False   \n",
       "6            7    sd_horiz     True   True        True          False   \n",
       "7            8     rms_sum     True   True        True          False   \n",
       "8            9   rms_horiz     True   True        True          False   \n",
       "9           10    peak_sum     True   True        True          False   \n",
       "10          11          f8     True   True        True          False   \n",
       "11          12    f16_vert     True   True        True          False   \n",
       "12          13     av_temp     True   True       False           True   \n",
       "13          14   skew_temp    False   True        True          False   \n",
       "14          15    rms_vert     True   True        True          False   \n",
       "15          16    rms_temp     True   True       False           True   \n",
       "16          17   kurt_temp    False   True        True          False   \n",
       "17          18     f8_vert     True   True        True          False   \n",
       "18          19    f40_vert     True   True        True          False   \n",
       "19          20     f40_sum     True   True        True          False   \n",
       "20          21         f32     True   True        True          False   \n",
       "21          22         f24     True   True        True          False   \n",
       "22          23         f16     True   True        True          False   \n",
       "23          24  clear_temp     True   True       False          False   \n",
       "24          25   peak_vert     True  False       False          False   \n",
       "25          26    imp_temp     True  False       False          False   \n",
       "26          27    f96_vert    False   True        True          False   \n",
       "27          28     f96_sum    False   True        True          False   \n",
       "28          29      f8_sum     True   True       False          False   \n",
       "29          30    f88_vert    False   True        True          False   \n",
       "30          31     f88_sum    False   True        True          False   \n",
       "31          32         f88    False   True        True          False   \n",
       "32          33    f80_vert    False   True        True          False   \n",
       "33          34         f80    False   True        True          False   \n",
       "34          35         f64    False   True        True          False   \n",
       "35          36    f48_vert     True  False        True          False   \n",
       "36          37         f40    False   True        True          False   \n",
       "37          38    f32_vert     True  False        True          False   \n",
       "38          39    f24_vert     True  False        True          False   \n",
       "39          40     f16_sum     True   True       False          False   \n",
       "40          41        f144    False   True        True          False   \n",
       "41          42        f128    False   True        True          False   \n",
       "42          43        f112    False   True        True          False   \n",
       "43          44  crest_temp     True  False       False          False   \n",
       "44          45   crest_sum    False   True        True          False   \n",
       "45          46    av_horiz    False   True        True          False   \n",
       "\n",
       "    LightGBM  Total  \n",
       "0       True      5  \n",
       "1       True      5  \n",
       "2       True      5  \n",
       "3       True      4  \n",
       "4       True      4  \n",
       "5       True      4  \n",
       "6       True      4  \n",
       "7       True      4  \n",
       "8       True      4  \n",
       "9       True      4  \n",
       "10      True      4  \n",
       "11      True      4  \n",
       "12      True      4  \n",
       "13      True      3  \n",
       "14     False      3  \n",
       "15     False      3  \n",
       "16      True      3  \n",
       "17     False      3  \n",
       "18     False      3  \n",
       "19     False      3  \n",
       "20     False      3  \n",
       "21     False      3  \n",
       "22     False      3  \n",
       "23      True      3  \n",
       "24      True      2  \n",
       "25      True      2  \n",
       "26     False      2  \n",
       "27     False      2  \n",
       "28     False      2  \n",
       "29     False      2  \n",
       "30     False      2  \n",
       "31     False      2  \n",
       "32     False      2  \n",
       "33     False      2  \n",
       "34     False      2  \n",
       "35     False      2  \n",
       "36     False      2  \n",
       "37     False      2  \n",
       "38     False      2  \n",
       "39     False      2  \n",
       "40     False      2  \n",
       "41     False      2  \n",
       "42     False      2  \n",
       "43      True      2  \n",
       "44     False      2  \n",
       "45     False      2  "
      ]
     },
     "execution_count": 210,
     "metadata": {},
     "output_type": "execute_result"
    }
   ],
   "source": [
    "imp_df3"
   ]
  },
  {
   "cell_type": "code",
   "execution_count": 54,
   "metadata": {},
   "outputs": [],
   "source": [
    "ans_test = pd.DataFrame(y_test.values,columns=[\"real group\"])\n",
    "ans_test[\"pre_group(no time)\"] = y_test_predict\n",
    "ans_test[\"real_rul\"] = one_test[\"RUL_x\"].values"
   ]
  },
  {
   "cell_type": "code",
   "execution_count": 57,
   "metadata": {},
   "outputs": [],
   "source": [
    "ans_train[\"time\"] = one_train[\"time\"]\n",
    "ans_test[\"time\"] = one_test[\"time\"].values"
   ]
  },
  {
   "cell_type": "code",
   "execution_count": 60,
   "metadata": {},
   "outputs": [],
   "source": [
    "ans_train[\"setting\"] = one_train[\"setting\"]\n",
    "ans_test[\"setting\"] = one_test[\"setting\"].values"
   ]
  },
  {
   "cell_type": "markdown",
   "metadata": {},
   "source": [
    "### 加入時間因素考量time group"
   ]
  },
  {
   "cell_type": "code",
   "execution_count": 61,
   "metadata": {},
   "outputs": [],
   "source": [
    "X_train = ans_train[[\"time\"]]\n",
    "y_train = ans_train[\"real group\"]\n",
    "X_test = ans_test[[\"time\"]]\n",
    "y_test = ans_test[\"real group\"]"
   ]
  },
  {
   "cell_type": "code",
   "execution_count": 62,
   "metadata": {},
   "outputs": [],
   "source": [
    "from sklearn.linear_model import LogisticRegression"
   ]
  },
  {
   "cell_type": "code",
   "execution_count": 63,
   "metadata": {},
   "outputs": [
    {
     "data": {
      "text/plain": [
       "LogisticRegression(C=1.0, class_weight=None, dual=False, fit_intercept=True,\n",
       "                   intercept_scaling=1, l1_ratio=None, max_iter=100,\n",
       "                   multi_class='auto', n_jobs=None, penalty='l2',\n",
       "                   random_state=None, solver='lbfgs', tol=0.0001, verbose=0,\n",
       "                   warm_start=False)"
      ]
     },
     "execution_count": 63,
     "metadata": {},
     "output_type": "execute_result"
    }
   ],
   "source": [
    "lr = LogisticRegression(max_iter=100)\n",
    "lr.fit(X_train, y_train)"
   ]
  },
  {
   "cell_type": "code",
   "execution_count": 65,
   "metadata": {},
   "outputs": [
    {
     "name": "stdout",
     "output_type": "stream",
     "text": [
      "accuracy training: 0.250, accuracy testing: 0.250\n",
      "F1 training: 0.100, F1 testing: 0.100\n"
     ]
    }
   ],
   "source": [
    "y_test_predict = lr.predict(X_test)\n",
    "y_train_predict = lr.predict(X_train)\n",
    "\n",
    "train_score = accuracy_score(y_train, y_train_predict)\n",
    "test_score = accuracy_score(y_test, y_test_predict)\n",
    "train_f1 = f1_score(y_train, y_train_predict,average=\"weighted\")\n",
    "test_f1 = f1_score(y_test, y_test_predict,average=\"weighted\")\n",
    "print('accuracy training: %.3f, accuracy testing: %.3f' % (\n",
    "      (train_score), (test_score)))\n",
    "print('F1 training: %.3f, F1 testing: %.3f' % (\n",
    "      (train_f1), (test_f1)))"
   ]
  },
  {
   "cell_type": "code",
   "execution_count": 67,
   "metadata": {},
   "outputs": [],
   "source": [
    "from sklearn.tree import DecisionTreeClassifier"
   ]
  },
  {
   "cell_type": "code",
   "execution_count": 78,
   "metadata": {},
   "outputs": [
    {
     "data": {
      "text/plain": [
       "DecisionTreeClassifier(ccp_alpha=0.0, class_weight=None, criterion='gini',\n",
       "                       max_depth=4, max_features=None, max_leaf_nodes=None,\n",
       "                       min_impurity_decrease=0.0, min_impurity_split=None,\n",
       "                       min_samples_leaf=1, min_samples_split=2,\n",
       "                       min_weight_fraction_leaf=0.0, presort='deprecated',\n",
       "                       random_state=None, splitter='best')"
      ]
     },
     "execution_count": 78,
     "metadata": {},
     "output_type": "execute_result"
    }
   ],
   "source": [
    "dt = DecisionTreeClassifier(max_depth=4)\n",
    "dt.fit(X_train, y_train)"
   ]
  },
  {
   "cell_type": "code",
   "execution_count": 79,
   "metadata": {},
   "outputs": [
    {
     "name": "stdout",
     "output_type": "stream",
     "text": [
      "accuracy training: 0.904, accuracy testing: 0.697\n",
      "F1 training: 0.904, F1 testing: 0.698\n"
     ]
    }
   ],
   "source": [
    "y_test_predict = dt.predict(X_test)\n",
    "y_train_predict = dt.predict(X_train)\n",
    "\n",
    "train_score = accuracy_score(y_train, y_train_predict)\n",
    "test_score = accuracy_score(y_test, y_test_predict)\n",
    "train_f1 = f1_score(y_train, y_train_predict,average=\"weighted\")\n",
    "test_f1 = f1_score(y_test, y_test_predict,average=\"weighted\")\n",
    "print('accuracy training: %.3f, accuracy testing: %.3f' % (\n",
    "      (train_score), (test_score)))\n",
    "print('F1 training: %.3f, F1 testing: %.3f' % (\n",
    "      (train_f1), (test_f1)))"
   ]
  },
  {
   "cell_type": "code",
   "execution_count": 80,
   "metadata": {},
   "outputs": [],
   "source": [
    "X_train = ans_train[[\"pre_group(no time)\",\"time\"]]\n",
    "y_train = ans_train[\"real group\"]\n",
    "X_test = ans_test[[\"pre_group(no time)\",\"time\"]]\n",
    "y_test = ans_test[\"real group\"]"
   ]
  },
  {
   "cell_type": "code",
   "execution_count": 81,
   "metadata": {},
   "outputs": [],
   "source": [
    "from sklearn import tree"
   ]
  },
  {
   "cell_type": "code",
   "execution_count": 82,
   "metadata": {},
   "outputs": [
    {
     "data": {
      "image/png": "[encoded data removed]",
      "text/plain": [
       "<Figure size 1800x1440 with 1 Axes>"
      ]
     },
     "metadata": {
      "needs_background": "light"
     },
     "output_type": "display_data"
    }
   ],
   "source": [
    "fig = plt.figure(figsize=(25,20))\n",
    "_ = tree.plot_tree(dt, \n",
    "                   feature_names=X_train.columns,\n",
    "                   fontsize=13,\n",
    "                   filled=True)"
   ]
  },
  {
   "cell_type": "code",
   "execution_count": 83,
   "metadata": {},
   "outputs": [],
   "source": [
    "ans_train[\"pre_group(time)\"] = y_train_predict\n",
    "ans_test[\"pre_group(time)\"] = y_test_predict"
   ]
  },
  {
   "cell_type": "markdown",
   "metadata": {},
   "source": [
    "### step 2 train each class"
   ]
  },
  {
   "cell_type": "markdown",
   "metadata": {},
   "source": [
    "#### 1. class 0"
   ]
  },
  {
   "cell_type": "code",
   "execution_count": 84,
   "metadata": {},
   "outputs": [],
   "source": [
    "X_train = one_train[one_train[\"time_group\"]==0].drop([\"index\",\"Unnamed: 0_x\",\"Unnamed: 0_y\",\"RUL_x\",\"RUL_y\",\"round_RUL\",\"id\",\"id_x\",\"id.1\",\"id.2\",\"time_group\"], axis=1)\n",
    "X_test = one_test[one_test[\"time_group\"]==0].drop([\"index\",\"Unnamed: 0_x\",\"Unnamed: 0_y\",\"RUL_x\",\"RUL_y\",\"round_RUL\",\"id\",\"id_x\",\"id.1\",\"id.2\",\"time_group\"], axis=1)\n",
    "y_train = one_train[one_train[\"time_group\"]==0][\"RUL_x\"]\n",
    "y_test = one_test[one_test[\"time_group\"]==0][\"RUL_x\"]"
   ]
  },
  {
   "cell_type": "code",
   "execution_count": 86,
   "metadata": {},
   "outputs": [],
   "source": [
    "X_train = X_train[col_list]\n",
    "X_test = X_test[col_list]"
   ]
  },
  {
   "cell_type": "code",
   "execution_count": 87,
   "metadata": {},
   "outputs": [
    {
     "data": {
      "text/plain": [
       "Index(['rms_vert', 'rms_horiz', 'av_sum', 'Rtd sensor', 'sd_vert', 'sd_temp',\n",
       "       'sd_horiz', 'rms_sum', 'peak_temp', 'f96_vert', 'f96_sum', 'f40_vert',\n",
       "       'f32_vert', 'f16_vert', 'f16_sum', 'av_temp', 'skew_temp', 'shape_sum',\n",
       "       'sd_sum', 'rms_temp', 'peak_vert', 'peak_sum', 'kurt_temp', 'kurt_sum',\n",
       "       'f8_vert', 'f88_sum', 'f80_vert', 'f80_sum', 'f8', 'f72_vert',\n",
       "       'f72_sum', 'f56_vert', 'f56_sum', 'f40_sum', 'f32_sum', 'f24_vert',\n",
       "       'f24', 'f192_vert', 'f192_sum', 'f184_vert', 'f184_sum', 'f168_vert',\n",
       "       'f160_vert', 'f160_sum', 'f16', 'f144_vert', 'f120_vert', 'f120_sum',\n",
       "       'f112_vert', 'f104_vert', 'f104_sum', 'clear_temp', 'f80', 'f48', 'f40',\n",
       "       'f96', 'f88_vert', 'f72', 'f56', 'f32', 'f184', 'f168', 'f120', 'f112',\n",
       "       'f104', 'crest_sum', 'imp_temp', 'imp_sum', 'f88', 'f240', 'f216',\n",
       "       'f208', 'f160', 'f136_vert', 'f136_sum', 'f136', 'f112_sum',\n",
       "       'crest_temp', 'clear_sum', 'f8_sum', 'f64', 'f48_vert', 'f144', 'f128',\n",
       "       'av_horiz'],\n",
       "      dtype='object')"
      ]
     },
     "execution_count": 87,
     "metadata": {},
     "output_type": "execute_result"
    }
   ],
   "source": [
    "X_train.columns"
   ]
  },
  {
   "cell_type": "code",
   "execution_count": 88,
   "metadata": {},
   "outputs": [],
   "source": [
    "from lightgbm import LGBMRegressor"
   ]
  },
  {
   "cell_type": "code",
   "execution_count": 89,
   "metadata": {},
   "outputs": [
    {
     "data": {
      "text/plain": [
       "LGBMRegressor(boosting_type='gbdt', class_weight=None, colsample_bytree=1.0,\n",
       "              importance_type='split', learning_rate=0.1, max_depth=-1,\n",
       "              min_child_samples=20, min_child_weight=0.001, min_split_gain=0.0,\n",
       "              n_estimators=20, n_jobs=-1, num_leaves=31, objective=None,\n",
       "              random_state=None, reg_alpha=0.0, reg_lambda=0.5, silent=True,\n",
       "              subsample=1.0, subsample_for_bin=200000, subsample_freq=0)"
      ]
     },
     "execution_count": 89,
     "metadata": {},
     "output_type": "execute_result"
    }
   ],
   "source": [
    "lgb = LGBMRegressor(n_estimators=20,n_jobs=- 1,reg_lambda=0.5)\n",
    "lgb.fit(X_train, y_train)"
   ]
  },
  {
   "cell_type": "code",
   "execution_count": 90,
   "metadata": {},
   "outputs": [],
   "source": [
    "from sklearn.metrics import mean_absolute_error"
   ]
  },
  {
   "cell_type": "code",
   "execution_count": 91,
   "metadata": {},
   "outputs": [
    {
     "name": "stdout",
     "output_type": "stream",
     "text": [
      "MSE training: 7220635.030, MSE testing: 96607136.807\n",
      "RMSE training: 2687.124, RMSE testing: 9828.893\n",
      "MAE training: 1837.394, MAE testing: 9202.133\n"
     ]
    }
   ],
   "source": [
    "y_test_predict = lgb.predict(X_test)\n",
    "y_train_predict = lgb.predict(X_train)\n",
    "\n",
    "train_mse = mean_squared_error(y_train, y_train_predict)\n",
    "test_mse = mean_squared_error(y_test, y_test_predict)\n",
    "print('MSE training: %.3f, MSE testing: %.3f' % (\n",
    "      (train_mse), (test_mse)))\n",
    "print('RMSE training: %.3f, RMSE testing: %.3f' % (\n",
    "      (train_mse**0.5), (test_mse**0.5)))\n",
    "train_mape = mean_absolute_error(y_train, y_train_predict)\n",
    "test_mape = mean_absolute_error(y_test, y_test_predict)\n",
    "print('MAE training: %.3f, MAE testing: %.3f' % (\n",
    "      (train_mape), (test_mape)))"
   ]
  },
  {
   "cell_type": "code",
   "execution_count": 92,
   "metadata": {},
   "outputs": [
    {
     "data": {
      "image/png": "[encoded data removed]",
      "text/plain": [
       "<Figure size 576x720 with 1 Axes>"
      ]
     },
     "metadata": {
      "needs_background": "light"
     },
     "output_type": "display_data"
    }
   ],
   "source": [
    "plot_features_weights('LGBMRegressor',rf.feature_importances_, X_train.columns)"
   ]
  },
  {
   "cell_type": "code",
   "execution_count": 93,
   "metadata": {},
   "outputs": [],
   "source": [
    "X_real_train = one_train.drop([\"index\",\"Unnamed: 0_x\",\"Unnamed: 0_y\",\"RUL_x\",\"RUL_y\",\"round_RUL\",\"id\",\"id_x\",\"id.1\",\"id.2\",\"time\",\"time_group\"], axis=1)\n",
    "X_real_test = one_test.drop([\"index\",\"Unnamed: 0_x\",\"Unnamed: 0_y\",\"RUL_x\",\"RUL_y\",\"round_RUL\",\"id\",\"id_x\",\"id.1\",\"id.2\",\"time\",\"time_group\"], axis=1)"
   ]
  },
  {
   "cell_type": "code",
   "execution_count": 98,
   "metadata": {},
   "outputs": [],
   "source": [
    "X_real_train = X_real_train[col_list]\n",
    "X_real_test = X_real_test[col_list]"
   ]
  },
  {
   "cell_type": "code",
   "execution_count": 99,
   "metadata": {},
   "outputs": [],
   "source": [
    "y_test_predict_all = lgb.predict(X_real_test)\n",
    "y_train_predict_all = lgb.predict(X_real_train)"
   ]
  },
  {
   "cell_type": "code",
   "execution_count": 100,
   "metadata": {},
   "outputs": [],
   "source": [
    "ans_train[\"class 0 predict\"] = y_train_predict_all\n",
    "ans_test[\"class 0 predict\"] = y_test_predict_all"
   ]
  },
  {
   "cell_type": "markdown",
   "metadata": {},
   "source": [
    "#### 2. class 1"
   ]
  },
  {
   "cell_type": "code",
   "execution_count": 101,
   "metadata": {},
   "outputs": [],
   "source": [
    "X_train = one_train[one_train[\"time_group\"]==1].drop([\"index\",\"Unnamed: 0_x\",\"Unnamed: 0_y\",\"RUL_x\",\"RUL_y\",\"round_RUL\",\"id\",\"id_x\",\"id.1\",\"id.2\",\"time_group\"], axis=1)\n",
    "X_test = one_test[one_test[\"time_group\"]==1].drop([\"index\",\"Unnamed: 0_x\",\"Unnamed: 0_y\",\"RUL_x\",\"RUL_y\",\"round_RUL\",\"id\",\"id_x\",\"id.1\",\"id.2\",\"time_group\"], axis=1)\n",
    "y_train = one_train[one_train[\"time_group\"]==1][\"RUL_x\"]\n",
    "y_test = one_test[one_test[\"time_group\"]==1][\"RUL_x\"]"
   ]
  },
  {
   "cell_type": "code",
   "execution_count": 102,
   "metadata": {},
   "outputs": [],
   "source": [
    "X_train = X_train[col_list]\n",
    "X_test = X_test[col_list]"
   ]
  },
  {
   "cell_type": "code",
   "execution_count": 103,
   "metadata": {},
   "outputs": [
    {
     "data": {
      "text/plain": [
       "Index(['rms_vert', 'rms_horiz', 'av_sum', 'Rtd sensor', 'sd_vert', 'sd_temp',\n",
       "       'sd_horiz', 'rms_sum', 'peak_temp', 'f96_vert', 'f96_sum', 'f40_vert',\n",
       "       'f32_vert', 'f16_vert', 'f16_sum', 'av_temp', 'skew_temp', 'shape_sum',\n",
       "       'sd_sum', 'rms_temp', 'peak_vert', 'peak_sum', 'kurt_temp', 'kurt_sum',\n",
       "       'f8_vert', 'f88_sum', 'f80_vert', 'f80_sum', 'f8', 'f72_vert',\n",
       "       'f72_sum', 'f56_vert', 'f56_sum', 'f40_sum', 'f32_sum', 'f24_vert',\n",
       "       'f24', 'f192_vert', 'f192_sum', 'f184_vert', 'f184_sum', 'f168_vert',\n",
       "       'f160_vert', 'f160_sum', 'f16', 'f144_vert', 'f120_vert', 'f120_sum',\n",
       "       'f112_vert', 'f104_vert', 'f104_sum', 'clear_temp', 'f80', 'f48', 'f40',\n",
       "       'f96', 'f88_vert', 'f72', 'f56', 'f32', 'f184', 'f168', 'f120', 'f112',\n",
       "       'f104', 'crest_sum', 'imp_temp', 'imp_sum', 'f88', 'f240', 'f216',\n",
       "       'f208', 'f160', 'f136_vert', 'f136_sum', 'f136', 'f112_sum',\n",
       "       'crest_temp', 'clear_sum', 'f8_sum', 'f64', 'f48_vert', 'f144', 'f128',\n",
       "       'av_horiz'],\n",
       "      dtype='object')"
      ]
     },
     "execution_count": 103,
     "metadata": {},
     "output_type": "execute_result"
    }
   ],
   "source": [
    "X_train.columns"
   ]
  },
  {
   "cell_type": "code",
   "execution_count": 104,
   "metadata": {},
   "outputs": [
    {
     "data": {
      "text/plain": [
       "LGBMRegressor(boosting_type='gbdt', class_weight=None, colsample_bytree=1.0,\n",
       "              importance_type='split', learning_rate=0.1, max_depth=-1,\n",
       "              min_child_samples=20, min_child_weight=0.001, min_split_gain=0.0,\n",
       "              n_estimators=20, n_jobs=-1, num_leaves=31, objective=None,\n",
       "              random_state=None, reg_alpha=0.0, reg_lambda=0.5, silent=True,\n",
       "              subsample=1.0, subsample_for_bin=200000, subsample_freq=0)"
      ]
     },
     "execution_count": 104,
     "metadata": {},
     "output_type": "execute_result"
    }
   ],
   "source": [
    "lgb = LGBMRegressor(n_estimators=20,n_jobs=- 1,reg_lambda=0.5)\n",
    "lgb.fit(X_train, y_train)"
   ]
  },
  {
   "cell_type": "code",
   "execution_count": 105,
   "metadata": {},
   "outputs": [
    {
     "name": "stdout",
     "output_type": "stream",
     "text": [
      "MSE training: 1715874.413, MSE testing: 34340514.263\n",
      "RMSE training: 1309.914, RMSE testing: 5860.078\n",
      "MAE training: 1015.600, MAE testing: 5136.652\n"
     ]
    }
   ],
   "source": [
    "y_test_predict = lgb.predict(X_test)\n",
    "y_train_predict = lgb.predict(X_train)\n",
    "\n",
    "train_mse = mean_squared_error(y_train, y_train_predict)\n",
    "test_mse = mean_squared_error(y_test, y_test_predict)\n",
    "print('MSE training: %.3f, MSE testing: %.3f' % (\n",
    "      (train_mse), (test_mse)))\n",
    "print('RMSE training: %.3f, RMSE testing: %.3f' % (\n",
    "      (train_mse**0.5), (test_mse**0.5)))\n",
    "train_mape = mean_absolute_error(y_train, y_train_predict)\n",
    "test_mape = mean_absolute_error(y_test, y_test_predict)\n",
    "print('MAE training: %.3f, MAE testing: %.3f' % (\n",
    "      (train_mape), (test_mape)))"
   ]
  },
  {
   "cell_type": "code",
   "execution_count": 106,
   "metadata": {
    "scrolled": false
   },
   "outputs": [
    {
     "data": {
      "image/png": "[encoded data removed]",
      "text/plain": [
       "<Figure size 576x720 with 1 Axes>"
      ]
     },
     "metadata": {
      "needs_background": "light"
     },
     "output_type": "display_data"
    }
   ],
   "source": [
    "plot_features_weights('LGBMRegressor',rf.feature_importances_, X_train.columns)"
   ]
  },
  {
   "cell_type": "code",
   "execution_count": 108,
   "metadata": {},
   "outputs": [],
   "source": [
    "X_real_train = one_train.drop([\"index\",\"Unnamed: 0_x\",\"Unnamed: 0_y\",\"RUL_x\",\"RUL_y\",\"round_RUL\",\"id\",\"id_x\",\"id.1\",\"id.2\",\"time\",\"time_group\"], axis=1)\n",
    "X_real_test = one_test.drop([\"index\",\"Unnamed: 0_x\",\"Unnamed: 0_y\",\"RUL_x\",\"RUL_y\",\"round_RUL\",\"id\",\"id_x\",\"id.1\",\"id.2\",\"time\",\"time_group\"], axis=1)\n",
    "\n",
    "X_real_train = X_real_train[col_list]\n",
    "X_real_test = X_real_test[col_list]\n",
    "\n",
    "y_test_predict_all = lgb.predict(X_real_test)\n",
    "y_train_predict_all = lgb.predict(X_real_train)\n",
    "\n",
    "ans_train[\"class 1 predict\"] = y_train_predict_all\n",
    "ans_test[\"class 1 predict\"] = y_test_predict_all"
   ]
  },
  {
   "cell_type": "markdown",
   "metadata": {},
   "source": [
    "#### 3. class 2"
   ]
  },
  {
   "cell_type": "code",
   "execution_count": 109,
   "metadata": {},
   "outputs": [],
   "source": [
    "X_train = one_train[one_train[\"time_group\"]==2].drop([\"index\",\"Unnamed: 0_x\",\"Unnamed: 0_y\",\"RUL_x\",\"RUL_y\",\"round_RUL\",\"id\",\"id_x\",\"id.1\",\"id.2\",\"time_group\"], axis=1)\n",
    "X_test = one_test[one_test[\"time_group\"]==2].drop([\"index\",\"Unnamed: 0_x\",\"Unnamed: 0_y\",\"RUL_x\",\"RUL_y\",\"round_RUL\",\"id\",\"id_x\",\"id.1\",\"id.2\",\"time_group\"], axis=1)\n",
    "y_train = one_train[one_train[\"time_group\"]==2][\"RUL_x\"]\n",
    "y_test = one_test[one_test[\"time_group\"]==2][\"RUL_x\"]"
   ]
  },
  {
   "cell_type": "code",
   "execution_count": 110,
   "metadata": {},
   "outputs": [
    {
     "data": {
      "text/plain": [
       "Index(['rms_vert', 'rms_horiz', 'av_sum', 'Rtd sensor', 'sd_vert', 'sd_temp',\n",
       "       'sd_horiz', 'rms_sum', 'peak_temp', 'f96_vert', 'f96_sum', 'f40_vert',\n",
       "       'f32_vert', 'f16_vert', 'f16_sum', 'av_temp', 'skew_temp', 'shape_sum',\n",
       "       'sd_sum', 'rms_temp', 'peak_vert', 'peak_sum', 'kurt_temp', 'kurt_sum',\n",
       "       'f8_vert', 'f88_sum', 'f80_vert', 'f80_sum', 'f8', 'f72_vert',\n",
       "       'f72_sum', 'f56_vert', 'f56_sum', 'f40_sum', 'f32_sum', 'f24_vert',\n",
       "       'f24', 'f192_vert', 'f192_sum', 'f184_vert', 'f184_sum', 'f168_vert',\n",
       "       'f160_vert', 'f160_sum', 'f16', 'f144_vert', 'f120_vert', 'f120_sum',\n",
       "       'f112_vert', 'f104_vert', 'f104_sum', 'clear_temp', 'f80', 'f48', 'f40',\n",
       "       'f96', 'f88_vert', 'f72', 'f56', 'f32', 'f184', 'f168', 'f120', 'f112',\n",
       "       'f104', 'crest_sum', 'imp_temp', 'imp_sum', 'f88', 'f240', 'f216',\n",
       "       'f208', 'f160', 'f136_vert', 'f136_sum', 'f136', 'f112_sum',\n",
       "       'crest_temp', 'clear_sum', 'f8_sum', 'f64', 'f48_vert', 'f144', 'f128',\n",
       "       'av_horiz'],\n",
       "      dtype='object')"
      ]
     },
     "execution_count": 110,
     "metadata": {},
     "output_type": "execute_result"
    }
   ],
   "source": [
    "X_train = X_train[col_list]\n",
    "X_test = X_test[col_list]\n",
    "X_train.columns"
   ]
  },
  {
   "cell_type": "code",
   "execution_count": 111,
   "metadata": {},
   "outputs": [],
   "source": [
    "lgb = LGBMRegressor(n_estimators=20,n_jobs=- 1,reg_lambda=0.5)\n",
    "lgb.fit(X_train, y_train)\n",
    "y_test_predict = lgb.predict(X_test)\n",
    "y_train_predict = lgb.predict(X_train)"
   ]
  },
  {
   "cell_type": "code",
   "execution_count": 112,
   "metadata": {},
   "outputs": [
    {
     "name": "stdout",
     "output_type": "stream",
     "text": [
      "MSE training: 982158.879, MSE testing: 4549852.742\n",
      "RMSE training: 991.039, RMSE testing: 2133.038\n",
      "MAE training: 748.428, MAE testing: 1755.120\n"
     ]
    }
   ],
   "source": [
    "train_mse = mean_squared_error(y_train, y_train_predict)\n",
    "test_mse = mean_squared_error(y_test, y_test_predict)\n",
    "print('MSE training: %.3f, MSE testing: %.3f' % (\n",
    "      (train_mse), (test_mse)))\n",
    "print('RMSE training: %.3f, RMSE testing: %.3f' % (\n",
    "      (train_mse**0.5), (test_mse**0.5)))\n",
    "train_mape = mean_absolute_error(y_train, y_train_predict)\n",
    "test_mape = mean_absolute_error(y_test, y_test_predict)\n",
    "print('MAE training: %.3f, MAE testing: %.3f' % (\n",
    "      (train_mape), (test_mape)))"
   ]
  },
  {
   "cell_type": "code",
   "execution_count": 113,
   "metadata": {},
   "outputs": [
    {
     "data": {
      "image/png": "[encoded data removed]",
      "text/plain": [
       "<Figure size 576x720 with 1 Axes>"
      ]
     },
     "metadata": {
      "needs_background": "light"
     },
     "output_type": "display_data"
    }
   ],
   "source": [
    "plot_features_weights('LGBMRegressor',rf.feature_importances_, X_train.columns)"
   ]
  },
  {
   "cell_type": "code",
   "execution_count": 186,
   "metadata": {},
   "outputs": [
    {
     "data": {
      "text/html": [
       "<div>\n",
       "<style scoped>\n",
       "    .dataframe tbody tr th:only-of-type {\n",
       "        vertical-align: middle;\n",
       "    }\n",
       "\n",
       "    .dataframe tbody tr th {\n",
       "        vertical-align: top;\n",
       "    }\n",
       "\n",
       "    .dataframe thead th {\n",
       "        text-align: right;\n",
       "    }\n",
       "</style>\n",
       "<table border=\"1\" class=\"dataframe\">\n",
       "  <thead>\n",
       "    <tr style=\"text-align: right;\">\n",
       "      <th></th>\n",
       "      <th>Feature</th>\n",
       "      <th>Pearson</th>\n",
       "      <th>RFE</th>\n",
       "      <th>Regression</th>\n",
       "      <th>Random Forest</th>\n",
       "      <th>LightGBM</th>\n",
       "      <th>Total</th>\n",
       "    </tr>\n",
       "  </thead>\n",
       "  <tbody>\n",
       "    <tr>\n",
       "      <th>0</th>\n",
       "      <td>rms_vert</td>\n",
       "      <td>True</td>\n",
       "      <td>False</td>\n",
       "      <td>True</td>\n",
       "      <td>True</td>\n",
       "      <td>True</td>\n",
       "      <td>4</td>\n",
       "    </tr>\n",
       "    <tr>\n",
       "      <th>1</th>\n",
       "      <td>rms_horiz</td>\n",
       "      <td>True</td>\n",
       "      <td>False</td>\n",
       "      <td>True</td>\n",
       "      <td>True</td>\n",
       "      <td>True</td>\n",
       "      <td>4</td>\n",
       "    </tr>\n",
       "    <tr>\n",
       "      <th>2</th>\n",
       "      <td>av_sum</td>\n",
       "      <td>True</td>\n",
       "      <td>False</td>\n",
       "      <td>True</td>\n",
       "      <td>True</td>\n",
       "      <td>True</td>\n",
       "      <td>4</td>\n",
       "    </tr>\n",
       "    <tr>\n",
       "      <th>3</th>\n",
       "      <td>Rtd sensor</td>\n",
       "      <td>True</td>\n",
       "      <td>False</td>\n",
       "      <td>True</td>\n",
       "      <td>True</td>\n",
       "      <td>True</td>\n",
       "      <td>4</td>\n",
       "    </tr>\n",
       "    <tr>\n",
       "      <th>4</th>\n",
       "      <td>sd_vert</td>\n",
       "      <td>True</td>\n",
       "      <td>False</td>\n",
       "      <td>True</td>\n",
       "      <td>False</td>\n",
       "      <td>True</td>\n",
       "      <td>3</td>\n",
       "    </tr>\n",
       "    <tr>\n",
       "      <th>...</th>\n",
       "      <td>...</td>\n",
       "      <td>...</td>\n",
       "      <td>...</td>\n",
       "      <td>...</td>\n",
       "      <td>...</td>\n",
       "      <td>...</td>\n",
       "      <td>...</td>\n",
       "    </tr>\n",
       "    <tr>\n",
       "      <th>142</th>\n",
       "      <td>clear_vert</td>\n",
       "      <td>False</td>\n",
       "      <td>False</td>\n",
       "      <td>False</td>\n",
       "      <td>False</td>\n",
       "      <td>False</td>\n",
       "      <td>0</td>\n",
       "    </tr>\n",
       "    <tr>\n",
       "      <th>143</th>\n",
       "      <td>clear_horiz</td>\n",
       "      <td>False</td>\n",
       "      <td>False</td>\n",
       "      <td>False</td>\n",
       "      <td>False</td>\n",
       "      <td>False</td>\n",
       "      <td>0</td>\n",
       "    </tr>\n",
       "    <tr>\n",
       "      <th>144</th>\n",
       "      <td>av_vert</td>\n",
       "      <td>False</td>\n",
       "      <td>False</td>\n",
       "      <td>False</td>\n",
       "      <td>False</td>\n",
       "      <td>False</td>\n",
       "      <td>0</td>\n",
       "    </tr>\n",
       "    <tr>\n",
       "      <th>145</th>\n",
       "      <td>av_horiz</td>\n",
       "      <td>False</td>\n",
       "      <td>False</td>\n",
       "      <td>False</td>\n",
       "      <td>False</td>\n",
       "      <td>False</td>\n",
       "      <td>0</td>\n",
       "    </tr>\n",
       "    <tr>\n",
       "      <th>146</th>\n",
       "      <td>Horiz_acc</td>\n",
       "      <td>False</td>\n",
       "      <td>False</td>\n",
       "      <td>False</td>\n",
       "      <td>False</td>\n",
       "      <td>False</td>\n",
       "      <td>0</td>\n",
       "    </tr>\n",
       "  </tbody>\n",
       "</table>\n",
       "<p>147 rows × 7 columns</p>\n",
       "</div>"
      ],
      "text/plain": [
       "         Feature  Pearson    RFE  Regression  Random Forest  LightGBM  Total\n",
       "0       rms_vert     True  False        True           True      True      4\n",
       "1      rms_horiz     True  False        True           True      True      4\n",
       "2         av_sum     True  False        True           True      True      4\n",
       "3     Rtd sensor     True  False        True           True      True      4\n",
       "4        sd_vert     True  False        True          False      True      3\n",
       "..           ...      ...    ...         ...            ...       ...    ...\n",
       "142   clear_vert    False  False       False          False     False      0\n",
       "143  clear_horiz    False  False       False          False     False      0\n",
       "144      av_vert    False  False       False          False     False      0\n",
       "145     av_horiz    False  False       False          False     False      0\n",
       "146    Horiz_acc    False  False       False          False     False      0\n",
       "\n",
       "[147 rows x 7 columns]"
      ]
     },
     "execution_count": 186,
     "metadata": {},
     "output_type": "execute_result"
    }
   ],
   "source": [
    "imp_df1"
   ]
  },
  {
   "cell_type": "code",
   "execution_count": 188,
   "metadata": {},
   "outputs": [
    {
     "name": "stdout",
     "output_type": "stream",
     "text": [
      "vert_accel\n",
      "av_vert\n",
      "sd_vert\n",
      "peak_vert\n",
      "rms_vert\n",
      "skew_vert\n",
      "kurt_vert\n",
      "crest_vert\n",
      "clear_vert\n",
      "shape_vert\n",
      "imp_vert\n",
      "p2ph_vert\n",
      "p2pf_vert\n",
      "f8_vert\n",
      "f16_vert\n",
      "f24_vert\n",
      "f32_vert\n",
      "f40_vert\n",
      "f48_vert\n",
      "f56_vert\n",
      "f64_vert\n",
      "f72_vert\n",
      "f80_vert\n",
      "f88_vert\n",
      "f96_vert\n",
      "f104_vert\n",
      "f112_vert\n",
      "f120_vert\n",
      "f128_vert\n",
      "f136_vert\n",
      "f144_vert\n",
      "f152_vert\n",
      "f160_vert\n",
      "f168_vert\n",
      "f176_vert\n",
      "f184_vert\n",
      "f192_vert\n",
      "f200_vert\n",
      "f208_vert\n",
      "f216_vert\n",
      "f224_vert\n",
      "f232_vert\n",
      "f240_vert\n",
      "f248_vert\n",
      "f256_vert\n"
     ]
    }
   ],
   "source": [
    "for i in one_test.columns:\n",
    "    if \"vert\" in i:\n",
    "        print(i)"
   ]
  },
  {
   "cell_type": "code",
   "execution_count": 197,
   "metadata": {},
   "outputs": [
    {
     "data": {
      "text/html": [
       "<div>\n",
       "<style scoped>\n",
       "    .dataframe tbody tr th:only-of-type {\n",
       "        vertical-align: middle;\n",
       "    }\n",
       "\n",
       "    .dataframe tbody tr th {\n",
       "        vertical-align: top;\n",
       "    }\n",
       "\n",
       "    .dataframe thead th {\n",
       "        text-align: right;\n",
       "    }\n",
       "</style>\n",
       "<table border=\"1\" class=\"dataframe\">\n",
       "  <thead>\n",
       "    <tr style=\"text-align: right;\">\n",
       "      <th></th>\n",
       "      <th>Feature</th>\n",
       "      <th>Pearson</th>\n",
       "      <th>RFE</th>\n",
       "      <th>Regression</th>\n",
       "      <th>Random Forest</th>\n",
       "      <th>LightGBM</th>\n",
       "      <th>Total</th>\n",
       "    </tr>\n",
       "  </thead>\n",
       "  <tbody>\n",
       "    <tr>\n",
       "      <th>0</th>\n",
       "      <td>rms_vert</td>\n",
       "      <td>True</td>\n",
       "      <td>False</td>\n",
       "      <td>True</td>\n",
       "      <td>True</td>\n",
       "      <td>True</td>\n",
       "      <td>4</td>\n",
       "    </tr>\n",
       "    <tr>\n",
       "      <th>1</th>\n",
       "      <td>rms_horiz</td>\n",
       "      <td>True</td>\n",
       "      <td>False</td>\n",
       "      <td>True</td>\n",
       "      <td>True</td>\n",
       "      <td>True</td>\n",
       "      <td>4</td>\n",
       "    </tr>\n",
       "    <tr>\n",
       "      <th>2</th>\n",
       "      <td>av_sum</td>\n",
       "      <td>True</td>\n",
       "      <td>False</td>\n",
       "      <td>True</td>\n",
       "      <td>True</td>\n",
       "      <td>True</td>\n",
       "      <td>4</td>\n",
       "    </tr>\n",
       "    <tr>\n",
       "      <th>3</th>\n",
       "      <td>Rtd sensor</td>\n",
       "      <td>True</td>\n",
       "      <td>False</td>\n",
       "      <td>True</td>\n",
       "      <td>True</td>\n",
       "      <td>True</td>\n",
       "      <td>4</td>\n",
       "    </tr>\n",
       "    <tr>\n",
       "      <th>4</th>\n",
       "      <td>sd_vert</td>\n",
       "      <td>True</td>\n",
       "      <td>False</td>\n",
       "      <td>True</td>\n",
       "      <td>False</td>\n",
       "      <td>True</td>\n",
       "      <td>3</td>\n",
       "    </tr>\n",
       "    <tr>\n",
       "      <th>5</th>\n",
       "      <td>sd_temp</td>\n",
       "      <td>False</td>\n",
       "      <td>False</td>\n",
       "      <td>True</td>\n",
       "      <td>True</td>\n",
       "      <td>True</td>\n",
       "      <td>3</td>\n",
       "    </tr>\n",
       "    <tr>\n",
       "      <th>6</th>\n",
       "      <td>sd_horiz</td>\n",
       "      <td>True</td>\n",
       "      <td>False</td>\n",
       "      <td>True</td>\n",
       "      <td>False</td>\n",
       "      <td>True</td>\n",
       "      <td>3</td>\n",
       "    </tr>\n",
       "    <tr>\n",
       "      <th>7</th>\n",
       "      <td>rms_sum</td>\n",
       "      <td>True</td>\n",
       "      <td>False</td>\n",
       "      <td>False</td>\n",
       "      <td>True</td>\n",
       "      <td>True</td>\n",
       "      <td>3</td>\n",
       "    </tr>\n",
       "    <tr>\n",
       "      <th>8</th>\n",
       "      <td>peak_temp</td>\n",
       "      <td>True</td>\n",
       "      <td>False</td>\n",
       "      <td>False</td>\n",
       "      <td>True</td>\n",
       "      <td>True</td>\n",
       "      <td>3</td>\n",
       "    </tr>\n",
       "    <tr>\n",
       "      <th>9</th>\n",
       "      <td>f96_vert</td>\n",
       "      <td>True</td>\n",
       "      <td>True</td>\n",
       "      <td>True</td>\n",
       "      <td>False</td>\n",
       "      <td>False</td>\n",
       "      <td>3</td>\n",
       "    </tr>\n",
       "    <tr>\n",
       "      <th>10</th>\n",
       "      <td>f96_sum</td>\n",
       "      <td>True</td>\n",
       "      <td>True</td>\n",
       "      <td>True</td>\n",
       "      <td>False</td>\n",
       "      <td>False</td>\n",
       "      <td>3</td>\n",
       "    </tr>\n",
       "  </tbody>\n",
       "</table>\n",
       "</div>"
      ],
      "text/plain": [
       "       Feature  Pearson    RFE  Regression  Random Forest  LightGBM  Total\n",
       "0     rms_vert     True  False        True           True      True      4\n",
       "1    rms_horiz     True  False        True           True      True      4\n",
       "2       av_sum     True  False        True           True      True      4\n",
       "3   Rtd sensor     True  False        True           True      True      4\n",
       "4      sd_vert     True  False        True          False      True      3\n",
       "5      sd_temp    False  False        True           True      True      3\n",
       "6     sd_horiz     True  False        True          False      True      3\n",
       "7      rms_sum     True  False       False           True      True      3\n",
       "8    peak_temp     True  False       False           True      True      3\n",
       "9     f96_vert     True   True        True          False     False      3\n",
       "10     f96_sum     True   True        True          False     False      3"
      ]
     },
     "execution_count": 197,
     "metadata": {},
     "output_type": "execute_result"
    }
   ],
   "source": [
    "imp_df1.head(11)"
   ]
  },
  {
   "cell_type": "code",
   "execution_count": 198,
   "metadata": {},
   "outputs": [
    {
     "data": {
      "text/html": [
       "<div>\n",
       "<style scoped>\n",
       "    .dataframe tbody tr th:only-of-type {\n",
       "        vertical-align: middle;\n",
       "    }\n",
       "\n",
       "    .dataframe tbody tr th {\n",
       "        vertical-align: top;\n",
       "    }\n",
       "\n",
       "    .dataframe thead th {\n",
       "        text-align: right;\n",
       "    }\n",
       "</style>\n",
       "<table border=\"1\" class=\"dataframe\">\n",
       "  <thead>\n",
       "    <tr style=\"text-align: right;\">\n",
       "      <th></th>\n",
       "      <th>Feature</th>\n",
       "      <th>Pearson</th>\n",
       "      <th>RFE</th>\n",
       "      <th>Regression</th>\n",
       "      <th>Random Forest</th>\n",
       "      <th>LightGBM</th>\n",
       "      <th>Total</th>\n",
       "    </tr>\n",
       "  </thead>\n",
       "  <tbody>\n",
       "    <tr>\n",
       "      <th>0</th>\n",
       "      <td>sd_vert</td>\n",
       "      <td>True</td>\n",
       "      <td>True</td>\n",
       "      <td>True</td>\n",
       "      <td>True</td>\n",
       "      <td>True</td>\n",
       "      <td>5</td>\n",
       "    </tr>\n",
       "    <tr>\n",
       "      <th>1</th>\n",
       "      <td>rms_horiz</td>\n",
       "      <td>True</td>\n",
       "      <td>True</td>\n",
       "      <td>True</td>\n",
       "      <td>True</td>\n",
       "      <td>True</td>\n",
       "      <td>5</td>\n",
       "    </tr>\n",
       "    <tr>\n",
       "      <th>2</th>\n",
       "      <td>f16</td>\n",
       "      <td>True</td>\n",
       "      <td>True</td>\n",
       "      <td>True</td>\n",
       "      <td>True</td>\n",
       "      <td>True</td>\n",
       "      <td>5</td>\n",
       "    </tr>\n",
       "    <tr>\n",
       "      <th>3</th>\n",
       "      <td>av_sum</td>\n",
       "      <td>True</td>\n",
       "      <td>True</td>\n",
       "      <td>True</td>\n",
       "      <td>True</td>\n",
       "      <td>True</td>\n",
       "      <td>5</td>\n",
       "    </tr>\n",
       "    <tr>\n",
       "      <th>4</th>\n",
       "      <td>sd_temp</td>\n",
       "      <td>False</td>\n",
       "      <td>True</td>\n",
       "      <td>True</td>\n",
       "      <td>True</td>\n",
       "      <td>True</td>\n",
       "      <td>4</td>\n",
       "    </tr>\n",
       "    <tr>\n",
       "      <th>5</th>\n",
       "      <td>sd_sum</td>\n",
       "      <td>True</td>\n",
       "      <td>True</td>\n",
       "      <td>True</td>\n",
       "      <td>False</td>\n",
       "      <td>True</td>\n",
       "      <td>4</td>\n",
       "    </tr>\n",
       "    <tr>\n",
       "      <th>6</th>\n",
       "      <td>sd_horiz</td>\n",
       "      <td>True</td>\n",
       "      <td>True</td>\n",
       "      <td>True</td>\n",
       "      <td>False</td>\n",
       "      <td>True</td>\n",
       "      <td>4</td>\n",
       "    </tr>\n",
       "    <tr>\n",
       "      <th>7</th>\n",
       "      <td>rms_vert</td>\n",
       "      <td>True</td>\n",
       "      <td>True</td>\n",
       "      <td>False</td>\n",
       "      <td>True</td>\n",
       "      <td>True</td>\n",
       "      <td>4</td>\n",
       "    </tr>\n",
       "    <tr>\n",
       "      <th>8</th>\n",
       "      <td>rms_sum</td>\n",
       "      <td>True</td>\n",
       "      <td>True</td>\n",
       "      <td>True</td>\n",
       "      <td>False</td>\n",
       "      <td>True</td>\n",
       "      <td>4</td>\n",
       "    </tr>\n",
       "    <tr>\n",
       "      <th>9</th>\n",
       "      <td>peak_temp</td>\n",
       "      <td>True</td>\n",
       "      <td>True</td>\n",
       "      <td>False</td>\n",
       "      <td>True</td>\n",
       "      <td>True</td>\n",
       "      <td>4</td>\n",
       "    </tr>\n",
       "    <tr>\n",
       "      <th>10</th>\n",
       "      <td>peak_sum</td>\n",
       "      <td>True</td>\n",
       "      <td>True</td>\n",
       "      <td>True</td>\n",
       "      <td>False</td>\n",
       "      <td>True</td>\n",
       "      <td>4</td>\n",
       "    </tr>\n",
       "  </tbody>\n",
       "</table>\n",
       "</div>"
      ],
      "text/plain": [
       "      Feature  Pearson   RFE  Regression  Random Forest  LightGBM  Total\n",
       "0     sd_vert     True  True        True           True      True      5\n",
       "1   rms_horiz     True  True        True           True      True      5\n",
       "2         f16     True  True        True           True      True      5\n",
       "3      av_sum     True  True        True           True      True      5\n",
       "4     sd_temp    False  True        True           True      True      4\n",
       "5      sd_sum     True  True        True          False      True      4\n",
       "6    sd_horiz     True  True        True          False      True      4\n",
       "7    rms_vert     True  True       False           True      True      4\n",
       "8     rms_sum     True  True        True          False      True      4\n",
       "9   peak_temp     True  True       False           True      True      4\n",
       "10   peak_sum     True  True        True          False      True      4"
      ]
     },
     "execution_count": 198,
     "metadata": {},
     "output_type": "execute_result"
    }
   ],
   "source": [
    "imp_df2.head(11).drop([\"Unnamed: 0\"], axis=1)"
   ]
  },
  {
   "cell_type": "code",
   "execution_count": 199,
   "metadata": {},
   "outputs": [
    {
     "data": {
      "text/html": [
       "<div>\n",
       "<style scoped>\n",
       "    .dataframe tbody tr th:only-of-type {\n",
       "        vertical-align: middle;\n",
       "    }\n",
       "\n",
       "    .dataframe tbody tr th {\n",
       "        vertical-align: top;\n",
       "    }\n",
       "\n",
       "    .dataframe thead th {\n",
       "        text-align: right;\n",
       "    }\n",
       "</style>\n",
       "<table border=\"1\" class=\"dataframe\">\n",
       "  <thead>\n",
       "    <tr style=\"text-align: right;\">\n",
       "      <th></th>\n",
       "      <th>Feature</th>\n",
       "      <th>Pearson</th>\n",
       "      <th>RFE</th>\n",
       "      <th>Regression</th>\n",
       "      <th>Random Forest</th>\n",
       "      <th>LightGBM</th>\n",
       "      <th>Total</th>\n",
       "    </tr>\n",
       "  </thead>\n",
       "  <tbody>\n",
       "    <tr>\n",
       "      <th>0</th>\n",
       "      <td>peak_temp</td>\n",
       "      <td>True</td>\n",
       "      <td>True</td>\n",
       "      <td>True</td>\n",
       "      <td>True</td>\n",
       "      <td>True</td>\n",
       "      <td>5</td>\n",
       "    </tr>\n",
       "    <tr>\n",
       "      <th>1</th>\n",
       "      <td>av_sum</td>\n",
       "      <td>True</td>\n",
       "      <td>True</td>\n",
       "      <td>True</td>\n",
       "      <td>True</td>\n",
       "      <td>True</td>\n",
       "      <td>5</td>\n",
       "    </tr>\n",
       "    <tr>\n",
       "      <th>2</th>\n",
       "      <td>Rtd sensor</td>\n",
       "      <td>True</td>\n",
       "      <td>True</td>\n",
       "      <td>True</td>\n",
       "      <td>True</td>\n",
       "      <td>True</td>\n",
       "      <td>5</td>\n",
       "    </tr>\n",
       "    <tr>\n",
       "      <th>3</th>\n",
       "      <td>sd_vert</td>\n",
       "      <td>True</td>\n",
       "      <td>True</td>\n",
       "      <td>True</td>\n",
       "      <td>False</td>\n",
       "      <td>True</td>\n",
       "      <td>4</td>\n",
       "    </tr>\n",
       "    <tr>\n",
       "      <th>4</th>\n",
       "      <td>sd_temp</td>\n",
       "      <td>True</td>\n",
       "      <td>True</td>\n",
       "      <td>True</td>\n",
       "      <td>False</td>\n",
       "      <td>True</td>\n",
       "      <td>4</td>\n",
       "    </tr>\n",
       "    <tr>\n",
       "      <th>5</th>\n",
       "      <td>sd_sum</td>\n",
       "      <td>True</td>\n",
       "      <td>True</td>\n",
       "      <td>True</td>\n",
       "      <td>False</td>\n",
       "      <td>True</td>\n",
       "      <td>4</td>\n",
       "    </tr>\n",
       "    <tr>\n",
       "      <th>6</th>\n",
       "      <td>sd_horiz</td>\n",
       "      <td>True</td>\n",
       "      <td>True</td>\n",
       "      <td>True</td>\n",
       "      <td>False</td>\n",
       "      <td>True</td>\n",
       "      <td>4</td>\n",
       "    </tr>\n",
       "    <tr>\n",
       "      <th>7</th>\n",
       "      <td>rms_sum</td>\n",
       "      <td>True</td>\n",
       "      <td>True</td>\n",
       "      <td>True</td>\n",
       "      <td>False</td>\n",
       "      <td>True</td>\n",
       "      <td>4</td>\n",
       "    </tr>\n",
       "    <tr>\n",
       "      <th>8</th>\n",
       "      <td>rms_horiz</td>\n",
       "      <td>True</td>\n",
       "      <td>True</td>\n",
       "      <td>True</td>\n",
       "      <td>False</td>\n",
       "      <td>True</td>\n",
       "      <td>4</td>\n",
       "    </tr>\n",
       "    <tr>\n",
       "      <th>9</th>\n",
       "      <td>peak_sum</td>\n",
       "      <td>True</td>\n",
       "      <td>True</td>\n",
       "      <td>True</td>\n",
       "      <td>False</td>\n",
       "      <td>True</td>\n",
       "      <td>4</td>\n",
       "    </tr>\n",
       "    <tr>\n",
       "      <th>10</th>\n",
       "      <td>f8</td>\n",
       "      <td>True</td>\n",
       "      <td>True</td>\n",
       "      <td>True</td>\n",
       "      <td>False</td>\n",
       "      <td>True</td>\n",
       "      <td>4</td>\n",
       "    </tr>\n",
       "  </tbody>\n",
       "</table>\n",
       "</div>"
      ],
      "text/plain": [
       "       Feature  Pearson   RFE  Regression  Random Forest  LightGBM  Total\n",
       "0    peak_temp     True  True        True           True      True      5\n",
       "1       av_sum     True  True        True           True      True      5\n",
       "2   Rtd sensor     True  True        True           True      True      5\n",
       "3      sd_vert     True  True        True          False      True      4\n",
       "4      sd_temp     True  True        True          False      True      4\n",
       "5       sd_sum     True  True        True          False      True      4\n",
       "6     sd_horiz     True  True        True          False      True      4\n",
       "7      rms_sum     True  True        True          False      True      4\n",
       "8    rms_horiz     True  True        True          False      True      4\n",
       "9     peak_sum     True  True        True          False      True      4\n",
       "10          f8     True  True        True          False      True      4"
      ]
     },
     "execution_count": 199,
     "metadata": {},
     "output_type": "execute_result"
    }
   ],
   "source": [
    "imp_df3.head(11).drop([\"Unnamed: 0\"], axis=1)"
   ]
  },
  {
   "cell_type": "code",
   "execution_count": 115,
   "metadata": {},
   "outputs": [],
   "source": [
    "X_real_train = one_train.drop([\"index\",\"Unnamed: 0_x\",\"Unnamed: 0_y\",\"RUL_x\",\"RUL_y\",\"round_RUL\",\"id\",\"id_x\",\"id.1\",\"id.2\",\"time\",\"time_group\"], axis=1)\n",
    "X_real_test = one_test.drop([\"index\",\"Unnamed: 0_x\",\"Unnamed: 0_y\",\"RUL_x\",\"RUL_y\",\"round_RUL\",\"id\",\"id_x\",\"id.1\",\"id.2\",\"time\",\"time_group\"], axis=1)\n",
    "\n",
    "X_real_train = X_real_train[col_list]\n",
    "X_real_test = X_real_test[col_list]\n",
    "\n",
    "y_test_predict_all = lgb.predict(X_real_test)\n",
    "y_train_predict_all = lgb.predict(X_real_train)\n",
    "\n",
    "ans_train[\"class 2 predict\"] = y_train_predict_all\n",
    "ans_test[\"class 2 predict\"] = y_test_predict_all"
   ]
  },
  {
   "cell_type": "code",
   "execution_count": 116,
   "metadata": {},
   "outputs": [
    {
     "data": {
      "text/html": [
       "<div>\n",
       "<style scoped>\n",
       "    .dataframe tbody tr th:only-of-type {\n",
       "        vertical-align: middle;\n",
       "    }\n",
       "\n",
       "    .dataframe tbody tr th {\n",
       "        vertical-align: top;\n",
       "    }\n",
       "\n",
       "    .dataframe thead th {\n",
       "        text-align: right;\n",
       "    }\n",
       "</style>\n",
       "<table border=\"1\" class=\"dataframe\">\n",
       "  <thead>\n",
       "    <tr style=\"text-align: right;\">\n",
       "      <th></th>\n",
       "      <th>real group</th>\n",
       "      <th>pre_group(no time)</th>\n",
       "      <th>real_rul</th>\n",
       "      <th>time</th>\n",
       "      <th>setting</th>\n",
       "      <th>pre_group(time)</th>\n",
       "      <th>class 0 predict</th>\n",
       "      <th>class 1 predict</th>\n",
       "      <th>class 2 predict</th>\n",
       "    </tr>\n",
       "  </thead>\n",
       "  <tbody>\n",
       "    <tr>\n",
       "      <th>0</th>\n",
       "      <td>0.0</td>\n",
       "      <td>0.0</td>\n",
       "      <td>14160.09961</td>\n",
       "      <td>0.00000</td>\n",
       "      <td>1.0</td>\n",
       "      <td>0.0</td>\n",
       "      <td>21744.577238</td>\n",
       "      <td>8368.845487</td>\n",
       "      <td>3494.622087</td>\n",
       "    </tr>\n",
       "    <tr>\n",
       "      <th>1</th>\n",
       "      <td>0.0</td>\n",
       "      <td>0.0</td>\n",
       "      <td>14160.09922</td>\n",
       "      <td>0.00039</td>\n",
       "      <td>1.0</td>\n",
       "      <td>0.0</td>\n",
       "      <td>21744.577238</td>\n",
       "      <td>8368.845487</td>\n",
       "      <td>3494.622087</td>\n",
       "    </tr>\n",
       "    <tr>\n",
       "      <th>2</th>\n",
       "      <td>0.0</td>\n",
       "      <td>0.0</td>\n",
       "      <td>14160.09883</td>\n",
       "      <td>0.00078</td>\n",
       "      <td>1.0</td>\n",
       "      <td>0.0</td>\n",
       "      <td>21744.577238</td>\n",
       "      <td>8368.845487</td>\n",
       "      <td>3494.622087</td>\n",
       "    </tr>\n",
       "    <tr>\n",
       "      <th>3</th>\n",
       "      <td>0.0</td>\n",
       "      <td>0.0</td>\n",
       "      <td>14160.09844</td>\n",
       "      <td>0.00117</td>\n",
       "      <td>1.0</td>\n",
       "      <td>0.0</td>\n",
       "      <td>21744.577238</td>\n",
       "      <td>8368.845487</td>\n",
       "      <td>3494.622087</td>\n",
       "    </tr>\n",
       "    <tr>\n",
       "      <th>4</th>\n",
       "      <td>0.0</td>\n",
       "      <td>0.0</td>\n",
       "      <td>14160.09805</td>\n",
       "      <td>0.00156</td>\n",
       "      <td>1.0</td>\n",
       "      <td>0.0</td>\n",
       "      <td>21744.577238</td>\n",
       "      <td>8368.845487</td>\n",
       "      <td>3494.622087</td>\n",
       "    </tr>\n",
       "    <tr>\n",
       "      <th>...</th>\n",
       "      <td>...</td>\n",
       "      <td>...</td>\n",
       "      <td>...</td>\n",
       "      <td>...</td>\n",
       "      <td>...</td>\n",
       "      <td>...</td>\n",
       "      <td>...</td>\n",
       "      <td>...</td>\n",
       "      <td>...</td>\n",
       "    </tr>\n",
       "    <tr>\n",
       "      <th>3086068</th>\n",
       "      <td>2.0</td>\n",
       "      <td>2.0</td>\n",
       "      <td>0.00156</td>\n",
       "      <td>4270.09805</td>\n",
       "      <td>3.0</td>\n",
       "      <td>2.0</td>\n",
       "      <td>10988.347007</td>\n",
       "      <td>2381.123063</td>\n",
       "      <td>608.905119</td>\n",
       "    </tr>\n",
       "    <tr>\n",
       "      <th>3086069</th>\n",
       "      <td>2.0</td>\n",
       "      <td>2.0</td>\n",
       "      <td>0.00117</td>\n",
       "      <td>4270.09844</td>\n",
       "      <td>3.0</td>\n",
       "      <td>2.0</td>\n",
       "      <td>10988.347007</td>\n",
       "      <td>2381.123063</td>\n",
       "      <td>608.905119</td>\n",
       "    </tr>\n",
       "    <tr>\n",
       "      <th>3086070</th>\n",
       "      <td>2.0</td>\n",
       "      <td>2.0</td>\n",
       "      <td>0.00078</td>\n",
       "      <td>4270.09883</td>\n",
       "      <td>3.0</td>\n",
       "      <td>2.0</td>\n",
       "      <td>10988.347007</td>\n",
       "      <td>2381.123063</td>\n",
       "      <td>608.905119</td>\n",
       "    </tr>\n",
       "    <tr>\n",
       "      <th>3086071</th>\n",
       "      <td>2.0</td>\n",
       "      <td>2.0</td>\n",
       "      <td>0.00039</td>\n",
       "      <td>4270.09922</td>\n",
       "      <td>3.0</td>\n",
       "      <td>2.0</td>\n",
       "      <td>10988.347007</td>\n",
       "      <td>2381.123063</td>\n",
       "      <td>608.905119</td>\n",
       "    </tr>\n",
       "    <tr>\n",
       "      <th>3086072</th>\n",
       "      <td>2.0</td>\n",
       "      <td>2.0</td>\n",
       "      <td>0.00000</td>\n",
       "      <td>4270.09961</td>\n",
       "      <td>3.0</td>\n",
       "      <td>2.0</td>\n",
       "      <td>10988.347007</td>\n",
       "      <td>2381.123063</td>\n",
       "      <td>608.905119</td>\n",
       "    </tr>\n",
       "  </tbody>\n",
       "</table>\n",
       "<p>3086073 rows × 9 columns</p>\n",
       "</div>"
      ],
      "text/plain": [
       "         real group  pre_group(no time)     real_rul        time  setting  \\\n",
       "0               0.0                 0.0  14160.09961     0.00000      1.0   \n",
       "1               0.0                 0.0  14160.09922     0.00039      1.0   \n",
       "2               0.0                 0.0  14160.09883     0.00078      1.0   \n",
       "3               0.0                 0.0  14160.09844     0.00117      1.0   \n",
       "4               0.0                 0.0  14160.09805     0.00156      1.0   \n",
       "...             ...                 ...          ...         ...      ...   \n",
       "3086068         2.0                 2.0      0.00156  4270.09805      3.0   \n",
       "3086069         2.0                 2.0      0.00117  4270.09844      3.0   \n",
       "3086070         2.0                 2.0      0.00078  4270.09883      3.0   \n",
       "3086071         2.0                 2.0      0.00039  4270.09922      3.0   \n",
       "3086072         2.0                 2.0      0.00000  4270.09961      3.0   \n",
       "\n",
       "         pre_group(time)  class 0 predict  class 1 predict  class 2 predict  \n",
       "0                    0.0     21744.577238      8368.845487      3494.622087  \n",
       "1                    0.0     21744.577238      8368.845487      3494.622087  \n",
       "2                    0.0     21744.577238      8368.845487      3494.622087  \n",
       "3                    0.0     21744.577238      8368.845487      3494.622087  \n",
       "4                    0.0     21744.577238      8368.845487      3494.622087  \n",
       "...                  ...              ...              ...              ...  \n",
       "3086068              2.0     10988.347007      2381.123063       608.905119  \n",
       "3086069              2.0     10988.347007      2381.123063       608.905119  \n",
       "3086070              2.0     10988.347007      2381.123063       608.905119  \n",
       "3086071              2.0     10988.347007      2381.123063       608.905119  \n",
       "3086072              2.0     10988.347007      2381.123063       608.905119  \n",
       "\n",
       "[3086073 rows x 9 columns]"
      ]
     },
     "execution_count": 116,
     "metadata": {},
     "output_type": "execute_result"
    }
   ],
   "source": [
    "ans_train"
   ]
  },
  {
   "cell_type": "code",
   "execution_count": 117,
   "metadata": {},
   "outputs": [],
   "source": [
    "ans_train = ans_train.reset_index()\n",
    "ans_test = ans_test.reset_index()"
   ]
  },
  {
   "cell_type": "code",
   "execution_count": 118,
   "metadata": {},
   "outputs": [],
   "source": [
    "ans_train.loc[ans_train[\"pre_group(no time)\"]==0,\"final predict\"] = ans_train.loc[ans_train[\"pre_group(no time)\"]==0,\"class 0 predict\"]\n",
    "ans_train.loc[ans_train[\"pre_group(no time)\"]==1,\"final predict\"] = ans_train.loc[ans_train[\"pre_group(no time)\"]==1,\"class 1 predict\"]\n",
    "ans_train.loc[ans_train[\"pre_group(no time)\"]==2,\"final predict\"] = ans_train.loc[ans_train[\"pre_group(no time)\"]==2,\"class 2 predict\"]"
   ]
  },
  {
   "cell_type": "code",
   "execution_count": 138,
   "metadata": {},
   "outputs": [],
   "source": [
    "ans_test.loc[ans_test[\"pre_group(time)\"]==0,\"final predict\"] = ans_test.loc[ans_test[\"pre_group(no time)\"]==0,\"class 0 predict\"]\n",
    "ans_test.loc[ans_test[\"pre_group(time)\"]==1,\"final predict\"] = ans_test.loc[ans_test[\"pre_group(no time)\"]==1,\"class 1 predict\"]\n",
    "ans_test.loc[ans_test[\"pre_group(time)\"]==2,\"final predict\"] = ans_test.loc[ans_test[\"pre_group(no time)\"]==2,\"class 2 predict\"]"
   ]
  },
  {
   "cell_type": "code",
   "execution_count": 189,
   "metadata": {},
   "outputs": [
    {
     "data": {
      "text/html": [
       "<div>\n",
       "<style scoped>\n",
       "    .dataframe tbody tr th:only-of-type {\n",
       "        vertical-align: middle;\n",
       "    }\n",
       "\n",
       "    .dataframe tbody tr th {\n",
       "        vertical-align: top;\n",
       "    }\n",
       "\n",
       "    .dataframe thead th {\n",
       "        text-align: right;\n",
       "    }\n",
       "</style>\n",
       "<table border=\"1\" class=\"dataframe\">\n",
       "  <thead>\n",
       "    <tr style=\"text-align: right;\">\n",
       "      <th></th>\n",
       "      <th>index</th>\n",
       "      <th>real group</th>\n",
       "      <th>pre_group(no time)</th>\n",
       "      <th>real_rul</th>\n",
       "      <th>time</th>\n",
       "      <th>setting</th>\n",
       "      <th>pre_group(time)</th>\n",
       "      <th>class 0 predict</th>\n",
       "      <th>class 1 predict</th>\n",
       "      <th>class 2 predict</th>\n",
       "      <th>final predict</th>\n",
       "      <th>final predict(time)</th>\n",
       "      <th>all_predict</th>\n",
       "      <th>id</th>\n",
       "    </tr>\n",
       "  </thead>\n",
       "  <tbody>\n",
       "    <tr>\n",
       "      <th>0</th>\n",
       "      <td>0</td>\n",
       "      <td>0.0</td>\n",
       "      <td>0.0</td>\n",
       "      <td>14160.09961</td>\n",
       "      <td>0.00000</td>\n",
       "      <td>1.0</td>\n",
       "      <td>0.0</td>\n",
       "      <td>21744.577238</td>\n",
       "      <td>8368.845487</td>\n",
       "      <td>3494.622087</td>\n",
       "      <td>21744.577238</td>\n",
       "      <td>21744.577238</td>\n",
       "      <td>19796.128528</td>\n",
       "      <td>1.0</td>\n",
       "    </tr>\n",
       "    <tr>\n",
       "      <th>1</th>\n",
       "      <td>1</td>\n",
       "      <td>0.0</td>\n",
       "      <td>0.0</td>\n",
       "      <td>14160.09922</td>\n",
       "      <td>0.00039</td>\n",
       "      <td>1.0</td>\n",
       "      <td>0.0</td>\n",
       "      <td>21744.577238</td>\n",
       "      <td>8368.845487</td>\n",
       "      <td>3494.622087</td>\n",
       "      <td>21744.577238</td>\n",
       "      <td>21744.577238</td>\n",
       "      <td>19796.128528</td>\n",
       "      <td>1.0</td>\n",
       "    </tr>\n",
       "    <tr>\n",
       "      <th>2</th>\n",
       "      <td>2</td>\n",
       "      <td>0.0</td>\n",
       "      <td>0.0</td>\n",
       "      <td>14160.09883</td>\n",
       "      <td>0.00078</td>\n",
       "      <td>1.0</td>\n",
       "      <td>0.0</td>\n",
       "      <td>21744.577238</td>\n",
       "      <td>8368.845487</td>\n",
       "      <td>3494.622087</td>\n",
       "      <td>21744.577238</td>\n",
       "      <td>21744.577238</td>\n",
       "      <td>19796.128528</td>\n",
       "      <td>1.0</td>\n",
       "    </tr>\n",
       "    <tr>\n",
       "      <th>3</th>\n",
       "      <td>3</td>\n",
       "      <td>0.0</td>\n",
       "      <td>0.0</td>\n",
       "      <td>14160.09844</td>\n",
       "      <td>0.00117</td>\n",
       "      <td>1.0</td>\n",
       "      <td>0.0</td>\n",
       "      <td>21744.577238</td>\n",
       "      <td>8368.845487</td>\n",
       "      <td>3494.622087</td>\n",
       "      <td>21744.577238</td>\n",
       "      <td>21744.577238</td>\n",
       "      <td>19796.128528</td>\n",
       "      <td>1.0</td>\n",
       "    </tr>\n",
       "    <tr>\n",
       "      <th>4</th>\n",
       "      <td>4</td>\n",
       "      <td>0.0</td>\n",
       "      <td>0.0</td>\n",
       "      <td>14160.09805</td>\n",
       "      <td>0.00156</td>\n",
       "      <td>1.0</td>\n",
       "      <td>0.0</td>\n",
       "      <td>21744.577238</td>\n",
       "      <td>8368.845487</td>\n",
       "      <td>3494.622087</td>\n",
       "      <td>21744.577238</td>\n",
       "      <td>21744.577238</td>\n",
       "      <td>19796.128528</td>\n",
       "      <td>1.0</td>\n",
       "    </tr>\n",
       "    <tr>\n",
       "      <th>...</th>\n",
       "      <td>...</td>\n",
       "      <td>...</td>\n",
       "      <td>...</td>\n",
       "      <td>...</td>\n",
       "      <td>...</td>\n",
       "      <td>...</td>\n",
       "      <td>...</td>\n",
       "      <td>...</td>\n",
       "      <td>...</td>\n",
       "      <td>...</td>\n",
       "      <td>...</td>\n",
       "      <td>...</td>\n",
       "      <td>...</td>\n",
       "      <td>...</td>\n",
       "    </tr>\n",
       "    <tr>\n",
       "      <th>3086068</th>\n",
       "      <td>3086068</td>\n",
       "      <td>2.0</td>\n",
       "      <td>2.0</td>\n",
       "      <td>0.00156</td>\n",
       "      <td>4270.09805</td>\n",
       "      <td>3.0</td>\n",
       "      <td>2.0</td>\n",
       "      <td>10988.347007</td>\n",
       "      <td>2381.123063</td>\n",
       "      <td>608.905119</td>\n",
       "      <td>608.905119</td>\n",
       "      <td>608.905119</td>\n",
       "      <td>2538.636049</td>\n",
       "      <td>1.0</td>\n",
       "    </tr>\n",
       "    <tr>\n",
       "      <th>3086069</th>\n",
       "      <td>3086069</td>\n",
       "      <td>2.0</td>\n",
       "      <td>2.0</td>\n",
       "      <td>0.00117</td>\n",
       "      <td>4270.09844</td>\n",
       "      <td>3.0</td>\n",
       "      <td>2.0</td>\n",
       "      <td>10988.347007</td>\n",
       "      <td>2381.123063</td>\n",
       "      <td>608.905119</td>\n",
       "      <td>608.905119</td>\n",
       "      <td>608.905119</td>\n",
       "      <td>2538.636049</td>\n",
       "      <td>1.0</td>\n",
       "    </tr>\n",
       "    <tr>\n",
       "      <th>3086070</th>\n",
       "      <td>3086070</td>\n",
       "      <td>2.0</td>\n",
       "      <td>2.0</td>\n",
       "      <td>0.00078</td>\n",
       "      <td>4270.09883</td>\n",
       "      <td>3.0</td>\n",
       "      <td>2.0</td>\n",
       "      <td>10988.347007</td>\n",
       "      <td>2381.123063</td>\n",
       "      <td>608.905119</td>\n",
       "      <td>608.905119</td>\n",
       "      <td>608.905119</td>\n",
       "      <td>2538.636049</td>\n",
       "      <td>1.0</td>\n",
       "    </tr>\n",
       "    <tr>\n",
       "      <th>3086071</th>\n",
       "      <td>3086071</td>\n",
       "      <td>2.0</td>\n",
       "      <td>2.0</td>\n",
       "      <td>0.00039</td>\n",
       "      <td>4270.09922</td>\n",
       "      <td>3.0</td>\n",
       "      <td>2.0</td>\n",
       "      <td>10988.347007</td>\n",
       "      <td>2381.123063</td>\n",
       "      <td>608.905119</td>\n",
       "      <td>608.905119</td>\n",
       "      <td>608.905119</td>\n",
       "      <td>2538.636049</td>\n",
       "      <td>1.0</td>\n",
       "    </tr>\n",
       "    <tr>\n",
       "      <th>3086072</th>\n",
       "      <td>3086072</td>\n",
       "      <td>2.0</td>\n",
       "      <td>2.0</td>\n",
       "      <td>0.00000</td>\n",
       "      <td>4270.09961</td>\n",
       "      <td>3.0</td>\n",
       "      <td>2.0</td>\n",
       "      <td>10988.347007</td>\n",
       "      <td>2381.123063</td>\n",
       "      <td>608.905119</td>\n",
       "      <td>608.905119</td>\n",
       "      <td>608.905119</td>\n",
       "      <td>2538.636049</td>\n",
       "      <td>1.0</td>\n",
       "    </tr>\n",
       "  </tbody>\n",
       "</table>\n",
       "<p>3086073 rows × 14 columns</p>\n",
       "</div>"
      ],
      "text/plain": [
       "           index  real group  pre_group(no time)     real_rul        time  \\\n",
       "0              0         0.0                 0.0  14160.09961     0.00000   \n",
       "1              1         0.0                 0.0  14160.09922     0.00039   \n",
       "2              2         0.0                 0.0  14160.09883     0.00078   \n",
       "3              3         0.0                 0.0  14160.09844     0.00117   \n",
       "4              4         0.0                 0.0  14160.09805     0.00156   \n",
       "...          ...         ...                 ...          ...         ...   \n",
       "3086068  3086068         2.0                 2.0      0.00156  4270.09805   \n",
       "3086069  3086069         2.0                 2.0      0.00117  4270.09844   \n",
       "3086070  3086070         2.0                 2.0      0.00078  4270.09883   \n",
       "3086071  3086071         2.0                 2.0      0.00039  4270.09922   \n",
       "3086072  3086072         2.0                 2.0      0.00000  4270.09961   \n",
       "\n",
       "         setting  pre_group(time)  class 0 predict  class 1 predict  \\\n",
       "0            1.0              0.0     21744.577238      8368.845487   \n",
       "1            1.0              0.0     21744.577238      8368.845487   \n",
       "2            1.0              0.0     21744.577238      8368.845487   \n",
       "3            1.0              0.0     21744.577238      8368.845487   \n",
       "4            1.0              0.0     21744.577238      8368.845487   \n",
       "...          ...              ...              ...              ...   \n",
       "3086068      3.0              2.0     10988.347007      2381.123063   \n",
       "3086069      3.0              2.0     10988.347007      2381.123063   \n",
       "3086070      3.0              2.0     10988.347007      2381.123063   \n",
       "3086071      3.0              2.0     10988.347007      2381.123063   \n",
       "3086072      3.0              2.0     10988.347007      2381.123063   \n",
       "\n",
       "         class 2 predict  final predict  final predict(time)   all_predict  \\\n",
       "0            3494.622087   21744.577238         21744.577238  19796.128528   \n",
       "1            3494.622087   21744.577238         21744.577238  19796.128528   \n",
       "2            3494.622087   21744.577238         21744.577238  19796.128528   \n",
       "3            3494.622087   21744.577238         21744.577238  19796.128528   \n",
       "4            3494.622087   21744.577238         21744.577238  19796.128528   \n",
       "...                  ...            ...                  ...           ...   \n",
       "3086068       608.905119     608.905119           608.905119   2538.636049   \n",
       "3086069       608.905119     608.905119           608.905119   2538.636049   \n",
       "3086070       608.905119     608.905119           608.905119   2538.636049   \n",
       "3086071       608.905119     608.905119           608.905119   2538.636049   \n",
       "3086072       608.905119     608.905119           608.905119   2538.636049   \n",
       "\n",
       "          id  \n",
       "0        1.0  \n",
       "1        1.0  \n",
       "2        1.0  \n",
       "3        1.0  \n",
       "4        1.0  \n",
       "...      ...  \n",
       "3086068  1.0  \n",
       "3086069  1.0  \n",
       "3086070  1.0  \n",
       "3086071  1.0  \n",
       "3086072  1.0  \n",
       "\n",
       "[3086073 rows x 14 columns]"
      ]
     },
     "execution_count": 189,
     "metadata": {},
     "output_type": "execute_result"
    }
   ],
   "source": [
    "ans_train"
   ]
  },
  {
   "cell_type": "code",
   "execution_count": 136,
   "metadata": {},
   "outputs": [],
   "source": [
    "ans_train.loc[ans_train[\"pre_group(time)\"]==0,\"final predict(time)\"] = ans_train.loc[ans_train[\"pre_group(time)\"]==0,\"class 0 predict\"]\n",
    "ans_train.loc[ans_train[\"pre_group(time)\"]==1,\"final predict(time)\"] = ans_train.loc[ans_train[\"pre_group(time)\"]==1,\"class 1 predict\"]\n",
    "ans_train.loc[ans_train[\"pre_group(time)\"]==2,\"final predict(time)\"] = ans_train.loc[ans_train[\"pre_group(time)\"]==2,\"class 2 predict\"]"
   ]
  },
  {
   "cell_type": "code",
   "execution_count": 137,
   "metadata": {},
   "outputs": [],
   "source": [
    "ans_test.loc[ans_test[\"pre_group(time)\"]==0,\"final predict(time)\"] = ans_test.loc[ans_test[\"pre_group(time)\"]==0,\"class 0 predict\"]\n",
    "ans_test.loc[ans_test[\"pre_group(time)\"]==1,\"final predict(time)\"] = ans_test.loc[ans_test[\"pre_group(time)\"]==1,\"class 1 predict\"]\n",
    "ans_test.loc[ans_test[\"pre_group(time)\"]==2,\"final predict(time)\"] = ans_test.loc[ans_test[\"pre_group(time)\"]==2,\"class 2 predict\"]"
   ]
  },
  {
   "cell_type": "code",
   "execution_count": 123,
   "metadata": {},
   "outputs": [
    {
     "name": "stdout",
     "output_type": "stream",
     "text": [
      "MSE training: 22361511.219, MSE testing: 73191425.218\n",
      "RMSE training: 4728.796, RMSE testing: 8555.199\n",
      "MAE training: 2978.731, MAE testing: 6391.750\n"
     ]
    }
   ],
   "source": [
    "train_mse = mean_squared_error(ans_train[\"real_rul\"], ans_train[\"final predict\"])\n",
    "test_mse = mean_squared_error(ans_test[\"real_rul\"], ans_test[\"final predict\"])\n",
    "print('MSE training: %.3f, MSE testing: %.3f' % (\n",
    "      (train_mse), (test_mse)))\n",
    "print('RMSE training: %.3f, RMSE testing: %.3f' % (\n",
    "      (train_mse**0.5), (test_mse**0.5)))\n",
    "train_mape = mean_absolute_error(ans_train[\"real_rul\"], ans_train[\"final predict\"])\n",
    "test_mape = mean_absolute_error(ans_test[\"real_rul\"], ans_test[\"final predict\"])\n",
    "print('MAE training: %.3f, MAE testing: %.3f' % (\n",
    "      (train_mape), (test_mape)))"
   ]
  },
  {
   "cell_type": "code",
   "execution_count": 124,
   "metadata": {},
   "outputs": [
    {
     "name": "stdout",
     "output_type": "stream",
     "text": [
      "MSE training: 9949930.070, MSE testing: 82600848.849\n",
      "RMSE training: 3154.351, RMSE testing: 9088.501\n",
      "MAE training: 1863.206, MAE testing: 7454.049\n"
     ]
    }
   ],
   "source": [
    "train_mse = mean_squared_error(ans_train[\"real_rul\"], ans_train[\"final predict(time)\"])\n",
    "test_mse = mean_squared_error(ans_test[\"real_rul\"], ans_test[\"final predict(time)\"])\n",
    "print('MSE training: %.3f, MSE testing: %.3f' % (\n",
    "      (train_mse), (test_mse)))\n",
    "print('RMSE training: %.3f, RMSE testing: %.3f' % (\n",
    "      (train_mse**0.5), (test_mse**0.5)))\n",
    "train_mape = mean_absolute_error(ans_train[\"real_rul\"], ans_train[\"final predict(time)\"])\n",
    "test_mape = mean_absolute_error(ans_test[\"real_rul\"], ans_test[\"final predict(time)\"])\n",
    "print('MAE training: %.3f, MAE testing: %.3f' % (\n",
    "      (train_mape), (test_mape)))"
   ]
  },
  {
   "cell_type": "code",
   "execution_count": 125,
   "metadata": {},
   "outputs": [
    {
     "data": {
      "text/plain": [
       "Index(['rms_vert', 'rms_horiz', 'av_sum', 'Rtd sensor', 'sd_vert', 'sd_temp',\n",
       "       'sd_horiz', 'rms_sum', 'peak_temp', 'f96_vert', 'f96_sum', 'f40_vert',\n",
       "       'f32_vert', 'f16_vert', 'f16_sum', 'av_temp', 'skew_temp', 'shape_sum',\n",
       "       'sd_sum', 'rms_temp', 'peak_vert', 'peak_sum', 'kurt_temp', 'kurt_sum',\n",
       "       'f8_vert', 'f88_sum', 'f80_vert', 'f80_sum', 'f8', 'f72_vert',\n",
       "       'f72_sum', 'f56_vert', 'f56_sum', 'f40_sum', 'f32_sum', 'f24_vert',\n",
       "       'f24', 'f192_vert', 'f192_sum', 'f184_vert', 'f184_sum', 'f168_vert',\n",
       "       'f160_vert', 'f160_sum', 'f16', 'f144_vert', 'f120_vert', 'f120_sum',\n",
       "       'f112_vert', 'f104_vert', 'f104_sum', 'clear_temp', 'f80', 'f48', 'f40',\n",
       "       'f96', 'f88_vert', 'f72', 'f56', 'f32', 'f184', 'f168', 'f120', 'f112',\n",
       "       'f104', 'crest_sum', 'imp_temp', 'imp_sum', 'f88', 'f240', 'f216',\n",
       "       'f208', 'f160', 'f136_vert', 'f136_sum', 'f136', 'f112_sum',\n",
       "       'crest_temp', 'clear_sum', 'f8_sum', 'f64', 'f48_vert', 'f144', 'f128',\n",
       "       'av_horiz'],\n",
       "      dtype='object')"
      ]
     },
     "execution_count": 125,
     "metadata": {},
     "output_type": "execute_result"
    }
   ],
   "source": [
    "X_train = one_train.drop([\"index\",\"Unnamed: 0_x\",\"Unnamed: 0_y\",\"RUL_x\",\"RUL_y\",\"round_RUL\",\"id\",\"id_x\",\"id.1\",\"id.2\",\"time_group\"], axis=1)\n",
    "X_test = one_test.drop([\"index\",\"Unnamed: 0_x\",\"Unnamed: 0_y\",\"RUL_x\",\"RUL_y\",\"round_RUL\",\"id\",\"id_x\",\"id.1\",\"id.2\",\"time_group\"], axis=1)\n",
    "y_train = one_train[\"RUL_x\"]\n",
    "y_test = one_test[\"RUL_x\"]\n",
    "\n",
    "X_train = X_train[col_list]\n",
    "X_test = X_test[col_list]\n",
    "\n",
    "X_train.columns"
   ]
  },
  {
   "cell_type": "code",
   "execution_count": 126,
   "metadata": {},
   "outputs": [
    {
     "name": "stdout",
     "output_type": "stream",
     "text": [
      "MSE training: 18106442.025, MSE testing: 71175874.355\n",
      "RMSE training: 4255.167, RMSE testing: 8436.580\n",
      "MAE training: 3393.569, MAE testing: 6823.746\n"
     ]
    }
   ],
   "source": [
    "lgb = LGBMRegressor(n_estimators=20,n_jobs=- 1,reg_lambda=0.5)\n",
    "lgb.fit(X_train, y_train)\n",
    "\n",
    "y_test_predict = lgb.predict(X_test)\n",
    "y_train_predict = lgb.predict(X_train)\n",
    "\n",
    "train_mse = mean_squared_error(y_train, y_train_predict)\n",
    "test_mse = mean_squared_error(y_test, y_test_predict)\n",
    "print('MSE training: %.3f, MSE testing: %.3f' % (\n",
    "      (train_mse), (test_mse)))\n",
    "print('RMSE training: %.3f, RMSE testing: %.3f' % (\n",
    "      (train_mse**0.5), (test_mse**0.5)))\n",
    "train_mape = mean_absolute_error(y_train, y_train_predict)\n",
    "test_mape = mean_absolute_error(y_test, y_test_predict)\n",
    "print('MAE training: %.3f, MAE testing: %.3f' % (\n",
    "      (train_mape), (test_mape)))"
   ]
  },
  {
   "cell_type": "code",
   "execution_count": 129,
   "metadata": {},
   "outputs": [],
   "source": [
    "ans_train[\"all_predict\"] = y_train_predict\n",
    "ans_test[\"all_predict\"] = y_test_predict"
   ]
  },
  {
   "cell_type": "code",
   "execution_count": 145,
   "metadata": {},
   "outputs": [],
   "source": [
    "ans_train[\"id\"] = one_train[\"id\"].values\n",
    "ans_test[\"id\"] = one_test[\"id\"].values"
   ]
  },
  {
   "cell_type": "code",
   "execution_count": 154,
   "metadata": {},
   "outputs": [
    {
     "data": {
      "text/html": [
       "<div>\n",
       "<style scoped>\n",
       "    .dataframe tbody tr th:only-of-type {\n",
       "        vertical-align: middle;\n",
       "    }\n",
       "\n",
       "    .dataframe tbody tr th {\n",
       "        vertical-align: top;\n",
       "    }\n",
       "\n",
       "    .dataframe thead th {\n",
       "        text-align: right;\n",
       "    }\n",
       "</style>\n",
       "<table border=\"1\" class=\"dataframe\">\n",
       "  <thead>\n",
       "    <tr style=\"text-align: right;\">\n",
       "      <th></th>\n",
       "      <th></th>\n",
       "      <th>real_rul</th>\n",
       "      <th>real_rul_hr</th>\n",
       "    </tr>\n",
       "    <tr>\n",
       "      <th>setting</th>\n",
       "      <th>id</th>\n",
       "      <th></th>\n",
       "      <th></th>\n",
       "    </tr>\n",
       "  </thead>\n",
       "  <tbody>\n",
       "    <tr>\n",
       "      <th rowspan=\"4\" valign=\"top\">1.0</th>\n",
       "      <th>1.0</th>\n",
       "      <td>14160.099610</td>\n",
       "      <td>3.93</td>\n",
       "    </tr>\n",
       "    <tr>\n",
       "      <th>2.0</th>\n",
       "      <td>24570.099610</td>\n",
       "      <td>6.83</td>\n",
       "    </tr>\n",
       "    <tr>\n",
       "      <th>3.0</th>\n",
       "      <td>24420.099610</td>\n",
       "      <td>6.78</td>\n",
       "    </tr>\n",
       "    <tr>\n",
       "      <th>4.0</th>\n",
       "      <td>22520.099609</td>\n",
       "      <td>6.26</td>\n",
       "    </tr>\n",
       "    <tr>\n",
       "      <th rowspan=\"2\" valign=\"top\">2.0</th>\n",
       "      <th>1.0</th>\n",
       "      <td>7440.099610</td>\n",
       "      <td>2.07</td>\n",
       "    </tr>\n",
       "    <tr>\n",
       "      <th>2.0</th>\n",
       "      <td>23100.099220</td>\n",
       "      <td>6.42</td>\n",
       "    </tr>\n",
       "    <tr>\n",
       "      <th>3.0</th>\n",
       "      <th>1.0</th>\n",
       "      <td>4270.099610</td>\n",
       "      <td>1.19</td>\n",
       "    </tr>\n",
       "  </tbody>\n",
       "</table>\n",
       "</div>"
      ],
      "text/plain": [
       "                 real_rul  real_rul_hr\n",
       "setting id                            \n",
       "1.0     1.0  14160.099610         3.93\n",
       "        2.0  24570.099610         6.83\n",
       "        3.0  24420.099610         6.78\n",
       "        4.0  22520.099609         6.26\n",
       "2.0     1.0   7440.099610         2.07\n",
       "        2.0  23100.099220         6.42\n",
       "3.0     1.0   4270.099610         1.19"
      ]
     },
     "execution_count": 154,
     "metadata": {},
     "output_type": "execute_result"
    }
   ],
   "source": [
    "rul_train = pd.DataFrame(ans_train.groupby(['setting',\"id\"]).max()[\"real_rul\"])\n",
    "rul_train[\"real_rul_hr\"] = round(rul_train[\"real_rul\"] / 3600,2)\n",
    "rul_train"
   ]
  },
  {
   "cell_type": "code",
   "execution_count": 153,
   "metadata": {},
   "outputs": [
    {
     "data": {
      "text/html": [
       "<div>\n",
       "<style scoped>\n",
       "    .dataframe tbody tr th:only-of-type {\n",
       "        vertical-align: middle;\n",
       "    }\n",
       "\n",
       "    .dataframe tbody tr th {\n",
       "        vertical-align: top;\n",
       "    }\n",
       "\n",
       "    .dataframe thead th {\n",
       "        text-align: right;\n",
       "    }\n",
       "</style>\n",
       "<table border=\"1\" class=\"dataframe\">\n",
       "  <thead>\n",
       "    <tr style=\"text-align: right;\">\n",
       "      <th></th>\n",
       "      <th></th>\n",
       "      <th>real_rul</th>\n",
       "      <th>real_rul_hr</th>\n",
       "    </tr>\n",
       "    <tr>\n",
       "      <th>setting</th>\n",
       "      <th>id</th>\n",
       "      <th></th>\n",
       "      <th></th>\n",
       "    </tr>\n",
       "  </thead>\n",
       "  <tbody>\n",
       "    <tr>\n",
       "      <th rowspan=\"2\" valign=\"top\">1.0</th>\n",
       "      <th>1.0</th>\n",
       "      <td>27950.099605</td>\n",
       "      <td>7.76</td>\n",
       "    </tr>\n",
       "    <tr>\n",
       "      <th>2.0</th>\n",
       "      <td>8630.099610</td>\n",
       "      <td>2.40</td>\n",
       "    </tr>\n",
       "    <tr>\n",
       "      <th>2.0</th>\n",
       "      <th>1.0</th>\n",
       "      <td>9000.099610</td>\n",
       "      <td>2.50</td>\n",
       "    </tr>\n",
       "    <tr>\n",
       "      <th>3.0</th>\n",
       "      <th>1.0</th>\n",
       "      <td>5140.099220</td>\n",
       "      <td>1.43</td>\n",
       "    </tr>\n",
       "  </tbody>\n",
       "</table>\n",
       "</div>"
      ],
      "text/plain": [
       "                 real_rul  real_rul_hr\n",
       "setting id                            \n",
       "1.0     1.0  27950.099605         7.76\n",
       "        2.0   8630.099610         2.40\n",
       "2.0     1.0   9000.099610         2.50\n",
       "3.0     1.0   5140.099220         1.43"
      ]
     },
     "execution_count": 153,
     "metadata": {},
     "output_type": "execute_result"
    }
   ],
   "source": [
    "rul_test = pd.DataFrame(ans_test.groupby(['setting',\"id\"]).max()[\"real_rul\"])\n",
    "rul_test[\"real_rul_hr\"] = round(rul_test[\"real_rul\"] / 3600 ,2)\n",
    "rul_test"
   ]
  },
  {
   "cell_type": "code",
   "execution_count": 155,
   "metadata": {},
   "outputs": [
    {
     "data": {
      "text/plain": [
       "3086073"
      ]
     },
     "execution_count": 155,
     "metadata": {},
     "output_type": "execute_result"
    }
   ],
   "source": [
    "len(ans_train)"
   ]
  },
  {
   "cell_type": "code",
   "execution_count": 156,
   "metadata": {},
   "outputs": [
    {
     "data": {
      "text/plain": [
       "1298941"
      ]
     },
     "execution_count": 156,
     "metadata": {},
     "output_type": "execute_result"
    }
   ],
   "source": [
    "len(ans_test)"
   ]
  },
  {
   "cell_type": "code",
   "execution_count": 143,
   "metadata": {},
   "outputs": [
    {
     "data": {
      "text/html": [
       "<div>\n",
       "<style scoped>\n",
       "    .dataframe tbody tr th:only-of-type {\n",
       "        vertical-align: middle;\n",
       "    }\n",
       "\n",
       "    .dataframe tbody tr th {\n",
       "        vertical-align: top;\n",
       "    }\n",
       "\n",
       "    .dataframe thead th {\n",
       "        text-align: right;\n",
       "    }\n",
       "</style>\n",
       "<table border=\"1\" class=\"dataframe\">\n",
       "  <thead>\n",
       "    <tr style=\"text-align: right;\">\n",
       "      <th></th>\n",
       "      <th>index</th>\n",
       "      <th>real group</th>\n",
       "      <th>pre_group(no time)</th>\n",
       "      <th>real_rul</th>\n",
       "      <th>time</th>\n",
       "      <th>setting</th>\n",
       "      <th>pre_group(time)</th>\n",
       "      <th>class 0 predict</th>\n",
       "      <th>class 1 predict</th>\n",
       "      <th>class 2 predict</th>\n",
       "      <th>final predict</th>\n",
       "      <th>final predict(time)</th>\n",
       "      <th>all_predict</th>\n",
       "    </tr>\n",
       "  </thead>\n",
       "  <tbody>\n",
       "    <tr>\n",
       "      <th>0</th>\n",
       "      <td>0</td>\n",
       "      <td>0.0</td>\n",
       "      <td>0.0</td>\n",
       "      <td>14160.09961</td>\n",
       "      <td>0.00000</td>\n",
       "      <td>1.0</td>\n",
       "      <td>0.0</td>\n",
       "      <td>21744.577238</td>\n",
       "      <td>8368.845487</td>\n",
       "      <td>3494.622087</td>\n",
       "      <td>21744.577238</td>\n",
       "      <td>21744.577238</td>\n",
       "      <td>19796.128528</td>\n",
       "    </tr>\n",
       "    <tr>\n",
       "      <th>1</th>\n",
       "      <td>1</td>\n",
       "      <td>0.0</td>\n",
       "      <td>0.0</td>\n",
       "      <td>14160.09922</td>\n",
       "      <td>0.00039</td>\n",
       "      <td>1.0</td>\n",
       "      <td>0.0</td>\n",
       "      <td>21744.577238</td>\n",
       "      <td>8368.845487</td>\n",
       "      <td>3494.622087</td>\n",
       "      <td>21744.577238</td>\n",
       "      <td>21744.577238</td>\n",
       "      <td>19796.128528</td>\n",
       "    </tr>\n",
       "    <tr>\n",
       "      <th>2</th>\n",
       "      <td>2</td>\n",
       "      <td>0.0</td>\n",
       "      <td>0.0</td>\n",
       "      <td>14160.09883</td>\n",
       "      <td>0.00078</td>\n",
       "      <td>1.0</td>\n",
       "      <td>0.0</td>\n",
       "      <td>21744.577238</td>\n",
       "      <td>8368.845487</td>\n",
       "      <td>3494.622087</td>\n",
       "      <td>21744.577238</td>\n",
       "      <td>21744.577238</td>\n",
       "      <td>19796.128528</td>\n",
       "    </tr>\n",
       "    <tr>\n",
       "      <th>3</th>\n",
       "      <td>3</td>\n",
       "      <td>0.0</td>\n",
       "      <td>0.0</td>\n",
       "      <td>14160.09844</td>\n",
       "      <td>0.00117</td>\n",
       "      <td>1.0</td>\n",
       "      <td>0.0</td>\n",
       "      <td>21744.577238</td>\n",
       "      <td>8368.845487</td>\n",
       "      <td>3494.622087</td>\n",
       "      <td>21744.577238</td>\n",
       "      <td>21744.577238</td>\n",
       "      <td>19796.128528</td>\n",
       "    </tr>\n",
       "    <tr>\n",
       "      <th>4</th>\n",
       "      <td>4</td>\n",
       "      <td>0.0</td>\n",
       "      <td>0.0</td>\n",
       "      <td>14160.09805</td>\n",
       "      <td>0.00156</td>\n",
       "      <td>1.0</td>\n",
       "      <td>0.0</td>\n",
       "      <td>21744.577238</td>\n",
       "      <td>8368.845487</td>\n",
       "      <td>3494.622087</td>\n",
       "      <td>21744.577238</td>\n",
       "      <td>21744.577238</td>\n",
       "      <td>19796.128528</td>\n",
       "    </tr>\n",
       "    <tr>\n",
       "      <th>...</th>\n",
       "      <td>...</td>\n",
       "      <td>...</td>\n",
       "      <td>...</td>\n",
       "      <td>...</td>\n",
       "      <td>...</td>\n",
       "      <td>...</td>\n",
       "      <td>...</td>\n",
       "      <td>...</td>\n",
       "      <td>...</td>\n",
       "      <td>...</td>\n",
       "      <td>...</td>\n",
       "      <td>...</td>\n",
       "      <td>...</td>\n",
       "    </tr>\n",
       "    <tr>\n",
       "      <th>3086068</th>\n",
       "      <td>3086068</td>\n",
       "      <td>2.0</td>\n",
       "      <td>2.0</td>\n",
       "      <td>0.00156</td>\n",
       "      <td>4270.09805</td>\n",
       "      <td>3.0</td>\n",
       "      <td>2.0</td>\n",
       "      <td>10988.347007</td>\n",
       "      <td>2381.123063</td>\n",
       "      <td>608.905119</td>\n",
       "      <td>608.905119</td>\n",
       "      <td>608.905119</td>\n",
       "      <td>2538.636049</td>\n",
       "    </tr>\n",
       "    <tr>\n",
       "      <th>3086069</th>\n",
       "      <td>3086069</td>\n",
       "      <td>2.0</td>\n",
       "      <td>2.0</td>\n",
       "      <td>0.00117</td>\n",
       "      <td>4270.09844</td>\n",
       "      <td>3.0</td>\n",
       "      <td>2.0</td>\n",
       "      <td>10988.347007</td>\n",
       "      <td>2381.123063</td>\n",
       "      <td>608.905119</td>\n",
       "      <td>608.905119</td>\n",
       "      <td>608.905119</td>\n",
       "      <td>2538.636049</td>\n",
       "    </tr>\n",
       "    <tr>\n",
       "      <th>3086070</th>\n",
       "      <td>3086070</td>\n",
       "      <td>2.0</td>\n",
       "      <td>2.0</td>\n",
       "      <td>0.00078</td>\n",
       "      <td>4270.09883</td>\n",
       "      <td>3.0</td>\n",
       "      <td>2.0</td>\n",
       "      <td>10988.347007</td>\n",
       "      <td>2381.123063</td>\n",
       "      <td>608.905119</td>\n",
       "      <td>608.905119</td>\n",
       "      <td>608.905119</td>\n",
       "      <td>2538.636049</td>\n",
       "    </tr>\n",
       "    <tr>\n",
       "      <th>3086071</th>\n",
       "      <td>3086071</td>\n",
       "      <td>2.0</td>\n",
       "      <td>2.0</td>\n",
       "      <td>0.00039</td>\n",
       "      <td>4270.09922</td>\n",
       "      <td>3.0</td>\n",
       "      <td>2.0</td>\n",
       "      <td>10988.347007</td>\n",
       "      <td>2381.123063</td>\n",
       "      <td>608.905119</td>\n",
       "      <td>608.905119</td>\n",
       "      <td>608.905119</td>\n",
       "      <td>2538.636049</td>\n",
       "    </tr>\n",
       "    <tr>\n",
       "      <th>3086072</th>\n",
       "      <td>3086072</td>\n",
       "      <td>2.0</td>\n",
       "      <td>2.0</td>\n",
       "      <td>0.00000</td>\n",
       "      <td>4270.09961</td>\n",
       "      <td>3.0</td>\n",
       "      <td>2.0</td>\n",
       "      <td>10988.347007</td>\n",
       "      <td>2381.123063</td>\n",
       "      <td>608.905119</td>\n",
       "      <td>608.905119</td>\n",
       "      <td>608.905119</td>\n",
       "      <td>2538.636049</td>\n",
       "    </tr>\n",
       "  </tbody>\n",
       "</table>\n",
       "<p>3086073 rows × 13 columns</p>\n",
       "</div>"
      ],
      "text/plain": [
       "           index  real group  pre_group(no time)     real_rul        time  \\\n",
       "0              0         0.0                 0.0  14160.09961     0.00000   \n",
       "1              1         0.0                 0.0  14160.09922     0.00039   \n",
       "2              2         0.0                 0.0  14160.09883     0.00078   \n",
       "3              3         0.0                 0.0  14160.09844     0.00117   \n",
       "4              4         0.0                 0.0  14160.09805     0.00156   \n",
       "...          ...         ...                 ...          ...         ...   \n",
       "3086068  3086068         2.0                 2.0      0.00156  4270.09805   \n",
       "3086069  3086069         2.0                 2.0      0.00117  4270.09844   \n",
       "3086070  3086070         2.0                 2.0      0.00078  4270.09883   \n",
       "3086071  3086071         2.0                 2.0      0.00039  4270.09922   \n",
       "3086072  3086072         2.0                 2.0      0.00000  4270.09961   \n",
       "\n",
       "         setting  pre_group(time)  class 0 predict  class 1 predict  \\\n",
       "0            1.0              0.0     21744.577238      8368.845487   \n",
       "1            1.0              0.0     21744.577238      8368.845487   \n",
       "2            1.0              0.0     21744.577238      8368.845487   \n",
       "3            1.0              0.0     21744.577238      8368.845487   \n",
       "4            1.0              0.0     21744.577238      8368.845487   \n",
       "...          ...              ...              ...              ...   \n",
       "3086068      3.0              2.0     10988.347007      2381.123063   \n",
       "3086069      3.0              2.0     10988.347007      2381.123063   \n",
       "3086070      3.0              2.0     10988.347007      2381.123063   \n",
       "3086071      3.0              2.0     10988.347007      2381.123063   \n",
       "3086072      3.0              2.0     10988.347007      2381.123063   \n",
       "\n",
       "         class 2 predict  final predict  final predict(time)   all_predict  \n",
       "0            3494.622087   21744.577238         21744.577238  19796.128528  \n",
       "1            3494.622087   21744.577238         21744.577238  19796.128528  \n",
       "2            3494.622087   21744.577238         21744.577238  19796.128528  \n",
       "3            3494.622087   21744.577238         21744.577238  19796.128528  \n",
       "4            3494.622087   21744.577238         21744.577238  19796.128528  \n",
       "...                  ...            ...                  ...           ...  \n",
       "3086068       608.905119     608.905119           608.905119   2538.636049  \n",
       "3086069       608.905119     608.905119           608.905119   2538.636049  \n",
       "3086070       608.905119     608.905119           608.905119   2538.636049  \n",
       "3086071       608.905119     608.905119           608.905119   2538.636049  \n",
       "3086072       608.905119     608.905119           608.905119   2538.636049  \n",
       "\n",
       "[3086073 rows x 13 columns]"
      ]
     },
     "execution_count": 143,
     "metadata": {},
     "output_type": "execute_result"
    }
   ],
   "source": [
    "ans_train[\"real_rul\"]"
   ]
  },
  {
   "cell_type": "code",
   "execution_count": 132,
   "metadata": {},
   "outputs": [
    {
     "name": "stdout",
     "output_type": "stream",
     "text": [
      "MSE training: 19733894.855, MSE testing: 81877031.185\n",
      "RMSE training: 4442.285, RMSE testing: 9048.593\n",
      "MAE training: 2664.808, MAE testing: 6790.384\n"
     ]
    }
   ],
   "source": [
    "train_mse = mean_squared_error(ans_train[ans_train[\"setting\"]==1][\"real_rul\"], ans_train[ans_train[\"setting\"]==1][\"final predict\"])\n",
    "test_mse = mean_squared_error(ans_test[ans_test[\"setting\"]==1][\"real_rul\"], ans_test[ans_test[\"setting\"]==1][\"final predict\"])\n",
    "print('MSE training: %.3f, MSE testing: %.3f' % (\n",
    "      (train_mse), (test_mse)))\n",
    "print('RMSE training: %.3f, RMSE testing: %.3f' % (\n",
    "      (train_mse**0.5), (test_mse**0.5)))\n",
    "train_mape = mean_absolute_error(ans_train[ans_train[\"setting\"]==1][\"real_rul\"], ans_train[ans_train[\"setting\"]==1][\"final predict\"])\n",
    "test_mape = mean_absolute_error(ans_test[ans_test[\"setting\"]==1][\"real_rul\"], ans_test[ans_test[\"setting\"]==1][\"final predict\"])\n",
    "print('MAE training: %.3f, MAE testing: %.3f' % (\n",
    "      (train_mape), (test_mape)))"
   ]
  },
  {
   "cell_type": "code",
   "execution_count": 133,
   "metadata": {},
   "outputs": [
    {
     "name": "stdout",
     "output_type": "stream",
     "text": [
      "MSE training: 29225119.740, MSE testing: 55382681.082\n",
      "RMSE training: 5406.026, RMSE testing: 7441.954\n",
      "MAE training: 3800.457, MAE testing: 5803.921\n"
     ]
    }
   ],
   "source": [
    "train_mse = mean_squared_error(ans_train[ans_train[\"setting\"]==2][\"real_rul\"], ans_train[ans_train[\"setting\"]==2][\"final predict\"])\n",
    "test_mse = mean_squared_error(ans_test[ans_test[\"setting\"]==2][\"real_rul\"], ans_test[ans_test[\"setting\"]==2][\"final predict\"])\n",
    "print('MSE training: %.3f, MSE testing: %.3f' % (\n",
    "      (train_mse), (test_mse)))\n",
    "print('RMSE training: %.3f, RMSE testing: %.3f' % (\n",
    "      (train_mse**0.5), (test_mse**0.5)))\n",
    "train_mape = mean_absolute_error(ans_train[ans_train[\"setting\"]==2][\"real_rul\"], ans_train[ans_train[\"setting\"]==2][\"final predict\"])\n",
    "test_mape = mean_absolute_error(ans_test[ans_test[\"setting\"]==2][\"real_rul\"], ans_test[ans_test[\"setting\"]==2][\"final predict\"])\n",
    "print('MAE training: %.3f, MAE testing: %.3f' % (\n",
    "      (train_mape), (test_mape)))"
   ]
  },
  {
   "cell_type": "code",
   "execution_count": 134,
   "metadata": {},
   "outputs": [
    {
     "name": "stdout",
     "output_type": "stream",
     "text": [
      "MSE training: 25974274.803, MSE testing: 42654584.829\n",
      "RMSE training: 5096.496, RMSE testing: 6531.048\n",
      "MAE training: 3398.030, MAE testing: 4588.675\n"
     ]
    }
   ],
   "source": [
    "train_mse = mean_squared_error(ans_train[ans_train[\"setting\"]==3][\"real_rul\"], ans_train[ans_train[\"setting\"]==3][\"final predict\"])\n",
    "test_mse = mean_squared_error(ans_test[ans_test[\"setting\"]==3][\"real_rul\"], ans_test[ans_test[\"setting\"]==3][\"final predict\"])\n",
    "print('MSE training: %.3f, MSE testing: %.3f' % (\n",
    "      (train_mse), (test_mse)))\n",
    "print('RMSE training: %.3f, RMSE testing: %.3f' % (\n",
    "      (train_mse**0.5), (test_mse**0.5)))\n",
    "train_mape = mean_absolute_error(ans_train[ans_train[\"setting\"]==3][\"real_rul\"], ans_train[ans_train[\"setting\"]==3][\"final predict\"])\n",
    "test_mape = mean_absolute_error(ans_test[ans_test[\"setting\"]==3][\"real_rul\"], ans_test[ans_test[\"setting\"]==3][\"final predict\"])\n",
    "print('MAE training: %.3f, MAE testing: %.3f' % (\n",
    "      (train_mape), (test_mape)))"
   ]
  },
  {
   "cell_type": "code",
   "execution_count": null,
   "metadata": {},
   "outputs": [],
   "source": []
  },
  {
   "cell_type": "code",
   "execution_count": 140,
   "metadata": {},
   "outputs": [
    {
     "name": "stdout",
     "output_type": "stream",
     "text": [
      "MSE training: 4682547.256, MSE testing: 91617890.192\n",
      "RMSE training: 2163.919, RMSE testing: 9571.723\n",
      "MAE training: 1392.753, MAE testing: 7992.105\n"
     ]
    }
   ],
   "source": [
    "train_mse = mean_squared_error(ans_train[ans_train[\"setting\"]==1][\"real_rul\"], ans_train[ans_train[\"setting\"]==1][\"final predict(time)\"])\n",
    "test_mse = mean_squared_error(ans_test[ans_test[\"setting\"]==1][\"real_rul\"], ans_test[ans_test[\"setting\"]==1][\"final predict(time)\"])\n",
    "print('MSE training: %.3f, MSE testing: %.3f' % (\n",
    "      (train_mse), (test_mse)))\n",
    "print('RMSE training: %.3f, RMSE testing: %.3f' % (\n",
    "      (train_mse**0.5), (test_mse**0.5)))\n",
    "train_mape = mean_absolute_error(ans_train[ans_train[\"setting\"]==1][\"real_rul\"], ans_train[ans_train[\"setting\"]==1][\"final predict(time)\"])\n",
    "test_mape = mean_absolute_error(ans_test[ans_test[\"setting\"]==1][\"real_rul\"], ans_test[ans_test[\"setting\"]==1][\"final predict(time)\"])\n",
    "print('MAE training: %.3f, MAE testing: %.3f' % (\n",
    "      (train_mape), (test_mape)))"
   ]
  },
  {
   "cell_type": "code",
   "execution_count": 141,
   "metadata": {},
   "outputs": [
    {
     "name": "stdout",
     "output_type": "stream",
     "text": [
      "MSE training: 20919498.435, MSE testing: 59301590.659\n",
      "RMSE training: 4573.784, RMSE testing: 7700.753\n",
      "MAE training: 2815.143, MAE testing: 6103.827\n"
     ]
    }
   ],
   "source": [
    "train_mse = mean_squared_error(ans_train[ans_train[\"setting\"]==2][\"real_rul\"], ans_train[ans_train[\"setting\"]==2][\"final predict(time)\"])\n",
    "test_mse = mean_squared_error(ans_test[ans_test[\"setting\"]==2][\"real_rul\"], ans_test[ans_test[\"setting\"]==2][\"final predict(time)\"])\n",
    "print('MSE training: %.3f, MSE testing: %.3f' % (\n",
    "      (train_mse), (test_mse)))\n",
    "print('RMSE training: %.3f, RMSE testing: %.3f' % (\n",
    "      (train_mse**0.5), (test_mse**0.5)))\n",
    "train_mape = mean_absolute_error(ans_train[ans_train[\"setting\"]==2][\"real_rul\"], ans_train[ans_train[\"setting\"]==2][\"final predict(time)\"])\n",
    "test_mape = mean_absolute_error(ans_test[ans_test[\"setting\"]==2][\"real_rul\"], ans_test[ans_test[\"setting\"]==2][\"final predict(time)\"])\n",
    "print('MAE training: %.3f, MAE testing: %.3f' % (\n",
    "      (train_mape), (test_mape)))"
   ]
  },
  {
   "cell_type": "code",
   "execution_count": 142,
   "metadata": {},
   "outputs": [
    {
     "name": "stdout",
     "output_type": "stream",
     "text": [
      "MSE training: 37108747.110, MSE testing: 59315698.758\n",
      "RMSE training: 6091.695, RMSE testing: 7701.669\n",
      "MAE training: 4487.398, MAE testing: 5994.505\n"
     ]
    }
   ],
   "source": [
    "train_mse = mean_squared_error(ans_train[ans_train[\"setting\"]==3][\"real_rul\"], ans_train[ans_train[\"setting\"]==3][\"final predict(time)\"])\n",
    "test_mse = mean_squared_error(ans_test[ans_test[\"setting\"]==3][\"real_rul\"], ans_test[ans_test[\"setting\"]==3][\"final predict(time)\"])\n",
    "print('MSE training: %.3f, MSE testing: %.3f' % (\n",
    "      (train_mse), (test_mse)))\n",
    "print('RMSE training: %.3f, RMSE testing: %.3f' % (\n",
    "      (train_mse**0.5), (test_mse**0.5)))\n",
    "train_mape = mean_absolute_error(ans_train[ans_train[\"setting\"]==3][\"real_rul\"], ans_train[ans_train[\"setting\"]==3][\"final predict(time)\"])\n",
    "test_mape = mean_absolute_error(ans_test[ans_test[\"setting\"]==3][\"real_rul\"], ans_test[ans_test[\"setting\"]==3][\"final predict(time)\"])\n",
    "print('MAE training: %.3f, MAE testing: %.3f' % (\n",
    "      (train_mape), (test_mape)))"
   ]
  },
  {
   "cell_type": "code",
   "execution_count": 127,
   "metadata": {},
   "outputs": [
    {
     "data": {
      "image/png": "[encoded data removed]",
      "text/plain": [
       "<Figure size 576x720 with 1 Axes>"
      ]
     },
     "metadata": {
      "needs_background": "light"
     },
     "output_type": "display_data"
    }
   ],
   "source": [
    "plot_features_weights('LGBMRegressor',rf.feature_importances_, X_train.columns)"
   ]
  },
  {
   "cell_type": "code",
   "execution_count": null,
   "metadata": {},
   "outputs": [],
   "source": []
  },
  {
   "cell_type": "code",
   "execution_count": 49,
   "metadata": {},
   "outputs": [],
   "source": [
    "ans_df = pd.DataFrame(y_train)"
   ]
  },
  {
   "cell_type": "code",
   "execution_count": 50,
   "metadata": {},
   "outputs": [],
   "source": [
    "ans_df[\"rf_predict\"] = y_train_predict"
   ]
  },
  {
   "cell_type": "code",
   "execution_count": 67,
   "metadata": {},
   "outputs": [
    {
     "name": "stdout",
     "output_type": "stream",
     "text": [
      "MAE training: 4385.278, MAE testing: 5756.707\n"
     ]
    }
   ],
   "source": [
    "\n",
    "train_mape = mean_absolute_error(y_train, y_train_predict)\n",
    "test_mape = mean_absolute_error(y_test, y_test_predict)\n",
    "print('MAE training: %.3f, MAE testing: %.3f' % (\n",
    "      (train_mape), (test_mape)))"
   ]
  },
  {
   "cell_type": "code",
   "execution_count": 73,
   "metadata": {},
   "outputs": [
    {
     "name": "stdout",
     "output_type": "stream",
     "text": [
      "MAE training: 1040.631, MAE testing: 5756.707\n"
     ]
    }
   ],
   "source": [
    "y_train = ans_df[ans_df[\"RUL\"]<500][\"RUL\"]\n",
    "y_train_predict = ans_df[ans_df[\"RUL\"]<500][\"rf_predict\"]\n",
    "train_mape = mean_absolute_error(y_train, y_train_predict)\n",
    "test_mape = mean_absolute_error(y_test, y_test_predict)\n",
    "print('MAE training: %.3f, MAE testing: %.3f' % (\n",
    "      (train_mape), (test_mape)))"
   ]
  },
  {
   "cell_type": "code",
   "execution_count": 63,
   "metadata": {},
   "outputs": [
    {
     "name": "stdout",
     "output_type": "stream",
     "text": [
      "MAE training: 3904.573, MAE testing: 5756.707\n"
     ]
    }
   ],
   "source": [
    "y_train = ans_df[ans_df[\"RUL\"]<10000][\"RUL\"]\n",
    "y_train_predict = ans_df[ans_df[\"RUL\"]<10000][\"rf_predict\"]\n",
    "train_mape = mean_absolute_error(y_train, y_train_predict)\n",
    "test_mape = mean_absolute_error(y_test, y_test_predict)\n",
    "print('MAE training: %.3f, MAE testing: %.3f' % (\n",
    "      (train_mape), (test_mape)))"
   ]
  },
  {
   "cell_type": "code",
   "execution_count": 68,
   "metadata": {},
   "outputs": [
    {
     "name": "stdout",
     "output_type": "stream",
     "text": [
      "MAE training: 4883.032, MAE testing: 5756.707\n"
     ]
    }
   ],
   "source": [
    "y_train = ans_df[ans_df[\"RUL\"]>10000][\"RUL\"]\n",
    "y_train_predict = ans_df[ans_df[\"RUL\"]>10000][\"rf_predict\"]\n",
    "train_mape = mean_absolute_error(y_train, y_train_predict)\n",
    "test_mape = mean_absolute_error(y_test, y_test_predict)\n",
    "print('MAE training: %.3f, MAE testing: %.3f' % (\n",
    "      (train_mape), (test_mape)))"
   ]
  },
  {
   "cell_type": "code",
   "execution_count": 61,
   "metadata": {},
   "outputs": [
    {
     "data": {
      "text/html": [
       "<div>\n",
       "<style scoped>\n",
       "    .dataframe tbody tr th:only-of-type {\n",
       "        vertical-align: middle;\n",
       "    }\n",
       "\n",
       "    .dataframe tbody tr th {\n",
       "        vertical-align: top;\n",
       "    }\n",
       "\n",
       "    .dataframe thead th {\n",
       "        text-align: right;\n",
       "    }\n",
       "</style>\n",
       "<table border=\"1\" class=\"dataframe\">\n",
       "  <thead>\n",
       "    <tr style=\"text-align: right;\">\n",
       "      <th></th>\n",
       "      <th>RUL</th>\n",
       "      <th>rf_predict</th>\n",
       "    </tr>\n",
       "  </thead>\n",
       "  <tbody>\n",
       "    <tr>\n",
       "      <th>0</th>\n",
       "      <td>28020.099605</td>\n",
       "      <td>15356.027831</td>\n",
       "    </tr>\n",
       "    <tr>\n",
       "      <th>1</th>\n",
       "      <td>28020.099214</td>\n",
       "      <td>15176.099507</td>\n",
       "    </tr>\n",
       "    <tr>\n",
       "      <th>2</th>\n",
       "      <td>28020.098824</td>\n",
       "      <td>16848.654019</td>\n",
       "    </tr>\n",
       "    <tr>\n",
       "      <th>3</th>\n",
       "      <td>28020.098433</td>\n",
       "      <td>16848.654019</td>\n",
       "    </tr>\n",
       "    <tr>\n",
       "      <th>4</th>\n",
       "      <td>28020.098042</td>\n",
       "      <td>15657.801022</td>\n",
       "    </tr>\n",
       "    <tr>\n",
       "      <th>...</th>\n",
       "      <td>...</td>\n",
       "      <td>...</td>\n",
       "    </tr>\n",
       "    <tr>\n",
       "      <th>543227</th>\n",
       "      <td>28072.201560</td>\n",
       "      <td>7309.972206</td>\n",
       "    </tr>\n",
       "    <tr>\n",
       "      <th>543228</th>\n",
       "      <td>28072.201170</td>\n",
       "      <td>7266.249676</td>\n",
       "    </tr>\n",
       "    <tr>\n",
       "      <th>543229</th>\n",
       "      <td>28072.200780</td>\n",
       "      <td>6636.463772</td>\n",
       "    </tr>\n",
       "    <tr>\n",
       "      <th>543230</th>\n",
       "      <td>28072.200390</td>\n",
       "      <td>6423.953280</td>\n",
       "    </tr>\n",
       "    <tr>\n",
       "      <th>543231</th>\n",
       "      <td>28072.200000</td>\n",
       "      <td>6423.953280</td>\n",
       "    </tr>\n",
       "  </tbody>\n",
       "</table>\n",
       "<p>462078 rows × 2 columns</p>\n",
       "</div>"
      ],
      "text/plain": [
       "                 RUL    rf_predict\n",
       "0       28020.099605  15356.027831\n",
       "1       28020.099214  15176.099507\n",
       "2       28020.098824  16848.654019\n",
       "3       28020.098433  16848.654019\n",
       "4       28020.098042  15657.801022\n",
       "...              ...           ...\n",
       "543227  28072.201560   7309.972206\n",
       "543228  28072.201170   7266.249676\n",
       "543229  28072.200780   6636.463772\n",
       "543230  28072.200390   6423.953280\n",
       "543231  28072.200000   6423.953280\n",
       "\n",
       "[462078 rows x 2 columns]"
      ]
     },
     "execution_count": 61,
     "metadata": {},
     "output_type": "execute_result"
    }
   ],
   "source": [
    "ans_df[ans_df[\"RUL\"]>10000]"
   ]
  },
  {
   "cell_type": "code",
   "execution_count": 60,
   "metadata": {},
   "outputs": [
    {
     "data": {
      "text/plain": [
       "<matplotlib.collections.PathCollection at 0x28d87eb20b8>"
      ]
     },
     "execution_count": 60,
     "metadata": {},
     "output_type": "execute_result"
    },
    {
     "data": {
      "image/png": "[encoded data removed]",
      "text/plain": [
       "<Figure size 432x288 with 1 Axes>"
      ]
     },
     "metadata": {
      "needs_background": "light"
     },
     "output_type": "display_data"
    }
   ],
   "source": [
    "plt.scatter(ans_df.index,ans_df[\"RUL\"])"
   ]
  },
  {
   "cell_type": "code",
   "execution_count": 58,
   "metadata": {},
   "outputs": [
    {
     "data": {
      "image/png": "[encoded data removed]",
      "text/plain": [
       "<Figure size 576x720 with 1 Axes>"
      ]
     },
     "metadata": {
      "needs_background": "light"
     },
     "output_type": "display_data"
    }
   ],
   "source": [
    "plot_features_weights('Random Forest Regressor', rf.feature_importances_, X_train.columns)"
   ]
  },
  {
   "cell_type": "code",
   "execution_count": 46,
   "metadata": {},
   "outputs": [
    {
     "data": {
      "image/png": "[encoded data removed]",
      "text/plain": [
       "<Figure size 1440x720 with 1 Axes>"
      ]
     },
     "metadata": {
      "needs_background": "light"
     },
     "output_type": "display_data"
    }
   ],
   "source": [
    "plot_residual('Random Forest Regressor',y_train, y_train_predict, y_test, y_test_predict)"
   ]
  },
  {
   "cell_type": "code",
   "execution_count": 150,
   "metadata": {},
   "outputs": [
    {
     "data": {
      "text/plain": [
       "0         28020.099605\n",
       "1         28020.099214\n",
       "2         28020.098824\n",
       "3         28020.098433\n",
       "4         28020.098042\n",
       "              ...     \n",
       "940538        0.001560\n",
       "940539        0.001170\n",
       "940540        0.000780\n",
       "940541        0.000390\n",
       "940542        0.000000\n",
       "Name: RUL, Length: 940543, dtype: float64"
      ]
     },
     "execution_count": 150,
     "metadata": {},
     "output_type": "execute_result"
    }
   ],
   "source": [
    "y_train"
   ]
  },
  {
   "cell_type": "code",
   "execution_count": 149,
   "metadata": {},
   "outputs": [
    {
     "data": {
      "text/plain": [
       "array([15090.69924777, 14191.4132257 , 16939.07715585, ...,\n",
       "         183.10801738,   183.10801738,   183.10801738])"
      ]
     },
     "execution_count": 149,
     "metadata": {},
     "output_type": "execute_result"
    }
   ],
   "source": [
    "y_train_predict "
   ]
  },
  {
   "cell_type": "code",
   "execution_count": 182,
   "metadata": {},
   "outputs": [
    {
     "data": {
      "text/plain": [
       "(3086073, 160)"
      ]
     },
     "execution_count": 182,
     "metadata": {},
     "output_type": "execute_result"
    }
   ],
   "source": [
    "one_train.shape"
   ]
  },
  {
   "cell_type": "code",
   "execution_count": null,
   "metadata": {},
   "outputs": [],
   "source": [
    "mean_absolute_percentage_error"
   ]
  },
  {
   "cell_type": "code",
   "execution_count": 36,
   "metadata": {},
   "outputs": [
    {
     "data": {
      "text/plain": [
       "False"
      ]
     },
     "execution_count": 36,
     "metadata": {},
     "output_type": "execute_result"
    }
   ],
   "source": [
    "X_train.isnull().values.any()"
   ]
  },
  {
   "cell_type": "code",
   "execution_count": 75,
   "metadata": {},
   "outputs": [
    {
     "data": {
      "text/plain": [
       "<matplotlib.axes._subplots.AxesSubplot at 0x259a354bcf8>"
      ]
     },
     "execution_count": 75,
     "metadata": {},
     "output_type": "execute_result"
    },
    {
     "data": {
      "image/png": "[encoded data removed]",
      "text/plain": [
       "<Figure size 792x648 with 2 Axes>"
      ]
     },
     "metadata": {
      "needs_background": "light"
     },
     "output_type": "display_data"
    }
   ],
   "source": [
    "# 計算相關係數\n",
    "corr = one_train.corr()\n",
    "mask = np.triu(np.ones_like(corr, dtype=np.bool))\n",
    "f, ax = plt.subplots(figsize=(11, 9))\n",
    "cmap = sns.diverging_palette(220, 10, as_cmap=True)\n",
    "sns.heatmap(corr, mask=mask, cmap=cmap, vmax=.3, center=0,\n",
    "            square=True, linewidths=.5, cbar_kws={\"shrink\": .5})"
   ]
  },
  {
   "cell_type": "code",
   "execution_count": 90,
   "metadata": {},
   "outputs": [
    {
     "data": {
      "text/plain": [
       "<matplotlib.axes._subplots.AxesSubplot at 0x259a2f02eb8>"
      ]
     },
     "execution_count": 90,
     "metadata": {},
     "output_type": "execute_result"
    },
    {
     "data": {
      "image/png": "[encoded data removed]",
      "text/plain": [
       "<Figure size 720x2880 with 2 Axes>"
      ]
     },
     "metadata": {
      "needs_background": "light"
     },
     "output_type": "display_data"
    }
   ],
   "source": [
    "plt.figure(figsize=(10,40))\n",
    "cmap = sns.diverging_palette(220, 10, as_cmap=True)\n",
    "sns.heatmap(pd.DataFrame(corr[\"RUL\"].sort_values(ascending=False)), cmap=cmap, vmax=.3, center=0,\n",
    "            square=True, linewidths=.5, cbar_kws={\"shrink\": .5})"
   ]
  },
  {
   "cell_type": "code",
   "execution_count": 93,
   "metadata": {},
   "outputs": [
    {
     "data": {
      "text/plain": [
       "<matplotlib.collections.PathCollection at 0x259a3062b00>"
      ]
     },
     "execution_count": 93,
     "metadata": {},
     "output_type": "execute_result"
    },
    {
     "data": {
      "image/png": "[encoded data removed]",
      "text/plain": [
       "<Figure size 432x288 with 1 Axes>"
      ]
     },
     "metadata": {
      "needs_background": "light"
     },
     "output_type": "display_data"
    }
   ],
   "source": [
    "plt.scatter(one_train[\"RUL\"],one_train[\"p2ph_vert\"])"
   ]
  },
  {
   "cell_type": "code",
   "execution_count": 94,
   "metadata": {},
   "outputs": [
    {
     "data": {
      "text/plain": [
       "<matplotlib.collections.PathCollection at 0x259a6ec5400>"
      ]
     },
     "execution_count": 94,
     "metadata": {},
     "output_type": "execute_result"
    },
    {
     "data": {
      "image/png": "[encoded data removed]",
      "text/plain": [
       "<Figure size 432x288 with 1 Axes>"
      ]
     },
     "metadata": {
      "needs_background": "light"
     },
     "output_type": "display_data"
    }
   ],
   "source": [
    "plt.scatter(one_train[\"RUL\"],one_train[\"av_sum\"])"
   ]
  }
 ],
 "metadata": {
  "kernelspec": {
   "display_name": "Python 3",
   "language": "python",
   "name": "python3"
  },
  "language_info": {
   "codemirror_mode": {
    "name": "ipython",
    "version": 3
   },
   "file_extension": ".py",
   "mimetype": "text/x-python",
   "name": "python",
   "nbconvert_exporter": "python",
   "pygments_lexer": "ipython3",
   "version": "3.6.10"
  }
 },
 "nbformat": 4,
 "nbformat_minor": 4
}
