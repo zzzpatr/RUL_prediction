{
 "cells": [
  {
   "cell_type": "code",
   "execution_count": 65,
   "metadata": {},
   "outputs": [],
   "source": [
    "import pandas as pd\n",
    "import os\n",
    "import glob"
   ]
  },
  {
   "cell_type": "code",
   "execution_count": 66,
   "metadata": {},
   "outputs": [],
   "source": [
    "all_list = glob.glob(\"Learning_set/Bearing1_1/*.csv\")"
   ]
  },
  {
   "cell_type": "code",
   "execution_count": 70,
   "metadata": {},
   "outputs": [],
   "source": [
    "all_temp_list = glob.glob(\"*.csv\")"
   ]
  },
  {
   "cell_type": "code",
   "execution_count": 71,
   "metadata": {},
   "outputs": [
    {
     "data": {
      "text/plain": [
       "['1-1_acc_df.csv',\n",
       " '1-1_temp_df.csv',\n",
       " '1-2_acc_df.csv',\n",
       " '1_3_acc_df(test).csv',\n",
       " '1_4_acc_df(test).csv',\n",
       " '1_4_temp_df(test).csv',\n",
       " '1_5_acc_df(test).csv',\n",
       " '1_5_temp_df(test).csv',\n",
       " '1_6_acc_df(test).csv',\n",
       " '1_6_temp_df(test).csv',\n",
       " '1_7_acc_df(test).csv',\n",
       " '1_7_temp_df(test).csv',\n",
       " '2-1_acc_df.csv',\n",
       " '2-2_acc_df.csv',\n",
       " '2_3_acc_df(test).csv',\n",
       " '2_4_acc_df(test).csv',\n",
       " '2_4_temp_df(test).csv',\n",
       " '2_5_acc_df(test).csv',\n",
       " '2_5_temp_df(test).csv',\n",
       " '2_6_acc_df(test).csv',\n",
       " '2_6_temp_df(test).csv',\n",
       " '2_7_acc_df(test).csv',\n",
       " '2_7_temp_df(test).csv',\n",
       " '3_1_acc_df.csv',\n",
       " '3_2_acc_df.csv',\n",
       " '3_3_acc_df(test).csv',\n",
       " '3_3_temp_df(test).csv',\n",
       " 'fe_1-1_acc.csv',\n",
       " 'fe_1-2_acc.csv',\n",
       " 'fe_temp_1_1.csv']"
      ]
     },
     "execution_count": 71,
     "metadata": {},
     "output_type": "execute_result"
    }
   ],
   "source": [
    "all_temp_list"
   ]
  },
  {
   "cell_type": "code",
   "execution_count": 67,
   "metadata": {},
   "outputs": [],
   "source": [
    "all_list = glob.glob(\"*.csv\")"
   ]
  },
  {
   "cell_type": "code",
   "execution_count": 73,
   "metadata": {},
   "outputs": [
    {
     "name": "stdout",
     "output_type": "stream",
     "text": [
      "1-1_temp_df.csv\n",
      "1_4_temp_df(test).csv\n",
      "1_5_temp_df(test).csv\n",
      "1_6_temp_df(test).csv\n",
      "1_7_temp_df(test).csv\n",
      "2_4_temp_df(test).csv\n",
      "2_5_temp_df(test).csv\n",
      "2_6_temp_df(test).csv\n",
      "2_7_temp_df(test).csv\n",
      "3_3_temp_df(test).csv\n",
      "fe_temp_1_1.csv\n"
     ]
    }
   ],
   "source": [
    "for i in all_temp_list:\n",
    "    if \"temp\" in i:\n",
    "        print(i)"
   ]
  },
  {
   "cell_type": "code",
   "execution_count": null,
   "metadata": {},
   "outputs": [],
   "source": [
    "for i in all_temp_list:\n",
    "    if \"acc\" in i :\n",
    "        test_acc = pd.read_csv(i)\n",
    "        test_acc = test_acc.loc[np.arange(9,len(test_acc),10)]\n",
    "        test_acc[\"sum_acc\"] = (test_acc[\"Horiz_acc\"]**2 + test_acc[\"vert_accel\"]**2)**0.5\n",
    "        test_acc = test_acc[[\"Horiz_acc\",\"vert_accel\",\"sum_acc\"]]\n",
    "        test_acc[\"id\"] = 1\n",
    "        test_acc_out1 = add_features_acch(test_acc[[\"Horiz_acc\",\"id\"]],26)\n",
    "        print(\"----\",i,\"step 1 feature enginnering ok!----\")\n",
    "        test_acc_out2 = add_features_accv(test_acc[[\"vert_accel\",\"id\"]],26)\n",
    "        print(\"----\",i,\"step 2 feature enginnering ok!----\")\n",
    "        test_acc_out3 = add_features_accs(test_acc[[\"sum_acc\",\"id\"]],26)\n",
    "        print(\"----\",i,\"step 3 feature enginnering ok!----\")\n",
    "        test_acc_out = pd.concat([test_acc_out1, test_acc_out2, test_acc_out3], axis=1)\n",
    "        test_acc_out.to_csv(\"fe_\"+i[0:3]+\"_acc.csv\")\n",
    "        print(\"----\",i,\"all feature enginnering ok!----\")"
   ]
  },
  {
   "cell_type": "code",
   "execution_count": 49,
   "metadata": {},
   "outputs": [],
   "source": [
    "index = 1\n",
    "all_df = pd.DataFrame()\n",
    "for i in all_list:\n",
    "    acc_one = pd.read_csv(i,header=None)\n",
    "    acc_one[\"id\"] = index\n",
    "    acc_one.columns = [\"Hour\",\"Minute\",\"second\",\"u-Second\",\"Horiz_acc\",\"vert_accel\",\"id\"]\n",
    "    index += 1\n",
    "    all_df = pd.concat([all_df, acc_one],axis=0)"
   ]
  },
  {
   "cell_type": "code",
   "execution_count": 52,
   "metadata": {},
   "outputs": [
    {
     "data": {
      "text/html": [
       "<div>\n",
       "<style scoped>\n",
       "    .dataframe tbody tr th:only-of-type {\n",
       "        vertical-align: middle;\n",
       "    }\n",
       "\n",
       "    .dataframe tbody tr th {\n",
       "        vertical-align: top;\n",
       "    }\n",
       "\n",
       "    .dataframe thead th {\n",
       "        text-align: right;\n",
       "    }\n",
       "</style>\n",
       "<table border=\"1\" class=\"dataframe\">\n",
       "  <thead>\n",
       "    <tr style=\"text-align: right;\">\n",
       "      <th></th>\n",
       "      <th>Hour</th>\n",
       "      <th>Minute</th>\n",
       "      <th>second</th>\n",
       "      <th>u-Second</th>\n",
       "      <th>Horiz_acc</th>\n",
       "      <th>vert_accel</th>\n",
       "      <th>id</th>\n",
       "    </tr>\n",
       "  </thead>\n",
       "  <tbody>\n",
       "    <tr>\n",
       "      <th>0</th>\n",
       "      <td>9</td>\n",
       "      <td>39</td>\n",
       "      <td>39</td>\n",
       "      <td>65664.0</td>\n",
       "      <td>0.552</td>\n",
       "      <td>-0.146</td>\n",
       "      <td>1</td>\n",
       "    </tr>\n",
       "    <tr>\n",
       "      <th>1</th>\n",
       "      <td>9</td>\n",
       "      <td>39</td>\n",
       "      <td>39</td>\n",
       "      <td>65703.0</td>\n",
       "      <td>0.501</td>\n",
       "      <td>-0.480</td>\n",
       "      <td>1</td>\n",
       "    </tr>\n",
       "    <tr>\n",
       "      <th>2</th>\n",
       "      <td>9</td>\n",
       "      <td>39</td>\n",
       "      <td>39</td>\n",
       "      <td>65742.0</td>\n",
       "      <td>0.138</td>\n",
       "      <td>0.435</td>\n",
       "      <td>1</td>\n",
       "    </tr>\n",
       "    <tr>\n",
       "      <th>3</th>\n",
       "      <td>9</td>\n",
       "      <td>39</td>\n",
       "      <td>39</td>\n",
       "      <td>65781.0</td>\n",
       "      <td>-0.423</td>\n",
       "      <td>0.240</td>\n",
       "      <td>1</td>\n",
       "    </tr>\n",
       "    <tr>\n",
       "      <th>4</th>\n",
       "      <td>9</td>\n",
       "      <td>39</td>\n",
       "      <td>39</td>\n",
       "      <td>65820.0</td>\n",
       "      <td>-0.802</td>\n",
       "      <td>0.020</td>\n",
       "      <td>1</td>\n",
       "    </tr>\n",
       "    <tr>\n",
       "      <th>...</th>\n",
       "      <td>...</td>\n",
       "      <td>...</td>\n",
       "      <td>...</td>\n",
       "      <td>...</td>\n",
       "      <td>...</td>\n",
       "      <td>...</td>\n",
       "      <td>...</td>\n",
       "    </tr>\n",
       "    <tr>\n",
       "      <th>2555</th>\n",
       "      <td>17</td>\n",
       "      <td>26</td>\n",
       "      <td>39</td>\n",
       "      <td>165470.0</td>\n",
       "      <td>-3.353</td>\n",
       "      <td>2.129</td>\n",
       "      <td>2803</td>\n",
       "    </tr>\n",
       "    <tr>\n",
       "      <th>2556</th>\n",
       "      <td>17</td>\n",
       "      <td>26</td>\n",
       "      <td>39</td>\n",
       "      <td>165510.0</td>\n",
       "      <td>-2.868</td>\n",
       "      <td>-2.299</td>\n",
       "      <td>2803</td>\n",
       "    </tr>\n",
       "    <tr>\n",
       "      <th>2557</th>\n",
       "      <td>17</td>\n",
       "      <td>26</td>\n",
       "      <td>39</td>\n",
       "      <td>165550.0</td>\n",
       "      <td>-5.507</td>\n",
       "      <td>-1.844</td>\n",
       "      <td>2803</td>\n",
       "    </tr>\n",
       "    <tr>\n",
       "      <th>2558</th>\n",
       "      <td>17</td>\n",
       "      <td>26</td>\n",
       "      <td>39</td>\n",
       "      <td>165580.0</td>\n",
       "      <td>-3.578</td>\n",
       "      <td>2.146</td>\n",
       "      <td>2803</td>\n",
       "    </tr>\n",
       "    <tr>\n",
       "      <th>2559</th>\n",
       "      <td>17</td>\n",
       "      <td>26</td>\n",
       "      <td>39</td>\n",
       "      <td>165620.0</td>\n",
       "      <td>-2.709</td>\n",
       "      <td>0.470</td>\n",
       "      <td>2803</td>\n",
       "    </tr>\n",
       "  </tbody>\n",
       "</table>\n",
       "<p>7175680 rows × 7 columns</p>\n",
       "</div>"
      ],
      "text/plain": [
       "      Hour  Minute  second  u-Second  Horiz_acc  vert_accel    id\n",
       "0        9      39      39   65664.0      0.552      -0.146     1\n",
       "1        9      39      39   65703.0      0.501      -0.480     1\n",
       "2        9      39      39   65742.0      0.138       0.435     1\n",
       "3        9      39      39   65781.0     -0.423       0.240     1\n",
       "4        9      39      39   65820.0     -0.802       0.020     1\n",
       "...    ...     ...     ...       ...        ...         ...   ...\n",
       "2555    17      26      39  165470.0     -3.353       2.129  2803\n",
       "2556    17      26      39  165510.0     -2.868      -2.299  2803\n",
       "2557    17      26      39  165550.0     -5.507      -1.844  2803\n",
       "2558    17      26      39  165580.0     -3.578       2.146  2803\n",
       "2559    17      26      39  165620.0     -2.709       0.470  2803\n",
       "\n",
       "[7175680 rows x 7 columns]"
      ]
     },
     "execution_count": 52,
     "metadata": {},
     "output_type": "execute_result"
    }
   ],
   "source": [
    "all_df"
   ]
  },
  {
   "cell_type": "code",
   "execution_count": 62,
   "metadata": {},
   "outputs": [
    {
     "data": {
      "text/plain": [
       "7175680"
      ]
     },
     "execution_count": 62,
     "metadata": {},
     "output_type": "execute_result"
    }
   ],
   "source": [
    "2560 * len(all_list)"
   ]
  },
  {
   "cell_type": "code",
   "execution_count": 9,
   "metadata": {},
   "outputs": [],
   "source": [
    "import matplotlib.pyplot as plt"
   ]
  },
  {
   "cell_type": "code",
   "execution_count": 59,
   "metadata": {},
   "outputs": [
    {
     "data": {
      "text/plain": [
       "Hour              17.000\n",
       "Minute            59.000\n",
       "second            59.000\n",
       "u-Second      965620.000\n",
       "Horiz_acc         44.295\n",
       "vert_accel        47.849\n",
       "id              2803.000\n",
       "dtype: float64"
      ]
     },
     "execution_count": 59,
     "metadata": {},
     "output_type": "execute_result"
    }
   ],
   "source": [
    "all_df.max()"
   ]
  },
  {
   "cell_type": "code",
   "execution_count": 64,
   "metadata": {},
   "outputs": [
    {
     "data": {
      "text/plain": [
       "<matplotlib.collections.PathCollection at 0x14f8e0ce240>"
      ]
     },
     "execution_count": 64,
     "metadata": {},
     "output_type": "execute_result"
    },
    {
     "data": {
      "image/png": "[encoded data removed]",
      "text/plain": [
       "<Figure size 432x288 with 1 Axes>"
      ]
     },
     "metadata": {
      "needs_background": "light"
     },
     "output_type": "display_data"
    }
   ],
   "source": [
    "plt.scatter(all_df[\"Hour\"],all_df[\"Horiz_acc\"])"
   ]
  },
  {
   "cell_type": "code",
   "execution_count": 72,
   "metadata": {},
   "outputs": [
    {
     "data": {
      "text/plain": [
       "<matplotlib.collections.PathCollection at 0x14f8e0527f0>"
      ]
     },
     "execution_count": 72,
     "metadata": {},
     "output_type": "execute_result"
    },
    {
     "data": {
      "image/png": "[encoded data removed]",
      "text/plain": [
       "<Figure size 432x288 with 1 Axes>"
      ]
     },
     "metadata": {
      "needs_background": "light"
     },
     "output_type": "display_data"
    }
   ],
   "source": [
    "plt.scatter(all_df[\"Hour\"],all_df[\"vert_accel\"])"
   ]
  },
  {
   "cell_type": "code",
   "execution_count": 66,
   "metadata": {},
   "outputs": [],
   "source": [
    "all_temp_list = glob.glob(\"Learning_set/Bearing1_1_temp/*.csv\")"
   ]
  },
  {
   "cell_type": "code",
   "execution_count": null,
   "metadata": {},
   "outputs": [],
   "source": [
    "[\"Hour\",\"Minute\",\"Second 0.x\",\"second\",\"Rtd sensor\"]"
   ]
  },
  {
   "cell_type": "code",
   "execution_count": 68,
   "metadata": {},
   "outputs": [
    {
     "data": {
      "text/html": [
       "<div>\n",
       "<style scoped>\n",
       "    .dataframe tbody tr th:only-of-type {\n",
       "        vertical-align: middle;\n",
       "    }\n",
       "\n",
       "    .dataframe tbody tr th {\n",
       "        vertical-align: top;\n",
       "    }\n",
       "\n",
       "    .dataframe thead th {\n",
       "        text-align: right;\n",
       "    }\n",
       "</style>\n",
       "<table border=\"1\" class=\"dataframe\">\n",
       "  <thead>\n",
       "    <tr style=\"text-align: right;\">\n",
       "      <th></th>\n",
       "      <th>0</th>\n",
       "      <th>1</th>\n",
       "      <th>2</th>\n",
       "      <th>3</th>\n",
       "      <th>4</th>\n",
       "    </tr>\n",
       "  </thead>\n",
       "  <tbody>\n",
       "    <tr>\n",
       "      <th>0</th>\n",
       "      <td>9</td>\n",
       "      <td>40</td>\n",
       "      <td>47</td>\n",
       "      <td>5</td>\n",
       "      <td>70.378</td>\n",
       "    </tr>\n",
       "    <tr>\n",
       "      <th>1</th>\n",
       "      <td>9</td>\n",
       "      <td>40</td>\n",
       "      <td>47</td>\n",
       "      <td>6</td>\n",
       "      <td>70.378</td>\n",
       "    </tr>\n",
       "    <tr>\n",
       "      <th>2</th>\n",
       "      <td>9</td>\n",
       "      <td>40</td>\n",
       "      <td>47</td>\n",
       "      <td>7</td>\n",
       "      <td>70.397</td>\n",
       "    </tr>\n",
       "    <tr>\n",
       "      <th>3</th>\n",
       "      <td>9</td>\n",
       "      <td>40</td>\n",
       "      <td>47</td>\n",
       "      <td>8</td>\n",
       "      <td>70.397</td>\n",
       "    </tr>\n",
       "    <tr>\n",
       "      <th>4</th>\n",
       "      <td>9</td>\n",
       "      <td>40</td>\n",
       "      <td>47</td>\n",
       "      <td>9</td>\n",
       "      <td>70.418</td>\n",
       "    </tr>\n",
       "    <tr>\n",
       "      <th>...</th>\n",
       "      <td>...</td>\n",
       "      <td>...</td>\n",
       "      <td>...</td>\n",
       "      <td>...</td>\n",
       "      <td>...</td>\n",
       "    </tr>\n",
       "    <tr>\n",
       "      <th>595</th>\n",
       "      <td>9</td>\n",
       "      <td>41</td>\n",
       "      <td>47</td>\n",
       "      <td>0</td>\n",
       "      <td>75.850</td>\n",
       "    </tr>\n",
       "    <tr>\n",
       "      <th>596</th>\n",
       "      <td>9</td>\n",
       "      <td>41</td>\n",
       "      <td>47</td>\n",
       "      <td>1</td>\n",
       "      <td>75.864</td>\n",
       "    </tr>\n",
       "    <tr>\n",
       "      <th>597</th>\n",
       "      <td>9</td>\n",
       "      <td>41</td>\n",
       "      <td>47</td>\n",
       "      <td>2</td>\n",
       "      <td>75.864</td>\n",
       "    </tr>\n",
       "    <tr>\n",
       "      <th>598</th>\n",
       "      <td>9</td>\n",
       "      <td>41</td>\n",
       "      <td>47</td>\n",
       "      <td>3</td>\n",
       "      <td>75.880</td>\n",
       "    </tr>\n",
       "    <tr>\n",
       "      <th>599</th>\n",
       "      <td>9</td>\n",
       "      <td>41</td>\n",
       "      <td>47</td>\n",
       "      <td>4</td>\n",
       "      <td>75.880</td>\n",
       "    </tr>\n",
       "  </tbody>\n",
       "</table>\n",
       "<p>600 rows × 5 columns</p>\n",
       "</div>"
      ],
      "text/plain": [
       "     0   1   2  3       4\n",
       "0    9  40  47  5  70.378\n",
       "1    9  40  47  6  70.378\n",
       "2    9  40  47  7  70.397\n",
       "3    9  40  47  8  70.397\n",
       "4    9  40  47  9  70.418\n",
       "..  ..  ..  .. ..     ...\n",
       "595  9  41  47  0  75.850\n",
       "596  9  41  47  1  75.864\n",
       "597  9  41  47  2  75.864\n",
       "598  9  41  47  3  75.880\n",
       "599  9  41  47  4  75.880\n",
       "\n",
       "[600 rows x 5 columns]"
      ]
     },
     "execution_count": 68,
     "metadata": {},
     "output_type": "execute_result"
    }
   ],
   "source": [
    "pd.read_csv(all_temp_list[0],header=None)"
   ]
  },
  {
   "cell_type": "code",
   "execution_count": 69,
   "metadata": {},
   "outputs": [],
   "source": [
    "index = 1\n",
    "all_temp_df = pd.DataFrame()\n",
    "for i in all_temp_list:\n",
    "    acc_one = pd.read_csv(i,header=None)\n",
    "    acc_one[\"id\"] = index\n",
    "    acc_one.columns = [\"Hour\",\"Minute\",\"Second 0.x\",\"second\",\"Rtd sensor\",\"id\"]\n",
    "    index += 1\n",
    "    all_temp_df = pd.concat([all_temp_df, acc_one],axis=0)"
   ]
  },
  {
   "cell_type": "code",
   "execution_count": 76,
   "metadata": {},
   "outputs": [],
   "source": [
    "all_temp_df.columns = [\"Hour\",\"Minute\",\"Second\",\"0.x_Second\",\"Rtd sensor\",\"id\"]"
   ]
  },
  {
   "cell_type": "code",
   "execution_count": 77,
   "metadata": {},
   "outputs": [
    {
     "data": {
      "text/plain": [
       "Hour           17.00\n",
       "Minute         59.00\n",
       "Second         59.00\n",
       "0.x_Second      9.00\n",
       "Rtd sensor    164.37\n",
       "id            466.00\n",
       "dtype: float64"
      ]
     },
     "execution_count": 77,
     "metadata": {},
     "output_type": "execute_result"
    }
   ],
   "source": [
    "all_temp_df.max()"
   ]
  },
  {
   "cell_type": "code",
   "execution_count": 74,
   "metadata": {},
   "outputs": [
    {
     "data": {
      "text/plain": [
       "<matplotlib.collections.PathCollection at 0x14f8e6fbf98>"
      ]
     },
     "execution_count": 74,
     "metadata": {},
     "output_type": "execute_result"
    },
    {
     "data": {
      "image/png": "[encoded data removed]",
      "text/plain": [
       "<Figure size 432x288 with 1 Axes>"
      ]
     },
     "metadata": {
      "needs_background": "light"
     },
     "output_type": "display_data"
    }
   ],
   "source": [
    "plt.scatter(all_temp_df[\"Hour\"],all_temp_df[\"Rtd sensor\"])"
   ]
  },
  {
   "cell_type": "markdown",
   "metadata": {},
   "source": [
    "### all transfer to min unit"
   ]
  },
  {
   "cell_type": "code",
   "execution_count": 79,
   "metadata": {},
   "outputs": [],
   "source": [
    "all_temp_df[\"sum_0.x_second\"]  = all_temp_df[\"Hour\"]*60*60*10 + all_temp_df[\"Minute\"]*60*10 + all_temp_df[\"Second\"]*10 + all_temp_df[\"0.x_Second\"]"
   ]
  },
  {
   "cell_type": "code",
   "execution_count": 83,
   "metadata": {},
   "outputs": [
    {
     "data": {
      "text/plain": [
       "<matplotlib.collections.PathCollection at 0x14f8e6f8898>"
      ]
     },
     "execution_count": 83,
     "metadata": {},
     "output_type": "execute_result"
    },
    {
     "data": {
      "image/png": "[encoded data removed]",
      "text/plain": [
       "<Figure size 720x432 with 1 Axes>"
      ]
     },
     "metadata": {
      "needs_background": "light"
     },
     "output_type": "display_data"
    }
   ],
   "source": [
    "plt.figure(figsize=(10,6))\n",
    "plt.scatter(all_temp_df[\"sum_0.x_second\"], all_temp_df[\"Rtd sensor\"])"
   ]
  },
  {
   "cell_type": "markdown",
   "metadata": {},
   "source": [
    "### u-second 10**-6"
   ]
  },
  {
   "cell_type": "code",
   "execution_count": 87,
   "metadata": {},
   "outputs": [],
   "source": [
    "all_temp_df.to_csv(\"1-1_temp_df.csv\",index=None)"
   ]
  },
  {
   "cell_type": "code",
   "execution_count": 89,
   "metadata": {},
   "outputs": [],
   "source": [
    "all_df.to_csv(\"1-1_acc_df.csv\",index=None)"
   ]
  },
  {
   "cell_type": "code",
   "execution_count": 2,
   "metadata": {},
   "outputs": [],
   "source": [
    "acc_df = pd.read_csv(\"1-1_acc_df.csv\")"
   ]
  },
  {
   "cell_type": "code",
   "execution_count": 3,
   "metadata": {},
   "outputs": [],
   "source": [
    "temp_df = pd.read_csv(\"1-1_temp_df.csv\")"
   ]
  },
  {
   "cell_type": "code",
   "execution_count": 7,
   "metadata": {},
   "outputs": [],
   "source": [
    "temp_df_m = temp_df[[\"Rtd sensor\",\"sum_0.x_second\"]]"
   ]
  },
  {
   "cell_type": "code",
   "execution_count": 8,
   "metadata": {},
   "outputs": [
    {
     "data": {
      "text/html": [
       "<div>\n",
       "<style scoped>\n",
       "    .dataframe tbody tr th:only-of-type {\n",
       "        vertical-align: middle;\n",
       "    }\n",
       "\n",
       "    .dataframe tbody tr th {\n",
       "        vertical-align: top;\n",
       "    }\n",
       "\n",
       "    .dataframe thead th {\n",
       "        text-align: right;\n",
       "    }\n",
       "</style>\n",
       "<table border=\"1\" class=\"dataframe\">\n",
       "  <thead>\n",
       "    <tr style=\"text-align: right;\">\n",
       "      <th></th>\n",
       "      <th>Rtd sensor</th>\n",
       "      <th>sum_0.x_second</th>\n",
       "    </tr>\n",
       "  </thead>\n",
       "  <tbody>\n",
       "    <tr>\n",
       "      <th>0</th>\n",
       "      <td>70.378</td>\n",
       "      <td>348475</td>\n",
       "    </tr>\n",
       "    <tr>\n",
       "      <th>1</th>\n",
       "      <td>70.378</td>\n",
       "      <td>348476</td>\n",
       "    </tr>\n",
       "    <tr>\n",
       "      <th>2</th>\n",
       "      <td>70.397</td>\n",
       "      <td>348477</td>\n",
       "    </tr>\n",
       "    <tr>\n",
       "      <th>3</th>\n",
       "      <td>70.397</td>\n",
       "      <td>348478</td>\n",
       "    </tr>\n",
       "    <tr>\n",
       "      <th>4</th>\n",
       "      <td>70.418</td>\n",
       "      <td>348479</td>\n",
       "    </tr>\n",
       "    <tr>\n",
       "      <th>...</th>\n",
       "      <td>...</td>\n",
       "      <td>...</td>\n",
       "    </tr>\n",
       "    <tr>\n",
       "      <th>279512</th>\n",
       "      <td>164.340</td>\n",
       "      <td>627987</td>\n",
       "    </tr>\n",
       "    <tr>\n",
       "      <th>279513</th>\n",
       "      <td>164.340</td>\n",
       "      <td>627988</td>\n",
       "    </tr>\n",
       "    <tr>\n",
       "      <th>279514</th>\n",
       "      <td>164.360</td>\n",
       "      <td>627989</td>\n",
       "    </tr>\n",
       "    <tr>\n",
       "      <th>279515</th>\n",
       "      <td>164.360</td>\n",
       "      <td>627990</td>\n",
       "    </tr>\n",
       "    <tr>\n",
       "      <th>279516</th>\n",
       "      <td>164.370</td>\n",
       "      <td>627991</td>\n",
       "    </tr>\n",
       "  </tbody>\n",
       "</table>\n",
       "<p>279517 rows × 2 columns</p>\n",
       "</div>"
      ],
      "text/plain": [
       "        Rtd sensor  sum_0.x_second\n",
       "0           70.378          348475\n",
       "1           70.378          348476\n",
       "2           70.397          348477\n",
       "3           70.397          348478\n",
       "4           70.418          348479\n",
       "...            ...             ...\n",
       "279512     164.340          627987\n",
       "279513     164.340          627988\n",
       "279514     164.360          627989\n",
       "279515     164.360          627990\n",
       "279516     164.370          627991\n",
       "\n",
       "[279517 rows x 2 columns]"
      ]
     },
     "execution_count": 8,
     "metadata": {},
     "output_type": "execute_result"
    }
   ],
   "source": [
    "temp_df_m "
   ]
  },
  {
   "cell_type": "code",
   "execution_count": 64,
   "metadata": {},
   "outputs": [
    {
     "ename": "NameError",
     "evalue": "name 'df' is not defined",
     "output_type": "error",
     "traceback": [
      "\u001b[1;31m---------------------------------------------------------------------------\u001b[0m",
      "\u001b[1;31mNameError\u001b[0m                                 Traceback (most recent call last)",
      "\u001b[1;32m<ipython-input-64-00cf07b74dcd>\u001b[0m in \u001b[0;36m<module>\u001b[1;34m\u001b[0m\n\u001b[1;32m----> 1\u001b[1;33m \u001b[0mdf\u001b[0m\u001b[1;33m\u001b[0m\u001b[1;33m\u001b[0m\u001b[0m\n\u001b[0m",
      "\u001b[1;31mNameError\u001b[0m: name 'df' is not defined"
     ]
    }
   ],
   "source": [
    "df"
   ]
  },
  {
   "cell_type": "code",
   "execution_count": 9,
   "metadata": {},
   "outputs": [],
   "source": [
    "def p2ph_h(df):\n",
    "    x=df\n",
    "    peaks, _ = find_peaks(x)\n",
    "    results_half = peak_widths(x, peaks, rel_height=0.5)\n",
    "    if results_half[0].shape[0] == 0 :\n",
    "        return 0\n",
    "    else:\n",
    "        return(np.max(results_half[0]))\n",
    "\n",
    "def p2pf_f(df):\n",
    "    x=df\n",
    "    peaks, _ = find_peaks(x)\n",
    "    results_full = peak_widths(x, peaks, rel_height=1)   \n",
    "    if results_full[0].shape[0] == 0 :\n",
    "        return 0\n",
    "    else:\n",
    "        return(np.max(results_full[0]))"
   ]
  },
  {
   "cell_type": "code",
   "execution_count": 10,
   "metadata": {},
   "outputs": [],
   "source": [
    "%matplotlib inline\n",
    "import matplotlib.pyplot as plt\n",
    "import numpy as np\n",
    "import pandas as pd\n",
    "import seaborn as sns\n",
    "from sklearn.ensemble import RandomForestRegressor\n",
    "from sklearn.ensemble import  RandomForestClassifier\n",
    "from sklearn import metrics"
   ]
  },
  {
   "cell_type": "code",
   "execution_count": 12,
   "metadata": {},
   "outputs": [
    {
     "data": {
      "text/plain": [
       "[<matplotlib.lines.Line2D at 0x25538d00be0>]"
      ]
     },
     "execution_count": 12,
     "metadata": {},
     "output_type": "execute_result"
    },
    {
     "data": {
      "image/png": "[encoded data removed]",
      "text/plain": [
       "<Figure size 432x288 with 1 Axes>"
      ]
     },
     "metadata": {
      "needs_background": "light"
     },
     "output_type": "display_data"
    }
   ],
   "source": [
    "plt.plot(temp_df[\"Rtd sensor\"][0:100000])"
   ]
  },
  {
   "cell_type": "code",
   "execution_count": 14,
   "metadata": {},
   "outputs": [],
   "source": [
    "def add_features(df_in, ws):\n",
    "    \n",
    "        \n",
    "    \n",
    "    \n",
    "    sensor_cols = [\"Rtd sensor\"]\n",
    "    sensor_av_cols = [\"av_temp\"]\n",
    "    sensor_sd_cols = [\"sd_temp\"]\n",
    "    sensor_peak_cols = [\"peak_temp\"]\n",
    "    sensor_rms_cols = [\"rms_temp\"]\n",
    "    sensor_skew_cols = [\"skew_temp\"]\n",
    "    sensor_kurt_cols = [\"kurt_temp\"]\n",
    "    sensor_crest_cols = [\"crest_temp\"]\n",
    "    sensor_clear_cols = [\"clear_temp\"]\n",
    "    sensor_shape_cols = [\"shape_temp\"]\n",
    "    sensor_imp_cols = [\"imp_temp\"]\n",
    "#     sensor_p2ph_cols = [nm.replace('s', 'p2ph') for nm in sensor_cols]\n",
    "#     sensor_p2pf_cols = [nm.replace('s', 'p2pf') for nm in sensor_cols]\n",
    "\n",
    "\n",
    "    df_out = pd.DataFrame()\n",
    "    for m_id in pd.unique(df_in.id):\n",
    "\n",
    "            # get a subset for each engine sensors\n",
    "            df_engine = df_in[df_in['id'] == m_id]\n",
    "            df_sub = df_engine[sensor_cols]\n",
    "\n",
    "\n",
    "            # get rolling mean for the subset\n",
    "            av = df_sub.rolling(ws, min_periods=1).mean()\n",
    "            av.columns = sensor_av_cols\n",
    "\n",
    "            # get the rolling standard deviation for the subset\n",
    "            sd = df_sub.rolling(ws, min_periods=1).std().fillna(0)\n",
    "            sd.columns = sensor_sd_cols\n",
    "\n",
    "            # get the rolling peak value for the subset\n",
    "            pk = df_sub.rolling(ws, min_periods=1).max().fillna(0)\n",
    "            pk.columns = sensor_peak_cols       \n",
    "\n",
    "            # get the rolling rms for the subset\n",
    "            rms = lambda d: np.sqrt ((d ** 2) .sum ()/d.size)\n",
    "            res = df_sub.rolling(ws, min_periods=1).apply (rms).fillna(0)\n",
    "            res.columns = sensor_rms_cols\n",
    "\n",
    "            # get the rolling skewness for the subset\n",
    "            skew = df_sub.rolling(ws, min_periods=1).skew().fillna(0)\n",
    "            skew.columns = sensor_skew_cols\n",
    "\n",
    "            # get the rolling skewness for the subset\n",
    "            kurt = df_sub.rolling(ws, min_periods=1).apply(kurtosis).fillna(0)\n",
    "            kurt.columns = sensor_kurt_cols\n",
    "\n",
    "            # get the rolling crest i for the subset\n",
    "            res_sub = res.copy()\n",
    "            pk_sub = pk.copy()\n",
    "            res_sub.columns = sensor_crest_cols\n",
    "            pk_sub.columns = sensor_crest_cols\n",
    "            crest = pk_sub/res_sub\n",
    "            crest.columns = sensor_crest_cols    \n",
    "\n",
    "            # get the rolling clearance i for the subset\n",
    "            # get the sub\n",
    "            sub_f = lambda d: np.square ((d ** 0.5) .sum ()/d.size)\n",
    "            sub = df_sub.rolling(ws, min_periods=1).apply (sub_f).fillna(0)\n",
    "            sub.columns = sensor_crest_cols\n",
    "            clear = pk_sub/sub\n",
    "            clear.columns = sensor_clear_cols\n",
    "\n",
    "            # get the rolling shape i for the subset\n",
    "            av_sub = av.copy()\n",
    "            av_sub.columns = sensor_crest_cols\n",
    "            shape = res_sub/av_sub\n",
    "            shape.columns = sensor_shape_cols\n",
    "\n",
    "            # get the rolling impulse i for the subset\n",
    "            imp = pk_sub/av_sub\n",
    "            imp.columns = sensor_imp_cols\n",
    "\n",
    "#             # get rolling p2p_half length for the subset\n",
    "#             p2ph = df_sub.rolling(ws, min_periods=1).apply(p2ph_h)\n",
    "#             p2ph.columns = sensor_p2ph_cols\n",
    "\n",
    "#             # get rolling p2p_full length for the subset\n",
    "#             p2pf = df_sub.rolling(ws, min_periods=1).apply(p2pf_f)\n",
    "#             p2pf.columns = sensor_p2pf_cols        \n",
    "#             # combine the two new subset dataframes columns to the engine subset\n",
    "\n",
    "            new_ftrs = pd.concat([df_engine,av,sd,pk,res,skew,kurt,crest,clear,shape,imp], axis=1)\n",
    "        \n",
    "            # add the new features rows to the output dataframe\n",
    "            df_out = pd.concat([df_out,new_ftrs])\n",
    "    \n",
    "    return df_out"
   ]
  },
  {
   "cell_type": "code",
   "execution_count": 18,
   "metadata": {},
   "outputs": [
    {
     "name": "stderr",
     "output_type": "stream",
     "text": [
      "C:\\Users\\User\\anaconda3\\lib\\site-packages\\ipykernel_launcher.py:1: SettingWithCopyWarning: \n",
      "A value is trying to be set on a copy of a slice from a DataFrame.\n",
      "Try using .loc[row_indexer,col_indexer] = value instead\n",
      "\n",
      "See the caveats in the documentation: https://pandas.pydata.org/pandas-docs/stable/user_guide/indexing.html#returning-a-view-versus-a-copy\n",
      "  \"\"\"Entry point for launching an IPython kernel.\n"
     ]
    }
   ],
   "source": [
    "temp_df_m[\"id\"] = 1"
   ]
  },
  {
   "cell_type": "code",
   "execution_count": 19,
   "metadata": {},
   "outputs": [],
   "source": [
    "fe_temp = add_features(temp_df_m,600)"
   ]
  },
  {
   "cell_type": "code",
   "execution_count": 21,
   "metadata": {},
   "outputs": [],
   "source": [
    "fe_temp.to_csv(\"fe_temp_1.csv\",index=None)"
   ]
  },
  {
   "cell_type": "code",
   "execution_count": 22,
   "metadata": {},
   "outputs": [
    {
     "data": {
      "text/plain": [
       "[<matplotlib.lines.Line2D at 0x2555bdba470>]"
      ]
     },
     "execution_count": 22,
     "metadata": {},
     "output_type": "execute_result"
    },
    {
     "data": {
      "image/png": "[encoded data removed]",
      "text/plain": [
       "<Figure size 432x288 with 1 Axes>"
      ]
     },
     "metadata": {
      "needs_background": "light"
     },
     "output_type": "display_data"
    }
   ],
   "source": [
    "plt.plot(fe_temp[\"Rtd sensor\"])"
   ]
  },
  {
   "cell_type": "code",
   "execution_count": 23,
   "metadata": {},
   "outputs": [
    {
     "data": {
      "text/plain": [
       "[<matplotlib.lines.Line2D at 0x25538febcc0>]"
      ]
     },
     "execution_count": 23,
     "metadata": {},
     "output_type": "execute_result"
    },
    {
     "data": {
      "image/png": "[encoded data removed]",
      "text/plain": [
       "<Figure size 432x288 with 1 Axes>"
      ]
     },
     "metadata": {
      "needs_background": "light"
     },
     "output_type": "display_data"
    }
   ],
   "source": [
    "plt.plot(fe_temp[\"sd_temp\"])"
   ]
  },
  {
   "cell_type": "code",
   "execution_count": 85,
   "metadata": {},
   "outputs": [
    {
     "data": {
      "text/plain": [
       "[<matplotlib.lines.Line2D at 0x25c083459b0>]"
      ]
     },
     "execution_count": 85,
     "metadata": {},
     "output_type": "execute_result"
    },
    {
     "data": {
      "image/png": "[encoded data removed]",
      "text/plain": [
       "<Figure size 432x288 with 1 Axes>"
      ]
     },
     "metadata": {
      "needs_background": "light"
     },
     "output_type": "display_data"
    }
   ],
   "source": [
    "plt.plot(fe_temp[\"peak_temp\"])"
   ]
  },
  {
   "cell_type": "code",
   "execution_count": 87,
   "metadata": {},
   "outputs": [
    {
     "data": {
      "text/plain": [
       "[<matplotlib.lines.Line2D at 0x25c093d1080>]"
      ]
     },
     "execution_count": 87,
     "metadata": {},
     "output_type": "execute_result"
    },
    {
     "data": {
      "image/png": "[encoded data removed]",
      "text/plain": [
       "<Figure size 432x288 with 1 Axes>"
      ]
     },
     "metadata": {
      "needs_background": "light"
     },
     "output_type": "display_data"
    }
   ],
   "source": [
    "plt.plot(fe_temp[\"rms_temp\"])"
   ]
  },
  {
   "cell_type": "code",
   "execution_count": 88,
   "metadata": {},
   "outputs": [
    {
     "data": {
      "text/plain": [
       "[<matplotlib.lines.Line2D at 0x25c094254a8>]"
      ]
     },
     "execution_count": 88,
     "metadata": {},
     "output_type": "execute_result"
    },
    {
     "data": {
      "image/png": "[encoded data removed]",
      "text/plain": [
       "<Figure size 432x288 with 1 Axes>"
      ]
     },
     "metadata": {
      "needs_background": "light"
     },
     "output_type": "display_data"
    }
   ],
   "source": [
    "plt.plot(fe_temp[\"skew_temp\"])"
   ]
  },
  {
   "cell_type": "code",
   "execution_count": 89,
   "metadata": {},
   "outputs": [
    {
     "data": {
      "text/plain": [
       "[<matplotlib.lines.Line2D at 0x25c09485dd8>]"
      ]
     },
     "execution_count": 89,
     "metadata": {},
     "output_type": "execute_result"
    },
    {
     "data": {
      "image/png": "[encoded data removed]",
      "text/plain": [
       "<Figure size 432x288 with 1 Axes>"
      ]
     },
     "metadata": {
      "needs_background": "light"
     },
     "output_type": "display_data"
    }
   ],
   "source": [
    "plt.plot(fe_temp[\"crest_temp\"])"
   ]
  },
  {
   "cell_type": "code",
   "execution_count": 90,
   "metadata": {},
   "outputs": [
    {
     "data": {
      "text/plain": [
       "[<matplotlib.lines.Line2D at 0x25c094ef390>]"
      ]
     },
     "execution_count": 90,
     "metadata": {},
     "output_type": "execute_result"
    },
    {
     "data": {
      "image/png": "[encoded data removed]",
      "text/plain": [
       "<Figure size 432x288 with 1 Axes>"
      ]
     },
     "metadata": {
      "needs_background": "light"
     },
     "output_type": "display_data"
    }
   ],
   "source": [
    "plt.plot(fe_temp[\"clear_temp\"])"
   ]
  },
  {
   "cell_type": "code",
   "execution_count": 91,
   "metadata": {},
   "outputs": [
    {
     "data": {
      "text/plain": [
       "[<matplotlib.lines.Line2D at 0x25c0b5f0828>]"
      ]
     },
     "execution_count": 91,
     "metadata": {},
     "output_type": "execute_result"
    },
    {
     "data": {
      "image/png": "[encoded data removed]",
      "text/plain": [
       "<Figure size 432x288 with 1 Axes>"
      ]
     },
     "metadata": {
      "needs_background": "light"
     },
     "output_type": "display_data"
    }
   ],
   "source": [
    "plt.plot(fe_temp[\"shape_temp\"])"
   ]
  },
  {
   "cell_type": "code",
   "execution_count": 92,
   "metadata": {},
   "outputs": [
    {
     "data": {
      "text/plain": [
       "[<matplotlib.lines.Line2D at 0x25c0b6552e8>]"
      ]
     },
     "execution_count": 92,
     "metadata": {},
     "output_type": "execute_result"
    },
    {
     "data": {
      "image/png": "[encoded data removed]",
      "text/plain": [
       "<Figure size 432x288 with 1 Axes>"
      ]
     },
     "metadata": {
      "needs_background": "light"
     },
     "output_type": "display_data"
    }
   ],
   "source": [
    "plt.plot(fe_temp[\"imp_temp\"])"
   ]
  },
  {
   "cell_type": "code",
   "execution_count": 93,
   "metadata": {},
   "outputs": [
    {
     "data": {
      "text/plain": [
       "[<matplotlib.lines.Line2D at 0x25c0b6b8748>]"
      ]
     },
     "execution_count": 93,
     "metadata": {},
     "output_type": "execute_result"
    },
    {
     "data": {
      "image/png": "[encoded data removed]",
      "text/plain": [
       "<Figure size 432x288 with 1 Axes>"
      ]
     },
     "metadata": {
      "needs_background": "light"
     },
     "output_type": "display_data"
    }
   ],
   "source": [
    "plt.plot(fe_temp[\"kurt_temp\"])"
   ]
  },
  {
   "cell_type": "code",
   "execution_count": 24,
   "metadata": {},
   "outputs": [
    {
     "data": {
      "text/html": [
       "<div>\n",
       "<style scoped>\n",
       "    .dataframe tbody tr th:only-of-type {\n",
       "        vertical-align: middle;\n",
       "    }\n",
       "\n",
       "    .dataframe tbody tr th {\n",
       "        vertical-align: top;\n",
       "    }\n",
       "\n",
       "    .dataframe thead th {\n",
       "        text-align: right;\n",
       "    }\n",
       "</style>\n",
       "<table border=\"1\" class=\"dataframe\">\n",
       "  <thead>\n",
       "    <tr style=\"text-align: right;\">\n",
       "      <th></th>\n",
       "      <th>Rtd sensor</th>\n",
       "      <th>sum_0.x_second</th>\n",
       "      <th>id</th>\n",
       "      <th>av_temp</th>\n",
       "      <th>sd_temp</th>\n",
       "      <th>peak_temp</th>\n",
       "      <th>rms_temp</th>\n",
       "      <th>skew_temp</th>\n",
       "      <th>kurt_temp</th>\n",
       "      <th>crest_temp</th>\n",
       "      <th>clear_temp</th>\n",
       "      <th>shape_temp</th>\n",
       "      <th>imp_temp</th>\n",
       "    </tr>\n",
       "  </thead>\n",
       "  <tbody>\n",
       "    <tr>\n",
       "      <th>0</th>\n",
       "      <td>70.378</td>\n",
       "      <td>348475</td>\n",
       "      <td>1</td>\n",
       "      <td>70.378000</td>\n",
       "      <td>0.000000</td>\n",
       "      <td>70.378</td>\n",
       "      <td>70.378000</td>\n",
       "      <td>0.000000</td>\n",
       "      <td>-3.000000</td>\n",
       "      <td>1.000000</td>\n",
       "      <td>1.000000</td>\n",
       "      <td>1.000000</td>\n",
       "      <td>1.000000</td>\n",
       "    </tr>\n",
       "    <tr>\n",
       "      <th>1</th>\n",
       "      <td>70.378</td>\n",
       "      <td>348476</td>\n",
       "      <td>1</td>\n",
       "      <td>70.378000</td>\n",
       "      <td>0.000000</td>\n",
       "      <td>70.378</td>\n",
       "      <td>70.378000</td>\n",
       "      <td>0.000000</td>\n",
       "      <td>-3.000000</td>\n",
       "      <td>1.000000</td>\n",
       "      <td>1.000000</td>\n",
       "      <td>1.000000</td>\n",
       "      <td>1.000000</td>\n",
       "    </tr>\n",
       "    <tr>\n",
       "      <th>2</th>\n",
       "      <td>70.397</td>\n",
       "      <td>348477</td>\n",
       "      <td>1</td>\n",
       "      <td>70.384333</td>\n",
       "      <td>0.010970</td>\n",
       "      <td>70.397</td>\n",
       "      <td>70.384334</td>\n",
       "      <td>1.731395</td>\n",
       "      <td>-1.500000</td>\n",
       "      <td>1.000180</td>\n",
       "      <td>1.000180</td>\n",
       "      <td>1.000000</td>\n",
       "      <td>1.000180</td>\n",
       "    </tr>\n",
       "    <tr>\n",
       "      <th>3</th>\n",
       "      <td>70.397</td>\n",
       "      <td>348478</td>\n",
       "      <td>1</td>\n",
       "      <td>70.387500</td>\n",
       "      <td>0.010970</td>\n",
       "      <td>70.397</td>\n",
       "      <td>70.387501</td>\n",
       "      <td>-0.000162</td>\n",
       "      <td>-2.000000</td>\n",
       "      <td>1.000135</td>\n",
       "      <td>1.000135</td>\n",
       "      <td>1.000000</td>\n",
       "      <td>1.000135</td>\n",
       "    </tr>\n",
       "    <tr>\n",
       "      <th>4</th>\n",
       "      <td>70.418</td>\n",
       "      <td>348479</td>\n",
       "      <td>1</td>\n",
       "      <td>70.393600</td>\n",
       "      <td>0.016622</td>\n",
       "      <td>70.418</td>\n",
       "      <td>70.393602</td>\n",
       "      <td>0.636223</td>\n",
       "      <td>-1.063112</td>\n",
       "      <td>1.000347</td>\n",
       "      <td>1.000347</td>\n",
       "      <td>1.000000</td>\n",
       "      <td>1.000347</td>\n",
       "    </tr>\n",
       "    <tr>\n",
       "      <th>...</th>\n",
       "      <td>...</td>\n",
       "      <td>...</td>\n",
       "      <td>...</td>\n",
       "      <td>...</td>\n",
       "      <td>...</td>\n",
       "      <td>...</td>\n",
       "      <td>...</td>\n",
       "      <td>...</td>\n",
       "      <td>...</td>\n",
       "      <td>...</td>\n",
       "      <td>...</td>\n",
       "      <td>...</td>\n",
       "      <td>...</td>\n",
       "    </tr>\n",
       "    <tr>\n",
       "      <th>279512</th>\n",
       "      <td>164.340</td>\n",
       "      <td>627987</td>\n",
       "      <td>1</td>\n",
       "      <td>163.144683</td>\n",
       "      <td>0.578763</td>\n",
       "      <td>164.340</td>\n",
       "      <td>163.145708</td>\n",
       "      <td>0.376501</td>\n",
       "      <td>-1.127454</td>\n",
       "      <td>1.007320</td>\n",
       "      <td>1.007330</td>\n",
       "      <td>1.000006</td>\n",
       "      <td>1.007327</td>\n",
       "    </tr>\n",
       "    <tr>\n",
       "      <th>279513</th>\n",
       "      <td>164.340</td>\n",
       "      <td>627988</td>\n",
       "      <td>1</td>\n",
       "      <td>163.148000</td>\n",
       "      <td>0.579903</td>\n",
       "      <td>164.340</td>\n",
       "      <td>163.149029</td>\n",
       "      <td>0.376050</td>\n",
       "      <td>-1.126622</td>\n",
       "      <td>1.007300</td>\n",
       "      <td>1.007309</td>\n",
       "      <td>1.000006</td>\n",
       "      <td>1.007306</td>\n",
       "    </tr>\n",
       "    <tr>\n",
       "      <th>279514</th>\n",
       "      <td>164.360</td>\n",
       "      <td>627989</td>\n",
       "      <td>1</td>\n",
       "      <td>163.151333</td>\n",
       "      <td>0.581112</td>\n",
       "      <td>164.360</td>\n",
       "      <td>163.152367</td>\n",
       "      <td>0.375814</td>\n",
       "      <td>-1.124991</td>\n",
       "      <td>1.007402</td>\n",
       "      <td>1.007411</td>\n",
       "      <td>1.000006</td>\n",
       "      <td>1.007408</td>\n",
       "    </tr>\n",
       "    <tr>\n",
       "      <th>279515</th>\n",
       "      <td>164.360</td>\n",
       "      <td>627990</td>\n",
       "      <td>1</td>\n",
       "      <td>163.154667</td>\n",
       "      <td>0.582301</td>\n",
       "      <td>164.360</td>\n",
       "      <td>163.155704</td>\n",
       "      <td>0.375471</td>\n",
       "      <td>-1.123691</td>\n",
       "      <td>1.007381</td>\n",
       "      <td>1.007391</td>\n",
       "      <td>1.000006</td>\n",
       "      <td>1.007388</td>\n",
       "    </tr>\n",
       "    <tr>\n",
       "      <th>279516</th>\n",
       "      <td>164.370</td>\n",
       "      <td>627991</td>\n",
       "      <td>1</td>\n",
       "      <td>163.158033</td>\n",
       "      <td>0.583479</td>\n",
       "      <td>164.370</td>\n",
       "      <td>163.159075</td>\n",
       "      <td>0.375363</td>\n",
       "      <td>-1.122222</td>\n",
       "      <td>1.007422</td>\n",
       "      <td>1.007431</td>\n",
       "      <td>1.000006</td>\n",
       "      <td>1.007428</td>\n",
       "    </tr>\n",
       "  </tbody>\n",
       "</table>\n",
       "<p>279517 rows × 13 columns</p>\n",
       "</div>"
      ],
      "text/plain": [
       "        Rtd sensor  sum_0.x_second  id     av_temp   sd_temp  peak_temp  \\\n",
       "0           70.378          348475   1   70.378000  0.000000     70.378   \n",
       "1           70.378          348476   1   70.378000  0.000000     70.378   \n",
       "2           70.397          348477   1   70.384333  0.010970     70.397   \n",
       "3           70.397          348478   1   70.387500  0.010970     70.397   \n",
       "4           70.418          348479   1   70.393600  0.016622     70.418   \n",
       "...            ...             ...  ..         ...       ...        ...   \n",
       "279512     164.340          627987   1  163.144683  0.578763    164.340   \n",
       "279513     164.340          627988   1  163.148000  0.579903    164.340   \n",
       "279514     164.360          627989   1  163.151333  0.581112    164.360   \n",
       "279515     164.360          627990   1  163.154667  0.582301    164.360   \n",
       "279516     164.370          627991   1  163.158033  0.583479    164.370   \n",
       "\n",
       "          rms_temp  skew_temp  kurt_temp  crest_temp  clear_temp  shape_temp  \\\n",
       "0        70.378000   0.000000  -3.000000    1.000000    1.000000    1.000000   \n",
       "1        70.378000   0.000000  -3.000000    1.000000    1.000000    1.000000   \n",
       "2        70.384334   1.731395  -1.500000    1.000180    1.000180    1.000000   \n",
       "3        70.387501  -0.000162  -2.000000    1.000135    1.000135    1.000000   \n",
       "4        70.393602   0.636223  -1.063112    1.000347    1.000347    1.000000   \n",
       "...            ...        ...        ...         ...         ...         ...   \n",
       "279512  163.145708   0.376501  -1.127454    1.007320    1.007330    1.000006   \n",
       "279513  163.149029   0.376050  -1.126622    1.007300    1.007309    1.000006   \n",
       "279514  163.152367   0.375814  -1.124991    1.007402    1.007411    1.000006   \n",
       "279515  163.155704   0.375471  -1.123691    1.007381    1.007391    1.000006   \n",
       "279516  163.159075   0.375363  -1.122222    1.007422    1.007431    1.000006   \n",
       "\n",
       "        imp_temp  \n",
       "0       1.000000  \n",
       "1       1.000000  \n",
       "2       1.000180  \n",
       "3       1.000135  \n",
       "4       1.000347  \n",
       "...          ...  \n",
       "279512  1.007327  \n",
       "279513  1.007306  \n",
       "279514  1.007408  \n",
       "279515  1.007388  \n",
       "279516  1.007428  \n",
       "\n",
       "[279517 rows x 13 columns]"
      ]
     },
     "execution_count": 24,
     "metadata": {},
     "output_type": "execute_result"
    }
   ],
   "source": [
    "fe_temp"
   ]
  },
  {
   "cell_type": "code",
   "execution_count": 26,
   "metadata": {},
   "outputs": [
    {
     "data": {
      "text/plain": [
       "<matplotlib.axes._subplots.AxesSubplot at 0x2555c904b38>"
      ]
     },
     "execution_count": 26,
     "metadata": {},
     "output_type": "execute_result"
    },
    {
     "data": {
      "image/png": "[encoded data removed]",
      "text/plain": [
       "<Figure size 792x648 with 2 Axes>"
      ]
     },
     "metadata": {
      "needs_background": "light"
     },
     "output_type": "display_data"
    }
   ],
   "source": [
    "# 計算相關係數\n",
    "corr = fe_temp.corr()\n",
    "mask = np.triu(np.ones_like(corr, dtype=np.bool))\n",
    "f, ax = plt.subplots(figsize=(11, 9))\n",
    "cmap = sns.diverging_palette(220, 10, as_cmap=True)\n",
    "sns.heatmap(corr, mask=mask, cmap=cmap, vmax=.3, center=0,\n",
    "            square=True, linewidths=.5, cbar_kws={\"shrink\": .5})"
   ]
  },
  {
   "cell_type": "code",
   "execution_count": 25,
   "metadata": {},
   "outputs": [],
   "source": [
    "from sklearn.ensemble import RandomForestRegressor"
   ]
  },
  {
   "cell_type": "code",
   "execution_count": 27,
   "metadata": {},
   "outputs": [],
   "source": [
    "from sklearn.model_selection import train_test_split"
   ]
  },
  {
   "cell_type": "code",
   "execution_count": 53,
   "metadata": {},
   "outputs": [],
   "source": [
    "import numpy as np\n",
    "\n",
    "def mean_absolute_percentage_error(y_true, y_pred): \n",
    "    y_true, y_pred = np.array(y_true), np.array(y_pred)\n",
    "    return np.mean(np.abs((y_true - y_pred) / y_true)) * 100"
   ]
  },
  {
   "cell_type": "code",
   "execution_count": 29,
   "metadata": {},
   "outputs": [
    {
     "data": {
      "text/html": [
       "<div>\n",
       "<style scoped>\n",
       "    .dataframe tbody tr th:only-of-type {\n",
       "        vertical-align: middle;\n",
       "    }\n",
       "\n",
       "    .dataframe tbody tr th {\n",
       "        vertical-align: top;\n",
       "    }\n",
       "\n",
       "    .dataframe thead th {\n",
       "        text-align: right;\n",
       "    }\n",
       "</style>\n",
       "<table border=\"1\" class=\"dataframe\">\n",
       "  <thead>\n",
       "    <tr style=\"text-align: right;\">\n",
       "      <th></th>\n",
       "      <th>Rtd sensor</th>\n",
       "      <th>sum_0.x_second</th>\n",
       "      <th>id</th>\n",
       "      <th>av_temp</th>\n",
       "      <th>sd_temp</th>\n",
       "      <th>peak_temp</th>\n",
       "      <th>rms_temp</th>\n",
       "      <th>skew_temp</th>\n",
       "      <th>kurt_temp</th>\n",
       "      <th>crest_temp</th>\n",
       "      <th>clear_temp</th>\n",
       "      <th>shape_temp</th>\n",
       "      <th>imp_temp</th>\n",
       "    </tr>\n",
       "  </thead>\n",
       "  <tbody>\n",
       "    <tr>\n",
       "      <th>0</th>\n",
       "      <td>70.378</td>\n",
       "      <td>348475</td>\n",
       "      <td>1</td>\n",
       "      <td>70.378000</td>\n",
       "      <td>0.000000</td>\n",
       "      <td>70.378</td>\n",
       "      <td>70.378000</td>\n",
       "      <td>0.000000</td>\n",
       "      <td>-3.000000</td>\n",
       "      <td>1.000000</td>\n",
       "      <td>1.000000</td>\n",
       "      <td>1.000000</td>\n",
       "      <td>1.000000</td>\n",
       "    </tr>\n",
       "    <tr>\n",
       "      <th>1</th>\n",
       "      <td>70.378</td>\n",
       "      <td>348476</td>\n",
       "      <td>1</td>\n",
       "      <td>70.378000</td>\n",
       "      <td>0.000000</td>\n",
       "      <td>70.378</td>\n",
       "      <td>70.378000</td>\n",
       "      <td>0.000000</td>\n",
       "      <td>-3.000000</td>\n",
       "      <td>1.000000</td>\n",
       "      <td>1.000000</td>\n",
       "      <td>1.000000</td>\n",
       "      <td>1.000000</td>\n",
       "    </tr>\n",
       "    <tr>\n",
       "      <th>2</th>\n",
       "      <td>70.397</td>\n",
       "      <td>348477</td>\n",
       "      <td>1</td>\n",
       "      <td>70.384333</td>\n",
       "      <td>0.010970</td>\n",
       "      <td>70.397</td>\n",
       "      <td>70.384334</td>\n",
       "      <td>1.731395</td>\n",
       "      <td>-1.500000</td>\n",
       "      <td>1.000180</td>\n",
       "      <td>1.000180</td>\n",
       "      <td>1.000000</td>\n",
       "      <td>1.000180</td>\n",
       "    </tr>\n",
       "    <tr>\n",
       "      <th>3</th>\n",
       "      <td>70.397</td>\n",
       "      <td>348478</td>\n",
       "      <td>1</td>\n",
       "      <td>70.387500</td>\n",
       "      <td>0.010970</td>\n",
       "      <td>70.397</td>\n",
       "      <td>70.387501</td>\n",
       "      <td>-0.000162</td>\n",
       "      <td>-2.000000</td>\n",
       "      <td>1.000135</td>\n",
       "      <td>1.000135</td>\n",
       "      <td>1.000000</td>\n",
       "      <td>1.000135</td>\n",
       "    </tr>\n",
       "    <tr>\n",
       "      <th>4</th>\n",
       "      <td>70.418</td>\n",
       "      <td>348479</td>\n",
       "      <td>1</td>\n",
       "      <td>70.393600</td>\n",
       "      <td>0.016622</td>\n",
       "      <td>70.418</td>\n",
       "      <td>70.393602</td>\n",
       "      <td>0.636223</td>\n",
       "      <td>-1.063112</td>\n",
       "      <td>1.000347</td>\n",
       "      <td>1.000347</td>\n",
       "      <td>1.000000</td>\n",
       "      <td>1.000347</td>\n",
       "    </tr>\n",
       "    <tr>\n",
       "      <th>...</th>\n",
       "      <td>...</td>\n",
       "      <td>...</td>\n",
       "      <td>...</td>\n",
       "      <td>...</td>\n",
       "      <td>...</td>\n",
       "      <td>...</td>\n",
       "      <td>...</td>\n",
       "      <td>...</td>\n",
       "      <td>...</td>\n",
       "      <td>...</td>\n",
       "      <td>...</td>\n",
       "      <td>...</td>\n",
       "      <td>...</td>\n",
       "    </tr>\n",
       "    <tr>\n",
       "      <th>279512</th>\n",
       "      <td>164.340</td>\n",
       "      <td>627987</td>\n",
       "      <td>1</td>\n",
       "      <td>163.144683</td>\n",
       "      <td>0.578763</td>\n",
       "      <td>164.340</td>\n",
       "      <td>163.145708</td>\n",
       "      <td>0.376501</td>\n",
       "      <td>-1.127454</td>\n",
       "      <td>1.007320</td>\n",
       "      <td>1.007330</td>\n",
       "      <td>1.000006</td>\n",
       "      <td>1.007327</td>\n",
       "    </tr>\n",
       "    <tr>\n",
       "      <th>279513</th>\n",
       "      <td>164.340</td>\n",
       "      <td>627988</td>\n",
       "      <td>1</td>\n",
       "      <td>163.148000</td>\n",
       "      <td>0.579903</td>\n",
       "      <td>164.340</td>\n",
       "      <td>163.149029</td>\n",
       "      <td>0.376050</td>\n",
       "      <td>-1.126622</td>\n",
       "      <td>1.007300</td>\n",
       "      <td>1.007309</td>\n",
       "      <td>1.000006</td>\n",
       "      <td>1.007306</td>\n",
       "    </tr>\n",
       "    <tr>\n",
       "      <th>279514</th>\n",
       "      <td>164.360</td>\n",
       "      <td>627989</td>\n",
       "      <td>1</td>\n",
       "      <td>163.151333</td>\n",
       "      <td>0.581112</td>\n",
       "      <td>164.360</td>\n",
       "      <td>163.152367</td>\n",
       "      <td>0.375814</td>\n",
       "      <td>-1.124991</td>\n",
       "      <td>1.007402</td>\n",
       "      <td>1.007411</td>\n",
       "      <td>1.000006</td>\n",
       "      <td>1.007408</td>\n",
       "    </tr>\n",
       "    <tr>\n",
       "      <th>279515</th>\n",
       "      <td>164.360</td>\n",
       "      <td>627990</td>\n",
       "      <td>1</td>\n",
       "      <td>163.154667</td>\n",
       "      <td>0.582301</td>\n",
       "      <td>164.360</td>\n",
       "      <td>163.155704</td>\n",
       "      <td>0.375471</td>\n",
       "      <td>-1.123691</td>\n",
       "      <td>1.007381</td>\n",
       "      <td>1.007391</td>\n",
       "      <td>1.000006</td>\n",
       "      <td>1.007388</td>\n",
       "    </tr>\n",
       "    <tr>\n",
       "      <th>279516</th>\n",
       "      <td>164.370</td>\n",
       "      <td>627991</td>\n",
       "      <td>1</td>\n",
       "      <td>163.158033</td>\n",
       "      <td>0.583479</td>\n",
       "      <td>164.370</td>\n",
       "      <td>163.159075</td>\n",
       "      <td>0.375363</td>\n",
       "      <td>-1.122222</td>\n",
       "      <td>1.007422</td>\n",
       "      <td>1.007431</td>\n",
       "      <td>1.000006</td>\n",
       "      <td>1.007428</td>\n",
       "    </tr>\n",
       "  </tbody>\n",
       "</table>\n",
       "<p>279517 rows × 13 columns</p>\n",
       "</div>"
      ],
      "text/plain": [
       "        Rtd sensor  sum_0.x_second  id     av_temp   sd_temp  peak_temp  \\\n",
       "0           70.378          348475   1   70.378000  0.000000     70.378   \n",
       "1           70.378          348476   1   70.378000  0.000000     70.378   \n",
       "2           70.397          348477   1   70.384333  0.010970     70.397   \n",
       "3           70.397          348478   1   70.387500  0.010970     70.397   \n",
       "4           70.418          348479   1   70.393600  0.016622     70.418   \n",
       "...            ...             ...  ..         ...       ...        ...   \n",
       "279512     164.340          627987   1  163.144683  0.578763    164.340   \n",
       "279513     164.340          627988   1  163.148000  0.579903    164.340   \n",
       "279514     164.360          627989   1  163.151333  0.581112    164.360   \n",
       "279515     164.360          627990   1  163.154667  0.582301    164.360   \n",
       "279516     164.370          627991   1  163.158033  0.583479    164.370   \n",
       "\n",
       "          rms_temp  skew_temp  kurt_temp  crest_temp  clear_temp  shape_temp  \\\n",
       "0        70.378000   0.000000  -3.000000    1.000000    1.000000    1.000000   \n",
       "1        70.378000   0.000000  -3.000000    1.000000    1.000000    1.000000   \n",
       "2        70.384334   1.731395  -1.500000    1.000180    1.000180    1.000000   \n",
       "3        70.387501  -0.000162  -2.000000    1.000135    1.000135    1.000000   \n",
       "4        70.393602   0.636223  -1.063112    1.000347    1.000347    1.000000   \n",
       "...            ...        ...        ...         ...         ...         ...   \n",
       "279512  163.145708   0.376501  -1.127454    1.007320    1.007330    1.000006   \n",
       "279513  163.149029   0.376050  -1.126622    1.007300    1.007309    1.000006   \n",
       "279514  163.152367   0.375814  -1.124991    1.007402    1.007411    1.000006   \n",
       "279515  163.155704   0.375471  -1.123691    1.007381    1.007391    1.000006   \n",
       "279516  163.159075   0.375363  -1.122222    1.007422    1.007431    1.000006   \n",
       "\n",
       "        imp_temp  \n",
       "0       1.000000  \n",
       "1       1.000000  \n",
       "2       1.000180  \n",
       "3       1.000135  \n",
       "4       1.000347  \n",
       "...          ...  \n",
       "279512  1.007327  \n",
       "279513  1.007306  \n",
       "279514  1.007408  \n",
       "279515  1.007388  \n",
       "279516  1.007428  \n",
       "\n",
       "[279517 rows x 13 columns]"
      ]
     },
     "execution_count": 29,
     "metadata": {},
     "output_type": "execute_result"
    }
   ],
   "source": [
    "fe_temp"
   ]
  },
  {
   "cell_type": "code",
   "execution_count": 57,
   "metadata": {},
   "outputs": [],
   "source": [
    "X = fe_temp.drop([\"sum_0.x_second\",\"id\"], axis=1)\n",
    "y = fe_temp[\"sum_0.x_second\"]"
   ]
  },
  {
   "cell_type": "code",
   "execution_count": 61,
   "metadata": {},
   "outputs": [
    {
     "data": {
      "text/html": [
       "<div>\n",
       "<style scoped>\n",
       "    .dataframe tbody tr th:only-of-type {\n",
       "        vertical-align: middle;\n",
       "    }\n",
       "\n",
       "    .dataframe tbody tr th {\n",
       "        vertical-align: top;\n",
       "    }\n",
       "\n",
       "    .dataframe thead th {\n",
       "        text-align: right;\n",
       "    }\n",
       "</style>\n",
       "<table border=\"1\" class=\"dataframe\">\n",
       "  <thead>\n",
       "    <tr style=\"text-align: right;\">\n",
       "      <th></th>\n",
       "      <th>Rtd sensor</th>\n",
       "      <th>av_temp</th>\n",
       "      <th>sd_temp</th>\n",
       "      <th>peak_temp</th>\n",
       "      <th>rms_temp</th>\n",
       "      <th>skew_temp</th>\n",
       "      <th>kurt_temp</th>\n",
       "      <th>crest_temp</th>\n",
       "      <th>clear_temp</th>\n",
       "      <th>shape_temp</th>\n",
       "      <th>imp_temp</th>\n",
       "    </tr>\n",
       "  </thead>\n",
       "  <tbody>\n",
       "    <tr>\n",
       "      <th>0</th>\n",
       "      <td>70.378</td>\n",
       "      <td>70.378000</td>\n",
       "      <td>0.000000</td>\n",
       "      <td>70.378</td>\n",
       "      <td>70.378000</td>\n",
       "      <td>0.000000</td>\n",
       "      <td>-3.000000</td>\n",
       "      <td>1.000000</td>\n",
       "      <td>1.000000</td>\n",
       "      <td>1.000000</td>\n",
       "      <td>1.000000</td>\n",
       "    </tr>\n",
       "    <tr>\n",
       "      <th>1</th>\n",
       "      <td>70.378</td>\n",
       "      <td>70.378000</td>\n",
       "      <td>0.000000</td>\n",
       "      <td>70.378</td>\n",
       "      <td>70.378000</td>\n",
       "      <td>0.000000</td>\n",
       "      <td>-3.000000</td>\n",
       "      <td>1.000000</td>\n",
       "      <td>1.000000</td>\n",
       "      <td>1.000000</td>\n",
       "      <td>1.000000</td>\n",
       "    </tr>\n",
       "    <tr>\n",
       "      <th>2</th>\n",
       "      <td>70.397</td>\n",
       "      <td>70.384333</td>\n",
       "      <td>0.010970</td>\n",
       "      <td>70.397</td>\n",
       "      <td>70.384334</td>\n",
       "      <td>1.731395</td>\n",
       "      <td>-1.500000</td>\n",
       "      <td>1.000180</td>\n",
       "      <td>1.000180</td>\n",
       "      <td>1.000000</td>\n",
       "      <td>1.000180</td>\n",
       "    </tr>\n",
       "    <tr>\n",
       "      <th>3</th>\n",
       "      <td>70.397</td>\n",
       "      <td>70.387500</td>\n",
       "      <td>0.010970</td>\n",
       "      <td>70.397</td>\n",
       "      <td>70.387501</td>\n",
       "      <td>-0.000162</td>\n",
       "      <td>-2.000000</td>\n",
       "      <td>1.000135</td>\n",
       "      <td>1.000135</td>\n",
       "      <td>1.000000</td>\n",
       "      <td>1.000135</td>\n",
       "    </tr>\n",
       "    <tr>\n",
       "      <th>4</th>\n",
       "      <td>70.418</td>\n",
       "      <td>70.393600</td>\n",
       "      <td>0.016622</td>\n",
       "      <td>70.418</td>\n",
       "      <td>70.393602</td>\n",
       "      <td>0.636223</td>\n",
       "      <td>-1.063112</td>\n",
       "      <td>1.000347</td>\n",
       "      <td>1.000347</td>\n",
       "      <td>1.000000</td>\n",
       "      <td>1.000347</td>\n",
       "    </tr>\n",
       "    <tr>\n",
       "      <th>...</th>\n",
       "      <td>...</td>\n",
       "      <td>...</td>\n",
       "      <td>...</td>\n",
       "      <td>...</td>\n",
       "      <td>...</td>\n",
       "      <td>...</td>\n",
       "      <td>...</td>\n",
       "      <td>...</td>\n",
       "      <td>...</td>\n",
       "      <td>...</td>\n",
       "      <td>...</td>\n",
       "    </tr>\n",
       "    <tr>\n",
       "      <th>279512</th>\n",
       "      <td>164.340</td>\n",
       "      <td>163.144683</td>\n",
       "      <td>0.578763</td>\n",
       "      <td>164.340</td>\n",
       "      <td>163.145708</td>\n",
       "      <td>0.376501</td>\n",
       "      <td>-1.127454</td>\n",
       "      <td>1.007320</td>\n",
       "      <td>1.007330</td>\n",
       "      <td>1.000006</td>\n",
       "      <td>1.007327</td>\n",
       "    </tr>\n",
       "    <tr>\n",
       "      <th>279513</th>\n",
       "      <td>164.340</td>\n",
       "      <td>163.148000</td>\n",
       "      <td>0.579903</td>\n",
       "      <td>164.340</td>\n",
       "      <td>163.149029</td>\n",
       "      <td>0.376050</td>\n",
       "      <td>-1.126622</td>\n",
       "      <td>1.007300</td>\n",
       "      <td>1.007309</td>\n",
       "      <td>1.000006</td>\n",
       "      <td>1.007306</td>\n",
       "    </tr>\n",
       "    <tr>\n",
       "      <th>279514</th>\n",
       "      <td>164.360</td>\n",
       "      <td>163.151333</td>\n",
       "      <td>0.581112</td>\n",
       "      <td>164.360</td>\n",
       "      <td>163.152367</td>\n",
       "      <td>0.375814</td>\n",
       "      <td>-1.124991</td>\n",
       "      <td>1.007402</td>\n",
       "      <td>1.007411</td>\n",
       "      <td>1.000006</td>\n",
       "      <td>1.007408</td>\n",
       "    </tr>\n",
       "    <tr>\n",
       "      <th>279515</th>\n",
       "      <td>164.360</td>\n",
       "      <td>163.154667</td>\n",
       "      <td>0.582301</td>\n",
       "      <td>164.360</td>\n",
       "      <td>163.155704</td>\n",
       "      <td>0.375471</td>\n",
       "      <td>-1.123691</td>\n",
       "      <td>1.007381</td>\n",
       "      <td>1.007391</td>\n",
       "      <td>1.000006</td>\n",
       "      <td>1.007388</td>\n",
       "    </tr>\n",
       "    <tr>\n",
       "      <th>279516</th>\n",
       "      <td>164.370</td>\n",
       "      <td>163.158033</td>\n",
       "      <td>0.583479</td>\n",
       "      <td>164.370</td>\n",
       "      <td>163.159075</td>\n",
       "      <td>0.375363</td>\n",
       "      <td>-1.122222</td>\n",
       "      <td>1.007422</td>\n",
       "      <td>1.007431</td>\n",
       "      <td>1.000006</td>\n",
       "      <td>1.007428</td>\n",
       "    </tr>\n",
       "  </tbody>\n",
       "</table>\n",
       "<p>279517 rows × 11 columns</p>\n",
       "</div>"
      ],
      "text/plain": [
       "        Rtd sensor     av_temp   sd_temp  peak_temp    rms_temp  skew_temp  \\\n",
       "0           70.378   70.378000  0.000000     70.378   70.378000   0.000000   \n",
       "1           70.378   70.378000  0.000000     70.378   70.378000   0.000000   \n",
       "2           70.397   70.384333  0.010970     70.397   70.384334   1.731395   \n",
       "3           70.397   70.387500  0.010970     70.397   70.387501  -0.000162   \n",
       "4           70.418   70.393600  0.016622     70.418   70.393602   0.636223   \n",
       "...            ...         ...       ...        ...         ...        ...   \n",
       "279512     164.340  163.144683  0.578763    164.340  163.145708   0.376501   \n",
       "279513     164.340  163.148000  0.579903    164.340  163.149029   0.376050   \n",
       "279514     164.360  163.151333  0.581112    164.360  163.152367   0.375814   \n",
       "279515     164.360  163.154667  0.582301    164.360  163.155704   0.375471   \n",
       "279516     164.370  163.158033  0.583479    164.370  163.159075   0.375363   \n",
       "\n",
       "        kurt_temp  crest_temp  clear_temp  shape_temp  imp_temp  \n",
       "0       -3.000000    1.000000    1.000000    1.000000  1.000000  \n",
       "1       -3.000000    1.000000    1.000000    1.000000  1.000000  \n",
       "2       -1.500000    1.000180    1.000180    1.000000  1.000180  \n",
       "3       -2.000000    1.000135    1.000135    1.000000  1.000135  \n",
       "4       -1.063112    1.000347    1.000347    1.000000  1.000347  \n",
       "...           ...         ...         ...         ...       ...  \n",
       "279512  -1.127454    1.007320    1.007330    1.000006  1.007327  \n",
       "279513  -1.126622    1.007300    1.007309    1.000006  1.007306  \n",
       "279514  -1.124991    1.007402    1.007411    1.000006  1.007408  \n",
       "279515  -1.123691    1.007381    1.007391    1.000006  1.007388  \n",
       "279516  -1.122222    1.007422    1.007431    1.000006  1.007428  \n",
       "\n",
       "[279517 rows x 11 columns]"
      ]
     },
     "execution_count": 61,
     "metadata": {},
     "output_type": "execute_result"
    }
   ],
   "source": [
    "X"
   ]
  },
  {
   "cell_type": "code",
   "execution_count": 58,
   "metadata": {},
   "outputs": [],
   "source": [
    "X_train, X_test, y_train, y_test = train_test_split(X, y, test_size=0.2, random_state=42)"
   ]
  },
  {
   "cell_type": "code",
   "execution_count": 60,
   "metadata": {},
   "outputs": [
    {
     "name": "stdout",
     "output_type": "stream",
     "text": [
      "R2 training: 0.988, R2 testing: 0.988\n",
      "MSE training: 79167064.568, MSE testing: 79416904.895\n",
      "RMSE training: 8897.588, RMSE testing: 8911.616\n",
      "RMSE training: 0.995, RMSE testing: 0.999\n"
     ]
    }
   ],
   "source": [
    "rf = RandomForestRegressor(n_estimators=368, max_features=9, max_depth=9, n_jobs=-1, random_state=1)\n",
    "\n",
    "rf.fit(X_train, y_train)\n",
    "\n",
    "y_test_predict = rf.predict(X_test)\n",
    "y_train_predict = rf.predict(X_train)\n",
    "\n",
    "\n",
    "train_r2 = r2_score(y_train, y_train_predict)\n",
    "test_r2 = r2_score(y_test, y_test_predict)\n",
    "train_mse = mean_squared_error(y_train, y_train_predict)\n",
    "test_mse = mean_squared_error(y_test, y_test_predict)\n",
    "train_mape = mean_absolute_percentage_error(y_train, y_train_predict)\n",
    "test_mape = mean_absolute_percentage_error(y_test, y_test_predict)\n",
    "print('R2 training: %.3f, R2 testing: %.3f' % (\n",
    "      (train_r2), (test_r2)))\n",
    "print('MSE training: %.3f, MSE testing: %.3f' % (\n",
    "      (train_mse), (test_mse)))\n",
    "print('RMSE training: %.3f, RMSE testing: %.3f' % (\n",
    "      (train_mse**0.5), (test_mse**0.5)))\n",
    "print('RMSE training: %.3f, RMSE testing: %.3f' % (\n",
    "      (train_mape), (test_mape)))"
   ]
  },
  {
   "cell_type": "code",
   "execution_count": 47,
   "metadata": {},
   "outputs": [],
   "source": [
    "X = pd.DataFrame(fe_temp[\"Rtd sensor\"])\n",
    "y = fe_temp[\"sum_0.x_second\"]"
   ]
  },
  {
   "cell_type": "code",
   "execution_count": 48,
   "metadata": {},
   "outputs": [],
   "source": [
    "X_train, X_test, y_train, y_test = train_test_split(X, y, test_size=0.2, random_state=42)"
   ]
  },
  {
   "cell_type": "code",
   "execution_count": 45,
   "metadata": {},
   "outputs": [],
   "source": [
    "from sklearn.tree import DecisionTreeRegressor"
   ]
  },
  {
   "cell_type": "code",
   "execution_count": 55,
   "metadata": {},
   "outputs": [
    {
     "name": "stdout",
     "output_type": "stream",
     "text": [
      "R2 training: 0.980, R2 testing: 0.980\n",
      "MSE training: 129763301.367, MSE testing: 130225101.578\n",
      "RMSE training: 11391.370, RMSE testing: 11411.621\n",
      "RMSE training: 1.426, RMSE testing: 1.429\n"
     ]
    }
   ],
   "source": [
    "rf = DecisionTreeRegressor(max_depth=10)\n",
    "\n",
    "rf.fit(X_train, y_train)\n",
    "\n",
    "y_test_predict = rf.predict(X_test)\n",
    "y_train_predict = rf.predict(X_train)\n",
    "\n",
    "train_r2 = r2_score(y_train, y_train_predict)\n",
    "test_r2 = r2_score(y_test, y_test_predict)\n",
    "train_mse = mean_squared_error(y_train, y_train_predict)\n",
    "test_mse = mean_squared_error(y_test, y_test_predict)\n",
    "train_mape = mean_absolute_percentage_error(y_train, y_train_predict)\n",
    "test_mape = mean_absolute_percentage_error(y_test, y_test_predict)\n",
    "print('R2 training: %.3f, R2 testing: %.3f' % (\n",
    "      (train_r2), (test_r2)))\n",
    "print('MSE training: %.3f, MSE testing: %.3f' % (\n",
    "      (train_mse), (test_mse)))\n",
    "print('RMSE training: %.3f, RMSE testing: %.3f' % (\n",
    "      (train_mse**0.5), (test_mse**0.5)))\n",
    "print('RMSE training: %.3f, RMSE testing: %.3f' % (\n",
    "      (train_mape), (test_mape)))"
   ]
  },
  {
   "cell_type": "code",
   "execution_count": null,
   "metadata": {},
   "outputs": [],
   "source": []
  },
  {
   "cell_type": "code",
   "execution_count": null,
   "metadata": {},
   "outputs": [],
   "source": []
  },
  {
   "cell_type": "code",
   "execution_count": 36,
   "metadata": {},
   "outputs": [],
   "source": [
    "from sklearn.metrics import r2_score"
   ]
  },
  {
   "cell_type": "code",
   "execution_count": 34,
   "metadata": {},
   "outputs": [],
   "source": [
    "from sklearn.metrics import mean_squared_error"
   ]
  },
  {
   "cell_type": "code",
   "execution_count": null,
   "metadata": {},
   "outputs": [],
   "source": [
    "rd = RandomForestRegressor()"
   ]
  },
  {
   "cell_type": "code",
   "execution_count": 94,
   "metadata": {},
   "outputs": [
    {
     "data": {
      "text/plain": [
       "[<matplotlib.lines.Line2D at 0x25c0b71aac8>]"
      ]
     },
     "execution_count": 94,
     "metadata": {},
     "output_type": "execute_result"
    },
    {
     "data": {
      "image/png": "[encoded data removed]",
      "text/plain": [
       "<Figure size 432x288 with 1 Axes>"
      ]
     },
     "metadata": {
      "needs_background": "light"
     },
     "output_type": "display_data"
    }
   ],
   "source": [
    "plt.plot(fe_temp[\"av_temp\"])"
   ]
  },
  {
   "cell_type": "code",
   "execution_count": 95,
   "metadata": {},
   "outputs": [],
   "source": [
    "def add_features_acc(df_in, ws):\n",
    "    \n",
    "        \n",
    "    \n",
    "    \n",
    "    sensor_cols = [\"Rtd sensor\"]\n",
    "    sensor_av_cols = [\"av_temp\"]\n",
    "    sensor_sd_cols = [\"sd_temp\"]\n",
    "    sensor_peak_cols = [\"peak_temp\"]\n",
    "    sensor_rms_cols = [\"rms_temp\"]\n",
    "    sensor_skew_cols = [\"skew_temp\"]\n",
    "    sensor_kurt_cols = [\"kurt_temp\"]\n",
    "    sensor_crest_cols = [\"crest_temp\"]\n",
    "    sensor_clear_cols = [\"clear_temp\"]\n",
    "    sensor_shape_cols = [\"shape_temp\"]\n",
    "    sensor_imp_cols = [\"imp_temp\"]\n",
    "#     sensor_p2ph_cols = [nm.replace('s', 'p2ph') for nm in sensor_cols]\n",
    "#     sensor_p2pf_cols = [nm.replace('s', 'p2pf') for nm in sensor_cols]\n",
    "\n",
    "\n",
    "    df_out = pd.DataFrame()\n",
    "    for m_id in pd.unique(df_in.id):\n",
    "\n",
    "            # get a subset for each engine sensors\n",
    "            df_engine = df_in[df_in['id'] == m_id]\n",
    "            df_sub = df_engine[sensor_cols]\n",
    "\n",
    "\n",
    "            # get rolling mean for the subset\n",
    "            av = df_sub.rolling(ws, min_periods=1).mean()\n",
    "            av.columns = sensor_av_cols\n",
    "\n",
    "            # get the rolling standard deviation for the subset\n",
    "            sd = df_sub.rolling(ws, min_periods=1).std().fillna(0)\n",
    "            sd.columns = sensor_sd_cols\n",
    "\n",
    "            # get the rolling peak value for the subset\n",
    "            pk = df_sub.rolling(ws, min_periods=1).max().fillna(0)\n",
    "            pk.columns = sensor_peak_cols       \n",
    "\n",
    "            # get the rolling rms for the subset\n",
    "            rms = lambda d: np.sqrt ((d ** 2) .sum ()/d.size)\n",
    "            res = df_sub.rolling(ws, min_periods=1).apply (rms).fillna(0)\n",
    "            res.columns = sensor_rms_cols\n",
    "\n",
    "            # get the rolling skewness for the subset\n",
    "            skew = df_sub.rolling(ws, min_periods=1).skew().fillna(0)\n",
    "            skew.columns = sensor_skew_cols\n",
    "\n",
    "            # get the rolling skewness for the subset\n",
    "            kurt = df_sub.rolling(ws, min_periods=1).apply(kurtosis).fillna(0)\n",
    "            kurt.columns = sensor_kurt_cols\n",
    "\n",
    "            # get the rolling crest i for the subset\n",
    "            res_sub = res.copy()\n",
    "            pk_sub = pk.copy()\n",
    "            res_sub.columns = sensor_crest_cols\n",
    "            pk_sub.columns = sensor_crest_cols\n",
    "            crest = pk_sub/res_sub\n",
    "            crest.columns = sensor_crest_cols    \n",
    "\n",
    "            # get the rolling clearance i for the subset\n",
    "            # get the sub\n",
    "            sub_f = lambda d: np.square ((d ** 0.5) .sum ()/d.size)\n",
    "            sub = df_sub.rolling(ws, min_periods=1).apply (sub_f).fillna(0)\n",
    "            sub.columns = sensor_crest_cols\n",
    "            clear = pk_sub/sub\n",
    "            clear.columns = sensor_clear_cols\n",
    "\n",
    "            # get the rolling shape i for the subset\n",
    "            av_sub = av.copy()\n",
    "            av_sub.columns = sensor_crest_cols\n",
    "            shape = res_sub/av_sub\n",
    "            shape.columns = sensor_shape_cols\n",
    "\n",
    "            # get the rolling impulse i for the subset\n",
    "            imp = pk_sub/av_sub\n",
    "            imp.columns = sensor_imp_cols\n",
    "\n",
    "#             # get rolling p2p_half length for the subset\n",
    "#             p2ph = df_sub.rolling(ws, min_periods=1).apply(p2ph_h)\n",
    "#             p2ph.columns = sensor_p2ph_cols\n",
    "\n",
    "#             # get rolling p2p_full length for the subset\n",
    "#             p2pf = df_sub.rolling(ws, min_periods=1).apply(p2pf_f)\n",
    "#             p2pf.columns = sensor_p2pf_cols        \n",
    "#             # combine the two new subset dataframes columns to the engine subset\n",
    "\n",
    "            new_ftrs = pd.concat([df_engine,av,sd,pk,res,skew,kurt,crest,clear,shape,imp], axis=1)\n",
    "        \n",
    "            # add the new features rows to the output dataframe\n",
    "            df_out = pd.concat([df_out,new_ftrs])\n",
    "    \n",
    "    return df_out"
   ]
  },
  {
   "cell_type": "code",
   "execution_count": 97,
   "metadata": {},
   "outputs": [],
   "source": [
    "acc_df_m = acc_df[[\"Horiz_acc\",\"vert_accel\",\"sum_us\"]]"
   ]
  },
  {
   "cell_type": "code",
   "execution_count": 98,
   "metadata": {},
   "outputs": [
    {
     "name": "stderr",
     "output_type": "stream",
     "text": [
      "C:\\Users\\User\\anaconda3\\lib\\site-packages\\ipykernel_launcher.py:1: SettingWithCopyWarning: \n",
      "A value is trying to be set on a copy of a slice from a DataFrame.\n",
      "Try using .loc[row_indexer,col_indexer] = value instead\n",
      "\n",
      "See the caveats in the documentation: https://pandas.pydata.org/pandas-docs/stable/user_guide/indexing.html#returning-a-view-versus-a-copy\n",
      "  \"\"\"Entry point for launching an IPython kernel.\n"
     ]
    }
   ],
   "source": [
    "acc_df_m[\"id\"] = 1"
   ]
  },
  {
   "cell_type": "code",
   "execution_count": 102,
   "metadata": {},
   "outputs": [],
   "source": [
    "def add_features_acc(df_in, ws):\n",
    "    \n",
    "        \n",
    "    \n",
    "    \n",
    "    sensor_cols = [\"Horiz_acc\",\"vert_accel\"]\n",
    "    sensor_av_cols = [\"av_horiz\",\"av_vert\"]\n",
    "    sensor_sd_cols = [\"sd_horiz\",\"sd_vert\"]\n",
    "    sensor_peak_cols = [\"peak_horiz\",\"peak_vert\"]\n",
    "    sensor_rms_cols = [\"rms_horiz\",\"rms_vert\"]\n",
    "    sensor_skew_cols =[\"skew_horiz\",\"skew_vert\"]\n",
    "    sensor_kurt_cols = [\"kurt_horiz\",\"kurt_vert\"]\n",
    "    \n",
    "    sensor_crest_cols = [\"crest_horiz\",\"crest_vert\"]\n",
    "    sensor_clear_cols = [\"clear_horiz\",\"clear_vert\"]\n",
    "    sensor_shape_cols =[\"shape_horiz\",\"shape_vert\"]\n",
    "    sensor_imp_cols = [\"imp_horiz\",\"imp_vert\"]\n",
    "    sensor_p2ph_cols = [\"p2ph_horiz\",\"p2ph_vert\"]\n",
    "    sensor_p2pf_cols = [\"p2pf_horiz\",\"p2pf_vert\"]\n",
    "\n",
    "\n",
    "    df_out = pd.DataFrame()\n",
    "    for m_id in pd.unique(df_in.id):\n",
    "\n",
    "            # get a subset for each engine sensors\n",
    "            df_engine = df_in[df_in['id'] == m_id]\n",
    "            df_sub = df_engine[sensor_cols]\n",
    "\n",
    "\n",
    "            # get rolling mean for the subset\n",
    "            av = df_sub.rolling(ws, min_periods=1).mean()\n",
    "            av.columns = sensor_av_cols\n",
    "\n",
    "            # get the rolling standard deviation for the subset\n",
    "            sd = df_sub.rolling(ws, min_periods=1).std().fillna(0)\n",
    "            sd.columns = sensor_sd_cols\n",
    "\n",
    "            # get the rolling peak value for the subset\n",
    "            pk = df_sub.rolling(ws, min_periods=1).max().fillna(0)\n",
    "            pk.columns = sensor_peak_cols       \n",
    "\n",
    "            # get the rolling rms for the subset\n",
    "            rms = lambda d: np.sqrt ((d ** 2) .sum ()/d.size)\n",
    "            res = df_sub.rolling(ws, min_periods=1).apply (rms).fillna(0)\n",
    "            res.columns = sensor_rms_cols\n",
    "\n",
    "            # get the rolling skewness for the subset\n",
    "            skew = df_sub.rolling(ws, min_periods=1).skew().fillna(0)\n",
    "            skew.columns = sensor_skew_cols\n",
    "\n",
    "            # get the rolling skewness for the subset\n",
    "            kurt = df_sub.rolling(ws, min_periods=1).apply(kurtosis).fillna(0)\n",
    "            kurt.columns = sensor_kurt_cols\n",
    "\n",
    "            # get the rolling crest i for the subset\n",
    "            res_sub = res.copy()\n",
    "            pk_sub = pk.copy()\n",
    "            res_sub.columns = sensor_crest_cols\n",
    "            pk_sub.columns = sensor_crest_cols\n",
    "            crest = pk_sub/res_sub\n",
    "            crest.columns = sensor_crest_cols    \n",
    "\n",
    "            # get the rolling clearance i for the subset\n",
    "            # get the sub\n",
    "            sub_f = lambda d: np.square ((d ** 0.5) .sum ()/d.size)\n",
    "            sub = df_sub.rolling(ws, min_periods=1).apply (sub_f).fillna(0)\n",
    "            sub.columns = sensor_crest_cols\n",
    "            clear = pk_sub/sub\n",
    "            clear.columns = sensor_clear_cols\n",
    "\n",
    "            # get the rolling shape i for the subset\n",
    "            av_sub = av.copy()\n",
    "            av_sub.columns = sensor_crest_cols\n",
    "            shape = res_sub/av_sub\n",
    "            shape.columns = sensor_shape_cols\n",
    "\n",
    "            # get the rolling impulse i for the subset\n",
    "            imp = pk_sub/av_sub\n",
    "            imp.columns = sensor_imp_cols\n",
    "\n",
    "            # get rolling p2p_half length for the subset\n",
    "            p2ph = df_sub.rolling(ws, min_periods=1).apply(p2ph_h)\n",
    "            p2ph.columns = sensor_p2ph_cols\n",
    "\n",
    "#             # get rolling p2p_full length for the subset\n",
    "            p2pf = df_sub.rolling(ws, min_periods=1).apply(p2pf_f)\n",
    "            p2pf.columns = sensor_p2pf_cols        \n",
    "#             # combine the two new subset dataframes columns to the engine subset\n",
    "\n",
    "            new_ftrs = pd.concat([df_engine,av,sd,pk,res,skew,kurt,crest,clear,shape,imp,p2ph,p2pf], axis=1)\n",
    "        \n",
    "            # add the new features rows to the output dataframe\n",
    "            df_out = pd.concat([df_out,new_ftrs])\n",
    "    \n",
    "    return df_out"
   ]
  },
  {
   "cell_type": "code",
   "execution_count": null,
   "metadata": {},
   "outputs": [],
   "source": [
    "fe_acc = add_features_acc(acc_df_m,2560)"
   ]
  },
  {
   "cell_type": "code",
   "execution_count": null,
   "metadata": {},
   "outputs": [],
   "source": [
    "1 sample => plt.plot(fe_temp[\"av_temp\"])"
   ]
  },
  {
   "cell_type": "code",
   "execution_count": 17,
   "metadata": {
    "collapsed": true
   },
   "outputs": [
    {
     "ename": "NameError",
     "evalue": "name 'all_df' is not defined",
     "output_type": "error",
     "traceback": [
      "\u001b[1;31m---------------------------------------------------------------------------\u001b[0m",
      "\u001b[1;31mNameError\u001b[0m                                 Traceback (most recent call last)",
      "\u001b[1;32m<ipython-input-17-bf8689ad2a9a>\u001b[0m in \u001b[0;36m<module>\u001b[1;34m\u001b[0m\n\u001b[1;32m----> 1\u001b[1;33m \u001b[0mall_df\u001b[0m\u001b[1;33m[\u001b[0m\u001b[0mall_df\u001b[0m\u001b[1;33m[\u001b[0m\u001b[1;34m\"id\"\u001b[0m\u001b[1;33m]\u001b[0m\u001b[1;33m==\u001b[0m\u001b[1;36m1\u001b[0m\u001b[1;33m]\u001b[0m\u001b[1;33m\u001b[0m\u001b[1;33m\u001b[0m\u001b[0m\n\u001b[0m",
      "\u001b[1;31mNameError\u001b[0m: name 'all_df' is not defined"
     ]
    }
   ],
   "source": [
    "all_df[all_df[\"id\"]==1]"
   ]
  },
  {
   "cell_type": "code",
   "execution_count": 6,
   "metadata": {},
   "outputs": [],
   "source": [
    "all_df[\"sum_us\"] = all_df[\"Hour\"]*60*60*10**6 + all_df[\"Minute\"]*60*10**6 + all_df[\"second\"]*10**6 + all_df[\"u-Second\"]"
   ]
  },
  {
   "cell_type": "code",
   "execution_count": 7,
   "metadata": {},
   "outputs": [
    {
     "data": {
      "text/html": [
       "<div>\n",
       "<style scoped>\n",
       "    .dataframe tbody tr th:only-of-type {\n",
       "        vertical-align: middle;\n",
       "    }\n",
       "\n",
       "    .dataframe tbody tr th {\n",
       "        vertical-align: top;\n",
       "    }\n",
       "\n",
       "    .dataframe thead th {\n",
       "        text-align: right;\n",
       "    }\n",
       "</style>\n",
       "<table border=\"1\" class=\"dataframe\">\n",
       "  <thead>\n",
       "    <tr style=\"text-align: right;\">\n",
       "      <th></th>\n",
       "      <th>Hour</th>\n",
       "      <th>Minute</th>\n",
       "      <th>second</th>\n",
       "      <th>u-Second</th>\n",
       "      <th>Horiz_acc</th>\n",
       "      <th>vert_accel</th>\n",
       "      <th>id</th>\n",
       "      <th>sum_us</th>\n",
       "    </tr>\n",
       "  </thead>\n",
       "  <tbody>\n",
       "    <tr>\n",
       "      <th>0</th>\n",
       "      <td>9</td>\n",
       "      <td>39</td>\n",
       "      <td>39</td>\n",
       "      <td>65664.0</td>\n",
       "      <td>0.552</td>\n",
       "      <td>-0.146</td>\n",
       "      <td>1</td>\n",
       "      <td>3.477907e+10</td>\n",
       "    </tr>\n",
       "    <tr>\n",
       "      <th>1</th>\n",
       "      <td>9</td>\n",
       "      <td>39</td>\n",
       "      <td>39</td>\n",
       "      <td>65703.0</td>\n",
       "      <td>0.501</td>\n",
       "      <td>-0.480</td>\n",
       "      <td>1</td>\n",
       "      <td>3.477907e+10</td>\n",
       "    </tr>\n",
       "    <tr>\n",
       "      <th>2</th>\n",
       "      <td>9</td>\n",
       "      <td>39</td>\n",
       "      <td>39</td>\n",
       "      <td>65742.0</td>\n",
       "      <td>0.138</td>\n",
       "      <td>0.435</td>\n",
       "      <td>1</td>\n",
       "      <td>3.477907e+10</td>\n",
       "    </tr>\n",
       "    <tr>\n",
       "      <th>3</th>\n",
       "      <td>9</td>\n",
       "      <td>39</td>\n",
       "      <td>39</td>\n",
       "      <td>65781.0</td>\n",
       "      <td>-0.423</td>\n",
       "      <td>0.240</td>\n",
       "      <td>1</td>\n",
       "      <td>3.477907e+10</td>\n",
       "    </tr>\n",
       "    <tr>\n",
       "      <th>4</th>\n",
       "      <td>9</td>\n",
       "      <td>39</td>\n",
       "      <td>39</td>\n",
       "      <td>65820.0</td>\n",
       "      <td>-0.802</td>\n",
       "      <td>0.020</td>\n",
       "      <td>1</td>\n",
       "      <td>3.477907e+10</td>\n",
       "    </tr>\n",
       "    <tr>\n",
       "      <th>...</th>\n",
       "      <td>...</td>\n",
       "      <td>...</td>\n",
       "      <td>...</td>\n",
       "      <td>...</td>\n",
       "      <td>...</td>\n",
       "      <td>...</td>\n",
       "      <td>...</td>\n",
       "      <td>...</td>\n",
       "    </tr>\n",
       "    <tr>\n",
       "      <th>7175675</th>\n",
       "      <td>17</td>\n",
       "      <td>26</td>\n",
       "      <td>39</td>\n",
       "      <td>165470.0</td>\n",
       "      <td>-3.353</td>\n",
       "      <td>2.129</td>\n",
       "      <td>2803</td>\n",
       "      <td>6.279917e+10</td>\n",
       "    </tr>\n",
       "    <tr>\n",
       "      <th>7175676</th>\n",
       "      <td>17</td>\n",
       "      <td>26</td>\n",
       "      <td>39</td>\n",
       "      <td>165510.0</td>\n",
       "      <td>-2.868</td>\n",
       "      <td>-2.299</td>\n",
       "      <td>2803</td>\n",
       "      <td>6.279917e+10</td>\n",
       "    </tr>\n",
       "    <tr>\n",
       "      <th>7175677</th>\n",
       "      <td>17</td>\n",
       "      <td>26</td>\n",
       "      <td>39</td>\n",
       "      <td>165550.0</td>\n",
       "      <td>-5.507</td>\n",
       "      <td>-1.844</td>\n",
       "      <td>2803</td>\n",
       "      <td>6.279917e+10</td>\n",
       "    </tr>\n",
       "    <tr>\n",
       "      <th>7175678</th>\n",
       "      <td>17</td>\n",
       "      <td>26</td>\n",
       "      <td>39</td>\n",
       "      <td>165580.0</td>\n",
       "      <td>-3.578</td>\n",
       "      <td>2.146</td>\n",
       "      <td>2803</td>\n",
       "      <td>6.279917e+10</td>\n",
       "    </tr>\n",
       "    <tr>\n",
       "      <th>7175679</th>\n",
       "      <td>17</td>\n",
       "      <td>26</td>\n",
       "      <td>39</td>\n",
       "      <td>165620.0</td>\n",
       "      <td>-2.709</td>\n",
       "      <td>0.470</td>\n",
       "      <td>2803</td>\n",
       "      <td>6.279917e+10</td>\n",
       "    </tr>\n",
       "  </tbody>\n",
       "</table>\n",
       "<p>7175680 rows × 8 columns</p>\n",
       "</div>"
      ],
      "text/plain": [
       "         Hour  Minute  second  u-Second  Horiz_acc  vert_accel    id  \\\n",
       "0           9      39      39   65664.0      0.552      -0.146     1   \n",
       "1           9      39      39   65703.0      0.501      -0.480     1   \n",
       "2           9      39      39   65742.0      0.138       0.435     1   \n",
       "3           9      39      39   65781.0     -0.423       0.240     1   \n",
       "4           9      39      39   65820.0     -0.802       0.020     1   \n",
       "...       ...     ...     ...       ...        ...         ...   ...   \n",
       "7175675    17      26      39  165470.0     -3.353       2.129  2803   \n",
       "7175676    17      26      39  165510.0     -2.868      -2.299  2803   \n",
       "7175677    17      26      39  165550.0     -5.507      -1.844  2803   \n",
       "7175678    17      26      39  165580.0     -3.578       2.146  2803   \n",
       "7175679    17      26      39  165620.0     -2.709       0.470  2803   \n",
       "\n",
       "               sum_us  \n",
       "0        3.477907e+10  \n",
       "1        3.477907e+10  \n",
       "2        3.477907e+10  \n",
       "3        3.477907e+10  \n",
       "4        3.477907e+10  \n",
       "...               ...  \n",
       "7175675  6.279917e+10  \n",
       "7175676  6.279917e+10  \n",
       "7175677  6.279917e+10  \n",
       "7175678  6.279917e+10  \n",
       "7175679  6.279917e+10  \n",
       "\n",
       "[7175680 rows x 8 columns]"
      ]
     },
     "execution_count": 7,
     "metadata": {},
     "output_type": "execute_result"
    }
   ],
   "source": [
    "all_df"
   ]
  },
  {
   "cell_type": "code",
   "execution_count": 11,
   "metadata": {},
   "outputs": [
    {
     "data": {
      "text/plain": [
       "<matplotlib.collections.PathCollection at 0x1f2a5e59978>"
      ]
     },
     "execution_count": 11,
     "metadata": {},
     "output_type": "execute_result"
    },
    {
     "data": {
      "image/png": "[encoded data removed]",
      "text/plain": [
       "<Figure size 720x432 with 1 Axes>"
      ]
     },
     "metadata": {
      "needs_background": "light"
     },
     "output_type": "display_data"
    }
   ],
   "source": [
    "plt.figure(figsize=(10,6))\n",
    "plt.scatter(all_df[\"sum_us\"], all_df[\"Horiz_acc\"])"
   ]
  },
  {
   "cell_type": "code",
   "execution_count": 13,
   "metadata": {},
   "outputs": [
    {
     "data": {
      "text/plain": [
       "<matplotlib.collections.PathCollection at 0x1f2a621c400>"
      ]
     },
     "execution_count": 13,
     "metadata": {},
     "output_type": "execute_result"
    },
    {
     "data": {
      "image/png": "[encoded data removed]",
      "text/plain": [
       "<Figure size 720x432 with 1 Axes>"
      ]
     },
     "metadata": {
      "needs_background": "light"
     },
     "output_type": "display_data"
    }
   ],
   "source": [
    "plt.figure(figsize=(10,6))\n",
    "plt.scatter(all_df[\"sum_us\"], all_df[\"vert_accel\"])"
   ]
  },
  {
   "cell_type": "code",
   "execution_count": 19,
   "metadata": {},
   "outputs": [
    {
     "data": {
      "text/plain": [
       "[<matplotlib.lines.Line2D at 0x1f2a6021080>]"
      ]
     },
     "execution_count": 19,
     "metadata": {},
     "output_type": "execute_result"
    },
    {
     "data": {
      "image/png": "[encoded data removed]",
      "text/plain": [
       "<Figure size 720x432 with 1 Axes>"
      ]
     },
     "metadata": {
      "needs_background": "light"
     },
     "output_type": "display_data"
    }
   ],
   "source": [
    "plt.figure(figsize=(10,6))\n",
    "plt.plot(all_df[\"sum_us\"], all_df[\"vert_accel\"])"
   ]
  },
  {
   "cell_type": "code",
   "execution_count": 14,
   "metadata": {},
   "outputs": [],
   "source": [
    "all_df.to_csv(\"1-1_acc_df.csv\",index=None)"
   ]
  },
  {
   "cell_type": "code",
   "execution_count": 16,
   "metadata": {},
   "outputs": [
    {
     "data": {
      "text/html": [
       "<div>\n",
       "<style scoped>\n",
       "    .dataframe tbody tr th:only-of-type {\n",
       "        vertical-align: middle;\n",
       "    }\n",
       "\n",
       "    .dataframe tbody tr th {\n",
       "        vertical-align: top;\n",
       "    }\n",
       "\n",
       "    .dataframe thead th {\n",
       "        text-align: right;\n",
       "    }\n",
       "</style>\n",
       "<table border=\"1\" class=\"dataframe\">\n",
       "  <thead>\n",
       "    <tr style=\"text-align: right;\">\n",
       "      <th></th>\n",
       "      <th>Hour</th>\n",
       "      <th>Minute</th>\n",
       "      <th>second</th>\n",
       "      <th>u-Second</th>\n",
       "      <th>Horiz_acc</th>\n",
       "      <th>vert_accel</th>\n",
       "      <th>id</th>\n",
       "      <th>sum_us</th>\n",
       "    </tr>\n",
       "  </thead>\n",
       "  <tbody>\n",
       "    <tr>\n",
       "      <th>0</th>\n",
       "      <td>9</td>\n",
       "      <td>39</td>\n",
       "      <td>39</td>\n",
       "      <td>65664.0</td>\n",
       "      <td>0.552</td>\n",
       "      <td>-0.146</td>\n",
       "      <td>1</td>\n",
       "      <td>3.477907e+10</td>\n",
       "    </tr>\n",
       "    <tr>\n",
       "      <th>1</th>\n",
       "      <td>9</td>\n",
       "      <td>39</td>\n",
       "      <td>39</td>\n",
       "      <td>65703.0</td>\n",
       "      <td>0.501</td>\n",
       "      <td>-0.480</td>\n",
       "      <td>1</td>\n",
       "      <td>3.477907e+10</td>\n",
       "    </tr>\n",
       "    <tr>\n",
       "      <th>2</th>\n",
       "      <td>9</td>\n",
       "      <td>39</td>\n",
       "      <td>39</td>\n",
       "      <td>65742.0</td>\n",
       "      <td>0.138</td>\n",
       "      <td>0.435</td>\n",
       "      <td>1</td>\n",
       "      <td>3.477907e+10</td>\n",
       "    </tr>\n",
       "    <tr>\n",
       "      <th>3</th>\n",
       "      <td>9</td>\n",
       "      <td>39</td>\n",
       "      <td>39</td>\n",
       "      <td>65781.0</td>\n",
       "      <td>-0.423</td>\n",
       "      <td>0.240</td>\n",
       "      <td>1</td>\n",
       "      <td>3.477907e+10</td>\n",
       "    </tr>\n",
       "    <tr>\n",
       "      <th>4</th>\n",
       "      <td>9</td>\n",
       "      <td>39</td>\n",
       "      <td>39</td>\n",
       "      <td>65820.0</td>\n",
       "      <td>-0.802</td>\n",
       "      <td>0.020</td>\n",
       "      <td>1</td>\n",
       "      <td>3.477907e+10</td>\n",
       "    </tr>\n",
       "    <tr>\n",
       "      <th>...</th>\n",
       "      <td>...</td>\n",
       "      <td>...</td>\n",
       "      <td>...</td>\n",
       "      <td>...</td>\n",
       "      <td>...</td>\n",
       "      <td>...</td>\n",
       "      <td>...</td>\n",
       "      <td>...</td>\n",
       "    </tr>\n",
       "    <tr>\n",
       "      <th>7175675</th>\n",
       "      <td>17</td>\n",
       "      <td>26</td>\n",
       "      <td>39</td>\n",
       "      <td>165470.0</td>\n",
       "      <td>-3.353</td>\n",
       "      <td>2.129</td>\n",
       "      <td>2803</td>\n",
       "      <td>6.279917e+10</td>\n",
       "    </tr>\n",
       "    <tr>\n",
       "      <th>7175676</th>\n",
       "      <td>17</td>\n",
       "      <td>26</td>\n",
       "      <td>39</td>\n",
       "      <td>165510.0</td>\n",
       "      <td>-2.868</td>\n",
       "      <td>-2.299</td>\n",
       "      <td>2803</td>\n",
       "      <td>6.279917e+10</td>\n",
       "    </tr>\n",
       "    <tr>\n",
       "      <th>7175677</th>\n",
       "      <td>17</td>\n",
       "      <td>26</td>\n",
       "      <td>39</td>\n",
       "      <td>165550.0</td>\n",
       "      <td>-5.507</td>\n",
       "      <td>-1.844</td>\n",
       "      <td>2803</td>\n",
       "      <td>6.279917e+10</td>\n",
       "    </tr>\n",
       "    <tr>\n",
       "      <th>7175678</th>\n",
       "      <td>17</td>\n",
       "      <td>26</td>\n",
       "      <td>39</td>\n",
       "      <td>165580.0</td>\n",
       "      <td>-3.578</td>\n",
       "      <td>2.146</td>\n",
       "      <td>2803</td>\n",
       "      <td>6.279917e+10</td>\n",
       "    </tr>\n",
       "    <tr>\n",
       "      <th>7175679</th>\n",
       "      <td>17</td>\n",
       "      <td>26</td>\n",
       "      <td>39</td>\n",
       "      <td>165620.0</td>\n",
       "      <td>-2.709</td>\n",
       "      <td>0.470</td>\n",
       "      <td>2803</td>\n",
       "      <td>6.279917e+10</td>\n",
       "    </tr>\n",
       "  </tbody>\n",
       "</table>\n",
       "<p>7175680 rows × 8 columns</p>\n",
       "</div>"
      ],
      "text/plain": [
       "         Hour  Minute  second  u-Second  Horiz_acc  vert_accel    id  \\\n",
       "0           9      39      39   65664.0      0.552      -0.146     1   \n",
       "1           9      39      39   65703.0      0.501      -0.480     1   \n",
       "2           9      39      39   65742.0      0.138       0.435     1   \n",
       "3           9      39      39   65781.0     -0.423       0.240     1   \n",
       "4           9      39      39   65820.0     -0.802       0.020     1   \n",
       "...       ...     ...     ...       ...        ...         ...   ...   \n",
       "7175675    17      26      39  165470.0     -3.353       2.129  2803   \n",
       "7175676    17      26      39  165510.0     -2.868      -2.299  2803   \n",
       "7175677    17      26      39  165550.0     -5.507      -1.844  2803   \n",
       "7175678    17      26      39  165580.0     -3.578       2.146  2803   \n",
       "7175679    17      26      39  165620.0     -2.709       0.470  2803   \n",
       "\n",
       "               sum_us  \n",
       "0        3.477907e+10  \n",
       "1        3.477907e+10  \n",
       "2        3.477907e+10  \n",
       "3        3.477907e+10  \n",
       "4        3.477907e+10  \n",
       "...               ...  \n",
       "7175675  6.279917e+10  \n",
       "7175676  6.279917e+10  \n",
       "7175677  6.279917e+10  \n",
       "7175678  6.279917e+10  \n",
       "7175679  6.279917e+10  \n",
       "\n",
       "[7175680 rows x 8 columns]"
      ]
     },
     "execution_count": 16,
     "metadata": {},
     "output_type": "execute_result"
    }
   ],
   "source": [
    "all_df"
   ]
  },
  {
   "cell_type": "code",
   "execution_count": 18,
   "metadata": {},
   "outputs": [
    {
     "data": {
      "text/plain": [
       "[<matplotlib.lines.Line2D at 0x1f2a63382e8>]"
      ]
     },
     "execution_count": 18,
     "metadata": {},
     "output_type": "execute_result"
    },
    {
     "data": {
      "image/png": "[encoded data removed]",
      "text/plain": [
       "<Figure size 720x432 with 1 Axes>"
      ]
     },
     "metadata": {
      "needs_background": "light"
     },
     "output_type": "display_data"
    }
   ],
   "source": [
    "plt.figure(figsize=(10,6))\n",
    "plt.plot(all_df[\"sum_us\"][0:2560], all_df[\"vert_accel\"][0:2560])"
   ]
  },
  {
   "cell_type": "code",
   "execution_count": 24,
   "metadata": {},
   "outputs": [
    {
     "data": {
      "text/plain": [
       "[<matplotlib.lines.Line2D at 0x1f2be6cc278>]"
      ]
     },
     "execution_count": 24,
     "metadata": {},
     "output_type": "execute_result"
    },
    {
     "data": {
      "image/png": "[encoded data removed]",
      "text/plain": [
       "<Figure size 720x432 with 1 Axes>"
      ]
     },
     "metadata": {
      "needs_background": "light"
     },
     "output_type": "display_data"
    }
   ],
   "source": [
    "plt.figure(figsize=(10,6))\n",
    "plt.plot(all_df[\"u-Second\"][0:2560], all_df[\"vert_accel\"][0:2560])"
   ]
  }
 ],
 "metadata": {
  "kernelspec": {
   "display_name": "Python 3",
   "language": "python",
   "name": "python3"
  },
  "language_info": {
   "codemirror_mode": {
    "name": "ipython",
    "version": 3
   },
   "file_extension": ".py",
   "mimetype": "text/x-python",
   "name": "python",
   "nbconvert_exporter": "python",
   "pygments_lexer": "ipython3",
   "version": "3.7.1"
  }
 },
 "nbformat": 4,
 "nbformat_minor": 4
}
