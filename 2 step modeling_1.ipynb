{
 "cells": [
  {
   "cell_type": "code",
   "execution_count": 127,
   "metadata": {},
   "outputs": [],
   "source": [
    "import numpy as np"
   ]
  },
  {
   "cell_type": "code",
   "execution_count": 128,
   "metadata": {},
   "outputs": [],
   "source": [
    "import matplotlib.pyplot as plt"
   ]
  },
  {
   "cell_type": "code",
   "execution_count": 129,
   "metadata": {},
   "outputs": [],
   "source": [
    "%matplotlib inline\n",
    "import matplotlib.pyplot as plt\n",
    "import numpy as np\n",
    "import pandas as pd\n",
    "import seaborn as sns\n",
    "from sklearn.ensemble import RandomForestRegressor\n",
    "from sklearn.ensemble import  RandomForestClassifier\n",
    "from sklearn import metrics"
   ]
  },
  {
   "cell_type": "code",
   "execution_count": 130,
   "metadata": {},
   "outputs": [],
   "source": [
    "import numpy as np"
   ]
  },
  {
   "cell_type": "code",
   "execution_count": 131,
   "metadata": {},
   "outputs": [],
   "source": [
    "import pandas as pd\n",
    "import os\n",
    "import glob"
   ]
  },
  {
   "cell_type": "code",
   "execution_count": null,
   "metadata": {},
   "outputs": [],
   "source": [
    "one_train = pd.read_csv(\"one_train_combine.csv\")\n",
    "one_test = pd.read_csv(\"one_test_combine.csv\")"
   ]
  },
  {
   "cell_type": "code",
   "execution_count": 133,
   "metadata": {},
   "outputs": [
    {
     "data": {
      "text/html": [
       "<div>\n",
       "<style scoped>\n",
       "    .dataframe tbody tr th:only-of-type {\n",
       "        vertical-align: middle;\n",
       "    }\n",
       "\n",
       "    .dataframe tbody tr th {\n",
       "        vertical-align: top;\n",
       "    }\n",
       "\n",
       "    .dataframe thead th {\n",
       "        text-align: right;\n",
       "    }\n",
       "</style>\n",
       "<table border=\"1\" class=\"dataframe\">\n",
       "  <thead>\n",
       "    <tr style=\"text-align: right;\">\n",
       "      <th></th>\n",
       "      <th>Unnamed: 0_x</th>\n",
       "      <th>Horiz_acc</th>\n",
       "      <th>id_x</th>\n",
       "      <th>av_horiz</th>\n",
       "      <th>sd_horiz</th>\n",
       "      <th>peak_horiz</th>\n",
       "      <th>rms_horiz</th>\n",
       "      <th>skew_horiz</th>\n",
       "      <th>kurt_horiz</th>\n",
       "      <th>crest_horiz</th>\n",
       "      <th>...</th>\n",
       "      <th>peak_temp</th>\n",
       "      <th>rms_temp</th>\n",
       "      <th>skew_temp</th>\n",
       "      <th>kurt_temp</th>\n",
       "      <th>crest_temp</th>\n",
       "      <th>clear_temp</th>\n",
       "      <th>shape_temp</th>\n",
       "      <th>imp_temp</th>\n",
       "      <th>RUL_y</th>\n",
       "      <th>id</th>\n",
       "    </tr>\n",
       "  </thead>\n",
       "  <tbody>\n",
       "    <tr>\n",
       "      <th>0</th>\n",
       "      <td>28169.0</td>\n",
       "      <td>-0.687</td>\n",
       "      <td>1.0</td>\n",
       "      <td>0.199769</td>\n",
       "      <td>0.378617</td>\n",
       "      <td>0.917</td>\n",
       "      <td>0.421599</td>\n",
       "      <td>-0.509550</td>\n",
       "      <td>-0.252213</td>\n",
       "      <td>2.175055</td>\n",
       "      <td>...</td>\n",
       "      <td>70.303</td>\n",
       "      <td>70.168972</td>\n",
       "      <td>0.009265</td>\n",
       "      <td>-1.213437</td>\n",
       "      <td>1.00191</td>\n",
       "      <td>1.001911</td>\n",
       "      <td>1.000001</td>\n",
       "      <td>1.001911</td>\n",
       "      <td>14160.1</td>\n",
       "      <td>1.0</td>\n",
       "    </tr>\n",
       "    <tr>\n",
       "      <th>1</th>\n",
       "      <td>28179.0</td>\n",
       "      <td>0.617</td>\n",
       "      <td>1.0</td>\n",
       "      <td>0.209808</td>\n",
       "      <td>0.386307</td>\n",
       "      <td>0.917</td>\n",
       "      <td>0.433027</td>\n",
       "      <td>-0.512467</td>\n",
       "      <td>-0.362140</td>\n",
       "      <td>2.117648</td>\n",
       "      <td>...</td>\n",
       "      <td>70.303</td>\n",
       "      <td>70.168972</td>\n",
       "      <td>0.009265</td>\n",
       "      <td>-1.213437</td>\n",
       "      <td>1.00191</td>\n",
       "      <td>1.001911</td>\n",
       "      <td>1.000001</td>\n",
       "      <td>1.001911</td>\n",
       "      <td>14160.1</td>\n",
       "      <td>1.0</td>\n",
       "    </tr>\n",
       "    <tr>\n",
       "      <th>2</th>\n",
       "      <td>28189.0</td>\n",
       "      <td>0.103</td>\n",
       "      <td>1.0</td>\n",
       "      <td>0.178500</td>\n",
       "      <td>0.358700</td>\n",
       "      <td>0.727</td>\n",
       "      <td>0.394435</td>\n",
       "      <td>-0.688946</td>\n",
       "      <td>-0.358079</td>\n",
       "      <td>1.843143</td>\n",
       "      <td>...</td>\n",
       "      <td>70.303</td>\n",
       "      <td>70.168972</td>\n",
       "      <td>0.009265</td>\n",
       "      <td>-1.213437</td>\n",
       "      <td>1.00191</td>\n",
       "      <td>1.001911</td>\n",
       "      <td>1.000001</td>\n",
       "      <td>1.001911</td>\n",
       "      <td>14160.1</td>\n",
       "      <td>1.0</td>\n",
       "    </tr>\n",
       "    <tr>\n",
       "      <th>3</th>\n",
       "      <td>28199.0</td>\n",
       "      <td>0.036</td>\n",
       "      <td>1.0</td>\n",
       "      <td>0.189885</td>\n",
       "      <td>0.348786</td>\n",
       "      <td>0.727</td>\n",
       "      <td>0.391189</td>\n",
       "      <td>-0.772345</td>\n",
       "      <td>-0.057269</td>\n",
       "      <td>1.858437</td>\n",
       "      <td>...</td>\n",
       "      <td>70.303</td>\n",
       "      <td>70.168972</td>\n",
       "      <td>0.009265</td>\n",
       "      <td>-1.213437</td>\n",
       "      <td>1.00191</td>\n",
       "      <td>1.001911</td>\n",
       "      <td>1.000001</td>\n",
       "      <td>1.001911</td>\n",
       "      <td>14160.1</td>\n",
       "      <td>1.0</td>\n",
       "    </tr>\n",
       "    <tr>\n",
       "      <th>4</th>\n",
       "      <td>28209.0</td>\n",
       "      <td>-0.577</td>\n",
       "      <td>1.0</td>\n",
       "      <td>0.152615</td>\n",
       "      <td>0.376958</td>\n",
       "      <td>0.727</td>\n",
       "      <td>0.399905</td>\n",
       "      <td>-0.660933</td>\n",
       "      <td>-0.446055</td>\n",
       "      <td>1.817934</td>\n",
       "      <td>...</td>\n",
       "      <td>70.303</td>\n",
       "      <td>70.168972</td>\n",
       "      <td>0.009265</td>\n",
       "      <td>-1.213437</td>\n",
       "      <td>1.00191</td>\n",
       "      <td>1.001911</td>\n",
       "      <td>1.000001</td>\n",
       "      <td>1.001911</td>\n",
       "      <td>14160.1</td>\n",
       "      <td>1.0</td>\n",
       "    </tr>\n",
       "    <tr>\n",
       "      <th>...</th>\n",
       "      <td>...</td>\n",
       "      <td>...</td>\n",
       "      <td>...</td>\n",
       "      <td>...</td>\n",
       "      <td>...</td>\n",
       "      <td>...</td>\n",
       "      <td>...</td>\n",
       "      <td>...</td>\n",
       "      <td>...</td>\n",
       "      <td>...</td>\n",
       "      <td>...</td>\n",
       "      <td>...</td>\n",
       "      <td>...</td>\n",
       "      <td>...</td>\n",
       "      <td>...</td>\n",
       "      <td>...</td>\n",
       "      <td>...</td>\n",
       "      <td>...</td>\n",
       "      <td>...</td>\n",
       "      <td>...</td>\n",
       "      <td>...</td>\n",
       "    </tr>\n",
       "    <tr>\n",
       "      <th>2194170</th>\n",
       "      <td>5782999.0</td>\n",
       "      <td>1.251</td>\n",
       "      <td>1.0</td>\n",
       "      <td>0.438269</td>\n",
       "      <td>2.219883</td>\n",
       "      <td>8.607</td>\n",
       "      <td>2.220456</td>\n",
       "      <td>2.063591</td>\n",
       "      <td>5.276878</td>\n",
       "      <td>3.876231</td>\n",
       "      <td>...</td>\n",
       "      <td>100.253</td>\n",
       "      <td>100.232917</td>\n",
       "      <td>0.337115</td>\n",
       "      <td>-1.146364</td>\n",
       "      <td>1.00020</td>\n",
       "      <td>1.000200</td>\n",
       "      <td>1.000000</td>\n",
       "      <td>1.000200</td>\n",
       "      <td>0.0</td>\n",
       "      <td>4.0</td>\n",
       "    </tr>\n",
       "    <tr>\n",
       "      <th>2194171</th>\n",
       "      <td>5783009.0</td>\n",
       "      <td>-0.978</td>\n",
       "      <td>1.0</td>\n",
       "      <td>0.265846</td>\n",
       "      <td>2.144994</td>\n",
       "      <td>8.607</td>\n",
       "      <td>2.120073</td>\n",
       "      <td>2.410084</td>\n",
       "      <td>7.032378</td>\n",
       "      <td>4.059765</td>\n",
       "      <td>...</td>\n",
       "      <td>100.253</td>\n",
       "      <td>100.232917</td>\n",
       "      <td>0.337115</td>\n",
       "      <td>-1.146364</td>\n",
       "      <td>1.00020</td>\n",
       "      <td>1.000200</td>\n",
       "      <td>1.000000</td>\n",
       "      <td>1.000200</td>\n",
       "      <td>0.0</td>\n",
       "      <td>4.0</td>\n",
       "    </tr>\n",
       "    <tr>\n",
       "      <th>2194172</th>\n",
       "      <td>5783019.0</td>\n",
       "      <td>0.448</td>\n",
       "      <td>1.0</td>\n",
       "      <td>-0.047962</td>\n",
       "      <td>1.310312</td>\n",
       "      <td>3.293</td>\n",
       "      <td>1.285762</td>\n",
       "      <td>0.188332</td>\n",
       "      <td>0.545341</td>\n",
       "      <td>2.561128</td>\n",
       "      <td>...</td>\n",
       "      <td>100.253</td>\n",
       "      <td>100.232917</td>\n",
       "      <td>0.337115</td>\n",
       "      <td>-1.146364</td>\n",
       "      <td>1.00020</td>\n",
       "      <td>1.000200</td>\n",
       "      <td>1.000000</td>\n",
       "      <td>1.000200</td>\n",
       "      <td>0.0</td>\n",
       "      <td>4.0</td>\n",
       "    </tr>\n",
       "    <tr>\n",
       "      <th>2194173</th>\n",
       "      <td>5783029.0</td>\n",
       "      <td>0.285</td>\n",
       "      <td>1.0</td>\n",
       "      <td>-0.048385</td>\n",
       "      <td>1.310198</td>\n",
       "      <td>3.293</td>\n",
       "      <td>1.285666</td>\n",
       "      <td>0.189358</td>\n",
       "      <td>0.546782</td>\n",
       "      <td>2.561318</td>\n",
       "      <td>...</td>\n",
       "      <td>100.253</td>\n",
       "      <td>100.232917</td>\n",
       "      <td>0.337115</td>\n",
       "      <td>-1.146364</td>\n",
       "      <td>1.00020</td>\n",
       "      <td>1.000200</td>\n",
       "      <td>1.000000</td>\n",
       "      <td>1.000200</td>\n",
       "      <td>0.0</td>\n",
       "      <td>4.0</td>\n",
       "    </tr>\n",
       "    <tr>\n",
       "      <th>2194174</th>\n",
       "      <td>5783039.0</td>\n",
       "      <td>0.411</td>\n",
       "      <td>1.0</td>\n",
       "      <td>0.019231</td>\n",
       "      <td>1.285632</td>\n",
       "      <td>3.293</td>\n",
       "      <td>1.260813</td>\n",
       "      <td>0.075967</td>\n",
       "      <td>0.750504</td>\n",
       "      <td>2.611807</td>\n",
       "      <td>...</td>\n",
       "      <td>100.253</td>\n",
       "      <td>100.232917</td>\n",
       "      <td>0.337115</td>\n",
       "      <td>-1.146364</td>\n",
       "      <td>1.00020</td>\n",
       "      <td>1.000200</td>\n",
       "      <td>1.000000</td>\n",
       "      <td>1.000200</td>\n",
       "      <td>0.0</td>\n",
       "      <td>4.0</td>\n",
       "    </tr>\n",
       "  </tbody>\n",
       "</table>\n",
       "<p>2194175 rows × 156 columns</p>\n",
       "</div>"
      ],
      "text/plain": [
       "         Unnamed: 0_x  Horiz_acc  id_x  av_horiz  sd_horiz  peak_horiz  \\\n",
       "0             28169.0     -0.687   1.0  0.199769  0.378617       0.917   \n",
       "1             28179.0      0.617   1.0  0.209808  0.386307       0.917   \n",
       "2             28189.0      0.103   1.0  0.178500  0.358700       0.727   \n",
       "3             28199.0      0.036   1.0  0.189885  0.348786       0.727   \n",
       "4             28209.0     -0.577   1.0  0.152615  0.376958       0.727   \n",
       "...               ...        ...   ...       ...       ...         ...   \n",
       "2194170     5782999.0      1.251   1.0  0.438269  2.219883       8.607   \n",
       "2194171     5783009.0     -0.978   1.0  0.265846  2.144994       8.607   \n",
       "2194172     5783019.0      0.448   1.0 -0.047962  1.310312       3.293   \n",
       "2194173     5783029.0      0.285   1.0 -0.048385  1.310198       3.293   \n",
       "2194174     5783039.0      0.411   1.0  0.019231  1.285632       3.293   \n",
       "\n",
       "         rms_horiz  skew_horiz  kurt_horiz  crest_horiz  ...  peak_temp  \\\n",
       "0         0.421599   -0.509550   -0.252213     2.175055  ...     70.303   \n",
       "1         0.433027   -0.512467   -0.362140     2.117648  ...     70.303   \n",
       "2         0.394435   -0.688946   -0.358079     1.843143  ...     70.303   \n",
       "3         0.391189   -0.772345   -0.057269     1.858437  ...     70.303   \n",
       "4         0.399905   -0.660933   -0.446055     1.817934  ...     70.303   \n",
       "...            ...         ...         ...          ...  ...        ...   \n",
       "2194170   2.220456    2.063591    5.276878     3.876231  ...    100.253   \n",
       "2194171   2.120073    2.410084    7.032378     4.059765  ...    100.253   \n",
       "2194172   1.285762    0.188332    0.545341     2.561128  ...    100.253   \n",
       "2194173   1.285666    0.189358    0.546782     2.561318  ...    100.253   \n",
       "2194174   1.260813    0.075967    0.750504     2.611807  ...    100.253   \n",
       "\n",
       "           rms_temp  skew_temp  kurt_temp  crest_temp  clear_temp  shape_temp  \\\n",
       "0         70.168972   0.009265  -1.213437     1.00191    1.001911    1.000001   \n",
       "1         70.168972   0.009265  -1.213437     1.00191    1.001911    1.000001   \n",
       "2         70.168972   0.009265  -1.213437     1.00191    1.001911    1.000001   \n",
       "3         70.168972   0.009265  -1.213437     1.00191    1.001911    1.000001   \n",
       "4         70.168972   0.009265  -1.213437     1.00191    1.001911    1.000001   \n",
       "...             ...        ...        ...         ...         ...         ...   \n",
       "2194170  100.232917   0.337115  -1.146364     1.00020    1.000200    1.000000   \n",
       "2194171  100.232917   0.337115  -1.146364     1.00020    1.000200    1.000000   \n",
       "2194172  100.232917   0.337115  -1.146364     1.00020    1.000200    1.000000   \n",
       "2194173  100.232917   0.337115  -1.146364     1.00020    1.000200    1.000000   \n",
       "2194174  100.232917   0.337115  -1.146364     1.00020    1.000200    1.000000   \n",
       "\n",
       "         imp_temp    RUL_y   id  \n",
       "0        1.001911  14160.1  1.0  \n",
       "1        1.001911  14160.1  1.0  \n",
       "2        1.001911  14160.1  1.0  \n",
       "3        1.001911  14160.1  1.0  \n",
       "4        1.001911  14160.1  1.0  \n",
       "...           ...      ...  ...  \n",
       "2194170  1.000200      0.0  4.0  \n",
       "2194171  1.000200      0.0  4.0  \n",
       "2194172  1.000200      0.0  4.0  \n",
       "2194173  1.000200      0.0  4.0  \n",
       "2194174  1.000200      0.0  4.0  \n",
       "\n",
       "[2194175 rows x 156 columns]"
      ]
     },
     "execution_count": 133,
     "metadata": {},
     "output_type": "execute_result"
    }
   ],
   "source": [
    "one_train"
   ]
  },
  {
   "cell_type": "code",
   "execution_count": null,
   "metadata": {},
   "outputs": [],
   "source": [
    "def clean_dataset(df):\n",
    "    assert isinstance(df, pd.DataFrame), \"df needs to be a pd.DataFrame\"\n",
    "    df.dropna(inplace=True)\n",
    "    indices_to_keep = ~df.isin([np.nan, np.inf, -np.inf]).any(1)\n",
    "    return df[indices_to_keep].astype(np.float64)\n",
    "\n",
    "one_train = clean_dataset(one_train)\n",
    "one_test = clean_dataset(one_test)"
   ]
  },
  {
   "cell_type": "code",
   "execution_count": 134,
   "metadata": {},
   "outputs": [],
   "source": [
    "one_train = one_train.reset_index()\n",
    "one_test = one_test.reset_index()"
   ]
  },
  {
   "cell_type": "markdown",
   "metadata": {},
   "source": [
    "### step 1 classification"
   ]
  },
  {
   "cell_type": "code",
   "execution_count": 135,
   "metadata": {},
   "outputs": [],
   "source": [
    "imp_df = pd.read_csv(\"feature_selection_1.csv\")"
   ]
  },
  {
   "cell_type": "code",
   "execution_count": 136,
   "metadata": {},
   "outputs": [],
   "source": [
    "def three_time_group(one_train):\n",
    "    time_group_list = []\n",
    "    for i in range(1,int(one_train[\"id\"].max())+1,1):\n",
    "        one_id = one_train[one_train[\"id\"]==i][[\"id\",\"RUL_x\"]]\n",
    "        one_id = one_id.reset_index()\n",
    "        one_id.loc[one_id[\"RUL_x\"]>one_id.loc[0,\"RUL_x\"]/2,\"time_group\"] = 0\n",
    "        one_id.loc[(one_id[\"RUL_x\"]<one_id.loc[0,\"RUL_x\"]/2) & (one_id[\"RUL_x\"]>one_id.loc[0,\"RUL_x\"]*0.25),\"time_group\"] = 1\n",
    "        one_id.loc[one_id[\"RUL_x\"]<one_id.loc[0,\"RUL_x\"]*0.25,\"time_group\"] = 2\n",
    "        time_group_list = time_group_list + list(one_id[\"time_group\"].values)\n",
    "    one_train[\"time_group\"] = time_group_list\n",
    "    return one_train"
   ]
  },
  {
   "cell_type": "code",
   "execution_count": 386,
   "metadata": {},
   "outputs": [],
   "source": [
    "max_list = []\n",
    "for i in range(1,int(one_train[\"id\"].max())+1,1):\n",
    "    one_id = one_train[one_train[\"id\"]==i][[\"id\",\"RUL_x\"]]\n",
    "    one_id = one_id.reset_index()\n",
    "    max_list.append(one_id.loc[0,\"RUL_x\"])"
   ]
  },
  {
   "cell_type": "code",
   "execution_count": 388,
   "metadata": {},
   "outputs": [
    {
     "data": {
      "text/plain": [
       "23470.0996095"
      ]
     },
     "execution_count": 388,
     "metadata": {},
     "output_type": "execute_result"
    }
   ],
   "source": [
    "np.median(max_list)"
   ]
  },
  {
   "cell_type": "code",
   "execution_count": 383,
   "metadata": {},
   "outputs": [
    {
     "data": {
      "text/html": [
       "<div>\n",
       "<style scoped>\n",
       "    .dataframe tbody tr th:only-of-type {\n",
       "        vertical-align: middle;\n",
       "    }\n",
       "\n",
       "    .dataframe tbody tr th {\n",
       "        vertical-align: top;\n",
       "    }\n",
       "\n",
       "    .dataframe thead th {\n",
       "        text-align: right;\n",
       "    }\n",
       "</style>\n",
       "<table border=\"1\" class=\"dataframe\">\n",
       "  <thead>\n",
       "    <tr style=\"text-align: right;\">\n",
       "      <th></th>\n",
       "      <th>index</th>\n",
       "      <th>Unnamed: 0_x</th>\n",
       "      <th>Horiz_acc</th>\n",
       "      <th>id_x</th>\n",
       "      <th>av_horiz</th>\n",
       "      <th>sd_horiz</th>\n",
       "      <th>peak_horiz</th>\n",
       "      <th>rms_horiz</th>\n",
       "      <th>skew_horiz</th>\n",
       "      <th>kurt_horiz</th>\n",
       "      <th>...</th>\n",
       "      <th>skew_temp</th>\n",
       "      <th>kurt_temp</th>\n",
       "      <th>crest_temp</th>\n",
       "      <th>clear_temp</th>\n",
       "      <th>shape_temp</th>\n",
       "      <th>imp_temp</th>\n",
       "      <th>RUL_y</th>\n",
       "      <th>id</th>\n",
       "      <th>time_group</th>\n",
       "      <th>time</th>\n",
       "    </tr>\n",
       "  </thead>\n",
       "  <tbody>\n",
       "    <tr>\n",
       "      <th>0</th>\n",
       "      <td>0</td>\n",
       "      <td>17929.0</td>\n",
       "      <td>0.204</td>\n",
       "      <td>1.0</td>\n",
       "      <td>-0.000808</td>\n",
       "      <td>0.522451</td>\n",
       "      <td>1.185</td>\n",
       "      <td>0.512306</td>\n",
       "      <td>0.452596</td>\n",
       "      <td>-0.062617</td>\n",
       "      <td>...</td>\n",
       "      <td>-0.027677</td>\n",
       "      <td>-1.256711</td>\n",
       "      <td>1.000972</td>\n",
       "      <td>1.000972</td>\n",
       "      <td>1.0</td>\n",
       "      <td>1.000972</td>\n",
       "      <td>27950.1</td>\n",
       "      <td>1.0</td>\n",
       "      <td>0.0</td>\n",
       "      <td>0.000000</td>\n",
       "    </tr>\n",
       "    <tr>\n",
       "      <th>1</th>\n",
       "      <td>1</td>\n",
       "      <td>17939.0</td>\n",
       "      <td>0.273</td>\n",
       "      <td>1.0</td>\n",
       "      <td>-0.002846</td>\n",
       "      <td>0.521227</td>\n",
       "      <td>1.185</td>\n",
       "      <td>0.511113</td>\n",
       "      <td>0.464104</td>\n",
       "      <td>-0.031312</td>\n",
       "      <td>...</td>\n",
       "      <td>-0.027677</td>\n",
       "      <td>-1.256711</td>\n",
       "      <td>1.000972</td>\n",
       "      <td>1.000972</td>\n",
       "      <td>1.0</td>\n",
       "      <td>1.000972</td>\n",
       "      <td>27950.1</td>\n",
       "      <td>1.0</td>\n",
       "      <td>0.0</td>\n",
       "      <td>0.000391</td>\n",
       "    </tr>\n",
       "    <tr>\n",
       "      <th>2</th>\n",
       "      <td>2</td>\n",
       "      <td>17949.0</td>\n",
       "      <td>0.857</td>\n",
       "      <td>1.0</td>\n",
       "      <td>0.049308</td>\n",
       "      <td>0.537192</td>\n",
       "      <td>1.185</td>\n",
       "      <td>0.529063</td>\n",
       "      <td>0.319226</td>\n",
       "      <td>-0.303938</td>\n",
       "      <td>...</td>\n",
       "      <td>-0.027677</td>\n",
       "      <td>-1.256711</td>\n",
       "      <td>1.000972</td>\n",
       "      <td>1.000972</td>\n",
       "      <td>1.0</td>\n",
       "      <td>1.000972</td>\n",
       "      <td>27950.1</td>\n",
       "      <td>1.0</td>\n",
       "      <td>0.0</td>\n",
       "      <td>0.000781</td>\n",
       "    </tr>\n",
       "    <tr>\n",
       "      <th>3</th>\n",
       "      <td>3</td>\n",
       "      <td>17959.0</td>\n",
       "      <td>-0.116</td>\n",
       "      <td>1.0</td>\n",
       "      <td>0.034231</td>\n",
       "      <td>0.536075</td>\n",
       "      <td>1.185</td>\n",
       "      <td>0.526778</td>\n",
       "      <td>0.408109</td>\n",
       "      <td>-0.243211</td>\n",
       "      <td>...</td>\n",
       "      <td>-0.027677</td>\n",
       "      <td>-1.256711</td>\n",
       "      <td>1.000972</td>\n",
       "      <td>1.000972</td>\n",
       "      <td>1.0</td>\n",
       "      <td>1.000972</td>\n",
       "      <td>27950.1</td>\n",
       "      <td>1.0</td>\n",
       "      <td>0.0</td>\n",
       "      <td>0.001172</td>\n",
       "    </tr>\n",
       "    <tr>\n",
       "      <th>4</th>\n",
       "      <td>4</td>\n",
       "      <td>17969.0</td>\n",
       "      <td>0.627</td>\n",
       "      <td>1.0</td>\n",
       "      <td>0.012769</td>\n",
       "      <td>0.497978</td>\n",
       "      <td>1.043</td>\n",
       "      <td>0.488474</td>\n",
       "      <td>0.187612</td>\n",
       "      <td>-0.381098</td>\n",
       "      <td>...</td>\n",
       "      <td>-0.027677</td>\n",
       "      <td>-1.256711</td>\n",
       "      <td>1.000972</td>\n",
       "      <td>1.000972</td>\n",
       "      <td>1.0</td>\n",
       "      <td>1.000972</td>\n",
       "      <td>27950.1</td>\n",
       "      <td>1.0</td>\n",
       "      <td>0.0</td>\n",
       "      <td>0.001563</td>\n",
       "    </tr>\n",
       "    <tr>\n",
       "      <th>...</th>\n",
       "      <td>...</td>\n",
       "      <td>...</td>\n",
       "      <td>...</td>\n",
       "      <td>...</td>\n",
       "      <td>...</td>\n",
       "      <td>...</td>\n",
       "      <td>...</td>\n",
       "      <td>...</td>\n",
       "      <td>...</td>\n",
       "      <td>...</td>\n",
       "      <td>...</td>\n",
       "      <td>...</td>\n",
       "      <td>...</td>\n",
       "      <td>...</td>\n",
       "      <td>...</td>\n",
       "      <td>...</td>\n",
       "      <td>...</td>\n",
       "      <td>...</td>\n",
       "      <td>...</td>\n",
       "      <td>...</td>\n",
       "      <td>...</td>\n",
       "    </tr>\n",
       "    <tr>\n",
       "      <th>936442</th>\n",
       "      <td>936442</td>\n",
       "      <td>2229719.0</td>\n",
       "      <td>0.328</td>\n",
       "      <td>1.0</td>\n",
       "      <td>-0.078654</td>\n",
       "      <td>1.730453</td>\n",
       "      <td>3.344</td>\n",
       "      <td>1.698671</td>\n",
       "      <td>-0.596130</td>\n",
       "      <td>1.036508</td>\n",
       "      <td>...</td>\n",
       "      <td>-0.207950</td>\n",
       "      <td>-1.155515</td>\n",
       "      <td>1.000066</td>\n",
       "      <td>1.000066</td>\n",
       "      <td>1.0</td>\n",
       "      <td>1.000066</td>\n",
       "      <td>0.0</td>\n",
       "      <td>2.0</td>\n",
       "      <td>2.0</td>\n",
       "      <td>8630.098050</td>\n",
       "    </tr>\n",
       "    <tr>\n",
       "      <th>936443</th>\n",
       "      <td>936443</td>\n",
       "      <td>2229729.0</td>\n",
       "      <td>-0.657</td>\n",
       "      <td>1.0</td>\n",
       "      <td>-0.060808</td>\n",
       "      <td>1.721644</td>\n",
       "      <td>3.344</td>\n",
       "      <td>1.689305</td>\n",
       "      <td>-0.631044</td>\n",
       "      <td>1.139150</td>\n",
       "      <td>...</td>\n",
       "      <td>-0.207950</td>\n",
       "      <td>-1.155515</td>\n",
       "      <td>1.000066</td>\n",
       "      <td>1.000066</td>\n",
       "      <td>1.0</td>\n",
       "      <td>1.000066</td>\n",
       "      <td>0.0</td>\n",
       "      <td>2.0</td>\n",
       "      <td>2.0</td>\n",
       "      <td>8630.098440</td>\n",
       "    </tr>\n",
       "    <tr>\n",
       "      <th>936444</th>\n",
       "      <td>936444</td>\n",
       "      <td>2229739.0</td>\n",
       "      <td>-3.108</td>\n",
       "      <td>1.0</td>\n",
       "      <td>-0.210308</td>\n",
       "      <td>1.812186</td>\n",
       "      <td>3.344</td>\n",
       "      <td>1.789396</td>\n",
       "      <td>-0.482692</td>\n",
       "      <td>0.507112</td>\n",
       "      <td>...</td>\n",
       "      <td>-0.207950</td>\n",
       "      <td>-1.155515</td>\n",
       "      <td>1.000066</td>\n",
       "      <td>1.000066</td>\n",
       "      <td>1.0</td>\n",
       "      <td>1.000066</td>\n",
       "      <td>0.0</td>\n",
       "      <td>2.0</td>\n",
       "      <td>2.0</td>\n",
       "      <td>8630.098830</td>\n",
       "    </tr>\n",
       "    <tr>\n",
       "      <th>936445</th>\n",
       "      <td>936445</td>\n",
       "      <td>2229749.0</td>\n",
       "      <td>-1.077</td>\n",
       "      <td>1.0</td>\n",
       "      <td>-0.178885</td>\n",
       "      <td>1.788755</td>\n",
       "      <td>3.344</td>\n",
       "      <td>1.763117</td>\n",
       "      <td>-0.527800</td>\n",
       "      <td>0.697830</td>\n",
       "      <td>...</td>\n",
       "      <td>-0.207950</td>\n",
       "      <td>-1.155515</td>\n",
       "      <td>1.000066</td>\n",
       "      <td>1.000066</td>\n",
       "      <td>1.0</td>\n",
       "      <td>1.000066</td>\n",
       "      <td>0.0</td>\n",
       "      <td>2.0</td>\n",
       "      <td>2.0</td>\n",
       "      <td>8630.099220</td>\n",
       "    </tr>\n",
       "    <tr>\n",
       "      <th>936446</th>\n",
       "      <td>936446</td>\n",
       "      <td>2229759.0</td>\n",
       "      <td>-4.701</td>\n",
       "      <td>1.0</td>\n",
       "      <td>-0.401192</td>\n",
       "      <td>1.975585</td>\n",
       "      <td>3.344</td>\n",
       "      <td>1.978327</td>\n",
       "      <td>-0.555347</td>\n",
       "      <td>0.301269</td>\n",
       "      <td>...</td>\n",
       "      <td>-0.207950</td>\n",
       "      <td>-1.155515</td>\n",
       "      <td>1.000066</td>\n",
       "      <td>1.000066</td>\n",
       "      <td>1.0</td>\n",
       "      <td>1.000066</td>\n",
       "      <td>0.0</td>\n",
       "      <td>2.0</td>\n",
       "      <td>2.0</td>\n",
       "      <td>8630.099610</td>\n",
       "    </tr>\n",
       "  </tbody>\n",
       "</table>\n",
       "<p>936447 rows × 159 columns</p>\n",
       "</div>"
      ],
      "text/plain": [
       "         index  Unnamed: 0_x  Horiz_acc  id_x  av_horiz  sd_horiz  peak_horiz  \\\n",
       "0            0       17929.0      0.204   1.0 -0.000808  0.522451       1.185   \n",
       "1            1       17939.0      0.273   1.0 -0.002846  0.521227       1.185   \n",
       "2            2       17949.0      0.857   1.0  0.049308  0.537192       1.185   \n",
       "3            3       17959.0     -0.116   1.0  0.034231  0.536075       1.185   \n",
       "4            4       17969.0      0.627   1.0  0.012769  0.497978       1.043   \n",
       "...        ...           ...        ...   ...       ...       ...         ...   \n",
       "936442  936442     2229719.0      0.328   1.0 -0.078654  1.730453       3.344   \n",
       "936443  936443     2229729.0     -0.657   1.0 -0.060808  1.721644       3.344   \n",
       "936444  936444     2229739.0     -3.108   1.0 -0.210308  1.812186       3.344   \n",
       "936445  936445     2229749.0     -1.077   1.0 -0.178885  1.788755       3.344   \n",
       "936446  936446     2229759.0     -4.701   1.0 -0.401192  1.975585       3.344   \n",
       "\n",
       "        rms_horiz  skew_horiz  kurt_horiz  ...  skew_temp  kurt_temp  \\\n",
       "0        0.512306    0.452596   -0.062617  ...  -0.027677  -1.256711   \n",
       "1        0.511113    0.464104   -0.031312  ...  -0.027677  -1.256711   \n",
       "2        0.529063    0.319226   -0.303938  ...  -0.027677  -1.256711   \n",
       "3        0.526778    0.408109   -0.243211  ...  -0.027677  -1.256711   \n",
       "4        0.488474    0.187612   -0.381098  ...  -0.027677  -1.256711   \n",
       "...           ...         ...         ...  ...        ...        ...   \n",
       "936442   1.698671   -0.596130    1.036508  ...  -0.207950  -1.155515   \n",
       "936443   1.689305   -0.631044    1.139150  ...  -0.207950  -1.155515   \n",
       "936444   1.789396   -0.482692    0.507112  ...  -0.207950  -1.155515   \n",
       "936445   1.763117   -0.527800    0.697830  ...  -0.207950  -1.155515   \n",
       "936446   1.978327   -0.555347    0.301269  ...  -0.207950  -1.155515   \n",
       "\n",
       "        crest_temp  clear_temp  shape_temp  imp_temp    RUL_y   id  \\\n",
       "0         1.000972    1.000972         1.0  1.000972  27950.1  1.0   \n",
       "1         1.000972    1.000972         1.0  1.000972  27950.1  1.0   \n",
       "2         1.000972    1.000972         1.0  1.000972  27950.1  1.0   \n",
       "3         1.000972    1.000972         1.0  1.000972  27950.1  1.0   \n",
       "4         1.000972    1.000972         1.0  1.000972  27950.1  1.0   \n",
       "...            ...         ...         ...       ...      ...  ...   \n",
       "936442    1.000066    1.000066         1.0  1.000066      0.0  2.0   \n",
       "936443    1.000066    1.000066         1.0  1.000066      0.0  2.0   \n",
       "936444    1.000066    1.000066         1.0  1.000066      0.0  2.0   \n",
       "936445    1.000066    1.000066         1.0  1.000066      0.0  2.0   \n",
       "936446    1.000066    1.000066         1.0  1.000066      0.0  2.0   \n",
       "\n",
       "        time_group         time  \n",
       "0              0.0     0.000000  \n",
       "1              0.0     0.000391  \n",
       "2              0.0     0.000781  \n",
       "3              0.0     0.001172  \n",
       "4              0.0     0.001563  \n",
       "...            ...          ...  \n",
       "936442         2.0  8630.098050  \n",
       "936443         2.0  8630.098440  \n",
       "936444         2.0  8630.098830  \n",
       "936445         2.0  8630.099220  \n",
       "936446         2.0  8630.099610  \n",
       "\n",
       "[936447 rows x 159 columns]"
      ]
     },
     "execution_count": 383,
     "metadata": {},
     "output_type": "execute_result"
    }
   ],
   "source": [
    "one_test"
   ]
  },
  {
   "cell_type": "code",
   "execution_count": 385,
   "metadata": {},
   "outputs": [
    {
     "name": "stdout",
     "output_type": "stream",
     "text": [
      "27950.099605\n",
      "8630.09961\n"
     ]
    }
   ],
   "source": [
    "time_list = []\n",
    "for i in range(1,int(one_test[\"id\"].max())+1,1):\n",
    "    one_id = one_test[one_test[\"id\"]==i][[\"id\",\"RUL_x\"]]\n",
    "    one_id = one_id.reset_index()\n",
    "    print(one_id.loc[0,\"RUL_x\"])"
   ]
  },
  {
   "cell_type": "code",
   "execution_count": 137,
   "metadata": {},
   "outputs": [],
   "source": [
    "def add_time(one_train):\n",
    "    time_list = []\n",
    "    for i in range(1,int(one_train[\"id\"].max())+1,1):\n",
    "        one_id = one_train[one_train[\"id\"]==i][[\"id\",\"RUL_x\"]]\n",
    "        one_id = one_id.reset_index()\n",
    "        one_id[\"time\"] = one_id.loc[0,\"RUL_x\"] - one_id[\"RUL_x\"] \n",
    "        time_list = time_list + list(one_id[\"time\"].values)\n",
    "    one_train[\"time\"] = time_list\n",
    "    return one_train"
   ]
  },
  {
   "cell_type": "code",
   "execution_count": 138,
   "metadata": {},
   "outputs": [],
   "source": [
    "one_train = three_time_group(one_train)\n",
    "one_test = three_time_group(one_test)"
   ]
  },
  {
   "cell_type": "code",
   "execution_count": 155,
   "metadata": {},
   "outputs": [],
   "source": [
    "one_train = add_time(one_train)\n",
    "one_test = add_time(one_test)"
   ]
  },
  {
   "cell_type": "code",
   "execution_count": 139,
   "metadata": {},
   "outputs": [],
   "source": [
    "X_train = one_train.drop([\"index\",\"Unnamed: 0_x\",\"Unnamed: 0_y\",\"RUL_x\",\"RUL_y\",\"round_RUL\",\"id\",\"id_x\",\"id.1\",\"id.2\",\"time_group\"], axis=1)\n",
    "X_test = one_test.drop([\"index\",\"Unnamed: 0_x\",\"Unnamed: 0_y\",\"RUL_x\",\"RUL_y\",\"round_RUL\",\"id\",\"id_x\",\"id.1\",\"id.2\",\"time_group\"], axis=1)\n",
    "y_train = one_train[\"time_group\"]\n",
    "y_test = one_test[\"time_group\"]"
   ]
  },
  {
   "cell_type": "code",
   "execution_count": 140,
   "metadata": {},
   "outputs": [],
   "source": [
    "X_train = X_train[list(imp_df[imp_df[\"Total\"]>=2][\"Feature\"].values)]\n",
    "X_test = X_test[list(imp_df[imp_df[\"Total\"]>=2][\"Feature\"].values)]"
   ]
  },
  {
   "cell_type": "code",
   "execution_count": 333,
   "metadata": {},
   "outputs": [
    {
     "data": {
      "text/html": [
       "<div>\n",
       "<style scoped>\n",
       "    .dataframe tbody tr th:only-of-type {\n",
       "        vertical-align: middle;\n",
       "    }\n",
       "\n",
       "    .dataframe tbody tr th {\n",
       "        vertical-align: top;\n",
       "    }\n",
       "\n",
       "    .dataframe thead th {\n",
       "        text-align: right;\n",
       "    }\n",
       "</style>\n",
       "<table border=\"1\" class=\"dataframe\">\n",
       "  <thead>\n",
       "    <tr style=\"text-align: right;\">\n",
       "      <th></th>\n",
       "      <th>rms_vert</th>\n",
       "      <th>rms_horiz</th>\n",
       "      <th>av_sum</th>\n",
       "      <th>Rtd sensor</th>\n",
       "      <th>sd_vert</th>\n",
       "      <th>sd_temp</th>\n",
       "      <th>sd_horiz</th>\n",
       "      <th>rms_sum</th>\n",
       "      <th>peak_temp</th>\n",
       "      <th>f96_vert</th>\n",
       "      <th>...</th>\n",
       "      <th>f160_vert</th>\n",
       "      <th>f160_sum</th>\n",
       "      <th>f16</th>\n",
       "      <th>f144_vert</th>\n",
       "      <th>f120_vert</th>\n",
       "      <th>f120_sum</th>\n",
       "      <th>f112_vert</th>\n",
       "      <th>f104_vert</th>\n",
       "      <th>f104_sum</th>\n",
       "      <th>clear_temp</th>\n",
       "    </tr>\n",
       "  </thead>\n",
       "  <tbody>\n",
       "    <tr>\n",
       "      <th>0</th>\n",
       "      <td>0.553983</td>\n",
       "      <td>0.421599</td>\n",
       "      <td>0.592083</td>\n",
       "      <td>70.303</td>\n",
       "      <td>0.441150</td>\n",
       "      <td>0.084747</td>\n",
       "      <td>0.378617</td>\n",
       "      <td>0.696163</td>\n",
       "      <td>70.303</td>\n",
       "      <td>0.027519</td>\n",
       "      <td>...</td>\n",
       "      <td>0.096690</td>\n",
       "      <td>0.096690</td>\n",
       "      <td>0.054763</td>\n",
       "      <td>0.057588</td>\n",
       "      <td>0.023155</td>\n",
       "      <td>0.023155</td>\n",
       "      <td>0.031487</td>\n",
       "      <td>0.039631</td>\n",
       "      <td>0.039631</td>\n",
       "      <td>1.001911</td>\n",
       "    </tr>\n",
       "    <tr>\n",
       "      <th>1</th>\n",
       "      <td>0.557548</td>\n",
       "      <td>0.433027</td>\n",
       "      <td>0.604905</td>\n",
       "      <td>70.303</td>\n",
       "      <td>0.438211</td>\n",
       "      <td>0.084747</td>\n",
       "      <td>0.386307</td>\n",
       "      <td>0.705955</td>\n",
       "      <td>70.303</td>\n",
       "      <td>0.046039</td>\n",
       "      <td>...</td>\n",
       "      <td>0.107719</td>\n",
       "      <td>0.107719</td>\n",
       "      <td>0.053907</td>\n",
       "      <td>0.068811</td>\n",
       "      <td>0.002681</td>\n",
       "      <td>0.002681</td>\n",
       "      <td>0.017468</td>\n",
       "      <td>0.033235</td>\n",
       "      <td>0.033235</td>\n",
       "      <td>1.001911</td>\n",
       "    </tr>\n",
       "    <tr>\n",
       "      <th>2</th>\n",
       "      <td>0.532109</td>\n",
       "      <td>0.394435</td>\n",
       "      <td>0.560820</td>\n",
       "      <td>70.303</td>\n",
       "      <td>0.431235</td>\n",
       "      <td>0.084747</td>\n",
       "      <td>0.358700</td>\n",
       "      <td>0.662359</td>\n",
       "      <td>70.303</td>\n",
       "      <td>0.058361</td>\n",
       "      <td>...</td>\n",
       "      <td>0.112539</td>\n",
       "      <td>0.112539</td>\n",
       "      <td>0.052824</td>\n",
       "      <td>0.082419</td>\n",
       "      <td>0.012552</td>\n",
       "      <td>0.012552</td>\n",
       "      <td>0.014488</td>\n",
       "      <td>0.029710</td>\n",
       "      <td>0.029710</td>\n",
       "      <td>1.001911</td>\n",
       "    </tr>\n",
       "    <tr>\n",
       "      <th>3</th>\n",
       "      <td>0.530817</td>\n",
       "      <td>0.391189</td>\n",
       "      <td>0.554830</td>\n",
       "      <td>70.303</td>\n",
       "      <td>0.431489</td>\n",
       "      <td>0.084747</td>\n",
       "      <td>0.348786</td>\n",
       "      <td>0.659390</td>\n",
       "      <td>70.303</td>\n",
       "      <td>0.070119</td>\n",
       "      <td>...</td>\n",
       "      <td>0.145904</td>\n",
       "      <td>0.145904</td>\n",
       "      <td>0.051525</td>\n",
       "      <td>0.096553</td>\n",
       "      <td>0.001974</td>\n",
       "      <td>0.001974</td>\n",
       "      <td>0.015573</td>\n",
       "      <td>0.033385</td>\n",
       "      <td>0.033385</td>\n",
       "      <td>1.001911</td>\n",
       "    </tr>\n",
       "    <tr>\n",
       "      <th>4</th>\n",
       "      <td>0.498792</td>\n",
       "      <td>0.399905</td>\n",
       "      <td>0.538379</td>\n",
       "      <td>70.303</td>\n",
       "      <td>0.418762</td>\n",
       "      <td>0.084747</td>\n",
       "      <td>0.376958</td>\n",
       "      <td>0.639310</td>\n",
       "      <td>70.303</td>\n",
       "      <td>0.088614</td>\n",
       "      <td>...</td>\n",
       "      <td>0.204304</td>\n",
       "      <td>0.204304</td>\n",
       "      <td>0.050024</td>\n",
       "      <td>0.122398</td>\n",
       "      <td>0.019334</td>\n",
       "      <td>0.019334</td>\n",
       "      <td>0.022703</td>\n",
       "      <td>0.047695</td>\n",
       "      <td>0.047695</td>\n",
       "      <td>1.001911</td>\n",
       "    </tr>\n",
       "    <tr>\n",
       "      <th>...</th>\n",
       "      <td>...</td>\n",
       "      <td>...</td>\n",
       "      <td>...</td>\n",
       "      <td>...</td>\n",
       "      <td>...</td>\n",
       "      <td>...</td>\n",
       "      <td>...</td>\n",
       "      <td>...</td>\n",
       "      <td>...</td>\n",
       "      <td>...</td>\n",
       "      <td>...</td>\n",
       "      <td>...</td>\n",
       "      <td>...</td>\n",
       "      <td>...</td>\n",
       "      <td>...</td>\n",
       "      <td>...</td>\n",
       "      <td>...</td>\n",
       "      <td>...</td>\n",
       "      <td>...</td>\n",
       "      <td>...</td>\n",
       "      <td>...</td>\n",
       "    </tr>\n",
       "    <tr>\n",
       "      <th>1905786</th>\n",
       "      <td>0.600896</td>\n",
       "      <td>0.387625</td>\n",
       "      <td>0.635278</td>\n",
       "      <td>102.139</td>\n",
       "      <td>0.611468</td>\n",
       "      <td>0.008531</td>\n",
       "      <td>0.378630</td>\n",
       "      <td>0.715073</td>\n",
       "      <td>102.168</td>\n",
       "      <td>0.197927</td>\n",
       "      <td>...</td>\n",
       "      <td>0.168841</td>\n",
       "      <td>0.168841</td>\n",
       "      <td>0.049247</td>\n",
       "      <td>0.179240</td>\n",
       "      <td>0.107382</td>\n",
       "      <td>0.107382</td>\n",
       "      <td>0.132449</td>\n",
       "      <td>0.169041</td>\n",
       "      <td>0.169041</td>\n",
       "      <td>1.000149</td>\n",
       "    </tr>\n",
       "    <tr>\n",
       "      <th>1905787</th>\n",
       "      <td>0.602685</td>\n",
       "      <td>0.388476</td>\n",
       "      <td>0.639896</td>\n",
       "      <td>102.139</td>\n",
       "      <td>0.613577</td>\n",
       "      <td>0.008531</td>\n",
       "      <td>0.374953</td>\n",
       "      <td>0.717038</td>\n",
       "      <td>102.168</td>\n",
       "      <td>0.168639</td>\n",
       "      <td>...</td>\n",
       "      <td>0.100220</td>\n",
       "      <td>0.100220</td>\n",
       "      <td>0.048500</td>\n",
       "      <td>0.126056</td>\n",
       "      <td>0.004725</td>\n",
       "      <td>0.004725</td>\n",
       "      <td>0.081290</td>\n",
       "      <td>0.133963</td>\n",
       "      <td>0.133963</td>\n",
       "      <td>1.000149</td>\n",
       "    </tr>\n",
       "    <tr>\n",
       "      <th>1905788</th>\n",
       "      <td>0.607877</td>\n",
       "      <td>0.389639</td>\n",
       "      <td>0.648203</td>\n",
       "      <td>102.139</td>\n",
       "      <td>0.619290</td>\n",
       "      <td>0.008531</td>\n",
       "      <td>0.375207</td>\n",
       "      <td>0.722034</td>\n",
       "      <td>102.168</td>\n",
       "      <td>0.138367</td>\n",
       "      <td>...</td>\n",
       "      <td>0.091673</td>\n",
       "      <td>0.091673</td>\n",
       "      <td>0.047780</td>\n",
       "      <td>0.110396</td>\n",
       "      <td>0.069137</td>\n",
       "      <td>0.069137</td>\n",
       "      <td>0.083513</td>\n",
       "      <td>0.115605</td>\n",
       "      <td>0.115605</td>\n",
       "      <td>1.000149</td>\n",
       "    </tr>\n",
       "    <tr>\n",
       "      <th>1905789</th>\n",
       "      <td>0.578599</td>\n",
       "      <td>0.374958</td>\n",
       "      <td>0.609124</td>\n",
       "      <td>102.139</td>\n",
       "      <td>0.589959</td>\n",
       "      <td>0.008531</td>\n",
       "      <td>0.352006</td>\n",
       "      <td>0.689472</td>\n",
       "      <td>102.168</td>\n",
       "      <td>0.116728</td>\n",
       "      <td>...</td>\n",
       "      <td>0.055640</td>\n",
       "      <td>0.055640</td>\n",
       "      <td>0.047090</td>\n",
       "      <td>0.100846</td>\n",
       "      <td>0.098420</td>\n",
       "      <td>0.098420</td>\n",
       "      <td>0.095366</td>\n",
       "      <td>0.108745</td>\n",
       "      <td>0.108745</td>\n",
       "      <td>1.000149</td>\n",
       "    </tr>\n",
       "    <tr>\n",
       "      <th>1905790</th>\n",
       "      <td>0.578742</td>\n",
       "      <td>0.365622</td>\n",
       "      <td>0.601160</td>\n",
       "      <td>102.139</td>\n",
       "      <td>0.589817</td>\n",
       "      <td>0.008476</td>\n",
       "      <td>0.326149</td>\n",
       "      <td>0.684559</td>\n",
       "      <td>102.168</td>\n",
       "      <td>0.109061</td>\n",
       "      <td>...</td>\n",
       "      <td>0.055523</td>\n",
       "      <td>0.055523</td>\n",
       "      <td>0.046429</td>\n",
       "      <td>0.102238</td>\n",
       "      <td>0.083150</td>\n",
       "      <td>0.083150</td>\n",
       "      <td>0.086141</td>\n",
       "      <td>0.104440</td>\n",
       "      <td>0.104440</td>\n",
       "      <td>1.000154</td>\n",
       "    </tr>\n",
       "  </tbody>\n",
       "</table>\n",
       "<p>1097087 rows × 52 columns</p>\n",
       "</div>"
      ],
      "text/plain": [
       "         rms_vert  rms_horiz    av_sum  Rtd sensor   sd_vert   sd_temp  \\\n",
       "0        0.553983   0.421599  0.592083      70.303  0.441150  0.084747   \n",
       "1        0.557548   0.433027  0.604905      70.303  0.438211  0.084747   \n",
       "2        0.532109   0.394435  0.560820      70.303  0.431235  0.084747   \n",
       "3        0.530817   0.391189  0.554830      70.303  0.431489  0.084747   \n",
       "4        0.498792   0.399905  0.538379      70.303  0.418762  0.084747   \n",
       "...           ...        ...       ...         ...       ...       ...   \n",
       "1905786  0.600896   0.387625  0.635278     102.139  0.611468  0.008531   \n",
       "1905787  0.602685   0.388476  0.639896     102.139  0.613577  0.008531   \n",
       "1905788  0.607877   0.389639  0.648203     102.139  0.619290  0.008531   \n",
       "1905789  0.578599   0.374958  0.609124     102.139  0.589959  0.008531   \n",
       "1905790  0.578742   0.365622  0.601160     102.139  0.589817  0.008476   \n",
       "\n",
       "         sd_horiz   rms_sum  peak_temp  f96_vert  ...  f160_vert  f160_sum  \\\n",
       "0        0.378617  0.696163     70.303  0.027519  ...   0.096690  0.096690   \n",
       "1        0.386307  0.705955     70.303  0.046039  ...   0.107719  0.107719   \n",
       "2        0.358700  0.662359     70.303  0.058361  ...   0.112539  0.112539   \n",
       "3        0.348786  0.659390     70.303  0.070119  ...   0.145904  0.145904   \n",
       "4        0.376958  0.639310     70.303  0.088614  ...   0.204304  0.204304   \n",
       "...           ...       ...        ...       ...  ...        ...       ...   \n",
       "1905786  0.378630  0.715073    102.168  0.197927  ...   0.168841  0.168841   \n",
       "1905787  0.374953  0.717038    102.168  0.168639  ...   0.100220  0.100220   \n",
       "1905788  0.375207  0.722034    102.168  0.138367  ...   0.091673  0.091673   \n",
       "1905789  0.352006  0.689472    102.168  0.116728  ...   0.055640  0.055640   \n",
       "1905790  0.326149  0.684559    102.168  0.109061  ...   0.055523  0.055523   \n",
       "\n",
       "              f16  f144_vert  f120_vert  f120_sum  f112_vert  f104_vert  \\\n",
       "0        0.054763   0.057588   0.023155  0.023155   0.031487   0.039631   \n",
       "1        0.053907   0.068811   0.002681  0.002681   0.017468   0.033235   \n",
       "2        0.052824   0.082419   0.012552  0.012552   0.014488   0.029710   \n",
       "3        0.051525   0.096553   0.001974  0.001974   0.015573   0.033385   \n",
       "4        0.050024   0.122398   0.019334  0.019334   0.022703   0.047695   \n",
       "...           ...        ...        ...       ...        ...        ...   \n",
       "1905786  0.049247   0.179240   0.107382  0.107382   0.132449   0.169041   \n",
       "1905787  0.048500   0.126056   0.004725  0.004725   0.081290   0.133963   \n",
       "1905788  0.047780   0.110396   0.069137  0.069137   0.083513   0.115605   \n",
       "1905789  0.047090   0.100846   0.098420  0.098420   0.095366   0.108745   \n",
       "1905790  0.046429   0.102238   0.083150  0.083150   0.086141   0.104440   \n",
       "\n",
       "         f104_sum  clear_temp  \n",
       "0        0.039631    1.001911  \n",
       "1        0.033235    1.001911  \n",
       "2        0.029710    1.001911  \n",
       "3        0.033385    1.001911  \n",
       "4        0.047695    1.001911  \n",
       "...           ...         ...  \n",
       "1905786  0.169041    1.000149  \n",
       "1905787  0.133963    1.000149  \n",
       "1905788  0.115605    1.000149  \n",
       "1905789  0.108745    1.000149  \n",
       "1905790  0.104440    1.000154  \n",
       "\n",
       "[1097087 rows x 52 columns]"
      ]
     },
     "execution_count": 333,
     "metadata": {},
     "output_type": "execute_result"
    }
   ],
   "source": [
    "X_train"
   ]
  },
  {
   "cell_type": "code",
   "execution_count": 142,
   "metadata": {},
   "outputs": [],
   "source": [
    "from sklearn.ensemble import RandomForestRegressor\n",
    "from sklearn.ensemble import RandomForestClassifier"
   ]
  },
  {
   "cell_type": "code",
   "execution_count": 143,
   "metadata": {},
   "outputs": [],
   "source": [
    "from sklearn.metrics import mean_squared_error"
   ]
  },
  {
   "cell_type": "code",
   "execution_count": 144,
   "metadata": {},
   "outputs": [],
   "source": [
    "def plot_features_weights(model, weights, feature_names):\n",
    "    \n",
    "\n",
    "    (px, py) = (8, 10) if len(weights) > 30 else (8, 5)\n",
    "    W = pd.DataFrame({'Weights':weights}, feature_names)\n",
    "    W_df = W.sort_values(by='Weights', ascending=True)\n",
    "    W_df.tail(10).plot(kind='barh', color='r', figsize=(px,py))\n",
    "    plt.xlabel(model)\n",
    "    plt.gca().legend_ = None"
   ]
  },
  {
   "cell_type": "code",
   "execution_count": 145,
   "metadata": {},
   "outputs": [],
   "source": [
    "def plot_residual(model, y_train, y_train_pred, y_test, y_test_pred):\n",
    "    plt.figure(figsize=(20,10))\n",
    "    plt.scatter(y_train_pred, y_train_pred - y_train, c='blue', marker='o', label='Training data')\n",
    "    plt.scatter(y_test_pred, y_test_pred - y_test, c='lightgreen', marker='s', label='Test data')\n",
    "    plt.xlabel('Predicted Values')\n",
    "    plt.ylabel('Residuals')\n",
    "    plt.legend(loc='upper left')\n",
    "    plt.hlines(y=0, xmin=-50, xmax=y_train.max()+50, color='red', lw=2)\n",
    "    plt.title(model + ' Residuals')\n",
    "    plt.show()"
   ]
  },
  {
   "cell_type": "code",
   "execution_count": 25,
   "metadata": {},
   "outputs": [],
   "source": [
    "from sklearn.metrics import accuracy_score\n",
    "from sklearn.metrics import f1_score"
   ]
  },
  {
   "cell_type": "code",
   "execution_count": 147,
   "metadata": {},
   "outputs": [
    {
     "data": {
      "text/plain": [
       "RandomForestClassifier(bootstrap=True, ccp_alpha=0.0, class_weight=None,\n",
       "                       criterion='gini', max_depth=6, max_features='auto',\n",
       "                       max_leaf_nodes=None, max_samples=None,\n",
       "                       min_impurity_decrease=0.0, min_impurity_split=None,\n",
       "                       min_samples_leaf=1, min_samples_split=1000,\n",
       "                       min_weight_fraction_leaf=0.0, n_estimators=100,\n",
       "                       n_jobs=-1, oob_score=False, random_state=0, verbose=0,\n",
       "                       warm_start=False)"
      ]
     },
     "execution_count": 147,
     "metadata": {},
     "output_type": "execute_result"
    }
   ],
   "source": [
    "rf = RandomForestClassifier(random_state=0,max_depth=6,n_estimators=100,min_samples_split=1000,n_jobs=-1)\n",
    "rf.fit(X_train, y_train)"
   ]
  },
  {
   "cell_type": "code",
   "execution_count": 148,
   "metadata": {},
   "outputs": [
    {
     "name": "stdout",
     "output_type": "stream",
     "text": [
      "accuracy training: 0.655, accuracy testing: 0.777\n",
      "F1 training: 0.612, F1 testing: 0.763\n"
     ]
    }
   ],
   "source": [
    "y_test_predict = rf.predict(X_test)\n",
    "y_train_predict = rf.predict(X_train)\n",
    "\n",
    "train_score = accuracy_score(y_train, y_train_predict)\n",
    "test_score = accuracy_score(y_test, y_test_predict)\n",
    "train_f1 = f1_score(y_train, y_train_predict,average=\"weighted\")\n",
    "test_f1 = f1_score(y_test, y_test_predict,average=\"weighted\")\n",
    "print('accuracy training: %.3f, accuracy testing: %.3f' % (\n",
    "      (train_score), (test_score)))\n",
    "print('F1 training: %.3f, F1 testing: %.3f' % (\n",
    "      (train_f1), (test_f1)))"
   ]
  },
  {
   "cell_type": "code",
   "execution_count": 149,
   "metadata": {},
   "outputs": [
    {
     "data": {
      "image/png": "[encoded data removed]",
      "text/plain": [
       "<Figure size 576x720 with 1 Axes>"
      ]
     },
     "metadata": {
      "needs_background": "light"
     },
     "output_type": "display_data"
    }
   ],
   "source": [
    "plot_features_weights('Random forest',rf.feature_importances_, X_train.columns)"
   ]
  },
  {
   "cell_type": "code",
   "execution_count": 150,
   "metadata": {},
   "outputs": [],
   "source": [
    "ans_train = pd.DataFrame(y_train.values,columns=[\"real group\"])\n",
    "ans_train[\"pre_group(no time)\"] = y_train_predict\n",
    "ans_train[\"real_rul\"] = one_train[\"RUL_x\"]"
   ]
  },
  {
   "cell_type": "code",
   "execution_count": 160,
   "metadata": {},
   "outputs": [],
   "source": [
    "ans_test = pd.DataFrame(y_test.values,columns=[\"real group\"])\n",
    "ans_test[\"pre_group(no time)\"] = y_test_predict\n",
    "ans_test[\"real_rul\"] = one_test[\"RUL_x\"]"
   ]
  },
  {
   "cell_type": "code",
   "execution_count": 224,
   "metadata": {},
   "outputs": [],
   "source": [
    "ans_train[\"time\"] = one_train[\"time\"]\n",
    "ans_test[\"time\"] = one_test[\"time\"]"
   ]
  },
  {
   "cell_type": "markdown",
   "metadata": {},
   "source": [
    "### 加入時間因素考量time group"
   ]
  },
  {
   "cell_type": "code",
   "execution_count": 152,
   "metadata": {},
   "outputs": [],
   "source": [
    "from sklearn.linear_model import LogisticRegression"
   ]
  },
  {
   "cell_type": "code",
   "execution_count": 166,
   "metadata": {},
   "outputs": [],
   "source": [
    "X_train = ans_train[[\"pre_group(no time)\",\"time\"]]\n",
    "y_train = ans_train[\"real group\"]\n",
    "X_test = ans_test[[\"pre_group(no time)\",\"time\"]]\n",
    "y_test = ans_test[\"real group\"]"
   ]
  },
  {
   "cell_type": "code",
   "execution_count": 169,
   "metadata": {},
   "outputs": [
    {
     "data": {
      "text/plain": [
       "LogisticRegression(C=1.0, class_weight=None, dual=False, fit_intercept=True,\n",
       "                   intercept_scaling=1, l1_ratio=None, max_iter=200,\n",
       "                   multi_class='auto', n_jobs=None, penalty='l2',\n",
       "                   random_state=None, solver='lbfgs', tol=0.0001, verbose=0,\n",
       "                   warm_start=False)"
      ]
     },
     "execution_count": 169,
     "metadata": {},
     "output_type": "execute_result"
    }
   ],
   "source": [
    "lr = LogisticRegression(max_iter=200)\n",
    "lr.fit(X_train, y_train)"
   ]
  },
  {
   "cell_type": "code",
   "execution_count": 170,
   "metadata": {},
   "outputs": [
    {
     "name": "stdout",
     "output_type": "stream",
     "text": [
      "accuracy training: 0.908, accuracy testing: 0.712\n",
      "F1 training: 0.908, F1 testing: 0.703\n"
     ]
    }
   ],
   "source": [
    "y_test_predict = lr.predict(X_test)\n",
    "y_train_predict = lr.predict(X_train)\n",
    "\n",
    "train_score = accuracy_score(y_train, y_train_predict)\n",
    "test_score = accuracy_score(y_test, y_test_predict)\n",
    "train_f1 = f1_score(y_train, y_train_predict,average=\"weighted\")\n",
    "test_f1 = f1_score(y_test, y_test_predict,average=\"weighted\")\n",
    "print('accuracy training: %.3f, accuracy testing: %.3f' % (\n",
    "      (train_score), (test_score)))\n",
    "print('F1 training: %.3f, F1 testing: %.3f' % (\n",
    "      (train_f1), (test_f1)))"
   ]
  },
  {
   "cell_type": "code",
   "execution_count": 171,
   "metadata": {},
   "outputs": [],
   "source": [
    "from sklearn.tree import DecisionTreeClassifier"
   ]
  },
  {
   "cell_type": "code",
   "execution_count": 178,
   "metadata": {},
   "outputs": [
    {
     "data": {
      "text/plain": [
       "DecisionTreeClassifier(ccp_alpha=0.0, class_weight=None, criterion='gini',\n",
       "                       max_depth=3, max_features=None, max_leaf_nodes=None,\n",
       "                       min_impurity_decrease=0.0, min_impurity_split=None,\n",
       "                       min_samples_leaf=1, min_samples_split=2,\n",
       "                       min_weight_fraction_leaf=0.0, presort='deprecated',\n",
       "                       random_state=None, splitter='best')"
      ]
     },
     "execution_count": 178,
     "metadata": {},
     "output_type": "execute_result"
    }
   ],
   "source": [
    "dt = DecisionTreeClassifier(max_depth=3)\n",
    "dt.fit(X_train, y_train)"
   ]
  },
  {
   "cell_type": "code",
   "execution_count": 179,
   "metadata": {},
   "outputs": [
    {
     "name": "stdout",
     "output_type": "stream",
     "text": [
      "accuracy training: 0.953, accuracy testing: 0.770\n",
      "F1 training: 0.953, F1 testing: 0.769\n"
     ]
    }
   ],
   "source": [
    "y_test_predict = dt.predict(X_test)\n",
    "y_train_predict = dt.predict(X_train)\n",
    "\n",
    "train_score = accuracy_score(y_train, y_train_predict)\n",
    "test_score = accuracy_score(y_test, y_test_predict)\n",
    "train_f1 = f1_score(y_train, y_train_predict,average=\"weighted\")\n",
    "test_f1 = f1_score(y_test, y_test_predict,average=\"weighted\")\n",
    "print('accuracy training: %.3f, accuracy testing: %.3f' % (\n",
    "      (train_score), (test_score)))\n",
    "print('F1 training: %.3f, F1 testing: %.3f' % (\n",
    "      (train_f1), (test_f1)))"
   ]
  },
  {
   "cell_type": "code",
   "execution_count": 181,
   "metadata": {},
   "outputs": [
    {
     "data": {
      "image/png": "[encoded data removed]",
      "text/plain": [
       "<Figure size 1800x1440 with 1 Axes>"
      ]
     },
     "metadata": {
      "needs_background": "light"
     },
     "output_type": "display_data"
    }
   ],
   "source": [
    "fig = plt.figure(figsize=(25,20))\n",
    "_ = tree.plot_tree(dt, \n",
    "                   feature_names=X_train.columns,\n",
    "                   fontsize=13,\n",
    "                   filled=True)"
   ]
  },
  {
   "cell_type": "code",
   "execution_count": 185,
   "metadata": {},
   "outputs": [],
   "source": [
    "ans_train[\"pre_group(time)\"] = y_train_predict\n",
    "ans_test[\"pre_group(time)\"] = y_test_predict"
   ]
  },
  {
   "cell_type": "code",
   "execution_count": 335,
   "metadata": {},
   "outputs": [],
   "source": [
    "ans_train = ans_train.drop([\"level_0\",\"index\"], axis=1)\n",
    "ans_test = ans_test.drop([\"level_0\",\"index\"], axis=1)"
   ]
  },
  {
   "cell_type": "markdown",
   "metadata": {},
   "source": [
    "### step 2 train each class"
   ]
  },
  {
   "cell_type": "markdown",
   "metadata": {},
   "source": [
    "#### 1. class 0"
   ]
  },
  {
   "cell_type": "code",
   "execution_count": 504,
   "metadata": {},
   "outputs": [],
   "source": [
    "X_train = one_train[one_train[\"time_group\"]==0].drop([\"index\",\"Unnamed: 0_x\",\"Unnamed: 0_y\",\"RUL_x\",\"RUL_y\",\"round_RUL\",\"id\",\"id_x\",\"id.1\",\"id.2\",\"time_group\"], axis=1)\n",
    "X_test = one_test[one_test[\"time_group\"]==0].drop([\"index\",\"Unnamed: 0_x\",\"Unnamed: 0_y\",\"RUL_x\",\"RUL_y\",\"round_RUL\",\"id\",\"id_x\",\"id.1\",\"id.2\",\"time_group\"], axis=1)\n",
    "y_train = one_train[one_train[\"time_group\"]==0][\"RUL_x\"]\n",
    "y_test = one_test[one_test[\"time_group\"]==0][\"RUL_x\"]"
   ]
  },
  {
   "cell_type": "code",
   "execution_count": 505,
   "metadata": {},
   "outputs": [],
   "source": [
    "X_train = X_train[list(imp_df[imp_df[\"Total\"]>=2][\"Feature\"].values)]\n",
    "X_test = X_test[list(imp_df[imp_df[\"Total\"]>=2][\"Feature\"].values)]"
   ]
  },
  {
   "cell_type": "code",
   "execution_count": 506,
   "metadata": {},
   "outputs": [
    {
     "data": {
      "text/plain": [
       "Index(['rms_vert', 'rms_horiz', 'av_sum', 'Rtd sensor', 'sd_vert', 'sd_temp',\n",
       "       'sd_horiz', 'rms_sum', 'peak_temp', 'f96_vert', 'f96_sum', 'f40_vert',\n",
       "       'f32_vert', 'f16_vert', 'f16_sum', 'av_temp', 'skew_temp', 'shape_sum',\n",
       "       'sd_sum', 'rms_temp', 'peak_vert', 'peak_sum', 'kurt_temp', 'kurt_sum',\n",
       "       'f8_vert', 'f88_sum', 'f80_vert', 'f80_sum', 'f8', 'f72_vert',\n",
       "       'f72_sum', 'f56_vert', 'f56_sum', 'f40_sum', 'f32_sum', 'f24_vert',\n",
       "       'f24', 'f192_vert', 'f192_sum', 'f184_vert', 'f184_sum', 'f168_vert',\n",
       "       'f160_vert', 'f160_sum', 'f16', 'f144_vert', 'f120_vert', 'f120_sum',\n",
       "       'f112_vert', 'f104_vert', 'f104_sum', 'clear_temp'],\n",
       "      dtype='object')"
      ]
     },
     "execution_count": 506,
     "metadata": {},
     "output_type": "execute_result"
    }
   ],
   "source": [
    "X_train.columns"
   ]
  },
  {
   "cell_type": "code",
   "execution_count": 509,
   "metadata": {},
   "outputs": [],
   "source": [
    "from lightgbm import LGBMRegressor"
   ]
  },
  {
   "cell_type": "code",
   "execution_count": 521,
   "metadata": {},
   "outputs": [
    {
     "data": {
      "text/plain": [
       "LGBMRegressor(boosting_type='gbdt', class_weight=None, colsample_bytree=1.0,\n",
       "              importance_type='split', learning_rate=0.1, max_depth=-1,\n",
       "              min_child_samples=20, min_child_weight=0.001, min_split_gain=0.0,\n",
       "              n_estimators=20, n_jobs=-1, num_leaves=31, objective=None,\n",
       "              random_state=None, reg_alpha=0.0, reg_lambda=0.5, silent=True,\n",
       "              subsample=1.0, subsample_for_bin=200000, subsample_freq=0)"
      ]
     },
     "execution_count": 521,
     "metadata": {},
     "output_type": "execute_result"
    }
   ],
   "source": [
    "lgb = LGBMRegressor(n_estimators=20,n_jobs=- 1,reg_lambda=0.5)\n",
    "lgb.fit(X_train, y_train)"
   ]
  },
  {
   "cell_type": "code",
   "execution_count": 522,
   "metadata": {},
   "outputs": [
    {
     "name": "stdout",
     "output_type": "stream",
     "text": [
      "MSE training: 1575252.606, MSE testing: 98423601.629\n",
      "RMSE training: 1255.091, RMSE testing: 9920.867\n",
      "MAE training: 1014.512, MAE testing: 9394.194\n"
     ]
    }
   ],
   "source": [
    "y_test_predict = lgb.predict(X_test)\n",
    "y_train_predict = lgb.predict(X_train)\n",
    "\n",
    "train_mse = mean_squared_error(y_train, y_train_predict)\n",
    "test_mse = mean_squared_error(y_test, y_test_predict)\n",
    "print('MSE training: %.3f, MSE testing: %.3f' % (\n",
    "      (train_mse), (test_mse)))\n",
    "print('RMSE training: %.3f, RMSE testing: %.3f' % (\n",
    "      (train_mse**0.5), (test_mse**0.5)))\n",
    "train_mape = mean_absolute_error(y_train, y_train_predict)\n",
    "test_mape = mean_absolute_error(y_test, y_test_predict)\n",
    "print('MAE training: %.3f, MAE testing: %.3f' % (\n",
    "      (train_mape), (test_mape)))"
   ]
  },
  {
   "cell_type": "code",
   "execution_count": 523,
   "metadata": {},
   "outputs": [
    {
     "data": {
      "image/png": "[encoded data removed]",
      "text/plain": [
       "<Figure size 576x720 with 1 Axes>"
      ]
     },
     "metadata": {
      "needs_background": "light"
     },
     "output_type": "display_data"
    }
   ],
   "source": [
    "plot_features_weights('LGBMRegressor',rf.feature_importances_, X_train.columns)"
   ]
  },
  {
   "cell_type": "code",
   "execution_count": 524,
   "metadata": {},
   "outputs": [],
   "source": [
    "X_real_train = one_train.drop([\"index\",\"Unnamed: 0_x\",\"Unnamed: 0_y\",\"RUL_x\",\"RUL_y\",\"round_RUL\",\"id\",\"id_x\",\"id.1\",\"id.2\",\"time\",\"time_group\"], axis=1)\n",
    "X_real_test = one_test.drop([\"index\",\"Unnamed: 0_x\",\"Unnamed: 0_y\",\"RUL_x\",\"RUL_y\",\"round_RUL\",\"id\",\"id_x\",\"id.1\",\"id.2\",\"time\",\"time_group\"], axis=1)"
   ]
  },
  {
   "cell_type": "code",
   "execution_count": 525,
   "metadata": {},
   "outputs": [],
   "source": [
    "X_real_train = X_real_train[list(imp_df[imp_df[\"Total\"]>=2][\"Feature\"].values)]\n",
    "X_real_test = X_real_test[list(imp_df[imp_df[\"Total\"]>=2][\"Feature\"].values)]"
   ]
  },
  {
   "cell_type": "code",
   "execution_count": 526,
   "metadata": {},
   "outputs": [],
   "source": [
    "y_test_predict_all = lgb.predict(X_real_test)\n",
    "y_train_predict_all = lgb.predict(X_real_train)"
   ]
  },
  {
   "cell_type": "code",
   "execution_count": 528,
   "metadata": {},
   "outputs": [],
   "source": [
    "ans_train[\"class 0 predict\"] = y_train_predict_all\n",
    "ans_test[\"class 0 predict\"] = y_test_predict_all"
   ]
  },
  {
   "cell_type": "markdown",
   "metadata": {},
   "source": [
    "#### 2. class 1"
   ]
  },
  {
   "cell_type": "code",
   "execution_count": 530,
   "metadata": {},
   "outputs": [],
   "source": [
    "X_train = one_train[one_train[\"time_group\"]==1].drop([\"index\",\"Unnamed: 0_x\",\"Unnamed: 0_y\",\"RUL_x\",\"RUL_y\",\"round_RUL\",\"id\",\"id_x\",\"id.1\",\"id.2\",\"time_group\"], axis=1)\n",
    "X_test = one_test[one_test[\"time_group\"]==1].drop([\"index\",\"Unnamed: 0_x\",\"Unnamed: 0_y\",\"RUL_x\",\"RUL_y\",\"round_RUL\",\"id\",\"id_x\",\"id.1\",\"id.2\",\"time_group\"], axis=1)\n",
    "y_train = one_train[one_train[\"time_group\"]==1][\"RUL_x\"]\n",
    "y_test = one_test[one_test[\"time_group\"]==1][\"RUL_x\"]"
   ]
  },
  {
   "cell_type": "code",
   "execution_count": 535,
   "metadata": {},
   "outputs": [],
   "source": [
    "X_train = X_train[list(imp_df[imp_df[\"Total\"]>=2][\"Feature\"].values)]\n",
    "X_test = X_test[list(imp_df[imp_df[\"Total\"]>=2][\"Feature\"].values)]"
   ]
  },
  {
   "cell_type": "code",
   "execution_count": 536,
   "metadata": {},
   "outputs": [
    {
     "data": {
      "text/plain": [
       "Index(['rms_vert', 'rms_horiz', 'av_sum', 'Rtd sensor', 'sd_vert', 'sd_temp',\n",
       "       'sd_horiz', 'rms_sum', 'peak_temp', 'f96_vert', 'f96_sum', 'f40_vert',\n",
       "       'f32_vert', 'f16_vert', 'f16_sum', 'av_temp', 'skew_temp', 'shape_sum',\n",
       "       'sd_sum', 'rms_temp', 'peak_vert', 'peak_sum', 'kurt_temp', 'kurt_sum',\n",
       "       'f8_vert', 'f88_sum', 'f80_vert', 'f80_sum', 'f8', 'f72_vert',\n",
       "       'f72_sum', 'f56_vert', 'f56_sum', 'f40_sum', 'f32_sum', 'f24_vert',\n",
       "       'f24', 'f192_vert', 'f192_sum', 'f184_vert', 'f184_sum', 'f168_vert',\n",
       "       'f160_vert', 'f160_sum', 'f16', 'f144_vert', 'f120_vert', 'f120_sum',\n",
       "       'f112_vert', 'f104_vert', 'f104_sum', 'clear_temp'],\n",
       "      dtype='object')"
      ]
     },
     "execution_count": 536,
     "metadata": {},
     "output_type": "execute_result"
    }
   ],
   "source": [
    "X_train.columns"
   ]
  },
  {
   "cell_type": "code",
   "execution_count": 537,
   "metadata": {},
   "outputs": [
    {
     "data": {
      "text/plain": [
       "LGBMRegressor(boosting_type='gbdt', class_weight=None, colsample_bytree=1.0,\n",
       "              importance_type='split', learning_rate=0.1, max_depth=-1,\n",
       "              min_child_samples=20, min_child_weight=0.001, min_split_gain=0.0,\n",
       "              n_estimators=20, n_jobs=-1, num_leaves=31, objective=None,\n",
       "              random_state=None, reg_alpha=0.0, reg_lambda=0.5, silent=True,\n",
       "              subsample=1.0, subsample_for_bin=200000, subsample_freq=0)"
      ]
     },
     "execution_count": 537,
     "metadata": {},
     "output_type": "execute_result"
    }
   ],
   "source": [
    "lgb = LGBMRegressor(n_estimators=20,n_jobs=- 1,reg_lambda=0.5)\n",
    "lgb.fit(X_train, y_train)"
   ]
  },
  {
   "cell_type": "code",
   "execution_count": 538,
   "metadata": {},
   "outputs": [
    {
     "name": "stdout",
     "output_type": "stream",
     "text": [
      "MSE training: 1026168.050, MSE testing: 18973261.758\n",
      "RMSE training: 1013.000, RMSE testing: 4355.831\n",
      "MAE training: 806.509, MAE testing: 4026.746\n"
     ]
    }
   ],
   "source": [
    "y_test_predict = lgb.predict(X_test)\n",
    "y_train_predict = lgb.predict(X_train)\n",
    "\n",
    "train_mse = mean_squared_error(y_train, y_train_predict)\n",
    "test_mse = mean_squared_error(y_test, y_test_predict)\n",
    "print('MSE training: %.3f, MSE testing: %.3f' % (\n",
    "      (train_mse), (test_mse)))\n",
    "print('RMSE training: %.3f, RMSE testing: %.3f' % (\n",
    "      (train_mse**0.5), (test_mse**0.5)))\n",
    "train_mape = mean_absolute_error(y_train, y_train_predict)\n",
    "test_mape = mean_absolute_error(y_test, y_test_predict)\n",
    "print('MAE training: %.3f, MAE testing: %.3f' % (\n",
    "      (train_mape), (test_mape)))"
   ]
  },
  {
   "cell_type": "code",
   "execution_count": 540,
   "metadata": {
    "scrolled": false
   },
   "outputs": [
    {
     "data": {
      "image/png": "[encoded data removed]",
      "text/plain": [
       "<Figure size 576x720 with 1 Axes>"
      ]
     },
     "metadata": {
      "needs_background": "light"
     },
     "output_type": "display_data"
    }
   ],
   "source": [
    "plot_features_weights('LGBMRegressor',rf.feature_importances_, X_train.columns)"
   ]
  },
  {
   "cell_type": "code",
   "execution_count": 541,
   "metadata": {},
   "outputs": [],
   "source": [
    "X_real_train = one_train.drop([\"index\",\"Unnamed: 0_x\",\"Unnamed: 0_y\",\"RUL_x\",\"RUL_y\",\"round_RUL\",\"id\",\"id_x\",\"id.1\",\"id.2\",\"time\",\"time_group\"], axis=1)\n",
    "X_real_test = one_test.drop([\"index\",\"Unnamed: 0_x\",\"Unnamed: 0_y\",\"RUL_x\",\"RUL_y\",\"round_RUL\",\"id\",\"id_x\",\"id.1\",\"id.2\",\"time\",\"time_group\"], axis=1)\n",
    "\n",
    "X_real_train = X_real_train[list(imp_df[imp_df[\"Total\"]>=2][\"Feature\"].values)]\n",
    "X_real_test = X_real_test[list(imp_df[imp_df[\"Total\"]>=2][\"Feature\"].values)]\n",
    "\n",
    "y_test_predict_all = lgb.predict(X_real_test)\n",
    "y_train_predict_all = lgb.predict(X_real_train)\n",
    "\n",
    "ans_train[\"class 1 predict\"] = y_train_predict_all\n",
    "ans_test[\"class 1 predict\"] = y_test_predict_all"
   ]
  },
  {
   "cell_type": "markdown",
   "metadata": {},
   "source": [
    "#### 3. class 2"
   ]
  },
  {
   "cell_type": "code",
   "execution_count": 542,
   "metadata": {},
   "outputs": [],
   "source": [
    "X_train = one_train[one_train[\"time_group\"]==2].drop([\"index\",\"Unnamed: 0_x\",\"Unnamed: 0_y\",\"RUL_x\",\"RUL_y\",\"round_RUL\",\"id\",\"id_x\",\"id.1\",\"id.2\",\"time_group\"], axis=1)\n",
    "X_test = one_test[one_test[\"time_group\"]==2].drop([\"index\",\"Unnamed: 0_x\",\"Unnamed: 0_y\",\"RUL_x\",\"RUL_y\",\"round_RUL\",\"id\",\"id_x\",\"id.1\",\"id.2\",\"time_group\"], axis=1)\n",
    "y_train = one_train[one_train[\"time_group\"]==2][\"RUL_x\"]\n",
    "y_test = one_test[one_test[\"time_group\"]==2][\"RUL_x\"]"
   ]
  },
  {
   "cell_type": "code",
   "execution_count": 543,
   "metadata": {},
   "outputs": [
    {
     "data": {
      "text/plain": [
       "Index(['rms_vert', 'rms_horiz', 'av_sum', 'Rtd sensor', 'sd_vert', 'sd_temp',\n",
       "       'sd_horiz', 'rms_sum', 'peak_temp', 'f96_vert', 'f96_sum', 'f40_vert',\n",
       "       'f32_vert', 'f16_vert', 'f16_sum', 'av_temp', 'skew_temp', 'shape_sum',\n",
       "       'sd_sum', 'rms_temp', 'peak_vert', 'peak_sum', 'kurt_temp', 'kurt_sum',\n",
       "       'f8_vert', 'f88_sum', 'f80_vert', 'f80_sum', 'f8', 'f72_vert',\n",
       "       'f72_sum', 'f56_vert', 'f56_sum', 'f40_sum', 'f32_sum', 'f24_vert',\n",
       "       'f24', 'f192_vert', 'f192_sum', 'f184_vert', 'f184_sum', 'f168_vert',\n",
       "       'f160_vert', 'f160_sum', 'f16', 'f144_vert', 'f120_vert', 'f120_sum',\n",
       "       'f112_vert', 'f104_vert', 'f104_sum', 'clear_temp'],\n",
       "      dtype='object')"
      ]
     },
     "execution_count": 543,
     "metadata": {},
     "output_type": "execute_result"
    }
   ],
   "source": [
    "X_train = X_train[list(imp_df[imp_df[\"Total\"]>=2][\"Feature\"].values)]\n",
    "X_test = X_test[list(imp_df[imp_df[\"Total\"]>=2][\"Feature\"].values)]\n",
    "X_train.columns"
   ]
  },
  {
   "cell_type": "code",
   "execution_count": 544,
   "metadata": {},
   "outputs": [],
   "source": [
    "lgb = LGBMRegressor(n_estimators=20,n_jobs=- 1,reg_lambda=0.5)\n",
    "lgb.fit(X_train, y_train)\n",
    "y_test_predict = lgb.predict(X_test)\n",
    "y_train_predict = lgb.predict(X_train)"
   ]
  },
  {
   "cell_type": "code",
   "execution_count": 545,
   "metadata": {},
   "outputs": [
    {
     "name": "stdout",
     "output_type": "stream",
     "text": [
      "MSE training: 474136.058, MSE testing: 6247055.355\n",
      "RMSE training: 688.575, RMSE testing: 2499.411\n",
      "MAE training: 509.748, MAE testing: 1920.983\n"
     ]
    }
   ],
   "source": [
    "train_mse = mean_squared_error(y_train, y_train_predict)\n",
    "test_mse = mean_squared_error(y_test, y_test_predict)\n",
    "print('MSE training: %.3f, MSE testing: %.3f' % (\n",
    "      (train_mse), (test_mse)))\n",
    "print('RMSE training: %.3f, RMSE testing: %.3f' % (\n",
    "      (train_mse**0.5), (test_mse**0.5)))\n",
    "train_mape = mean_absolute_error(y_train, y_train_predict)\n",
    "test_mape = mean_absolute_error(y_test, y_test_predict)\n",
    "print('MAE training: %.3f, MAE testing: %.3f' % (\n",
    "      (train_mape), (test_mape)))"
   ]
  },
  {
   "cell_type": "code",
   "execution_count": 546,
   "metadata": {},
   "outputs": [
    {
     "data": {
      "image/png": "[encoded data removed]",
      "text/plain": [
       "<Figure size 576x720 with 1 Axes>"
      ]
     },
     "metadata": {
      "needs_background": "light"
     },
     "output_type": "display_data"
    }
   ],
   "source": [
    "plot_features_weights('LGBMRegressor',rf.feature_importances_, X_train.columns)"
   ]
  },
  {
   "cell_type": "code",
   "execution_count": 547,
   "metadata": {},
   "outputs": [],
   "source": [
    "X_real_train = one_train.drop([\"index\",\"Unnamed: 0_x\",\"Unnamed: 0_y\",\"RUL_x\",\"RUL_y\",\"round_RUL\",\"id\",\"id_x\",\"id.1\",\"id.2\",\"time\",\"time_group\"], axis=1)\n",
    "X_real_test = one_test.drop([\"index\",\"Unnamed: 0_x\",\"Unnamed: 0_y\",\"RUL_x\",\"RUL_y\",\"round_RUL\",\"id\",\"id_x\",\"id.1\",\"id.2\",\"time\",\"time_group\"], axis=1)\n",
    "\n",
    "X_real_train = X_real_train[list(imp_df[imp_df[\"Total\"]>=2][\"Feature\"].values)]\n",
    "X_real_test = X_real_test[list(imp_df[imp_df[\"Total\"]>=2][\"Feature\"].values)]\n",
    "\n",
    "y_test_predict_all = lgb.predict(X_real_test)\n",
    "y_train_predict_all = lgb.predict(X_real_train)\n",
    "\n",
    "ans_train[\"class 2 predict\"] = y_train_predict_all\n",
    "ans_test[\"class 2 predict\"] = y_test_predict_all"
   ]
  },
  {
   "cell_type": "code",
   "execution_count": 553,
   "metadata": {},
   "outputs": [
    {
     "data": {
      "text/html": [
       "<div>\n",
       "<style scoped>\n",
       "    .dataframe tbody tr th:only-of-type {\n",
       "        vertical-align: middle;\n",
       "    }\n",
       "\n",
       "    .dataframe tbody tr th {\n",
       "        vertical-align: top;\n",
       "    }\n",
       "\n",
       "    .dataframe thead th {\n",
       "        text-align: right;\n",
       "    }\n",
       "</style>\n",
       "<table border=\"1\" class=\"dataframe\">\n",
       "  <thead>\n",
       "    <tr style=\"text-align: right;\">\n",
       "      <th></th>\n",
       "      <th>real group</th>\n",
       "      <th>pre_group(no time)</th>\n",
       "      <th>real_rul</th>\n",
       "      <th>time</th>\n",
       "      <th>pre_group(time)</th>\n",
       "      <th>class 0 predict</th>\n",
       "      <th>class 1 predict</th>\n",
       "      <th>class 2 predict</th>\n",
       "    </tr>\n",
       "  </thead>\n",
       "  <tbody>\n",
       "    <tr>\n",
       "      <th>0</th>\n",
       "      <td>0.0</td>\n",
       "      <td>0.0</td>\n",
       "      <td>14160.099610</td>\n",
       "      <td>0.000000</td>\n",
       "      <td>0.0</td>\n",
       "      <td>18090.373163</td>\n",
       "      <td>8473.133075</td>\n",
       "      <td>3514.554495</td>\n",
       "    </tr>\n",
       "    <tr>\n",
       "      <th>1</th>\n",
       "      <td>0.0</td>\n",
       "      <td>0.0</td>\n",
       "      <td>14160.099220</td>\n",
       "      <td>0.000390</td>\n",
       "      <td>0.0</td>\n",
       "      <td>18090.373163</td>\n",
       "      <td>8473.133075</td>\n",
       "      <td>3514.554495</td>\n",
       "    </tr>\n",
       "    <tr>\n",
       "      <th>2</th>\n",
       "      <td>0.0</td>\n",
       "      <td>0.0</td>\n",
       "      <td>14160.098830</td>\n",
       "      <td>0.000780</td>\n",
       "      <td>0.0</td>\n",
       "      <td>18090.373163</td>\n",
       "      <td>8473.133075</td>\n",
       "      <td>3514.554495</td>\n",
       "    </tr>\n",
       "    <tr>\n",
       "      <th>3</th>\n",
       "      <td>0.0</td>\n",
       "      <td>0.0</td>\n",
       "      <td>14160.098440</td>\n",
       "      <td>0.001170</td>\n",
       "      <td>0.0</td>\n",
       "      <td>18090.373163</td>\n",
       "      <td>8473.133075</td>\n",
       "      <td>3514.554495</td>\n",
       "    </tr>\n",
       "    <tr>\n",
       "      <th>4</th>\n",
       "      <td>0.0</td>\n",
       "      <td>0.0</td>\n",
       "      <td>14160.098050</td>\n",
       "      <td>0.001560</td>\n",
       "      <td>0.0</td>\n",
       "      <td>18090.373163</td>\n",
       "      <td>8473.133075</td>\n",
       "      <td>3514.554495</td>\n",
       "    </tr>\n",
       "    <tr>\n",
       "      <th>...</th>\n",
       "      <td>...</td>\n",
       "      <td>...</td>\n",
       "      <td>...</td>\n",
       "      <td>...</td>\n",
       "      <td>...</td>\n",
       "      <td>...</td>\n",
       "      <td>...</td>\n",
       "      <td>...</td>\n",
       "    </tr>\n",
       "    <tr>\n",
       "      <th>2194170</th>\n",
       "      <td>2.0</td>\n",
       "      <td>2.0</td>\n",
       "      <td>0.001562</td>\n",
       "      <td>22520.098047</td>\n",
       "      <td>2.0</td>\n",
       "      <td>16030.632226</td>\n",
       "      <td>7802.416095</td>\n",
       "      <td>513.824268</td>\n",
       "    </tr>\n",
       "    <tr>\n",
       "      <th>2194171</th>\n",
       "      <td>2.0</td>\n",
       "      <td>2.0</td>\n",
       "      <td>0.001171</td>\n",
       "      <td>22520.098438</td>\n",
       "      <td>2.0</td>\n",
       "      <td>16030.632226</td>\n",
       "      <td>7802.416095</td>\n",
       "      <td>513.824268</td>\n",
       "    </tr>\n",
       "    <tr>\n",
       "      <th>2194172</th>\n",
       "      <td>2.0</td>\n",
       "      <td>2.0</td>\n",
       "      <td>0.000781</td>\n",
       "      <td>22520.098828</td>\n",
       "      <td>2.0</td>\n",
       "      <td>16030.632226</td>\n",
       "      <td>7802.416095</td>\n",
       "      <td>513.824268</td>\n",
       "    </tr>\n",
       "    <tr>\n",
       "      <th>2194173</th>\n",
       "      <td>2.0</td>\n",
       "      <td>2.0</td>\n",
       "      <td>0.000390</td>\n",
       "      <td>22520.099219</td>\n",
       "      <td>2.0</td>\n",
       "      <td>16030.632226</td>\n",
       "      <td>7802.416095</td>\n",
       "      <td>513.824268</td>\n",
       "    </tr>\n",
       "    <tr>\n",
       "      <th>2194174</th>\n",
       "      <td>2.0</td>\n",
       "      <td>2.0</td>\n",
       "      <td>0.000000</td>\n",
       "      <td>22520.099609</td>\n",
       "      <td>2.0</td>\n",
       "      <td>16030.632226</td>\n",
       "      <td>7802.416095</td>\n",
       "      <td>513.824268</td>\n",
       "    </tr>\n",
       "  </tbody>\n",
       "</table>\n",
       "<p>2194175 rows × 8 columns</p>\n",
       "</div>"
      ],
      "text/plain": [
       "         real group  pre_group(no time)      real_rul          time  \\\n",
       "0               0.0                 0.0  14160.099610      0.000000   \n",
       "1               0.0                 0.0  14160.099220      0.000390   \n",
       "2               0.0                 0.0  14160.098830      0.000780   \n",
       "3               0.0                 0.0  14160.098440      0.001170   \n",
       "4               0.0                 0.0  14160.098050      0.001560   \n",
       "...             ...                 ...           ...           ...   \n",
       "2194170         2.0                 2.0      0.001562  22520.098047   \n",
       "2194171         2.0                 2.0      0.001171  22520.098438   \n",
       "2194172         2.0                 2.0      0.000781  22520.098828   \n",
       "2194173         2.0                 2.0      0.000390  22520.099219   \n",
       "2194174         2.0                 2.0      0.000000  22520.099609   \n",
       "\n",
       "         pre_group(time)  class 0 predict  class 1 predict  class 2 predict  \n",
       "0                    0.0     18090.373163      8473.133075      3514.554495  \n",
       "1                    0.0     18090.373163      8473.133075      3514.554495  \n",
       "2                    0.0     18090.373163      8473.133075      3514.554495  \n",
       "3                    0.0     18090.373163      8473.133075      3514.554495  \n",
       "4                    0.0     18090.373163      8473.133075      3514.554495  \n",
       "...                  ...              ...              ...              ...  \n",
       "2194170              2.0     16030.632226      7802.416095       513.824268  \n",
       "2194171              2.0     16030.632226      7802.416095       513.824268  \n",
       "2194172              2.0     16030.632226      7802.416095       513.824268  \n",
       "2194173              2.0     16030.632226      7802.416095       513.824268  \n",
       "2194174              2.0     16030.632226      7802.416095       513.824268  \n",
       "\n",
       "[2194175 rows x 8 columns]"
      ]
     },
     "execution_count": 553,
     "metadata": {},
     "output_type": "execute_result"
    }
   ],
   "source": [
    "ans_train"
   ]
  },
  {
   "cell_type": "code",
   "execution_count": 556,
   "metadata": {},
   "outputs": [],
   "source": [
    "ans_train = ans_train.reset_index()\n",
    "ans_test = ans_test.reset_index()"
   ]
  },
  {
   "cell_type": "code",
   "execution_count": 580,
   "metadata": {},
   "outputs": [],
   "source": [
    "ans_train.loc[ans_train[\"pre_group(no time)\"]==0,\"final predict\"] = ans_train.loc[ans_train[\"pre_group(no time)\"]==0,\"class 0 predict\"]\n",
    "ans_train.loc[ans_train[\"pre_group(no time)\"]==1,\"final predict\"] = ans_train.loc[ans_train[\"pre_group(no time)\"]==1,\"class 1 predict\"]\n",
    "ans_train.loc[ans_train[\"pre_group(no time)\"]==2,\"final predict\"] = ans_train.loc[ans_train[\"pre_group(no time)\"]==2,\"class 2 predict\"]"
   ]
  },
  {
   "cell_type": "code",
   "execution_count": 581,
   "metadata": {},
   "outputs": [],
   "source": [
    "ans_test.loc[ans_test[\"pre_group(no time)\"]==0,\"final predict\"] = ans_test.loc[ans_test[\"pre_group(no time)\"]==0,\"class 0 predict\"]\n",
    "ans_test.loc[ans_test[\"pre_group(no time)\"]==1,\"final predict\"] = ans_test.loc[ans_test[\"pre_group(no time)\"]==1,\"class 1 predict\"]\n",
    "ans_test.loc[ans_test[\"pre_group(no time)\"]==2,\"final predict\"] = ans_test.loc[ans_test[\"pre_group(no time)\"]==2,\"class 2 predict\"]"
   ]
  },
  {
   "cell_type": "code",
   "execution_count": 569,
   "metadata": {},
   "outputs": [
    {
     "data": {
      "text/html": [
       "<div>\n",
       "<style scoped>\n",
       "    .dataframe tbody tr th:only-of-type {\n",
       "        vertical-align: middle;\n",
       "    }\n",
       "\n",
       "    .dataframe tbody tr th {\n",
       "        vertical-align: top;\n",
       "    }\n",
       "\n",
       "    .dataframe thead th {\n",
       "        text-align: right;\n",
       "    }\n",
       "</style>\n",
       "<table border=\"1\" class=\"dataframe\">\n",
       "  <thead>\n",
       "    <tr style=\"text-align: right;\">\n",
       "      <th></th>\n",
       "      <th>index</th>\n",
       "      <th>real group</th>\n",
       "      <th>pre_group(no time)</th>\n",
       "      <th>real_rul</th>\n",
       "      <th>time</th>\n",
       "      <th>pre_group(time)</th>\n",
       "      <th>class 0 predict</th>\n",
       "      <th>class 1 predict</th>\n",
       "      <th>class 2 predict</th>\n",
       "      <th>final predict</th>\n",
       "    </tr>\n",
       "  </thead>\n",
       "  <tbody>\n",
       "    <tr>\n",
       "      <th>0</th>\n",
       "      <td>0</td>\n",
       "      <td>0.0</td>\n",
       "      <td>0.0</td>\n",
       "      <td>14160.099610</td>\n",
       "      <td>0.000000</td>\n",
       "      <td>0.0</td>\n",
       "      <td>18090.373163</td>\n",
       "      <td>8473.133075</td>\n",
       "      <td>3514.554495</td>\n",
       "      <td>18090.373163</td>\n",
       "    </tr>\n",
       "    <tr>\n",
       "      <th>1</th>\n",
       "      <td>1</td>\n",
       "      <td>0.0</td>\n",
       "      <td>0.0</td>\n",
       "      <td>14160.099220</td>\n",
       "      <td>0.000390</td>\n",
       "      <td>0.0</td>\n",
       "      <td>18090.373163</td>\n",
       "      <td>8473.133075</td>\n",
       "      <td>3514.554495</td>\n",
       "      <td>18090.373163</td>\n",
       "    </tr>\n",
       "    <tr>\n",
       "      <th>2</th>\n",
       "      <td>2</td>\n",
       "      <td>0.0</td>\n",
       "      <td>0.0</td>\n",
       "      <td>14160.098830</td>\n",
       "      <td>0.000780</td>\n",
       "      <td>0.0</td>\n",
       "      <td>18090.373163</td>\n",
       "      <td>8473.133075</td>\n",
       "      <td>3514.554495</td>\n",
       "      <td>18090.373163</td>\n",
       "    </tr>\n",
       "    <tr>\n",
       "      <th>3</th>\n",
       "      <td>3</td>\n",
       "      <td>0.0</td>\n",
       "      <td>0.0</td>\n",
       "      <td>14160.098440</td>\n",
       "      <td>0.001170</td>\n",
       "      <td>0.0</td>\n",
       "      <td>18090.373163</td>\n",
       "      <td>8473.133075</td>\n",
       "      <td>3514.554495</td>\n",
       "      <td>18090.373163</td>\n",
       "    </tr>\n",
       "    <tr>\n",
       "      <th>4</th>\n",
       "      <td>4</td>\n",
       "      <td>0.0</td>\n",
       "      <td>0.0</td>\n",
       "      <td>14160.098050</td>\n",
       "      <td>0.001560</td>\n",
       "      <td>0.0</td>\n",
       "      <td>18090.373163</td>\n",
       "      <td>8473.133075</td>\n",
       "      <td>3514.554495</td>\n",
       "      <td>18090.373163</td>\n",
       "    </tr>\n",
       "    <tr>\n",
       "      <th>...</th>\n",
       "      <td>...</td>\n",
       "      <td>...</td>\n",
       "      <td>...</td>\n",
       "      <td>...</td>\n",
       "      <td>...</td>\n",
       "      <td>...</td>\n",
       "      <td>...</td>\n",
       "      <td>...</td>\n",
       "      <td>...</td>\n",
       "      <td>...</td>\n",
       "    </tr>\n",
       "    <tr>\n",
       "      <th>2194170</th>\n",
       "      <td>2194170</td>\n",
       "      <td>2.0</td>\n",
       "      <td>2.0</td>\n",
       "      <td>0.001562</td>\n",
       "      <td>22520.098047</td>\n",
       "      <td>2.0</td>\n",
       "      <td>16030.632226</td>\n",
       "      <td>7802.416095</td>\n",
       "      <td>513.824268</td>\n",
       "      <td>513.824268</td>\n",
       "    </tr>\n",
       "    <tr>\n",
       "      <th>2194171</th>\n",
       "      <td>2194171</td>\n",
       "      <td>2.0</td>\n",
       "      <td>2.0</td>\n",
       "      <td>0.001171</td>\n",
       "      <td>22520.098438</td>\n",
       "      <td>2.0</td>\n",
       "      <td>16030.632226</td>\n",
       "      <td>7802.416095</td>\n",
       "      <td>513.824268</td>\n",
       "      <td>513.824268</td>\n",
       "    </tr>\n",
       "    <tr>\n",
       "      <th>2194172</th>\n",
       "      <td>2194172</td>\n",
       "      <td>2.0</td>\n",
       "      <td>2.0</td>\n",
       "      <td>0.000781</td>\n",
       "      <td>22520.098828</td>\n",
       "      <td>2.0</td>\n",
       "      <td>16030.632226</td>\n",
       "      <td>7802.416095</td>\n",
       "      <td>513.824268</td>\n",
       "      <td>513.824268</td>\n",
       "    </tr>\n",
       "    <tr>\n",
       "      <th>2194173</th>\n",
       "      <td>2194173</td>\n",
       "      <td>2.0</td>\n",
       "      <td>2.0</td>\n",
       "      <td>0.000390</td>\n",
       "      <td>22520.099219</td>\n",
       "      <td>2.0</td>\n",
       "      <td>16030.632226</td>\n",
       "      <td>7802.416095</td>\n",
       "      <td>513.824268</td>\n",
       "      <td>513.824268</td>\n",
       "    </tr>\n",
       "    <tr>\n",
       "      <th>2194174</th>\n",
       "      <td>2194174</td>\n",
       "      <td>2.0</td>\n",
       "      <td>2.0</td>\n",
       "      <td>0.000000</td>\n",
       "      <td>22520.099609</td>\n",
       "      <td>2.0</td>\n",
       "      <td>16030.632226</td>\n",
       "      <td>7802.416095</td>\n",
       "      <td>513.824268</td>\n",
       "      <td>513.824268</td>\n",
       "    </tr>\n",
       "  </tbody>\n",
       "</table>\n",
       "<p>2194175 rows × 10 columns</p>\n",
       "</div>"
      ],
      "text/plain": [
       "           index  real group  pre_group(no time)      real_rul          time  \\\n",
       "0              0         0.0                 0.0  14160.099610      0.000000   \n",
       "1              1         0.0                 0.0  14160.099220      0.000390   \n",
       "2              2         0.0                 0.0  14160.098830      0.000780   \n",
       "3              3         0.0                 0.0  14160.098440      0.001170   \n",
       "4              4         0.0                 0.0  14160.098050      0.001560   \n",
       "...          ...         ...                 ...           ...           ...   \n",
       "2194170  2194170         2.0                 2.0      0.001562  22520.098047   \n",
       "2194171  2194171         2.0                 2.0      0.001171  22520.098438   \n",
       "2194172  2194172         2.0                 2.0      0.000781  22520.098828   \n",
       "2194173  2194173         2.0                 2.0      0.000390  22520.099219   \n",
       "2194174  2194174         2.0                 2.0      0.000000  22520.099609   \n",
       "\n",
       "         pre_group(time)  class 0 predict  class 1 predict  class 2 predict  \\\n",
       "0                    0.0     18090.373163      8473.133075      3514.554495   \n",
       "1                    0.0     18090.373163      8473.133075      3514.554495   \n",
       "2                    0.0     18090.373163      8473.133075      3514.554495   \n",
       "3                    0.0     18090.373163      8473.133075      3514.554495   \n",
       "4                    0.0     18090.373163      8473.133075      3514.554495   \n",
       "...                  ...              ...              ...              ...   \n",
       "2194170              2.0     16030.632226      7802.416095       513.824268   \n",
       "2194171              2.0     16030.632226      7802.416095       513.824268   \n",
       "2194172              2.0     16030.632226      7802.416095       513.824268   \n",
       "2194173              2.0     16030.632226      7802.416095       513.824268   \n",
       "2194174              2.0     16030.632226      7802.416095       513.824268   \n",
       "\n",
       "         final predict  \n",
       "0         18090.373163  \n",
       "1         18090.373163  \n",
       "2         18090.373163  \n",
       "3         18090.373163  \n",
       "4         18090.373163  \n",
       "...                ...  \n",
       "2194170     513.824268  \n",
       "2194171     513.824268  \n",
       "2194172     513.824268  \n",
       "2194173     513.824268  \n",
       "2194174     513.824268  \n",
       "\n",
       "[2194175 rows x 10 columns]"
      ]
     },
     "execution_count": 569,
     "metadata": {},
     "output_type": "execute_result"
    }
   ],
   "source": [
    "ans_train"
   ]
  },
  {
   "cell_type": "code",
   "execution_count": 578,
   "metadata": {},
   "outputs": [],
   "source": [
    "ans_train.loc[ans_train[\"pre_group(time)\"]==0,\"final predict(time)\"] = ans_train.loc[ans_train[\"pre_group(time)\"]==0,\"class 0 predict\"]\n",
    "ans_train.loc[ans_train[\"pre_group(time)\"]==1,\"final predict(time)\"] = ans_train.loc[ans_train[\"pre_group(time)\"]==1,\"class 1 predict\"]\n",
    "ans_train.loc[ans_train[\"pre_group(time)\"]==2,\"final predict(time)\"] = ans_train.loc[ans_train[\"pre_group(time)\"]==2,\"class 2 predict\"]"
   ]
  },
  {
   "cell_type": "code",
   "execution_count": 579,
   "metadata": {},
   "outputs": [],
   "source": [
    "ans_test.loc[ans_test[\"pre_group(time)\"]==0,\"final predict(time)\"] = ans_test.loc[ans_test[\"pre_group(time)\"]==0,\"class 0 predict\"]\n",
    "ans_test.loc[ans_test[\"pre_group(time)\"]==1,\"final predict(time)\"] = ans_test.loc[ans_test[\"pre_group(time)\"]==1,\"class 1 predict\"]\n",
    "ans_test.loc[ans_test[\"pre_group(time)\"]==2,\"final predict(time)\"] = ans_test.loc[ans_test[\"pre_group(time)\"]==2,\"class 2 predict\"]"
   ]
  },
  {
   "cell_type": "code",
   "execution_count": 570,
   "metadata": {},
   "outputs": [
    {
     "name": "stdout",
     "output_type": "stream",
     "text": [
      "MSE training: 30579216.755, MSE testing: 62960946.902\n",
      "RMSE training: 5529.848, RMSE testing: 7934.793\n",
      "MAE training: 3510.011, MAE testing: 6365.431\n"
     ]
    }
   ],
   "source": [
    "train_mse = mean_squared_error(ans_train[\"real_rul\"], ans_train[\"final predict\"])\n",
    "test_mse = mean_squared_error(ans_test[\"real_rul\"], ans_test[\"final predict\"])\n",
    "print('MSE training: %.3f, MSE testing: %.3f' % (\n",
    "      (train_mse), (test_mse)))\n",
    "print('RMSE training: %.3f, RMSE testing: %.3f' % (\n",
    "      (train_mse**0.5), (test_mse**0.5)))\n",
    "train_mape = mean_absolute_error(ans_train[\"real_rul\"], ans_train[\"final predict\"])\n",
    "test_mape = mean_absolute_error(ans_test[\"real_rul\"], ans_test[\"final predict\"])\n",
    "print('MAE training: %.3f, MAE testing: %.3f' % (\n",
    "      (train_mape), (test_mape)))"
   ]
  },
  {
   "cell_type": "code",
   "execution_count": 582,
   "metadata": {},
   "outputs": [
    {
     "name": "stdout",
     "output_type": "stream",
     "text": [
      "MSE training: 2180169.356, MSE testing: 70335408.284\n",
      "RMSE training: 1476.540, RMSE testing: 8386.621\n",
      "MAE training: 979.377, MAE testing: 7399.461\n"
     ]
    }
   ],
   "source": [
    "train_mse = mean_squared_error(ans_train[\"real_rul\"], ans_train[\"final predict(time)\"])\n",
    "test_mse = mean_squared_error(ans_test[\"real_rul\"], ans_test[\"final predict(time)\"])\n",
    "print('MSE training: %.3f, MSE testing: %.3f' % (\n",
    "      (train_mse), (test_mse)))\n",
    "print('RMSE training: %.3f, RMSE testing: %.3f' % (\n",
    "      (train_mse**0.5), (test_mse**0.5)))\n",
    "train_mape = mean_absolute_error(ans_train[\"real_rul\"], ans_train[\"final predict(time)\"])\n",
    "test_mape = mean_absolute_error(ans_test[\"real_rul\"], ans_test[\"final predict(time)\"])\n",
    "print('MAE training: %.3f, MAE testing: %.3f' % (\n",
    "      (train_mape), (test_mape)))"
   ]
  },
  {
   "cell_type": "code",
   "execution_count": 571,
   "metadata": {},
   "outputs": [
    {
     "data": {
      "text/plain": [
       "Index(['rms_vert', 'rms_horiz', 'av_sum', 'Rtd sensor', 'sd_vert', 'sd_temp',\n",
       "       'sd_horiz', 'rms_sum', 'peak_temp', 'f96_vert', 'f96_sum', 'f40_vert',\n",
       "       'f32_vert', 'f16_vert', 'f16_sum', 'av_temp', 'skew_temp', 'shape_sum',\n",
       "       'sd_sum', 'rms_temp', 'peak_vert', 'peak_sum', 'kurt_temp', 'kurt_sum',\n",
       "       'f8_vert', 'f88_sum', 'f80_vert', 'f80_sum', 'f8', 'f72_vert',\n",
       "       'f72_sum', 'f56_vert', 'f56_sum', 'f40_sum', 'f32_sum', 'f24_vert',\n",
       "       'f24', 'f192_vert', 'f192_sum', 'f184_vert', 'f184_sum', 'f168_vert',\n",
       "       'f160_vert', 'f160_sum', 'f16', 'f144_vert', 'f120_vert', 'f120_sum',\n",
       "       'f112_vert', 'f104_vert', 'f104_sum', 'clear_temp'],\n",
       "      dtype='object')"
      ]
     },
     "execution_count": 571,
     "metadata": {},
     "output_type": "execute_result"
    }
   ],
   "source": [
    "X_train = one_train.drop([\"index\",\"Unnamed: 0_x\",\"Unnamed: 0_y\",\"RUL_x\",\"RUL_y\",\"round_RUL\",\"id\",\"id_x\",\"id.1\",\"id.2\",\"time_group\"], axis=1)\n",
    "X_test = one_test.drop([\"index\",\"Unnamed: 0_x\",\"Unnamed: 0_y\",\"RUL_x\",\"RUL_y\",\"round_RUL\",\"id\",\"id_x\",\"id.1\",\"id.2\",\"time_group\"], axis=1)\n",
    "y_train = one_train[\"RUL_x\"]\n",
    "y_test = one_test[\"RUL_x\"]\n",
    "\n",
    "X_train = X_train[list(imp_df[imp_df[\"Total\"]>=2][\"Feature\"].values)]\n",
    "X_test = X_test[list(imp_df[imp_df[\"Total\"]>=2][\"Feature\"].values)]\n",
    "\n",
    "X_train.columns"
   ]
  },
  {
   "cell_type": "code",
   "execution_count": 572,
   "metadata": {},
   "outputs": [
    {
     "name": "stdout",
     "output_type": "stream",
     "text": [
      "MSE training: 12953840.104, MSE testing: 70250852.179\n",
      "RMSE training: 3599.144, RMSE testing: 8381.578\n",
      "MAE training: 2740.729, MAE testing: 6596.583\n"
     ]
    }
   ],
   "source": [
    "lgb = LGBMRegressor(n_estimators=20,n_jobs=- 1,reg_lambda=0.5)\n",
    "lgb.fit(X_train, y_train)\n",
    "\n",
    "y_test_predict = lgb.predict(X_test)\n",
    "y_train_predict = lgb.predict(X_train)\n",
    "\n",
    "train_mse = mean_squared_error(y_train, y_train_predict)\n",
    "test_mse = mean_squared_error(y_test, y_test_predict)\n",
    "print('MSE training: %.3f, MSE testing: %.3f' % (\n",
    "      (train_mse), (test_mse)))\n",
    "print('RMSE training: %.3f, RMSE testing: %.3f' % (\n",
    "      (train_mse**0.5), (test_mse**0.5)))\n",
    "train_mape = mean_absolute_error(y_train, y_train_predict)\n",
    "test_mape = mean_absolute_error(y_test, y_test_predict)\n",
    "print('MAE training: %.3f, MAE testing: %.3f' % (\n",
    "      (train_mape), (test_mape)))"
   ]
  },
  {
   "cell_type": "code",
   "execution_count": 573,
   "metadata": {},
   "outputs": [
    {
     "data": {
      "image/png": "[encoded data removed]",
      "text/plain": [
       "<Figure size 576x720 with 1 Axes>"
      ]
     },
     "metadata": {
      "needs_background": "light"
     },
     "output_type": "display_data"
    }
   ],
   "source": [
    "plot_features_weights('LGBMRegressor',rf.feature_importances_, X_train.columns)"
   ]
  },
  {
   "cell_type": "code",
   "execution_count": null,
   "metadata": {},
   "outputs": [],
   "source": []
  },
  {
   "cell_type": "code",
   "execution_count": null,
   "metadata": {},
   "outputs": [],
   "source": []
  },
  {
   "cell_type": "code",
   "execution_count": null,
   "metadata": {},
   "outputs": [],
   "source": []
  },
  {
   "cell_type": "code",
   "execution_count": null,
   "metadata": {},
   "outputs": [],
   "source": []
  },
  {
   "cell_type": "code",
   "execution_count": null,
   "metadata": {},
   "outputs": [],
   "source": []
  },
  {
   "cell_type": "code",
   "execution_count": null,
   "metadata": {},
   "outputs": [],
   "source": []
  },
  {
   "cell_type": "code",
   "execution_count": null,
   "metadata": {},
   "outputs": [],
   "source": []
  },
  {
   "cell_type": "code",
   "execution_count": 61,
   "metadata": {},
   "outputs": [
    {
     "data": {
      "text/html": [
       "<div>\n",
       "<style scoped>\n",
       "    .dataframe tbody tr th:only-of-type {\n",
       "        vertical-align: middle;\n",
       "    }\n",
       "\n",
       "    .dataframe tbody tr th {\n",
       "        vertical-align: top;\n",
       "    }\n",
       "\n",
       "    .dataframe thead th {\n",
       "        text-align: right;\n",
       "    }\n",
       "</style>\n",
       "<table border=\"1\" class=\"dataframe\">\n",
       "  <thead>\n",
       "    <tr style=\"text-align: right;\">\n",
       "      <th></th>\n",
       "      <th>RUL</th>\n",
       "      <th>rf_predict</th>\n",
       "    </tr>\n",
       "  </thead>\n",
       "  <tbody>\n",
       "    <tr>\n",
       "      <th>0</th>\n",
       "      <td>28020.099605</td>\n",
       "      <td>15356.027831</td>\n",
       "    </tr>\n",
       "    <tr>\n",
       "      <th>1</th>\n",
       "      <td>28020.099214</td>\n",
       "      <td>15176.099507</td>\n",
       "    </tr>\n",
       "    <tr>\n",
       "      <th>2</th>\n",
       "      <td>28020.098824</td>\n",
       "      <td>16848.654019</td>\n",
       "    </tr>\n",
       "    <tr>\n",
       "      <th>3</th>\n",
       "      <td>28020.098433</td>\n",
       "      <td>16848.654019</td>\n",
       "    </tr>\n",
       "    <tr>\n",
       "      <th>4</th>\n",
       "      <td>28020.098042</td>\n",
       "      <td>15657.801022</td>\n",
       "    </tr>\n",
       "    <tr>\n",
       "      <th>...</th>\n",
       "      <td>...</td>\n",
       "      <td>...</td>\n",
       "    </tr>\n",
       "    <tr>\n",
       "      <th>543227</th>\n",
       "      <td>28072.201560</td>\n",
       "      <td>7309.972206</td>\n",
       "    </tr>\n",
       "    <tr>\n",
       "      <th>543228</th>\n",
       "      <td>28072.201170</td>\n",
       "      <td>7266.249676</td>\n",
       "    </tr>\n",
       "    <tr>\n",
       "      <th>543229</th>\n",
       "      <td>28072.200780</td>\n",
       "      <td>6636.463772</td>\n",
       "    </tr>\n",
       "    <tr>\n",
       "      <th>543230</th>\n",
       "      <td>28072.200390</td>\n",
       "      <td>6423.953280</td>\n",
       "    </tr>\n",
       "    <tr>\n",
       "      <th>543231</th>\n",
       "      <td>28072.200000</td>\n",
       "      <td>6423.953280</td>\n",
       "    </tr>\n",
       "  </tbody>\n",
       "</table>\n",
       "<p>462078 rows × 2 columns</p>\n",
       "</div>"
      ],
      "text/plain": [
       "                 RUL    rf_predict\n",
       "0       28020.099605  15356.027831\n",
       "1       28020.099214  15176.099507\n",
       "2       28020.098824  16848.654019\n",
       "3       28020.098433  16848.654019\n",
       "4       28020.098042  15657.801022\n",
       "...              ...           ...\n",
       "543227  28072.201560   7309.972206\n",
       "543228  28072.201170   7266.249676\n",
       "543229  28072.200780   6636.463772\n",
       "543230  28072.200390   6423.953280\n",
       "543231  28072.200000   6423.953280\n",
       "\n",
       "[462078 rows x 2 columns]"
      ]
     },
     "execution_count": 61,
     "metadata": {},
     "output_type": "execute_result"
    }
   ],
   "source": [
    "ans_df[ans_df[\"RUL\"]>10000]"
   ]
  },
  {
   "cell_type": "code",
   "execution_count": 60,
   "metadata": {},
   "outputs": [
    {
     "data": {
      "text/plain": [
       "<matplotlib.collections.PathCollection at 0x28d87eb20b8>"
      ]
     },
     "execution_count": 60,
     "metadata": {},
     "output_type": "execute_result"
    },
    {
     "data": {
      "image/png": "[encoded data removed]",
      "text/plain": [
       "<Figure size 432x288 with 1 Axes>"
      ]
     },
     "metadata": {
      "needs_background": "light"
     },
     "output_type": "display_data"
    }
   ],
   "source": [
    "plt.scatter(ans_df.index,ans_df[\"RUL\"])"
   ]
  },
  {
   "cell_type": "code",
   "execution_count": 58,
   "metadata": {},
   "outputs": [
    {
     "data": {
      "image/png": "[encoded data removed]",
      "text/plain": [
       "<Figure size 576x720 with 1 Axes>"
      ]
     },
     "metadata": {
      "needs_background": "light"
     },
     "output_type": "display_data"
    }
   ],
   "source": [
    "plot_features_weights('Random Forest Regressor', rf.feature_importances_, X_train.columns)"
   ]
  },
  {
   "cell_type": "code",
   "execution_count": 46,
   "metadata": {},
   "outputs": [
    {
     "data": {
      "image/png": "[encoded data removed]",
      "text/plain": [
       "<Figure size 1440x720 with 1 Axes>"
      ]
     },
     "metadata": {
      "needs_background": "light"
     },
     "output_type": "display_data"
    }
   ],
   "source": [
    "plot_residual('Random Forest Regressor',y_train, y_train_predict, y_test, y_test_predict)"
   ]
  },
  {
   "cell_type": "code",
   "execution_count": 150,
   "metadata": {},
   "outputs": [
    {
     "data": {
      "text/plain": [
       "0         28020.099605\n",
       "1         28020.099214\n",
       "2         28020.098824\n",
       "3         28020.098433\n",
       "4         28020.098042\n",
       "              ...     \n",
       "940538        0.001560\n",
       "940539        0.001170\n",
       "940540        0.000780\n",
       "940541        0.000390\n",
       "940542        0.000000\n",
       "Name: RUL, Length: 940543, dtype: float64"
      ]
     },
     "execution_count": 150,
     "metadata": {},
     "output_type": "execute_result"
    }
   ],
   "source": [
    "y_train"
   ]
  },
  {
   "cell_type": "code",
   "execution_count": 149,
   "metadata": {},
   "outputs": [
    {
     "data": {
      "text/plain": [
       "array([15090.69924777, 14191.4132257 , 16939.07715585, ...,\n",
       "         183.10801738,   183.10801738,   183.10801738])"
      ]
     },
     "execution_count": 149,
     "metadata": {},
     "output_type": "execute_result"
    }
   ],
   "source": [
    "y_train_predict "
   ]
  },
  {
   "cell_type": "code",
   "execution_count": null,
   "metadata": {},
   "outputs": [],
   "source": [
    "mean_absolute_percentage_error"
   ]
  },
  {
   "cell_type": "code",
   "execution_count": 36,
   "metadata": {},
   "outputs": [
    {
     "data": {
      "text/plain": [
       "False"
      ]
     },
     "execution_count": 36,
     "metadata": {},
     "output_type": "execute_result"
    }
   ],
   "source": [
    "X_train.isnull().values.any()"
   ]
  },
  {
   "cell_type": "code",
   "execution_count": 75,
   "metadata": {},
   "outputs": [
    {
     "data": {
      "text/plain": [
       "<matplotlib.axes._subplots.AxesSubplot at 0x259a354bcf8>"
      ]
     },
     "execution_count": 75,
     "metadata": {},
     "output_type": "execute_result"
    },
    {
     "data": {
      "image/png": "[encoded data removed]",
      "text/plain": [
       "<Figure size 792x648 with 2 Axes>"
      ]
     },
     "metadata": {
      "needs_background": "light"
     },
     "output_type": "display_data"
    }
   ],
   "source": [
    "# 計算相關係數\n",
    "corr = one_train.corr()\n",
    "mask = np.triu(np.ones_like(corr, dtype=np.bool))\n",
    "f, ax = plt.subplots(figsize=(11, 9))\n",
    "cmap = sns.diverging_palette(220, 10, as_cmap=True)\n",
    "sns.heatmap(corr, mask=mask, cmap=cmap, vmax=.3, center=0,\n",
    "            square=True, linewidths=.5, cbar_kws={\"shrink\": .5})"
   ]
  },
  {
   "cell_type": "code",
   "execution_count": 90,
   "metadata": {},
   "outputs": [
    {
     "data": {
      "text/plain": [
       "<matplotlib.axes._subplots.AxesSubplot at 0x259a2f02eb8>"
      ]
     },
     "execution_count": 90,
     "metadata": {},
     "output_type": "execute_result"
    },
    {
     "data": {
      "image/png": "[encoded data removed]",
      "text/plain": [
       "<Figure size 720x2880 with 2 Axes>"
      ]
     },
     "metadata": {
      "needs_background": "light"
     },
     "output_type": "display_data"
    }
   ],
   "source": [
    "plt.figure(figsize=(10,40))\n",
    "cmap = sns.diverging_palette(220, 10, as_cmap=True)\n",
    "sns.heatmap(pd.DataFrame(corr[\"RUL\"].sort_values(ascending=False)), cmap=cmap, vmax=.3, center=0,\n",
    "            square=True, linewidths=.5, cbar_kws={\"shrink\": .5})"
   ]
  },
  {
   "cell_type": "code",
   "execution_count": 93,
   "metadata": {},
   "outputs": [
    {
     "data": {
      "text/plain": [
       "<matplotlib.collections.PathCollection at 0x259a3062b00>"
      ]
     },
     "execution_count": 93,
     "metadata": {},
     "output_type": "execute_result"
    },
    {
     "data": {
      "image/png": "[encoded data removed]",
      "text/plain": [
       "<Figure size 432x288 with 1 Axes>"
      ]
     },
     "metadata": {
      "needs_background": "light"
     },
     "output_type": "display_data"
    }
   ],
   "source": [
    "plt.scatter(one_train[\"RUL\"],one_train[\"p2ph_vert\"])"
   ]
  },
  {
   "cell_type": "code",
   "execution_count": 94,
   "metadata": {},
   "outputs": [
    {
     "data": {
      "text/plain": [
       "<matplotlib.collections.PathCollection at 0x259a6ec5400>"
      ]
     },
     "execution_count": 94,
     "metadata": {},
     "output_type": "execute_result"
    },
    {
     "data": {
      "image/png": "[encoded data removed]",
      "text/plain": [
       "<Figure size 432x288 with 1 Axes>"
      ]
     },
     "metadata": {
      "needs_background": "light"
     },
     "output_type": "display_data"
    }
   ],
   "source": [
    "plt.scatter(one_train[\"RUL\"],one_train[\"av_sum\"])"
   ]
  }
 ],
 "metadata": {
  "kernelspec": {
   "display_name": "Python 3",
   "language": "python",
   "name": "python3"
  },
  "language_info": {
   "codemirror_mode": {
    "name": "ipython",
    "version": 3
   },
   "file_extension": ".py",
   "mimetype": "text/x-python",
   "name": "python",
   "nbconvert_exporter": "python",
   "pygments_lexer": "ipython3",
   "version": "3.6.10"
  }
 },
 "nbformat": 4,
 "nbformat_minor": 4
}
