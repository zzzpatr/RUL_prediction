{
 "cells": [
  {
   "cell_type": "code",
   "execution_count": 1,
   "metadata": {},
   "outputs": [],
   "source": [
    "import numpy as np"
   ]
  },
  {
   "cell_type": "code",
   "execution_count": 2,
   "metadata": {},
   "outputs": [],
   "source": [
    "import matplotlib.pyplot as plt"
   ]
  },
  {
   "cell_type": "code",
   "execution_count": 3,
   "metadata": {},
   "outputs": [],
   "source": [
    "%matplotlib inline\n",
    "import matplotlib.pyplot as plt\n",
    "import numpy as np\n",
    "import pandas as pd\n",
    "import seaborn as sns\n",
    "from sklearn.ensemble import RandomForestRegressor\n",
    "from sklearn.ensemble import  RandomForestClassifier\n",
    "from sklearn import metrics"
   ]
  },
  {
   "cell_type": "code",
   "execution_count": 4,
   "metadata": {},
   "outputs": [],
   "source": [
    "import numpy as np"
   ]
  },
  {
   "cell_type": "code",
   "execution_count": 5,
   "metadata": {},
   "outputs": [],
   "source": [
    "import pandas as pd\n",
    "import os\n",
    "import glob"
   ]
  },
  {
   "cell_type": "code",
   "execution_count": 135,
   "metadata": {},
   "outputs": [],
   "source": [
    "one_train = pd.read_csv(\"three_train_combine.csv\")\n",
    "one_test = pd.read_csv(\"three_test_combine.csv\")"
   ]
  },
  {
   "cell_type": "code",
   "execution_count": 136,
   "metadata": {},
   "outputs": [
    {
     "data": {
      "text/html": [
       "<div>\n",
       "<style scoped>\n",
       "    .dataframe tbody tr th:only-of-type {\n",
       "        vertical-align: middle;\n",
       "    }\n",
       "\n",
       "    .dataframe tbody tr th {\n",
       "        vertical-align: top;\n",
       "    }\n",
       "\n",
       "    .dataframe thead th {\n",
       "        text-align: right;\n",
       "    }\n",
       "</style>\n",
       "<table border=\"1\" class=\"dataframe\">\n",
       "  <thead>\n",
       "    <tr style=\"text-align: right;\">\n",
       "      <th></th>\n",
       "      <th>Unnamed: 0_x</th>\n",
       "      <th>Horiz_acc</th>\n",
       "      <th>id_x</th>\n",
       "      <th>av_horiz</th>\n",
       "      <th>sd_horiz</th>\n",
       "      <th>peak_horiz</th>\n",
       "      <th>rms_horiz</th>\n",
       "      <th>skew_horiz</th>\n",
       "      <th>kurt_horiz</th>\n",
       "      <th>crest_horiz</th>\n",
       "      <th>...</th>\n",
       "      <th>peak_temp</th>\n",
       "      <th>rms_temp</th>\n",
       "      <th>skew_temp</th>\n",
       "      <th>kurt_temp</th>\n",
       "      <th>crest_temp</th>\n",
       "      <th>clear_temp</th>\n",
       "      <th>shape_temp</th>\n",
       "      <th>imp_temp</th>\n",
       "      <th>RUL_y</th>\n",
       "      <th>id</th>\n",
       "    </tr>\n",
       "  </thead>\n",
       "  <tbody>\n",
       "    <tr>\n",
       "      <th>0</th>\n",
       "      <td>15369.0</td>\n",
       "      <td>-0.606</td>\n",
       "      <td>1.0</td>\n",
       "      <td>-0.035885</td>\n",
       "      <td>0.305700</td>\n",
       "      <td>0.595</td>\n",
       "      <td>0.301904</td>\n",
       "      <td>-0.020307</td>\n",
       "      <td>-0.203469</td>\n",
       "      <td>1.970825</td>\n",
       "      <td>...</td>\n",
       "      <td>63.744</td>\n",
       "      <td>63.640287</td>\n",
       "      <td>-0.025377</td>\n",
       "      <td>-1.241693</td>\n",
       "      <td>1.001630</td>\n",
       "      <td>1.001631</td>\n",
       "      <td>1.000001</td>\n",
       "      <td>1.001630</td>\n",
       "      <td>4270.1</td>\n",
       "      <td>1.0</td>\n",
       "    </tr>\n",
       "    <tr>\n",
       "      <th>1</th>\n",
       "      <td>15379.0</td>\n",
       "      <td>0.283</td>\n",
       "      <td>1.0</td>\n",
       "      <td>-0.022923</td>\n",
       "      <td>0.311981</td>\n",
       "      <td>0.595</td>\n",
       "      <td>0.306780</td>\n",
       "      <td>-0.107927</td>\n",
       "      <td>-0.370114</td>\n",
       "      <td>1.939498</td>\n",
       "      <td>...</td>\n",
       "      <td>63.744</td>\n",
       "      <td>63.640287</td>\n",
       "      <td>-0.025377</td>\n",
       "      <td>-1.241693</td>\n",
       "      <td>1.001630</td>\n",
       "      <td>1.001631</td>\n",
       "      <td>1.000001</td>\n",
       "      <td>1.001630</td>\n",
       "      <td>4270.1</td>\n",
       "      <td>1.0</td>\n",
       "    </tr>\n",
       "    <tr>\n",
       "      <th>2</th>\n",
       "      <td>15389.0</td>\n",
       "      <td>-0.085</td>\n",
       "      <td>1.0</td>\n",
       "      <td>-0.040731</td>\n",
       "      <td>0.301209</td>\n",
       "      <td>0.595</td>\n",
       "      <td>0.298155</td>\n",
       "      <td>-0.030118</td>\n",
       "      <td>-0.132409</td>\n",
       "      <td>1.995604</td>\n",
       "      <td>...</td>\n",
       "      <td>63.744</td>\n",
       "      <td>63.640287</td>\n",
       "      <td>-0.025377</td>\n",
       "      <td>-1.241693</td>\n",
       "      <td>1.001630</td>\n",
       "      <td>1.001631</td>\n",
       "      <td>1.000001</td>\n",
       "      <td>1.001630</td>\n",
       "      <td>4270.1</td>\n",
       "      <td>1.0</td>\n",
       "    </tr>\n",
       "    <tr>\n",
       "      <th>3</th>\n",
       "      <td>15399.0</td>\n",
       "      <td>-0.216</td>\n",
       "      <td>1.0</td>\n",
       "      <td>-0.055154</td>\n",
       "      <td>0.300240</td>\n",
       "      <td>0.595</td>\n",
       "      <td>0.299531</td>\n",
       "      <td>0.104462</td>\n",
       "      <td>-0.093631</td>\n",
       "      <td>1.986440</td>\n",
       "      <td>...</td>\n",
       "      <td>63.744</td>\n",
       "      <td>63.640287</td>\n",
       "      <td>-0.025377</td>\n",
       "      <td>-1.241693</td>\n",
       "      <td>1.001630</td>\n",
       "      <td>1.001631</td>\n",
       "      <td>1.000001</td>\n",
       "      <td>1.001630</td>\n",
       "      <td>4270.1</td>\n",
       "      <td>1.0</td>\n",
       "    </tr>\n",
       "    <tr>\n",
       "      <th>4</th>\n",
       "      <td>15409.0</td>\n",
       "      <td>0.588</td>\n",
       "      <td>1.0</td>\n",
       "      <td>-0.026231</td>\n",
       "      <td>0.324570</td>\n",
       "      <td>0.595</td>\n",
       "      <td>0.319346</td>\n",
       "      <td>0.131074</td>\n",
       "      <td>-0.325532</td>\n",
       "      <td>1.863181</td>\n",
       "      <td>...</td>\n",
       "      <td>63.744</td>\n",
       "      <td>63.640287</td>\n",
       "      <td>-0.025377</td>\n",
       "      <td>-1.241693</td>\n",
       "      <td>1.001630</td>\n",
       "      <td>1.001631</td>\n",
       "      <td>1.000001</td>\n",
       "      <td>1.001630</td>\n",
       "      <td>4270.1</td>\n",
       "      <td>1.0</td>\n",
       "    </tr>\n",
       "    <tr>\n",
       "      <th>...</th>\n",
       "      <td>...</td>\n",
       "      <td>...</td>\n",
       "      <td>...</td>\n",
       "      <td>...</td>\n",
       "      <td>...</td>\n",
       "      <td>...</td>\n",
       "      <td>...</td>\n",
       "      <td>...</td>\n",
       "      <td>...</td>\n",
       "      <td>...</td>\n",
       "      <td>...</td>\n",
       "      <td>...</td>\n",
       "      <td>...</td>\n",
       "      <td>...</td>\n",
       "      <td>...</td>\n",
       "      <td>...</td>\n",
       "      <td>...</td>\n",
       "      <td>...</td>\n",
       "      <td>...</td>\n",
       "      <td>...</td>\n",
       "      <td>...</td>\n",
       "    </tr>\n",
       "    <tr>\n",
       "      <th>109563</th>\n",
       "      <td>1110999.0</td>\n",
       "      <td>1.143</td>\n",
       "      <td>1.0</td>\n",
       "      <td>0.087846</td>\n",
       "      <td>1.105386</td>\n",
       "      <td>2.234</td>\n",
       "      <td>1.087474</td>\n",
       "      <td>-0.029527</td>\n",
       "      <td>-0.402650</td>\n",
       "      <td>2.054302</td>\n",
       "      <td>...</td>\n",
       "      <td>117.851</td>\n",
       "      <td>117.804503</td>\n",
       "      <td>0.058938</td>\n",
       "      <td>-1.378756</td>\n",
       "      <td>1.000395</td>\n",
       "      <td>1.000395</td>\n",
       "      <td>1.000000</td>\n",
       "      <td>1.000395</td>\n",
       "      <td>0.0</td>\n",
       "      <td>1.0</td>\n",
       "    </tr>\n",
       "    <tr>\n",
       "      <th>109564</th>\n",
       "      <td>1111009.0</td>\n",
       "      <td>-0.119</td>\n",
       "      <td>1.0</td>\n",
       "      <td>0.085962</td>\n",
       "      <td>1.105708</td>\n",
       "      <td>2.234</td>\n",
       "      <td>1.087638</td>\n",
       "      <td>-0.024119</td>\n",
       "      <td>-0.405813</td>\n",
       "      <td>2.053993</td>\n",
       "      <td>...</td>\n",
       "      <td>117.851</td>\n",
       "      <td>117.804503</td>\n",
       "      <td>0.058938</td>\n",
       "      <td>-1.378756</td>\n",
       "      <td>1.000395</td>\n",
       "      <td>1.000395</td>\n",
       "      <td>1.000000</td>\n",
       "      <td>1.000395</td>\n",
       "      <td>0.0</td>\n",
       "      <td>1.0</td>\n",
       "    </tr>\n",
       "    <tr>\n",
       "      <th>109565</th>\n",
       "      <td>1111019.0</td>\n",
       "      <td>1.270</td>\n",
       "      <td>1.0</td>\n",
       "      <td>0.207692</td>\n",
       "      <td>1.051802</td>\n",
       "      <td>2.234</td>\n",
       "      <td>1.052081</td>\n",
       "      <td>-0.054590</td>\n",
       "      <td>-0.347843</td>\n",
       "      <td>2.123411</td>\n",
       "      <td>...</td>\n",
       "      <td>117.851</td>\n",
       "      <td>117.804503</td>\n",
       "      <td>0.058938</td>\n",
       "      <td>-1.378756</td>\n",
       "      <td>1.000395</td>\n",
       "      <td>1.000395</td>\n",
       "      <td>1.000000</td>\n",
       "      <td>1.000395</td>\n",
       "      <td>0.0</td>\n",
       "      <td>1.0</td>\n",
       "    </tr>\n",
       "    <tr>\n",
       "      <th>109566</th>\n",
       "      <td>1111029.0</td>\n",
       "      <td>1.201</td>\n",
       "      <td>1.0</td>\n",
       "      <td>0.289192</td>\n",
       "      <td>1.043148</td>\n",
       "      <td>2.234</td>\n",
       "      <td>1.062986</td>\n",
       "      <td>-0.218546</td>\n",
       "      <td>-0.253512</td>\n",
       "      <td>2.101627</td>\n",
       "      <td>...</td>\n",
       "      <td>117.851</td>\n",
       "      <td>117.804503</td>\n",
       "      <td>0.058938</td>\n",
       "      <td>-1.378756</td>\n",
       "      <td>1.000395</td>\n",
       "      <td>1.000395</td>\n",
       "      <td>1.000000</td>\n",
       "      <td>1.000395</td>\n",
       "      <td>0.0</td>\n",
       "      <td>1.0</td>\n",
       "    </tr>\n",
       "    <tr>\n",
       "      <th>109567</th>\n",
       "      <td>1111039.0</td>\n",
       "      <td>0.817</td>\n",
       "      <td>1.0</td>\n",
       "      <td>0.325923</td>\n",
       "      <td>1.044318</td>\n",
       "      <td>2.234</td>\n",
       "      <td>1.074653</td>\n",
       "      <td>-0.323610</td>\n",
       "      <td>-0.228254</td>\n",
       "      <td>2.078811</td>\n",
       "      <td>...</td>\n",
       "      <td>117.851</td>\n",
       "      <td>117.804503</td>\n",
       "      <td>0.058938</td>\n",
       "      <td>-1.378756</td>\n",
       "      <td>1.000395</td>\n",
       "      <td>1.000395</td>\n",
       "      <td>1.000000</td>\n",
       "      <td>1.000395</td>\n",
       "      <td>0.0</td>\n",
       "      <td>1.0</td>\n",
       "    </tr>\n",
       "  </tbody>\n",
       "</table>\n",
       "<p>109568 rows × 156 columns</p>\n",
       "</div>"
      ],
      "text/plain": [
       "        Unnamed: 0_x  Horiz_acc  id_x  av_horiz  sd_horiz  peak_horiz  \\\n",
       "0            15369.0     -0.606   1.0 -0.035885  0.305700       0.595   \n",
       "1            15379.0      0.283   1.0 -0.022923  0.311981       0.595   \n",
       "2            15389.0     -0.085   1.0 -0.040731  0.301209       0.595   \n",
       "3            15399.0     -0.216   1.0 -0.055154  0.300240       0.595   \n",
       "4            15409.0      0.588   1.0 -0.026231  0.324570       0.595   \n",
       "...              ...        ...   ...       ...       ...         ...   \n",
       "109563     1110999.0      1.143   1.0  0.087846  1.105386       2.234   \n",
       "109564     1111009.0     -0.119   1.0  0.085962  1.105708       2.234   \n",
       "109565     1111019.0      1.270   1.0  0.207692  1.051802       2.234   \n",
       "109566     1111029.0      1.201   1.0  0.289192  1.043148       2.234   \n",
       "109567     1111039.0      0.817   1.0  0.325923  1.044318       2.234   \n",
       "\n",
       "        rms_horiz  skew_horiz  kurt_horiz  crest_horiz  ...  peak_temp  \\\n",
       "0        0.301904   -0.020307   -0.203469     1.970825  ...     63.744   \n",
       "1        0.306780   -0.107927   -0.370114     1.939498  ...     63.744   \n",
       "2        0.298155   -0.030118   -0.132409     1.995604  ...     63.744   \n",
       "3        0.299531    0.104462   -0.093631     1.986440  ...     63.744   \n",
       "4        0.319346    0.131074   -0.325532     1.863181  ...     63.744   \n",
       "...           ...         ...         ...          ...  ...        ...   \n",
       "109563   1.087474   -0.029527   -0.402650     2.054302  ...    117.851   \n",
       "109564   1.087638   -0.024119   -0.405813     2.053993  ...    117.851   \n",
       "109565   1.052081   -0.054590   -0.347843     2.123411  ...    117.851   \n",
       "109566   1.062986   -0.218546   -0.253512     2.101627  ...    117.851   \n",
       "109567   1.074653   -0.323610   -0.228254     2.078811  ...    117.851   \n",
       "\n",
       "          rms_temp  skew_temp  kurt_temp  crest_temp  clear_temp  shape_temp  \\\n",
       "0        63.640287  -0.025377  -1.241693    1.001630    1.001631    1.000001   \n",
       "1        63.640287  -0.025377  -1.241693    1.001630    1.001631    1.000001   \n",
       "2        63.640287  -0.025377  -1.241693    1.001630    1.001631    1.000001   \n",
       "3        63.640287  -0.025377  -1.241693    1.001630    1.001631    1.000001   \n",
       "4        63.640287  -0.025377  -1.241693    1.001630    1.001631    1.000001   \n",
       "...            ...        ...        ...         ...         ...         ...   \n",
       "109563  117.804503   0.058938  -1.378756    1.000395    1.000395    1.000000   \n",
       "109564  117.804503   0.058938  -1.378756    1.000395    1.000395    1.000000   \n",
       "109565  117.804503   0.058938  -1.378756    1.000395    1.000395    1.000000   \n",
       "109566  117.804503   0.058938  -1.378756    1.000395    1.000395    1.000000   \n",
       "109567  117.804503   0.058938  -1.378756    1.000395    1.000395    1.000000   \n",
       "\n",
       "        imp_temp   RUL_y   id  \n",
       "0       1.001630  4270.1  1.0  \n",
       "1       1.001630  4270.1  1.0  \n",
       "2       1.001630  4270.1  1.0  \n",
       "3       1.001630  4270.1  1.0  \n",
       "4       1.001630  4270.1  1.0  \n",
       "...          ...     ...  ...  \n",
       "109563  1.000395     0.0  1.0  \n",
       "109564  1.000395     0.0  1.0  \n",
       "109565  1.000395     0.0  1.0  \n",
       "109566  1.000395     0.0  1.0  \n",
       "109567  1.000395     0.0  1.0  \n",
       "\n",
       "[109568 rows x 156 columns]"
      ]
     },
     "execution_count": 136,
     "metadata": {},
     "output_type": "execute_result"
    }
   ],
   "source": [
    "one_train"
   ]
  },
  {
   "cell_type": "code",
   "execution_count": 137,
   "metadata": {},
   "outputs": [],
   "source": [
    "one_train = one_train.reset_index()\n",
    "one_test = one_test.reset_index()"
   ]
  },
  {
   "cell_type": "markdown",
   "metadata": {},
   "source": [
    "### step 1 classification"
   ]
  },
  {
   "cell_type": "code",
   "execution_count": 138,
   "metadata": {},
   "outputs": [],
   "source": [
    "imp_df = pd.read_csv(\"feature_selection_3.csv\")"
   ]
  },
  {
   "cell_type": "code",
   "execution_count": 139,
   "metadata": {},
   "outputs": [],
   "source": [
    "def three_time_group(one_train):\n",
    "    time_group_list = []\n",
    "    for i in range(1,int(one_train[\"id\"].max())+1,1):\n",
    "        one_id = one_train[one_train[\"id\"]==i][[\"id\",\"RUL_x\"]]\n",
    "        one_id = one_id.reset_index()\n",
    "        one_id.loc[one_id[\"RUL_x\"]>one_id.loc[0,\"RUL_x\"]/2,\"time_group\"] = 0\n",
    "        one_id.loc[(one_id[\"RUL_x\"]<one_id.loc[0,\"RUL_x\"]/2) & (one_id[\"RUL_x\"]>one_id.loc[0,\"RUL_x\"]*0.25),\"time_group\"] = 1\n",
    "        one_id.loc[one_id[\"RUL_x\"]<one_id.loc[0,\"RUL_x\"]*0.25,\"time_group\"] = 2\n",
    "        time_group_list = time_group_list + list(one_id[\"time_group\"].values)\n",
    "    one_train[\"time_group\"] = time_group_list\n",
    "    return one_train"
   ]
  },
  {
   "cell_type": "code",
   "execution_count": 140,
   "metadata": {},
   "outputs": [],
   "source": [
    "max_list = []\n",
    "for i in range(1,int(one_train[\"id\"].max())+1,1):\n",
    "    one_id = one_train[one_train[\"id\"]==i][[\"id\",\"RUL_x\"]]\n",
    "    one_id = one_id.reset_index()\n",
    "    max_list.append(one_id.loc[0,\"RUL_x\"])"
   ]
  },
  {
   "cell_type": "code",
   "execution_count": 141,
   "metadata": {},
   "outputs": [
    {
     "data": {
      "text/plain": [
       "4270.09961"
      ]
     },
     "execution_count": 141,
     "metadata": {},
     "output_type": "execute_result"
    }
   ],
   "source": [
    "np.median(max_list)"
   ]
  },
  {
   "cell_type": "code",
   "execution_count": 142,
   "metadata": {},
   "outputs": [
    {
     "data": {
      "text/html": [
       "<div>\n",
       "<style scoped>\n",
       "    .dataframe tbody tr th:only-of-type {\n",
       "        vertical-align: middle;\n",
       "    }\n",
       "\n",
       "    .dataframe tbody tr th {\n",
       "        vertical-align: top;\n",
       "    }\n",
       "\n",
       "    .dataframe thead th {\n",
       "        text-align: right;\n",
       "    }\n",
       "</style>\n",
       "<table border=\"1\" class=\"dataframe\">\n",
       "  <thead>\n",
       "    <tr style=\"text-align: right;\">\n",
       "      <th></th>\n",
       "      <th>index</th>\n",
       "      <th>Unnamed: 0_x</th>\n",
       "      <th>Horiz_acc</th>\n",
       "      <th>id_x</th>\n",
       "      <th>av_horiz</th>\n",
       "      <th>sd_horiz</th>\n",
       "      <th>peak_horiz</th>\n",
       "      <th>rms_horiz</th>\n",
       "      <th>skew_horiz</th>\n",
       "      <th>kurt_horiz</th>\n",
       "      <th>...</th>\n",
       "      <th>peak_temp</th>\n",
       "      <th>rms_temp</th>\n",
       "      <th>skew_temp</th>\n",
       "      <th>kurt_temp</th>\n",
       "      <th>crest_temp</th>\n",
       "      <th>clear_temp</th>\n",
       "      <th>shape_temp</th>\n",
       "      <th>imp_temp</th>\n",
       "      <th>RUL_y</th>\n",
       "      <th>id</th>\n",
       "    </tr>\n",
       "  </thead>\n",
       "  <tbody>\n",
       "    <tr>\n",
       "      <th>0</th>\n",
       "      <td>0</td>\n",
       "      <td>19.0</td>\n",
       "      <td>0.375</td>\n",
       "      <td>1.0</td>\n",
       "      <td>-0.033000</td>\n",
       "      <td>0.576999</td>\n",
       "      <td>0.375</td>\n",
       "      <td>0.409332</td>\n",
       "      <td>0.000000</td>\n",
       "      <td>-2.000000</td>\n",
       "      <td>...</td>\n",
       "      <td>82.979</td>\n",
       "      <td>82.730999</td>\n",
       "      <td>0.019344</td>\n",
       "      <td>-1.213158</td>\n",
       "      <td>1.002998</td>\n",
       "      <td>1.003000</td>\n",
       "      <td>1.000002</td>\n",
       "      <td>1.002999</td>\n",
       "      <td>5140.1</td>\n",
       "      <td>1.0</td>\n",
       "    </tr>\n",
       "    <tr>\n",
       "      <th>1</th>\n",
       "      <td>1</td>\n",
       "      <td>29.0</td>\n",
       "      <td>-0.058</td>\n",
       "      <td>1.0</td>\n",
       "      <td>-0.041333</td>\n",
       "      <td>0.408255</td>\n",
       "      <td>0.375</td>\n",
       "      <td>0.335892</td>\n",
       "      <td>0.183402</td>\n",
       "      <td>-1.500000</td>\n",
       "      <td>...</td>\n",
       "      <td>82.979</td>\n",
       "      <td>82.730999</td>\n",
       "      <td>0.019344</td>\n",
       "      <td>-1.213158</td>\n",
       "      <td>1.002998</td>\n",
       "      <td>1.003000</td>\n",
       "      <td>1.000002</td>\n",
       "      <td>1.002999</td>\n",
       "      <td>5140.1</td>\n",
       "      <td>1.0</td>\n",
       "    </tr>\n",
       "    <tr>\n",
       "      <th>2</th>\n",
       "      <td>2</td>\n",
       "      <td>39.0</td>\n",
       "      <td>0.053</td>\n",
       "      <td>1.0</td>\n",
       "      <td>-0.017750</td>\n",
       "      <td>0.336659</td>\n",
       "      <td>0.375</td>\n",
       "      <td>0.292095</td>\n",
       "      <td>-0.261196</td>\n",
       "      <td>-1.065512</td>\n",
       "      <td>...</td>\n",
       "      <td>82.979</td>\n",
       "      <td>82.730999</td>\n",
       "      <td>0.019344</td>\n",
       "      <td>-1.213158</td>\n",
       "      <td>1.002998</td>\n",
       "      <td>1.003000</td>\n",
       "      <td>1.000002</td>\n",
       "      <td>1.002999</td>\n",
       "      <td>5140.1</td>\n",
       "      <td>1.0</td>\n",
       "    </tr>\n",
       "    <tr>\n",
       "      <th>3</th>\n",
       "      <td>3</td>\n",
       "      <td>49.0</td>\n",
       "      <td>0.721</td>\n",
       "      <td>1.0</td>\n",
       "      <td>0.130000</td>\n",
       "      <td>0.440630</td>\n",
       "      <td>0.721</td>\n",
       "      <td>0.414999</td>\n",
       "      <td>0.135693</td>\n",
       "      <td>-1.066885</td>\n",
       "      <td>...</td>\n",
       "      <td>82.979</td>\n",
       "      <td>82.730999</td>\n",
       "      <td>0.019344</td>\n",
       "      <td>-1.213158</td>\n",
       "      <td>1.002998</td>\n",
       "      <td>1.003000</td>\n",
       "      <td>1.000002</td>\n",
       "      <td>1.002999</td>\n",
       "      <td>5140.1</td>\n",
       "      <td>1.0</td>\n",
       "    </tr>\n",
       "    <tr>\n",
       "      <th>4</th>\n",
       "      <td>4</td>\n",
       "      <td>59.0</td>\n",
       "      <td>-0.376</td>\n",
       "      <td>1.0</td>\n",
       "      <td>0.045667</td>\n",
       "      <td>0.444968</td>\n",
       "      <td>0.721</td>\n",
       "      <td>0.408757</td>\n",
       "      <td>0.518844</td>\n",
       "      <td>-1.116908</td>\n",
       "      <td>...</td>\n",
       "      <td>82.979</td>\n",
       "      <td>82.730999</td>\n",
       "      <td>0.019344</td>\n",
       "      <td>-1.213158</td>\n",
       "      <td>1.002998</td>\n",
       "      <td>1.003000</td>\n",
       "      <td>1.000002</td>\n",
       "      <td>1.002999</td>\n",
       "      <td>5140.1</td>\n",
       "      <td>1.0</td>\n",
       "    </tr>\n",
       "    <tr>\n",
       "      <th>...</th>\n",
       "      <td>...</td>\n",
       "      <td>...</td>\n",
       "      <td>...</td>\n",
       "      <td>...</td>\n",
       "      <td>...</td>\n",
       "      <td>...</td>\n",
       "      <td>...</td>\n",
       "      <td>...</td>\n",
       "      <td>...</td>\n",
       "      <td>...</td>\n",
       "      <td>...</td>\n",
       "      <td>...</td>\n",
       "      <td>...</td>\n",
       "      <td>...</td>\n",
       "      <td>...</td>\n",
       "      <td>...</td>\n",
       "      <td>...</td>\n",
       "      <td>...</td>\n",
       "      <td>...</td>\n",
       "      <td>...</td>\n",
       "      <td>...</td>\n",
       "    </tr>\n",
       "    <tr>\n",
       "      <th>131834</th>\n",
       "      <td>131834</td>\n",
       "      <td>1318359.0</td>\n",
       "      <td>0.749</td>\n",
       "      <td>1.0</td>\n",
       "      <td>0.037846</td>\n",
       "      <td>0.870040</td>\n",
       "      <td>1.986</td>\n",
       "      <td>0.853983</td>\n",
       "      <td>0.378753</td>\n",
       "      <td>-0.313019</td>\n",
       "      <td>...</td>\n",
       "      <td>107.983</td>\n",
       "      <td>107.854453</td>\n",
       "      <td>0.404532</td>\n",
       "      <td>-1.166452</td>\n",
       "      <td>1.001192</td>\n",
       "      <td>1.001192</td>\n",
       "      <td>1.000000</td>\n",
       "      <td>1.001192</td>\n",
       "      <td>0.0</td>\n",
       "      <td>1.0</td>\n",
       "    </tr>\n",
       "    <tr>\n",
       "      <th>131835</th>\n",
       "      <td>131835</td>\n",
       "      <td>1318369.0</td>\n",
       "      <td>-0.026</td>\n",
       "      <td>1.0</td>\n",
       "      <td>0.044231</td>\n",
       "      <td>0.868894</td>\n",
       "      <td>1.986</td>\n",
       "      <td>0.853168</td>\n",
       "      <td>0.357157</td>\n",
       "      <td>-0.309434</td>\n",
       "      <td>...</td>\n",
       "      <td>107.983</td>\n",
       "      <td>107.854453</td>\n",
       "      <td>0.404532</td>\n",
       "      <td>-1.166452</td>\n",
       "      <td>1.001192</td>\n",
       "      <td>1.001192</td>\n",
       "      <td>1.000000</td>\n",
       "      <td>1.001192</td>\n",
       "      <td>0.0</td>\n",
       "      <td>1.0</td>\n",
       "    </tr>\n",
       "    <tr>\n",
       "      <th>131836</th>\n",
       "      <td>131836</td>\n",
       "      <td>1318379.0</td>\n",
       "      <td>0.315</td>\n",
       "      <td>1.0</td>\n",
       "      <td>0.027962</td>\n",
       "      <td>0.859291</td>\n",
       "      <td>1.986</td>\n",
       "      <td>0.843068</td>\n",
       "      <td>0.409356</td>\n",
       "      <td>-0.176874</td>\n",
       "      <td>...</td>\n",
       "      <td>107.983</td>\n",
       "      <td>107.854453</td>\n",
       "      <td>0.404532</td>\n",
       "      <td>-1.166452</td>\n",
       "      <td>1.001192</td>\n",
       "      <td>1.001192</td>\n",
       "      <td>1.000000</td>\n",
       "      <td>1.001192</td>\n",
       "      <td>0.0</td>\n",
       "      <td>1.0</td>\n",
       "    </tr>\n",
       "    <tr>\n",
       "      <th>131837</th>\n",
       "      <td>131837</td>\n",
       "      <td>1318389.0</td>\n",
       "      <td>0.207</td>\n",
       "      <td>1.0</td>\n",
       "      <td>0.017731</td>\n",
       "      <td>0.855355</td>\n",
       "      <td>1.986</td>\n",
       "      <td>0.838932</td>\n",
       "      <td>0.448202</td>\n",
       "      <td>-0.107825</td>\n",
       "      <td>...</td>\n",
       "      <td>107.983</td>\n",
       "      <td>107.854453</td>\n",
       "      <td>0.404532</td>\n",
       "      <td>-1.166452</td>\n",
       "      <td>1.001192</td>\n",
       "      <td>1.001192</td>\n",
       "      <td>1.000000</td>\n",
       "      <td>1.001192</td>\n",
       "      <td>0.0</td>\n",
       "      <td>1.0</td>\n",
       "    </tr>\n",
       "    <tr>\n",
       "      <th>131838</th>\n",
       "      <td>131838</td>\n",
       "      <td>1318399.0</td>\n",
       "      <td>-0.225</td>\n",
       "      <td>1.0</td>\n",
       "      <td>0.004269</td>\n",
       "      <td>0.856353</td>\n",
       "      <td>1.986</td>\n",
       "      <td>0.839734</td>\n",
       "      <td>0.496658</td>\n",
       "      <td>-0.092585</td>\n",
       "      <td>...</td>\n",
       "      <td>107.983</td>\n",
       "      <td>107.854453</td>\n",
       "      <td>0.404532</td>\n",
       "      <td>-1.166452</td>\n",
       "      <td>1.001192</td>\n",
       "      <td>1.001192</td>\n",
       "      <td>1.000000</td>\n",
       "      <td>1.001192</td>\n",
       "      <td>0.0</td>\n",
       "      <td>1.0</td>\n",
       "    </tr>\n",
       "  </tbody>\n",
       "</table>\n",
       "<p>131839 rows × 157 columns</p>\n",
       "</div>"
      ],
      "text/plain": [
       "         index  Unnamed: 0_x  Horiz_acc  id_x  av_horiz  sd_horiz  peak_horiz  \\\n",
       "0            0          19.0      0.375   1.0 -0.033000  0.576999       0.375   \n",
       "1            1          29.0     -0.058   1.0 -0.041333  0.408255       0.375   \n",
       "2            2          39.0      0.053   1.0 -0.017750  0.336659       0.375   \n",
       "3            3          49.0      0.721   1.0  0.130000  0.440630       0.721   \n",
       "4            4          59.0     -0.376   1.0  0.045667  0.444968       0.721   \n",
       "...        ...           ...        ...   ...       ...       ...         ...   \n",
       "131834  131834     1318359.0      0.749   1.0  0.037846  0.870040       1.986   \n",
       "131835  131835     1318369.0     -0.026   1.0  0.044231  0.868894       1.986   \n",
       "131836  131836     1318379.0      0.315   1.0  0.027962  0.859291       1.986   \n",
       "131837  131837     1318389.0      0.207   1.0  0.017731  0.855355       1.986   \n",
       "131838  131838     1318399.0     -0.225   1.0  0.004269  0.856353       1.986   \n",
       "\n",
       "        rms_horiz  skew_horiz  kurt_horiz  ...  peak_temp    rms_temp  \\\n",
       "0        0.409332    0.000000   -2.000000  ...     82.979   82.730999   \n",
       "1        0.335892    0.183402   -1.500000  ...     82.979   82.730999   \n",
       "2        0.292095   -0.261196   -1.065512  ...     82.979   82.730999   \n",
       "3        0.414999    0.135693   -1.066885  ...     82.979   82.730999   \n",
       "4        0.408757    0.518844   -1.116908  ...     82.979   82.730999   \n",
       "...           ...         ...         ...  ...        ...         ...   \n",
       "131834   0.853983    0.378753   -0.313019  ...    107.983  107.854453   \n",
       "131835   0.853168    0.357157   -0.309434  ...    107.983  107.854453   \n",
       "131836   0.843068    0.409356   -0.176874  ...    107.983  107.854453   \n",
       "131837   0.838932    0.448202   -0.107825  ...    107.983  107.854453   \n",
       "131838   0.839734    0.496658   -0.092585  ...    107.983  107.854453   \n",
       "\n",
       "        skew_temp  kurt_temp  crest_temp  clear_temp  shape_temp  imp_temp  \\\n",
       "0        0.019344  -1.213158    1.002998    1.003000    1.000002  1.002999   \n",
       "1        0.019344  -1.213158    1.002998    1.003000    1.000002  1.002999   \n",
       "2        0.019344  -1.213158    1.002998    1.003000    1.000002  1.002999   \n",
       "3        0.019344  -1.213158    1.002998    1.003000    1.000002  1.002999   \n",
       "4        0.019344  -1.213158    1.002998    1.003000    1.000002  1.002999   \n",
       "...           ...        ...         ...         ...         ...       ...   \n",
       "131834   0.404532  -1.166452    1.001192    1.001192    1.000000  1.001192   \n",
       "131835   0.404532  -1.166452    1.001192    1.001192    1.000000  1.001192   \n",
       "131836   0.404532  -1.166452    1.001192    1.001192    1.000000  1.001192   \n",
       "131837   0.404532  -1.166452    1.001192    1.001192    1.000000  1.001192   \n",
       "131838   0.404532  -1.166452    1.001192    1.001192    1.000000  1.001192   \n",
       "\n",
       "         RUL_y   id  \n",
       "0       5140.1  1.0  \n",
       "1       5140.1  1.0  \n",
       "2       5140.1  1.0  \n",
       "3       5140.1  1.0  \n",
       "4       5140.1  1.0  \n",
       "...        ...  ...  \n",
       "131834     0.0  1.0  \n",
       "131835     0.0  1.0  \n",
       "131836     0.0  1.0  \n",
       "131837     0.0  1.0  \n",
       "131838     0.0  1.0  \n",
       "\n",
       "[131839 rows x 157 columns]"
      ]
     },
     "execution_count": 142,
     "metadata": {},
     "output_type": "execute_result"
    }
   ],
   "source": [
    "one_test"
   ]
  },
  {
   "cell_type": "code",
   "execution_count": 143,
   "metadata": {},
   "outputs": [
    {
     "name": "stdout",
     "output_type": "stream",
     "text": [
      "4270.09961\n"
     ]
    }
   ],
   "source": [
    "time_list = []\n",
    "for i in range(1,int(one_train[\"id\"].max())+1,1):\n",
    "    one_id = one_train[one_train[\"id\"]==i][[\"id\",\"RUL_x\"]]\n",
    "    one_id = one_id.reset_index()\n",
    "    print(one_id.loc[0,\"RUL_x\"])"
   ]
  },
  {
   "cell_type": "code",
   "execution_count": 144,
   "metadata": {},
   "outputs": [
    {
     "name": "stdout",
     "output_type": "stream",
     "text": [
      "5140.09922\n"
     ]
    }
   ],
   "source": [
    "time_list = []\n",
    "for i in range(1,int(one_test[\"id\"].max())+1,1):\n",
    "    one_id = one_test[one_test[\"id\"]==i][[\"id\",\"RUL_x\"]]\n",
    "    one_id = one_id.reset_index()\n",
    "    print(one_id.loc[0,\"RUL_x\"])"
   ]
  },
  {
   "cell_type": "code",
   "execution_count": 145,
   "metadata": {},
   "outputs": [],
   "source": [
    "def add_time(one_train):\n",
    "    time_list = []\n",
    "    for i in range(1,int(one_train[\"id\"].max())+1,1):\n",
    "        one_id = one_train[one_train[\"id\"]==i][[\"id\",\"RUL_x\"]]\n",
    "        one_id = one_id.reset_index()\n",
    "        one_id[\"time\"] = one_id.loc[0,\"RUL_x\"] - one_id[\"RUL_x\"] \n",
    "        time_list = time_list + list(one_id[\"time\"].values)\n",
    "    one_train[\"time\"] = time_list\n",
    "    return one_train"
   ]
  },
  {
   "cell_type": "code",
   "execution_count": 146,
   "metadata": {},
   "outputs": [],
   "source": [
    "def clean_dataset(df):\n",
    "    assert isinstance(df, pd.DataFrame), \"df needs to be a pd.DataFrame\"\n",
    "    df.dropna(inplace=True)\n",
    "    indices_to_keep = ~df.isin([np.nan, np.inf, -np.inf]).any(1)\n",
    "    return df[indices_to_keep].astype(np.float64)\n",
    "\n",
    "one_train = clean_dataset(one_train)\n",
    "one_test = clean_dataset(one_test)"
   ]
  },
  {
   "cell_type": "code",
   "execution_count": 148,
   "metadata": {},
   "outputs": [],
   "source": [
    "one_train = three_time_group(one_train)\n",
    "one_test = three_time_group(one_test)"
   ]
  },
  {
   "cell_type": "code",
   "execution_count": 149,
   "metadata": {},
   "outputs": [],
   "source": [
    "one_train = add_time(one_train)\n",
    "one_test = add_time(one_test)"
   ]
  },
  {
   "cell_type": "code",
   "execution_count": 163,
   "metadata": {},
   "outputs": [],
   "source": [
    "one_train = clean_dataset(one_train)\n",
    "one_test = clean_dataset(one_test)"
   ]
  },
  {
   "cell_type": "code",
   "execution_count": 48,
   "metadata": {},
   "outputs": [],
   "source": [
    "# def clean_dataset(df):\n",
    "#     assert isinstance(df, pd.DataFrame), \"df needs to be a pd.DataFrame\"\n",
    "#     df.dropna(inplace=True)\n",
    "#     indices_to_keep = ~df.isin([np.nan, np.inf, -np.inf]).any(1)\n",
    "#     return df[indices_to_keep].astype(np.float64)\n",
    "\n",
    "# one_train = clean_dataset(one_train)\n",
    "# one_test = clean_dataset(one_test)"
   ]
  },
  {
   "cell_type": "code",
   "execution_count": 213,
   "metadata": {},
   "outputs": [],
   "source": [
    "X_train = one_train.drop([\"index\",\"Unnamed: 0_x\",\"Unnamed: 0_y\",\"RUL_x\",\"RUL_y\",\"round_RUL\",\"id\",\"id_x\",\"id.1\",\"id.2\",\"time_group\"], axis=1)\n",
    "X_test = one_test.drop([\"index\",\"Unnamed: 0_x\",\"Unnamed: 0_y\",\"RUL_x\",\"RUL_y\",\"round_RUL\",\"id\",\"id_x\",\"id.1\",\"id.2\",\"time_group\"], axis=1)\n",
    "y_train = one_train[\"time_group\"]\n",
    "y_test = one_test[\"time_group\"]"
   ]
  },
  {
   "cell_type": "code",
   "execution_count": 214,
   "metadata": {},
   "outputs": [],
   "source": [
    "X_train = X_train[list(imp_df[imp_df[\"Total\"]>=2][\"Feature\"].values)]\n",
    "X_test = X_test[list(imp_df[imp_df[\"Total\"]>=2][\"Feature\"].values)]"
   ]
  },
  {
   "cell_type": "code",
   "execution_count": 215,
   "metadata": {},
   "outputs": [
    {
     "data": {
      "text/html": [
       "<div>\n",
       "<style scoped>\n",
       "    .dataframe tbody tr th:only-of-type {\n",
       "        vertical-align: middle;\n",
       "    }\n",
       "\n",
       "    .dataframe tbody tr th {\n",
       "        vertical-align: top;\n",
       "    }\n",
       "\n",
       "    .dataframe thead th {\n",
       "        text-align: right;\n",
       "    }\n",
       "</style>\n",
       "<table border=\"1\" class=\"dataframe\">\n",
       "  <thead>\n",
       "    <tr style=\"text-align: right;\">\n",
       "      <th></th>\n",
       "      <th>peak_temp</th>\n",
       "      <th>av_sum</th>\n",
       "      <th>Rtd sensor</th>\n",
       "      <th>sd_vert</th>\n",
       "      <th>sd_temp</th>\n",
       "      <th>sd_sum</th>\n",
       "      <th>sd_horiz</th>\n",
       "      <th>rms_sum</th>\n",
       "      <th>rms_horiz</th>\n",
       "      <th>peak_sum</th>\n",
       "      <th>...</th>\n",
       "      <th>f40</th>\n",
       "      <th>f32_vert</th>\n",
       "      <th>f24_vert</th>\n",
       "      <th>f16_sum</th>\n",
       "      <th>f144</th>\n",
       "      <th>f128</th>\n",
       "      <th>f112</th>\n",
       "      <th>crest_temp</th>\n",
       "      <th>crest_sum</th>\n",
       "      <th>av_horiz</th>\n",
       "    </tr>\n",
       "  </thead>\n",
       "  <tbody>\n",
       "    <tr>\n",
       "      <th>0</th>\n",
       "      <td>63.744</td>\n",
       "      <td>0.382868</td>\n",
       "      <td>63.744</td>\n",
       "      <td>0.329475</td>\n",
       "      <td>0.070772</td>\n",
       "      <td>0.227335</td>\n",
       "      <td>0.305700</td>\n",
       "      <td>0.443036</td>\n",
       "      <td>0.301904</td>\n",
       "      <td>1.029354</td>\n",
       "      <td>...</td>\n",
       "      <td>0.077771</td>\n",
       "      <td>0.037851</td>\n",
       "      <td>0.001678</td>\n",
       "      <td>0.045784</td>\n",
       "      <td>0.225287</td>\n",
       "      <td>0.202532</td>\n",
       "      <td>0.180507</td>\n",
       "      <td>1.001630</td>\n",
       "      <td>2.323408</td>\n",
       "      <td>-0.035885</td>\n",
       "    </tr>\n",
       "    <tr>\n",
       "      <th>1</th>\n",
       "      <td>63.744</td>\n",
       "      <td>0.389624</td>\n",
       "      <td>63.744</td>\n",
       "      <td>0.329216</td>\n",
       "      <td>0.070772</td>\n",
       "      <td>0.221357</td>\n",
       "      <td>0.311981</td>\n",
       "      <td>0.446006</td>\n",
       "      <td>0.306780</td>\n",
       "      <td>1.029354</td>\n",
       "      <td>...</td>\n",
       "      <td>0.069022</td>\n",
       "      <td>0.035937</td>\n",
       "      <td>0.005140</td>\n",
       "      <td>0.043711</td>\n",
       "      <td>0.220526</td>\n",
       "      <td>0.188641</td>\n",
       "      <td>0.149239</td>\n",
       "      <td>1.001630</td>\n",
       "      <td>2.307938</td>\n",
       "      <td>-0.022923</td>\n",
       "    </tr>\n",
       "    <tr>\n",
       "      <th>2</th>\n",
       "      <td>63.744</td>\n",
       "      <td>0.388288</td>\n",
       "      <td>63.744</td>\n",
       "      <td>0.336562</td>\n",
       "      <td>0.070772</td>\n",
       "      <td>0.221202</td>\n",
       "      <td>0.301209</td>\n",
       "      <td>0.444765</td>\n",
       "      <td>0.298155</td>\n",
       "      <td>1.029354</td>\n",
       "      <td>...</td>\n",
       "      <td>0.061831</td>\n",
       "      <td>0.034205</td>\n",
       "      <td>0.009116</td>\n",
       "      <td>0.041706</td>\n",
       "      <td>0.185214</td>\n",
       "      <td>0.116175</td>\n",
       "      <td>0.092771</td>\n",
       "      <td>1.001630</td>\n",
       "      <td>2.314377</td>\n",
       "      <td>-0.040731</td>\n",
       "    </tr>\n",
       "    <tr>\n",
       "      <th>3</th>\n",
       "      <td>63.744</td>\n",
       "      <td>0.358454</td>\n",
       "      <td>63.744</td>\n",
       "      <td>0.265920</td>\n",
       "      <td>0.070772</td>\n",
       "      <td>0.179697</td>\n",
       "      <td>0.300240</td>\n",
       "      <td>0.399422</td>\n",
       "      <td>0.299531</td>\n",
       "      <td>0.638780</td>\n",
       "      <td>...</td>\n",
       "      <td>0.056267</td>\n",
       "      <td>0.032812</td>\n",
       "      <td>0.012941</td>\n",
       "      <td>0.039786</td>\n",
       "      <td>0.170410</td>\n",
       "      <td>0.041737</td>\n",
       "      <td>0.057095</td>\n",
       "      <td>1.001630</td>\n",
       "      <td>1.599260</td>\n",
       "      <td>-0.055154</td>\n",
       "    </tr>\n",
       "    <tr>\n",
       "      <th>4</th>\n",
       "      <td>63.744</td>\n",
       "      <td>0.363722</td>\n",
       "      <td>63.744</td>\n",
       "      <td>0.248298</td>\n",
       "      <td>0.070772</td>\n",
       "      <td>0.184570</td>\n",
       "      <td>0.324570</td>\n",
       "      <td>0.406263</td>\n",
       "      <td>0.319346</td>\n",
       "      <td>0.638780</td>\n",
       "      <td>...</td>\n",
       "      <td>0.052195</td>\n",
       "      <td>0.031884</td>\n",
       "      <td>0.016561</td>\n",
       "      <td>0.037965</td>\n",
       "      <td>0.162446</td>\n",
       "      <td>0.063865</td>\n",
       "      <td>0.053885</td>\n",
       "      <td>1.001630</td>\n",
       "      <td>1.572332</td>\n",
       "      <td>-0.026231</td>\n",
       "    </tr>\n",
       "    <tr>\n",
       "      <th>...</th>\n",
       "      <td>...</td>\n",
       "      <td>...</td>\n",
       "      <td>...</td>\n",
       "      <td>...</td>\n",
       "      <td>...</td>\n",
       "      <td>...</td>\n",
       "      <td>...</td>\n",
       "      <td>...</td>\n",
       "      <td>...</td>\n",
       "      <td>...</td>\n",
       "      <td>...</td>\n",
       "      <td>...</td>\n",
       "      <td>...</td>\n",
       "      <td>...</td>\n",
       "      <td>...</td>\n",
       "      <td>...</td>\n",
       "      <td>...</td>\n",
       "      <td>...</td>\n",
       "      <td>...</td>\n",
       "      <td>...</td>\n",
       "      <td>...</td>\n",
       "    </tr>\n",
       "    <tr>\n",
       "      <th>109563</th>\n",
       "      <td>117.851</td>\n",
       "      <td>2.095154</td>\n",
       "      <td>117.851</td>\n",
       "      <td>2.155015</td>\n",
       "      <td>0.025609</td>\n",
       "      <td>1.146869</td>\n",
       "      <td>1.105386</td>\n",
       "      <td>2.377896</td>\n",
       "      <td>1.087474</td>\n",
       "      <td>4.708376</td>\n",
       "      <td>...</td>\n",
       "      <td>0.000000</td>\n",
       "      <td>0.000000</td>\n",
       "      <td>0.000000</td>\n",
       "      <td>0.000000</td>\n",
       "      <td>0.000000</td>\n",
       "      <td>0.000000</td>\n",
       "      <td>0.000000</td>\n",
       "      <td>1.000395</td>\n",
       "      <td>1.980060</td>\n",
       "      <td>0.087846</td>\n",
       "    </tr>\n",
       "    <tr>\n",
       "      <th>109564</th>\n",
       "      <td>117.851</td>\n",
       "      <td>2.060982</td>\n",
       "      <td>117.851</td>\n",
       "      <td>2.135294</td>\n",
       "      <td>0.025609</td>\n",
       "      <td>1.177169</td>\n",
       "      <td>1.105708</td>\n",
       "      <td>2.362218</td>\n",
       "      <td>1.087638</td>\n",
       "      <td>4.708376</td>\n",
       "      <td>...</td>\n",
       "      <td>0.000000</td>\n",
       "      <td>0.000000</td>\n",
       "      <td>0.000000</td>\n",
       "      <td>0.000000</td>\n",
       "      <td>0.000000</td>\n",
       "      <td>0.000000</td>\n",
       "      <td>0.000000</td>\n",
       "      <td>1.000395</td>\n",
       "      <td>1.993201</td>\n",
       "      <td>0.085962</td>\n",
       "    </tr>\n",
       "    <tr>\n",
       "      <th>109565</th>\n",
       "      <td>117.851</td>\n",
       "      <td>2.046765</td>\n",
       "      <td>117.851</td>\n",
       "      <td>2.139804</td>\n",
       "      <td>0.025609</td>\n",
       "      <td>1.178542</td>\n",
       "      <td>1.051802</td>\n",
       "      <td>2.350487</td>\n",
       "      <td>1.052081</td>\n",
       "      <td>4.708376</td>\n",
       "      <td>...</td>\n",
       "      <td>0.000000</td>\n",
       "      <td>0.000000</td>\n",
       "      <td>0.000000</td>\n",
       "      <td>0.000000</td>\n",
       "      <td>0.000000</td>\n",
       "      <td>0.000000</td>\n",
       "      <td>0.000000</td>\n",
       "      <td>1.000395</td>\n",
       "      <td>2.003149</td>\n",
       "      <td>0.207692</td>\n",
       "    </tr>\n",
       "    <tr>\n",
       "      <th>109566</th>\n",
       "      <td>117.851</td>\n",
       "      <td>2.035136</td>\n",
       "      <td>117.851</td>\n",
       "      <td>2.123843</td>\n",
       "      <td>0.025609</td>\n",
       "      <td>1.184865</td>\n",
       "      <td>1.043148</td>\n",
       "      <td>2.343435</td>\n",
       "      <td>1.062986</td>\n",
       "      <td>4.708376</td>\n",
       "      <td>...</td>\n",
       "      <td>0.000000</td>\n",
       "      <td>0.000000</td>\n",
       "      <td>0.000000</td>\n",
       "      <td>0.000000</td>\n",
       "      <td>0.000000</td>\n",
       "      <td>0.000000</td>\n",
       "      <td>0.000000</td>\n",
       "      <td>1.000395</td>\n",
       "      <td>2.009177</td>\n",
       "      <td>0.289192</td>\n",
       "    </tr>\n",
       "    <tr>\n",
       "      <th>109567</th>\n",
       "      <td>117.851</td>\n",
       "      <td>2.029966</td>\n",
       "      <td>117.851</td>\n",
       "      <td>2.110053</td>\n",
       "      <td>0.025609</td>\n",
       "      <td>1.179165</td>\n",
       "      <td>1.044318</td>\n",
       "      <td>2.336176</td>\n",
       "      <td>1.074653</td>\n",
       "      <td>4.708376</td>\n",
       "      <td>...</td>\n",
       "      <td>0.000000</td>\n",
       "      <td>0.000000</td>\n",
       "      <td>0.000000</td>\n",
       "      <td>0.000000</td>\n",
       "      <td>0.000000</td>\n",
       "      <td>0.000000</td>\n",
       "      <td>0.000000</td>\n",
       "      <td>1.000395</td>\n",
       "      <td>2.015421</td>\n",
       "      <td>0.325923</td>\n",
       "    </tr>\n",
       "  </tbody>\n",
       "</table>\n",
       "<p>109568 rows × 46 columns</p>\n",
       "</div>"
      ],
      "text/plain": [
       "        peak_temp    av_sum  Rtd sensor   sd_vert   sd_temp    sd_sum  \\\n",
       "0          63.744  0.382868      63.744  0.329475  0.070772  0.227335   \n",
       "1          63.744  0.389624      63.744  0.329216  0.070772  0.221357   \n",
       "2          63.744  0.388288      63.744  0.336562  0.070772  0.221202   \n",
       "3          63.744  0.358454      63.744  0.265920  0.070772  0.179697   \n",
       "4          63.744  0.363722      63.744  0.248298  0.070772  0.184570   \n",
       "...           ...       ...         ...       ...       ...       ...   \n",
       "109563    117.851  2.095154     117.851  2.155015  0.025609  1.146869   \n",
       "109564    117.851  2.060982     117.851  2.135294  0.025609  1.177169   \n",
       "109565    117.851  2.046765     117.851  2.139804  0.025609  1.178542   \n",
       "109566    117.851  2.035136     117.851  2.123843  0.025609  1.184865   \n",
       "109567    117.851  2.029966     117.851  2.110053  0.025609  1.179165   \n",
       "\n",
       "        sd_horiz   rms_sum  rms_horiz  peak_sum  ...       f40  f32_vert  \\\n",
       "0       0.305700  0.443036   0.301904  1.029354  ...  0.077771  0.037851   \n",
       "1       0.311981  0.446006   0.306780  1.029354  ...  0.069022  0.035937   \n",
       "2       0.301209  0.444765   0.298155  1.029354  ...  0.061831  0.034205   \n",
       "3       0.300240  0.399422   0.299531  0.638780  ...  0.056267  0.032812   \n",
       "4       0.324570  0.406263   0.319346  0.638780  ...  0.052195  0.031884   \n",
       "...          ...       ...        ...       ...  ...       ...       ...   \n",
       "109563  1.105386  2.377896   1.087474  4.708376  ...  0.000000  0.000000   \n",
       "109564  1.105708  2.362218   1.087638  4.708376  ...  0.000000  0.000000   \n",
       "109565  1.051802  2.350487   1.052081  4.708376  ...  0.000000  0.000000   \n",
       "109566  1.043148  2.343435   1.062986  4.708376  ...  0.000000  0.000000   \n",
       "109567  1.044318  2.336176   1.074653  4.708376  ...  0.000000  0.000000   \n",
       "\n",
       "        f24_vert   f16_sum      f144      f128      f112  crest_temp  \\\n",
       "0       0.001678  0.045784  0.225287  0.202532  0.180507    1.001630   \n",
       "1       0.005140  0.043711  0.220526  0.188641  0.149239    1.001630   \n",
       "2       0.009116  0.041706  0.185214  0.116175  0.092771    1.001630   \n",
       "3       0.012941  0.039786  0.170410  0.041737  0.057095    1.001630   \n",
       "4       0.016561  0.037965  0.162446  0.063865  0.053885    1.001630   \n",
       "...          ...       ...       ...       ...       ...         ...   \n",
       "109563  0.000000  0.000000  0.000000  0.000000  0.000000    1.000395   \n",
       "109564  0.000000  0.000000  0.000000  0.000000  0.000000    1.000395   \n",
       "109565  0.000000  0.000000  0.000000  0.000000  0.000000    1.000395   \n",
       "109566  0.000000  0.000000  0.000000  0.000000  0.000000    1.000395   \n",
       "109567  0.000000  0.000000  0.000000  0.000000  0.000000    1.000395   \n",
       "\n",
       "        crest_sum  av_horiz  \n",
       "0        2.323408 -0.035885  \n",
       "1        2.307938 -0.022923  \n",
       "2        2.314377 -0.040731  \n",
       "3        1.599260 -0.055154  \n",
       "4        1.572332 -0.026231  \n",
       "...           ...       ...  \n",
       "109563   1.980060  0.087846  \n",
       "109564   1.993201  0.085962  \n",
       "109565   2.003149  0.207692  \n",
       "109566   2.009177  0.289192  \n",
       "109567   2.015421  0.325923  \n",
       "\n",
       "[109568 rows x 46 columns]"
      ]
     },
     "execution_count": 215,
     "metadata": {},
     "output_type": "execute_result"
    }
   ],
   "source": [
    "X_train"
   ]
  },
  {
   "cell_type": "code",
   "execution_count": 216,
   "metadata": {},
   "outputs": [],
   "source": [
    "from sklearn.ensemble import RandomForestRegressor\n",
    "from sklearn.ensemble import RandomForestClassifier"
   ]
  },
  {
   "cell_type": "code",
   "execution_count": 217,
   "metadata": {},
   "outputs": [],
   "source": [
    "from sklearn.metrics import mean_squared_error"
   ]
  },
  {
   "cell_type": "code",
   "execution_count": 218,
   "metadata": {},
   "outputs": [],
   "source": [
    "def plot_features_weights(model, weights, feature_names):\n",
    "    \n",
    "\n",
    "    (px, py) = (8, 10) if len(weights) > 30 else (8, 5)\n",
    "    W = pd.DataFrame({'Weights':weights}, feature_names)\n",
    "    W_df = W.sort_values(by='Weights', ascending=True)\n",
    "    W_df.tail(10).plot(kind='barh', color='r', figsize=(px,py))\n",
    "    plt.xlabel(model)\n",
    "    plt.gca().legend_ = None"
   ]
  },
  {
   "cell_type": "code",
   "execution_count": 219,
   "metadata": {},
   "outputs": [],
   "source": [
    "def plot_residual(model, y_train, y_train_pred, y_test, y_test_pred):\n",
    "    plt.figure(figsize=(20,10))\n",
    "    plt.scatter(y_train_pred, y_train_pred - y_train, c='blue', marker='o', label='Training data')\n",
    "    plt.scatter(y_test_pred, y_test_pred - y_test, c='lightgreen', marker='s', label='Test data')\n",
    "    plt.xlabel('Predicted Values')\n",
    "    plt.ylabel('Residuals')\n",
    "    plt.legend(loc='upper left')\n",
    "    plt.hlines(y=0, xmin=-50, xmax=y_train.max()+50, color='red', lw=2)\n",
    "    plt.title(model + ' Residuals')\n",
    "    plt.show()"
   ]
  },
  {
   "cell_type": "code",
   "execution_count": 220,
   "metadata": {},
   "outputs": [],
   "source": [
    "from sklearn.metrics import accuracy_score\n",
    "from sklearn.metrics import f1_score"
   ]
  },
  {
   "cell_type": "code",
   "execution_count": 223,
   "metadata": {},
   "outputs": [
    {
     "data": {
      "text/plain": [
       "RandomForestClassifier(bootstrap=True, ccp_alpha=0.0, class_weight=None,\n",
       "                       criterion='gini', max_depth=6, max_features='auto',\n",
       "                       max_leaf_nodes=None, max_samples=None,\n",
       "                       min_impurity_decrease=0.0, min_impurity_split=None,\n",
       "                       min_samples_leaf=1, min_samples_split=1000,\n",
       "                       min_weight_fraction_leaf=0.0, n_estimators=100,\n",
       "                       n_jobs=-1, oob_score=False, random_state=0, verbose=0,\n",
       "                       warm_start=False)"
      ]
     },
     "execution_count": 223,
     "metadata": {},
     "output_type": "execute_result"
    }
   ],
   "source": [
    "rf = RandomForestClassifier(random_state=0,max_depth=6,n_estimators=100,min_samples_split=1000,n_jobs=-1)\n",
    "rf.fit(X_train, y_train)"
   ]
  },
  {
   "cell_type": "code",
   "execution_count": 224,
   "metadata": {},
   "outputs": [],
   "source": [
    "from sklearn.tree import DecisionTreeClassifier"
   ]
  },
  {
   "cell_type": "code",
   "execution_count": 225,
   "metadata": {},
   "outputs": [
    {
     "data": {
      "text/plain": [
       "DecisionTreeClassifier(ccp_alpha=0.0, class_weight=None, criterion='gini',\n",
       "                       max_depth=9, max_features=None, max_leaf_nodes=None,\n",
       "                       min_impurity_decrease=0.0, min_impurity_split=None,\n",
       "                       min_samples_leaf=1, min_samples_split=2,\n",
       "                       min_weight_fraction_leaf=0.0, presort='deprecated',\n",
       "                       random_state=None, splitter='best')"
      ]
     },
     "execution_count": 225,
     "metadata": {},
     "output_type": "execute_result"
    }
   ],
   "source": [
    "rf = DecisionTreeClassifier(max_depth=9)\n",
    "rf.fit(X_train, y_train)"
   ]
  },
  {
   "cell_type": "code",
   "execution_count": 226,
   "metadata": {},
   "outputs": [
    {
     "name": "stdout",
     "output_type": "stream",
     "text": [
      "accuracy training: 0.998, accuracy testing: 0.500\n",
      "F1 training: 0.998, F1 testing: 0.333\n"
     ]
    }
   ],
   "source": [
    "y_test_predict = rf.predict(X_test)\n",
    "y_train_predict = rf.predict(X_train)\n",
    "\n",
    "train_score = accuracy_score(y_train, y_train_predict)\n",
    "test_score = accuracy_score(y_test, y_test_predict)\n",
    "train_f1 = f1_score(y_train, y_train_predict,average=\"weighted\")\n",
    "test_f1 = f1_score(y_test, y_test_predict,average=\"weighted\")\n",
    "print('accuracy training: %.3f, accuracy testing: %.3f' % (\n",
    "      (train_score), (test_score)))\n",
    "print('F1 training: %.3f, F1 testing: %.3f' % (\n",
    "      (train_f1), (test_f1)))"
   ]
  },
  {
   "cell_type": "code",
   "execution_count": 227,
   "metadata": {},
   "outputs": [
    {
     "name": "stdout",
     "output_type": "stream",
     "text": [
      "accuracy training: 0.998, accuracy testing: 0.500\n",
      "F1 training: 0.998, F1 testing: 0.333\n"
     ]
    }
   ],
   "source": [
    "y_test_predict = rf.predict(X_test)\n",
    "y_train_predict = rf.predict(X_train)\n",
    "\n",
    "train_score = accuracy_score(y_train, y_train_predict)\n",
    "test_score = accuracy_score(y_test, y_test_predict)\n",
    "train_f1 = f1_score(y_train, y_train_predict,average=\"weighted\")\n",
    "test_f1 = f1_score(y_test, y_test_predict,average=\"weighted\")\n",
    "print('accuracy training: %.3f, accuracy testing: %.3f' % (\n",
    "      (train_score), (test_score)))\n",
    "print('F1 training: %.3f, F1 testing: %.3f' % (\n",
    "      (train_f1), (test_f1)))"
   ]
  },
  {
   "cell_type": "code",
   "execution_count": 228,
   "metadata": {},
   "outputs": [
    {
     "data": {
      "image/png": "[encoded data removed]",
      "text/plain": [
       "<Figure size 576x720 with 1 Axes>"
      ]
     },
     "metadata": {
      "needs_background": "light"
     },
     "output_type": "display_data"
    }
   ],
   "source": [
    "plot_features_weights('Random forest',rf.feature_importances_, X_train.columns)"
   ]
  },
  {
   "cell_type": "code",
   "execution_count": 229,
   "metadata": {},
   "outputs": [],
   "source": [
    "ans_train = pd.DataFrame(y_train.values,columns=[\"real group\"])\n",
    "ans_train[\"pre_group(no time)\"] = y_train_predict\n",
    "ans_train[\"real_rul\"] = one_train[\"RUL_x\"]"
   ]
  },
  {
   "cell_type": "code",
   "execution_count": 230,
   "metadata": {},
   "outputs": [],
   "source": [
    "ans_test = pd.DataFrame(y_test.values,columns=[\"real group\"])\n",
    "ans_test[\"pre_group(no time)\"] = y_test_predict\n",
    "ans_test[\"real_rul\"] = one_test[\"RUL_x\"]"
   ]
  },
  {
   "cell_type": "code",
   "execution_count": 231,
   "metadata": {},
   "outputs": [],
   "source": [
    "ans_train[\"time\"] = one_train[\"time\"]\n",
    "ans_test[\"time\"] = one_test[\"time\"]"
   ]
  },
  {
   "cell_type": "markdown",
   "metadata": {},
   "source": [
    "### 加入時間因素考量time group"
   ]
  },
  {
   "cell_type": "code",
   "execution_count": 232,
   "metadata": {},
   "outputs": [],
   "source": [
    "from sklearn.linear_model import LogisticRegression"
   ]
  },
  {
   "cell_type": "code",
   "execution_count": 233,
   "metadata": {},
   "outputs": [],
   "source": [
    "X_train = ans_train[[\"pre_group(no time)\",\"time\"]]\n",
    "y_train = ans_train[\"real group\"]\n",
    "X_test = ans_test[[\"pre_group(no time)\",\"time\"]]\n",
    "y_test = ans_test[\"real group\"]"
   ]
  },
  {
   "cell_type": "code",
   "execution_count": 234,
   "metadata": {},
   "outputs": [],
   "source": [
    "from sklearn.tree import DecisionTreeClassifier"
   ]
  },
  {
   "cell_type": "code",
   "execution_count": 235,
   "metadata": {},
   "outputs": [
    {
     "data": {
      "text/plain": [
       "DecisionTreeClassifier(ccp_alpha=0.0, class_weight=None, criterion='gini',\n",
       "                       max_depth=4, max_features=None, max_leaf_nodes=None,\n",
       "                       min_impurity_decrease=0.0, min_impurity_split=None,\n",
       "                       min_samples_leaf=1, min_samples_split=2,\n",
       "                       min_weight_fraction_leaf=0.0, presort='deprecated',\n",
       "                       random_state=None, splitter='best')"
      ]
     },
     "execution_count": 235,
     "metadata": {},
     "output_type": "execute_result"
    }
   ],
   "source": [
    "dt = DecisionTreeClassifier(max_depth=4)\n",
    "dt.fit(X_train, y_train)"
   ]
  },
  {
   "cell_type": "code",
   "execution_count": 242,
   "metadata": {},
   "outputs": [],
   "source": [
    "X_test = X_test.fillna(method=\"ffill\")"
   ]
  },
  {
   "cell_type": "code",
   "execution_count": 243,
   "metadata": {},
   "outputs": [
    {
     "name": "stdout",
     "output_type": "stream",
     "text": [
      "accuracy training: 1.000, accuracy testing: 0.789\n",
      "F1 training: 1.000, F1 testing: 0.789\n"
     ]
    }
   ],
   "source": [
    "y_test_predict = dt.predict(X_test)\n",
    "y_train_predict = dt.predict(X_train)\n",
    "\n",
    "train_score = accuracy_score(y_train, y_train_predict)\n",
    "test_score = accuracy_score(y_test, y_test_predict)\n",
    "train_f1 = f1_score(y_train, y_train_predict,average=\"weighted\")\n",
    "test_f1 = f1_score(y_test, y_test_predict,average=\"weighted\")\n",
    "print('accuracy training: %.3f, accuracy testing: %.3f' % (\n",
    "      (train_score), (test_score)))\n",
    "print('F1 training: %.3f, F1 testing: %.3f' % (\n",
    "      (train_f1), (test_f1)))"
   ]
  },
  {
   "cell_type": "code",
   "execution_count": 244,
   "metadata": {},
   "outputs": [],
   "source": [
    "from sklearn import tree"
   ]
  },
  {
   "cell_type": "code",
   "execution_count": 245,
   "metadata": {},
   "outputs": [
    {
     "data": {
      "image/png": "[encoded data removed]",
      "text/plain": [
       "<Figure size 1800x1440 with 1 Axes>"
      ]
     },
     "metadata": {
      "needs_background": "light"
     },
     "output_type": "display_data"
    }
   ],
   "source": [
    "fig = plt.figure(figsize=(25,20))\n",
    "_ = tree.plot_tree(dt, \n",
    "                   feature_names=X_train.columns,\n",
    "                   fontsize=13,\n",
    "                   filled=True)"
   ]
  },
  {
   "cell_type": "code",
   "execution_count": 246,
   "metadata": {},
   "outputs": [],
   "source": [
    "ans_train[\"pre_group(time)\"] = y_train_predict\n",
    "ans_test[\"pre_group(time)\"] = y_test_predict"
   ]
  },
  {
   "cell_type": "markdown",
   "metadata": {},
   "source": [
    "### step 2 train each class"
   ]
  },
  {
   "cell_type": "markdown",
   "metadata": {},
   "source": [
    "#### 1. class 0"
   ]
  },
  {
   "cell_type": "code",
   "execution_count": 247,
   "metadata": {},
   "outputs": [],
   "source": [
    "X_train = one_train[one_train[\"time_group\"]==0].drop([\"index\",\"Unnamed: 0_x\",\"Unnamed: 0_y\",\"RUL_x\",\"RUL_y\",\"round_RUL\",\"id\",\"id_x\",\"id.1\",\"id.2\",\"time_group\"], axis=1)\n",
    "X_test = one_test[one_test[\"time_group\"]==0].drop([\"index\",\"Unnamed: 0_x\",\"Unnamed: 0_y\",\"RUL_x\",\"RUL_y\",\"round_RUL\",\"id\",\"id_x\",\"id.1\",\"id.2\",\"time_group\"], axis=1)\n",
    "y_train = one_train[one_train[\"time_group\"]==0][\"RUL_x\"]\n",
    "y_test = one_test[one_test[\"time_group\"]==0][\"RUL_x\"]"
   ]
  },
  {
   "cell_type": "code",
   "execution_count": 248,
   "metadata": {},
   "outputs": [],
   "source": [
    "X_train = X_train[list(imp_df[imp_df[\"Total\"]>=2][\"Feature\"].values)]\n",
    "X_test = X_test[list(imp_df[imp_df[\"Total\"]>=2][\"Feature\"].values)]"
   ]
  },
  {
   "cell_type": "code",
   "execution_count": 249,
   "metadata": {},
   "outputs": [
    {
     "data": {
      "text/plain": [
       "Index(['peak_temp', 'av_sum', 'Rtd sensor', 'sd_vert', 'sd_temp', 'sd_sum',\n",
       "       'sd_horiz', 'rms_sum', 'rms_horiz', 'peak_sum', 'f8', 'f16_vert',\n",
       "       'av_temp', 'skew_temp', 'rms_vert', 'rms_temp', 'kurt_temp', 'f8_vert',\n",
       "       'f40_vert', 'f40_sum', 'f32', 'f24', 'f16', 'clear_temp', 'peak_vert',\n",
       "       'imp_temp', 'f96_vert', 'f96_sum', 'f8_sum', 'f88_vert', 'f88_sum',\n",
       "       'f88', 'f80_vert', 'f80', 'f64', 'f48_vert', 'f40', 'f32_vert',\n",
       "       'f24_vert', 'f16_sum', 'f144', 'f128', 'f112', 'crest_temp',\n",
       "       'crest_sum', 'av_horiz'],\n",
       "      dtype='object')"
      ]
     },
     "execution_count": 249,
     "metadata": {},
     "output_type": "execute_result"
    }
   ],
   "source": [
    "X_train.columns"
   ]
  },
  {
   "cell_type": "code",
   "execution_count": 250,
   "metadata": {},
   "outputs": [],
   "source": [
    "from lightgbm import LGBMRegressor"
   ]
  },
  {
   "cell_type": "code",
   "execution_count": 251,
   "metadata": {},
   "outputs": [
    {
     "data": {
      "text/plain": [
       "LGBMRegressor(boosting_type='gbdt', class_weight=None, colsample_bytree=1.0,\n",
       "              importance_type='split', learning_rate=0.1, max_depth=-1,\n",
       "              min_child_samples=20, min_child_weight=0.001, min_split_gain=0.0,\n",
       "              n_estimators=20, n_jobs=-1, num_leaves=31, objective=None,\n",
       "              random_state=None, reg_alpha=0.0, reg_lambda=0.5, silent=True,\n",
       "              subsample=1.0, subsample_for_bin=200000, subsample_freq=0)"
      ]
     },
     "execution_count": 251,
     "metadata": {},
     "output_type": "execute_result"
    }
   ],
   "source": [
    "lgb = LGBMRegressor(n_estimators=20,n_jobs=- 1,reg_lambda=0.5)\n",
    "lgb.fit(X_train, y_train)"
   ]
  },
  {
   "cell_type": "code",
   "execution_count": 252,
   "metadata": {},
   "outputs": [],
   "source": [
    "from sklearn.metrics import mean_absolute_error"
   ]
  },
  {
   "cell_type": "code",
   "execution_count": 253,
   "metadata": {},
   "outputs": [
    {
     "name": "stdout",
     "output_type": "stream",
     "text": [
      "MSE training: 5677.701, MSE testing: 305147.672\n",
      "RMSE training: 75.351, RMSE testing: 552.402\n",
      "MAE training: 65.168, MAE testing: 454.826\n"
     ]
    }
   ],
   "source": [
    "y_test_predict = lgb.predict(X_test)\n",
    "y_train_predict = lgb.predict(X_train)\n",
    "\n",
    "train_mse = mean_squared_error(y_train, y_train_predict)\n",
    "test_mse = mean_squared_error(y_test, y_test_predict)\n",
    "print('MSE training: %.3f, MSE testing: %.3f' % (\n",
    "      (train_mse), (test_mse)))\n",
    "print('RMSE training: %.3f, RMSE testing: %.3f' % (\n",
    "      (train_mse**0.5), (test_mse**0.5)))\n",
    "train_mape = mean_absolute_error(y_train, y_train_predict)\n",
    "test_mape = mean_absolute_error(y_test, y_test_predict)\n",
    "print('MAE training: %.3f, MAE testing: %.3f' % (\n",
    "      (train_mape), (test_mape)))"
   ]
  },
  {
   "cell_type": "code",
   "execution_count": 254,
   "metadata": {},
   "outputs": [
    {
     "data": {
      "image/png": "[encoded data removed]",
      "text/plain": [
       "<Figure size 576x720 with 1 Axes>"
      ]
     },
     "metadata": {
      "needs_background": "light"
     },
     "output_type": "display_data"
    }
   ],
   "source": [
    "plot_features_weights('LGBMRegressor',rf.feature_importances_, X_train.columns)"
   ]
  },
  {
   "cell_type": "code",
   "execution_count": 255,
   "metadata": {},
   "outputs": [],
   "source": [
    "X_real_train = one_train.drop([\"index\",\"Unnamed: 0_x\",\"Unnamed: 0_y\",\"RUL_x\",\"RUL_y\",\"round_RUL\",\"id\",\"id_x\",\"id.1\",\"id.2\",\"time\",\"time_group\"], axis=1)\n",
    "X_real_test = one_test.drop([\"index\",\"Unnamed: 0_x\",\"Unnamed: 0_y\",\"RUL_x\",\"RUL_y\",\"round_RUL\",\"id\",\"id_x\",\"id.1\",\"id.2\",\"time\",\"time_group\"], axis=1)"
   ]
  },
  {
   "cell_type": "code",
   "execution_count": 256,
   "metadata": {},
   "outputs": [],
   "source": [
    "X_real_train = X_real_train[list(imp_df[imp_df[\"Total\"]>=2][\"Feature\"].values)]\n",
    "X_real_test = X_real_test[list(imp_df[imp_df[\"Total\"]>=2][\"Feature\"].values)]"
   ]
  },
  {
   "cell_type": "code",
   "execution_count": 257,
   "metadata": {},
   "outputs": [],
   "source": [
    "y_test_predict_all = lgb.predict(X_real_test)\n",
    "y_train_predict_all = lgb.predict(X_real_train)"
   ]
  },
  {
   "cell_type": "code",
   "execution_count": 258,
   "metadata": {},
   "outputs": [
    {
     "data": {
      "text/html": [
       "<div>\n",
       "<style scoped>\n",
       "    .dataframe tbody tr th:only-of-type {\n",
       "        vertical-align: middle;\n",
       "    }\n",
       "\n",
       "    .dataframe tbody tr th {\n",
       "        vertical-align: top;\n",
       "    }\n",
       "\n",
       "    .dataframe thead th {\n",
       "        text-align: right;\n",
       "    }\n",
       "</style>\n",
       "<table border=\"1\" class=\"dataframe\">\n",
       "  <thead>\n",
       "    <tr style=\"text-align: right;\">\n",
       "      <th></th>\n",
       "      <th>real group</th>\n",
       "      <th>pre_group(no time)</th>\n",
       "      <th>real_rul</th>\n",
       "      <th>time</th>\n",
       "      <th>pre_group(time)</th>\n",
       "    </tr>\n",
       "  </thead>\n",
       "  <tbody>\n",
       "    <tr>\n",
       "      <th>0</th>\n",
       "      <td>0.0</td>\n",
       "      <td>0.0</td>\n",
       "      <td>4270.09961</td>\n",
       "      <td>0.00000</td>\n",
       "      <td>0.0</td>\n",
       "    </tr>\n",
       "    <tr>\n",
       "      <th>1</th>\n",
       "      <td>0.0</td>\n",
       "      <td>0.0</td>\n",
       "      <td>4270.09922</td>\n",
       "      <td>0.00039</td>\n",
       "      <td>0.0</td>\n",
       "    </tr>\n",
       "    <tr>\n",
       "      <th>2</th>\n",
       "      <td>0.0</td>\n",
       "      <td>0.0</td>\n",
       "      <td>4270.09883</td>\n",
       "      <td>0.00078</td>\n",
       "      <td>0.0</td>\n",
       "    </tr>\n",
       "    <tr>\n",
       "      <th>3</th>\n",
       "      <td>0.0</td>\n",
       "      <td>0.0</td>\n",
       "      <td>4270.09844</td>\n",
       "      <td>0.00117</td>\n",
       "      <td>0.0</td>\n",
       "    </tr>\n",
       "    <tr>\n",
       "      <th>4</th>\n",
       "      <td>0.0</td>\n",
       "      <td>0.0</td>\n",
       "      <td>4270.09805</td>\n",
       "      <td>0.00156</td>\n",
       "      <td>0.0</td>\n",
       "    </tr>\n",
       "    <tr>\n",
       "      <th>...</th>\n",
       "      <td>...</td>\n",
       "      <td>...</td>\n",
       "      <td>...</td>\n",
       "      <td>...</td>\n",
       "      <td>...</td>\n",
       "    </tr>\n",
       "    <tr>\n",
       "      <th>109563</th>\n",
       "      <td>2.0</td>\n",
       "      <td>2.0</td>\n",
       "      <td>0.00156</td>\n",
       "      <td>4270.09805</td>\n",
       "      <td>2.0</td>\n",
       "    </tr>\n",
       "    <tr>\n",
       "      <th>109564</th>\n",
       "      <td>2.0</td>\n",
       "      <td>2.0</td>\n",
       "      <td>0.00117</td>\n",
       "      <td>4270.09844</td>\n",
       "      <td>2.0</td>\n",
       "    </tr>\n",
       "    <tr>\n",
       "      <th>109565</th>\n",
       "      <td>2.0</td>\n",
       "      <td>2.0</td>\n",
       "      <td>0.00078</td>\n",
       "      <td>4270.09883</td>\n",
       "      <td>2.0</td>\n",
       "    </tr>\n",
       "    <tr>\n",
       "      <th>109566</th>\n",
       "      <td>2.0</td>\n",
       "      <td>2.0</td>\n",
       "      <td>0.00039</td>\n",
       "      <td>4270.09922</td>\n",
       "      <td>2.0</td>\n",
       "    </tr>\n",
       "    <tr>\n",
       "      <th>109567</th>\n",
       "      <td>2.0</td>\n",
       "      <td>2.0</td>\n",
       "      <td>0.00000</td>\n",
       "      <td>4270.09961</td>\n",
       "      <td>2.0</td>\n",
       "    </tr>\n",
       "  </tbody>\n",
       "</table>\n",
       "<p>109568 rows × 5 columns</p>\n",
       "</div>"
      ],
      "text/plain": [
       "        real group  pre_group(no time)    real_rul        time  \\\n",
       "0              0.0                 0.0  4270.09961     0.00000   \n",
       "1              0.0                 0.0  4270.09922     0.00039   \n",
       "2              0.0                 0.0  4270.09883     0.00078   \n",
       "3              0.0                 0.0  4270.09844     0.00117   \n",
       "4              0.0                 0.0  4270.09805     0.00156   \n",
       "...            ...                 ...         ...         ...   \n",
       "109563         2.0                 2.0     0.00156  4270.09805   \n",
       "109564         2.0                 2.0     0.00117  4270.09844   \n",
       "109565         2.0                 2.0     0.00078  4270.09883   \n",
       "109566         2.0                 2.0     0.00039  4270.09922   \n",
       "109567         2.0                 2.0     0.00000  4270.09961   \n",
       "\n",
       "        pre_group(time)  \n",
       "0                   0.0  \n",
       "1                   0.0  \n",
       "2                   0.0  \n",
       "3                   0.0  \n",
       "4                   0.0  \n",
       "...                 ...  \n",
       "109563              2.0  \n",
       "109564              2.0  \n",
       "109565              2.0  \n",
       "109566              2.0  \n",
       "109567              2.0  \n",
       "\n",
       "[109568 rows x 5 columns]"
      ]
     },
     "execution_count": 258,
     "metadata": {},
     "output_type": "execute_result"
    }
   ],
   "source": [
    "ans_train"
   ]
  },
  {
   "cell_type": "code",
   "execution_count": 261,
   "metadata": {},
   "outputs": [],
   "source": [
    "ans_train[\"class 0 predict\"] = y_train_predict_all\n",
    "ans_test[\"class 0 predict\"] = y_test_predict_all"
   ]
  },
  {
   "cell_type": "markdown",
   "metadata": {},
   "source": [
    "#### 2. class 1"
   ]
  },
  {
   "cell_type": "code",
   "execution_count": 262,
   "metadata": {},
   "outputs": [],
   "source": [
    "X_train = one_train[one_train[\"time_group\"]==1].drop([\"index\",\"Unnamed: 0_x\",\"Unnamed: 0_y\",\"RUL_x\",\"RUL_y\",\"round_RUL\",\"id\",\"id_x\",\"id.1\",\"id.2\",\"time_group\"], axis=1)\n",
    "X_test = one_test[one_test[\"time_group\"]==1].drop([\"index\",\"Unnamed: 0_x\",\"Unnamed: 0_y\",\"RUL_x\",\"RUL_y\",\"round_RUL\",\"id\",\"id_x\",\"id.1\",\"id.2\",\"time_group\"], axis=1)\n",
    "y_train = one_train[one_train[\"time_group\"]==1][\"RUL_x\"]\n",
    "y_test = one_test[one_test[\"time_group\"]==1][\"RUL_x\"]"
   ]
  },
  {
   "cell_type": "code",
   "execution_count": 263,
   "metadata": {},
   "outputs": [],
   "source": [
    "X_train = X_train[list(imp_df[imp_df[\"Total\"]>=2][\"Feature\"].values)]\n",
    "X_test = X_test[list(imp_df[imp_df[\"Total\"]>=2][\"Feature\"].values)]"
   ]
  },
  {
   "cell_type": "code",
   "execution_count": 264,
   "metadata": {},
   "outputs": [
    {
     "data": {
      "text/plain": [
       "Index(['peak_temp', 'av_sum', 'Rtd sensor', 'sd_vert', 'sd_temp', 'sd_sum',\n",
       "       'sd_horiz', 'rms_sum', 'rms_horiz', 'peak_sum', 'f8', 'f16_vert',\n",
       "       'av_temp', 'skew_temp', 'rms_vert', 'rms_temp', 'kurt_temp', 'f8_vert',\n",
       "       'f40_vert', 'f40_sum', 'f32', 'f24', 'f16', 'clear_temp', 'peak_vert',\n",
       "       'imp_temp', 'f96_vert', 'f96_sum', 'f8_sum', 'f88_vert', 'f88_sum',\n",
       "       'f88', 'f80_vert', 'f80', 'f64', 'f48_vert', 'f40', 'f32_vert',\n",
       "       'f24_vert', 'f16_sum', 'f144', 'f128', 'f112', 'crest_temp',\n",
       "       'crest_sum', 'av_horiz'],\n",
       "      dtype='object')"
      ]
     },
     "execution_count": 264,
     "metadata": {},
     "output_type": "execute_result"
    }
   ],
   "source": [
    "X_train.columns"
   ]
  },
  {
   "cell_type": "code",
   "execution_count": 265,
   "metadata": {},
   "outputs": [
    {
     "data": {
      "text/plain": [
       "LGBMRegressor(boosting_type='gbdt', class_weight=None, colsample_bytree=1.0,\n",
       "              importance_type='split', learning_rate=0.1, max_depth=-1,\n",
       "              min_child_samples=20, min_child_weight=0.001, min_split_gain=0.0,\n",
       "              n_estimators=20, n_jobs=-1, num_leaves=31, objective=None,\n",
       "              random_state=None, reg_alpha=0.0, reg_lambda=0.5, silent=True,\n",
       "              subsample=1.0, subsample_for_bin=200000, subsample_freq=0)"
      ]
     },
     "execution_count": 265,
     "metadata": {},
     "output_type": "execute_result"
    }
   ],
   "source": [
    "lgb = LGBMRegressor(n_estimators=20,n_jobs=- 1,reg_lambda=0.5)\n",
    "lgb.fit(X_train, y_train)"
   ]
  },
  {
   "cell_type": "code",
   "execution_count": 266,
   "metadata": {},
   "outputs": [
    {
     "name": "stdout",
     "output_type": "stream",
     "text": [
      "MSE training: 1431.961, MSE testing: 154664.835\n",
      "RMSE training: 37.841, RMSE testing: 393.275\n",
      "MAE training: 32.626, MAE testing: 334.526\n"
     ]
    }
   ],
   "source": [
    "y_test_predict = lgb.predict(X_test)\n",
    "y_train_predict = lgb.predict(X_train)\n",
    "\n",
    "train_mse = mean_squared_error(y_train, y_train_predict)\n",
    "test_mse = mean_squared_error(y_test, y_test_predict)\n",
    "print('MSE training: %.3f, MSE testing: %.3f' % (\n",
    "      (train_mse), (test_mse)))\n",
    "print('RMSE training: %.3f, RMSE testing: %.3f' % (\n",
    "      (train_mse**0.5), (test_mse**0.5)))\n",
    "train_mape = mean_absolute_error(y_train, y_train_predict)\n",
    "test_mape = mean_absolute_error(y_test, y_test_predict)\n",
    "print('MAE training: %.3f, MAE testing: %.3f' % (\n",
    "      (train_mape), (test_mape)))"
   ]
  },
  {
   "cell_type": "code",
   "execution_count": 267,
   "metadata": {
    "scrolled": false
   },
   "outputs": [
    {
     "data": {
      "image/png": "[encoded data removed]",
      "text/plain": [
       "<Figure size 576x720 with 1 Axes>"
      ]
     },
     "metadata": {
      "needs_background": "light"
     },
     "output_type": "display_data"
    }
   ],
   "source": [
    "plot_features_weights('LGBMRegressor',rf.feature_importances_, X_train.columns)"
   ]
  },
  {
   "cell_type": "code",
   "execution_count": 268,
   "metadata": {},
   "outputs": [],
   "source": [
    "X_real_train = one_train.drop([\"index\",\"Unnamed: 0_x\",\"Unnamed: 0_y\",\"RUL_x\",\"RUL_y\",\"round_RUL\",\"id\",\"id_x\",\"id.1\",\"id.2\",\"time\",\"time_group\"], axis=1)\n",
    "X_real_test = one_test.drop([\"index\",\"Unnamed: 0_x\",\"Unnamed: 0_y\",\"RUL_x\",\"RUL_y\",\"round_RUL\",\"id\",\"id_x\",\"id.1\",\"id.2\",\"time\",\"time_group\"], axis=1)\n",
    "\n",
    "X_real_train = X_real_train[list(imp_df[imp_df[\"Total\"]>=2][\"Feature\"].values)]\n",
    "X_real_test = X_real_test[list(imp_df[imp_df[\"Total\"]>=2][\"Feature\"].values)]\n",
    "\n",
    "y_test_predict_all = lgb.predict(X_real_test)\n",
    "y_train_predict_all = lgb.predict(X_real_train)\n",
    "\n",
    "ans_train[\"class 1 predict\"] = y_train_predict_all\n",
    "ans_test[\"class 1 predict\"] = y_test_predict_all"
   ]
  },
  {
   "cell_type": "markdown",
   "metadata": {},
   "source": [
    "#### 3. class 2"
   ]
  },
  {
   "cell_type": "code",
   "execution_count": 269,
   "metadata": {},
   "outputs": [],
   "source": [
    "X_train = one_train[one_train[\"time_group\"]==2].drop([\"index\",\"Unnamed: 0_x\",\"Unnamed: 0_y\",\"RUL_x\",\"RUL_y\",\"round_RUL\",\"id\",\"id_x\",\"id.1\",\"id.2\",\"time_group\"], axis=1)\n",
    "X_test = one_test[one_test[\"time_group\"]==2].drop([\"index\",\"Unnamed: 0_x\",\"Unnamed: 0_y\",\"RUL_x\",\"RUL_y\",\"round_RUL\",\"id\",\"id_x\",\"id.1\",\"id.2\",\"time_group\"], axis=1)\n",
    "y_train = one_train[one_train[\"time_group\"]==2][\"RUL_x\"]\n",
    "y_test = one_test[one_test[\"time_group\"]==2][\"RUL_x\"]"
   ]
  },
  {
   "cell_type": "code",
   "execution_count": 270,
   "metadata": {},
   "outputs": [
    {
     "data": {
      "text/plain": [
       "Index(['peak_temp', 'av_sum', 'Rtd sensor', 'sd_vert', 'sd_temp', 'sd_sum',\n",
       "       'sd_horiz', 'rms_sum', 'rms_horiz', 'peak_sum', 'f8', 'f16_vert',\n",
       "       'av_temp', 'skew_temp', 'rms_vert', 'rms_temp', 'kurt_temp', 'f8_vert',\n",
       "       'f40_vert', 'f40_sum', 'f32', 'f24', 'f16', 'clear_temp', 'peak_vert',\n",
       "       'imp_temp', 'f96_vert', 'f96_sum', 'f8_sum', 'f88_vert', 'f88_sum',\n",
       "       'f88', 'f80_vert', 'f80', 'f64', 'f48_vert', 'f40', 'f32_vert',\n",
       "       'f24_vert', 'f16_sum', 'f144', 'f128', 'f112', 'crest_temp',\n",
       "       'crest_sum', 'av_horiz'],\n",
       "      dtype='object')"
      ]
     },
     "execution_count": 270,
     "metadata": {},
     "output_type": "execute_result"
    }
   ],
   "source": [
    "X_train = X_train[list(imp_df[imp_df[\"Total\"]>=2][\"Feature\"].values)]\n",
    "X_test = X_test[list(imp_df[imp_df[\"Total\"]>=2][\"Feature\"].values)]\n",
    "X_train.columns"
   ]
  },
  {
   "cell_type": "code",
   "execution_count": 271,
   "metadata": {},
   "outputs": [],
   "source": [
    "lgb = LGBMRegressor(n_estimators=20,n_jobs=- 1,reg_lambda=0.5)\n",
    "lgb.fit(X_train, y_train)\n",
    "y_test_predict = lgb.predict(X_test)\n",
    "y_train_predict = lgb.predict(X_train)"
   ]
  },
  {
   "cell_type": "code",
   "execution_count": 272,
   "metadata": {},
   "outputs": [
    {
     "name": "stdout",
     "output_type": "stream",
     "text": [
      "MSE training: 1529.195, MSE testing: 189826.229\n",
      "RMSE training: 39.105, RMSE testing: 435.691\n",
      "MAE training: 33.175, MAE testing: 361.330\n"
     ]
    }
   ],
   "source": [
    "train_mse = mean_squared_error(y_train, y_train_predict)\n",
    "test_mse = mean_squared_error(y_test, y_test_predict)\n",
    "print('MSE training: %.3f, MSE testing: %.3f' % (\n",
    "      (train_mse), (test_mse)))\n",
    "print('RMSE training: %.3f, RMSE testing: %.3f' % (\n",
    "      (train_mse**0.5), (test_mse**0.5)))\n",
    "train_mape = mean_absolute_error(y_train, y_train_predict)\n",
    "test_mape = mean_absolute_error(y_test, y_test_predict)\n",
    "print('MAE training: %.3f, MAE testing: %.3f' % (\n",
    "      (train_mape), (test_mape)))"
   ]
  },
  {
   "cell_type": "code",
   "execution_count": 273,
   "metadata": {},
   "outputs": [
    {
     "data": {
      "image/png": "[encoded data removed]",
      "text/plain": [
       "<Figure size 576x720 with 1 Axes>"
      ]
     },
     "metadata": {
      "needs_background": "light"
     },
     "output_type": "display_data"
    }
   ],
   "source": [
    "plot_features_weights('LGBMRegressor',rf.feature_importances_, X_train.columns)"
   ]
  },
  {
   "cell_type": "code",
   "execution_count": 274,
   "metadata": {},
   "outputs": [],
   "source": [
    "X_real_train = one_train.drop([\"index\",\"Unnamed: 0_x\",\"Unnamed: 0_y\",\"RUL_x\",\"RUL_y\",\"round_RUL\",\"id\",\"id_x\",\"id.1\",\"id.2\",\"time\",\"time_group\"], axis=1)\n",
    "X_real_test = one_test.drop([\"index\",\"Unnamed: 0_x\",\"Unnamed: 0_y\",\"RUL_x\",\"RUL_y\",\"round_RUL\",\"id\",\"id_x\",\"id.1\",\"id.2\",\"time\",\"time_group\"], axis=1)\n",
    "\n",
    "X_real_train = X_real_train[list(imp_df[imp_df[\"Total\"]>=2][\"Feature\"].values)]\n",
    "X_real_test = X_real_test[list(imp_df[imp_df[\"Total\"]>=2][\"Feature\"].values)]\n",
    "\n",
    "y_test_predict_all = lgb.predict(X_real_test)\n",
    "y_train_predict_all = lgb.predict(X_real_train)\n",
    "\n",
    "ans_train[\"class 2 predict\"] = y_train_predict_all\n",
    "ans_test[\"class 2 predict\"] = y_test_predict_all"
   ]
  },
  {
   "cell_type": "code",
   "execution_count": 275,
   "metadata": {},
   "outputs": [
    {
     "data": {
      "text/html": [
       "<div>\n",
       "<style scoped>\n",
       "    .dataframe tbody tr th:only-of-type {\n",
       "        vertical-align: middle;\n",
       "    }\n",
       "\n",
       "    .dataframe tbody tr th {\n",
       "        vertical-align: top;\n",
       "    }\n",
       "\n",
       "    .dataframe thead th {\n",
       "        text-align: right;\n",
       "    }\n",
       "</style>\n",
       "<table border=\"1\" class=\"dataframe\">\n",
       "  <thead>\n",
       "    <tr style=\"text-align: right;\">\n",
       "      <th></th>\n",
       "      <th>real group</th>\n",
       "      <th>pre_group(no time)</th>\n",
       "      <th>real_rul</th>\n",
       "      <th>time</th>\n",
       "      <th>pre_group(time)</th>\n",
       "      <th>class 0 predict</th>\n",
       "      <th>class 1 predict</th>\n",
       "      <th>class 2 predict</th>\n",
       "    </tr>\n",
       "  </thead>\n",
       "  <tbody>\n",
       "    <tr>\n",
       "      <th>0</th>\n",
       "      <td>0.0</td>\n",
       "      <td>0.0</td>\n",
       "      <td>4270.09961</td>\n",
       "      <td>0.00000</td>\n",
       "      <td>0.0</td>\n",
       "      <td>4127.630675</td>\n",
       "      <td>2058.180919</td>\n",
       "      <td>839.958186</td>\n",
       "    </tr>\n",
       "    <tr>\n",
       "      <th>1</th>\n",
       "      <td>0.0</td>\n",
       "      <td>0.0</td>\n",
       "      <td>4270.09922</td>\n",
       "      <td>0.00039</td>\n",
       "      <td>0.0</td>\n",
       "      <td>4127.630675</td>\n",
       "      <td>2058.180919</td>\n",
       "      <td>839.958186</td>\n",
       "    </tr>\n",
       "    <tr>\n",
       "      <th>2</th>\n",
       "      <td>0.0</td>\n",
       "      <td>0.0</td>\n",
       "      <td>4270.09883</td>\n",
       "      <td>0.00078</td>\n",
       "      <td>0.0</td>\n",
       "      <td>4127.630675</td>\n",
       "      <td>2058.180919</td>\n",
       "      <td>839.958186</td>\n",
       "    </tr>\n",
       "    <tr>\n",
       "      <th>3</th>\n",
       "      <td>0.0</td>\n",
       "      <td>0.0</td>\n",
       "      <td>4270.09844</td>\n",
       "      <td>0.00117</td>\n",
       "      <td>0.0</td>\n",
       "      <td>4127.630675</td>\n",
       "      <td>2058.180919</td>\n",
       "      <td>839.958186</td>\n",
       "    </tr>\n",
       "    <tr>\n",
       "      <th>4</th>\n",
       "      <td>0.0</td>\n",
       "      <td>0.0</td>\n",
       "      <td>4270.09805</td>\n",
       "      <td>0.00156</td>\n",
       "      <td>0.0</td>\n",
       "      <td>4127.630675</td>\n",
       "      <td>2058.180919</td>\n",
       "      <td>839.958186</td>\n",
       "    </tr>\n",
       "    <tr>\n",
       "      <th>...</th>\n",
       "      <td>...</td>\n",
       "      <td>...</td>\n",
       "      <td>...</td>\n",
       "      <td>...</td>\n",
       "      <td>...</td>\n",
       "      <td>...</td>\n",
       "      <td>...</td>\n",
       "      <td>...</td>\n",
       "    </tr>\n",
       "    <tr>\n",
       "      <th>109563</th>\n",
       "      <td>2.0</td>\n",
       "      <td>2.0</td>\n",
       "      <td>0.00156</td>\n",
       "      <td>4270.09805</td>\n",
       "      <td>2.0</td>\n",
       "      <td>2282.402450</td>\n",
       "      <td>1140.180760</td>\n",
       "      <td>76.288239</td>\n",
       "    </tr>\n",
       "    <tr>\n",
       "      <th>109564</th>\n",
       "      <td>2.0</td>\n",
       "      <td>2.0</td>\n",
       "      <td>0.00117</td>\n",
       "      <td>4270.09844</td>\n",
       "      <td>2.0</td>\n",
       "      <td>2282.402450</td>\n",
       "      <td>1140.180760</td>\n",
       "      <td>76.288239</td>\n",
       "    </tr>\n",
       "    <tr>\n",
       "      <th>109565</th>\n",
       "      <td>2.0</td>\n",
       "      <td>2.0</td>\n",
       "      <td>0.00078</td>\n",
       "      <td>4270.09883</td>\n",
       "      <td>2.0</td>\n",
       "      <td>2282.402450</td>\n",
       "      <td>1140.180760</td>\n",
       "      <td>76.288239</td>\n",
       "    </tr>\n",
       "    <tr>\n",
       "      <th>109566</th>\n",
       "      <td>2.0</td>\n",
       "      <td>2.0</td>\n",
       "      <td>0.00039</td>\n",
       "      <td>4270.09922</td>\n",
       "      <td>2.0</td>\n",
       "      <td>2282.402450</td>\n",
       "      <td>1140.180760</td>\n",
       "      <td>76.288239</td>\n",
       "    </tr>\n",
       "    <tr>\n",
       "      <th>109567</th>\n",
       "      <td>2.0</td>\n",
       "      <td>2.0</td>\n",
       "      <td>0.00000</td>\n",
       "      <td>4270.09961</td>\n",
       "      <td>2.0</td>\n",
       "      <td>2282.402450</td>\n",
       "      <td>1140.180760</td>\n",
       "      <td>76.288239</td>\n",
       "    </tr>\n",
       "  </tbody>\n",
       "</table>\n",
       "<p>109568 rows × 8 columns</p>\n",
       "</div>"
      ],
      "text/plain": [
       "        real group  pre_group(no time)    real_rul        time  \\\n",
       "0              0.0                 0.0  4270.09961     0.00000   \n",
       "1              0.0                 0.0  4270.09922     0.00039   \n",
       "2              0.0                 0.0  4270.09883     0.00078   \n",
       "3              0.0                 0.0  4270.09844     0.00117   \n",
       "4              0.0                 0.0  4270.09805     0.00156   \n",
       "...            ...                 ...         ...         ...   \n",
       "109563         2.0                 2.0     0.00156  4270.09805   \n",
       "109564         2.0                 2.0     0.00117  4270.09844   \n",
       "109565         2.0                 2.0     0.00078  4270.09883   \n",
       "109566         2.0                 2.0     0.00039  4270.09922   \n",
       "109567         2.0                 2.0     0.00000  4270.09961   \n",
       "\n",
       "        pre_group(time)  class 0 predict  class 1 predict  class 2 predict  \n",
       "0                   0.0      4127.630675      2058.180919       839.958186  \n",
       "1                   0.0      4127.630675      2058.180919       839.958186  \n",
       "2                   0.0      4127.630675      2058.180919       839.958186  \n",
       "3                   0.0      4127.630675      2058.180919       839.958186  \n",
       "4                   0.0      4127.630675      2058.180919       839.958186  \n",
       "...                 ...              ...              ...              ...  \n",
       "109563              2.0      2282.402450      1140.180760        76.288239  \n",
       "109564              2.0      2282.402450      1140.180760        76.288239  \n",
       "109565              2.0      2282.402450      1140.180760        76.288239  \n",
       "109566              2.0      2282.402450      1140.180760        76.288239  \n",
       "109567              2.0      2282.402450      1140.180760        76.288239  \n",
       "\n",
       "[109568 rows x 8 columns]"
      ]
     },
     "execution_count": 275,
     "metadata": {},
     "output_type": "execute_result"
    }
   ],
   "source": [
    "ans_train"
   ]
  },
  {
   "cell_type": "code",
   "execution_count": 276,
   "metadata": {},
   "outputs": [],
   "source": [
    "ans_train = ans_train.reset_index()\n",
    "ans_test = ans_test.reset_index()"
   ]
  },
  {
   "cell_type": "code",
   "execution_count": 277,
   "metadata": {},
   "outputs": [],
   "source": [
    "ans_train.loc[ans_train[\"pre_group(no time)\"]==0,\"final predict\"] = ans_train.loc[ans_train[\"pre_group(no time)\"]==0,\"class 0 predict\"]\n",
    "ans_train.loc[ans_train[\"pre_group(no time)\"]==1,\"final predict\"] = ans_train.loc[ans_train[\"pre_group(no time)\"]==1,\"class 1 predict\"]\n",
    "ans_train.loc[ans_train[\"pre_group(no time)\"]==2,\"final predict\"] = ans_train.loc[ans_train[\"pre_group(no time)\"]==2,\"class 2 predict\"]"
   ]
  },
  {
   "cell_type": "code",
   "execution_count": 278,
   "metadata": {},
   "outputs": [],
   "source": [
    "ans_test.loc[ans_test[\"pre_group(no time)\"]==0,\"final predict\"] = ans_test.loc[ans_test[\"pre_group(no time)\"]==0,\"class 0 predict\"]\n",
    "ans_test.loc[ans_test[\"pre_group(no time)\"]==1,\"final predict\"] = ans_test.loc[ans_test[\"pre_group(no time)\"]==1,\"class 1 predict\"]\n",
    "ans_test.loc[ans_test[\"pre_group(no time)\"]==2,\"final predict\"] = ans_test.loc[ans_test[\"pre_group(no time)\"]==2,\"class 2 predict\"]"
   ]
  },
  {
   "cell_type": "code",
   "execution_count": 279,
   "metadata": {},
   "outputs": [
    {
     "data": {
      "text/html": [
       "<div>\n",
       "<style scoped>\n",
       "    .dataframe tbody tr th:only-of-type {\n",
       "        vertical-align: middle;\n",
       "    }\n",
       "\n",
       "    .dataframe tbody tr th {\n",
       "        vertical-align: top;\n",
       "    }\n",
       "\n",
       "    .dataframe thead th {\n",
       "        text-align: right;\n",
       "    }\n",
       "</style>\n",
       "<table border=\"1\" class=\"dataframe\">\n",
       "  <thead>\n",
       "    <tr style=\"text-align: right;\">\n",
       "      <th></th>\n",
       "      <th>index</th>\n",
       "      <th>real group</th>\n",
       "      <th>pre_group(no time)</th>\n",
       "      <th>real_rul</th>\n",
       "      <th>time</th>\n",
       "      <th>pre_group(time)</th>\n",
       "      <th>class 0 predict</th>\n",
       "      <th>class 1 predict</th>\n",
       "      <th>class 2 predict</th>\n",
       "      <th>final predict</th>\n",
       "    </tr>\n",
       "  </thead>\n",
       "  <tbody>\n",
       "    <tr>\n",
       "      <th>0</th>\n",
       "      <td>0</td>\n",
       "      <td>0.0</td>\n",
       "      <td>0.0</td>\n",
       "      <td>4270.09961</td>\n",
       "      <td>0.00000</td>\n",
       "      <td>0.0</td>\n",
       "      <td>4127.630675</td>\n",
       "      <td>2058.180919</td>\n",
       "      <td>839.958186</td>\n",
       "      <td>4127.630675</td>\n",
       "    </tr>\n",
       "    <tr>\n",
       "      <th>1</th>\n",
       "      <td>1</td>\n",
       "      <td>0.0</td>\n",
       "      <td>0.0</td>\n",
       "      <td>4270.09922</td>\n",
       "      <td>0.00039</td>\n",
       "      <td>0.0</td>\n",
       "      <td>4127.630675</td>\n",
       "      <td>2058.180919</td>\n",
       "      <td>839.958186</td>\n",
       "      <td>4127.630675</td>\n",
       "    </tr>\n",
       "    <tr>\n",
       "      <th>2</th>\n",
       "      <td>2</td>\n",
       "      <td>0.0</td>\n",
       "      <td>0.0</td>\n",
       "      <td>4270.09883</td>\n",
       "      <td>0.00078</td>\n",
       "      <td>0.0</td>\n",
       "      <td>4127.630675</td>\n",
       "      <td>2058.180919</td>\n",
       "      <td>839.958186</td>\n",
       "      <td>4127.630675</td>\n",
       "    </tr>\n",
       "    <tr>\n",
       "      <th>3</th>\n",
       "      <td>3</td>\n",
       "      <td>0.0</td>\n",
       "      <td>0.0</td>\n",
       "      <td>4270.09844</td>\n",
       "      <td>0.00117</td>\n",
       "      <td>0.0</td>\n",
       "      <td>4127.630675</td>\n",
       "      <td>2058.180919</td>\n",
       "      <td>839.958186</td>\n",
       "      <td>4127.630675</td>\n",
       "    </tr>\n",
       "    <tr>\n",
       "      <th>4</th>\n",
       "      <td>4</td>\n",
       "      <td>0.0</td>\n",
       "      <td>0.0</td>\n",
       "      <td>4270.09805</td>\n",
       "      <td>0.00156</td>\n",
       "      <td>0.0</td>\n",
       "      <td>4127.630675</td>\n",
       "      <td>2058.180919</td>\n",
       "      <td>839.958186</td>\n",
       "      <td>4127.630675</td>\n",
       "    </tr>\n",
       "    <tr>\n",
       "      <th>...</th>\n",
       "      <td>...</td>\n",
       "      <td>...</td>\n",
       "      <td>...</td>\n",
       "      <td>...</td>\n",
       "      <td>...</td>\n",
       "      <td>...</td>\n",
       "      <td>...</td>\n",
       "      <td>...</td>\n",
       "      <td>...</td>\n",
       "      <td>...</td>\n",
       "    </tr>\n",
       "    <tr>\n",
       "      <th>109563</th>\n",
       "      <td>109563</td>\n",
       "      <td>2.0</td>\n",
       "      <td>2.0</td>\n",
       "      <td>0.00156</td>\n",
       "      <td>4270.09805</td>\n",
       "      <td>2.0</td>\n",
       "      <td>2282.402450</td>\n",
       "      <td>1140.180760</td>\n",
       "      <td>76.288239</td>\n",
       "      <td>76.288239</td>\n",
       "    </tr>\n",
       "    <tr>\n",
       "      <th>109564</th>\n",
       "      <td>109564</td>\n",
       "      <td>2.0</td>\n",
       "      <td>2.0</td>\n",
       "      <td>0.00117</td>\n",
       "      <td>4270.09844</td>\n",
       "      <td>2.0</td>\n",
       "      <td>2282.402450</td>\n",
       "      <td>1140.180760</td>\n",
       "      <td>76.288239</td>\n",
       "      <td>76.288239</td>\n",
       "    </tr>\n",
       "    <tr>\n",
       "      <th>109565</th>\n",
       "      <td>109565</td>\n",
       "      <td>2.0</td>\n",
       "      <td>2.0</td>\n",
       "      <td>0.00078</td>\n",
       "      <td>4270.09883</td>\n",
       "      <td>2.0</td>\n",
       "      <td>2282.402450</td>\n",
       "      <td>1140.180760</td>\n",
       "      <td>76.288239</td>\n",
       "      <td>76.288239</td>\n",
       "    </tr>\n",
       "    <tr>\n",
       "      <th>109566</th>\n",
       "      <td>109566</td>\n",
       "      <td>2.0</td>\n",
       "      <td>2.0</td>\n",
       "      <td>0.00039</td>\n",
       "      <td>4270.09922</td>\n",
       "      <td>2.0</td>\n",
       "      <td>2282.402450</td>\n",
       "      <td>1140.180760</td>\n",
       "      <td>76.288239</td>\n",
       "      <td>76.288239</td>\n",
       "    </tr>\n",
       "    <tr>\n",
       "      <th>109567</th>\n",
       "      <td>109567</td>\n",
       "      <td>2.0</td>\n",
       "      <td>2.0</td>\n",
       "      <td>0.00000</td>\n",
       "      <td>4270.09961</td>\n",
       "      <td>2.0</td>\n",
       "      <td>2282.402450</td>\n",
       "      <td>1140.180760</td>\n",
       "      <td>76.288239</td>\n",
       "      <td>76.288239</td>\n",
       "    </tr>\n",
       "  </tbody>\n",
       "</table>\n",
       "<p>109568 rows × 10 columns</p>\n",
       "</div>"
      ],
      "text/plain": [
       "         index  real group  pre_group(no time)    real_rul        time  \\\n",
       "0            0         0.0                 0.0  4270.09961     0.00000   \n",
       "1            1         0.0                 0.0  4270.09922     0.00039   \n",
       "2            2         0.0                 0.0  4270.09883     0.00078   \n",
       "3            3         0.0                 0.0  4270.09844     0.00117   \n",
       "4            4         0.0                 0.0  4270.09805     0.00156   \n",
       "...        ...         ...                 ...         ...         ...   \n",
       "109563  109563         2.0                 2.0     0.00156  4270.09805   \n",
       "109564  109564         2.0                 2.0     0.00117  4270.09844   \n",
       "109565  109565         2.0                 2.0     0.00078  4270.09883   \n",
       "109566  109566         2.0                 2.0     0.00039  4270.09922   \n",
       "109567  109567         2.0                 2.0     0.00000  4270.09961   \n",
       "\n",
       "        pre_group(time)  class 0 predict  class 1 predict  class 2 predict  \\\n",
       "0                   0.0      4127.630675      2058.180919       839.958186   \n",
       "1                   0.0      4127.630675      2058.180919       839.958186   \n",
       "2                   0.0      4127.630675      2058.180919       839.958186   \n",
       "3                   0.0      4127.630675      2058.180919       839.958186   \n",
       "4                   0.0      4127.630675      2058.180919       839.958186   \n",
       "...                 ...              ...              ...              ...   \n",
       "109563              2.0      2282.402450      1140.180760        76.288239   \n",
       "109564              2.0      2282.402450      1140.180760        76.288239   \n",
       "109565              2.0      2282.402450      1140.180760        76.288239   \n",
       "109566              2.0      2282.402450      1140.180760        76.288239   \n",
       "109567              2.0      2282.402450      1140.180760        76.288239   \n",
       "\n",
       "        final predict  \n",
       "0         4127.630675  \n",
       "1         4127.630675  \n",
       "2         4127.630675  \n",
       "3         4127.630675  \n",
       "4         4127.630675  \n",
       "...               ...  \n",
       "109563      76.288239  \n",
       "109564      76.288239  \n",
       "109565      76.288239  \n",
       "109566      76.288239  \n",
       "109567      76.288239  \n",
       "\n",
       "[109568 rows x 10 columns]"
      ]
     },
     "execution_count": 279,
     "metadata": {},
     "output_type": "execute_result"
    }
   ],
   "source": [
    "ans_train"
   ]
  },
  {
   "cell_type": "code",
   "execution_count": 280,
   "metadata": {},
   "outputs": [],
   "source": [
    "ans_train.loc[ans_train[\"pre_group(time)\"]==0,\"final predict(time)\"] = ans_train.loc[ans_train[\"pre_group(time)\"]==0,\"class 0 predict\"]\n",
    "ans_train.loc[ans_train[\"pre_group(time)\"]==1,\"final predict(time)\"] = ans_train.loc[ans_train[\"pre_group(time)\"]==1,\"class 1 predict\"]\n",
    "ans_train.loc[ans_train[\"pre_group(time)\"]==2,\"final predict(time)\"] = ans_train.loc[ans_train[\"pre_group(time)\"]==2,\"class 2 predict\"]"
   ]
  },
  {
   "cell_type": "code",
   "execution_count": 281,
   "metadata": {},
   "outputs": [],
   "source": [
    "ans_test.loc[ans_test[\"pre_group(time)\"]==0,\"final predict(time)\"] = ans_test.loc[ans_test[\"pre_group(time)\"]==0,\"class 0 predict\"]\n",
    "ans_test.loc[ans_test[\"pre_group(time)\"]==1,\"final predict(time)\"] = ans_test.loc[ans_test[\"pre_group(time)\"]==1,\"class 1 predict\"]\n",
    "ans_test.loc[ans_test[\"pre_group(time)\"]==2,\"final predict(time)\"] = ans_test.loc[ans_test[\"pre_group(time)\"]==2,\"class 2 predict\"]"
   ]
  },
  {
   "cell_type": "code",
   "execution_count": 284,
   "metadata": {},
   "outputs": [],
   "source": [
    "ans_test = ans_test.fillna(method=\"ffill\")"
   ]
  },
  {
   "cell_type": "code",
   "execution_count": 285,
   "metadata": {},
   "outputs": [
    {
     "name": "stdout",
     "output_type": "stream",
     "text": [
      "MSE training: 3785.057, MSE testing: 1975315.478\n",
      "RMSE training: 61.523, RMSE testing: 1405.459\n",
      "MAE training: 49.545, MAE testing: 1111.956\n"
     ]
    }
   ],
   "source": [
    "train_mse = mean_squared_error(ans_train[\"real_rul\"], ans_train[\"final predict\"])\n",
    "test_mse = mean_squared_error(ans_test[\"real_rul\"], ans_test[\"final predict\"])\n",
    "print('MSE training: %.3f, MSE testing: %.3f' % (\n",
    "      (train_mse), (test_mse)))\n",
    "print('RMSE training: %.3f, RMSE testing: %.3f' % (\n",
    "      (train_mse**0.5), (test_mse**0.5)))\n",
    "train_mape = mean_absolute_error(ans_train[\"real_rul\"], ans_train[\"final predict\"])\n",
    "test_mape = mean_absolute_error(ans_test[\"real_rul\"], ans_test[\"final predict\"])\n",
    "print('MAE training: %.3f, MAE testing: %.3f' % (\n",
    "      (train_mape), (test_mape)))"
   ]
  },
  {
   "cell_type": "code",
   "execution_count": 286,
   "metadata": {},
   "outputs": [
    {
     "name": "stdout",
     "output_type": "stream",
     "text": [
      "MSE training: 3579.140, MSE testing: 311851.724\n",
      "RMSE training: 59.826, RMSE testing: 558.437\n",
      "MAE training: 49.034, MAE testing: 463.676\n"
     ]
    }
   ],
   "source": [
    "train_mse = mean_squared_error(ans_train[\"real_rul\"], ans_train[\"final predict(time)\"])\n",
    "test_mse = mean_squared_error(ans_test[\"real_rul\"], ans_test[\"final predict(time)\"])\n",
    "print('MSE training: %.3f, MSE testing: %.3f' % (\n",
    "      (train_mse), (test_mse)))\n",
    "print('RMSE training: %.3f, RMSE testing: %.3f' % (\n",
    "      (train_mse**0.5), (test_mse**0.5)))\n",
    "train_mape = mean_absolute_error(ans_train[\"real_rul\"], ans_train[\"final predict(time)\"])\n",
    "test_mape = mean_absolute_error(ans_test[\"real_rul\"], ans_test[\"final predict(time)\"])\n",
    "print('MAE training: %.3f, MAE testing: %.3f' % (\n",
    "      (train_mape), (test_mape)))"
   ]
  },
  {
   "cell_type": "code",
   "execution_count": 287,
   "metadata": {},
   "outputs": [
    {
     "data": {
      "text/plain": [
       "Index(['peak_temp', 'av_sum', 'Rtd sensor', 'sd_vert', 'sd_temp', 'sd_sum',\n",
       "       'sd_horiz', 'rms_sum', 'rms_horiz', 'peak_sum', 'f8', 'f16_vert',\n",
       "       'av_temp', 'skew_temp', 'rms_vert', 'rms_temp', 'kurt_temp', 'f8_vert',\n",
       "       'f40_vert', 'f40_sum', 'f32', 'f24', 'f16', 'clear_temp', 'peak_vert',\n",
       "       'imp_temp', 'f96_vert', 'f96_sum', 'f8_sum', 'f88_vert', 'f88_sum',\n",
       "       'f88', 'f80_vert', 'f80', 'f64', 'f48_vert', 'f40', 'f32_vert',\n",
       "       'f24_vert', 'f16_sum', 'f144', 'f128', 'f112', 'crest_temp',\n",
       "       'crest_sum', 'av_horiz'],\n",
       "      dtype='object')"
      ]
     },
     "execution_count": 287,
     "metadata": {},
     "output_type": "execute_result"
    }
   ],
   "source": [
    "X_train = one_train.drop([\"index\",\"Unnamed: 0_x\",\"Unnamed: 0_y\",\"RUL_x\",\"RUL_y\",\"round_RUL\",\"id\",\"id_x\",\"id.1\",\"id.2\",\"time_group\"], axis=1)\n",
    "X_test = one_test.drop([\"index\",\"Unnamed: 0_x\",\"Unnamed: 0_y\",\"RUL_x\",\"RUL_y\",\"round_RUL\",\"id\",\"id_x\",\"id.1\",\"id.2\",\"time_group\"], axis=1)\n",
    "y_train = one_train[\"RUL_x\"]\n",
    "y_test = one_test[\"RUL_x\"]\n",
    "\n",
    "X_train = X_train[list(imp_df[imp_df[\"Total\"]>=2][\"Feature\"].values)]\n",
    "X_test = X_test[list(imp_df[imp_df[\"Total\"]>=2][\"Feature\"].values)]\n",
    "\n",
    "X_train.columns"
   ]
  },
  {
   "cell_type": "code",
   "execution_count": 288,
   "metadata": {},
   "outputs": [
    {
     "name": "stdout",
     "output_type": "stream",
     "text": [
      "MSE training: 23570.222, MSE testing: 1798134.304\n",
      "RMSE training: 153.526, RMSE testing: 1340.945\n",
      "MAE training: 130.708, MAE testing: 1078.326\n"
     ]
    }
   ],
   "source": [
    "lgb = LGBMRegressor(n_estimators=20,n_jobs=- 1,reg_lambda=0.5)\n",
    "lgb.fit(X_train, y_train)\n",
    "\n",
    "y_test_predict = lgb.predict(X_test)\n",
    "y_train_predict = lgb.predict(X_train)\n",
    "\n",
    "train_mse = mean_squared_error(y_train, y_train_predict)\n",
    "test_mse = mean_squared_error(y_test, y_test_predict)\n",
    "print('MSE training: %.3f, MSE testing: %.3f' % (\n",
    "      (train_mse), (test_mse)))\n",
    "print('RMSE training: %.3f, RMSE testing: %.3f' % (\n",
    "      (train_mse**0.5), (test_mse**0.5)))\n",
    "train_mape = mean_absolute_error(y_train, y_train_predict)\n",
    "test_mape = mean_absolute_error(y_test, y_test_predict)\n",
    "print('MAE training: %.3f, MAE testing: %.3f' % (\n",
    "      (train_mape), (test_mape)))"
   ]
  },
  {
   "cell_type": "code",
   "execution_count": 289,
   "metadata": {},
   "outputs": [
    {
     "data": {
      "image/png": "[encoded data removed]",
      "text/plain": [
       "<Figure size 576x720 with 1 Axes>"
      ]
     },
     "metadata": {
      "needs_background": "light"
     },
     "output_type": "display_data"
    }
   ],
   "source": [
    "plot_features_weights('LGBMRegressor',rf.feature_importances_, X_train.columns)"
   ]
  },
  {
   "cell_type": "code",
   "execution_count": null,
   "metadata": {},
   "outputs": [],
   "source": []
  },
  {
   "cell_type": "code",
   "execution_count": null,
   "metadata": {},
   "outputs": [],
   "source": []
  },
  {
   "cell_type": "code",
   "execution_count": null,
   "metadata": {},
   "outputs": [],
   "source": []
  },
  {
   "cell_type": "code",
   "execution_count": null,
   "metadata": {},
   "outputs": [],
   "source": []
  },
  {
   "cell_type": "code",
   "execution_count": null,
   "metadata": {},
   "outputs": [],
   "source": []
  },
  {
   "cell_type": "code",
   "execution_count": null,
   "metadata": {},
   "outputs": [],
   "source": []
  },
  {
   "cell_type": "code",
   "execution_count": null,
   "metadata": {},
   "outputs": [],
   "source": []
  },
  {
   "cell_type": "code",
   "execution_count": 49,
   "metadata": {},
   "outputs": [],
   "source": [
    "ans_df = pd.DataFrame(y_train)"
   ]
  },
  {
   "cell_type": "code",
   "execution_count": 50,
   "metadata": {},
   "outputs": [],
   "source": [
    "ans_df[\"rf_predict\"] = y_train_predict"
   ]
  },
  {
   "cell_type": "code",
   "execution_count": 67,
   "metadata": {},
   "outputs": [
    {
     "name": "stdout",
     "output_type": "stream",
     "text": [
      "MAE training: 4385.278, MAE testing: 5756.707\n"
     ]
    }
   ],
   "source": [
    "\n",
    "train_mape = mean_absolute_error(y_train, y_train_predict)\n",
    "test_mape = mean_absolute_error(y_test, y_test_predict)\n",
    "print('MAE training: %.3f, MAE testing: %.3f' % (\n",
    "      (train_mape), (test_mape)))"
   ]
  },
  {
   "cell_type": "code",
   "execution_count": 73,
   "metadata": {},
   "outputs": [
    {
     "name": "stdout",
     "output_type": "stream",
     "text": [
      "MAE training: 1040.631, MAE testing: 5756.707\n"
     ]
    }
   ],
   "source": [
    "y_train = ans_df[ans_df[\"RUL\"]<500][\"RUL\"]\n",
    "y_train_predict = ans_df[ans_df[\"RUL\"]<500][\"rf_predict\"]\n",
    "train_mape = mean_absolute_error(y_train, y_train_predict)\n",
    "test_mape = mean_absolute_error(y_test, y_test_predict)\n",
    "print('MAE training: %.3f, MAE testing: %.3f' % (\n",
    "      (train_mape), (test_mape)))"
   ]
  },
  {
   "cell_type": "code",
   "execution_count": 63,
   "metadata": {},
   "outputs": [
    {
     "name": "stdout",
     "output_type": "stream",
     "text": [
      "MAE training: 3904.573, MAE testing: 5756.707\n"
     ]
    }
   ],
   "source": [
    "y_train = ans_df[ans_df[\"RUL\"]<10000][\"RUL\"]\n",
    "y_train_predict = ans_df[ans_df[\"RUL\"]<10000][\"rf_predict\"]\n",
    "train_mape = mean_absolute_error(y_train, y_train_predict)\n",
    "test_mape = mean_absolute_error(y_test, y_test_predict)\n",
    "print('MAE training: %.3f, MAE testing: %.3f' % (\n",
    "      (train_mape), (test_mape)))"
   ]
  },
  {
   "cell_type": "code",
   "execution_count": 68,
   "metadata": {},
   "outputs": [
    {
     "name": "stdout",
     "output_type": "stream",
     "text": [
      "MAE training: 4883.032, MAE testing: 5756.707\n"
     ]
    }
   ],
   "source": [
    "y_train = ans_df[ans_df[\"RUL\"]>10000][\"RUL\"]\n",
    "y_train_predict = ans_df[ans_df[\"RUL\"]>10000][\"rf_predict\"]\n",
    "train_mape = mean_absolute_error(y_train, y_train_predict)\n",
    "test_mape = mean_absolute_error(y_test, y_test_predict)\n",
    "print('MAE training: %.3f, MAE testing: %.3f' % (\n",
    "      (train_mape), (test_mape)))"
   ]
  },
  {
   "cell_type": "code",
   "execution_count": 61,
   "metadata": {},
   "outputs": [
    {
     "data": {
      "text/html": [
       "<div>\n",
       "<style scoped>\n",
       "    .dataframe tbody tr th:only-of-type {\n",
       "        vertical-align: middle;\n",
       "    }\n",
       "\n",
       "    .dataframe tbody tr th {\n",
       "        vertical-align: top;\n",
       "    }\n",
       "\n",
       "    .dataframe thead th {\n",
       "        text-align: right;\n",
       "    }\n",
       "</style>\n",
       "<table border=\"1\" class=\"dataframe\">\n",
       "  <thead>\n",
       "    <tr style=\"text-align: right;\">\n",
       "      <th></th>\n",
       "      <th>RUL</th>\n",
       "      <th>rf_predict</th>\n",
       "    </tr>\n",
       "  </thead>\n",
       "  <tbody>\n",
       "    <tr>\n",
       "      <th>0</th>\n",
       "      <td>28020.099605</td>\n",
       "      <td>15356.027831</td>\n",
       "    </tr>\n",
       "    <tr>\n",
       "      <th>1</th>\n",
       "      <td>28020.099214</td>\n",
       "      <td>15176.099507</td>\n",
       "    </tr>\n",
       "    <tr>\n",
       "      <th>2</th>\n",
       "      <td>28020.098824</td>\n",
       "      <td>16848.654019</td>\n",
       "    </tr>\n",
       "    <tr>\n",
       "      <th>3</th>\n",
       "      <td>28020.098433</td>\n",
       "      <td>16848.654019</td>\n",
       "    </tr>\n",
       "    <tr>\n",
       "      <th>4</th>\n",
       "      <td>28020.098042</td>\n",
       "      <td>15657.801022</td>\n",
       "    </tr>\n",
       "    <tr>\n",
       "      <th>...</th>\n",
       "      <td>...</td>\n",
       "      <td>...</td>\n",
       "    </tr>\n",
       "    <tr>\n",
       "      <th>543227</th>\n",
       "      <td>28072.201560</td>\n",
       "      <td>7309.972206</td>\n",
       "    </tr>\n",
       "    <tr>\n",
       "      <th>543228</th>\n",
       "      <td>28072.201170</td>\n",
       "      <td>7266.249676</td>\n",
       "    </tr>\n",
       "    <tr>\n",
       "      <th>543229</th>\n",
       "      <td>28072.200780</td>\n",
       "      <td>6636.463772</td>\n",
       "    </tr>\n",
       "    <tr>\n",
       "      <th>543230</th>\n",
       "      <td>28072.200390</td>\n",
       "      <td>6423.953280</td>\n",
       "    </tr>\n",
       "    <tr>\n",
       "      <th>543231</th>\n",
       "      <td>28072.200000</td>\n",
       "      <td>6423.953280</td>\n",
       "    </tr>\n",
       "  </tbody>\n",
       "</table>\n",
       "<p>462078 rows × 2 columns</p>\n",
       "</div>"
      ],
      "text/plain": [
       "                 RUL    rf_predict\n",
       "0       28020.099605  15356.027831\n",
       "1       28020.099214  15176.099507\n",
       "2       28020.098824  16848.654019\n",
       "3       28020.098433  16848.654019\n",
       "4       28020.098042  15657.801022\n",
       "...              ...           ...\n",
       "543227  28072.201560   7309.972206\n",
       "543228  28072.201170   7266.249676\n",
       "543229  28072.200780   6636.463772\n",
       "543230  28072.200390   6423.953280\n",
       "543231  28072.200000   6423.953280\n",
       "\n",
       "[462078 rows x 2 columns]"
      ]
     },
     "execution_count": 61,
     "metadata": {},
     "output_type": "execute_result"
    }
   ],
   "source": [
    "ans_df[ans_df[\"RUL\"]>10000]"
   ]
  },
  {
   "cell_type": "code",
   "execution_count": 60,
   "metadata": {},
   "outputs": [
    {
     "data": {
      "text/plain": [
       "<matplotlib.collections.PathCollection at 0x28d87eb20b8>"
      ]
     },
     "execution_count": 60,
     "metadata": {},
     "output_type": "execute_result"
    },
    {
     "data": {
      "image/png": "[encoded data removed]",
      "text/plain": [
       "<Figure size 432x288 with 1 Axes>"
      ]
     },
     "metadata": {
      "needs_background": "light"
     },
     "output_type": "display_data"
    }
   ],
   "source": [
    "plt.scatter(ans_df.index,ans_df[\"RUL\"])"
   ]
  },
  {
   "cell_type": "code",
   "execution_count": 58,
   "metadata": {},
   "outputs": [
    {
     "data": {
      "image/png": "[encoded data removed]",
      "text/plain": [
       "<Figure size 576x720 with 1 Axes>"
      ]
     },
     "metadata": {
      "needs_background": "light"
     },
     "output_type": "display_data"
    }
   ],
   "source": [
    "plot_features_weights('Random Forest Regressor', rf.feature_importances_, X_train.columns)"
   ]
  },
  {
   "cell_type": "code",
   "execution_count": 46,
   "metadata": {},
   "outputs": [
    {
     "data": {
      "image/png": "[encoded data removed]",
      "text/plain": [
       "<Figure size 1440x720 with 1 Axes>"
      ]
     },
     "metadata": {
      "needs_background": "light"
     },
     "output_type": "display_data"
    }
   ],
   "source": [
    "plot_residual('Random Forest Regressor',y_train, y_train_predict, y_test, y_test_predict)"
   ]
  },
  {
   "cell_type": "code",
   "execution_count": 150,
   "metadata": {},
   "outputs": [
    {
     "data": {
      "text/plain": [
       "0         28020.099605\n",
       "1         28020.099214\n",
       "2         28020.098824\n",
       "3         28020.098433\n",
       "4         28020.098042\n",
       "              ...     \n",
       "940538        0.001560\n",
       "940539        0.001170\n",
       "940540        0.000780\n",
       "940541        0.000390\n",
       "940542        0.000000\n",
       "Name: RUL, Length: 940543, dtype: float64"
      ]
     },
     "execution_count": 150,
     "metadata": {},
     "output_type": "execute_result"
    }
   ],
   "source": [
    "y_train"
   ]
  },
  {
   "cell_type": "code",
   "execution_count": 149,
   "metadata": {},
   "outputs": [
    {
     "data": {
      "text/plain": [
       "array([15090.69924777, 14191.4132257 , 16939.07715585, ...,\n",
       "         183.10801738,   183.10801738,   183.10801738])"
      ]
     },
     "execution_count": 149,
     "metadata": {},
     "output_type": "execute_result"
    }
   ],
   "source": [
    "y_train_predict "
   ]
  },
  {
   "cell_type": "code",
   "execution_count": null,
   "metadata": {},
   "outputs": [],
   "source": [
    "mean_absolute_percentage_error"
   ]
  },
  {
   "cell_type": "code",
   "execution_count": 36,
   "metadata": {},
   "outputs": [
    {
     "data": {
      "text/plain": [
       "False"
      ]
     },
     "execution_count": 36,
     "metadata": {},
     "output_type": "execute_result"
    }
   ],
   "source": [
    "X_train.isnull().values.any()"
   ]
  },
  {
   "cell_type": "code",
   "execution_count": 75,
   "metadata": {},
   "outputs": [
    {
     "data": {
      "text/plain": [
       "<matplotlib.axes._subplots.AxesSubplot at 0x259a354bcf8>"
      ]
     },
     "execution_count": 75,
     "metadata": {},
     "output_type": "execute_result"
    },
    {
     "data": {
      "image/png": "[encoded data removed]",
      "text/plain": [
       "<Figure size 792x648 with 2 Axes>"
      ]
     },
     "metadata": {
      "needs_background": "light"
     },
     "output_type": "display_data"
    }
   ],
   "source": [
    "# 計算相關係數\n",
    "corr = one_train.corr()\n",
    "mask = np.triu(np.ones_like(corr, dtype=np.bool))\n",
    "f, ax = plt.subplots(figsize=(11, 9))\n",
    "cmap = sns.diverging_palette(220, 10, as_cmap=True)\n",
    "sns.heatmap(corr, mask=mask, cmap=cmap, vmax=.3, center=0,\n",
    "            square=True, linewidths=.5, cbar_kws={\"shrink\": .5})"
   ]
  },
  {
   "cell_type": "code",
   "execution_count": 90,
   "metadata": {},
   "outputs": [
    {
     "data": {
      "text/plain": [
       "<matplotlib.axes._subplots.AxesSubplot at 0x259a2f02eb8>"
      ]
     },
     "execution_count": 90,
     "metadata": {},
     "output_type": "execute_result"
    },
    {
     "data": {
      "image/png": "[encoded data removed]",
      "text/plain": [
       "<Figure size 720x2880 with 2 Axes>"
      ]
     },
     "metadata": {
      "needs_background": "light"
     },
     "output_type": "display_data"
    }
   ],
   "source": [
    "plt.figure(figsize=(10,40))\n",
    "cmap = sns.diverging_palette(220, 10, as_cmap=True)\n",
    "sns.heatmap(pd.DataFrame(corr[\"RUL\"].sort_values(ascending=False)), cmap=cmap, vmax=.3, center=0,\n",
    "            square=True, linewidths=.5, cbar_kws={\"shrink\": .5})"
   ]
  },
  {
   "cell_type": "code",
   "execution_count": 93,
   "metadata": {},
   "outputs": [
    {
     "data": {
      "text/plain": [
       "<matplotlib.collections.PathCollection at 0x259a3062b00>"
      ]
     },
     "execution_count": 93,
     "metadata": {},
     "output_type": "execute_result"
    },
    {
     "data": {
      "image/png": "[encoded data removed]",
      "text/plain": [
       "<Figure size 432x288 with 1 Axes>"
      ]
     },
     "metadata": {
      "needs_background": "light"
     },
     "output_type": "display_data"
    }
   ],
   "source": [
    "plt.scatter(one_train[\"RUL\"],one_train[\"p2ph_vert\"])"
   ]
  },
  {
   "cell_type": "code",
   "execution_count": 94,
   "metadata": {},
   "outputs": [
    {
     "data": {
      "text/plain": [
       "<matplotlib.collections.PathCollection at 0x259a6ec5400>"
      ]
     },
     "execution_count": 94,
     "metadata": {},
     "output_type": "execute_result"
    },
    {
     "data": {
      "image/png": "[encoded data removed]",
      "text/plain": [
       "<Figure size 432x288 with 1 Axes>"
      ]
     },
     "metadata": {
      "needs_background": "light"
     },
     "output_type": "display_data"
    }
   ],
   "source": [
    "plt.scatter(one_train[\"RUL\"],one_train[\"av_sum\"])"
   ]
  }
 ],
 "metadata": {
  "kernelspec": {
   "display_name": "Python 3",
   "language": "python",
   "name": "python3"
  },
  "language_info": {
   "codemirror_mode": {
    "name": "ipython",
    "version": 3
   },
   "file_extension": ".py",
   "mimetype": "text/x-python",
   "name": "python",
   "nbconvert_exporter": "python",
   "pygments_lexer": "ipython3",
   "version": "3.6.10"
  }
 },
 "nbformat": 4,
 "nbformat_minor": 4
}
