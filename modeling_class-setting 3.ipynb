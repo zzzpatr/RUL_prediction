{
 "cells": [
  {
   "cell_type": "code",
   "execution_count": 1,
   "metadata": {},
   "outputs": [],
   "source": [
    "import numpy as np"
   ]
  },
  {
   "cell_type": "code",
   "execution_count": 2,
   "metadata": {},
   "outputs": [],
   "source": [
    "import matplotlib.pyplot as plt"
   ]
  },
  {
   "cell_type": "code",
   "execution_count": 3,
   "metadata": {},
   "outputs": [],
   "source": [
    "%matplotlib inline\n",
    "import matplotlib.pyplot as plt\n",
    "import numpy as np\n",
    "import pandas as pd\n",
    "import seaborn as sns\n",
    "from sklearn.ensemble import RandomForestRegressor\n",
    "from sklearn.ensemble import  RandomForestClassifier\n",
    "from sklearn import metrics"
   ]
  },
  {
   "cell_type": "code",
   "execution_count": 4,
   "metadata": {},
   "outputs": [],
   "source": [
    "import numpy as np"
   ]
  },
  {
   "cell_type": "code",
   "execution_count": 5,
   "metadata": {},
   "outputs": [],
   "source": [
    "import pandas as pd\n",
    "import os\n",
    "import glob"
   ]
  },
  {
   "cell_type": "code",
   "execution_count": 6,
   "metadata": {},
   "outputs": [],
   "source": [
    "dir_list = [\"1_1\",\"1_2\",\"2_1\",\"2_2\",\"3_1\",\"3_2\"]"
   ]
  },
  {
   "cell_type": "code",
   "execution_count": 7,
   "metadata": {},
   "outputs": [],
   "source": [
    "test_dir_list = [\"1_3\",\"1_4\",\"1_5\",\"1_6\",\"1_7\",\"2_3\",\"2_4\",\"2_5\",\"2_6\",\"2_7\",\"3_3\"]"
   ]
  },
  {
   "cell_type": "markdown",
   "metadata": {
    "jupyter": {
     "source_hidden": true
    }
   },
   "source": [
    "### setting 2"
   ]
  },
  {
   "cell_type": "code",
   "execution_count": 6,
   "metadata": {},
   "outputs": [],
   "source": [
    "one_train = pd.read_csv(\"three_train_combine.csv\")"
   ]
  },
  {
   "cell_type": "code",
   "execution_count": 7,
   "metadata": {},
   "outputs": [],
   "source": [
    "one_test = pd.read_csv(\"three_test_combine.csv\")"
   ]
  },
  {
   "cell_type": "code",
   "execution_count": 8,
   "metadata": {},
   "outputs": [],
   "source": [
    "def clean_dataset(df):\n",
    "    assert isinstance(df, pd.DataFrame), \"df needs to be a pd.DataFrame\"\n",
    "    df.dropna(inplace=True)\n",
    "    indices_to_keep = ~df.isin([np.nan, np.inf, -np.inf]).any(1)\n",
    "    return df[indices_to_keep].astype(np.float64)"
   ]
  },
  {
   "cell_type": "code",
   "execution_count": 9,
   "metadata": {},
   "outputs": [],
   "source": [
    "one_train = clean_dataset(one_train)\n",
    "one_test = clean_dataset(one_test)"
   ]
  },
  {
   "cell_type": "code",
   "execution_count": 10,
   "metadata": {},
   "outputs": [
    {
     "data": {
      "text/plain": [
       "0         4270.09961\n",
       "1         4270.09922\n",
       "2         4270.09883\n",
       "3         4270.09844\n",
       "4         4270.09805\n",
       "             ...    \n",
       "109563       0.00156\n",
       "109564       0.00117\n",
       "109565       0.00078\n",
       "109566       0.00039\n",
       "109567       0.00000\n",
       "Name: RUL_x, Length: 109568, dtype: float64"
      ]
     },
     "execution_count": 10,
     "metadata": {},
     "output_type": "execute_result"
    }
   ],
   "source": [
    "one_train[\"RUL_x\"]"
   ]
  },
  {
   "cell_type": "code",
   "execution_count": 11,
   "metadata": {},
   "outputs": [],
   "source": [
    "def two_time_group(one_train):\n",
    "    time_group_list = []\n",
    "    for i in range(1,int(one_train[\"id\"].max())+1,1):\n",
    "        one_id = one_train[one_train[\"id\"]==i][[\"id\",\"RUL_x\"]]\n",
    "        one_id = one_id.reset_index()\n",
    "        one_id.loc[one_id[\"RUL_x\"]>one_id.loc[0,\"RUL_x\"]/2,\"time_group\"] = 0\n",
    "        one_id.loc[one_id[\"RUL_x\"]<one_id.loc[0,\"RUL_x\"]/2,\"time_group\"] = 1\n",
    "        time_group_list = time_group_list + list(one_id[\"time_group\"].values)\n",
    "    one_train[\"time_group\"] = time_group_list\n",
    "    return one_train"
   ]
  },
  {
   "cell_type": "code",
   "execution_count": 135,
   "metadata": {},
   "outputs": [],
   "source": [
    "one_id.loc[one_id[\"RUL_x\"]>one_id.loc[0,\"RUL_x\"]/2,\"time_group\"] = 0\n",
    "one_id.loc[(one_id[\"RUL_x\"]<one_id.loc[0,\"RUL_x\"]*0.5) & (one_id[\"RUL_x\"]>one_id.loc[0,\"RUL_x\"]*0.25),\"time_group\"] = 1\n",
    "one_id.loc[(one_id[\"RUL_x\"]<one_id.loc[0,\"RUL_x\"]*0.25) & (one_id[\"RUL_x\"]>one_id.loc[0,\"RUL_x\"]*0.125),\"time_group\"] = 2 \n",
    "one_id.loc[one_id[\"RUL_x\"]<one_id.loc[0,\"RUL_x\"]*0.125,\"time_group\"] = 3"
   ]
  },
  {
   "cell_type": "code",
   "execution_count": 136,
   "metadata": {},
   "outputs": [
    {
     "data": {
      "text/plain": [
       "[<matplotlib.lines.Line2D at 0x2c94c4c4390>]"
      ]
     },
     "execution_count": 136,
     "metadata": {},
     "output_type": "execute_result"
    },
    {
     "data": {
      "image/png": "[encoded data removed]",
      "text/plain": [
       "<Figure size 432x288 with 1 Axes>"
      ]
     },
     "metadata": {
      "needs_background": "light"
     },
     "output_type": "display_data"
    }
   ],
   "source": [
    "plt.plot(one_id[\"time_group\"])"
   ]
  },
  {
   "cell_type": "code",
   "execution_count": 104,
   "metadata": {},
   "outputs": [
    {
     "data": {
      "text/plain": [
       "16890.07470675"
      ]
     },
     "execution_count": 104,
     "metadata": {},
     "output_type": "execute_result"
    }
   ],
   "source": [
    "one_id.loc[0,\"RUL_x\"]*0.75"
   ]
  },
  {
   "cell_type": "code",
   "execution_count": 12,
   "metadata": {},
   "outputs": [],
   "source": [
    "def three_time_group(one_train):\n",
    "    time_group_list = []\n",
    "    for i in range(1,int(one_train[\"id\"].max())+1,1):\n",
    "        one_id = one_train[one_train[\"id\"]==i][[\"id\",\"RUL_x\"]]\n",
    "        one_id = one_id.reset_index()\n",
    "        one_id.loc[one_id[\"RUL_x\"]>one_id.loc[0,\"RUL_x\"]/2,\"time_group\"] = 0\n",
    "        one_id.loc[(one_id[\"RUL_x\"]<one_id.loc[0,\"RUL_x\"]/2) & (one_id[\"RUL_x\"]>one_id.loc[0,\"RUL_x\"]*0.25),\"time_group\"] = 1\n",
    "        one_id.loc[one_id[\"RUL_x\"]<one_id.loc[0,\"RUL_x\"]*0.25,\"time_group\"] = 2\n",
    "        time_group_list = time_group_list + list(one_id[\"time_group\"].values)\n",
    "    one_train[\"time_group\"] = time_group_list\n",
    "    return one_train"
   ]
  },
  {
   "cell_type": "code",
   "execution_count": 13,
   "metadata": {},
   "outputs": [],
   "source": [
    "def four_time_group(one_train):\n",
    "    time_group_list = []\n",
    "    for i in range(1,int(one_train[\"id\"].max())+1,1):\n",
    "        one_id = one_train[one_train[\"id\"]==i][[\"id\",\"RUL_x\"]]\n",
    "        one_id = one_id.reset_index()\n",
    "        one_id.loc[one_id[\"RUL_x\"]>one_id.loc[0,\"RUL_x\"]/2,\"time_group\"] = 0\n",
    "        one_id.loc[(one_id[\"RUL_x\"]<one_id.loc[0,\"RUL_x\"]*0.5) & (one_id[\"RUL_x\"]>one_id.loc[0,\"RUL_x\"]*0.25),\"time_group\"] = 1\n",
    "        one_id.loc[(one_id[\"RUL_x\"]<one_id.loc[0,\"RUL_x\"]*0.25) & (one_id[\"RUL_x\"]>one_id.loc[0,\"RUL_x\"]*0.125),\"time_group\"] = 2 \n",
    "        one_id.loc[one_id[\"RUL_x\"]<one_id.loc[0,\"RUL_x\"]*0.125,\"time_group\"] = 3\n",
    "        time_group_list = time_group_list + list(one_id[\"time_group\"].values)\n",
    "    one_train[\"time_group\"] = time_group_list\n",
    "    return one_train"
   ]
  },
  {
   "cell_type": "code",
   "execution_count": 14,
   "metadata": {},
   "outputs": [],
   "source": [
    "one_train = two_time_group(one_train)"
   ]
  },
  {
   "cell_type": "code",
   "execution_count": 15,
   "metadata": {},
   "outputs": [],
   "source": [
    "one_test = two_time_group(one_test)"
   ]
  },
  {
   "cell_type": "code",
   "execution_count": 16,
   "metadata": {},
   "outputs": [],
   "source": [
    "one_train = clean_dataset(one_train)\n",
    "one_test = clean_dataset(one_test)"
   ]
  },
  {
   "cell_type": "code",
   "execution_count": 17,
   "metadata": {},
   "outputs": [],
   "source": [
    "one_train = one_train.reset_index()\n",
    "one_test = one_test.reset_index()"
   ]
  },
  {
   "cell_type": "code",
   "execution_count": 18,
   "metadata": {},
   "outputs": [],
   "source": [
    "X_train = one_train.drop([\"index\",\"Unnamed: 0_x\",\"Unnamed: 0_y\",\"RUL_x\",\"RUL_y\",\"round_RUL\",\"id\",\"id_x\",\"id.1\",\"id.2\",\"time_group\"], axis=1)\n",
    "X_test = one_test.drop([\"index\",\"Unnamed: 0_x\",\"Unnamed: 0_y\",\"RUL_x\",\"RUL_y\",\"round_RUL\",\"id\",\"id_x\",\"id.1\",\"id.2\",\"time_group\"], axis=1)\n",
    "y_train = one_train[\"time_group\"]\n",
    "y_test = one_test[\"time_group\"]"
   ]
  },
  {
   "cell_type": "code",
   "execution_count": 20,
   "metadata": {},
   "outputs": [
    {
     "data": {
      "text/html": [
       "<div>\n",
       "<style scoped>\n",
       "    .dataframe tbody tr th:only-of-type {\n",
       "        vertical-align: middle;\n",
       "    }\n",
       "\n",
       "    .dataframe tbody tr th {\n",
       "        vertical-align: top;\n",
       "    }\n",
       "\n",
       "    .dataframe thead th {\n",
       "        text-align: right;\n",
       "    }\n",
       "</style>\n",
       "<table border=\"1\" class=\"dataframe\">\n",
       "  <thead>\n",
       "    <tr style=\"text-align: right;\">\n",
       "      <th></th>\n",
       "      <th>Horiz_acc</th>\n",
       "      <th>av_horiz</th>\n",
       "      <th>sd_horiz</th>\n",
       "      <th>peak_horiz</th>\n",
       "      <th>rms_horiz</th>\n",
       "      <th>skew_horiz</th>\n",
       "      <th>kurt_horiz</th>\n",
       "      <th>crest_horiz</th>\n",
       "      <th>clear_horiz</th>\n",
       "      <th>shape_horiz</th>\n",
       "      <th>...</th>\n",
       "      <th>av_temp</th>\n",
       "      <th>sd_temp</th>\n",
       "      <th>peak_temp</th>\n",
       "      <th>rms_temp</th>\n",
       "      <th>skew_temp</th>\n",
       "      <th>kurt_temp</th>\n",
       "      <th>crest_temp</th>\n",
       "      <th>clear_temp</th>\n",
       "      <th>shape_temp</th>\n",
       "      <th>imp_temp</th>\n",
       "    </tr>\n",
       "  </thead>\n",
       "  <tbody>\n",
       "    <tr>\n",
       "      <th>0</th>\n",
       "      <td>-0.606</td>\n",
       "      <td>-0.035885</td>\n",
       "      <td>0.305700</td>\n",
       "      <td>0.595</td>\n",
       "      <td>0.301904</td>\n",
       "      <td>-0.020307</td>\n",
       "      <td>-0.203469</td>\n",
       "      <td>1.970825</td>\n",
       "      <td>16.688361</td>\n",
       "      <td>-8.413188</td>\n",
       "      <td>...</td>\n",
       "      <td>63.64025</td>\n",
       "      <td>0.070772</td>\n",
       "      <td>63.744</td>\n",
       "      <td>63.640287</td>\n",
       "      <td>-0.025377</td>\n",
       "      <td>-1.241693</td>\n",
       "      <td>1.001630</td>\n",
       "      <td>1.001631</td>\n",
       "      <td>1.000001</td>\n",
       "      <td>1.001630</td>\n",
       "    </tr>\n",
       "    <tr>\n",
       "      <th>1</th>\n",
       "      <td>0.283</td>\n",
       "      <td>-0.022923</td>\n",
       "      <td>0.311981</td>\n",
       "      <td>0.595</td>\n",
       "      <td>0.306780</td>\n",
       "      <td>-0.107927</td>\n",
       "      <td>-0.370114</td>\n",
       "      <td>1.939498</td>\n",
       "      <td>13.584765</td>\n",
       "      <td>-13.383039</td>\n",
       "      <td>...</td>\n",
       "      <td>63.64025</td>\n",
       "      <td>0.070772</td>\n",
       "      <td>63.744</td>\n",
       "      <td>63.640287</td>\n",
       "      <td>-0.025377</td>\n",
       "      <td>-1.241693</td>\n",
       "      <td>1.001630</td>\n",
       "      <td>1.001631</td>\n",
       "      <td>1.000001</td>\n",
       "      <td>1.001630</td>\n",
       "    </tr>\n",
       "    <tr>\n",
       "      <th>2</th>\n",
       "      <td>-0.085</td>\n",
       "      <td>-0.040731</td>\n",
       "      <td>0.301209</td>\n",
       "      <td>0.595</td>\n",
       "      <td>0.298155</td>\n",
       "      <td>-0.030118</td>\n",
       "      <td>-0.132409</td>\n",
       "      <td>1.995604</td>\n",
       "      <td>17.266136</td>\n",
       "      <td>-7.320149</td>\n",
       "      <td>...</td>\n",
       "      <td>63.64025</td>\n",
       "      <td>0.070772</td>\n",
       "      <td>63.744</td>\n",
       "      <td>63.640287</td>\n",
       "      <td>-0.025377</td>\n",
       "      <td>-1.241693</td>\n",
       "      <td>1.001630</td>\n",
       "      <td>1.001631</td>\n",
       "      <td>1.000001</td>\n",
       "      <td>1.001630</td>\n",
       "    </tr>\n",
       "    <tr>\n",
       "      <th>3</th>\n",
       "      <td>-0.216</td>\n",
       "      <td>-0.055154</td>\n",
       "      <td>0.300240</td>\n",
       "      <td>0.595</td>\n",
       "      <td>0.299531</td>\n",
       "      <td>0.104462</td>\n",
       "      <td>-0.093631</td>\n",
       "      <td>1.986440</td>\n",
       "      <td>20.516007</td>\n",
       "      <td>-5.430823</td>\n",
       "      <td>...</td>\n",
       "      <td>63.64025</td>\n",
       "      <td>0.070772</td>\n",
       "      <td>63.744</td>\n",
       "      <td>63.640287</td>\n",
       "      <td>-0.025377</td>\n",
       "      <td>-1.241693</td>\n",
       "      <td>1.001630</td>\n",
       "      <td>1.001631</td>\n",
       "      <td>1.000001</td>\n",
       "      <td>1.001630</td>\n",
       "    </tr>\n",
       "    <tr>\n",
       "      <th>4</th>\n",
       "      <td>0.588</td>\n",
       "      <td>-0.026231</td>\n",
       "      <td>0.324570</td>\n",
       "      <td>0.595</td>\n",
       "      <td>0.319346</td>\n",
       "      <td>0.131074</td>\n",
       "      <td>-0.325532</td>\n",
       "      <td>1.863181</td>\n",
       "      <td>14.906027</td>\n",
       "      <td>-12.174493</td>\n",
       "      <td>...</td>\n",
       "      <td>63.64025</td>\n",
       "      <td>0.070772</td>\n",
       "      <td>63.744</td>\n",
       "      <td>63.640287</td>\n",
       "      <td>-0.025377</td>\n",
       "      <td>-1.241693</td>\n",
       "      <td>1.001630</td>\n",
       "      <td>1.001631</td>\n",
       "      <td>1.000001</td>\n",
       "      <td>1.001630</td>\n",
       "    </tr>\n",
       "    <tr>\n",
       "      <th>...</th>\n",
       "      <td>...</td>\n",
       "      <td>...</td>\n",
       "      <td>...</td>\n",
       "      <td>...</td>\n",
       "      <td>...</td>\n",
       "      <td>...</td>\n",
       "      <td>...</td>\n",
       "      <td>...</td>\n",
       "      <td>...</td>\n",
       "      <td>...</td>\n",
       "      <td>...</td>\n",
       "      <td>...</td>\n",
       "      <td>...</td>\n",
       "      <td>...</td>\n",
       "      <td>...</td>\n",
       "      <td>...</td>\n",
       "      <td>...</td>\n",
       "      <td>...</td>\n",
       "      <td>...</td>\n",
       "      <td>...</td>\n",
       "      <td>...</td>\n",
       "    </tr>\n",
       "    <tr>\n",
       "      <th>109563</th>\n",
       "      <td>1.143</td>\n",
       "      <td>0.087846</td>\n",
       "      <td>1.105386</td>\n",
       "      <td>2.234</td>\n",
       "      <td>1.087474</td>\n",
       "      <td>-0.029527</td>\n",
       "      <td>-0.402650</td>\n",
       "      <td>2.054302</td>\n",
       "      <td>11.400122</td>\n",
       "      <td>12.379301</td>\n",
       "      <td>...</td>\n",
       "      <td>117.80450</td>\n",
       "      <td>0.025609</td>\n",
       "      <td>117.851</td>\n",
       "      <td>117.804503</td>\n",
       "      <td>0.058938</td>\n",
       "      <td>-1.378756</td>\n",
       "      <td>1.000395</td>\n",
       "      <td>1.000395</td>\n",
       "      <td>1.000000</td>\n",
       "      <td>1.000395</td>\n",
       "    </tr>\n",
       "    <tr>\n",
       "      <th>109564</th>\n",
       "      <td>-0.119</td>\n",
       "      <td>0.085962</td>\n",
       "      <td>1.105708</td>\n",
       "      <td>2.234</td>\n",
       "      <td>1.087638</td>\n",
       "      <td>-0.024119</td>\n",
       "      <td>-0.405813</td>\n",
       "      <td>2.053993</td>\n",
       "      <td>11.400122</td>\n",
       "      <td>12.652609</td>\n",
       "      <td>...</td>\n",
       "      <td>117.80450</td>\n",
       "      <td>0.025609</td>\n",
       "      <td>117.851</td>\n",
       "      <td>117.804503</td>\n",
       "      <td>0.058938</td>\n",
       "      <td>-1.378756</td>\n",
       "      <td>1.000395</td>\n",
       "      <td>1.000395</td>\n",
       "      <td>1.000000</td>\n",
       "      <td>1.000395</td>\n",
       "    </tr>\n",
       "    <tr>\n",
       "      <th>109565</th>\n",
       "      <td>1.270</td>\n",
       "      <td>0.207692</td>\n",
       "      <td>1.051802</td>\n",
       "      <td>2.234</td>\n",
       "      <td>1.052081</td>\n",
       "      <td>-0.054590</td>\n",
       "      <td>-0.347843</td>\n",
       "      <td>2.123411</td>\n",
       "      <td>9.457436</td>\n",
       "      <td>5.065575</td>\n",
       "      <td>...</td>\n",
       "      <td>117.80450</td>\n",
       "      <td>0.025609</td>\n",
       "      <td>117.851</td>\n",
       "      <td>117.804503</td>\n",
       "      <td>0.058938</td>\n",
       "      <td>-1.378756</td>\n",
       "      <td>1.000395</td>\n",
       "      <td>1.000395</td>\n",
       "      <td>1.000000</td>\n",
       "      <td>1.000395</td>\n",
       "    </tr>\n",
       "    <tr>\n",
       "      <th>109566</th>\n",
       "      <td>1.201</td>\n",
       "      <td>0.289192</td>\n",
       "      <td>1.043148</td>\n",
       "      <td>2.234</td>\n",
       "      <td>1.062986</td>\n",
       "      <td>-0.218546</td>\n",
       "      <td>-0.253512</td>\n",
       "      <td>2.101627</td>\n",
       "      <td>8.008188</td>\n",
       "      <td>3.675705</td>\n",
       "      <td>...</td>\n",
       "      <td>117.80450</td>\n",
       "      <td>0.025609</td>\n",
       "      <td>117.851</td>\n",
       "      <td>117.804503</td>\n",
       "      <td>0.058938</td>\n",
       "      <td>-1.378756</td>\n",
       "      <td>1.000395</td>\n",
       "      <td>1.000395</td>\n",
       "      <td>1.000000</td>\n",
       "      <td>1.000395</td>\n",
       "    </tr>\n",
       "    <tr>\n",
       "      <th>109567</th>\n",
       "      <td>0.817</td>\n",
       "      <td>0.325923</td>\n",
       "      <td>1.044318</td>\n",
       "      <td>2.234</td>\n",
       "      <td>1.074653</td>\n",
       "      <td>-0.323610</td>\n",
       "      <td>-0.228254</td>\n",
       "      <td>2.078811</td>\n",
       "      <td>7.049623</td>\n",
       "      <td>3.297259</td>\n",
       "      <td>...</td>\n",
       "      <td>117.80450</td>\n",
       "      <td>0.025609</td>\n",
       "      <td>117.851</td>\n",
       "      <td>117.804503</td>\n",
       "      <td>0.058938</td>\n",
       "      <td>-1.378756</td>\n",
       "      <td>1.000395</td>\n",
       "      <td>1.000395</td>\n",
       "      <td>1.000000</td>\n",
       "      <td>1.000395</td>\n",
       "    </tr>\n",
       "  </tbody>\n",
       "</table>\n",
       "<p>109568 rows × 147 columns</p>\n",
       "</div>"
      ],
      "text/plain": [
       "        Horiz_acc  av_horiz  sd_horiz  peak_horiz  rms_horiz  skew_horiz  \\\n",
       "0          -0.606 -0.035885  0.305700       0.595   0.301904   -0.020307   \n",
       "1           0.283 -0.022923  0.311981       0.595   0.306780   -0.107927   \n",
       "2          -0.085 -0.040731  0.301209       0.595   0.298155   -0.030118   \n",
       "3          -0.216 -0.055154  0.300240       0.595   0.299531    0.104462   \n",
       "4           0.588 -0.026231  0.324570       0.595   0.319346    0.131074   \n",
       "...           ...       ...       ...         ...        ...         ...   \n",
       "109563      1.143  0.087846  1.105386       2.234   1.087474   -0.029527   \n",
       "109564     -0.119  0.085962  1.105708       2.234   1.087638   -0.024119   \n",
       "109565      1.270  0.207692  1.051802       2.234   1.052081   -0.054590   \n",
       "109566      1.201  0.289192  1.043148       2.234   1.062986   -0.218546   \n",
       "109567      0.817  0.325923  1.044318       2.234   1.074653   -0.323610   \n",
       "\n",
       "        kurt_horiz  crest_horiz  clear_horiz  shape_horiz  ...    av_temp  \\\n",
       "0        -0.203469     1.970825    16.688361    -8.413188  ...   63.64025   \n",
       "1        -0.370114     1.939498    13.584765   -13.383039  ...   63.64025   \n",
       "2        -0.132409     1.995604    17.266136    -7.320149  ...   63.64025   \n",
       "3        -0.093631     1.986440    20.516007    -5.430823  ...   63.64025   \n",
       "4        -0.325532     1.863181    14.906027   -12.174493  ...   63.64025   \n",
       "...            ...          ...          ...          ...  ...        ...   \n",
       "109563   -0.402650     2.054302    11.400122    12.379301  ...  117.80450   \n",
       "109564   -0.405813     2.053993    11.400122    12.652609  ...  117.80450   \n",
       "109565   -0.347843     2.123411     9.457436     5.065575  ...  117.80450   \n",
       "109566   -0.253512     2.101627     8.008188     3.675705  ...  117.80450   \n",
       "109567   -0.228254     2.078811     7.049623     3.297259  ...  117.80450   \n",
       "\n",
       "         sd_temp  peak_temp    rms_temp  skew_temp  kurt_temp  crest_temp  \\\n",
       "0       0.070772     63.744   63.640287  -0.025377  -1.241693    1.001630   \n",
       "1       0.070772     63.744   63.640287  -0.025377  -1.241693    1.001630   \n",
       "2       0.070772     63.744   63.640287  -0.025377  -1.241693    1.001630   \n",
       "3       0.070772     63.744   63.640287  -0.025377  -1.241693    1.001630   \n",
       "4       0.070772     63.744   63.640287  -0.025377  -1.241693    1.001630   \n",
       "...          ...        ...         ...        ...        ...         ...   \n",
       "109563  0.025609    117.851  117.804503   0.058938  -1.378756    1.000395   \n",
       "109564  0.025609    117.851  117.804503   0.058938  -1.378756    1.000395   \n",
       "109565  0.025609    117.851  117.804503   0.058938  -1.378756    1.000395   \n",
       "109566  0.025609    117.851  117.804503   0.058938  -1.378756    1.000395   \n",
       "109567  0.025609    117.851  117.804503   0.058938  -1.378756    1.000395   \n",
       "\n",
       "        clear_temp  shape_temp  imp_temp  \n",
       "0         1.001631    1.000001  1.001630  \n",
       "1         1.001631    1.000001  1.001630  \n",
       "2         1.001631    1.000001  1.001630  \n",
       "3         1.001631    1.000001  1.001630  \n",
       "4         1.001631    1.000001  1.001630  \n",
       "...            ...         ...       ...  \n",
       "109563    1.000395    1.000000  1.000395  \n",
       "109564    1.000395    1.000000  1.000395  \n",
       "109565    1.000395    1.000000  1.000395  \n",
       "109566    1.000395    1.000000  1.000395  \n",
       "109567    1.000395    1.000000  1.000395  \n",
       "\n",
       "[109568 rows x 147 columns]"
      ]
     },
     "execution_count": 20,
     "metadata": {},
     "output_type": "execute_result"
    }
   ],
   "source": [
    "X_train"
   ]
  },
  {
   "cell_type": "code",
   "execution_count": 21,
   "metadata": {},
   "outputs": [],
   "source": [
    "from sklearn.ensemble import RandomForestClassifier"
   ]
  },
  {
   "cell_type": "code",
   "execution_count": 22,
   "metadata": {},
   "outputs": [],
   "source": [
    "from sklearn.linear_model import LogisticRegression"
   ]
  },
  {
   "cell_type": "code",
   "execution_count": 23,
   "metadata": {},
   "outputs": [],
   "source": [
    "def plot_features_weights(model, weights, feature_names):\n",
    "    \n",
    "\n",
    "    (px, py) = (8, 10) if len(weights) > 30 else (8, 5)\n",
    "    W = pd.DataFrame({'Weights':weights}, feature_names)\n",
    "    W_df = W.sort_values(by='Weights', ascending=True)\n",
    "    W_df.tail(10).plot(kind='barh', color='r', figsize=(px,py))\n",
    "    plt.xlabel(model)\n",
    "    plt.gca().legend_ = None"
   ]
  },
  {
   "cell_type": "code",
   "execution_count": 24,
   "metadata": {},
   "outputs": [],
   "source": [
    "def plot_residual(model, y_train, y_train_pred, y_test, y_test_pred):\n",
    "    plt.figure(figsize=(20,10))\n",
    "    plt.scatter(y_train_pred, y_train_pred - y_train, c='blue', marker='o', label='Training data')\n",
    "    plt.scatter(y_test_pred, y_test_pred - y_test, c='lightgreen', marker='s', label='Test data')\n",
    "    plt.xlabel('Predicted Values')\n",
    "    plt.ylabel('Residuals')\n",
    "    plt.legend(loc='upper left')\n",
    "    plt.hlines(y=0, xmin=-50, xmax=y_train.max()+50, color='red', lw=2)\n",
    "    plt.title(model + ' Residuals')\n",
    "    plt.show()"
   ]
  },
  {
   "cell_type": "code",
   "execution_count": 25,
   "metadata": {},
   "outputs": [
    {
     "data": {
      "text/plain": [
       "RandomForestClassifier(bootstrap=True, ccp_alpha=0.0, class_weight=None,\n",
       "                       criterion='gini', max_depth=6, max_features='auto',\n",
       "                       max_leaf_nodes=None, max_samples=None,\n",
       "                       min_impurity_decrease=0.0, min_impurity_split=None,\n",
       "                       min_samples_leaf=1, min_samples_split=100,\n",
       "                       min_weight_fraction_leaf=0.0, n_estimators=50, n_jobs=-1,\n",
       "                       oob_score=False, random_state=0, verbose=0,\n",
       "                       warm_start=False)"
      ]
     },
     "execution_count": 25,
     "metadata": {},
     "output_type": "execute_result"
    }
   ],
   "source": [
    "rf = RandomForestClassifier(random_state=0,max_depth=6,n_estimators=50,min_samples_split=100,n_jobs=-1)\n",
    "rf.fit(X_train, y_train)"
   ]
  },
  {
   "cell_type": "code",
   "execution_count": 26,
   "metadata": {},
   "outputs": [],
   "source": [
    "from sklearn.metrics import accuracy_score\n",
    "from sklearn.metrics import f1_score\n",
    "from sklearn.metrics import classification_report"
   ]
  },
  {
   "cell_type": "code",
   "execution_count": 27,
   "metadata": {},
   "outputs": [
    {
     "name": "stdout",
     "output_type": "stream",
     "text": [
      "accuracy training: 1.000, accuracy testing: 0.500\n",
      "F1 training: 1.000, F1 testing: 0.000\n"
     ]
    }
   ],
   "source": [
    "y_test_predict = rf.predict(X_test)\n",
    "y_train_predict = rf.predict(X_train)\n",
    "\n",
    "train_score = accuracy_score(y_train, y_train_predict)\n",
    "test_score = accuracy_score(y_test, y_test_predict)\n",
    "train_f1 = f1_score(y_train, y_train_predict)\n",
    "test_f1 = f1_score(y_test, y_test_predict)\n",
    "print('accuracy training: %.3f, accuracy testing: %.3f' % (\n",
    "      (train_score), (test_score)))\n",
    "print('F1 training: %.3f, F1 testing: %.3f' % (\n",
    "      (train_f1), (test_f1)))"
   ]
  },
  {
   "cell_type": "code",
   "execution_count": 28,
   "metadata": {},
   "outputs": [
    {
     "data": {
      "text/plain": [
       "[<matplotlib.lines.Line2D at 0x1f6d6bddd68>]"
      ]
     },
     "execution_count": 28,
     "metadata": {},
     "output_type": "execute_result"
    },
    {
     "data": {
      "image/png": "[encoded data removed]",
      "text/plain": [
       "<Figure size 432x288 with 1 Axes>"
      ]
     },
     "metadata": {
      "needs_background": "light"
     },
     "output_type": "display_data"
    }
   ],
   "source": [
    "plt.plot(y_test)\n",
    "plt.plot(y_test_predict)"
   ]
  },
  {
   "cell_type": "code",
   "execution_count": 29,
   "metadata": {},
   "outputs": [
    {
     "name": "stdout",
     "output_type": "stream",
     "text": [
      "              precision    recall  f1-score   support\n",
      "\n",
      "         0.0       0.50      1.00      0.67     65919\n",
      "         1.0       0.00      0.00      0.00     65919\n",
      "\n",
      "    accuracy                           0.50    131838\n",
      "   macro avg       0.25      0.50      0.33    131838\n",
      "weighted avg       0.25      0.50      0.33    131838\n",
      "\n"
     ]
    },
    {
     "name": "stderr",
     "output_type": "stream",
     "text": [
      "C:\\Users\\User\\anaconda3\\lib\\site-packages\\sklearn\\metrics\\_classification.py:1272: UndefinedMetricWarning: Precision and F-score are ill-defined and being set to 0.0 in labels with no predicted samples. Use `zero_division` parameter to control this behavior.\n",
      "  _warn_prf(average, modifier, msg_start, len(result))\n"
     ]
    }
   ],
   "source": [
    "print(classification_report(y_test, y_test_predict))"
   ]
  },
  {
   "cell_type": "code",
   "execution_count": 30,
   "metadata": {},
   "outputs": [
    {
     "data": {
      "image/png": "[encoded data removed]",
      "text/plain": [
       "<Figure size 576x720 with 1 Axes>"
      ]
     },
     "metadata": {
      "needs_background": "light"
     },
     "output_type": "display_data"
    }
   ],
   "source": [
    "plot_features_weights('Random forest',rf.feature_importances_, X_train.columns)"
   ]
  },
  {
   "cell_type": "code",
   "execution_count": 31,
   "metadata": {},
   "outputs": [
    {
     "data": {
      "text/html": [
       "<div>\n",
       "<style scoped>\n",
       "    .dataframe tbody tr th:only-of-type {\n",
       "        vertical-align: middle;\n",
       "    }\n",
       "\n",
       "    .dataframe tbody tr th {\n",
       "        vertical-align: top;\n",
       "    }\n",
       "\n",
       "    .dataframe thead th {\n",
       "        text-align: right;\n",
       "    }\n",
       "</style>\n",
       "<table border=\"1\" class=\"dataframe\">\n",
       "  <thead>\n",
       "    <tr style=\"text-align: right;\">\n",
       "      <th></th>\n",
       "      <th>index</th>\n",
       "      <th>Unnamed: 0_x</th>\n",
       "      <th>Horiz_acc</th>\n",
       "      <th>id_x</th>\n",
       "      <th>av_horiz</th>\n",
       "      <th>sd_horiz</th>\n",
       "      <th>peak_horiz</th>\n",
       "      <th>rms_horiz</th>\n",
       "      <th>skew_horiz</th>\n",
       "      <th>kurt_horiz</th>\n",
       "      <th>...</th>\n",
       "      <th>rms_temp</th>\n",
       "      <th>skew_temp</th>\n",
       "      <th>kurt_temp</th>\n",
       "      <th>crest_temp</th>\n",
       "      <th>clear_temp</th>\n",
       "      <th>shape_temp</th>\n",
       "      <th>imp_temp</th>\n",
       "      <th>RUL_y</th>\n",
       "      <th>id</th>\n",
       "      <th>time_group</th>\n",
       "    </tr>\n",
       "  </thead>\n",
       "  <tbody>\n",
       "    <tr>\n",
       "      <th>0</th>\n",
       "      <td>0</td>\n",
       "      <td>15369.0</td>\n",
       "      <td>-0.606</td>\n",
       "      <td>1.0</td>\n",
       "      <td>-0.035885</td>\n",
       "      <td>0.305700</td>\n",
       "      <td>0.595</td>\n",
       "      <td>0.301904</td>\n",
       "      <td>-0.020307</td>\n",
       "      <td>-0.203469</td>\n",
       "      <td>...</td>\n",
       "      <td>63.640287</td>\n",
       "      <td>-0.025377</td>\n",
       "      <td>-1.241693</td>\n",
       "      <td>1.001630</td>\n",
       "      <td>1.001631</td>\n",
       "      <td>1.000001</td>\n",
       "      <td>1.001630</td>\n",
       "      <td>4270.1</td>\n",
       "      <td>1.0</td>\n",
       "      <td>0.0</td>\n",
       "    </tr>\n",
       "    <tr>\n",
       "      <th>1</th>\n",
       "      <td>1</td>\n",
       "      <td>15379.0</td>\n",
       "      <td>0.283</td>\n",
       "      <td>1.0</td>\n",
       "      <td>-0.022923</td>\n",
       "      <td>0.311981</td>\n",
       "      <td>0.595</td>\n",
       "      <td>0.306780</td>\n",
       "      <td>-0.107927</td>\n",
       "      <td>-0.370114</td>\n",
       "      <td>...</td>\n",
       "      <td>63.640287</td>\n",
       "      <td>-0.025377</td>\n",
       "      <td>-1.241693</td>\n",
       "      <td>1.001630</td>\n",
       "      <td>1.001631</td>\n",
       "      <td>1.000001</td>\n",
       "      <td>1.001630</td>\n",
       "      <td>4270.1</td>\n",
       "      <td>1.0</td>\n",
       "      <td>0.0</td>\n",
       "    </tr>\n",
       "    <tr>\n",
       "      <th>2</th>\n",
       "      <td>2</td>\n",
       "      <td>15389.0</td>\n",
       "      <td>-0.085</td>\n",
       "      <td>1.0</td>\n",
       "      <td>-0.040731</td>\n",
       "      <td>0.301209</td>\n",
       "      <td>0.595</td>\n",
       "      <td>0.298155</td>\n",
       "      <td>-0.030118</td>\n",
       "      <td>-0.132409</td>\n",
       "      <td>...</td>\n",
       "      <td>63.640287</td>\n",
       "      <td>-0.025377</td>\n",
       "      <td>-1.241693</td>\n",
       "      <td>1.001630</td>\n",
       "      <td>1.001631</td>\n",
       "      <td>1.000001</td>\n",
       "      <td>1.001630</td>\n",
       "      <td>4270.1</td>\n",
       "      <td>1.0</td>\n",
       "      <td>0.0</td>\n",
       "    </tr>\n",
       "    <tr>\n",
       "      <th>3</th>\n",
       "      <td>3</td>\n",
       "      <td>15399.0</td>\n",
       "      <td>-0.216</td>\n",
       "      <td>1.0</td>\n",
       "      <td>-0.055154</td>\n",
       "      <td>0.300240</td>\n",
       "      <td>0.595</td>\n",
       "      <td>0.299531</td>\n",
       "      <td>0.104462</td>\n",
       "      <td>-0.093631</td>\n",
       "      <td>...</td>\n",
       "      <td>63.640287</td>\n",
       "      <td>-0.025377</td>\n",
       "      <td>-1.241693</td>\n",
       "      <td>1.001630</td>\n",
       "      <td>1.001631</td>\n",
       "      <td>1.000001</td>\n",
       "      <td>1.001630</td>\n",
       "      <td>4270.1</td>\n",
       "      <td>1.0</td>\n",
       "      <td>0.0</td>\n",
       "    </tr>\n",
       "    <tr>\n",
       "      <th>4</th>\n",
       "      <td>4</td>\n",
       "      <td>15409.0</td>\n",
       "      <td>0.588</td>\n",
       "      <td>1.0</td>\n",
       "      <td>-0.026231</td>\n",
       "      <td>0.324570</td>\n",
       "      <td>0.595</td>\n",
       "      <td>0.319346</td>\n",
       "      <td>0.131074</td>\n",
       "      <td>-0.325532</td>\n",
       "      <td>...</td>\n",
       "      <td>63.640287</td>\n",
       "      <td>-0.025377</td>\n",
       "      <td>-1.241693</td>\n",
       "      <td>1.001630</td>\n",
       "      <td>1.001631</td>\n",
       "      <td>1.000001</td>\n",
       "      <td>1.001630</td>\n",
       "      <td>4270.1</td>\n",
       "      <td>1.0</td>\n",
       "      <td>0.0</td>\n",
       "    </tr>\n",
       "    <tr>\n",
       "      <th>...</th>\n",
       "      <td>...</td>\n",
       "      <td>...</td>\n",
       "      <td>...</td>\n",
       "      <td>...</td>\n",
       "      <td>...</td>\n",
       "      <td>...</td>\n",
       "      <td>...</td>\n",
       "      <td>...</td>\n",
       "      <td>...</td>\n",
       "      <td>...</td>\n",
       "      <td>...</td>\n",
       "      <td>...</td>\n",
       "      <td>...</td>\n",
       "      <td>...</td>\n",
       "      <td>...</td>\n",
       "      <td>...</td>\n",
       "      <td>...</td>\n",
       "      <td>...</td>\n",
       "      <td>...</td>\n",
       "      <td>...</td>\n",
       "      <td>...</td>\n",
       "    </tr>\n",
       "    <tr>\n",
       "      <th>109563</th>\n",
       "      <td>109563</td>\n",
       "      <td>1110999.0</td>\n",
       "      <td>1.143</td>\n",
       "      <td>1.0</td>\n",
       "      <td>0.087846</td>\n",
       "      <td>1.105386</td>\n",
       "      <td>2.234</td>\n",
       "      <td>1.087474</td>\n",
       "      <td>-0.029527</td>\n",
       "      <td>-0.402650</td>\n",
       "      <td>...</td>\n",
       "      <td>117.804503</td>\n",
       "      <td>0.058938</td>\n",
       "      <td>-1.378756</td>\n",
       "      <td>1.000395</td>\n",
       "      <td>1.000395</td>\n",
       "      <td>1.000000</td>\n",
       "      <td>1.000395</td>\n",
       "      <td>0.0</td>\n",
       "      <td>1.0</td>\n",
       "      <td>1.0</td>\n",
       "    </tr>\n",
       "    <tr>\n",
       "      <th>109564</th>\n",
       "      <td>109564</td>\n",
       "      <td>1111009.0</td>\n",
       "      <td>-0.119</td>\n",
       "      <td>1.0</td>\n",
       "      <td>0.085962</td>\n",
       "      <td>1.105708</td>\n",
       "      <td>2.234</td>\n",
       "      <td>1.087638</td>\n",
       "      <td>-0.024119</td>\n",
       "      <td>-0.405813</td>\n",
       "      <td>...</td>\n",
       "      <td>117.804503</td>\n",
       "      <td>0.058938</td>\n",
       "      <td>-1.378756</td>\n",
       "      <td>1.000395</td>\n",
       "      <td>1.000395</td>\n",
       "      <td>1.000000</td>\n",
       "      <td>1.000395</td>\n",
       "      <td>0.0</td>\n",
       "      <td>1.0</td>\n",
       "      <td>1.0</td>\n",
       "    </tr>\n",
       "    <tr>\n",
       "      <th>109565</th>\n",
       "      <td>109565</td>\n",
       "      <td>1111019.0</td>\n",
       "      <td>1.270</td>\n",
       "      <td>1.0</td>\n",
       "      <td>0.207692</td>\n",
       "      <td>1.051802</td>\n",
       "      <td>2.234</td>\n",
       "      <td>1.052081</td>\n",
       "      <td>-0.054590</td>\n",
       "      <td>-0.347843</td>\n",
       "      <td>...</td>\n",
       "      <td>117.804503</td>\n",
       "      <td>0.058938</td>\n",
       "      <td>-1.378756</td>\n",
       "      <td>1.000395</td>\n",
       "      <td>1.000395</td>\n",
       "      <td>1.000000</td>\n",
       "      <td>1.000395</td>\n",
       "      <td>0.0</td>\n",
       "      <td>1.0</td>\n",
       "      <td>1.0</td>\n",
       "    </tr>\n",
       "    <tr>\n",
       "      <th>109566</th>\n",
       "      <td>109566</td>\n",
       "      <td>1111029.0</td>\n",
       "      <td>1.201</td>\n",
       "      <td>1.0</td>\n",
       "      <td>0.289192</td>\n",
       "      <td>1.043148</td>\n",
       "      <td>2.234</td>\n",
       "      <td>1.062986</td>\n",
       "      <td>-0.218546</td>\n",
       "      <td>-0.253512</td>\n",
       "      <td>...</td>\n",
       "      <td>117.804503</td>\n",
       "      <td>0.058938</td>\n",
       "      <td>-1.378756</td>\n",
       "      <td>1.000395</td>\n",
       "      <td>1.000395</td>\n",
       "      <td>1.000000</td>\n",
       "      <td>1.000395</td>\n",
       "      <td>0.0</td>\n",
       "      <td>1.0</td>\n",
       "      <td>1.0</td>\n",
       "    </tr>\n",
       "    <tr>\n",
       "      <th>109567</th>\n",
       "      <td>109567</td>\n",
       "      <td>1111039.0</td>\n",
       "      <td>0.817</td>\n",
       "      <td>1.0</td>\n",
       "      <td>0.325923</td>\n",
       "      <td>1.044318</td>\n",
       "      <td>2.234</td>\n",
       "      <td>1.074653</td>\n",
       "      <td>-0.323610</td>\n",
       "      <td>-0.228254</td>\n",
       "      <td>...</td>\n",
       "      <td>117.804503</td>\n",
       "      <td>0.058938</td>\n",
       "      <td>-1.378756</td>\n",
       "      <td>1.000395</td>\n",
       "      <td>1.000395</td>\n",
       "      <td>1.000000</td>\n",
       "      <td>1.000395</td>\n",
       "      <td>0.0</td>\n",
       "      <td>1.0</td>\n",
       "      <td>1.0</td>\n",
       "    </tr>\n",
       "  </tbody>\n",
       "</table>\n",
       "<p>109568 rows × 158 columns</p>\n",
       "</div>"
      ],
      "text/plain": [
       "         index  Unnamed: 0_x  Horiz_acc  id_x  av_horiz  sd_horiz  peak_horiz  \\\n",
       "0            0       15369.0     -0.606   1.0 -0.035885  0.305700       0.595   \n",
       "1            1       15379.0      0.283   1.0 -0.022923  0.311981       0.595   \n",
       "2            2       15389.0     -0.085   1.0 -0.040731  0.301209       0.595   \n",
       "3            3       15399.0     -0.216   1.0 -0.055154  0.300240       0.595   \n",
       "4            4       15409.0      0.588   1.0 -0.026231  0.324570       0.595   \n",
       "...        ...           ...        ...   ...       ...       ...         ...   \n",
       "109563  109563     1110999.0      1.143   1.0  0.087846  1.105386       2.234   \n",
       "109564  109564     1111009.0     -0.119   1.0  0.085962  1.105708       2.234   \n",
       "109565  109565     1111019.0      1.270   1.0  0.207692  1.051802       2.234   \n",
       "109566  109566     1111029.0      1.201   1.0  0.289192  1.043148       2.234   \n",
       "109567  109567     1111039.0      0.817   1.0  0.325923  1.044318       2.234   \n",
       "\n",
       "        rms_horiz  skew_horiz  kurt_horiz  ...    rms_temp  skew_temp  \\\n",
       "0        0.301904   -0.020307   -0.203469  ...   63.640287  -0.025377   \n",
       "1        0.306780   -0.107927   -0.370114  ...   63.640287  -0.025377   \n",
       "2        0.298155   -0.030118   -0.132409  ...   63.640287  -0.025377   \n",
       "3        0.299531    0.104462   -0.093631  ...   63.640287  -0.025377   \n",
       "4        0.319346    0.131074   -0.325532  ...   63.640287  -0.025377   \n",
       "...           ...         ...         ...  ...         ...        ...   \n",
       "109563   1.087474   -0.029527   -0.402650  ...  117.804503   0.058938   \n",
       "109564   1.087638   -0.024119   -0.405813  ...  117.804503   0.058938   \n",
       "109565   1.052081   -0.054590   -0.347843  ...  117.804503   0.058938   \n",
       "109566   1.062986   -0.218546   -0.253512  ...  117.804503   0.058938   \n",
       "109567   1.074653   -0.323610   -0.228254  ...  117.804503   0.058938   \n",
       "\n",
       "        kurt_temp  crest_temp  clear_temp  shape_temp  imp_temp   RUL_y   id  \\\n",
       "0       -1.241693    1.001630    1.001631    1.000001  1.001630  4270.1  1.0   \n",
       "1       -1.241693    1.001630    1.001631    1.000001  1.001630  4270.1  1.0   \n",
       "2       -1.241693    1.001630    1.001631    1.000001  1.001630  4270.1  1.0   \n",
       "3       -1.241693    1.001630    1.001631    1.000001  1.001630  4270.1  1.0   \n",
       "4       -1.241693    1.001630    1.001631    1.000001  1.001630  4270.1  1.0   \n",
       "...           ...         ...         ...         ...       ...     ...  ...   \n",
       "109563  -1.378756    1.000395    1.000395    1.000000  1.000395     0.0  1.0   \n",
       "109564  -1.378756    1.000395    1.000395    1.000000  1.000395     0.0  1.0   \n",
       "109565  -1.378756    1.000395    1.000395    1.000000  1.000395     0.0  1.0   \n",
       "109566  -1.378756    1.000395    1.000395    1.000000  1.000395     0.0  1.0   \n",
       "109567  -1.378756    1.000395    1.000395    1.000000  1.000395     0.0  1.0   \n",
       "\n",
       "        time_group  \n",
       "0              0.0  \n",
       "1              0.0  \n",
       "2              0.0  \n",
       "3              0.0  \n",
       "4              0.0  \n",
       "...            ...  \n",
       "109563         1.0  \n",
       "109564         1.0  \n",
       "109565         1.0  \n",
       "109566         1.0  \n",
       "109567         1.0  \n",
       "\n",
       "[109568 rows x 158 columns]"
      ]
     },
     "execution_count": 31,
     "metadata": {},
     "output_type": "execute_result"
    }
   ],
   "source": [
    "one_train"
   ]
  },
  {
   "cell_type": "code",
   "execution_count": 32,
   "metadata": {},
   "outputs": [],
   "source": [
    "one_train = three_time_group(one_train)\n",
    "one_test = three_time_group(one_test)\n",
    "# one_train = one_train.reset_index()\n",
    "# one_test = one_test.reset_index()\n",
    "X_train = one_train.drop([\"index\",\"Unnamed: 0_x\",\"Unnamed: 0_y\",\"RUL_x\",\"RUL_y\",\"round_RUL\",\"id\",\"id_x\",\"id.1\",\"id.2\",\"time_group\"], axis=1)\n",
    "X_test = one_test.drop([\"index\",\"Unnamed: 0_x\",\"Unnamed: 0_y\",\"RUL_x\",\"RUL_y\",\"round_RUL\",\"id\",\"id_x\",\"id.1\",\"id.2\",\"time_group\"], axis=1)\n",
    "y_train = one_train[\"time_group\"]\n",
    "y_test = one_test[\"time_group\"]"
   ]
  },
  {
   "cell_type": "code",
   "execution_count": 33,
   "metadata": {},
   "outputs": [
    {
     "data": {
      "text/plain": [
       "[<matplotlib.lines.Line2D at 0x1f689a99390>]"
      ]
     },
     "execution_count": 33,
     "metadata": {},
     "output_type": "execute_result"
    },
    {
     "data": {
      "image/png": "[encoded data removed]",
      "text/plain": [
       "<Figure size 432x288 with 1 Axes>"
      ]
     },
     "metadata": {
      "needs_background": "light"
     },
     "output_type": "display_data"
    }
   ],
   "source": [
    "plt.plot(y_train)"
   ]
  },
  {
   "cell_type": "code",
   "execution_count": 34,
   "metadata": {},
   "outputs": [
    {
     "data": {
      "text/plain": [
       "RandomForestClassifier(bootstrap=True, ccp_alpha=0.0, class_weight=None,\n",
       "                       criterion='gini', max_depth=6, max_features='auto',\n",
       "                       max_leaf_nodes=None, max_samples=None,\n",
       "                       min_impurity_decrease=0.0, min_impurity_split=None,\n",
       "                       min_samples_leaf=1, min_samples_split=100,\n",
       "                       min_weight_fraction_leaf=0.0, n_estimators=50, n_jobs=-1,\n",
       "                       oob_score=False, random_state=0, verbose=0,\n",
       "                       warm_start=False)"
      ]
     },
     "execution_count": 34,
     "metadata": {},
     "output_type": "execute_result"
    }
   ],
   "source": [
    "rf = RandomForestClassifier(random_state=0,max_depth=6,n_estimators=50,min_samples_split=100,n_jobs=-1)\n",
    "rf.fit(X_train, y_train)"
   ]
  },
  {
   "cell_type": "code",
   "execution_count": 35,
   "metadata": {},
   "outputs": [
    {
     "name": "stdout",
     "output_type": "stream",
     "text": [
      "accuracy training: 0.992, accuracy testing: 0.529\n",
      "F1 training: 0.992, F1 testing: 0.391\n"
     ]
    }
   ],
   "source": [
    "y_test_predict = rf.predict(X_test)\n",
    "y_train_predict = rf.predict(X_train)\n",
    "\n",
    "train_score = accuracy_score(y_train, y_train_predict)\n",
    "test_score = accuracy_score(y_test, y_test_predict)\n",
    "train_f1 = f1_score(y_train, y_train_predict,average=\"weighted\")\n",
    "test_f1 = f1_score(y_test, y_test_predict,average=\"weighted\")\n",
    "print('accuracy training: %.3f, accuracy testing: %.3f' % (\n",
    "      (train_score), (test_score)))\n",
    "print('F1 training: %.3f, F1 testing: %.3f' % (\n",
    "      (train_f1), (test_f1)))"
   ]
  },
  {
   "cell_type": "code",
   "execution_count": 36,
   "metadata": {},
   "outputs": [
    {
     "data": {
      "image/png": "[encoded data removed]",
      "text/plain": [
       "<Figure size 576x720 with 1 Axes>"
      ]
     },
     "metadata": {
      "needs_background": "light"
     },
     "output_type": "display_data"
    }
   ],
   "source": [
    "plot_features_weights('Random forest',rf.feature_importances_, X_train.columns)"
   ]
  },
  {
   "cell_type": "code",
   "execution_count": 37,
   "metadata": {},
   "outputs": [],
   "source": [
    "one_train = four_time_group(one_train)\n",
    "one_test = four_time_group(one_test)\n",
    "#one_train = one_train.reset_index()\n",
    "#one_test = one_test.reset_index()\n",
    "X_train = one_train.drop([\"index\",\"Unnamed: 0_x\",\"Unnamed: 0_y\",\"RUL_x\",\"RUL_y\",\"round_RUL\",\"id\",\"id_x\",\"id.1\",\"id.2\",\"time_group\"], axis=1)\n",
    "X_test = one_test.drop([\"index\",\"Unnamed: 0_x\",\"Unnamed: 0_y\",\"RUL_x\",\"RUL_y\",\"round_RUL\",\"id\",\"id_x\",\"id.1\",\"id.2\",\"time_group\"], axis=1)\n",
    "y_train = one_train[\"time_group\"]\n",
    "y_test = one_test[\"time_group\"]"
   ]
  },
  {
   "cell_type": "code",
   "execution_count": 38,
   "metadata": {},
   "outputs": [
    {
     "data": {
      "text/plain": [
       "[<matplotlib.lines.Line2D at 0x1f6891770f0>]"
      ]
     },
     "execution_count": 38,
     "metadata": {},
     "output_type": "execute_result"
    },
    {
     "data": {
      "image/png": "[encoded data removed]",
      "text/plain": [
       "<Figure size 432x288 with 1 Axes>"
      ]
     },
     "metadata": {
      "needs_background": "light"
     },
     "output_type": "display_data"
    }
   ],
   "source": [
    "plt.plot(y_train)"
   ]
  },
  {
   "cell_type": "code",
   "execution_count": 39,
   "metadata": {},
   "outputs": [
    {
     "data": {
      "text/plain": [
       "RandomForestClassifier(bootstrap=True, ccp_alpha=0.0, class_weight=None,\n",
       "                       criterion='gini', max_depth=6, max_features='auto',\n",
       "                       max_leaf_nodes=None, max_samples=None,\n",
       "                       min_impurity_decrease=0.0, min_impurity_split=None,\n",
       "                       min_samples_leaf=1, min_samples_split=100,\n",
       "                       min_weight_fraction_leaf=0.0, n_estimators=50, n_jobs=-1,\n",
       "                       oob_score=False, random_state=0, verbose=0,\n",
       "                       warm_start=False)"
      ]
     },
     "execution_count": 39,
     "metadata": {},
     "output_type": "execute_result"
    }
   ],
   "source": [
    "rf = RandomForestClassifier(random_state=0,max_depth=6,n_estimators=50,min_samples_split=100,n_jobs=-1)\n",
    "rf.fit(X_train, y_train)"
   ]
  },
  {
   "cell_type": "code",
   "execution_count": 71,
   "metadata": {},
   "outputs": [
    {
     "data": {
      "text/plain": [
       "0.0    391163\n",
       "1.0    195519\n",
       "3.0     97824\n",
       "2.0     97824\n",
       "Name: time_group, dtype: int64"
      ]
     },
     "execution_count": 71,
     "metadata": {},
     "output_type": "execute_result"
    }
   ],
   "source": [
    "y_train.value_counts()"
   ]
  },
  {
   "cell_type": "code",
   "execution_count": 75,
   "metadata": {},
   "outputs": [
    {
     "data": {
      "text/plain": [
       "0.0    115328\n",
       "1.0     57664\n",
       "3.0     28928\n",
       "2.0     28736\n",
       "Name: time_group, dtype: int64"
      ]
     },
     "execution_count": 75,
     "metadata": {},
     "output_type": "execute_result"
    }
   ],
   "source": [
    "y_test.value_counts()"
   ]
  },
  {
   "cell_type": "code",
   "execution_count": 74,
   "metadata": {},
   "outputs": [
    {
     "data": {
      "text/plain": [
       "0.0    541725\n",
       "1.0    163224\n",
       "3.0     73421\n",
       "2.0      3960\n",
       "Name: 0, dtype: int64"
      ]
     },
     "execution_count": 74,
     "metadata": {},
     "output_type": "execute_result"
    }
   ],
   "source": [
    "pd.DataFrame(y_train_predict)[0].value_counts()"
   ]
  },
  {
   "cell_type": "code",
   "execution_count": 76,
   "metadata": {},
   "outputs": [
    {
     "data": {
      "text/plain": [
       "0.0    230319\n",
       "3.0       334\n",
       "1.0         3\n",
       "Name: 0, dtype: int64"
      ]
     },
     "execution_count": 76,
     "metadata": {},
     "output_type": "execute_result"
    }
   ],
   "source": [
    "pd.DataFrame(y_test_predict)[0].value_counts()"
   ]
  },
  {
   "cell_type": "code",
   "execution_count": 40,
   "metadata": {},
   "outputs": [
    {
     "name": "stdout",
     "output_type": "stream",
     "text": [
      "accuracy training: 0.990, accuracy testing: 0.500\n",
      "F1 training: 0.990, F1 testing: 0.342\n"
     ]
    }
   ],
   "source": [
    "y_test_predict = rf.predict(X_test)\n",
    "y_train_predict = rf.predict(X_train)\n",
    "\n",
    "train_score = accuracy_score(y_train, y_train_predict)\n",
    "test_score = accuracy_score(y_test, y_test_predict)\n",
    "train_f1 = f1_score(y_train, y_train_predict,average=\"weighted\")\n",
    "test_f1 = f1_score(y_test, y_test_predict,average=\"weighted\")\n",
    "print('accuracy training: %.3f, accuracy testing: %.3f' % (\n",
    "      (train_score), (test_score)))\n",
    "print('F1 training: %.3f, F1 testing: %.3f' % (\n",
    "      (train_f1), (test_f1)))"
   ]
  },
  {
   "cell_type": "code",
   "execution_count": 69,
   "metadata": {},
   "outputs": [
    {
     "data": {
      "text/plain": [
       "0         0.0\n",
       "1         0.0\n",
       "2         0.0\n",
       "3         0.0\n",
       "4         0.0\n",
       "         ... \n",
       "782326    3.0\n",
       "782327    3.0\n",
       "782328    3.0\n",
       "782329    3.0\n",
       "782330    3.0\n",
       "Name: time_group, Length: 782330, dtype: float64"
      ]
     },
     "execution_count": 69,
     "metadata": {},
     "output_type": "execute_result"
    }
   ],
   "source": [
    "y_train"
   ]
  },
  {
   "cell_type": "code",
   "execution_count": 41,
   "metadata": {},
   "outputs": [
    {
     "data": {
      "text/plain": [
       "[<matplotlib.lines.Line2D at 0x1f6891aa9e8>]"
      ]
     },
     "execution_count": 41,
     "metadata": {},
     "output_type": "execute_result"
    },
    {
     "data": {
      "image/png": "[encoded data removed]",
      "text/plain": [
       "<Figure size 720x360 with 1 Axes>"
      ]
     },
     "metadata": {
      "needs_background": "light"
     },
     "output_type": "display_data"
    }
   ],
   "source": [
    "plt.figure(figsize=(10,5))\n",
    "plt.plot(y_test)\n",
    "plt.plot(y_test_predict)"
   ]
  },
  {
   "cell_type": "code",
   "execution_count": null,
   "metadata": {},
   "outputs": [],
   "source": [
    "ans_df = pd.DataFrame(y_train)"
   ]
  },
  {
   "cell_type": "code",
   "execution_count": null,
   "metadata": {},
   "outputs": [],
   "source": [
    "ans_df[\"rf_predict\"] = y_train_predict"
   ]
  },
  {
   "cell_type": "code",
   "execution_count": null,
   "metadata": {},
   "outputs": [],
   "source": [
    "\n",
    "train_mape = mean_absolute_error(y_train, y_train_predict)\n",
    "test_mape = mean_absolute_error(y_test, y_test_predict)\n",
    "print('MAE training: %.3f, MAE testing: %.3f' % (\n",
    "      (train_mape), (test_mape)))"
   ]
  },
  {
   "cell_type": "code",
   "execution_count": null,
   "metadata": {},
   "outputs": [],
   "source": [
    "y_train = ans_df[ans_df[\"RUL\"]<500][\"RUL\"]\n",
    "y_train_predict = ans_df[ans_df[\"RUL\"]<500][\"rf_predict\"]\n",
    "train_mape = mean_absolute_error(y_train, y_train_predict)\n",
    "test_mape = mean_absolute_error(y_test, y_test_predict)\n",
    "print('MAE training: %.3f, MAE testing: %.3f' % (\n",
    "      (train_mape), (test_mape)))"
   ]
  },
  {
   "cell_type": "code",
   "execution_count": null,
   "metadata": {},
   "outputs": [],
   "source": [
    "y_train = ans_df[ans_df[\"RUL\"]<10000][\"RUL\"]\n",
    "y_train_predict = ans_df[ans_df[\"RUL\"]<10000][\"rf_predict\"]\n",
    "train_mape = mean_absolute_error(y_train, y_train_predict)\n",
    "test_mape = mean_absolute_error(y_test, y_test_predict)\n",
    "print('MAE training: %.3f, MAE testing: %.3f' % (\n",
    "      (train_mape), (test_mape)))"
   ]
  },
  {
   "cell_type": "code",
   "execution_count": null,
   "metadata": {},
   "outputs": [],
   "source": [
    "y_train = ans_df[ans_df[\"RUL\"]>10000][\"RUL\"]\n",
    "y_train_predict = ans_df[ans_df[\"RUL\"]>10000][\"rf_predict\"]\n",
    "train_mape = mean_absolute_error(y_train, y_train_predict)\n",
    "test_mape = mean_absolute_error(y_test, y_test_predict)\n",
    "print('MAE training: %.3f, MAE testing: %.3f' % (\n",
    "      (train_mape), (test_mape)))"
   ]
  },
  {
   "cell_type": "code",
   "execution_count": null,
   "metadata": {},
   "outputs": [],
   "source": [
    "ans_df[ans_df[\"RUL\"]>10000]"
   ]
  },
  {
   "cell_type": "code",
   "execution_count": null,
   "metadata": {},
   "outputs": [],
   "source": [
    "plt.scatter(ans_df.index,ans_df[\"RUL\"])"
   ]
  },
  {
   "cell_type": "code",
   "execution_count": null,
   "metadata": {},
   "outputs": [],
   "source": [
    "plot_features_weights('Random Forest Regressor', rf.feature_importances_, X_train.columns)"
   ]
  },
  {
   "cell_type": "code",
   "execution_count": null,
   "metadata": {},
   "outputs": [],
   "source": [
    "plot_residual('Random Forest Regressor',y_train, y_train_predict, y_test, y_test_predict)"
   ]
  },
  {
   "cell_type": "code",
   "execution_count": null,
   "metadata": {},
   "outputs": [],
   "source": [
    "y_train"
   ]
  },
  {
   "cell_type": "code",
   "execution_count": null,
   "metadata": {},
   "outputs": [],
   "source": [
    "y_train_predict "
   ]
  },
  {
   "cell_type": "code",
   "execution_count": null,
   "metadata": {},
   "outputs": [],
   "source": [
    "mean_absolute_percentage_error"
   ]
  },
  {
   "cell_type": "code",
   "execution_count": null,
   "metadata": {},
   "outputs": [],
   "source": [
    "X_train.isnull().values.any()"
   ]
  },
  {
   "cell_type": "code",
   "execution_count": null,
   "metadata": {},
   "outputs": [],
   "source": [
    "# 計算相關係數\n",
    "corr = one_train.corr()\n",
    "mask = np.triu(np.ones_like(corr, dtype=np.bool))\n",
    "f, ax = plt.subplots(figsize=(11, 9))\n",
    "cmap = sns.diverging_palette(220, 10, as_cmap=True)\n",
    "sns.heatmap(corr, mask=mask, cmap=cmap, vmax=.3, center=0,\n",
    "            square=True, linewidths=.5, cbar_kws={\"shrink\": .5})"
   ]
  },
  {
   "cell_type": "code",
   "execution_count": null,
   "metadata": {},
   "outputs": [],
   "source": [
    "plt.figure(figsize=(10,40))\n",
    "cmap = sns.diverging_palette(220, 10, as_cmap=True)\n",
    "sns.heatmap(pd.DataFrame(corr[\"RUL\"].sort_values(ascending=False)), cmap=cmap, vmax=.3, center=0,\n",
    "            square=True, linewidths=.5, cbar_kws={\"shrink\": .5})"
   ]
  },
  {
   "cell_type": "code",
   "execution_count": null,
   "metadata": {},
   "outputs": [],
   "source": [
    "plt.scatter(one_train[\"RUL\"],one_train[\"p2ph_vert\"])"
   ]
  },
  {
   "cell_type": "code",
   "execution_count": null,
   "metadata": {},
   "outputs": [],
   "source": [
    "plt.scatter(one_train[\"RUL\"],one_train[\"av_sum\"])"
   ]
  }
 ],
 "metadata": {
  "kernelspec": {
   "display_name": "Python 3",
   "language": "python",
   "name": "python3"
  },
  "language_info": {
   "codemirror_mode": {
    "name": "ipython",
    "version": 3
   },
   "file_extension": ".py",
   "mimetype": "text/x-python",
   "name": "python",
   "nbconvert_exporter": "python",
   "pygments_lexer": "ipython3",
   "version": "3.6.10"
  }
 },
 "nbformat": 4,
 "nbformat_minor": 4
}
