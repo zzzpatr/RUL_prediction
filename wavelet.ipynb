{
 "cells": [
  {
   "cell_type": "code",
   "execution_count": 1,
   "metadata": {},
   "outputs": [],
   "source": [
    "# -*- coding: utf-8 -*-\n",
    "import numpy as np\n",
    "import matplotlib.pyplot as plt\n",
    "from scipy import signal\n",
    "import matplotlib.gridspec as gridspec\n",
    "import matplotlib.cm as cm\n",
    "import pandas as pd\n",
    "import os\n",
    "import glob\n"
   ]
  },
  {
   "cell_type": "code",
   "execution_count": 2,
   "metadata": {},
   "outputs": [],
   "source": [
    "all_dir_list = glob.glob(\"*.csv\")"
   ]
  },
  {
   "cell_type": "code",
   "execution_count": 2,
   "metadata": {},
   "outputs": [
    {
     "ename": "AttributeError",
     "evalue": "module 'pandas' has no attribute 'read'",
     "output_type": "error",
     "traceback": [
      "\u001b[1;31m---------------------------------------------------------------------------\u001b[0m",
      "\u001b[1;31mAttributeError\u001b[0m                            Traceback (most recent call last)",
      "\u001b[1;32m<ipython-input-2-03032a82f0cc>\u001b[0m in \u001b[0;36m<module>\u001b[1;34m\u001b[0m\n\u001b[1;32m----> 1\u001b[1;33m \u001b[0mpd\u001b[0m\u001b[1;33m.\u001b[0m\u001b[0mread\u001b[0m\u001b[1;33m\u001b[0m\u001b[1;33m\u001b[0m\u001b[0m\n\u001b[0m",
      "\u001b[1;32mD:\\anaconda\\lib\\site-packages\\pandas\\__init__.py\u001b[0m in \u001b[0;36m__getattr__\u001b[1;34m(name)\u001b[0m\n\u001b[0;32m    256\u001b[0m             \u001b[1;32mreturn\u001b[0m \u001b[0m_SparseArray\u001b[0m\u001b[1;33m\u001b[0m\u001b[1;33m\u001b[0m\u001b[0m\n\u001b[0;32m    257\u001b[0m \u001b[1;33m\u001b[0m\u001b[0m\n\u001b[1;32m--> 258\u001b[1;33m         \u001b[1;32mraise\u001b[0m \u001b[0mAttributeError\u001b[0m\u001b[1;33m(\u001b[0m\u001b[1;34mf\"module 'pandas' has no attribute '{name}'\"\u001b[0m\u001b[1;33m)\u001b[0m\u001b[1;33m\u001b[0m\u001b[1;33m\u001b[0m\u001b[0m\n\u001b[0m\u001b[0;32m    259\u001b[0m \u001b[1;33m\u001b[0m\u001b[0m\n\u001b[0;32m    260\u001b[0m \u001b[1;33m\u001b[0m\u001b[0m\n",
      "\u001b[1;31mAttributeError\u001b[0m: module 'pandas' has no attribute 'read'"
     ]
    }
   ],
   "source": [
    "pd.read_csv"
   ]
  },
  {
   "cell_type": "code",
   "execution_count": null,
   "metadata": {},
   "outputs": [],
   "source": [
    "def wavelet():\n",
    "    "
   ]
  },
  {
   "cell_type": "code",
   "execution_count": null,
   "metadata": {},
   "outputs": [],
   "source": [
    "all_df = pd.read_csv(i)\n",
    "fs=256 # 一秒幾筆資料\n",
    "s_length= int(len(all_df)/256) # 總共幾筆資料\n",
    "x = np.arange(0, s_length, 1/fs) \n",
    "y = all_df['Horiz_acc'] #放入變數\n",
    "xsl = x.T[::10] \n",
    "m=6 #morlet中的波數\n",
    "list1 = range(8, 257, 8) #morlet的頻率\n",
    "print(i,\"start\") #開始轉換\n",
    "for freq in list1:\n",
    "    mw4=signal.morlet(int(fs/freq*m*2), m,1.0, complete=True)\n",
    "    corr_tmp=(np.correlate(y,mw4)/sum(abs(mw4)))\n",
    "    sup_first=np.zeros(int(len(mw4)/2))\n",
    "    sup_end=np.zeros(fs*s_length-len(corr_tmp)-int(len(mw4)/2))\n",
    "    #print (freq,fs*s_length,-len(corr_tmp),-int(len(mw4)/2),fs*s_length-len(corr_tmp)-int(len(mw4)/2))\n",
    "    corr_tmp=np.append(sup_first,corr_tmp)\n",
    "    corr_tmp=np.append(corr_tmp,sup_end)\n",
    "    if freq==list1[0]:\n",
    "        corr_stack=abs(corr_tmp[::1])\n",
    "    else:\n",
    "        corr_stack=np.vstack((corr_stack, abs(corr_tmp[::1])))\n",
    "wave_df = pd.DataFrame(corr_stack.T)\n",
    "new_columns = ['f8','f16','f24','f32','f40','f48','f56','f64','f72','f80','f88','f96','f104','f112','f120','f128','f136','f144','f152','f160','f168','f176','f184','f192','f200','f208','f216','f224','f232','f240','f248','f256']\n",
    "all_df[new_columns] = wave_df\n",
    "all_df.to_csv(\"wave \"+i,index=None)\n",
    "print(i,\"end\")"
   ]
  },
  {
   "cell_type": "code",
   "execution_count": 181,
   "metadata": {},
   "outputs": [
    {
     "name": "stdout",
     "output_type": "stream",
     "text": [
      "(rul)fe_1_1_acc.csv\n",
      "(rul)fe_1_2_acc.csv\n",
      "(rul)fe_1_3_acc.csv\n",
      "(rul)fe_1_4_acc.csv\n",
      "(rul)fe_1_5_acc.csv\n",
      "(rul)fe_1_6_acc.csv\n",
      "(rul)fe_1_7_acc.csv\n",
      "(rul)fe_2_1_acc.csv\n",
      "(rul)fe_2_2_acc.csv\n",
      "(rul)fe_2_3_acc.csv\n",
      "(rul)fe_2_4_acc.csv\n",
      "(rul)fe_2_5_acc.csv\n",
      "(rul)fe_2_6_acc.csv\n",
      "(rul)fe_2_7_acc.csv\n",
      "(rul)fe_3_1_acc.csv\n",
      "(rul)fe_3_2_acc.csv\n",
      "(rul)fe_3_3_acc.csv\n",
      "wave (rul)fe_1_1_acc.csv\n"
     ]
    }
   ],
   "source": [
    "for i in all_dir_list:\n",
    "    if \"rul\" in i:\n",
    "        print(i)"
   ]
  },
  {
   "cell_type": "code",
   "execution_count": 166,
   "metadata": {},
   "outputs": [],
   "source": [
    "df_test = pd.read_csv(\"(rul)fe_1_3_acc.csv\")"
   ]
  },
  {
   "cell_type": "code",
   "execution_count": 175,
   "metadata": {},
   "outputs": [
    {
     "data": {
      "text/plain": [
       "196"
      ]
     },
     "execution_count": 175,
     "metadata": {},
     "output_type": "execute_result"
    }
   ],
   "source": [
    "len(df_test) - 256*2181"
   ]
  },
  {
   "cell_type": "code",
   "execution_count": 177,
   "metadata": {},
   "outputs": [],
   "source": [
    "df_test = df_test[196:]"
   ]
  },
  {
   "cell_type": "code",
   "execution_count": 178,
   "metadata": {},
   "outputs": [],
   "source": [
    "df_test.to_csv(\"(rul)fe_1_3_acc.csv\",index=None)"
   ]
  },
  {
   "cell_type": "code",
   "execution_count": 188,
   "metadata": {},
   "outputs": [
    {
     "data": {
      "text/plain": [
       "0        -0.278\n",
       "1         0.011\n",
       "2         0.004\n",
       "3         0.053\n",
       "4        -0.231\n",
       "          ...  \n",
       "111099    0.293\n",
       "111100    0.632\n",
       "111101   -1.218\n",
       "111102    0.419\n",
       "111103   -3.113\n",
       "Name: vert_accel, Length: 111104, dtype: float64"
      ]
     },
     "execution_count": 188,
     "metadata": {},
     "output_type": "execute_result"
    }
   ],
   "source": [
    "all_df[\"vert_accel\"]"
   ]
  },
  {
   "cell_type": "code",
   "execution_count": 186,
   "metadata": {},
   "outputs": [
    {
     "data": {
      "text/plain": [
       "0         0.285498\n",
       "1         0.088685\n",
       "2         0.090089\n",
       "3         0.059481\n",
       "4         0.231487\n",
       "            ...   \n",
       "111099    1.179957\n",
       "111100    0.643106\n",
       "111101    1.759666\n",
       "111102    1.271991\n",
       "111103    3.218425\n",
       "Name: sum_acc, Length: 111104, dtype: float64"
      ]
     },
     "execution_count": 186,
     "metadata": {},
     "output_type": "execute_result"
    }
   ],
   "source": [
    "all_df[\"sum_acc\"]"
   ]
  },
  {
   "cell_type": "code",
   "execution_count": 182,
   "metadata": {},
   "outputs": [
    {
     "name": "stdout",
     "output_type": "stream",
     "text": [
      "(rul)fe_1_1_acc.csv start\n",
      "(rul)fe_1_1_acc.csv end\n",
      "(rul)fe_1_2_acc.csv start\n",
      "(rul)fe_1_2_acc.csv end\n",
      "(rul)fe_1_3_acc.csv start\n",
      "(rul)fe_1_3_acc.csv end\n",
      "(rul)fe_1_4_acc.csv start\n",
      "(rul)fe_1_4_acc.csv end\n",
      "(rul)fe_1_5_acc.csv start\n",
      "(rul)fe_1_5_acc.csv end\n",
      "(rul)fe_1_6_acc.csv start\n",
      "(rul)fe_1_6_acc.csv end\n",
      "(rul)fe_1_7_acc.csv start\n",
      "(rul)fe_1_7_acc.csv end\n",
      "(rul)fe_2_1_acc.csv start\n",
      "(rul)fe_2_1_acc.csv end\n",
      "(rul)fe_2_2_acc.csv start\n",
      "(rul)fe_2_2_acc.csv end\n",
      "(rul)fe_2_3_acc.csv start\n",
      "(rul)fe_2_3_acc.csv end\n",
      "(rul)fe_2_4_acc.csv start\n",
      "(rul)fe_2_4_acc.csv end\n",
      "(rul)fe_2_5_acc.csv start\n",
      "(rul)fe_2_5_acc.csv end\n",
      "(rul)fe_2_6_acc.csv start\n",
      "(rul)fe_2_6_acc.csv end\n",
      "(rul)fe_2_7_acc.csv start\n",
      "(rul)fe_2_7_acc.csv end\n",
      "(rul)fe_3_1_acc.csv start\n",
      "(rul)fe_3_1_acc.csv end\n",
      "(rul)fe_3_2_acc.csv start\n",
      "(rul)fe_3_2_acc.csv end\n",
      "(rul)fe_3_3_acc.csv start\n",
      "(rul)fe_3_3_acc.csv end\n"
     ]
    }
   ],
   "source": [
    "for i in all_dir_list:\n",
    "    if \"rul\" in i and \"wave\" not in i:\n",
    "        all_df = pd.read_csv(i)\n",
    "        fs=256 # 一秒幾筆資料\n",
    "        s_length= int(len(all_df)/256) # 總共幾筆資料\n",
    "        x = np.arange(0, s_length, 1/fs) \n",
    "        y = all_df['Horiz_acc'] #放入變數\n",
    "        xsl = x.T[::10] \n",
    "        m=6 #morlet中的波數\n",
    "        list1 = range(8, 257, 8) #morlet的頻率\n",
    "        print(i,\"start\") #開始轉換\n",
    "        for freq in list1:\n",
    "            mw4=signal.morlet(int(fs/freq*m*2), m,1.0, complete=True)\n",
    "            corr_tmp=(np.correlate(y,mw4)/sum(abs(mw4)))\n",
    "            sup_first=np.zeros(int(len(mw4)/2))\n",
    "            sup_end=np.zeros(fs*s_length-len(corr_tmp)-int(len(mw4)/2))\n",
    "            #print (freq,fs*s_length,-len(corr_tmp),-int(len(mw4)/2),fs*s_length-len(corr_tmp)-int(len(mw4)/2))\n",
    "            corr_tmp=np.append(sup_first,corr_tmp)\n",
    "            corr_tmp=np.append(corr_tmp,sup_end)\n",
    "            if freq==list1[0]:\n",
    "              corr_stack=abs(corr_tmp[::1])\n",
    "            else:\n",
    "              corr_stack=np.vstack((corr_stack, abs(corr_tmp[::1])))\n",
    "        wave_df = pd.DataFrame(corr_stack.T)\n",
    "        new_columns = ['f8', 'f16','f24','f32','f40','f48','f56','f64','f72','f80','f88','f96','f104','f112','f120','f128','f136','f144','f152','f160','f168','f176','f184','f192','f200','f208','f216','f224','f232','f240','f248','f256']\n",
    "        all_df[new_columns] = wave_df\n",
    "        all_df.to_csv(\"wave \"+i,index=None)\n",
    "        print(i,\"end\")"
   ]
  },
  {
   "cell_type": "code",
   "execution_count": 190,
   "metadata": {},
   "outputs": [
    {
     "data": {
      "text/plain": [
       "['f8_vert',\n",
       " 'f16_vert',\n",
       " 'f24_vert',\n",
       " 'f32_vert',\n",
       " 'f40_vert',\n",
       " 'f48_vert',\n",
       " 'f56_vert',\n",
       " 'f64_vert',\n",
       " 'f72_vert',\n",
       " 'f80_vert',\n",
       " 'f88_vert',\n",
       " 'f96_vert',\n",
       " 'f104_vert',\n",
       " 'f112_vert',\n",
       " 'f120_vert',\n",
       " 'f128_vert',\n",
       " 'f136_vert',\n",
       " 'f144_vert',\n",
       " 'f152_vert',\n",
       " 'f160_vert',\n",
       " 'f168_vert',\n",
       " 'f176_vert',\n",
       " 'f184_vert',\n",
       " 'f192_vert',\n",
       " 'f200_vert',\n",
       " 'f208_vert',\n",
       " 'f216_vert',\n",
       " 'f224_vert',\n",
       " 'f232_vert',\n",
       " 'f240_vert',\n",
       " 'f248_vert',\n",
       " 'f256_vert']"
      ]
     },
     "execution_count": 190,
     "metadata": {},
     "output_type": "execute_result"
    }
   ],
   "source": [
    "new_vert = []\n",
    "for i in new_columns:\n",
    "    new_vert.append(i+\"_vert\")\n",
    "new_vert"
   ]
  },
  {
   "cell_type": "code",
   "execution_count": 203,
   "metadata": {},
   "outputs": [],
   "source": [
    "all_dir_list = glob.glob(\"*.csv\")\n",
    "all_wave_list = []\n",
    "for i in all_dir_list:\n",
    "    if \"rul\" in i and \"wav1\" in i:\n",
    "        all_wave_list.append(i)"
   ]
  },
  {
   "cell_type": "code",
   "execution_count": 206,
   "metadata": {},
   "outputs": [
    {
     "data": {
      "text/plain": [
       "['wav1 wave (rul)fe_1_1_acc.csv',\n",
       " 'wav1 wave (rul)fe_1_2_acc.csv',\n",
       " 'wav1 wave (rul)fe_1_3_acc.csv',\n",
       " 'wav1 wave (rul)fe_1_4_acc.csv',\n",
       " 'wav1 wave (rul)fe_1_5_acc.csv',\n",
       " 'wav1 wave (rul)fe_1_6_acc.csv',\n",
       " 'wav1 wave (rul)fe_1_7_acc.csv',\n",
       " 'wav1 wave (rul)fe_2_1_acc.csv',\n",
       " 'wav1 wave (rul)fe_2_2_acc.csv',\n",
       " 'wav1 wave (rul)fe_2_3_acc.csv',\n",
       " 'wav1 wave (rul)fe_2_4_acc.csv',\n",
       " 'wav1 wave (rul)fe_2_5_acc.csv',\n",
       " 'wav1 wave (rul)fe_2_6_acc.csv',\n",
       " 'wav1 wave (rul)fe_2_7_acc.csv',\n",
       " 'wav1 wave (rul)fe_3_1_acc.csv',\n",
       " 'wav1 wave (rul)fe_3_2_acc.csv',\n",
       " 'wav1 wave (rul)fe_3_3_acc.csv']"
      ]
     },
     "execution_count": 206,
     "metadata": {},
     "output_type": "execute_result"
    }
   ],
   "source": [
    "all_wave_list"
   ]
  },
  {
   "cell_type": "code",
   "execution_count": 200,
   "metadata": {},
   "outputs": [
    {
     "name": "stdout",
     "output_type": "stream",
     "text": [
      "wave (rul)fe_1_2_acc.csv start\n",
      "wave (rul)fe_1_2_acc.csv end\n",
      "wave (rul)fe_1_3_acc.csv start\n",
      "wave (rul)fe_1_3_acc.csv end\n",
      "wave (rul)fe_1_4_acc.csv start\n",
      "wave (rul)fe_1_4_acc.csv end\n",
      "wave (rul)fe_1_5_acc.csv start\n",
      "wave (rul)fe_1_5_acc.csv end\n",
      "wave (rul)fe_1_6_acc.csv start\n",
      "wave (rul)fe_1_6_acc.csv end\n",
      "wave (rul)fe_1_7_acc.csv start\n",
      "wave (rul)fe_1_7_acc.csv end\n",
      "wave (rul)fe_2_1_acc.csv start\n",
      "wave (rul)fe_2_1_acc.csv end\n",
      "wave (rul)fe_2_2_acc.csv start\n",
      "wave (rul)fe_2_2_acc.csv end\n",
      "wave (rul)fe_2_3_acc.csv start\n",
      "wave (rul)fe_2_3_acc.csv end\n",
      "wave (rul)fe_2_4_acc.csv start\n",
      "wave (rul)fe_2_4_acc.csv end\n",
      "wave (rul)fe_2_5_acc.csv start\n",
      "wave (rul)fe_2_5_acc.csv end\n",
      "wave (rul)fe_2_6_acc.csv start\n",
      "wave (rul)fe_2_6_acc.csv end\n",
      "wave (rul)fe_2_7_acc.csv start\n",
      "wave (rul)fe_2_7_acc.csv end\n",
      "wave (rul)fe_3_1_acc.csv start\n",
      "wave (rul)fe_3_1_acc.csv end\n",
      "wave (rul)fe_3_2_acc.csv start\n",
      "wave (rul)fe_3_2_acc.csv end\n",
      "wave (rul)fe_3_3_acc.csv start\n",
      "wave (rul)fe_3_3_acc.csv end\n"
     ]
    }
   ],
   "source": [
    "for i in all_wave_list[2:]:\n",
    "        all_df = pd.read_csv(i)\n",
    "        fs=256 # 一秒幾筆資料\n",
    "        s_length= int(len(all_df)/256) # 總共幾筆資料\n",
    "        x = np.arange(0, s_length, 1/fs) \n",
    "        y = all_df[\"vert_accel\"] #放入變數\n",
    "        xsl = x.T[::10] \n",
    "        m=6 #morlet中的波數\n",
    "        list1 = range(8, 257, 8) #morlet的頻率\n",
    "        print(i,\"start\") #開始轉換\n",
    "        for freq in list1:\n",
    "            mw4=signal.morlet(int(fs/freq*m*2), m,1.0, complete=True)\n",
    "            corr_tmp=(np.correlate(y,mw4)/sum(abs(mw4)))\n",
    "            sup_first=np.zeros(int(len(mw4)/2))\n",
    "            sup_end=np.zeros(fs*s_length-len(corr_tmp)-int(len(mw4)/2))\n",
    "            #print (freq,fs*s_length,-len(corr_tmp),-int(len(mw4)/2),fs*s_length-len(corr_tmp)-int(len(mw4)/2))\n",
    "            corr_tmp=np.append(sup_first,corr_tmp)\n",
    "            corr_tmp=np.append(corr_tmp,sup_end)\n",
    "            if freq==list1[0]:\n",
    "              corr_stack=abs(corr_tmp[::1])\n",
    "            else:\n",
    "              corr_stack=np.vstack((corr_stack, abs(corr_tmp[::1])))\n",
    "        wave_df = pd.DataFrame(corr_stack.T)\n",
    "        new_columns = new_vert\n",
    "        all_df[new_columns] = wave_df\n",
    "        all_df.to_csv(\"wav1 \"+i,index=None)\n",
    "        print(i,\"end\")"
   ]
  },
  {
   "cell_type": "code",
   "execution_count": 5,
   "metadata": {},
   "outputs": [
    {
     "data": {
      "text/plain": [
       "['f8_sum',\n",
       " 'f16_sum',\n",
       " 'f24_sum',\n",
       " 'f32_sum',\n",
       " 'f40_sum',\n",
       " 'f48_sum',\n",
       " 'f56_sum',\n",
       " 'f64_sum',\n",
       " 'f72_sum',\n",
       " 'f80_sum',\n",
       " 'f88_sum',\n",
       " 'f96_sum',\n",
       " 'f104_sum',\n",
       " 'f112_sum',\n",
       " 'f120_sum',\n",
       " 'f128_sum',\n",
       " 'f136_sum',\n",
       " 'f144_sum',\n",
       " 'f152_sum',\n",
       " 'f160_sum',\n",
       " 'f168_sum',\n",
       " 'f176_sum',\n",
       " 'f184_sum',\n",
       " 'f192_sum',\n",
       " 'f200_sum',\n",
       " 'f208_sum',\n",
       " 'f216_sum',\n",
       " 'f224_sum',\n",
       " 'f232_sum',\n",
       " 'f240_sum',\n",
       " 'f248_sum',\n",
       " 'f256_sum']"
      ]
     },
     "execution_count": 5,
     "metadata": {},
     "output_type": "execute_result"
    }
   ],
   "source": [
    "new_columns = ['f8', 'f16','f24','f32','f40','f48','f56','f64','f72','f80','f88','f96','f104','f112','f120','f128','f136','f144','f152','f160','f168','f176','f184','f192','f200','f208','f216','f224','f232','f240','f248','f256']\n",
    "new_sum = []\n",
    "for i in new_columns:\n",
    "    new_sum.append(i+\"_sum\")\n",
    "new_sum"
   ]
  },
  {
   "cell_type": "code",
   "execution_count": 6,
   "metadata": {},
   "outputs": [],
   "source": [
    "all_dir_list = glob.glob(\"*.csv\")\n",
    "all_wave_list = []\n",
    "for i in all_dir_list:\n",
    "    if \"rul\" in i and \"wav1\" in i:\n",
    "        all_wave_list.append(i)"
   ]
  },
  {
   "cell_type": "code",
   "execution_count": 16,
   "metadata": {},
   "outputs": [
    {
     "data": {
      "text/plain": [
       "['wav1 wave (rul)fe_2_6_acc.csv',\n",
       " 'wav1 wave (rul)fe_2_7_acc.csv',\n",
       " 'wav1 wave (rul)fe_3_1_acc.csv',\n",
       " 'wav1 wave (rul)fe_3_2_acc.csv',\n",
       " 'wav1 wave (rul)fe_3_3_acc.csv']"
      ]
     },
     "execution_count": 16,
     "metadata": {},
     "output_type": "execute_result"
    }
   ],
   "source": [
    "all_wave_list[12:]"
   ]
  },
  {
   "cell_type": "code",
   "execution_count": null,
   "metadata": {},
   "outputs": [],
   "source": [
    "for i in all_wave_list:\n",
    "        all_df = pd.read_csv(i)\n",
    "        fs=256 # 一秒幾筆資料\n",
    "        s_length= int(len(all_df)/256) # 總共幾筆資料\n",
    "        x = np.arange(0, s_length, 1/fs) \n",
    "        y = all_df[\"vert_accel\"] #放入變數\n",
    "        xsl = x.T[::10] \n",
    "        m=6 #morlet中的波數\n",
    "        list1 = range(8, 257, 8) #morlet的頻率\n",
    "        print(i,\"start\") #開始轉換\n",
    "        for freq in list1:\n",
    "            mw4=signal.morlet(int(fs/freq*m*2), m,1.0, complete=True)\n",
    "            corr_tmp=(np.correlate(y,mw4)/sum(abs(mw4)))\n",
    "            sup_first=np.zeros(int(len(mw4)/2))\n",
    "            sup_end=np.zeros(fs*s_length-len(corr_tmp)-int(len(mw4)/2))\n",
    "            #print (freq,fs*s_length,-len(corr_tmp),-int(len(mw4)/2),fs*s_length-len(corr_tmp)-int(len(mw4)/2))\n",
    "            corr_tmp=np.append(sup_first,corr_tmp)\n",
    "            corr_tmp=np.append(corr_tmp,sup_end)\n",
    "            if freq==list1[0]:\n",
    "              corr_stack=abs(corr_tmp[::1])\n",
    "            else:\n",
    "              corr_stack=np.vstack((corr_stack, abs(corr_tmp[::1])))\n",
    "        wave_df = pd.DataFrame(corr_stack.T)\n",
    "        new_columns = new_sum\n",
    "        all_df[new_columns] = wave_df\n",
    "        all_df.to_csv(\"wavs \"+i[9:],index=None)\n",
    "        print(i,\"end\")"
   ]
  },
  {
   "cell_type": "code",
   "execution_count": 17,
   "metadata": {},
   "outputs": [
    {
     "name": "stdout",
     "output_type": "stream",
     "text": [
      "wav1 wave (rul)fe_2_6_acc.csv start\n",
      "wav1 wave (rul)fe_2_6_acc.csv end\n",
      "wav1 wave (rul)fe_2_7_acc.csv start\n",
      "wav1 wave (rul)fe_2_7_acc.csv end\n",
      "wav1 wave (rul)fe_3_1_acc.csv start\n",
      "wav1 wave (rul)fe_3_1_acc.csv end\n",
      "wav1 wave (rul)fe_3_2_acc.csv start\n",
      "wav1 wave (rul)fe_3_2_acc.csv end\n",
      "wav1 wave (rul)fe_3_3_acc.csv start\n",
      "wav1 wave (rul)fe_3_3_acc.csv end\n"
     ]
    }
   ],
   "source": [
    "for i in all_wave_list[12:]:\n",
    "        all_df = pd.read_csv(i)\n",
    "        fs=256 # 一秒幾筆資料\n",
    "        s_length= int(len(all_df)/256) # 總共幾筆資料\n",
    "        x = np.arange(0, s_length, 1/fs) \n",
    "        y = all_df[\"vert_accel\"] #放入變數\n",
    "        xsl = x.T[::10] \n",
    "        m=6 #morlet中的波數\n",
    "        list1 = range(8, 257, 8) #morlet的頻率\n",
    "        print(i,\"start\") #開始轉換\n",
    "        for freq in list1:\n",
    "            mw4=signal.morlet(int(fs/freq*m*2), m,1.0, complete=True)\n",
    "            corr_tmp=(np.correlate(y,mw4)/sum(abs(mw4)))\n",
    "            sup_first=np.zeros(int(len(mw4)/2))\n",
    "            sup_end=np.zeros(fs*s_length-len(corr_tmp)-int(len(mw4)/2))\n",
    "            #print (freq,fs*s_length,-len(corr_tmp),-int(len(mw4)/2),fs*s_length-len(corr_tmp)-int(len(mw4)/2))\n",
    "            corr_tmp=np.append(sup_first,corr_tmp)\n",
    "            corr_tmp=np.append(corr_tmp,sup_end)\n",
    "            if freq==list1[0]:\n",
    "              corr_stack=abs(corr_tmp[::1])\n",
    "            else:\n",
    "              corr_stack=np.vstack((corr_stack, abs(corr_tmp[::1])))\n",
    "        wave_df = pd.DataFrame(corr_stack.T)\n",
    "        new_columns = new_sum\n",
    "        all_df[new_columns] = wave_df\n",
    "        all_df.to_csv(\"wavs \"+i[9:],index=None)\n",
    "        print(i,\"end\")"
   ]
  },
  {
   "cell_type": "code",
   "execution_count": 11,
   "metadata": {},
   "outputs": [
    {
     "name": "stdout",
     "output_type": "stream",
     "text": [
      " (rul)fe_1_1_acc.csv\n",
      " (rul)fe_1_2_acc.csv\n",
      " (rul)fe_1_3_acc.csv\n",
      " (rul)fe_1_4_acc.csv\n",
      " (rul)fe_1_5_acc.csv\n",
      " (rul)fe_1_6_acc.csv\n",
      " (rul)fe_1_7_acc.csv\n",
      " (rul)fe_2_1_acc.csv\n",
      " (rul)fe_2_2_acc.csv\n",
      " (rul)fe_2_3_acc.csv\n",
      " (rul)fe_2_4_acc.csv\n",
      " (rul)fe_2_5_acc.csv\n",
      " (rul)fe_2_6_acc.csv\n",
      " (rul)fe_2_7_acc.csv\n",
      " (rul)fe_3_1_acc.csv\n",
      " (rul)fe_3_2_acc.csv\n",
      " (rul)fe_3_3_acc.csv\n"
     ]
    }
   ],
   "source": [
    "for i in all_wave_list:\n",
    "    print(i[9:])"
   ]
  },
  {
   "cell_type": "code",
   "execution_count": null,
   "metadata": {},
   "outputs": [],
   "source": [
    "all_df[new_columns] = wave_df.drop(\"RUL\",axis=1)"
   ]
  },
  {
   "cell_type": "code",
   "execution_count": 163,
   "metadata": {},
   "outputs": [],
   "source": [
    "new_columns = ['f8', 'f16','f24','f32','f40','f48','f56','f64','f72','f80','f88','f96','f104','f112','f120','f128','f136','f144','f152','f160','f168','f176','f184','f192','f200','f208','f216','f224','f232','f240','f248','f256']"
   ]
  },
  {
   "cell_type": "code",
   "execution_count": 157,
   "metadata": {},
   "outputs": [],
   "source": [
    "acc_df = pd.read_csv(\"(rul)fe_1_1_acc.csv\")"
   ]
  },
  {
   "cell_type": "code",
   "execution_count": 158,
   "metadata": {},
   "outputs": [],
   "source": [
    "all_df = acc_df"
   ]
  },
  {
   "cell_type": "code",
   "execution_count": 149,
   "metadata": {},
   "outputs": [],
   "source": [
    "all_df = all_df[all_df[\"id\"]==1]"
   ]
  },
  {
   "cell_type": "code",
   "execution_count": 159,
   "metadata": {},
   "outputs": [
    {
     "data": {
      "text/html": [
       "<div>\n",
       "<style scoped>\n",
       "    .dataframe tbody tr th:only-of-type {\n",
       "        vertical-align: middle;\n",
       "    }\n",
       "\n",
       "    .dataframe tbody tr th {\n",
       "        vertical-align: top;\n",
       "    }\n",
       "\n",
       "    .dataframe thead th {\n",
       "        text-align: right;\n",
       "    }\n",
       "</style>\n",
       "<table border=\"1\" class=\"dataframe\">\n",
       "  <thead>\n",
       "    <tr style=\"text-align: right;\">\n",
       "      <th></th>\n",
       "      <th>Unnamed: 0</th>\n",
       "      <th>Horiz_acc</th>\n",
       "      <th>id</th>\n",
       "      <th>av_horiz</th>\n",
       "      <th>sd_horiz</th>\n",
       "      <th>peak_horiz</th>\n",
       "      <th>rms_horiz</th>\n",
       "      <th>skew_horiz</th>\n",
       "      <th>kurt_horiz</th>\n",
       "      <th>crest_horiz</th>\n",
       "      <th>...</th>\n",
       "      <th>rms_sum</th>\n",
       "      <th>skew_sum</th>\n",
       "      <th>kurt_sum</th>\n",
       "      <th>crest_sum</th>\n",
       "      <th>clear_sum</th>\n",
       "      <th>shape_sum</th>\n",
       "      <th>imp_sum</th>\n",
       "      <th>p2ph_sum</th>\n",
       "      <th>p2pf_sum</th>\n",
       "      <th>RUL</th>\n",
       "    </tr>\n",
       "  </thead>\n",
       "  <tbody>\n",
       "    <tr>\n",
       "      <th>0</th>\n",
       "      <td>9</td>\n",
       "      <td>0.257</td>\n",
       "      <td>1</td>\n",
       "      <td>0.257000</td>\n",
       "      <td>0.000000</td>\n",
       "      <td>0.257</td>\n",
       "      <td>0.257000</td>\n",
       "      <td>0.000000</td>\n",
       "      <td>-3.000000</td>\n",
       "      <td>1.000000</td>\n",
       "      <td>...</td>\n",
       "      <td>0.596232</td>\n",
       "      <td>0.000000</td>\n",
       "      <td>-3.000000</td>\n",
       "      <td>1.000000</td>\n",
       "      <td>1.000000</td>\n",
       "      <td>1.000000</td>\n",
       "      <td>1.000000</td>\n",
       "      <td>0.000000</td>\n",
       "      <td>0.000000</td>\n",
       "      <td>28020.099605</td>\n",
       "    </tr>\n",
       "    <tr>\n",
       "      <th>1</th>\n",
       "      <td>19</td>\n",
       "      <td>0.173</td>\n",
       "      <td>1</td>\n",
       "      <td>0.215000</td>\n",
       "      <td>0.059397</td>\n",
       "      <td>0.257</td>\n",
       "      <td>0.219064</td>\n",
       "      <td>0.000000</td>\n",
       "      <td>-2.000000</td>\n",
       "      <td>1.173174</td>\n",
       "      <td>...</td>\n",
       "      <td>0.460560</td>\n",
       "      <td>0.000000</td>\n",
       "      <td>-2.000000</td>\n",
       "      <td>1.294581</td>\n",
       "      <td>1.446150</td>\n",
       "      <td>1.073052</td>\n",
       "      <td>1.389152</td>\n",
       "      <td>0.000000</td>\n",
       "      <td>0.000000</td>\n",
       "      <td>28020.099214</td>\n",
       "    </tr>\n",
       "    <tr>\n",
       "      <th>2</th>\n",
       "      <td>29</td>\n",
       "      <td>-0.426</td>\n",
       "      <td>1</td>\n",
       "      <td>0.001333</td>\n",
       "      <td>0.372457</td>\n",
       "      <td>0.257</td>\n",
       "      <td>0.304113</td>\n",
       "      <td>-1.633467</td>\n",
       "      <td>-1.500000</td>\n",
       "      <td>0.845081</td>\n",
       "      <td>...</td>\n",
       "      <td>0.453721</td>\n",
       "      <td>-0.188458</td>\n",
       "      <td>-1.500000</td>\n",
       "      <td>1.314095</td>\n",
       "      <td>1.415099</td>\n",
       "      <td>1.048552</td>\n",
       "      <td>1.377897</td>\n",
       "      <td>0.000000</td>\n",
       "      <td>0.000000</td>\n",
       "      <td>28020.098824</td>\n",
       "    </tr>\n",
       "    <tr>\n",
       "      <th>3</th>\n",
       "      <td>39</td>\n",
       "      <td>0.231</td>\n",
       "      <td>1</td>\n",
       "      <td>0.058750</td>\n",
       "      <td>0.325069</td>\n",
       "      <td>0.257</td>\n",
       "      <td>0.287583</td>\n",
       "      <td>-1.931381</td>\n",
       "      <td>-0.698891</td>\n",
       "      <td>0.893656</td>\n",
       "      <td>...</td>\n",
       "      <td>0.547272</td>\n",
       "      <td>-0.068628</td>\n",
       "      <td>-1.324744</td>\n",
       "      <td>1.392113</td>\n",
       "      <td>1.532674</td>\n",
       "      <td>1.062664</td>\n",
       "      <td>1.479348</td>\n",
       "      <td>0.000000</td>\n",
       "      <td>0.000000</td>\n",
       "      <td>28020.098433</td>\n",
       "    </tr>\n",
       "    <tr>\n",
       "      <th>4</th>\n",
       "      <td>49</td>\n",
       "      <td>-0.157</td>\n",
       "      <td>1</td>\n",
       "      <td>0.015600</td>\n",
       "      <td>0.297593</td>\n",
       "      <td>0.257</td>\n",
       "      <td>0.266632</td>\n",
       "      <td>-1.000708</td>\n",
       "      <td>-1.203898</td>\n",
       "      <td>0.963874</td>\n",
       "      <td>...</td>\n",
       "      <td>0.520749</td>\n",
       "      <td>0.461153</td>\n",
       "      <td>-1.106921</td>\n",
       "      <td>1.463015</td>\n",
       "      <td>1.599751</td>\n",
       "      <td>1.059582</td>\n",
       "      <td>1.550185</td>\n",
       "      <td>1.065795</td>\n",
       "      <td>2.238758</td>\n",
       "      <td>28020.098042</td>\n",
       "    </tr>\n",
       "    <tr>\n",
       "      <th>...</th>\n",
       "      <td>...</td>\n",
       "      <td>...</td>\n",
       "      <td>...</td>\n",
       "      <td>...</td>\n",
       "      <td>...</td>\n",
       "      <td>...</td>\n",
       "      <td>...</td>\n",
       "      <td>...</td>\n",
       "      <td>...</td>\n",
       "      <td>...</td>\n",
       "      <td>...</td>\n",
       "      <td>...</td>\n",
       "      <td>...</td>\n",
       "      <td>...</td>\n",
       "      <td>...</td>\n",
       "      <td>...</td>\n",
       "      <td>...</td>\n",
       "      <td>...</td>\n",
       "      <td>...</td>\n",
       "      <td>...</td>\n",
       "      <td>...</td>\n",
       "    </tr>\n",
       "    <tr>\n",
       "      <th>717563</th>\n",
       "      <td>7175639</td>\n",
       "      <td>-1.635</td>\n",
       "      <td>1</td>\n",
       "      <td>-0.556500</td>\n",
       "      <td>2.551670</td>\n",
       "      <td>3.972</td>\n",
       "      <td>2.563258</td>\n",
       "      <td>-0.210779</td>\n",
       "      <td>-0.548882</td>\n",
       "      <td>1.549591</td>\n",
       "      <td>...</td>\n",
       "      <td>4.936707</td>\n",
       "      <td>0.718776</td>\n",
       "      <td>0.399586</td>\n",
       "      <td>1.990169</td>\n",
       "      <td>2.287138</td>\n",
       "      <td>1.092177</td>\n",
       "      <td>2.173617</td>\n",
       "      <td>2.181729</td>\n",
       "      <td>10.551241</td>\n",
       "      <td>0.001560</td>\n",
       "    </tr>\n",
       "    <tr>\n",
       "      <th>717564</th>\n",
       "      <td>7175649</td>\n",
       "      <td>-3.740</td>\n",
       "      <td>1</td>\n",
       "      <td>-0.766538</td>\n",
       "      <td>2.581288</td>\n",
       "      <td>3.972</td>\n",
       "      <td>2.644685</td>\n",
       "      <td>-0.049600</td>\n",
       "      <td>-0.645285</td>\n",
       "      <td>1.501880</td>\n",
       "      <td>...</td>\n",
       "      <td>4.836808</td>\n",
       "      <td>0.855115</td>\n",
       "      <td>0.841492</td>\n",
       "      <td>2.031274</td>\n",
       "      <td>2.327831</td>\n",
       "      <td>1.090875</td>\n",
       "      <td>2.215866</td>\n",
       "      <td>2.181729</td>\n",
       "      <td>10.551241</td>\n",
       "      <td>0.001170</td>\n",
       "    </tr>\n",
       "    <tr>\n",
       "      <th>717565</th>\n",
       "      <td>7175659</td>\n",
       "      <td>-3.872</td>\n",
       "      <td>1</td>\n",
       "      <td>-1.002115</td>\n",
       "      <td>2.574176</td>\n",
       "      <td>3.972</td>\n",
       "      <td>2.715834</td>\n",
       "      <td>0.102253</td>\n",
       "      <td>-0.626203</td>\n",
       "      <td>1.462534</td>\n",
       "      <td>...</td>\n",
       "      <td>4.893634</td>\n",
       "      <td>0.814936</td>\n",
       "      <td>0.975420</td>\n",
       "      <td>2.007686</td>\n",
       "      <td>2.281535</td>\n",
       "      <td>1.084725</td>\n",
       "      <td>2.177787</td>\n",
       "      <td>1.962990</td>\n",
       "      <td>10.551241</td>\n",
       "      <td>0.000780</td>\n",
       "    </tr>\n",
       "    <tr>\n",
       "      <th>717566</th>\n",
       "      <td>7175669</td>\n",
       "      <td>5.259</td>\n",
       "      <td>1</td>\n",
       "      <td>-0.696500</td>\n",
       "      <td>2.825554</td>\n",
       "      <td>5.259</td>\n",
       "      <td>2.856886</td>\n",
       "      <td>0.205040</td>\n",
       "      <td>-0.525362</td>\n",
       "      <td>1.840815</td>\n",
       "      <td>...</td>\n",
       "      <td>4.928185</td>\n",
       "      <td>0.751700</td>\n",
       "      <td>0.874910</td>\n",
       "      <td>1.993610</td>\n",
       "      <td>2.264079</td>\n",
       "      <td>1.083955</td>\n",
       "      <td>2.160984</td>\n",
       "      <td>1.962990</td>\n",
       "      <td>10.551241</td>\n",
       "      <td>0.000390</td>\n",
       "    </tr>\n",
       "    <tr>\n",
       "      <th>717567</th>\n",
       "      <td>7175679</td>\n",
       "      <td>-2.709</td>\n",
       "      <td>1</td>\n",
       "      <td>-0.921500</td>\n",
       "      <td>2.739353</td>\n",
       "      <td>5.259</td>\n",
       "      <td>2.839824</td>\n",
       "      <td>0.356265</td>\n",
       "      <td>-0.276738</td>\n",
       "      <td>1.851876</td>\n",
       "      <td>...</td>\n",
       "      <td>4.919175</td>\n",
       "      <td>0.744421</td>\n",
       "      <td>0.814421</td>\n",
       "      <td>1.997262</td>\n",
       "      <td>2.273654</td>\n",
       "      <td>1.085570</td>\n",
       "      <td>2.168167</td>\n",
       "      <td>2.764816</td>\n",
       "      <td>10.551241</td>\n",
       "      <td>0.000000</td>\n",
       "    </tr>\n",
       "  </tbody>\n",
       "</table>\n",
       "<p>717568 rows × 44 columns</p>\n",
       "</div>"
      ],
      "text/plain": [
       "        Unnamed: 0  Horiz_acc  id  av_horiz  sd_horiz  peak_horiz  rms_horiz  \\\n",
       "0                9      0.257   1  0.257000  0.000000       0.257   0.257000   \n",
       "1               19      0.173   1  0.215000  0.059397       0.257   0.219064   \n",
       "2               29     -0.426   1  0.001333  0.372457       0.257   0.304113   \n",
       "3               39      0.231   1  0.058750  0.325069       0.257   0.287583   \n",
       "4               49     -0.157   1  0.015600  0.297593       0.257   0.266632   \n",
       "...            ...        ...  ..       ...       ...         ...        ...   \n",
       "717563     7175639     -1.635   1 -0.556500  2.551670       3.972   2.563258   \n",
       "717564     7175649     -3.740   1 -0.766538  2.581288       3.972   2.644685   \n",
       "717565     7175659     -3.872   1 -1.002115  2.574176       3.972   2.715834   \n",
       "717566     7175669      5.259   1 -0.696500  2.825554       5.259   2.856886   \n",
       "717567     7175679     -2.709   1 -0.921500  2.739353       5.259   2.839824   \n",
       "\n",
       "        skew_horiz  kurt_horiz  crest_horiz  ...   rms_sum  skew_sum  \\\n",
       "0         0.000000   -3.000000     1.000000  ...  0.596232  0.000000   \n",
       "1         0.000000   -2.000000     1.173174  ...  0.460560  0.000000   \n",
       "2        -1.633467   -1.500000     0.845081  ...  0.453721 -0.188458   \n",
       "3        -1.931381   -0.698891     0.893656  ...  0.547272 -0.068628   \n",
       "4        -1.000708   -1.203898     0.963874  ...  0.520749  0.461153   \n",
       "...            ...         ...          ...  ...       ...       ...   \n",
       "717563   -0.210779   -0.548882     1.549591  ...  4.936707  0.718776   \n",
       "717564   -0.049600   -0.645285     1.501880  ...  4.836808  0.855115   \n",
       "717565    0.102253   -0.626203     1.462534  ...  4.893634  0.814936   \n",
       "717566    0.205040   -0.525362     1.840815  ...  4.928185  0.751700   \n",
       "717567    0.356265   -0.276738     1.851876  ...  4.919175  0.744421   \n",
       "\n",
       "        kurt_sum  crest_sum  clear_sum  shape_sum   imp_sum  p2ph_sum  \\\n",
       "0      -3.000000   1.000000   1.000000   1.000000  1.000000  0.000000   \n",
       "1      -2.000000   1.294581   1.446150   1.073052  1.389152  0.000000   \n",
       "2      -1.500000   1.314095   1.415099   1.048552  1.377897  0.000000   \n",
       "3      -1.324744   1.392113   1.532674   1.062664  1.479348  0.000000   \n",
       "4      -1.106921   1.463015   1.599751   1.059582  1.550185  1.065795   \n",
       "...          ...        ...        ...        ...       ...       ...   \n",
       "717563  0.399586   1.990169   2.287138   1.092177  2.173617  2.181729   \n",
       "717564  0.841492   2.031274   2.327831   1.090875  2.215866  2.181729   \n",
       "717565  0.975420   2.007686   2.281535   1.084725  2.177787  1.962990   \n",
       "717566  0.874910   1.993610   2.264079   1.083955  2.160984  1.962990   \n",
       "717567  0.814421   1.997262   2.273654   1.085570  2.168167  2.764816   \n",
       "\n",
       "         p2pf_sum           RUL  \n",
       "0        0.000000  28020.099605  \n",
       "1        0.000000  28020.099214  \n",
       "2        0.000000  28020.098824  \n",
       "3        0.000000  28020.098433  \n",
       "4        2.238758  28020.098042  \n",
       "...           ...           ...  \n",
       "717563  10.551241      0.001560  \n",
       "717564  10.551241      0.001170  \n",
       "717565  10.551241      0.000780  \n",
       "717566  10.551241      0.000390  \n",
       "717567  10.551241      0.000000  \n",
       "\n",
       "[717568 rows x 44 columns]"
      ]
     },
     "execution_count": 159,
     "metadata": {},
     "output_type": "execute_result"
    }
   ],
   "source": [
    "all_df"
   ]
  },
  {
   "cell_type": "code",
   "execution_count": 12,
   "metadata": {},
   "outputs": [
    {
     "data": {
      "text/plain": [
       "2803.0"
      ]
     },
     "execution_count": 12,
     "metadata": {},
     "output_type": "execute_result"
    }
   ],
   "source": [
    "len(y)/2560"
   ]
  },
  {
   "cell_type": "code",
   "execution_count": 161,
   "metadata": {
    "scrolled": false
   },
   "outputs": [
    {
     "name": "stdout",
     "output_type": "stream",
     "text": [
      "start\n",
      "end\n"
     ]
    }
   ],
   "source": [
    "fs=256 # 一秒幾筆資料\n",
    "s_length= 2803 # 總共幾筆資料\n",
    "x = np.arange(0, s_length, 1/fs) \n",
    "y = all_df['Horiz_acc'] #放入變數\n",
    "xsl = x.T[::10] \n",
    "\n",
    "\n",
    "m=6 #morlet中的波數\n",
    "\n",
    "\n",
    "list1 = range(8, 257, 8) #morlet的頻率\n",
    "\n",
    "print(\"start\") #開始轉換\n",
    "for freq in list1:\n",
    "    mw4=signal.morlet(int(fs/freq*m*2), m,1.0, complete=True)\n",
    "    corr_tmp=(np.correlate(y,mw4)/sum(abs(mw4)))\n",
    "    \n",
    "    sup_first=np.zeros(int(len(mw4)/2))\n",
    "    sup_end=np.zeros(fs*s_length-len(corr_tmp)-int(len(mw4)/2))\n",
    "    #print (freq,fs*s_length,-len(corr_tmp),-int(len(mw4)/2),fs*s_length-len(corr_tmp)-int(len(mw4)/2))\n",
    "    corr_tmp=np.append(sup_first,corr_tmp)\n",
    "    corr_tmp=np.append(corr_tmp,sup_end)\n",
    "    if freq==list1[0]:\n",
    "      corr_stack=abs(corr_tmp[::1])\n",
    "    else:\n",
    "      corr_stack=np.vstack((corr_stack, abs(corr_tmp[::1])))\n",
    "\n",
    "print(\"end\")\n",
    "\n",
    "# fig =plt.figure(figsize=(8,5))\n",
    "\n",
    "# gs = gridspec.GridSpec(3,2)\n",
    "# ax1 = fig.add_subplot(gs[0,:])\n",
    "# plt.plot(x,y,linewidth=0.5)\n",
    "# plt.title(\"sample_waveform_2\")\n",
    "# plt.xlabel(\"Time[s]\")\n",
    "# plt.ylabel(\"Amplitude\")\n",
    "# plt.grid(True)\n",
    "# ax1.axis('tight')\n",
    "# plt.xlim([0,s_length])\n",
    "\n",
    "# ax2 = fig.add_subplot(gs[1:,0])\n",
    "# im = ax2.imshow(corr_stack,extent=[0,s_length,0,s_length],interpolation='none',cmap='jet',origin='lower')\n",
    "# #print (xmin,xmax,ymin,ymax)\n",
    "# plt.title(\"Spectrogram(Wavelet)\")\n",
    "# plt.xlabel(\"Time[s]\")\n",
    "# plt.ylabel(\"Frequency[Hz]\")\n",
    "# plt.grid(linestyle='--', linewidth=0.5)\n",
    "\n",
    "# cmlb=[0,0.5,1.0,1.5,2.0,2.5,3.0,3.5,4.0,4.5,5.0] #color bar 的標值(可調整但不影響圖,只影響標值)\n",
    "# #cmlb=[0,0.1,0.2,0.3,0.4,0.6,0.8,1.0,1.2,1.4,1.6]\n",
    "# #cmlb=[0,0.005,0.01,0.015,0.02,0.025,0.03]\n",
    "\n",
    "# cbar = fig.colorbar(im, ticks=cmlb,orientation='horizontal')\n",
    "# cbar.ax.set_xticklabels(cmlb) \n",
    "# ax2.axis('tight')\n",
    "# plt.xlim([0,s_length])\n",
    "# plt.ylim([0,100])\n",
    "\n",
    "\n",
    "# ax3 = fig.add_subplot(gs[1:,1])\n",
    "# NFFT = 2560*s_length  # 2560*資料筆數\n",
    "# Fs = fs # the sampling frequency\n",
    "# plt.specgram(y,NFFT=NFFT, Fs=Fs, noverlap=1000,cmap='jet',scale='linear')\n",
    "# plt.grid(linestyle='--', linewidth=0.5)\n",
    "\n",
    "# plt.title(\"spectrogram(FFT)\")\n",
    "# plt.xlabel(\"Time[s]\")\n",
    "# plt.ylabel(\"Frequency[Hz]\")\n",
    "\n",
    "# plt.colorbar(orientation='horizontal')\n",
    "\n",
    "# ax3.axis('tight')\n",
    "# plt.xlim([0,s_length])\n",
    "# plt.ylim([0,100])\n",
    "# fig.tight_layout()\n",
    "\n",
    "# print(corr_stack.shape) #output\n",
    "# print (corr_stack[:,25600]) #印出定時間的資料(以第25600筆為例)"
   ]
  },
  {
   "cell_type": "code",
   "execution_count": 107,
   "metadata": {},
   "outputs": [],
   "source": [
    "wave_df = pd.DataFrame(corr_stack.T)"
   ]
  },
  {
   "cell_type": "code",
   "execution_count": 109,
   "metadata": {},
   "outputs": [],
   "source": [
    "wave_df.columns = range(8, 257, 8)"
   ]
  },
  {
   "cell_type": "code",
   "execution_count": 110,
   "metadata": {},
   "outputs": [
    {
     "data": {
      "text/plain": [
       "8      0.050857\n",
       "16     0.078510\n",
       "24     0.100751\n",
       "32     0.133522\n",
       "40     0.130313\n",
       "48     0.130352\n",
       "56     0.135141\n",
       "64     0.135261\n",
       "72     0.144880\n",
       "80     0.160265\n",
       "88     0.186640\n",
       "96     0.203127\n",
       "104    0.222378\n",
       "112    0.223737\n",
       "120    0.219878\n",
       "128    0.229186\n",
       "136    0.245828\n",
       "144    0.247037\n",
       "152    0.244220\n",
       "160    0.240622\n",
       "168    0.241068\n",
       "176    0.249899\n",
       "184    0.265895\n",
       "192    0.265895\n",
       "200    0.279909\n",
       "208    0.281134\n",
       "216    0.281134\n",
       "224    0.275690\n",
       "232    0.275690\n",
       "240    0.303386\n",
       "248    0.303386\n",
       "256    0.303386\n",
       "dtype: float64"
      ]
     },
     "execution_count": 110,
     "metadata": {},
     "output_type": "execute_result"
    }
   ],
   "source": [
    "wave_df.mean()"
   ]
  },
  {
   "cell_type": "code",
   "execution_count": 114,
   "metadata": {},
   "outputs": [],
   "source": [
    "wave_df[\"RUL\"] = all_df[\"RUL\"]"
   ]
  },
  {
   "cell_type": "code",
   "execution_count": 77,
   "metadata": {},
   "outputs": [],
   "source": [
    "import seaborn as sns"
   ]
  },
  {
   "cell_type": "code",
   "execution_count": 115,
   "metadata": {},
   "outputs": [
    {
     "data": {
      "text/plain": [
       "<matplotlib.axes._subplots.AxesSubplot at 0x22391a1cac8>"
      ]
     },
     "execution_count": 115,
     "metadata": {},
     "output_type": "execute_result"
    },
    {
     "data": {
      "image/png": "[encoded data removed]",
      "text/plain": [
       "<Figure size 792x648 with 2 Axes>"
      ]
     },
     "metadata": {
      "needs_background": "light"
     },
     "output_type": "display_data"
    }
   ],
   "source": [
    "# 計算相關係數\n",
    "corr = wave_df.corr()\n",
    "mask = np.triu(np.ones_like(corr, dtype=np.bool))\n",
    "f, ax = plt.subplots(figsize=(11, 9))\n",
    "cmap = sns.diverging_palette(220, 10, as_cmap=True)\n",
    "sns.heatmap(corr, mask=mask, cmap=cmap, vmax=.3, center=0,\n",
    "            square=True, linewidths=.5, cbar_kws={\"shrink\": .5})"
   ]
  },
  {
   "cell_type": "code",
   "execution_count": 116,
   "metadata": {},
   "outputs": [
    {
     "data": {
      "text/plain": [
       "24    -0.585242\n",
       "32    -0.570430\n",
       "40    -0.552612\n",
       "16    -0.538064\n",
       "48    -0.523481\n",
       "56    -0.501310\n",
       "64    -0.481893\n",
       "200   -0.476140\n",
       "192   -0.468418\n",
       "184   -0.468418\n",
       "88    -0.459840\n",
       "96    -0.458564\n",
       "80    -0.455601\n",
       "72    -0.455394\n",
       "176   -0.449293\n",
       "216   -0.444028\n",
       "208   -0.444028\n",
       "104   -0.442216\n",
       "256   -0.438230\n",
       "248   -0.438230\n",
       "240   -0.438230\n",
       "168   -0.436917\n",
       "160   -0.433294\n",
       "152   -0.432161\n",
       "144   -0.428934\n",
       "136   -0.420925\n",
       "112   -0.412329\n",
       "8     -0.408996\n",
       "232   -0.391938\n",
       "224   -0.391938\n",
       "128   -0.390570\n",
       "120   -0.379126\n",
       "RUL    1.000000\n",
       "Name: RUL, dtype: float64"
      ]
     },
     "execution_count": 116,
     "metadata": {},
     "output_type": "execute_result"
    }
   ],
   "source": [
    "corr[\"RUL\"].sort_values(ascending=True)"
   ]
  },
  {
   "cell_type": "code",
   "execution_count": 118,
   "metadata": {},
   "outputs": [
    {
     "data": {
      "text/plain": [
       "<matplotlib.collections.PathCollection at 0x22392458780>"
      ]
     },
     "execution_count": 118,
     "metadata": {},
     "output_type": "execute_result"
    },
    {
     "data": {
      "image/png": "[encoded data removed]",
      "text/plain": [
       "<Figure size 432x288 with 1 Axes>"
      ]
     },
     "metadata": {
      "needs_background": "light"
     },
     "output_type": "display_data"
    }
   ],
   "source": [
    "plt.scatter(wave_df[\"RUL\"],wave_df[120])"
   ]
  },
  {
   "cell_type": "code",
   "execution_count": 91,
   "metadata": {},
   "outputs": [],
   "source": [
    "from sklearn.ensemble import RandomForestRegressor"
   ]
  },
  {
   "cell_type": "code",
   "execution_count": 127,
   "metadata": {},
   "outputs": [
    {
     "name": "stderr",
     "output_type": "stream",
     "text": [
      "C:\\Users\\User\\anaconda3\\lib\\site-packages\\pandas\\core\\frame.py:2963: SettingWithCopyWarning: \n",
      "A value is trying to be set on a copy of a slice from a DataFrame.\n",
      "Try using .loc[row_indexer,col_indexer] = value instead\n",
      "\n",
      "See the caveats in the documentation: https://pandas.pydata.org/pandas-docs/stable/user_guide/indexing.html#returning-a-view-versus-a-copy\n",
      "  self[k1] = value[k2]\n"
     ]
    }
   ],
   "source": [
    "all_df[new_columns] = wave_df.drop(\"RUL\",axis=1)"
   ]
  },
  {
   "cell_type": "code",
   "execution_count": 128,
   "metadata": {},
   "outputs": [
    {
     "data": {
      "text/html": [
       "<div>\n",
       "<style scoped>\n",
       "    .dataframe tbody tr th:only-of-type {\n",
       "        vertical-align: middle;\n",
       "    }\n",
       "\n",
       "    .dataframe tbody tr th {\n",
       "        vertical-align: top;\n",
       "    }\n",
       "\n",
       "    .dataframe thead th {\n",
       "        text-align: right;\n",
       "    }\n",
       "</style>\n",
       "<table border=\"1\" class=\"dataframe\">\n",
       "  <thead>\n",
       "    <tr style=\"text-align: right;\">\n",
       "      <th></th>\n",
       "      <th>Unnamed: 0</th>\n",
       "      <th>Horiz_acc</th>\n",
       "      <th>id</th>\n",
       "      <th>av_horiz</th>\n",
       "      <th>sd_horiz</th>\n",
       "      <th>peak_horiz</th>\n",
       "      <th>rms_horiz</th>\n",
       "      <th>skew_horiz</th>\n",
       "      <th>kurt_horiz</th>\n",
       "      <th>crest_horiz</th>\n",
       "      <th>...</th>\n",
       "      <th>f184</th>\n",
       "      <th>f192</th>\n",
       "      <th>f200</th>\n",
       "      <th>f208</th>\n",
       "      <th>f216</th>\n",
       "      <th>f224</th>\n",
       "      <th>f232</th>\n",
       "      <th>f240</th>\n",
       "      <th>f248</th>\n",
       "      <th>f256</th>\n",
       "    </tr>\n",
       "  </thead>\n",
       "  <tbody>\n",
       "    <tr>\n",
       "      <th>0</th>\n",
       "      <td>9</td>\n",
       "      <td>0.257</td>\n",
       "      <td>1</td>\n",
       "      <td>0.257000</td>\n",
       "      <td>0.000000</td>\n",
       "      <td>0.257</td>\n",
       "      <td>0.257000</td>\n",
       "      <td>0.000000</td>\n",
       "      <td>-3.000000</td>\n",
       "      <td>1.000000</td>\n",
       "      <td>...</td>\n",
       "      <td>0.0</td>\n",
       "      <td>0.0</td>\n",
       "      <td>0.0</td>\n",
       "      <td>0.0</td>\n",
       "      <td>0.0</td>\n",
       "      <td>0.0</td>\n",
       "      <td>0.0</td>\n",
       "      <td>0.0</td>\n",
       "      <td>0.0</td>\n",
       "      <td>0.0</td>\n",
       "    </tr>\n",
       "    <tr>\n",
       "      <th>1</th>\n",
       "      <td>19</td>\n",
       "      <td>0.173</td>\n",
       "      <td>1</td>\n",
       "      <td>0.215000</td>\n",
       "      <td>0.059397</td>\n",
       "      <td>0.257</td>\n",
       "      <td>0.219064</td>\n",
       "      <td>0.000000</td>\n",
       "      <td>-2.000000</td>\n",
       "      <td>1.173174</td>\n",
       "      <td>...</td>\n",
       "      <td>0.0</td>\n",
       "      <td>0.0</td>\n",
       "      <td>0.0</td>\n",
       "      <td>0.0</td>\n",
       "      <td>0.0</td>\n",
       "      <td>0.0</td>\n",
       "      <td>0.0</td>\n",
       "      <td>0.0</td>\n",
       "      <td>0.0</td>\n",
       "      <td>0.0</td>\n",
       "    </tr>\n",
       "    <tr>\n",
       "      <th>2</th>\n",
       "      <td>29</td>\n",
       "      <td>-0.426</td>\n",
       "      <td>1</td>\n",
       "      <td>0.001333</td>\n",
       "      <td>0.372457</td>\n",
       "      <td>0.257</td>\n",
       "      <td>0.304113</td>\n",
       "      <td>-1.633467</td>\n",
       "      <td>-1.500000</td>\n",
       "      <td>0.845081</td>\n",
       "      <td>...</td>\n",
       "      <td>0.0</td>\n",
       "      <td>0.0</td>\n",
       "      <td>0.0</td>\n",
       "      <td>0.0</td>\n",
       "      <td>0.0</td>\n",
       "      <td>0.0</td>\n",
       "      <td>0.0</td>\n",
       "      <td>0.0</td>\n",
       "      <td>0.0</td>\n",
       "      <td>0.0</td>\n",
       "    </tr>\n",
       "    <tr>\n",
       "      <th>3</th>\n",
       "      <td>39</td>\n",
       "      <td>0.231</td>\n",
       "      <td>1</td>\n",
       "      <td>0.058750</td>\n",
       "      <td>0.325069</td>\n",
       "      <td>0.257</td>\n",
       "      <td>0.287583</td>\n",
       "      <td>-1.931381</td>\n",
       "      <td>-0.698891</td>\n",
       "      <td>0.893656</td>\n",
       "      <td>...</td>\n",
       "      <td>0.0</td>\n",
       "      <td>0.0</td>\n",
       "      <td>0.0</td>\n",
       "      <td>0.0</td>\n",
       "      <td>0.0</td>\n",
       "      <td>0.0</td>\n",
       "      <td>0.0</td>\n",
       "      <td>0.0</td>\n",
       "      <td>0.0</td>\n",
       "      <td>0.0</td>\n",
       "    </tr>\n",
       "    <tr>\n",
       "      <th>4</th>\n",
       "      <td>49</td>\n",
       "      <td>-0.157</td>\n",
       "      <td>1</td>\n",
       "      <td>0.015600</td>\n",
       "      <td>0.297593</td>\n",
       "      <td>0.257</td>\n",
       "      <td>0.266632</td>\n",
       "      <td>-1.000708</td>\n",
       "      <td>-1.203898</td>\n",
       "      <td>0.963874</td>\n",
       "      <td>...</td>\n",
       "      <td>0.0</td>\n",
       "      <td>0.0</td>\n",
       "      <td>0.0</td>\n",
       "      <td>0.0</td>\n",
       "      <td>0.0</td>\n",
       "      <td>0.0</td>\n",
       "      <td>0.0</td>\n",
       "      <td>0.0</td>\n",
       "      <td>0.0</td>\n",
       "      <td>0.0</td>\n",
       "    </tr>\n",
       "    <tr>\n",
       "      <th>...</th>\n",
       "      <td>...</td>\n",
       "      <td>...</td>\n",
       "      <td>...</td>\n",
       "      <td>...</td>\n",
       "      <td>...</td>\n",
       "      <td>...</td>\n",
       "      <td>...</td>\n",
       "      <td>...</td>\n",
       "      <td>...</td>\n",
       "      <td>...</td>\n",
       "      <td>...</td>\n",
       "      <td>...</td>\n",
       "      <td>...</td>\n",
       "      <td>...</td>\n",
       "      <td>...</td>\n",
       "      <td>...</td>\n",
       "      <td>...</td>\n",
       "      <td>...</td>\n",
       "      <td>...</td>\n",
       "      <td>...</td>\n",
       "      <td>...</td>\n",
       "    </tr>\n",
       "    <tr>\n",
       "      <th>717563</th>\n",
       "      <td>7175639</td>\n",
       "      <td>-1.635</td>\n",
       "      <td>1</td>\n",
       "      <td>-0.556500</td>\n",
       "      <td>2.551670</td>\n",
       "      <td>3.972</td>\n",
       "      <td>2.563258</td>\n",
       "      <td>-0.210779</td>\n",
       "      <td>-0.548882</td>\n",
       "      <td>1.549591</td>\n",
       "      <td>...</td>\n",
       "      <td>0.0</td>\n",
       "      <td>0.0</td>\n",
       "      <td>0.0</td>\n",
       "      <td>0.0</td>\n",
       "      <td>0.0</td>\n",
       "      <td>0.0</td>\n",
       "      <td>0.0</td>\n",
       "      <td>0.0</td>\n",
       "      <td>0.0</td>\n",
       "      <td>0.0</td>\n",
       "    </tr>\n",
       "    <tr>\n",
       "      <th>717564</th>\n",
       "      <td>7175649</td>\n",
       "      <td>-3.740</td>\n",
       "      <td>1</td>\n",
       "      <td>-0.766538</td>\n",
       "      <td>2.581288</td>\n",
       "      <td>3.972</td>\n",
       "      <td>2.644685</td>\n",
       "      <td>-0.049600</td>\n",
       "      <td>-0.645285</td>\n",
       "      <td>1.501880</td>\n",
       "      <td>...</td>\n",
       "      <td>0.0</td>\n",
       "      <td>0.0</td>\n",
       "      <td>0.0</td>\n",
       "      <td>0.0</td>\n",
       "      <td>0.0</td>\n",
       "      <td>0.0</td>\n",
       "      <td>0.0</td>\n",
       "      <td>0.0</td>\n",
       "      <td>0.0</td>\n",
       "      <td>0.0</td>\n",
       "    </tr>\n",
       "    <tr>\n",
       "      <th>717565</th>\n",
       "      <td>7175659</td>\n",
       "      <td>-3.872</td>\n",
       "      <td>1</td>\n",
       "      <td>-1.002115</td>\n",
       "      <td>2.574176</td>\n",
       "      <td>3.972</td>\n",
       "      <td>2.715834</td>\n",
       "      <td>0.102253</td>\n",
       "      <td>-0.626203</td>\n",
       "      <td>1.462534</td>\n",
       "      <td>...</td>\n",
       "      <td>0.0</td>\n",
       "      <td>0.0</td>\n",
       "      <td>0.0</td>\n",
       "      <td>0.0</td>\n",
       "      <td>0.0</td>\n",
       "      <td>0.0</td>\n",
       "      <td>0.0</td>\n",
       "      <td>0.0</td>\n",
       "      <td>0.0</td>\n",
       "      <td>0.0</td>\n",
       "    </tr>\n",
       "    <tr>\n",
       "      <th>717566</th>\n",
       "      <td>7175669</td>\n",
       "      <td>5.259</td>\n",
       "      <td>1</td>\n",
       "      <td>-0.696500</td>\n",
       "      <td>2.825554</td>\n",
       "      <td>5.259</td>\n",
       "      <td>2.856886</td>\n",
       "      <td>0.205040</td>\n",
       "      <td>-0.525362</td>\n",
       "      <td>1.840815</td>\n",
       "      <td>...</td>\n",
       "      <td>0.0</td>\n",
       "      <td>0.0</td>\n",
       "      <td>0.0</td>\n",
       "      <td>0.0</td>\n",
       "      <td>0.0</td>\n",
       "      <td>0.0</td>\n",
       "      <td>0.0</td>\n",
       "      <td>0.0</td>\n",
       "      <td>0.0</td>\n",
       "      <td>0.0</td>\n",
       "    </tr>\n",
       "    <tr>\n",
       "      <th>717567</th>\n",
       "      <td>7175679</td>\n",
       "      <td>-2.709</td>\n",
       "      <td>1</td>\n",
       "      <td>-0.921500</td>\n",
       "      <td>2.739353</td>\n",
       "      <td>5.259</td>\n",
       "      <td>2.839824</td>\n",
       "      <td>0.356265</td>\n",
       "      <td>-0.276738</td>\n",
       "      <td>1.851876</td>\n",
       "      <td>...</td>\n",
       "      <td>0.0</td>\n",
       "      <td>0.0</td>\n",
       "      <td>0.0</td>\n",
       "      <td>0.0</td>\n",
       "      <td>0.0</td>\n",
       "      <td>0.0</td>\n",
       "      <td>0.0</td>\n",
       "      <td>0.0</td>\n",
       "      <td>0.0</td>\n",
       "      <td>0.0</td>\n",
       "    </tr>\n",
       "  </tbody>\n",
       "</table>\n",
       "<p>717568 rows × 76 columns</p>\n",
       "</div>"
      ],
      "text/plain": [
       "        Unnamed: 0  Horiz_acc  id  av_horiz  sd_horiz  peak_horiz  rms_horiz  \\\n",
       "0                9      0.257   1  0.257000  0.000000       0.257   0.257000   \n",
       "1               19      0.173   1  0.215000  0.059397       0.257   0.219064   \n",
       "2               29     -0.426   1  0.001333  0.372457       0.257   0.304113   \n",
       "3               39      0.231   1  0.058750  0.325069       0.257   0.287583   \n",
       "4               49     -0.157   1  0.015600  0.297593       0.257   0.266632   \n",
       "...            ...        ...  ..       ...       ...         ...        ...   \n",
       "717563     7175639     -1.635   1 -0.556500  2.551670       3.972   2.563258   \n",
       "717564     7175649     -3.740   1 -0.766538  2.581288       3.972   2.644685   \n",
       "717565     7175659     -3.872   1 -1.002115  2.574176       3.972   2.715834   \n",
       "717566     7175669      5.259   1 -0.696500  2.825554       5.259   2.856886   \n",
       "717567     7175679     -2.709   1 -0.921500  2.739353       5.259   2.839824   \n",
       "\n",
       "        skew_horiz  kurt_horiz  crest_horiz  ...  f184  f192  f200  f208  \\\n",
       "0         0.000000   -3.000000     1.000000  ...   0.0   0.0   0.0   0.0   \n",
       "1         0.000000   -2.000000     1.173174  ...   0.0   0.0   0.0   0.0   \n",
       "2        -1.633467   -1.500000     0.845081  ...   0.0   0.0   0.0   0.0   \n",
       "3        -1.931381   -0.698891     0.893656  ...   0.0   0.0   0.0   0.0   \n",
       "4        -1.000708   -1.203898     0.963874  ...   0.0   0.0   0.0   0.0   \n",
       "...            ...         ...          ...  ...   ...   ...   ...   ...   \n",
       "717563   -0.210779   -0.548882     1.549591  ...   0.0   0.0   0.0   0.0   \n",
       "717564   -0.049600   -0.645285     1.501880  ...   0.0   0.0   0.0   0.0   \n",
       "717565    0.102253   -0.626203     1.462534  ...   0.0   0.0   0.0   0.0   \n",
       "717566    0.205040   -0.525362     1.840815  ...   0.0   0.0   0.0   0.0   \n",
       "717567    0.356265   -0.276738     1.851876  ...   0.0   0.0   0.0   0.0   \n",
       "\n",
       "        f216  f224  f232  f240  f248  f256  \n",
       "0        0.0   0.0   0.0   0.0   0.0   0.0  \n",
       "1        0.0   0.0   0.0   0.0   0.0   0.0  \n",
       "2        0.0   0.0   0.0   0.0   0.0   0.0  \n",
       "3        0.0   0.0   0.0   0.0   0.0   0.0  \n",
       "4        0.0   0.0   0.0   0.0   0.0   0.0  \n",
       "...      ...   ...   ...   ...   ...   ...  \n",
       "717563   0.0   0.0   0.0   0.0   0.0   0.0  \n",
       "717564   0.0   0.0   0.0   0.0   0.0   0.0  \n",
       "717565   0.0   0.0   0.0   0.0   0.0   0.0  \n",
       "717566   0.0   0.0   0.0   0.0   0.0   0.0  \n",
       "717567   0.0   0.0   0.0   0.0   0.0   0.0  \n",
       "\n",
       "[717568 rows x 76 columns]"
      ]
     },
     "execution_count": 128,
     "metadata": {},
     "output_type": "execute_result"
    }
   ],
   "source": [
    "all_df"
   ]
  },
  {
   "cell_type": "code",
   "execution_count": 130,
   "metadata": {},
   "outputs": [],
   "source": [
    "def clean_dataset(df):\n",
    "    assert isinstance(df, pd.DataFrame), \"df needs to be a pd.DataFrame\"\n",
    "    df.dropna(inplace=True)\n",
    "    indices_to_keep = ~df.isin([np.nan, np.inf, -np.inf]).any(1)\n",
    "    return df[indices_to_keep].astype(np.float64)"
   ]
  },
  {
   "cell_type": "code",
   "execution_count": 133,
   "metadata": {},
   "outputs": [],
   "source": [
    "all_df = clean_dataset(all_df)"
   ]
  },
  {
   "cell_type": "code",
   "execution_count": 135,
   "metadata": {},
   "outputs": [
    {
     "data": {
      "text/plain": [
       "RandomForestRegressor(bootstrap=True, ccp_alpha=0.0, criterion='mse',\n",
       "                      max_depth=None, max_features='auto', max_leaf_nodes=None,\n",
       "                      max_samples=None, min_impurity_decrease=0.0,\n",
       "                      min_impurity_split=None, min_samples_leaf=1,\n",
       "                      min_samples_split=2, min_weight_fraction_leaf=0.0,\n",
       "                      n_estimators=50, n_jobs=-1, oob_score=False,\n",
       "                      random_state=None, verbose=0, warm_start=False)"
      ]
     },
     "execution_count": 135,
     "metadata": {},
     "output_type": "execute_result"
    }
   ],
   "source": [
    "X_train = all_df.drop(\"RUL\",axis=1)\n",
    "y_train = all_df[\"RUL\"]\n",
    "rf = RandomForestRegressor(n_estimators=50,n_jobs=-1)\n",
    "rf.fit(X_train, y_train)"
   ]
  },
  {
   "cell_type": "code",
   "execution_count": 136,
   "metadata": {},
   "outputs": [
    {
     "ename": "NameError",
     "evalue": "name 'X_test' is not defined",
     "output_type": "error",
     "traceback": [
      "\u001b[1;31m---------------------------------------------------------------------------\u001b[0m",
      "\u001b[1;31mNameError\u001b[0m                                 Traceback (most recent call last)",
      "\u001b[1;32m<ipython-input-136-dbf9b881b1f8>\u001b[0m in \u001b[0;36m<module>\u001b[1;34m\u001b[0m\n\u001b[1;32m----> 1\u001b[1;33m \u001b[0my_test_predict\u001b[0m \u001b[1;33m=\u001b[0m \u001b[0mrf\u001b[0m\u001b[1;33m.\u001b[0m\u001b[0mpredict\u001b[0m\u001b[1;33m(\u001b[0m\u001b[0mX_test\u001b[0m\u001b[1;33m)\u001b[0m\u001b[1;33m\u001b[0m\u001b[1;33m\u001b[0m\u001b[0m\n\u001b[0m\u001b[0;32m      2\u001b[0m \u001b[0my_train_predict\u001b[0m \u001b[1;33m=\u001b[0m \u001b[0mrf\u001b[0m\u001b[1;33m.\u001b[0m\u001b[0mpredict\u001b[0m\u001b[1;33m(\u001b[0m\u001b[0mX_train\u001b[0m\u001b[1;33m)\u001b[0m\u001b[1;33m\u001b[0m\u001b[1;33m\u001b[0m\u001b[0m\n\u001b[0;32m      3\u001b[0m \u001b[1;33m\u001b[0m\u001b[0m\n\u001b[0;32m      4\u001b[0m \u001b[0mtrain_mse\u001b[0m \u001b[1;33m=\u001b[0m \u001b[0mmean_squared_error\u001b[0m\u001b[1;33m(\u001b[0m\u001b[0my_train\u001b[0m\u001b[1;33m,\u001b[0m \u001b[0my_train_predict\u001b[0m\u001b[1;33m)\u001b[0m\u001b[1;33m\u001b[0m\u001b[1;33m\u001b[0m\u001b[0m\n\u001b[0;32m      5\u001b[0m \u001b[0mtest_mse\u001b[0m \u001b[1;33m=\u001b[0m \u001b[0mmean_squared_error\u001b[0m\u001b[1;33m(\u001b[0m\u001b[0my_test\u001b[0m\u001b[1;33m,\u001b[0m \u001b[0my_test_predict\u001b[0m\u001b[1;33m)\u001b[0m\u001b[1;33m\u001b[0m\u001b[1;33m\u001b[0m\u001b[0m\n",
      "\u001b[1;31mNameError\u001b[0m: name 'X_test' is not defined"
     ]
    }
   ],
   "source": [
    "y_test_predict = rf.predict(X_test)\n",
    "y_train_predict = rf.predict(X_train)\n",
    "\n",
    "train_mse = mean_squared_error(y_train, y_train_predict)\n",
    "test_mse = mean_squared_error(y_test, y_test_predict)\n",
    "print('MSE training: %.3f, MSE testing: %.3f' % (\n",
    "      (train_mse), (test_mse)))\n",
    "print('RMSE training: %.3f, RMSE testing: %.3f' % (\n",
    "      (train_mse**0.5), (test_mse**0.5)))"
   ]
  },
  {
   "cell_type": "code",
   "execution_count": 139,
   "metadata": {},
   "outputs": [],
   "source": [
    "def plot_features_weights(model, weights, feature_names):\n",
    "    \n",
    "\n",
    "    (px, py) = (8, 10) if len(weights) > 30 else (8, 5)\n",
    "    W = pd.DataFrame({'Weights':weights}, feature_names)\n",
    "    W_df = W.sort_values(by='Weights', ascending=True)\n",
    "    W_df.tail(7).plot(kind='barh', color='r', figsize=(px,py))\n",
    "    plt.xlabel(model)\n",
    "    plt.gca().legend_ = None"
   ]
  },
  {
   "cell_type": "code",
   "execution_count": 141,
   "metadata": {},
   "outputs": [
    {
     "data": {
      "image/png": "[encoded data removed]",
      "text/plain": [
       "<Figure size 576x720 with 1 Axes>"
      ]
     },
     "metadata": {
      "needs_background": "light"
     },
     "output_type": "display_data"
    }
   ],
   "source": [
    "plot_features_weights('Random Forest Regressor', rf.feature_importances_, X_train.columns)"
   ]
  },
  {
   "cell_type": "code",
   "execution_count": 78,
   "metadata": {},
   "outputs": [
    {
     "data": {
      "text/plain": [
       "<matplotlib.axes._subplots.AxesSubplot at 0x22392b73c18>"
      ]
     },
     "execution_count": 78,
     "metadata": {},
     "output_type": "execute_result"
    },
    {
     "data": {
      "image/png": "[encoded data removed]",
      "text/plain": [
       "<Figure size 720x2880 with 2 Axes>"
      ]
     },
     "metadata": {
      "needs_background": "light"
     },
     "output_type": "display_data"
    }
   ],
   "source": [
    "plt.figure(figsize=(10,40))\n",
    "cmap = sns.diverging_palette(220, 10, as_cmap=True)\n",
    "sns.heatmap(pd.DataFrame(corr[\"RUL\"].sort_values(ascending=False)), cmap=cmap, vmax=.3, center=0,\n",
    "            square=True, linewidths=.5, cbar_kws={\"shrink\": .5})"
   ]
  },
  {
   "cell_type": "code",
   "execution_count": 31,
   "metadata": {},
   "outputs": [],
   "source": [
    "acc_df[\"RUL\"] = (acc_df[\"sum_us\"].max() - acc_df[\"sum_us\"])/10**6"
   ]
  },
  {
   "cell_type": "code",
   "execution_count": 46,
   "metadata": {},
   "outputs": [],
   "source": [
    "acc_df.to_csv(\"1_1_acc_df.csv\")"
   ]
  },
  {
   "cell_type": "code",
   "execution_count": 34,
   "metadata": {},
   "outputs": [
    {
     "data": {
      "text/plain": [
       "7175680"
      ]
     },
     "execution_count": 34,
     "metadata": {},
     "output_type": "execute_result"
    }
   ],
   "source": [
    "len(acc_df)"
   ]
  }
 ],
 "metadata": {
  "kernelspec": {
   "display_name": "Python 3",
   "language": "python",
   "name": "python3"
  },
  "language_info": {
   "codemirror_mode": {
    "name": "ipython",
    "version": 3
   },
   "file_extension": ".py",
   "mimetype": "text/x-python",
   "name": "python",
   "nbconvert_exporter": "python",
   "pygments_lexer": "ipython3",
   "version": "3.7.1"
  }
 },
 "nbformat": 4,
 "nbformat_minor": 4
}
