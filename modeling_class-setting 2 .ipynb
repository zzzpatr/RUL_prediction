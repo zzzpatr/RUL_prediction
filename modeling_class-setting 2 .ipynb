{
 "cells": [
  {
   "cell_type": "code",
   "execution_count": 1,
   "metadata": {},
   "outputs": [],
   "source": [
    "import numpy as np"
   ]
  },
  {
   "cell_type": "code",
   "execution_count": 2,
   "metadata": {},
   "outputs": [],
   "source": [
    "import matplotlib.pyplot as plt"
   ]
  },
  {
   "cell_type": "code",
   "execution_count": 3,
   "metadata": {},
   "outputs": [],
   "source": [
    "%matplotlib inline\n",
    "import matplotlib.pyplot as plt\n",
    "import numpy as np\n",
    "import pandas as pd\n",
    "import seaborn as sns\n",
    "from sklearn.ensemble import RandomForestRegressor\n",
    "from sklearn.ensemble import  RandomForestClassifier\n",
    "from sklearn import metrics"
   ]
  },
  {
   "cell_type": "code",
   "execution_count": 4,
   "metadata": {},
   "outputs": [],
   "source": [
    "import numpy as np"
   ]
  },
  {
   "cell_type": "code",
   "execution_count": 5,
   "metadata": {},
   "outputs": [],
   "source": [
    "import pandas as pd\n",
    "import os\n",
    "import glob"
   ]
  },
  {
   "cell_type": "code",
   "execution_count": 6,
   "metadata": {},
   "outputs": [],
   "source": [
    "dir_list = [\"1_1\",\"1_2\",\"2_1\",\"2_2\",\"3_1\",\"3_2\"]"
   ]
  },
  {
   "cell_type": "code",
   "execution_count": 7,
   "metadata": {},
   "outputs": [],
   "source": [
    "test_dir_list = [\"1_3\",\"1_4\",\"1_5\",\"1_6\",\"1_7\",\"2_3\",\"2_4\",\"2_5\",\"2_6\",\"2_7\",\"3_3\"]"
   ]
  },
  {
   "cell_type": "markdown",
   "metadata": {
    "jupyter": {
     "source_hidden": true
    }
   },
   "source": [
    "### setting 2"
   ]
  },
  {
   "cell_type": "code",
   "execution_count": 22,
   "metadata": {},
   "outputs": [],
   "source": [
    "one_train = pd.read_csv(\"two_train_combine.csv\")"
   ]
  },
  {
   "cell_type": "code",
   "execution_count": 23,
   "metadata": {},
   "outputs": [],
   "source": [
    "one_test = pd.read_csv(\"two_test_combine.csv\")"
   ]
  },
  {
   "cell_type": "code",
   "execution_count": 24,
   "metadata": {},
   "outputs": [],
   "source": [
    "def clean_dataset(df):\n",
    "    assert isinstance(df, pd.DataFrame), \"df needs to be a pd.DataFrame\"\n",
    "    df.dropna(inplace=True)\n",
    "    indices_to_keep = ~df.isin([np.nan, np.inf, -np.inf]).any(1)\n",
    "    return df[indices_to_keep].astype(np.float64)"
   ]
  },
  {
   "cell_type": "code",
   "execution_count": 25,
   "metadata": {},
   "outputs": [],
   "source": [
    "one_train = clean_dataset(one_train)\n",
    "one_test = clean_dataset(one_test)"
   ]
  },
  {
   "cell_type": "code",
   "execution_count": 11,
   "metadata": {},
   "outputs": [
    {
     "data": {
      "text/plain": [
       "0         7440.09961\n",
       "1         7440.09922\n",
       "2         7440.09883\n",
       "3         7440.09844\n",
       "4         7440.09805\n",
       "             ...    \n",
       "782331       0.00156\n",
       "782332       0.00117\n",
       "782333       0.00078\n",
       "782334       0.00039\n",
       "782335       0.00000\n",
       "Name: RUL_x, Length: 782331, dtype: float64"
      ]
     },
     "execution_count": 11,
     "metadata": {},
     "output_type": "execute_result"
    }
   ],
   "source": [
    "one_train[\"RUL_x\"]"
   ]
  },
  {
   "cell_type": "code",
   "execution_count": 12,
   "metadata": {},
   "outputs": [],
   "source": [
    "def two_time_group(one_train):\n",
    "    time_group_list = []\n",
    "    for i in range(1,int(one_train[\"id\"].max())+1,1):\n",
    "        one_id = one_train[one_train[\"id\"]==i][[\"id\",\"RUL_x\"]]\n",
    "        one_id = one_id.reset_index()\n",
    "        one_id.loc[one_id[\"RUL_x\"]>one_id.loc[0,\"RUL_x\"]/2,\"time_group\"] = 0\n",
    "        one_id.loc[one_id[\"RUL_x\"]<one_id.loc[0,\"RUL_x\"]/2,\"time_group\"] = 1\n",
    "        time_group_list = time_group_list + list(one_id[\"time_group\"].values)\n",
    "    one_train[\"time_group\"] = time_group_list\n",
    "    return one_train"
   ]
  },
  {
   "cell_type": "code",
   "execution_count": 135,
   "metadata": {},
   "outputs": [],
   "source": [
    "one_id.loc[one_id[\"RUL_x\"]>one_id.loc[0,\"RUL_x\"]/2,\"time_group\"] = 0\n",
    "one_id.loc[(one_id[\"RUL_x\"]<one_id.loc[0,\"RUL_x\"]*0.5) & (one_id[\"RUL_x\"]>one_id.loc[0,\"RUL_x\"]*0.25),\"time_group\"] = 1\n",
    "one_id.loc[(one_id[\"RUL_x\"]<one_id.loc[0,\"RUL_x\"]*0.25) & (one_id[\"RUL_x\"]>one_id.loc[0,\"RUL_x\"]*0.125),\"time_group\"] = 2 \n",
    "one_id.loc[one_id[\"RUL_x\"]<one_id.loc[0,\"RUL_x\"]*0.125,\"time_group\"] = 3"
   ]
  },
  {
   "cell_type": "code",
   "execution_count": 136,
   "metadata": {},
   "outputs": [
    {
     "data": {
      "text/plain": [
       "[<matplotlib.lines.Line2D at 0x2c94c4c4390>]"
      ]
     },
     "execution_count": 136,
     "metadata": {},
     "output_type": "execute_result"
    },
    {
     "data": {
      "image/png": "[encoded data removed]",
      "text/plain": [
       "<Figure size 432x288 with 1 Axes>"
      ]
     },
     "metadata": {
      "needs_background": "light"
     },
     "output_type": "display_data"
    }
   ],
   "source": [
    "plt.plot(one_id[\"time_group\"])"
   ]
  },
  {
   "cell_type": "code",
   "execution_count": 104,
   "metadata": {},
   "outputs": [
    {
     "data": {
      "text/plain": [
       "16890.07470675"
      ]
     },
     "execution_count": 104,
     "metadata": {},
     "output_type": "execute_result"
    }
   ],
   "source": [
    "one_id.loc[0,\"RUL_x\"]*0.75"
   ]
  },
  {
   "cell_type": "code",
   "execution_count": 48,
   "metadata": {},
   "outputs": [],
   "source": [
    "def three_time_group(one_train):\n",
    "    time_group_list = []\n",
    "    for i in range(1,int(one_train[\"id\"].max())+1,1):\n",
    "        one_id = one_train[one_train[\"id\"]==i][[\"id\",\"RUL_x\"]]\n",
    "        one_id = one_id.reset_index()\n",
    "        one_id.loc[one_id[\"RUL_x\"]>one_id.loc[0,\"RUL_x\"]/2,\"time_group\"] = 0\n",
    "        one_id.loc[(one_id[\"RUL_x\"]<one_id.loc[0,\"RUL_x\"]/2) & (one_id[\"RUL_x\"]>one_id.loc[0,\"RUL_x\"]*0.25),\"time_group\"] = 1\n",
    "        one_id.loc[one_id[\"RUL_x\"]<one_id.loc[0,\"RUL_x\"]*0.25,\"time_group\"] = 2\n",
    "        time_group_list = time_group_list + list(one_id[\"time_group\"].values)\n",
    "    one_train[\"time_group\"] = time_group_list\n",
    "    return one_train"
   ]
  },
  {
   "cell_type": "code",
   "execution_count": 49,
   "metadata": {},
   "outputs": [],
   "source": [
    "def four_time_group(one_train):\n",
    "    time_group_list = []\n",
    "    for i in range(1,int(one_train[\"id\"].max())+1,1):\n",
    "        one_id = one_train[one_train[\"id\"]==i][[\"id\",\"RUL_x\"]]\n",
    "        one_id = one_id.reset_index()\n",
    "        one_id.loc[one_id[\"RUL_x\"]>one_id.loc[0,\"RUL_x\"]/2,\"time_group\"] = 0\n",
    "        one_id.loc[(one_id[\"RUL_x\"]<one_id.loc[0,\"RUL_x\"]*0.5) & (one_id[\"RUL_x\"]>one_id.loc[0,\"RUL_x\"]*0.25),\"time_group\"] = 1\n",
    "        one_id.loc[(one_id[\"RUL_x\"]<one_id.loc[0,\"RUL_x\"]*0.25) & (one_id[\"RUL_x\"]>one_id.loc[0,\"RUL_x\"]*0.125),\"time_group\"] = 2 \n",
    "        one_id.loc[one_id[\"RUL_x\"]<one_id.loc[0,\"RUL_x\"]*0.125,\"time_group\"] = 3\n",
    "        time_group_list = time_group_list + list(one_id[\"time_group\"].values)\n",
    "    one_train[\"time_group\"] = time_group_list\n",
    "    return one_train"
   ]
  },
  {
   "cell_type": "code",
   "execution_count": 26,
   "metadata": {},
   "outputs": [],
   "source": [
    "one_train = two_time_group(one_train)"
   ]
  },
  {
   "cell_type": "code",
   "execution_count": 27,
   "metadata": {},
   "outputs": [],
   "source": [
    "one_test = two_time_group(one_test)"
   ]
  },
  {
   "cell_type": "code",
   "execution_count": 32,
   "metadata": {},
   "outputs": [],
   "source": [
    "one_train = clean_dataset(one_train)\n",
    "one_test = clean_dataset(one_test)"
   ]
  },
  {
   "cell_type": "code",
   "execution_count": 28,
   "metadata": {},
   "outputs": [],
   "source": [
    "one_train = one_train.reset_index()\n",
    "one_test = one_test.reset_index()"
   ]
  },
  {
   "cell_type": "code",
   "execution_count": 33,
   "metadata": {},
   "outputs": [],
   "source": [
    "X_train = one_train.drop([\"index\",\"Unnamed: 0_x\",\"Unnamed: 0_y\",\"RUL_x\",\"RUL_y\",\"round_RUL\",\"id\",\"id_x\",\"id.1\",\"id.2\",\"time_group\"], axis=1)\n",
    "X_test = one_test.drop([\"index\",\"Unnamed: 0_x\",\"Unnamed: 0_y\",\"RUL_x\",\"RUL_y\",\"round_RUL\",\"id\",\"id_x\",\"id.1\",\"id.2\",\"time_group\"], axis=1)\n",
    "y_train = one_train[\"time_group\"]\n",
    "y_test = one_test[\"time_group\"]"
   ]
  },
  {
   "cell_type": "code",
   "execution_count": 34,
   "metadata": {},
   "outputs": [
    {
     "data": {
      "text/html": [
       "<div>\n",
       "<style scoped>\n",
       "    .dataframe tbody tr th:only-of-type {\n",
       "        vertical-align: middle;\n",
       "    }\n",
       "\n",
       "    .dataframe tbody tr th {\n",
       "        vertical-align: top;\n",
       "    }\n",
       "\n",
       "    .dataframe thead th {\n",
       "        text-align: right;\n",
       "    }\n",
       "</style>\n",
       "<table border=\"1\" class=\"dataframe\">\n",
       "  <thead>\n",
       "    <tr style=\"text-align: right;\">\n",
       "      <th></th>\n",
       "      <th>index</th>\n",
       "      <th>Unnamed: 0_x</th>\n",
       "      <th>Horiz_acc</th>\n",
       "      <th>id_x</th>\n",
       "      <th>av_horiz</th>\n",
       "      <th>sd_horiz</th>\n",
       "      <th>peak_horiz</th>\n",
       "      <th>rms_horiz</th>\n",
       "      <th>skew_horiz</th>\n",
       "      <th>kurt_horiz</th>\n",
       "      <th>...</th>\n",
       "      <th>rms_temp</th>\n",
       "      <th>skew_temp</th>\n",
       "      <th>kurt_temp</th>\n",
       "      <th>crest_temp</th>\n",
       "      <th>clear_temp</th>\n",
       "      <th>shape_temp</th>\n",
       "      <th>imp_temp</th>\n",
       "      <th>RUL_y</th>\n",
       "      <th>id</th>\n",
       "      <th>time_group</th>\n",
       "    </tr>\n",
       "  </thead>\n",
       "  <tbody>\n",
       "    <tr>\n",
       "      <th>0</th>\n",
       "      <td>0.0</td>\n",
       "      <td>15369.0</td>\n",
       "      <td>0.238</td>\n",
       "      <td>1.0</td>\n",
       "      <td>0.026962</td>\n",
       "      <td>0.260338</td>\n",
       "      <td>0.509</td>\n",
       "      <td>0.256702</td>\n",
       "      <td>0.211157</td>\n",
       "      <td>-0.798134</td>\n",
       "      <td>...</td>\n",
       "      <td>59.488550</td>\n",
       "      <td>0.098539</td>\n",
       "      <td>-1.351611</td>\n",
       "      <td>1.007421</td>\n",
       "      <td>1.007439</td>\n",
       "      <td>1.000012</td>\n",
       "      <td>1.007433</td>\n",
       "      <td>7440.1</td>\n",
       "      <td>1.0</td>\n",
       "      <td>0.0</td>\n",
       "    </tr>\n",
       "    <tr>\n",
       "      <th>1</th>\n",
       "      <td>1.0</td>\n",
       "      <td>15379.0</td>\n",
       "      <td>-0.303</td>\n",
       "      <td>1.0</td>\n",
       "      <td>0.014577</td>\n",
       "      <td>0.268270</td>\n",
       "      <td>0.509</td>\n",
       "      <td>0.263464</td>\n",
       "      <td>0.262493</td>\n",
       "      <td>-0.918790</td>\n",
       "      <td>...</td>\n",
       "      <td>59.488550</td>\n",
       "      <td>0.098539</td>\n",
       "      <td>-1.351611</td>\n",
       "      <td>1.007421</td>\n",
       "      <td>1.007439</td>\n",
       "      <td>1.000012</td>\n",
       "      <td>1.007433</td>\n",
       "      <td>7440.1</td>\n",
       "      <td>1.0</td>\n",
       "      <td>0.0</td>\n",
       "    </tr>\n",
       "    <tr>\n",
       "      <th>2</th>\n",
       "      <td>2.0</td>\n",
       "      <td>15389.0</td>\n",
       "      <td>0.531</td>\n",
       "      <td>1.0</td>\n",
       "      <td>0.028538</td>\n",
       "      <td>0.285469</td>\n",
       "      <td>0.531</td>\n",
       "      <td>0.281376</td>\n",
       "      <td>0.308589</td>\n",
       "      <td>-1.007622</td>\n",
       "      <td>...</td>\n",
       "      <td>59.488550</td>\n",
       "      <td>0.098539</td>\n",
       "      <td>-1.351611</td>\n",
       "      <td>1.007421</td>\n",
       "      <td>1.007439</td>\n",
       "      <td>1.000012</td>\n",
       "      <td>1.007433</td>\n",
       "      <td>7440.1</td>\n",
       "      <td>1.0</td>\n",
       "      <td>0.0</td>\n",
       "    </tr>\n",
       "    <tr>\n",
       "      <th>3</th>\n",
       "      <td>3.0</td>\n",
       "      <td>15399.0</td>\n",
       "      <td>-0.298</td>\n",
       "      <td>1.0</td>\n",
       "      <td>0.013115</td>\n",
       "      <td>0.292042</td>\n",
       "      <td>0.531</td>\n",
       "      <td>0.286670</td>\n",
       "      <td>0.398728</td>\n",
       "      <td>-1.052732</td>\n",
       "      <td>...</td>\n",
       "      <td>59.488550</td>\n",
       "      <td>0.098539</td>\n",
       "      <td>-1.351611</td>\n",
       "      <td>1.007421</td>\n",
       "      <td>1.007439</td>\n",
       "      <td>1.000012</td>\n",
       "      <td>1.007433</td>\n",
       "      <td>7440.1</td>\n",
       "      <td>1.0</td>\n",
       "      <td>0.0</td>\n",
       "    </tr>\n",
       "    <tr>\n",
       "      <th>4</th>\n",
       "      <td>4.0</td>\n",
       "      <td>15409.0</td>\n",
       "      <td>-0.095</td>\n",
       "      <td>1.0</td>\n",
       "      <td>0.009231</td>\n",
       "      <td>0.292811</td>\n",
       "      <td>0.531</td>\n",
       "      <td>0.287273</td>\n",
       "      <td>0.436532</td>\n",
       "      <td>-1.051198</td>\n",
       "      <td>...</td>\n",
       "      <td>59.488550</td>\n",
       "      <td>0.098539</td>\n",
       "      <td>-1.351611</td>\n",
       "      <td>1.007421</td>\n",
       "      <td>1.007439</td>\n",
       "      <td>1.000012</td>\n",
       "      <td>1.007433</td>\n",
       "      <td>7440.1</td>\n",
       "      <td>1.0</td>\n",
       "      <td>0.0</td>\n",
       "    </tr>\n",
       "    <tr>\n",
       "      <th>...</th>\n",
       "      <td>...</td>\n",
       "      <td>...</td>\n",
       "      <td>...</td>\n",
       "      <td>...</td>\n",
       "      <td>...</td>\n",
       "      <td>...</td>\n",
       "      <td>...</td>\n",
       "      <td>...</td>\n",
       "      <td>...</td>\n",
       "      <td>...</td>\n",
       "      <td>...</td>\n",
       "      <td>...</td>\n",
       "      <td>...</td>\n",
       "      <td>...</td>\n",
       "      <td>...</td>\n",
       "      <td>...</td>\n",
       "      <td>...</td>\n",
       "      <td>...</td>\n",
       "      <td>...</td>\n",
       "      <td>...</td>\n",
       "      <td>...</td>\n",
       "    </tr>\n",
       "    <tr>\n",
       "      <th>782326</th>\n",
       "      <td>782331.0</td>\n",
       "      <td>5916119.0</td>\n",
       "      <td>-0.128</td>\n",
       "      <td>1.0</td>\n",
       "      <td>-0.004577</td>\n",
       "      <td>0.232897</td>\n",
       "      <td>0.346</td>\n",
       "      <td>0.228421</td>\n",
       "      <td>-0.008840</td>\n",
       "      <td>-1.529796</td>\n",
       "      <td>...</td>\n",
       "      <td>112.351017</td>\n",
       "      <td>-0.262185</td>\n",
       "      <td>-0.579971</td>\n",
       "      <td>1.000205</td>\n",
       "      <td>1.000205</td>\n",
       "      <td>1.000000</td>\n",
       "      <td>1.000205</td>\n",
       "      <td>0.0</td>\n",
       "      <td>2.0</td>\n",
       "      <td>1.0</td>\n",
       "    </tr>\n",
       "    <tr>\n",
       "      <th>782327</th>\n",
       "      <td>782332.0</td>\n",
       "      <td>5916129.0</td>\n",
       "      <td>0.066</td>\n",
       "      <td>1.0</td>\n",
       "      <td>0.002385</td>\n",
       "      <td>0.232169</td>\n",
       "      <td>0.346</td>\n",
       "      <td>0.227673</td>\n",
       "      <td>-0.100525</td>\n",
       "      <td>-1.507062</td>\n",
       "      <td>...</td>\n",
       "      <td>112.351017</td>\n",
       "      <td>-0.262185</td>\n",
       "      <td>-0.579971</td>\n",
       "      <td>1.000205</td>\n",
       "      <td>1.000205</td>\n",
       "      <td>1.000000</td>\n",
       "      <td>1.000205</td>\n",
       "      <td>0.0</td>\n",
       "      <td>2.0</td>\n",
       "      <td>1.0</td>\n",
       "    </tr>\n",
       "    <tr>\n",
       "      <th>782328</th>\n",
       "      <td>782333.0</td>\n",
       "      <td>5916139.0</td>\n",
       "      <td>0.028</td>\n",
       "      <td>1.0</td>\n",
       "      <td>0.015038</td>\n",
       "      <td>0.223786</td>\n",
       "      <td>0.346</td>\n",
       "      <td>0.219955</td>\n",
       "      <td>-0.188188</td>\n",
       "      <td>-1.390106</td>\n",
       "      <td>...</td>\n",
       "      <td>112.351017</td>\n",
       "      <td>-0.262185</td>\n",
       "      <td>-0.579971</td>\n",
       "      <td>1.000205</td>\n",
       "      <td>1.000205</td>\n",
       "      <td>1.000000</td>\n",
       "      <td>1.000205</td>\n",
       "      <td>0.0</td>\n",
       "      <td>2.0</td>\n",
       "      <td>1.0</td>\n",
       "    </tr>\n",
       "    <tr>\n",
       "      <th>782329</th>\n",
       "      <td>782334.0</td>\n",
       "      <td>5916149.0</td>\n",
       "      <td>-0.189</td>\n",
       "      <td>1.0</td>\n",
       "      <td>0.018308</td>\n",
       "      <td>0.219984</td>\n",
       "      <td>0.346</td>\n",
       "      <td>0.216487</td>\n",
       "      <td>-0.182705</td>\n",
       "      <td>-1.360011</td>\n",
       "      <td>...</td>\n",
       "      <td>112.351017</td>\n",
       "      <td>-0.262185</td>\n",
       "      <td>-0.579971</td>\n",
       "      <td>1.000205</td>\n",
       "      <td>1.000205</td>\n",
       "      <td>1.000000</td>\n",
       "      <td>1.000205</td>\n",
       "      <td>0.0</td>\n",
       "      <td>2.0</td>\n",
       "      <td>1.0</td>\n",
       "    </tr>\n",
       "    <tr>\n",
       "      <th>782330</th>\n",
       "      <td>782335.0</td>\n",
       "      <td>5916159.0</td>\n",
       "      <td>0.008</td>\n",
       "      <td>1.0</td>\n",
       "      <td>0.006962</td>\n",
       "      <td>0.212182</td>\n",
       "      <td>0.346</td>\n",
       "      <td>0.208178</td>\n",
       "      <td>-0.134322</td>\n",
       "      <td>-1.285432</td>\n",
       "      <td>...</td>\n",
       "      <td>112.351017</td>\n",
       "      <td>-0.262185</td>\n",
       "      <td>-0.579971</td>\n",
       "      <td>1.000205</td>\n",
       "      <td>1.000205</td>\n",
       "      <td>1.000000</td>\n",
       "      <td>1.000205</td>\n",
       "      <td>0.0</td>\n",
       "      <td>2.0</td>\n",
       "      <td>1.0</td>\n",
       "    </tr>\n",
       "  </tbody>\n",
       "</table>\n",
       "<p>782330 rows × 158 columns</p>\n",
       "</div>"
      ],
      "text/plain": [
       "           index  Unnamed: 0_x  Horiz_acc  id_x  av_horiz  sd_horiz  \\\n",
       "0            0.0       15369.0      0.238   1.0  0.026962  0.260338   \n",
       "1            1.0       15379.0     -0.303   1.0  0.014577  0.268270   \n",
       "2            2.0       15389.0      0.531   1.0  0.028538  0.285469   \n",
       "3            3.0       15399.0     -0.298   1.0  0.013115  0.292042   \n",
       "4            4.0       15409.0     -0.095   1.0  0.009231  0.292811   \n",
       "...          ...           ...        ...   ...       ...       ...   \n",
       "782326  782331.0     5916119.0     -0.128   1.0 -0.004577  0.232897   \n",
       "782327  782332.0     5916129.0      0.066   1.0  0.002385  0.232169   \n",
       "782328  782333.0     5916139.0      0.028   1.0  0.015038  0.223786   \n",
       "782329  782334.0     5916149.0     -0.189   1.0  0.018308  0.219984   \n",
       "782330  782335.0     5916159.0      0.008   1.0  0.006962  0.212182   \n",
       "\n",
       "        peak_horiz  rms_horiz  skew_horiz  kurt_horiz  ...    rms_temp  \\\n",
       "0            0.509   0.256702    0.211157   -0.798134  ...   59.488550   \n",
       "1            0.509   0.263464    0.262493   -0.918790  ...   59.488550   \n",
       "2            0.531   0.281376    0.308589   -1.007622  ...   59.488550   \n",
       "3            0.531   0.286670    0.398728   -1.052732  ...   59.488550   \n",
       "4            0.531   0.287273    0.436532   -1.051198  ...   59.488550   \n",
       "...            ...        ...         ...         ...  ...         ...   \n",
       "782326       0.346   0.228421   -0.008840   -1.529796  ...  112.351017   \n",
       "782327       0.346   0.227673   -0.100525   -1.507062  ...  112.351017   \n",
       "782328       0.346   0.219955   -0.188188   -1.390106  ...  112.351017   \n",
       "782329       0.346   0.216487   -0.182705   -1.360011  ...  112.351017   \n",
       "782330       0.346   0.208178   -0.134322   -1.285432  ...  112.351017   \n",
       "\n",
       "        skew_temp  kurt_temp  crest_temp  clear_temp  shape_temp  imp_temp  \\\n",
       "0        0.098539  -1.351611    1.007421    1.007439    1.000012  1.007433   \n",
       "1        0.098539  -1.351611    1.007421    1.007439    1.000012  1.007433   \n",
       "2        0.098539  -1.351611    1.007421    1.007439    1.000012  1.007433   \n",
       "3        0.098539  -1.351611    1.007421    1.007439    1.000012  1.007433   \n",
       "4        0.098539  -1.351611    1.007421    1.007439    1.000012  1.007433   \n",
       "...           ...        ...         ...         ...         ...       ...   \n",
       "782326  -0.262185  -0.579971    1.000205    1.000205    1.000000  1.000205   \n",
       "782327  -0.262185  -0.579971    1.000205    1.000205    1.000000  1.000205   \n",
       "782328  -0.262185  -0.579971    1.000205    1.000205    1.000000  1.000205   \n",
       "782329  -0.262185  -0.579971    1.000205    1.000205    1.000000  1.000205   \n",
       "782330  -0.262185  -0.579971    1.000205    1.000205    1.000000  1.000205   \n",
       "\n",
       "         RUL_y   id  time_group  \n",
       "0       7440.1  1.0         0.0  \n",
       "1       7440.1  1.0         0.0  \n",
       "2       7440.1  1.0         0.0  \n",
       "3       7440.1  1.0         0.0  \n",
       "4       7440.1  1.0         0.0  \n",
       "...        ...  ...         ...  \n",
       "782326     0.0  2.0         1.0  \n",
       "782327     0.0  2.0         1.0  \n",
       "782328     0.0  2.0         1.0  \n",
       "782329     0.0  2.0         1.0  \n",
       "782330     0.0  2.0         1.0  \n",
       "\n",
       "[782330 rows x 158 columns]"
      ]
     },
     "execution_count": 34,
     "metadata": {},
     "output_type": "execute_result"
    }
   ],
   "source": [
    "one_train"
   ]
  },
  {
   "cell_type": "code",
   "execution_count": 17,
   "metadata": {},
   "outputs": [],
   "source": [
    "from sklearn.ensemble import RandomForestClassifier"
   ]
  },
  {
   "cell_type": "code",
   "execution_count": 18,
   "metadata": {},
   "outputs": [],
   "source": [
    "from sklearn.linear_model import LogisticRegression"
   ]
  },
  {
   "cell_type": "code",
   "execution_count": 19,
   "metadata": {},
   "outputs": [],
   "source": [
    "def plot_features_weights(model, weights, feature_names):\n",
    "    \n",
    "\n",
    "    (px, py) = (8, 10) if len(weights) > 30 else (8, 5)\n",
    "    W = pd.DataFrame({'Weights':weights}, feature_names)\n",
    "    W_df = W.sort_values(by='Weights', ascending=True)\n",
    "    W_df.tail(10).plot(kind='barh', color='r', figsize=(px,py))\n",
    "    plt.xlabel(model)\n",
    "    plt.gca().legend_ = None"
   ]
  },
  {
   "cell_type": "code",
   "execution_count": 20,
   "metadata": {},
   "outputs": [],
   "source": [
    "def plot_residual(model, y_train, y_train_pred, y_test, y_test_pred):\n",
    "    plt.figure(figsize=(20,10))\n",
    "    plt.scatter(y_train_pred, y_train_pred - y_train, c='blue', marker='o', label='Training data')\n",
    "    plt.scatter(y_test_pred, y_test_pred - y_test, c='lightgreen', marker='s', label='Test data')\n",
    "    plt.xlabel('Predicted Values')\n",
    "    plt.ylabel('Residuals')\n",
    "    plt.legend(loc='upper left')\n",
    "    plt.hlines(y=0, xmin=-50, xmax=y_train.max()+50, color='red', lw=2)\n",
    "    plt.title(model + ' Residuals')\n",
    "    plt.show()"
   ]
  },
  {
   "cell_type": "code",
   "execution_count": 35,
   "metadata": {},
   "outputs": [
    {
     "data": {
      "text/plain": [
       "RandomForestClassifier(bootstrap=True, ccp_alpha=0.0, class_weight=None,\n",
       "                       criterion='gini', max_depth=6, max_features='auto',\n",
       "                       max_leaf_nodes=None, max_samples=None,\n",
       "                       min_impurity_decrease=0.0, min_impurity_split=None,\n",
       "                       min_samples_leaf=1, min_samples_split=100,\n",
       "                       min_weight_fraction_leaf=0.0, n_estimators=50, n_jobs=-1,\n",
       "                       oob_score=False, random_state=0, verbose=0,\n",
       "                       warm_start=False)"
      ]
     },
     "execution_count": 35,
     "metadata": {},
     "output_type": "execute_result"
    }
   ],
   "source": [
    "rf = RandomForestClassifier(random_state=0,max_depth=6,n_estimators=50,min_samples_split=100,n_jobs=-1)\n",
    "rf.fit(X_train, y_train)"
   ]
  },
  {
   "cell_type": "code",
   "execution_count": 41,
   "metadata": {},
   "outputs": [],
   "source": [
    "from sklearn.metrics import accuracy_score\n",
    "from sklearn.metrics import f1_score\n",
    "from sklearn.metrics import classification_report"
   ]
  },
  {
   "cell_type": "code",
   "execution_count": 40,
   "metadata": {},
   "outputs": [
    {
     "name": "stdout",
     "output_type": "stream",
     "text": [
      "accuracy training: 0.787, accuracy testing: 0.502\n",
      "F1 training: 0.815, F1 testing: 0.009\n"
     ]
    }
   ],
   "source": [
    "y_test_predict = rf.predict(X_test)\n",
    "y_train_predict = rf.predict(X_train)\n",
    "\n",
    "train_score = accuracy_score(y_train, y_train_predict)\n",
    "test_score = accuracy_score(y_test, y_test_predict)\n",
    "train_f1 = f1_score(y_train, y_train_predict)\n",
    "test_f1 = f1_score(y_test, y_test_predict)\n",
    "print('accuracy training: %.3f, accuracy testing: %.3f' % (\n",
    "      (train_score), (test_score)))\n",
    "print('F1 training: %.3f, F1 testing: %.3f' % (\n",
    "      (train_f1), (test_f1)))"
   ]
  },
  {
   "cell_type": "code",
   "execution_count": 44,
   "metadata": {},
   "outputs": [
    {
     "data": {
      "text/plain": [
       "[<matplotlib.lines.Line2D at 0x1c2c1bc3320>]"
      ]
     },
     "execution_count": 44,
     "metadata": {},
     "output_type": "execute_result"
    },
    {
     "data": {
      "image/png": "[encoded data removed]",
      "text/plain": [
       "<Figure size 432x288 with 1 Axes>"
      ]
     },
     "metadata": {
      "needs_background": "light"
     },
     "output_type": "display_data"
    }
   ],
   "source": [
    "plt.plot(y_test)\n",
    "plt.plot(y_test_predict)"
   ]
  },
  {
   "cell_type": "code",
   "execution_count": 42,
   "metadata": {},
   "outputs": [
    {
     "name": "stdout",
     "output_type": "stream",
     "text": [
      "              precision    recall  f1-score   support\n",
      "\n",
      "         0.0       0.50      1.00      0.67    115328\n",
      "         1.0       1.00      0.00      0.01    115328\n",
      "\n",
      "    accuracy                           0.50    230656\n",
      "   macro avg       0.75      0.50      0.34    230656\n",
      "weighted avg       0.75      0.50      0.34    230656\n",
      "\n"
     ]
    }
   ],
   "source": [
    "print(classification_report(y_test, y_test_predict))"
   ]
  },
  {
   "cell_type": "code",
   "execution_count": 45,
   "metadata": {},
   "outputs": [
    {
     "data": {
      "image/png": "[encoded data removed]",
      "text/plain": [
       "<Figure size 576x720 with 1 Axes>"
      ]
     },
     "metadata": {
      "needs_background": "light"
     },
     "output_type": "display_data"
    }
   ],
   "source": [
    "plot_features_weights('Random forest',rf.feature_importances_, X_train.columns)"
   ]
  },
  {
   "cell_type": "code",
   "execution_count": 46,
   "metadata": {},
   "outputs": [
    {
     "data": {
      "text/html": [
       "<div>\n",
       "<style scoped>\n",
       "    .dataframe tbody tr th:only-of-type {\n",
       "        vertical-align: middle;\n",
       "    }\n",
       "\n",
       "    .dataframe tbody tr th {\n",
       "        vertical-align: top;\n",
       "    }\n",
       "\n",
       "    .dataframe thead th {\n",
       "        text-align: right;\n",
       "    }\n",
       "</style>\n",
       "<table border=\"1\" class=\"dataframe\">\n",
       "  <thead>\n",
       "    <tr style=\"text-align: right;\">\n",
       "      <th></th>\n",
       "      <th>index</th>\n",
       "      <th>Unnamed: 0_x</th>\n",
       "      <th>Horiz_acc</th>\n",
       "      <th>id_x</th>\n",
       "      <th>av_horiz</th>\n",
       "      <th>sd_horiz</th>\n",
       "      <th>peak_horiz</th>\n",
       "      <th>rms_horiz</th>\n",
       "      <th>skew_horiz</th>\n",
       "      <th>kurt_horiz</th>\n",
       "      <th>...</th>\n",
       "      <th>rms_temp</th>\n",
       "      <th>skew_temp</th>\n",
       "      <th>kurt_temp</th>\n",
       "      <th>crest_temp</th>\n",
       "      <th>clear_temp</th>\n",
       "      <th>shape_temp</th>\n",
       "      <th>imp_temp</th>\n",
       "      <th>RUL_y</th>\n",
       "      <th>id</th>\n",
       "      <th>time_group</th>\n",
       "    </tr>\n",
       "  </thead>\n",
       "  <tbody>\n",
       "    <tr>\n",
       "      <th>0</th>\n",
       "      <td>0.0</td>\n",
       "      <td>15369.0</td>\n",
       "      <td>0.238</td>\n",
       "      <td>1.0</td>\n",
       "      <td>0.026962</td>\n",
       "      <td>0.260338</td>\n",
       "      <td>0.509</td>\n",
       "      <td>0.256702</td>\n",
       "      <td>0.211157</td>\n",
       "      <td>-0.798134</td>\n",
       "      <td>...</td>\n",
       "      <td>59.488550</td>\n",
       "      <td>0.098539</td>\n",
       "      <td>-1.351611</td>\n",
       "      <td>1.007421</td>\n",
       "      <td>1.007439</td>\n",
       "      <td>1.000012</td>\n",
       "      <td>1.007433</td>\n",
       "      <td>7440.1</td>\n",
       "      <td>1.0</td>\n",
       "      <td>0.0</td>\n",
       "    </tr>\n",
       "    <tr>\n",
       "      <th>1</th>\n",
       "      <td>1.0</td>\n",
       "      <td>15379.0</td>\n",
       "      <td>-0.303</td>\n",
       "      <td>1.0</td>\n",
       "      <td>0.014577</td>\n",
       "      <td>0.268270</td>\n",
       "      <td>0.509</td>\n",
       "      <td>0.263464</td>\n",
       "      <td>0.262493</td>\n",
       "      <td>-0.918790</td>\n",
       "      <td>...</td>\n",
       "      <td>59.488550</td>\n",
       "      <td>0.098539</td>\n",
       "      <td>-1.351611</td>\n",
       "      <td>1.007421</td>\n",
       "      <td>1.007439</td>\n",
       "      <td>1.000012</td>\n",
       "      <td>1.007433</td>\n",
       "      <td>7440.1</td>\n",
       "      <td>1.0</td>\n",
       "      <td>0.0</td>\n",
       "    </tr>\n",
       "    <tr>\n",
       "      <th>2</th>\n",
       "      <td>2.0</td>\n",
       "      <td>15389.0</td>\n",
       "      <td>0.531</td>\n",
       "      <td>1.0</td>\n",
       "      <td>0.028538</td>\n",
       "      <td>0.285469</td>\n",
       "      <td>0.531</td>\n",
       "      <td>0.281376</td>\n",
       "      <td>0.308589</td>\n",
       "      <td>-1.007622</td>\n",
       "      <td>...</td>\n",
       "      <td>59.488550</td>\n",
       "      <td>0.098539</td>\n",
       "      <td>-1.351611</td>\n",
       "      <td>1.007421</td>\n",
       "      <td>1.007439</td>\n",
       "      <td>1.000012</td>\n",
       "      <td>1.007433</td>\n",
       "      <td>7440.1</td>\n",
       "      <td>1.0</td>\n",
       "      <td>0.0</td>\n",
       "    </tr>\n",
       "    <tr>\n",
       "      <th>3</th>\n",
       "      <td>3.0</td>\n",
       "      <td>15399.0</td>\n",
       "      <td>-0.298</td>\n",
       "      <td>1.0</td>\n",
       "      <td>0.013115</td>\n",
       "      <td>0.292042</td>\n",
       "      <td>0.531</td>\n",
       "      <td>0.286670</td>\n",
       "      <td>0.398728</td>\n",
       "      <td>-1.052732</td>\n",
       "      <td>...</td>\n",
       "      <td>59.488550</td>\n",
       "      <td>0.098539</td>\n",
       "      <td>-1.351611</td>\n",
       "      <td>1.007421</td>\n",
       "      <td>1.007439</td>\n",
       "      <td>1.000012</td>\n",
       "      <td>1.007433</td>\n",
       "      <td>7440.1</td>\n",
       "      <td>1.0</td>\n",
       "      <td>0.0</td>\n",
       "    </tr>\n",
       "    <tr>\n",
       "      <th>4</th>\n",
       "      <td>4.0</td>\n",
       "      <td>15409.0</td>\n",
       "      <td>-0.095</td>\n",
       "      <td>1.0</td>\n",
       "      <td>0.009231</td>\n",
       "      <td>0.292811</td>\n",
       "      <td>0.531</td>\n",
       "      <td>0.287273</td>\n",
       "      <td>0.436532</td>\n",
       "      <td>-1.051198</td>\n",
       "      <td>...</td>\n",
       "      <td>59.488550</td>\n",
       "      <td>0.098539</td>\n",
       "      <td>-1.351611</td>\n",
       "      <td>1.007421</td>\n",
       "      <td>1.007439</td>\n",
       "      <td>1.000012</td>\n",
       "      <td>1.007433</td>\n",
       "      <td>7440.1</td>\n",
       "      <td>1.0</td>\n",
       "      <td>0.0</td>\n",
       "    </tr>\n",
       "    <tr>\n",
       "      <th>...</th>\n",
       "      <td>...</td>\n",
       "      <td>...</td>\n",
       "      <td>...</td>\n",
       "      <td>...</td>\n",
       "      <td>...</td>\n",
       "      <td>...</td>\n",
       "      <td>...</td>\n",
       "      <td>...</td>\n",
       "      <td>...</td>\n",
       "      <td>...</td>\n",
       "      <td>...</td>\n",
       "      <td>...</td>\n",
       "      <td>...</td>\n",
       "      <td>...</td>\n",
       "      <td>...</td>\n",
       "      <td>...</td>\n",
       "      <td>...</td>\n",
       "      <td>...</td>\n",
       "      <td>...</td>\n",
       "      <td>...</td>\n",
       "      <td>...</td>\n",
       "    </tr>\n",
       "    <tr>\n",
       "      <th>782326</th>\n",
       "      <td>782331.0</td>\n",
       "      <td>5916119.0</td>\n",
       "      <td>-0.128</td>\n",
       "      <td>1.0</td>\n",
       "      <td>-0.004577</td>\n",
       "      <td>0.232897</td>\n",
       "      <td>0.346</td>\n",
       "      <td>0.228421</td>\n",
       "      <td>-0.008840</td>\n",
       "      <td>-1.529796</td>\n",
       "      <td>...</td>\n",
       "      <td>112.351017</td>\n",
       "      <td>-0.262185</td>\n",
       "      <td>-0.579971</td>\n",
       "      <td>1.000205</td>\n",
       "      <td>1.000205</td>\n",
       "      <td>1.000000</td>\n",
       "      <td>1.000205</td>\n",
       "      <td>0.0</td>\n",
       "      <td>2.0</td>\n",
       "      <td>1.0</td>\n",
       "    </tr>\n",
       "    <tr>\n",
       "      <th>782327</th>\n",
       "      <td>782332.0</td>\n",
       "      <td>5916129.0</td>\n",
       "      <td>0.066</td>\n",
       "      <td>1.0</td>\n",
       "      <td>0.002385</td>\n",
       "      <td>0.232169</td>\n",
       "      <td>0.346</td>\n",
       "      <td>0.227673</td>\n",
       "      <td>-0.100525</td>\n",
       "      <td>-1.507062</td>\n",
       "      <td>...</td>\n",
       "      <td>112.351017</td>\n",
       "      <td>-0.262185</td>\n",
       "      <td>-0.579971</td>\n",
       "      <td>1.000205</td>\n",
       "      <td>1.000205</td>\n",
       "      <td>1.000000</td>\n",
       "      <td>1.000205</td>\n",
       "      <td>0.0</td>\n",
       "      <td>2.0</td>\n",
       "      <td>1.0</td>\n",
       "    </tr>\n",
       "    <tr>\n",
       "      <th>782328</th>\n",
       "      <td>782333.0</td>\n",
       "      <td>5916139.0</td>\n",
       "      <td>0.028</td>\n",
       "      <td>1.0</td>\n",
       "      <td>0.015038</td>\n",
       "      <td>0.223786</td>\n",
       "      <td>0.346</td>\n",
       "      <td>0.219955</td>\n",
       "      <td>-0.188188</td>\n",
       "      <td>-1.390106</td>\n",
       "      <td>...</td>\n",
       "      <td>112.351017</td>\n",
       "      <td>-0.262185</td>\n",
       "      <td>-0.579971</td>\n",
       "      <td>1.000205</td>\n",
       "      <td>1.000205</td>\n",
       "      <td>1.000000</td>\n",
       "      <td>1.000205</td>\n",
       "      <td>0.0</td>\n",
       "      <td>2.0</td>\n",
       "      <td>1.0</td>\n",
       "    </tr>\n",
       "    <tr>\n",
       "      <th>782329</th>\n",
       "      <td>782334.0</td>\n",
       "      <td>5916149.0</td>\n",
       "      <td>-0.189</td>\n",
       "      <td>1.0</td>\n",
       "      <td>0.018308</td>\n",
       "      <td>0.219984</td>\n",
       "      <td>0.346</td>\n",
       "      <td>0.216487</td>\n",
       "      <td>-0.182705</td>\n",
       "      <td>-1.360011</td>\n",
       "      <td>...</td>\n",
       "      <td>112.351017</td>\n",
       "      <td>-0.262185</td>\n",
       "      <td>-0.579971</td>\n",
       "      <td>1.000205</td>\n",
       "      <td>1.000205</td>\n",
       "      <td>1.000000</td>\n",
       "      <td>1.000205</td>\n",
       "      <td>0.0</td>\n",
       "      <td>2.0</td>\n",
       "      <td>1.0</td>\n",
       "    </tr>\n",
       "    <tr>\n",
       "      <th>782330</th>\n",
       "      <td>782335.0</td>\n",
       "      <td>5916159.0</td>\n",
       "      <td>0.008</td>\n",
       "      <td>1.0</td>\n",
       "      <td>0.006962</td>\n",
       "      <td>0.212182</td>\n",
       "      <td>0.346</td>\n",
       "      <td>0.208178</td>\n",
       "      <td>-0.134322</td>\n",
       "      <td>-1.285432</td>\n",
       "      <td>...</td>\n",
       "      <td>112.351017</td>\n",
       "      <td>-0.262185</td>\n",
       "      <td>-0.579971</td>\n",
       "      <td>1.000205</td>\n",
       "      <td>1.000205</td>\n",
       "      <td>1.000000</td>\n",
       "      <td>1.000205</td>\n",
       "      <td>0.0</td>\n",
       "      <td>2.0</td>\n",
       "      <td>1.0</td>\n",
       "    </tr>\n",
       "  </tbody>\n",
       "</table>\n",
       "<p>782330 rows × 158 columns</p>\n",
       "</div>"
      ],
      "text/plain": [
       "           index  Unnamed: 0_x  Horiz_acc  id_x  av_horiz  sd_horiz  \\\n",
       "0            0.0       15369.0      0.238   1.0  0.026962  0.260338   \n",
       "1            1.0       15379.0     -0.303   1.0  0.014577  0.268270   \n",
       "2            2.0       15389.0      0.531   1.0  0.028538  0.285469   \n",
       "3            3.0       15399.0     -0.298   1.0  0.013115  0.292042   \n",
       "4            4.0       15409.0     -0.095   1.0  0.009231  0.292811   \n",
       "...          ...           ...        ...   ...       ...       ...   \n",
       "782326  782331.0     5916119.0     -0.128   1.0 -0.004577  0.232897   \n",
       "782327  782332.0     5916129.0      0.066   1.0  0.002385  0.232169   \n",
       "782328  782333.0     5916139.0      0.028   1.0  0.015038  0.223786   \n",
       "782329  782334.0     5916149.0     -0.189   1.0  0.018308  0.219984   \n",
       "782330  782335.0     5916159.0      0.008   1.0  0.006962  0.212182   \n",
       "\n",
       "        peak_horiz  rms_horiz  skew_horiz  kurt_horiz  ...    rms_temp  \\\n",
       "0            0.509   0.256702    0.211157   -0.798134  ...   59.488550   \n",
       "1            0.509   0.263464    0.262493   -0.918790  ...   59.488550   \n",
       "2            0.531   0.281376    0.308589   -1.007622  ...   59.488550   \n",
       "3            0.531   0.286670    0.398728   -1.052732  ...   59.488550   \n",
       "4            0.531   0.287273    0.436532   -1.051198  ...   59.488550   \n",
       "...            ...        ...         ...         ...  ...         ...   \n",
       "782326       0.346   0.228421   -0.008840   -1.529796  ...  112.351017   \n",
       "782327       0.346   0.227673   -0.100525   -1.507062  ...  112.351017   \n",
       "782328       0.346   0.219955   -0.188188   -1.390106  ...  112.351017   \n",
       "782329       0.346   0.216487   -0.182705   -1.360011  ...  112.351017   \n",
       "782330       0.346   0.208178   -0.134322   -1.285432  ...  112.351017   \n",
       "\n",
       "        skew_temp  kurt_temp  crest_temp  clear_temp  shape_temp  imp_temp  \\\n",
       "0        0.098539  -1.351611    1.007421    1.007439    1.000012  1.007433   \n",
       "1        0.098539  -1.351611    1.007421    1.007439    1.000012  1.007433   \n",
       "2        0.098539  -1.351611    1.007421    1.007439    1.000012  1.007433   \n",
       "3        0.098539  -1.351611    1.007421    1.007439    1.000012  1.007433   \n",
       "4        0.098539  -1.351611    1.007421    1.007439    1.000012  1.007433   \n",
       "...           ...        ...         ...         ...         ...       ...   \n",
       "782326  -0.262185  -0.579971    1.000205    1.000205    1.000000  1.000205   \n",
       "782327  -0.262185  -0.579971    1.000205    1.000205    1.000000  1.000205   \n",
       "782328  -0.262185  -0.579971    1.000205    1.000205    1.000000  1.000205   \n",
       "782329  -0.262185  -0.579971    1.000205    1.000205    1.000000  1.000205   \n",
       "782330  -0.262185  -0.579971    1.000205    1.000205    1.000000  1.000205   \n",
       "\n",
       "         RUL_y   id  time_group  \n",
       "0       7440.1  1.0         0.0  \n",
       "1       7440.1  1.0         0.0  \n",
       "2       7440.1  1.0         0.0  \n",
       "3       7440.1  1.0         0.0  \n",
       "4       7440.1  1.0         0.0  \n",
       "...        ...  ...         ...  \n",
       "782326     0.0  2.0         1.0  \n",
       "782327     0.0  2.0         1.0  \n",
       "782328     0.0  2.0         1.0  \n",
       "782329     0.0  2.0         1.0  \n",
       "782330     0.0  2.0         1.0  \n",
       "\n",
       "[782330 rows x 158 columns]"
      ]
     },
     "execution_count": 46,
     "metadata": {},
     "output_type": "execute_result"
    }
   ],
   "source": [
    "one_train"
   ]
  },
  {
   "cell_type": "code",
   "execution_count": 50,
   "metadata": {},
   "outputs": [],
   "source": [
    "one_train = three_time_group(one_train)\n",
    "one_test = three_time_group(one_test)\n",
    "# one_train = one_train.reset_index()\n",
    "# one_test = one_test.reset_index()\n",
    "X_train = one_train.drop([\"index\",\"Unnamed: 0_x\",\"Unnamed: 0_y\",\"RUL_x\",\"RUL_y\",\"round_RUL\",\"id\",\"id_x\",\"id.1\",\"id.2\",\"time_group\"], axis=1)\n",
    "X_test = one_test.drop([\"index\",\"Unnamed: 0_x\",\"Unnamed: 0_y\",\"RUL_x\",\"RUL_y\",\"round_RUL\",\"id\",\"id_x\",\"id.1\",\"id.2\",\"time_group\"], axis=1)\n",
    "y_train = one_train[\"time_group\"]\n",
    "y_test = one_test[\"time_group\"]"
   ]
  },
  {
   "cell_type": "code",
   "execution_count": 54,
   "metadata": {},
   "outputs": [
    {
     "data": {
      "text/plain": [
       "[<matplotlib.lines.Line2D at 0x1c2c26d4358>]"
      ]
     },
     "execution_count": 54,
     "metadata": {},
     "output_type": "execute_result"
    },
    {
     "data": {
      "image/png": "[encoded data removed]",
      "text/plain": [
       "<Figure size 432x288 with 1 Axes>"
      ]
     },
     "metadata": {
      "needs_background": "light"
     },
     "output_type": "display_data"
    }
   ],
   "source": [
    "plt.plot(y_train)"
   ]
  },
  {
   "cell_type": "code",
   "execution_count": 55,
   "metadata": {},
   "outputs": [
    {
     "data": {
      "text/plain": [
       "RandomForestClassifier(bootstrap=True, ccp_alpha=0.0, class_weight=None,\n",
       "                       criterion='gini', max_depth=6, max_features='auto',\n",
       "                       max_leaf_nodes=None, max_samples=None,\n",
       "                       min_impurity_decrease=0.0, min_impurity_split=None,\n",
       "                       min_samples_leaf=1, min_samples_split=100,\n",
       "                       min_weight_fraction_leaf=0.0, n_estimators=50, n_jobs=-1,\n",
       "                       oob_score=False, random_state=0, verbose=0,\n",
       "                       warm_start=False)"
      ]
     },
     "execution_count": 55,
     "metadata": {},
     "output_type": "execute_result"
    }
   ],
   "source": [
    "rf = RandomForestClassifier(random_state=0,max_depth=6,n_estimators=50,min_samples_split=100,n_jobs=-1)\n",
    "rf.fit(X_train, y_train)"
   ]
  },
  {
   "cell_type": "code",
   "execution_count": 56,
   "metadata": {},
   "outputs": [
    {
     "name": "stdout",
     "output_type": "stream",
     "text": [
      "accuracy training: 0.687, accuracy testing: 0.502\n",
      "F1 training: 0.655, F1 testing: 0.337\n"
     ]
    }
   ],
   "source": [
    "y_test_predict = rf.predict(X_test)\n",
    "y_train_predict = rf.predict(X_train)\n",
    "\n",
    "train_score = accuracy_score(y_train, y_train_predict)\n",
    "test_score = accuracy_score(y_test, y_test_predict)\n",
    "train_f1 = f1_score(y_train, y_train_predict,average=\"weighted\")\n",
    "test_f1 = f1_score(y_test, y_test_predict,average=\"weighted\")\n",
    "print('accuracy training: %.3f, accuracy testing: %.3f' % (\n",
    "      (train_score), (test_score)))\n",
    "print('F1 training: %.3f, F1 testing: %.3f' % (\n",
    "      (train_f1), (test_f1)))"
   ]
  },
  {
   "cell_type": "code",
   "execution_count": 57,
   "metadata": {},
   "outputs": [
    {
     "data": {
      "image/png": "[encoded data removed]",
      "text/plain": [
       "<Figure size 576x720 with 1 Axes>"
      ]
     },
     "metadata": {
      "needs_background": "light"
     },
     "output_type": "display_data"
    }
   ],
   "source": [
    "plot_features_weights('Random forest',rf.feature_importances_, X_train.columns)"
   ]
  },
  {
   "cell_type": "code",
   "execution_count": 58,
   "metadata": {},
   "outputs": [],
   "source": [
    "one_train = four_time_group(one_train)\n",
    "one_test = four_time_group(one_test)\n",
    "#one_train = one_train.reset_index()\n",
    "#one_test = one_test.reset_index()\n",
    "X_train = one_train.drop([\"index\",\"Unnamed: 0_x\",\"Unnamed: 0_y\",\"RUL_x\",\"RUL_y\",\"round_RUL\",\"id\",\"id_x\",\"id.1\",\"id.2\",\"time_group\"], axis=1)\n",
    "X_test = one_test.drop([\"index\",\"Unnamed: 0_x\",\"Unnamed: 0_y\",\"RUL_x\",\"RUL_y\",\"round_RUL\",\"id\",\"id_x\",\"id.1\",\"id.2\",\"time_group\"], axis=1)\n",
    "y_train = one_train[\"time_group\"]\n",
    "y_test = one_test[\"time_group\"]"
   ]
  },
  {
   "cell_type": "code",
   "execution_count": 59,
   "metadata": {},
   "outputs": [
    {
     "data": {
      "text/plain": [
       "[<matplotlib.lines.Line2D at 0x1c2c197b278>]"
      ]
     },
     "execution_count": 59,
     "metadata": {},
     "output_type": "execute_result"
    },
    {
     "data": {
      "image/png": "[encoded data removed]",
      "text/plain": [
       "<Figure size 432x288 with 1 Axes>"
      ]
     },
     "metadata": {
      "needs_background": "light"
     },
     "output_type": "display_data"
    }
   ],
   "source": [
    "plt.plot(y_train)"
   ]
  },
  {
   "cell_type": "code",
   "execution_count": 61,
   "metadata": {},
   "outputs": [
    {
     "data": {
      "text/plain": [
       "RandomForestClassifier(bootstrap=True, ccp_alpha=0.0, class_weight=None,\n",
       "                       criterion='gini', max_depth=6, max_features='auto',\n",
       "                       max_leaf_nodes=None, max_samples=None,\n",
       "                       min_impurity_decrease=0.0, min_impurity_split=None,\n",
       "                       min_samples_leaf=1, min_samples_split=100,\n",
       "                       min_weight_fraction_leaf=0.0, n_estimators=50, n_jobs=-1,\n",
       "                       oob_score=False, random_state=0, verbose=0,\n",
       "                       warm_start=False)"
      ]
     },
     "execution_count": 61,
     "metadata": {},
     "output_type": "execute_result"
    }
   ],
   "source": [
    "rf = RandomForestClassifier(random_state=0,max_depth=6,n_estimators=50,min_samples_split=100,n_jobs=-1)\n",
    "rf.fit(X_train, y_train)"
   ]
  },
  {
   "cell_type": "code",
   "execution_count": 71,
   "metadata": {},
   "outputs": [
    {
     "data": {
      "text/plain": [
       "0.0    391163\n",
       "1.0    195519\n",
       "3.0     97824\n",
       "2.0     97824\n",
       "Name: time_group, dtype: int64"
      ]
     },
     "execution_count": 71,
     "metadata": {},
     "output_type": "execute_result"
    }
   ],
   "source": [
    "y_train.value_counts()"
   ]
  },
  {
   "cell_type": "code",
   "execution_count": 75,
   "metadata": {},
   "outputs": [
    {
     "data": {
      "text/plain": [
       "0.0    115328\n",
       "1.0     57664\n",
       "3.0     28928\n",
       "2.0     28736\n",
       "Name: time_group, dtype: int64"
      ]
     },
     "execution_count": 75,
     "metadata": {},
     "output_type": "execute_result"
    }
   ],
   "source": [
    "y_test.value_counts()"
   ]
  },
  {
   "cell_type": "code",
   "execution_count": 74,
   "metadata": {},
   "outputs": [
    {
     "data": {
      "text/plain": [
       "0.0    541725\n",
       "1.0    163224\n",
       "3.0     73421\n",
       "2.0      3960\n",
       "Name: 0, dtype: int64"
      ]
     },
     "execution_count": 74,
     "metadata": {},
     "output_type": "execute_result"
    }
   ],
   "source": [
    "pd.DataFrame(y_train_predict)[0].value_counts()"
   ]
  },
  {
   "cell_type": "code",
   "execution_count": 76,
   "metadata": {},
   "outputs": [
    {
     "data": {
      "text/plain": [
       "0.0    230319\n",
       "3.0       334\n",
       "1.0         3\n",
       "Name: 0, dtype: int64"
      ]
     },
     "execution_count": 76,
     "metadata": {},
     "output_type": "execute_result"
    }
   ],
   "source": [
    "pd.DataFrame(y_test_predict)[0].value_counts()"
   ]
  },
  {
   "cell_type": "code",
   "execution_count": 62,
   "metadata": {},
   "outputs": [
    {
     "name": "stdout",
     "output_type": "stream",
     "text": [
      "accuracy training: 0.617, accuracy testing: 0.501\n",
      "F1 training: 0.562, F1 testing: 0.336\n"
     ]
    }
   ],
   "source": [
    "y_test_predict = rf.predict(X_test)\n",
    "y_train_predict = rf.predict(X_train)\n",
    "\n",
    "train_score = accuracy_score(y_train, y_train_predict)\n",
    "test_score = accuracy_score(y_test, y_test_predict)\n",
    "train_f1 = f1_score(y_train, y_train_predict,average=\"weighted\")\n",
    "test_f1 = f1_score(y_test, y_test_predict,average=\"weighted\")\n",
    "print('accuracy training: %.3f, accuracy testing: %.3f' % (\n",
    "      (train_score), (test_score)))\n",
    "print('F1 training: %.3f, F1 testing: %.3f' % (\n",
    "      (train_f1), (test_f1)))"
   ]
  },
  {
   "cell_type": "code",
   "execution_count": 69,
   "metadata": {},
   "outputs": [
    {
     "data": {
      "text/plain": [
       "0         0.0\n",
       "1         0.0\n",
       "2         0.0\n",
       "3         0.0\n",
       "4         0.0\n",
       "         ... \n",
       "782326    3.0\n",
       "782327    3.0\n",
       "782328    3.0\n",
       "782329    3.0\n",
       "782330    3.0\n",
       "Name: time_group, Length: 782330, dtype: float64"
      ]
     },
     "execution_count": 69,
     "metadata": {},
     "output_type": "execute_result"
    }
   ],
   "source": [
    "y_train"
   ]
  },
  {
   "cell_type": "code",
   "execution_count": 70,
   "metadata": {},
   "outputs": [
    {
     "data": {
      "text/plain": [
       "[<matplotlib.lines.Line2D at 0x1c2c2b549b0>]"
      ]
     },
     "execution_count": 70,
     "metadata": {},
     "output_type": "execute_result"
    },
    {
     "data": {
      "image/png": "[encoded data removed]",
      "text/plain": [
       "<Figure size 720x360 with 1 Axes>"
      ]
     },
     "metadata": {
      "needs_background": "light"
     },
     "output_type": "display_data"
    }
   ],
   "source": [
    "plt.figure(figsize=(10,5))\n",
    "plt.plot(y_test)\n",
    "plt.plot(y_test_predict)"
   ]
  },
  {
   "cell_type": "code",
   "execution_count": null,
   "metadata": {},
   "outputs": [],
   "source": []
  },
  {
   "cell_type": "code",
   "execution_count": null,
   "metadata": {},
   "outputs": [],
   "source": []
  },
  {
   "cell_type": "code",
   "execution_count": null,
   "metadata": {},
   "outputs": [],
   "source": [
    "ans_df = pd.DataFrame(y_train)"
   ]
  },
  {
   "cell_type": "code",
   "execution_count": null,
   "metadata": {},
   "outputs": [],
   "source": [
    "ans_df[\"rf_predict\"] = y_train_predict"
   ]
  },
  {
   "cell_type": "code",
   "execution_count": null,
   "metadata": {},
   "outputs": [],
   "source": [
    "\n",
    "train_mape = mean_absolute_error(y_train, y_train_predict)\n",
    "test_mape = mean_absolute_error(y_test, y_test_predict)\n",
    "print('MAE training: %.3f, MAE testing: %.3f' % (\n",
    "      (train_mape), (test_mape)))"
   ]
  },
  {
   "cell_type": "code",
   "execution_count": null,
   "metadata": {},
   "outputs": [],
   "source": [
    "y_train = ans_df[ans_df[\"RUL\"]<500][\"RUL\"]\n",
    "y_train_predict = ans_df[ans_df[\"RUL\"]<500][\"rf_predict\"]\n",
    "train_mape = mean_absolute_error(y_train, y_train_predict)\n",
    "test_mape = mean_absolute_error(y_test, y_test_predict)\n",
    "print('MAE training: %.3f, MAE testing: %.3f' % (\n",
    "      (train_mape), (test_mape)))"
   ]
  },
  {
   "cell_type": "code",
   "execution_count": null,
   "metadata": {},
   "outputs": [],
   "source": [
    "y_train = ans_df[ans_df[\"RUL\"]<10000][\"RUL\"]\n",
    "y_train_predict = ans_df[ans_df[\"RUL\"]<10000][\"rf_predict\"]\n",
    "train_mape = mean_absolute_error(y_train, y_train_predict)\n",
    "test_mape = mean_absolute_error(y_test, y_test_predict)\n",
    "print('MAE training: %.3f, MAE testing: %.3f' % (\n",
    "      (train_mape), (test_mape)))"
   ]
  },
  {
   "cell_type": "code",
   "execution_count": null,
   "metadata": {},
   "outputs": [],
   "source": [
    "y_train = ans_df[ans_df[\"RUL\"]>10000][\"RUL\"]\n",
    "y_train_predict = ans_df[ans_df[\"RUL\"]>10000][\"rf_predict\"]\n",
    "train_mape = mean_absolute_error(y_train, y_train_predict)\n",
    "test_mape = mean_absolute_error(y_test, y_test_predict)\n",
    "print('MAE training: %.3f, MAE testing: %.3f' % (\n",
    "      (train_mape), (test_mape)))"
   ]
  },
  {
   "cell_type": "code",
   "execution_count": null,
   "metadata": {},
   "outputs": [],
   "source": [
    "ans_df[ans_df[\"RUL\"]>10000]"
   ]
  },
  {
   "cell_type": "code",
   "execution_count": null,
   "metadata": {},
   "outputs": [],
   "source": [
    "plt.scatter(ans_df.index,ans_df[\"RUL\"])"
   ]
  },
  {
   "cell_type": "code",
   "execution_count": null,
   "metadata": {},
   "outputs": [],
   "source": [
    "plot_features_weights('Random Forest Regressor', rf.feature_importances_, X_train.columns)"
   ]
  },
  {
   "cell_type": "code",
   "execution_count": null,
   "metadata": {},
   "outputs": [],
   "source": [
    "plot_residual('Random Forest Regressor',y_train, y_train_predict, y_test, y_test_predict)"
   ]
  },
  {
   "cell_type": "code",
   "execution_count": null,
   "metadata": {},
   "outputs": [],
   "source": [
    "y_train"
   ]
  },
  {
   "cell_type": "code",
   "execution_count": null,
   "metadata": {},
   "outputs": [],
   "source": [
    "y_train_predict "
   ]
  },
  {
   "cell_type": "code",
   "execution_count": null,
   "metadata": {},
   "outputs": [],
   "source": [
    "mean_absolute_percentage_error"
   ]
  },
  {
   "cell_type": "code",
   "execution_count": null,
   "metadata": {},
   "outputs": [],
   "source": [
    "X_train.isnull().values.any()"
   ]
  },
  {
   "cell_type": "code",
   "execution_count": null,
   "metadata": {},
   "outputs": [],
   "source": [
    "# 計算相關係數\n",
    "corr = one_train.corr()\n",
    "mask = np.triu(np.ones_like(corr, dtype=np.bool))\n",
    "f, ax = plt.subplots(figsize=(11, 9))\n",
    "cmap = sns.diverging_palette(220, 10, as_cmap=True)\n",
    "sns.heatmap(corr, mask=mask, cmap=cmap, vmax=.3, center=0,\n",
    "            square=True, linewidths=.5, cbar_kws={\"shrink\": .5})"
   ]
  },
  {
   "cell_type": "code",
   "execution_count": null,
   "metadata": {},
   "outputs": [],
   "source": [
    "plt.figure(figsize=(10,40))\n",
    "cmap = sns.diverging_palette(220, 10, as_cmap=True)\n",
    "sns.heatmap(pd.DataFrame(corr[\"RUL\"].sort_values(ascending=False)), cmap=cmap, vmax=.3, center=0,\n",
    "            square=True, linewidths=.5, cbar_kws={\"shrink\": .5})"
   ]
  },
  {
   "cell_type": "code",
   "execution_count": null,
   "metadata": {},
   "outputs": [],
   "source": [
    "plt.scatter(one_train[\"RUL\"],one_train[\"p2ph_vert\"])"
   ]
  },
  {
   "cell_type": "code",
   "execution_count": null,
   "metadata": {},
   "outputs": [],
   "source": [
    "plt.scatter(one_train[\"RUL\"],one_train[\"av_sum\"])"
   ]
  }
 ],
 "metadata": {
  "kernelspec": {
   "display_name": "Python 3",
   "language": "python",
   "name": "python3"
  },
  "language_info": {
   "codemirror_mode": {
    "name": "ipython",
    "version": 3
   },
   "file_extension": ".py",
   "mimetype": "text/x-python",
   "name": "python",
   "nbconvert_exporter": "python",
   "pygments_lexer": "ipython3",
   "version": "3.6.10"
  }
 },
 "nbformat": 4,
 "nbformat_minor": 4
}
